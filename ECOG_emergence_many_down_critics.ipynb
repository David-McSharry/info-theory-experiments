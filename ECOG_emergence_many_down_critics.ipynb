{
 "cells": [
  {
   "cell_type": "code",
   "execution_count": 1,
   "metadata": {},
   "outputs": [
    {
     "name": "stdout",
     "output_type": "stream",
     "text": [
      "cpu\n"
     ]
    },
    {
     "data": {
      "text/plain": [
       "<torch._C.Generator at 0x115070590>"
      ]
     },
     "execution_count": 1,
     "metadata": {},
     "output_type": "execute_result"
    }
   ],
   "source": [
    "import torch\n",
    "import lovely_tensors as lt\n",
    "import wandb\n",
    "import tqdm\n",
    "from models import (SupervenientFeatureNetwork,\n",
    "                    CLUB,\n",
    "                    DecoupledSmileMIEstimator,\n",
    "                    DownwardSmileMIEstimator,\n",
    "                    SkipConnectionSupervenientFeatureNetwork\n",
    "                    )\n",
    "lt.monkey_patch()\n",
    "device = torch.device(\"cuda\" if torch.cuda.is_available() else \"cpu\")\n",
    "from utils import ECoGDataset\n",
    "torch.cuda.empty_cache()\n",
    "\n",
    "print(device)\n",
    "\n",
    "torch.manual_seed(0)"
   ]
  },
  {
   "cell_type": "code",
   "execution_count": 2,
   "metadata": {},
   "outputs": [],
   "source": [
    "dataset = ECoGDataset()"
   ]
  },
  {
   "cell_type": "code",
   "execution_count": null,
   "metadata": {},
   "outputs": [],
   "source": [
    "\n",
    "# config =  {'batch_size': 1000, 'feature_size': 8, 'clip': 1, 'critic_output_size': 20, 'downward_hidden_sizes_v_critic': [192,192,192,192], 'downward_hidden_sizes_xi_critic': [164,164,164,164], 'feature_hidden_sizes': [576,576,576,576], 'decoupled_critic_hidden_sizes': [113,113,113,113], 'feature_lr': 0.0008501232325785077, 'decoupled_critic_lr': 0.00016297738002821739, 'downward_lr': 7.91160518491613e-05, 'update_f_every_N_steps': 1, 'weight_decay': 1.4496890117592044e-05, 'bias': True, 'num_atoms': 64}"
   ]
  },
  {
   "cell_type": "markdown",
   "metadata": {},
   "source": [
    "# Train a feature network for a given config"
   ]
  },
  {
   "cell_type": "code",
   "execution_count": 11,
   "metadata": {},
   "outputs": [],
   "source": [
    "def train_feature_network(config, feature_network):\n",
    "\n",
    "    trainloader = torch.utils.data.DataLoader(dataset, batch_size=config['batch_size'], shuffle=True)\n",
    "\n",
    "    wandb.init(project=\"getting-figures\", config=config)\n",
    "\n",
    "    decoupled_MI_estimator = DecoupledSmileMIEstimator(\n",
    "        feature_size=config['feature_size'],\n",
    "        critic_output_size=config['critic_output_size'],\n",
    "        hidden_sizes=config['decoupled_critic_hidden_sizes'],\n",
    "        clip=config['clip'],\n",
    "        include_bias=config['bias'],\n",
    "        add_spec_norm=config['add_spec_norm_decoupled']\n",
    "        ).to(device)\n",
    "    downward_MI_estimators = [\n",
    "        DownwardSmileMIEstimator(\n",
    "            feature_size=config['feature_size'],\n",
    "            critic_output_size=config['critic_output_size'],\n",
    "            hidden_sizes_v_critic=config['downward_hidden_sizes_v_critic'],\n",
    "            hidden_sizes_xi_critic=config['downward_hidden_sizes_xi_critic'],\n",
    "            clip=config['clip'],\n",
    "            include_bias=config['bias'],\n",
    "            add_spec_norm=config['add_spec_norm_downward']\n",
    "            ).to(device) \n",
    "        for _ in range(config['num_atoms'])\n",
    "    ]\n",
    "\n",
    "\n",
    "\n",
    "    feature_optimizer = torch.optim.Adam(\n",
    "        feature_network.parameters(),\n",
    "        lr=config[\"feature_lr\"],\n",
    "        weight_decay=config[\"weight_decay\"]\n",
    "    )\n",
    "    decoupled_optimizer = torch.optim.Adam(\n",
    "        decoupled_MI_estimator.parameters(),\n",
    "        lr=config[\"decoupled_critic_lr\"],\n",
    "        weight_decay=config[\"weight_decay\"]\n",
    "    )\n",
    "    downward_optims = [\n",
    "        torch.optim.Adam(\n",
    "            dc.parameters(),\n",
    "            lr=config[\"downward_lr\"],\n",
    "            weight_decay=config[\"weight_decay\"]\n",
    "        ) \n",
    "        for dc in downward_MI_estimators\n",
    "    ]\n",
    "\n",
    "\n",
    "    # TODO: figure out why only f network is being watched, I would like to keep a closer eye on the grad n params.\n",
    "    # TODO: Look at how GANs are trained with pytorch and make sure I'm not doing anything unreasonable.\n",
    "    # Eg, https://github.com/eriklindernoren/PyTorch-GAN/blob/master/implementations/gan/gan.py \n",
    "    # ^ this does not require retain_graph=True, so maybe this can be optomized somehow\n",
    "    wandb.watch(feature_network, log='all')\n",
    "    wandb.watch(decoupled_MI_estimator, log=\"all\")\n",
    "    for dc in downward_MI_estimators:\n",
    "        wandb.watch(dc, log='all')\n",
    "\n",
    "    ##\n",
    "    ## TRAIN FEATURE NETWORK\n",
    "    ##\n",
    "\n",
    "    epochs = config['epochs']\n",
    "\n",
    "    for _ in tqdm.tqdm(range(epochs), desc='Training'):\n",
    "        for batch_num, batch in enumerate(trainloader):\n",
    "            x0 = batch[:, 0].to(device).float()\n",
    "            x1 = batch[:, 1].to(device).float()\n",
    "            v0 = feature_network(x0).detach()\n",
    "            v1 = feature_network(x1).detach()\n",
    "\n",
    "            # update decoupled critic\n",
    "            decoupled_optimizer.zero_grad()\n",
    "            decoupled_MI = decoupled_MI_estimator(v0, v1)\n",
    "            decoupled_loss = -decoupled_MI\n",
    "            decoupled_loss.backward(retain_graph=True)\n",
    "            decoupled_optimizer.step()\n",
    "\n",
    "            # update each downward critic \n",
    "            for i in range(config['num_atoms']):\n",
    "                downward_optims[i].zero_grad()\n",
    "                channel_i = x0[:, i].unsqueeze(1)\n",
    "                downward_MI_i = downward_MI_estimators[i](v1, channel_i)\n",
    "                downward_loss = - downward_MI_i\n",
    "                downward_loss.backward(retain_graph=True)\n",
    "                downward_optims[i].step()\n",
    "                wandb.log({\n",
    "                    f\"downward_MI_{i}\": downward_MI_i   \n",
    "                })\n",
    "\n",
    "            # update feature network   \n",
    "            \n",
    "            v0 = feature_network(x0)\n",
    "            v1 = feature_network(x1)\n",
    "            \n",
    "            feature_optimizer.zero_grad()\n",
    "            sum_downward_MI = 0\n",
    "\n",
    "            # MIs = []\n",
    "            for i in range(config['num_atoms']):\n",
    "                channel_i = x0[:, i].unsqueeze(1)\n",
    "                channel_i_MI = downward_MI_estimators[i](v1, channel_i)\n",
    "                sum_downward_MI += channel_i_MI\n",
    "                # MIs.append(channel_i_MI)\n",
    "\n",
    "            decoupled_MI1 = decoupled_MI_estimator(v0, v1)\n",
    "\n",
    "            #clipped_min_MIs = max(0, min(MIs))\n",
    "\n",
    "            Psi = decoupled_MI1 - sum_downward_MI #+ (config['num_atoms'] - 1) * clipped_min_MIs\n",
    "            feature_loss = -Psi\n",
    "\n",
    "            if batch_num % config['update_f_every_N_steps'] == 0:\n",
    "                feature_loss.backward()\n",
    "                feature_optimizer.step()\n",
    "\n",
    "            wandb.log({\n",
    "                \"decoupled_MI\": decoupled_MI1,\n",
    "                \"sum_downward_MI\": sum_downward_MI,\n",
    "                \"Psi\": Psi,\n",
    "            })\n",
    "\n",
    "    torch.save(feature_network.state_dict(), f\"models/ecog_feature_network_{wandb.run.name}.pth\")\n",
    "    \n",
    "    return feature_network\n",
    "\n"
   ]
  },
  {
   "cell_type": "code",
   "execution_count": 12,
   "metadata": {},
   "outputs": [],
   "source": [
    "config = {\n",
    "    \"batch_size\": 1000,\n",
    "    \"num_atoms\": 64,\n",
    "    \"feature_size\": 3,\n",
    "    \"clip\": 5,\n",
    "    \"epochs\": 1,\n",
    "    \"critic_output_size\": 32,\n",
    "    \"downward_hidden_sizes_v_critic\": [512, 512, 512],\n",
    "    \"downward_hidden_sizes_xi_critic\": [512, 512, 512],\n",
    "    \"feature_hidden_sizes\": [256, 256, 256],\n",
    "    \"decoupled_critic_hidden_sizes\": [512, 512, 512],\n",
    "    \"feature_lr\": 1e-5,\n",
    "    \"decoupled_critic_lr\": 1e-3,\n",
    "    \"downward_lr\": 1e-4,    \n",
    "    \"bias\": True,\n",
    "    \"update_f_every_N_steps\": 5,\n",
    "    \"weight_decay\": 0,\n",
    "    \"add_spec_norm_downward\": False,\n",
    "    \"add_spec_norm_decoupled\": False\n",
    "}\n"
   ]
  },
  {
   "cell_type": "code",
   "execution_count": 13,
   "metadata": {},
   "outputs": [
    {
     "data": {
      "text/html": [
       "Finishing last run (ID:8s7pql4p) before initializing another..."
      ],
      "text/plain": [
       "<IPython.core.display.HTML object>"
      ]
     },
     "metadata": {},
     "output_type": "display_data"
    },
    {
     "data": {
      "text/html": [
       " View run <strong style=\"color:#cdcd00\">scruffy-looking-cruiser-153</strong> at: <a href='https://wandb.ai/dmcsharry/getting-figures/runs/8s7pql4p' target=\"_blank\">https://wandb.ai/dmcsharry/getting-figures/runs/8s7pql4p</a><br/> View project at: <a href='https://wandb.ai/dmcsharry/getting-figures' target=\"_blank\">https://wandb.ai/dmcsharry/getting-figures</a><br/>Synced 5 W&B file(s), 0 media file(s), 0 artifact file(s) and 0 other file(s)"
      ],
      "text/plain": [
       "<IPython.core.display.HTML object>"
      ]
     },
     "metadata": {},
     "output_type": "display_data"
    },
    {
     "data": {
      "text/html": [
       "Find logs at: <code>./wandb/run-20240505_210427-8s7pql4p/logs</code>"
      ],
      "text/plain": [
       "<IPython.core.display.HTML object>"
      ]
     },
     "metadata": {},
     "output_type": "display_data"
    },
    {
     "data": {
      "text/html": [
       "Successfully finished last run (ID:8s7pql4p). Initializing new run:<br/>"
      ],
      "text/plain": [
       "<IPython.core.display.HTML object>"
      ]
     },
     "metadata": {},
     "output_type": "display_data"
    },
    {
     "data": {
      "text/html": [
       "Tracking run with wandb version 0.16.6"
      ],
      "text/plain": [
       "<IPython.core.display.HTML object>"
      ]
     },
     "metadata": {},
     "output_type": "display_data"
    },
    {
     "data": {
      "text/html": [
       "Run data is saved locally in <code>/Users/davidmcsharry/dev/imperial/info-theory-experiments/wandb/run-20240505_210610-75pxdrd3</code>"
      ],
      "text/plain": [
       "<IPython.core.display.HTML object>"
      ]
     },
     "metadata": {},
     "output_type": "display_data"
    },
    {
     "data": {
      "text/html": [
       "Syncing run <strong><a href='https://wandb.ai/dmcsharry/getting-figures/runs/75pxdrd3' target=\"_blank\">star-lightsaber-154</a></strong> to <a href='https://wandb.ai/dmcsharry/getting-figures' target=\"_blank\">Weights & Biases</a> (<a href='https://wandb.me/run' target=\"_blank\">docs</a>)<br/>"
      ],
      "text/plain": [
       "<IPython.core.display.HTML object>"
      ]
     },
     "metadata": {},
     "output_type": "display_data"
    },
    {
     "data": {
      "text/html": [
       " View project at <a href='https://wandb.ai/dmcsharry/getting-figures' target=\"_blank\">https://wandb.ai/dmcsharry/getting-figures</a>"
      ],
      "text/plain": [
       "<IPython.core.display.HTML object>"
      ]
     },
     "metadata": {},
     "output_type": "display_data"
    },
    {
     "data": {
      "text/html": [
       " View run at <a href='https://wandb.ai/dmcsharry/getting-figures/runs/75pxdrd3' target=\"_blank\">https://wandb.ai/dmcsharry/getting-figures/runs/75pxdrd3</a>"
      ],
      "text/plain": [
       "<IPython.core.display.HTML object>"
      ]
     },
     "metadata": {},
     "output_type": "display_data"
    },
    {
     "name": "stderr",
     "output_type": "stream",
     "text": [
      "Training: 0it [00:00, ?it/s]\n"
     ]
    }
   ],
   "source": [
    "\n",
    "feature_newtork = SkipConnectionSupervenientFeatureNetwork(\n",
    "    num_atoms=config['num_atoms'],\n",
    "    feature_size=config['feature_size'],\n",
    "    hidden_sizes=config['feature_hidden_sizes'],\n",
    "    include_bias=config['bias']\n",
    ").to(device)\n",
    "\n",
    "feature_network = train_feature_network(config, feature_newtork)"
   ]
  },
  {
   "cell_type": "markdown",
   "metadata": {},
   "source": [
    "# Finding the MI between different channels\n",
    "\n",
    "I( xt_i ; xt_j)"
   ]
  },
  {
   "cell_type": "code",
   "execution_count": null,
   "metadata": {},
   "outputs": [],
   "source": [
    "\n",
    "dataset = torch.load(\"data/ecog_data_pairs.pth\")\n",
    "trainloader = torch.utils.data.DataLoader(dataset, batch_size=2000, shuffle=False)\n",
    "\n",
    "wandb.init(project=\"Interchannel MI\")\n",
    "\n",
    "channel_MI_estimator = DownwardSmileMIEstimator(\n",
    "    feature_size=1, # replacing the feature with a channel which is dim 1\n",
    "    critic_output_size=8,\n",
    "    hidden_sizes_v_critic=[64, 512, 1028, 512],\n",
    "    hidden_sizes_xi_critic=[64, 512, 1028, 512],\n",
    "    clip=5,\n",
    "    include_bias=True\n",
    ").to(device) \n",
    "\n",
    "channel_MI_optim = torch.optim.Adam(channel_MI_estimator.parameters(), lr=1e-5, weight_decay=1e-6)\n",
    "\n",
    "epochs = 20\n",
    "\n",
    "channels = (1,2)\n",
    "\n",
    "for _ in tqdm.tqdm(range(epochs), desc='Training a SMILE estimator for interchannel MI'):\n",
    "    for batch_num, batch in enumerate(trainloader):\n",
    "        x0 = batch[:, 0].to(device).float()\n",
    "        x1 = batch[:, 1].to(device).float()\n",
    "\n",
    "        channel_i = x0[:, channels[0]].unsqueeze(1)\n",
    "        channel_j = x0[:, channels[1]].unsqueeze(1)\n",
    "\n",
    "        MI = channel_MI_estimator(channel_j, channel_i)\n",
    "        loss = -MI \n",
    "        loss.backward()\n",
    "        channel_MI_optim.step()\n",
    "        wandb.log({\n",
    "            \"Inter-channel MI\": MI\n",
    "        })\n"
   ]
  },
  {
   "cell_type": "markdown",
   "metadata": {},
   "source": [
    "# Estimating Psi given a frozen feature network"
   ]
  },
  {
   "cell_type": "code",
   "execution_count": null,
   "metadata": {},
   "outputs": [],
   "source": [
    "\n",
    "def find_true_Psi(feature_network, feature_config, run_id=None):\n",
    "\n",
    "    config = {\n",
    "        \"batch_size\": 600,\n",
    "        \"num_atoms\": 64,\n",
    "        \"feature_size\": feature_config['feature_size'],\n",
    "        \"clip\": 5,\n",
    "        \"critic_output_size\": 16,\n",
    "        \"downward_hidden_sizes_v_critic\": [1028, 1028, 512, 64],\n",
    "        \"downward_hidden_sizes_xi_critic\": [512, 512, 512, 64],\n",
    "        \"feature_hidden_sizes\": [1028, 1028, 256],\n",
    "        \"decoupled_critis_hidden_sizes\": [512, 512, 128],\n",
    "        \"decoupled_critic_lr\": 1e-4,\n",
    "        \"downward_lr\": 1e-4,\n",
    "        \"bias\": True,\n",
    "        \"weight_decay\": 1e-6,\n",
    "        \"original_run_id\": run_id,\n",
    "        \"add_spec_norm_downward\": False,\n",
    "        \"add_spec_norm_decoupled\": False\n",
    "    }\n",
    "\n",
    "    trainloader = torch.utils.data.DataLoader(dataset, batch_size=config['batch_size'], shuffle=True)\n",
    "\n",
    "    wandb.init(project=\"Finding-true-Psi-for-f\", config=config, id=run_id)\n",
    "\n",
    "    decoupled_critic = DecoupledSmileMIEstimator(\n",
    "        feature_size=config['feature_size'],\n",
    "        critic_output_size=config['critic_output_size'],\n",
    "        hidden_sizes=config['decoupled_critis_hidden_sizes'],\n",
    "        clip=config['clip'],\n",
    "        include_bias=config['bias'],\n",
    "        add_spec_norm=config['add_spec_norm_decoupled']\n",
    "        ).to(device)\n",
    "\n",
    "    downward_critics = [\n",
    "        DownwardSmileMIEstimator(\n",
    "            feature_size=config['feature_size'],\n",
    "            critic_output_size=config['critic_output_size'],\n",
    "            hidden_sizes_v_critic=config['downward_hidden_sizes_v_critic'],\n",
    "            hidden_sizes_xi_critic=config['downward_hidden_sizes_xi_critic'],\n",
    "            clip=config['clip'],\n",
    "            include_bias=config['bias'],\n",
    "            add_spec_norm=config['add_spec_norm_downward']\n",
    "            ).to(device) \n",
    "        for _ in range(config['num_atoms'])\n",
    "    ]\n",
    "\n",
    "    downward_optims = [\n",
    "        torch.optim.Adam(\n",
    "            dc.parameters(),\n",
    "            lr=config[\"downward_lr\"],\n",
    "            weight_decay=config[\"weight_decay\"]\n",
    "        ) \n",
    "        for dc in downward_critics\n",
    "    ]\n",
    "\n",
    "    decoupled_optimizer = torch.optim.Adam(\n",
    "        decoupled_critic.parameters(),\n",
    "        lr=config[\"decoupled_critic_lr\"],\n",
    "        weight_decay=config[\"weight_decay\"]\n",
    "    )\n",
    "\n",
    "    # TODO: figure out why only f network is being watched, I would like to keep a closer eye on the grad n params.\n",
    "    # TODO: Look at how GANs are trained with pytorch and make sure I'm not doing anything unreasonable.\n",
    "    # Eg, https://github.com/eriklindernoren/PyTorch-GAN/blob/master/implementations/gan/gan.py \n",
    "    # ^ this does not require retain_graph=True, so maybe this can be optomized somehow\n",
    "    wandb.watch(decoupled_critic, log=\"all\")\n",
    "    for dc in downward_critics:\n",
    "        wandb.watch(dc, log='all')\n",
    "\n",
    "    epochs = 5\n",
    "\n",
    "    for _ in tqdm.tqdm(range(epochs), desc='Training'):\n",
    "        for _, batch in enumerate(trainloader):\n",
    "            x0 = batch[:, 0].to(device).float()\n",
    "            x1 = batch[:, 1].to(device).float()\n",
    "\n",
    "            # update decoupled critic\n",
    "\n",
    "            v0 = feature_network(x0)\n",
    "            v1 = feature_network(x1) \n",
    "\n",
    "            decoupled_optimizer.zero_grad()\n",
    "            decoupled_MI = decoupled_critic(v0, v1)\n",
    "            decoupled_loss = -decoupled_MI\n",
    "            decoupled_loss.backward(retain_graph=True)\n",
    "            decoupled_optimizer.step()\n",
    "\n",
    "\n",
    "            # update each downward critic \n",
    "\n",
    "            MIs = []\n",
    "\n",
    "            for i in range(config['num_atoms']):\n",
    "                downward_optims[i].zero_grad()\n",
    "                channel_i = x0[:, i].unsqueeze(1)\n",
    "                downward_MI_i = downward_critics[i](v1, channel_i)\n",
    "                # add spectral norm to the loss\n",
    "                downward_loss = - downward_MI_i\n",
    "                downward_loss.backward(retain_graph=True)\n",
    "                downward_optims[i].step()\n",
    "                wandb.log({\n",
    "                    f\"downward_MI_{i}\": downward_MI_i   \n",
    "                })\n",
    "                MIs.append(downward_MI_i)\n",
    "\n",
    "            # update feature network   \n",
    "\n",
    "            min_MI = min(MIs)\n",
    "            clipped_min_MIs = max(0, min_MI)\n",
    "\n",
    "            sum_downward_MI = 0\n",
    "\n",
    "            for i in range(config['num_atoms']):\n",
    "                channel_i = x0[:, i].unsqueeze(1)\n",
    "                sum_downward_MI += downward_critics[i](v1, channel_i)\n",
    "\n",
    "            decoupled_MI1 = decoupled_critic(v0, v1)\n",
    "\n",
    "            Psi = decoupled_MI1 - sum_downward_MI + (config['num_atoms'] - 1) * clipped_min_MIs\n",
    "\n",
    "            wandb.log({\n",
    "                \"decoupled_MI\": decoupled_MI1,\n",
    "                \"sum_downward_MI\": sum_downward_MI,\n",
    "                \"Psi\": Psi,\n",
    "            })\n",
    "        \n",
    "    return Psi\n",
    "\n"
   ]
  },
  {
   "cell_type": "code",
   "execution_count": null,
   "metadata": {},
   "outputs": [],
   "source": [
    "# load feature network\n",
    "feature_network = SupervenientFeatureNetwork(\n",
    "    num_atoms=config['num_atoms'],\n",
    "    feature_size=config['feature_size'],\n",
    "    hidden_sizes=config['feature_hidden_sizes'],\n",
    "    include_bias=config['bias']\n",
    "    ).to(device)\n",
    "\n",
    "\n",
    "model_path = \"/Users/davidmcsharry/dev/imperial/info-theory-experiments/emergent_feature_network_omg.pth\"\n",
    "\n",
    "\n",
    "feature_network.load_state_dict(torch.load(model_path, map_location=torch.device('cpu')))\n",
    "\n",
    "\n",
    "Psi = find_true_Psi(feature_network, feature_config=config)"
   ]
  },
  {
   "cell_type": "code",
   "execution_count": null,
   "metadata": {},
   "outputs": [],
   "source": [
    "\n",
    "import optuna\n",
    "def objective(trial):\n",
    "\n",
    "    config = {\n",
    "        \"batch_size\": trial.suggest_categorical(\"batch_size\", [500, 1000, 2000]),\n",
    "        \"num_atoms\": 64,\n",
    "        \"feature_size\": trial.suggest_categorical(\"feature_size\", [2, 4, 8, 16]),\n",
    "        \"clip\": trial.suggest_int(\"clip\", 1, 10),\n",
    "        \"critic_output_size\": trial.suggest_int(\"critic_output_size\", 8, 64, log=True),\n",
    "        \"downward_hidden_sizes_v_critic\": [trial.suggest_int(\"downward_hidden_size_v\", 64, 512, log=True) for _ in range(3)],\n",
    "        \"downward_hidden_sizes_xi_critic\": [trial.suggest_int(\"downward_hidden_size_xi\", 32, 256, log=True) for _ in range(3)],\n",
    "        \"feature_hidden_sizes\": [trial.suggest_int(\"feature_hidden_size\", 256, 1024, log=True) for _ in range(4)],\n",
    "        \"decoupled_critis_hidden_sizes\": [trial.suggest_int(\"decoupled_critic_hidden_size\", 64, 512, log=True) for _ in range(3)],\n",
    "        \"feature_lr\": trial.suggest_float(\"feature_lr\", 1e-6, 1e-3, log=True),\n",
    "        \"decoupled_critic_lr\": trial.suggest_float(\"decoupled_critic_lr\", 1e-5, 1e-3, log=True),\n",
    "        \"downward_lr\": trial.suggest_float(\"downward_lr\", 1e-5, 1e-3, log=True),\n",
    "        \"bias\": True,\n",
    "        \"update_f_every_N_steps\": trial.suggest_int(\"update_f_every_N_steps\", 1, 20, log=True),\n",
    "        \"weight_decay\": trial.suggest_float(\"weight_decay\", 1e-9, 1e-4, log=True),\n",
    "    }\n",
    "\n",
    "    feature_network = train_feature_network(config)\n",
    "    Psi = find_true_Psi(feature_network, wandb.run.id, feature_config=config)\n",
    "\n",
    "    return Psi\n",
    "\n",
    "study = optuna.create_study(direction=\"maximize\")\n",
    "study.optimize(objective, n_trials=20)  # Adjust the number of trials as needed\n",
    "\n",
    "# add the Psi value the params of the top 5 runs, then save\n",
    "\n",
    "import json\n",
    "\n",
    "# save best params\n",
    "with open(\"optuna_results/best_params.json\", \"w\") as f:\n",
    "    json.dump(study.best_params, f)\n",
    "\n",
    "# save second best params\n",
    "with open(\"optuna_results/second_best_params.json\", \"w\") as f:\n",
    "    json.dump(study.best_trials[1].params, f)\n",
    "\n",
    "# save third best params\n",
    "with open(\"optuna_results/third_best_params.json\", \"w\") as f:\n",
    "    json.dump(study.best_trials[2].params, f)\n",
    "\n",
    "# save fourth best params\n",
    "with open(\"optuna_results/fourth_best_params.json\", \"w\") as f:\n",
    "    json.dump(study.best_trials[3].params, f)\n",
    "\n",
    "# save fifth best params\n",
    "with open(\"optuna_results/fifth_best_params.json\", \"w\") as f:\n",
    "    json.dump(study.best_trials[4].params, f)\n",
    "\n",
    "\n",
    "top_5 = study.best_trials[:5]\n",
    "\n",
    "for i, trial in enumerate(top_5):\n",
    "    trial.params['Psi'] = trial.value\n",
    "    with open(f\"optuna_results/trial_{i}.json\", \"w\") as f:\n",
    "        json.dump(trial.params, f)\n"
   ]
  },
  {
   "cell_type": "markdown",
   "metadata": {},
   "source": [
    "# Hacky hyperparam search"
   ]
  },
  {
   "cell_type": "code",
   "execution_count": null,
   "metadata": {},
   "outputs": [],
   "source": []
  },
  {
   "cell_type": "code",
   "execution_count": null,
   "metadata": {},
   "outputs": [],
   "source": []
  }
 ],
 "metadata": {
  "kernelspec": {
   "display_name": ".venv",
   "language": "python",
   "name": "python3"
  },
  "language_info": {
   "codemirror_mode": {
    "name": "ipython",
    "version": 3
   },
   "file_extension": ".py",
   "mimetype": "text/x-python",
   "name": "python",
   "nbconvert_exporter": "python",
   "pygments_lexer": "ipython3",
   "version": "3.10.13"
  }
 },
 "nbformat": 4,
 "nbformat_minor": 2
}
