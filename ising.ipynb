{
 "cells": [
  {
   "cell_type": "code",
   "execution_count": 86,
   "metadata": {},
   "outputs": [
    {
     "name": "stdout",
     "output_type": "stream",
     "text": [
      "Using device: cuda\n"
     ]
    }
   ],
   "source": [
    "import torch\n",
    "import torch.nn as nn\n",
    "import torch.optim as optim\n",
    "import matplotlib.pyplot as plt\n",
    "\n",
    "device = torch.device(\"cuda\" if torch.cuda.is_available() else \"cpu\")\n",
    "print(f\"Using device: {device}\")\n",
    "\n",
    "def metropolis_step(lattice, beta):\n",
    "    N = lattice.shape[0]\n",
    "    sites = torch.randint(0, N * N, (N * N,), device=device)\n",
    "    i, j = sites // N, sites % N\n",
    "    \n",
    "    neighbors_sum = (lattice[(i+1)%N, j] + lattice[(i-1)%N, j] + \n",
    "                     lattice[i, (j+1)%N] + lattice[i, (j-1)%N])\n",
    "    delta_E = 2 * lattice[i, j] * neighbors_sum\n",
    "    \n",
    "    random_numbers = torch.rand(N * N, device=device)\n",
    "    flip_mask = (delta_E <= 0) | (random_numbers < torch.exp(-beta * delta_E))\n",
    "    \n",
    "    lattice[i[flip_mask], j[flip_mask]] *= -1\n",
    "    return lattice\n",
    "\n",
    "def generate_ising_timeseries(N, num_steps, beta):\n",
    "    lattice = 2 * torch.randint(2, (N, N), device=device) - 1\n",
    "    timeseries = torch.empty((num_steps, N, N), device=device)\n",
    "    for step in range(num_steps):\n",
    "        lattice = metropolis_step(lattice, beta)\n",
    "        timeseries[step] = lattice\n",
    "    return timeseries\n",
    "\n",
    "# Generate Ising model time series\n",
    "N = 30  # 8x8 grid\n",
    "num_steps = 1000\n",
    "beta = 0.57 # inverse temperature\n",
    "\n",
    "with torch.no_grad():\n",
    "    ising_timeseries = generate_ising_timeseries(N, num_steps, beta)\n"
   ]
  },
  {
   "cell_type": "code",
   "execution_count": 87,
   "metadata": {},
   "outputs": [
    {
     "data": {
      "image/png": "[encoded data removed]",
      "text/plain": [
       "<Figure size 1500x600 with 10 Axes>"
      ]
     },
     "metadata": {},
     "output_type": "display_data"
    },
    {
     "ename": "",
     "evalue": "",
     "output_type": "error",
     "traceback": [
      "\u001b[1;31mThe Kernel crashed while executing code in the current cell or a previous cell. \n",
      "\u001b[1;31mPlease review the code in the cell(s) to identify a possible cause of the failure. \n",
      "\u001b[1;31mClick <a href='https://aka.ms/vscodeJupyterKernelCrash'>here</a> for more info. \n",
      "\u001b[1;31mView Jupyter <a href='command:jupyter.viewOutput'>log</a> for further details."
     ]
    }
   ],
   "source": [
    "fig, axes = plt.subplots(1, 10, figsize=(15, 6))\n",
    "for i, ax in enumerate(axes):\n",
    "    # Move tensor to CPU before converting to numpy\n",
    "    ax.imshow(ising_timeseries[i*100].cpu().numpy(), cmap='binary')\n",
    "    ax.set_title(f\"Step {i*100}\")\n",
    "    ax.axis('off')\n",
    "plt.tight_layout()\n",
    "plt.show()\n"
   ]
  },
  {
   "cell_type": "code",
   "execution_count": null,
   "metadata": {},
   "outputs": [],
   "source": []
  }
 ],
 "metadata": {
  "kernelspec": {
   "display_name": "venv",
   "language": "python",
   "name": "python3"
  },
  "language_info": {
   "codemirror_mode": {
    "name": "ipython",
    "version": 3
   },
   "file_extension": ".py",
   "mimetype": "text/x-python",
   "name": "python",
   "nbconvert_exporter": "python",
   "pygments_lexer": "ipython3",
   "version": "3.8.10"
  }
 },
 "nbformat": 4,
 "nbformat_minor": 2
}
