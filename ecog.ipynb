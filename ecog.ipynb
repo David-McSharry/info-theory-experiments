{
 "cells": [
  {
   "cell_type": "code",
   "execution_count": 1,
   "metadata": {},
   "outputs": [
    {
     "name": "stdout",
     "output_type": "stream",
     "text": [
      "cuda\n"
     ]
    }
   ],
   "source": [
    "import torch\n",
    "import lovely_tensors as lt\n",
    "from einops import reduce, rearrange, repeat\n",
    "from npeet.entropy_estimators import entropy, mi\n",
    "import matplotlib.pyplot as plt\n",
    "import wandb\n",
    "import utils\n",
    "import importlib\n",
    "importlib.reload(utils)\n",
    "import os\n",
    "from utils import prepare_ecog_dataset, prepare_batch, estimate_MI_smile\n",
    "\n",
    "\n",
    "lt.monkey_patch()\n",
    "device = torch.device(\"cuda\" if torch.cuda.is_available() else \"cpu\")\n",
    "\n",
    "print(device)"
   ]
  },
  {
   "cell_type": "code",
   "execution_count": 2,
   "metadata": {},
   "outputs": [],
   "source": [
    "# print(os.getcwd())\n",
    "\n",
    "# prepare_ecog_dataset()\n"
   ]
  },
  {
   "cell_type": "code",
   "execution_count": 3,
   "metadata": {},
   "outputs": [],
   "source": [
    "import torch.nn as nn\n",
    "\n",
    "class SupervenientFeatureNetwork(nn.Module):\n",
    "    def __init__(self, num_atoms, feature_size):\n",
    "        super(SupervenientFeatureNetwork, self).__init__()\n",
    "        self.f = nn.Sequential(\n",
    "            nn.Linear(num_atoms, 64),\n",
    "            nn.ReLU(),\n",
    "            nn.Linear(64, 16),\n",
    "            nn.ReLU(),\n",
    "            nn.Linear(16, feature_size)\n",
    "        )\n",
    "\n",
    "    def forward(self, x):\n",
    "        return self.f(x)\n",
    "\n",
    "\n",
    "class PredSeparableCritic(nn.Module):\n",
    "    def __init__(self, feature_size):\n",
    "        super(PredSeparableCritic, self).__init__()\n",
    "        self.v_encoder = nn.Sequential(\n",
    "            nn.Linear(feature_size, 128),\n",
    "            nn.ReLU(),\n",
    "            nn.Linear(128, 64),\n",
    "            nn.ReLU(),\n",
    "            nn.Linear(64, 8),\n",
    "        )\n",
    "\n",
    "        self.W = nn.Linear(8, 8, bias=False)\n",
    "\n",
    "    def forward(self, v0, v1):\n",
    "        v0_encoded = self.v_encoder(v0)\n",
    "        v1_encoded = self.v_encoder(v1)\n",
    "        v1_encoded_transformed = self.W(v1_encoded)\n",
    "\n",
    "        scores = torch.matmul(v0_encoded, v1_encoded_transformed.t())\n",
    "        return scores\n",
    "    \n",
    "\n",
    "class MarginalSeparableCritic(nn.Module):\n",
    "    def __init__(self, feature_size, num_atoms):\n",
    "        super(MarginalSeparableCritic, self).__init__()\n",
    "        self.feature_encoder = nn.Sequential(\n",
    "            nn.Linear(feature_size, 128),\n",
    "            nn.ReLU(),\n",
    "            nn.Linear(128, 64),\n",
    "            nn.ReLU(),\n",
    "            nn.Linear(64, 8),\n",
    "        )\n",
    "\n",
    "        self.atom_encoder = nn.Sequential(\n",
    "            nn.Linear(num_atoms+1, 128),\n",
    "            nn.ReLU(),\n",
    "            nn.Linear(128, 256),\n",
    "            nn.ReLU(),\n",
    "            nn.Linear(256, 256),\n",
    "            nn.ReLU(),\n",
    "            nn.Linear(256, 128),\n",
    "            nn.ReLU(),\n",
    "            nn.Linear(128, 64),\n",
    "            nn.ReLU(),\n",
    "            nn.Linear(64, 8),\n",
    "        )\n",
    "\n",
    "    def forward(self, x0i, v1):\n",
    "        feature_encoded = self.feature_encoder(v1)\n",
    "        atom_encoded = self.atom_encoder(x0i)\n",
    "        scores = torch.matmul(atom_encoded, feature_encoded.t())\n",
    "\n",
    "        return scores\n",
    "\n",
    "\n"
   ]
  },
  {
   "cell_type": "code",
   "execution_count": 4,
   "metadata": {},
   "outputs": [],
   "source": [
    "config = {\n",
    "    \"batch_size\": 1000,\n",
    "    \"num_atoms\": 64,\n",
    "    \"feature_size\": 1,\n",
    "    \"epochs\": 200,\n",
    "    \"clip\": 5,\n",
    "}\n",
    "\n",
    "\n",
    "def _add_one_hot(X0):\n",
    "    batch_len, num_features = X0.size()\n",
    "    eye = torch.eye(num_features).to(device) # f * f\n",
    "    eye_repeated = repeat(eye, 'f1 f2 -> b f1 f2', b=batch_len)\n",
    "    X0_unsqueezed = rearrange(X0, 'b f -> b f 1')\n",
    "    return torch.cat((X0_unsqueezed, eye_repeated), dim=2)\n",
    "\n"
   ]
  },
  {
   "cell_type": "code",
   "execution_count": 10,
   "metadata": {},
   "outputs": [
    {
     "data": {
      "text/html": [
       "Finishing last run (ID:sinwgt6v) before initializing another..."
      ],
      "text/plain": [
       "<IPython.core.display.HTML object>"
      ]
     },
     "metadata": {},
     "output_type": "display_data"
    },
    {
     "data": {
      "text/html": [
       " View run <strong style=\"color:#cdcd00\">quiet-cloud-1</strong> at: <a href='https://wandb.ai/dmcsharry/learning_features/runs/sinwgt6v' target=\"_blank\">https://wandb.ai/dmcsharry/learning_features/runs/sinwgt6v</a><br/>Synced 4 W&B file(s), 0 media file(s), 0 artifact file(s) and 0 other file(s)"
      ],
      "text/plain": [
       "<IPython.core.display.HTML object>"
      ]
     },
     "metadata": {},
     "output_type": "display_data"
    },
    {
     "data": {
      "text/html": [
       "Find logs at: <code>./wandb/run-20240403_023543-sinwgt6v/logs</code>"
      ],
      "text/plain": [
       "<IPython.core.display.HTML object>"
      ]
     },
     "metadata": {},
     "output_type": "display_data"
    },
    {
     "data": {
      "text/html": [
       "Successfully finished last run (ID:sinwgt6v). Initializing new run:<br/>"
      ],
      "text/plain": [
       "<IPython.core.display.HTML object>"
      ]
     },
     "metadata": {},
     "output_type": "display_data"
    },
    {
     "data": {
      "text/html": [
       "wandb version 0.16.5 is available!  To upgrade, please run:\n",
       " $ pip install wandb --upgrade"
      ],
      "text/plain": [
       "<IPython.core.display.HTML object>"
      ]
     },
     "metadata": {},
     "output_type": "display_data"
    },
    {
     "data": {
      "text/html": [
       "Tracking run with wandb version 0.16.4"
      ],
      "text/plain": [
       "<IPython.core.display.HTML object>"
      ]
     },
     "metadata": {},
     "output_type": "display_data"
    },
    {
     "data": {
      "text/html": [
       "Run data is saved locally in <code>/vol/bitbucket/dm2223/info-theory-experiments/wandb/run-20240403_023707-kexw0g75</code>"
      ],
      "text/plain": [
       "<IPython.core.display.HTML object>"
      ]
     },
     "metadata": {},
     "output_type": "display_data"
    },
    {
     "data": {
      "text/html": [
       "Syncing run <strong><a href='https://wandb.ai/dmcsharry/learning_features/runs/kexw0g75' target=\"_blank\">stoic-valley-2</a></strong> to <a href='https://wandb.ai/dmcsharry/learning_features' target=\"_blank\">Weights & Biases</a> (<a href='https://wandb.me/run' target=\"_blank\">docs</a>)<br/>"
      ],
      "text/plain": [
       "<IPython.core.display.HTML object>"
      ]
     },
     "metadata": {},
     "output_type": "display_data"
    },
    {
     "data": {
      "text/html": [
       " View project at <a href='https://wandb.ai/dmcsharry/learning_features' target=\"_blank\">https://wandb.ai/dmcsharry/learning_features</a>"
      ],
      "text/plain": [
       "<IPython.core.display.HTML object>"
      ]
     },
     "metadata": {},
     "output_type": "display_data"
    },
    {
     "data": {
      "text/html": [
       " View run at <a href='https://wandb.ai/dmcsharry/learning_features/runs/kexw0g75' target=\"_blank\">https://wandb.ai/dmcsharry/learning_features/runs/kexw0g75</a>"
      ],
      "text/plain": [
       "<IPython.core.display.HTML object>"
      ]
     },
     "metadata": {},
     "output_type": "display_data"
    }
   ],
   "source": [
    "from smile_estimator import estimate_mutual_information\n",
    "from CLUB_estimation import CLUB, CLUBSample\n",
    "dataset = torch.load(\"data/ecog_data.pth\")\n",
    "\n",
    "trainloader = torch.utils.data.DataLoader(dataset, batch_size=config['batch_size'], shuffle=False)\n",
    "\n",
    "wandb.init(project=\"learning_features\", config=config)\n",
    "\n",
    "\n",
    "feature_network = SupervenientFeatureNetwork(\n",
    "    config['num_atoms'],\n",
    "    config['feature_size']\n",
    ").to(device)\n",
    "\n",
    "decoupled_critic = PredSeparableCritic(\n",
    "    config['feature_size']\n",
    ").to(device)\n",
    "\n",
    "downward_critic = MarginalSeparableCritic(\n",
    "    config['feature_size'],\n",
    "    config['num_atoms']\n",
    ").to(device)\n",
    "\n",
    "feature_optimizer = torch.optim.Adam(feature_network.parameters(), lr=1e-4)\n",
    "decoupled_optimizer = torch.optim.Adam(decoupled_critic.parameters(), lr=1e-3)\n",
    "downward_optimizer = torch.optim.Adam(downward_critic.parameters(), lr=1e-3)\n",
    "\n",
    "for _ in range(config['epochs']):\n",
    "    for batch in trainloader:\n",
    "\n",
    "        prepared_batch = prepare_batch(batch)\n",
    "\n",
    "        x0 = prepared_batch[:, 0].to(device).float()\n",
    "        x1 = prepared_batch[:, 1].to(device).float()\n",
    "\n",
    "        x0_one_hot = _add_one_hot(x0)\n",
    "\n",
    "        v0 = feature_network(x0)\n",
    "        v1 = feature_network(x1)        \n",
    "\n",
    "        decoupled_MI = estimate_mutual_information('smile', v0, v1, decoupled_critic, clip=config['clip'])\n",
    "        decoupled_loss = -decoupled_MI\n",
    "        decoupled_optimizer.zero_grad()\n",
    "        decoupled_loss.backward(retain_graph=True)\n",
    "        decoupled_optimizer.step()\n",
    "\n",
    "        downward_MI = 0\n",
    "\n",
    "        for i in range(config['num_atoms']):\n",
    "            x0i = x0_one_hot[:, i]\n",
    "            downward_MI += estimate_mutual_information('smile', x0i, v1, downward_critic, clip=config['clip'])\n",
    "        \n",
    "        downward_loss = -downward_MI\n",
    "        downward_optimizer.zero_grad()\n",
    "        downward_loss.backward(retain_graph=True)\n",
    "        downward_optimizer.step()\n",
    "\n",
    "\n",
    "\n",
    "\n",
    "        downward_MI1 = 0\n",
    "\n",
    "        for i in range(config['num_atoms']):\n",
    "            x0i = x0_one_hot[:, i]\n",
    "            downward_MI1 += estimate_mutual_information('smile', x0i, v1, downward_critic, clip=config['clip'])\n",
    "\n",
    "        decoupled_MI1 = estimate_mutual_information('smile', v0, v1, decoupled_critic, clip=config['clip'])\n",
    "\n",
    "        Psi = decoupled_MI1 - downward_MI1\n",
    "        feature_loss = -Psi\n",
    "\n",
    "        feature_optimizer.zero_grad()\n",
    "        feature_loss.backward()\n",
    "        feature_optimizer.step()\n",
    "\n",
    "\n",
    "        wandb.log({\n",
    "            \"decoupled_MI\": decoupled_MI,\n",
    "            \"downward_MI\": downward_MI,\n",
    "            \"Psi\": Psi,\n",
    "        })\n",
    "\n",
    "\n",
    "                                                    \n",
    "\n",
    "\n",
    "\n",
    "\n",
    "\n",
    "\n",
    "\n",
    "\n",
    "\n",
    "\n",
    "\n",
    "\n",
    "\n",
    "        \n",
    "        \n",
    "\n",
    "\n",
    "\n",
    "        "
   ]
  },
  {
   "cell_type": "code",
   "execution_count": 12,
   "metadata": {},
   "outputs": [
    {
     "name": "stdout",
     "output_type": "stream",
     "text": [
      "tensor[348610, 64] f64 n=22311040 (0.2Gb) x∈[-28.132, 152.364] μ=-5.778e-19 σ=1.000\n",
      "1\n",
      "2.355886410238412\n",
      "1.6413182103219128\n"
     ]
    }
   ],
   "source": [
    "from kraskov_mi import pyMIestimator\n",
    "import numpy as np\n",
    "\n",
    "\n",
    "dataset = torch.load(\"data/ecog_data.pth\")\n",
    "\n",
    "print(dataset)\n",
    "trainloader = torch.utils.data.DataLoader(dataset, batch_size=5000, shuffle=False)\n",
    "for k in range(1, 10):\n",
    "    for batch in trainloader:\n",
    "        prepared_batch = prepare_batch(batch)\n",
    "        x0 = prepared_batch[:, 0].cpu().float()\n",
    "        x1 = prepared_batch[:, 1].cpu().float()\n",
    "\n",
    "        MI = pyMIestimator(x0,x1,k=100, base=np.exp(1))\n",
    "        MI1 = mi(x0, x1,k=100, base=np.exp(1))\n",
    "        print(k)\n",
    "        print(MI)\n",
    "        print(MI1)\n",
    "        break\n",
    "    break"
   ]
  },
  {
   "cell_type": "code",
   "execution_count": null,
   "metadata": {},
   "outputs": [],
   "source": []
  }
 ],
 "metadata": {
  "kernelspec": {
   "display_name": ".venv",
   "language": "python",
   "name": "python3"
  },
  "language_info": {
   "codemirror_mode": {
    "name": "ipython",
    "version": 3
   },
   "file_extension": ".py",
   "mimetype": "text/x-python",
   "name": "python",
   "nbconvert_exporter": "python",
   "pygments_lexer": "ipython3",
   "version": "3.10.12"
  }
 },
 "nbformat": 4,
 "nbformat_minor": 2
}
