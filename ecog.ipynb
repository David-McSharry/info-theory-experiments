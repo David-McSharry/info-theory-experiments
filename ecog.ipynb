{
 "cells": [
  {
   "cell_type": "code",
   "execution_count": 6,
   "metadata": {},
   "outputs": [
    {
     "name": "stderr",
     "output_type": "stream",
     "text": [
      "Failed to detect the name of this notebook, you can set it manually with the WANDB_NOTEBOOK_NAME environment variable to enable code saving.\n"
     ]
    },
    {
     "ename": "AssertionError",
     "evalue": "",
     "output_type": "error",
     "traceback": [
      "\u001b[0;31m---------------------------------------------------------------------------\u001b[0m",
      "\u001b[0;31mKeyboardInterrupt\u001b[0m                         Traceback (most recent call last)",
      "File \u001b[0;32m/vol/bitbucket/dm2223/info-theory-experiments/.venv/lib/python3.10/site-packages/wandb/sdk/wandb_init.py:1177\u001b[0m, in \u001b[0;36minit\u001b[0;34m(job_type, dir, config, project, entity, reinit, tags, group, name, notes, magic, config_exclude_keys, config_include_keys, anonymous, mode, allow_val_change, resume, force, tensorboard, sync_tensorboard, monitor_gym, save_code, id, fork_from, settings)\u001b[0m\n\u001b[1;32m   1176\u001b[0m wi \u001b[38;5;241m=\u001b[39m _WandbInit()\n\u001b[0;32m-> 1177\u001b[0m \u001b[43mwi\u001b[49m\u001b[38;5;241;43m.\u001b[39;49m\u001b[43msetup\u001b[49m\u001b[43m(\u001b[49m\u001b[43mkwargs\u001b[49m\u001b[43m)\u001b[49m\n\u001b[1;32m   1178\u001b[0m \u001b[38;5;28;01massert\u001b[39;00m wi\u001b[38;5;241m.\u001b[39msettings\n",
      "File \u001b[0;32m/vol/bitbucket/dm2223/info-theory-experiments/.venv/lib/python3.10/site-packages/wandb/sdk/wandb_init.py:190\u001b[0m, in \u001b[0;36m_WandbInit.setup\u001b[0;34m(self, kwargs)\u001b[0m\n\u001b[1;32m    188\u001b[0m setup_settings \u001b[38;5;241m=\u001b[39m {\u001b[38;5;124m\"\u001b[39m\u001b[38;5;124m_disable_service\u001b[39m\u001b[38;5;124m\"\u001b[39m: _disable_service}\n\u001b[0;32m--> 190\u001b[0m \u001b[38;5;28mself\u001b[39m\u001b[38;5;241m.\u001b[39m_wl \u001b[38;5;241m=\u001b[39m \u001b[43mwandb_setup\u001b[49m\u001b[38;5;241;43m.\u001b[39;49m\u001b[43msetup\u001b[49m\u001b[43m(\u001b[49m\u001b[43msettings\u001b[49m\u001b[38;5;241;43m=\u001b[39;49m\u001b[43msetup_settings\u001b[49m\u001b[43m)\u001b[49m\n\u001b[1;32m    191\u001b[0m \u001b[38;5;66;03m# Make sure we have a logger setup (might be an early logger)\u001b[39;00m\n",
      "File \u001b[0;32m/vol/bitbucket/dm2223/info-theory-experiments/.venv/lib/python3.10/site-packages/wandb/sdk/wandb_setup.py:327\u001b[0m, in \u001b[0;36msetup\u001b[0;34m(settings)\u001b[0m\n\u001b[1;32m    324\u001b[0m \u001b[38;5;28;01mdef\u001b[39;00m \u001b[38;5;21msetup\u001b[39m(\n\u001b[1;32m    325\u001b[0m     settings: Optional[Settings] \u001b[38;5;241m=\u001b[39m \u001b[38;5;28;01mNone\u001b[39;00m,\n\u001b[1;32m    326\u001b[0m ) \u001b[38;5;241m-\u001b[39m\u001b[38;5;241m>\u001b[39m Optional[\u001b[38;5;124m\"\u001b[39m\u001b[38;5;124m_WandbSetup\u001b[39m\u001b[38;5;124m\"\u001b[39m]:\n\u001b[0;32m--> 327\u001b[0m     ret \u001b[38;5;241m=\u001b[39m \u001b[43m_setup\u001b[49m\u001b[43m(\u001b[49m\u001b[43msettings\u001b[49m\u001b[38;5;241;43m=\u001b[39;49m\u001b[43msettings\u001b[49m\u001b[43m)\u001b[49m\n\u001b[1;32m    328\u001b[0m     \u001b[38;5;28;01mreturn\u001b[39;00m ret\n",
      "File \u001b[0;32m/vol/bitbucket/dm2223/info-theory-experiments/.venv/lib/python3.10/site-packages/wandb/sdk/wandb_setup.py:320\u001b[0m, in \u001b[0;36m_setup\u001b[0;34m(settings, _reset)\u001b[0m\n\u001b[1;32m    319\u001b[0m     \u001b[38;5;28;01mreturn\u001b[39;00m \u001b[38;5;28;01mNone\u001b[39;00m\n\u001b[0;32m--> 320\u001b[0m wl \u001b[38;5;241m=\u001b[39m \u001b[43m_WandbSetup\u001b[49m\u001b[43m(\u001b[49m\u001b[43msettings\u001b[49m\u001b[38;5;241;43m=\u001b[39;49m\u001b[43msettings\u001b[49m\u001b[43m)\u001b[49m\n\u001b[1;32m    321\u001b[0m \u001b[38;5;28;01mreturn\u001b[39;00m wl\n",
      "File \u001b[0;32m/vol/bitbucket/dm2223/info-theory-experiments/.venv/lib/python3.10/site-packages/wandb/sdk/wandb_setup.py:303\u001b[0m, in \u001b[0;36m_WandbSetup.__init__\u001b[0;34m(self, settings)\u001b[0m\n\u001b[1;32m    302\u001b[0m     \u001b[38;5;28;01mreturn\u001b[39;00m\n\u001b[0;32m--> 303\u001b[0m _WandbSetup\u001b[38;5;241m.\u001b[39m_instance \u001b[38;5;241m=\u001b[39m \u001b[43m_WandbSetup__WandbSetup\u001b[49m\u001b[43m(\u001b[49m\u001b[43msettings\u001b[49m\u001b[38;5;241;43m=\u001b[39;49m\u001b[43msettings\u001b[49m\u001b[43m,\u001b[49m\u001b[43m \u001b[49m\u001b[43mpid\u001b[49m\u001b[38;5;241;43m=\u001b[39;49m\u001b[43mpid\u001b[49m\u001b[43m)\u001b[49m\n",
      "File \u001b[0;32m/vol/bitbucket/dm2223/info-theory-experiments/.venv/lib/python3.10/site-packages/wandb/sdk/wandb_setup.py:114\u001b[0m, in \u001b[0;36m_WandbSetup__WandbSetup.__init__\u001b[0;34m(self, pid, settings, environ)\u001b[0m\n\u001b[1;32m    113\u001b[0m \u001b[38;5;28mself\u001b[39m\u001b[38;5;241m.\u001b[39m_check()\n\u001b[0;32m--> 114\u001b[0m \u001b[38;5;28;43mself\u001b[39;49m\u001b[38;5;241;43m.\u001b[39;49m\u001b[43m_setup\u001b[49m\u001b[43m(\u001b[49m\u001b[43m)\u001b[49m\n\u001b[1;32m    116\u001b[0m tracelog_mode \u001b[38;5;241m=\u001b[39m \u001b[38;5;28mself\u001b[39m\u001b[38;5;241m.\u001b[39m_settings\u001b[38;5;241m.\u001b[39m_tracelog\n",
      "File \u001b[0;32m/vol/bitbucket/dm2223/info-theory-experiments/.venv/lib/python3.10/site-packages/wandb/sdk/wandb_setup.py:250\u001b[0m, in \u001b[0;36m_WandbSetup__WandbSetup._setup\u001b[0;34m(self)\u001b[0m\n\u001b[1;32m    249\u001b[0m \u001b[38;5;28;01mdef\u001b[39;00m \u001b[38;5;21m_setup\u001b[39m(\u001b[38;5;28mself\u001b[39m) \u001b[38;5;241m-\u001b[39m\u001b[38;5;241m>\u001b[39m \u001b[38;5;28;01mNone\u001b[39;00m:\n\u001b[0;32m--> 250\u001b[0m     \u001b[38;5;28;43mself\u001b[39;49m\u001b[38;5;241;43m.\u001b[39;49m\u001b[43m_setup_manager\u001b[49m\u001b[43m(\u001b[49m\u001b[43m)\u001b[49m\n\u001b[1;32m    252\u001b[0m     sweep_path \u001b[38;5;241m=\u001b[39m \u001b[38;5;28mself\u001b[39m\u001b[38;5;241m.\u001b[39m_settings\u001b[38;5;241m.\u001b[39msweep_param_path\n",
      "File \u001b[0;32m/vol/bitbucket/dm2223/info-theory-experiments/.venv/lib/python3.10/site-packages/wandb/sdk/wandb_setup.py:277\u001b[0m, in \u001b[0;36m_WandbSetup__WandbSetup._setup_manager\u001b[0;34m(self)\u001b[0m\n\u001b[1;32m    276\u001b[0m     \u001b[38;5;28;01mreturn\u001b[39;00m\n\u001b[0;32m--> 277\u001b[0m \u001b[38;5;28mself\u001b[39m\u001b[38;5;241m.\u001b[39m_manager \u001b[38;5;241m=\u001b[39m \u001b[43mwandb_manager\u001b[49m\u001b[38;5;241;43m.\u001b[39;49m\u001b[43m_Manager\u001b[49m\u001b[43m(\u001b[49m\u001b[43msettings\u001b[49m\u001b[38;5;241;43m=\u001b[39;49m\u001b[38;5;28;43mself\u001b[39;49m\u001b[38;5;241;43m.\u001b[39;49m\u001b[43m_settings\u001b[49m\u001b[43m)\u001b[49m\n",
      "File \u001b[0;32m/vol/bitbucket/dm2223/info-theory-experiments/.venv/lib/python3.10/site-packages/wandb/sdk/wandb_manager.py:139\u001b[0m, in \u001b[0;36m_Manager.__init__\u001b[0;34m(self, settings)\u001b[0m\n\u001b[1;32m    138\u001b[0m \u001b[38;5;28;01mif\u001b[39;00m \u001b[38;5;129;01mnot\u001b[39;00m token:\n\u001b[0;32m--> 139\u001b[0m     \u001b[38;5;28;43mself\u001b[39;49m\u001b[38;5;241;43m.\u001b[39;49m\u001b[43m_service\u001b[49m\u001b[38;5;241;43m.\u001b[39;49m\u001b[43mstart\u001b[49m\u001b[43m(\u001b[49m\u001b[43m)\u001b[49m\n\u001b[1;32m    140\u001b[0m     host \u001b[38;5;241m=\u001b[39m \u001b[38;5;124m\"\u001b[39m\u001b[38;5;124mlocalhost\u001b[39m\u001b[38;5;124m\"\u001b[39m\n",
      "File \u001b[0;32m/vol/bitbucket/dm2223/info-theory-experiments/.venv/lib/python3.10/site-packages/wandb/sdk/service/service.py:250\u001b[0m, in \u001b[0;36m_Service.start\u001b[0;34m(self)\u001b[0m\n\u001b[1;32m    249\u001b[0m \u001b[38;5;28;01mdef\u001b[39;00m \u001b[38;5;21mstart\u001b[39m(\u001b[38;5;28mself\u001b[39m) \u001b[38;5;241m-\u001b[39m\u001b[38;5;241m>\u001b[39m \u001b[38;5;28;01mNone\u001b[39;00m:\n\u001b[0;32m--> 250\u001b[0m     \u001b[38;5;28;43mself\u001b[39;49m\u001b[38;5;241;43m.\u001b[39;49m\u001b[43m_launch_server\u001b[49m\u001b[43m(\u001b[49m\u001b[43m)\u001b[49m\n",
      "File \u001b[0;32m/vol/bitbucket/dm2223/info-theory-experiments/.venv/lib/python3.10/site-packages/wandb/sdk/service/service.py:242\u001b[0m, in \u001b[0;36m_Service._launch_server\u001b[0;34m(self)\u001b[0m\n\u001b[1;32m    241\u001b[0m \u001b[38;5;28;01mtry\u001b[39;00m:\n\u001b[0;32m--> 242\u001b[0m     \u001b[38;5;28;43mself\u001b[39;49m\u001b[38;5;241;43m.\u001b[39;49m\u001b[43m_wait_for_ports\u001b[49m\u001b[43m(\u001b[49m\u001b[43mfname\u001b[49m\u001b[43m,\u001b[49m\u001b[43m \u001b[49m\u001b[43mproc\u001b[49m\u001b[38;5;241;43m=\u001b[39;49m\u001b[43minternal_proc\u001b[49m\u001b[43m)\u001b[49m\n\u001b[1;32m    243\u001b[0m \u001b[38;5;28;01mexcept\u001b[39;00m \u001b[38;5;167;01mException\u001b[39;00m \u001b[38;5;28;01mas\u001b[39;00m e:\n",
      "File \u001b[0;32m/vol/bitbucket/dm2223/info-theory-experiments/.venv/lib/python3.10/site-packages/wandb/sdk/service/service.py:116\u001b[0m, in \u001b[0;36m_Service._wait_for_ports\u001b[0;34m(self, fname, proc)\u001b[0m\n\u001b[1;32m    115\u001b[0m \u001b[38;5;28;01mif\u001b[39;00m \u001b[38;5;129;01mnot\u001b[39;00m os\u001b[38;5;241m.\u001b[39mpath\u001b[38;5;241m.\u001b[39misfile(fname):\n\u001b[0;32m--> 116\u001b[0m     \u001b[43mtime\u001b[49m\u001b[38;5;241;43m.\u001b[39;49m\u001b[43msleep\u001b[49m\u001b[43m(\u001b[49m\u001b[38;5;241;43m0.2\u001b[39;49m\u001b[43m)\u001b[49m\n\u001b[1;32m    117\u001b[0m     \u001b[38;5;28;01mcontinue\u001b[39;00m\n",
      "\u001b[0;31mKeyboardInterrupt\u001b[0m: ",
      "\nDuring handling of the above exception, another exception occurred:\n",
      "\u001b[0;31mAssertionError\u001b[0m                            Traceback (most recent call last)",
      "Cell \u001b[0;32mIn[6], line 13\u001b[0m\n\u001b[1;32m      9\u001b[0m \u001b[38;5;28;01mimport\u001b[39;00m \u001b[38;5;21;01mos\u001b[39;00m\n\u001b[1;32m     10\u001b[0m \u001b[38;5;28;01mfrom\u001b[39;00m \u001b[38;5;21;01mutils\u001b[39;00m \u001b[38;5;28;01mimport\u001b[39;00m prepare_ecog_dataset, prepare_batch, estimate_MI_smile\n\u001b[0;32m---> 13\u001b[0m run \u001b[38;5;241m=\u001b[39m \u001b[43mwandb\u001b[49m\u001b[38;5;241;43m.\u001b[39;49m\u001b[43minit\u001b[49m\u001b[43m(\u001b[49m\u001b[43mproject\u001b[49m\u001b[38;5;241;43m=\u001b[39;49m\u001b[38;5;124;43m'\u001b[39;49m\u001b[38;5;124;43mdelete\u001b[39;49m\u001b[38;5;124;43m'\u001b[39;49m\u001b[43m,\u001b[49m\u001b[43m \u001b[49m\u001b[43mentity\u001b[49m\u001b[38;5;241;43m=\u001b[39;49m\u001b[38;5;124;43m'\u001b[39;49m\u001b[38;5;124;43mdendrite\u001b[39;49m\u001b[38;5;124;43m'\u001b[39;49m\u001b[43m,\u001b[49m\u001b[43m \u001b[49m\u001b[43mreinit\u001b[49m\u001b[38;5;241;43m=\u001b[39;49m\u001b[38;5;28;43;01mTrue\u001b[39;49;00m\u001b[43m)\u001b[49m\n\u001b[1;32m     15\u001b[0m lt\u001b[38;5;241m.\u001b[39mmonkey_patch()\n\u001b[1;32m     16\u001b[0m device \u001b[38;5;241m=\u001b[39m torch\u001b[38;5;241m.\u001b[39mdevice(\u001b[38;5;124m\"\u001b[39m\u001b[38;5;124mcuda\u001b[39m\u001b[38;5;124m\"\u001b[39m \u001b[38;5;28;01mif\u001b[39;00m torch\u001b[38;5;241m.\u001b[39mcuda\u001b[38;5;241m.\u001b[39mis_available() \u001b[38;5;28;01melse\u001b[39;00m \u001b[38;5;124m\"\u001b[39m\u001b[38;5;124mcpu\u001b[39m\u001b[38;5;124m\"\u001b[39m)\n",
      "File \u001b[0;32m/vol/bitbucket/dm2223/info-theory-experiments/.venv/lib/python3.10/site-packages/wandb/sdk/wandb_init.py:1202\u001b[0m, in \u001b[0;36minit\u001b[0;34m(job_type, dir, config, project, entity, reinit, tags, group, name, notes, magic, config_exclude_keys, config_include_keys, anonymous, mode, allow_val_change, resume, force, tensorboard, sync_tensorboard, monitor_gym, save_code, id, fork_from, settings)\u001b[0m\n\u001b[1;32m   1200\u001b[0m     \u001b[38;5;28;01mraise\u001b[39;00m e\n\u001b[1;32m   1201\u001b[0m \u001b[38;5;28;01mexcept\u001b[39;00m \u001b[38;5;167;01mKeyboardInterrupt\u001b[39;00m \u001b[38;5;28;01mas\u001b[39;00m e:\n\u001b[0;32m-> 1202\u001b[0m     \u001b[38;5;28;01massert\u001b[39;00m logger\n\u001b[1;32m   1203\u001b[0m     logger\u001b[38;5;241m.\u001b[39mwarning(\u001b[38;5;124m\"\u001b[39m\u001b[38;5;124minterrupted\u001b[39m\u001b[38;5;124m\"\u001b[39m, exc_info\u001b[38;5;241m=\u001b[39me)\n\u001b[1;32m   1204\u001b[0m     \u001b[38;5;28;01mraise\u001b[39;00m e\n",
      "\u001b[0;31mAssertionError\u001b[0m: "
     ]
    },
    {
     "name": "stderr",
     "output_type": "stream",
     "text": [
      "Traceback (most recent call last):\n",
      "  File \"/usr/lib/python3.10/runpy.py\", line 196, in _run_module_as_main\n",
      "    return _run_code(code, main_globals, None,\n",
      "  File \"/usr/lib/python3.10/runpy.py\", line 86, in _run_code\n",
      "    exec(code, run_globals)\n",
      "  File \"/vol/bitbucket/dm2223/info-theory-experiments/.venv/lib/python3.10/site-packages/wandb/__main__.py\", line 3, in <module>\n",
      "    cli.cli(prog_name=\"python -m wandb\")\n",
      "  File \"/vol/bitbucket/dm2223/info-theory-experiments/.venv/lib/python3.10/site-packages/click/core.py\", line 1157, in __call__\n",
      "    return self.main(*args, **kwargs)\n",
      "  File \"/vol/bitbucket/dm2223/info-theory-experiments/.venv/lib/python3.10/site-packages/click/core.py\", line 1078, in main\n",
      "    rv = self.invoke(ctx)\n",
      "  File \"/vol/bitbucket/dm2223/info-theory-experiments/.venv/lib/python3.10/site-packages/click/core.py\", line 1688, in invoke\n",
      "    return _process_result(sub_ctx.command.invoke(sub_ctx))\n",
      "  File \"/vol/bitbucket/dm2223/info-theory-experiments/.venv/lib/python3.10/site-packages/click/core.py\", line 1434, in invoke\n",
      "    return ctx.invoke(self.callback, **ctx.params)\n",
      "  File \"/vol/bitbucket/dm2223/info-theory-experiments/.venv/lib/python3.10/site-packages/click/core.py\", line 783, in invoke\n",
      "    return __callback(*args, **kwargs)\n",
      "  File \"/vol/bitbucket/dm2223/info-theory-experiments/.venv/lib/python3.10/site-packages/wandb/cli/cli.py\", line 105, in wrapper\n",
      "    return func(*args, **kwargs)\n",
      "  File \"/vol/bitbucket/dm2223/info-theory-experiments/.venv/lib/python3.10/site-packages/wandb/cli/cli.py\", line 289, in service\n",
      "    server.serve()\n",
      "  File \"/vol/bitbucket/dm2223/info-theory-experiments/.venv/lib/python3.10/site-packages/wandb/sdk/service/server.py\", line 114, in serve\n",
      "    self._inform_used_ports(sock_port=sock_port)\n",
      "  File \"/vol/bitbucket/dm2223/info-theory-experiments/.venv/lib/python3.10/site-packages/wandb/sdk/service/server.py\", line 52, in _inform_used_ports\n",
      "    pf.write(self._port_fname)\n",
      "  File \"/vol/bitbucket/dm2223/info-theory-experiments/.venv/lib/python3.10/site-packages/wandb/sdk/service/port_file.py\", line 21, in write\n",
      "    f = tempfile.NamedTemporaryFile(prefix=bname, dir=dname, mode=\"w\", delete=False)\n",
      "  File \"/usr/lib/python3.10/tempfile.py\", line 698, in NamedTemporaryFile\n",
      "    file = _io.open(dir, mode, buffering=buffering,\n",
      "  File \"/usr/lib/python3.10/tempfile.py\", line 695, in opener\n",
      "    fd, name = _mkstemp_inner(dir, prefix, suffix, flags, output_type)\n",
      "  File \"/usr/lib/python3.10/tempfile.py\", line 395, in _mkstemp_inner\n",
      "    fd = _os.open(file, flags, 0o600)\n",
      "FileNotFoundError: [Errno 2] No such file or directory: '/tmp/tmpu4s_edlv/port-691781.txt1sg9vfoe'\n"
     ]
    }
   ],
   "source": [
    "import torch\n",
    "import lovely_tensors as lt\n",
    "from einops import reduce, rearrange, repeat\n",
    "import matplotlib.pyplot as plt\n",
    "import wandb\n",
    "import utils\n",
    "import importlib\n",
    "importlib.reload(wandb)\n",
    "import os\n",
    "from utils import prepare_ecog_dataset, prepare_batch, estimate_MI_smile\n",
    "\n",
    "\n",
    "run = wandb.init(project='delete', entity='dendrite', reinit=True)\n",
    "\n",
    "lt.monkey_patch()\n",
    "device = torch.device(\"cuda\" if torch.cuda.is_available() else \"cpu\")\n",
    "\n",
    "print(device)"
   ]
  },
  {
   "cell_type": "code",
   "execution_count": null,
   "metadata": {},
   "outputs": [],
   "source": [
    "# print(os.getcwd())\n",
    "\n",
    "# prepare_ecog_dataset()\n"
   ]
  },
  {
   "cell_type": "code",
   "execution_count": 14,
   "metadata": {},
   "outputs": [],
   "source": [
    "import torch.nn as nn\n",
    "\n",
    "class SupervenientFeatureNetwork(nn.Module):\n",
    "    def __init__(self, num_atoms, feature_size):\n",
    "        super(SupervenientFeatureNetwork, self).__init__()\n",
    "        self.f = nn.Sequential(\n",
    "            nn.Linear(num_atoms, 64),\n",
    "            nn.ReLU(),\n",
    "            nn.Linear(64, 16),\n",
    "            nn.ReLU(),\n",
    "            nn.Linear(16, feature_size)\n",
    "        )\n",
    "\n",
    "    def forward(self, x):\n",
    "        return self.f(x)\n",
    "\n",
    "\n",
    "class PredSeparableCritic(nn.Module):\n",
    "    def __init__(self, feature_size):\n",
    "        super(PredSeparableCritic, self).__init__()\n",
    "        self.v_encoder = nn.Sequential(\n",
    "            nn.Linear(feature_size, 128),\n",
    "            nn.ReLU(),\n",
    "            nn.Linear(128, 64),\n",
    "            nn.ReLU(),\n",
    "            nn.Linear(64, 8),\n",
    "        )\n",
    "\n",
    "        self.W = nn.Linear(8, 8, bias=False)\n",
    "\n",
    "    def forward(self, v0, v1):\n",
    "        v0_encoded = self.v_encoder(v0)\n",
    "        v1_encoded = self.v_encoder(v1)\n",
    "        v1_encoded_transformed = self.W(v1_encoded)\n",
    "\n",
    "        scores = torch.matmul(v0_encoded, v1_encoded_transformed.t())\n",
    "        return scores\n",
    "    \n",
    "\n",
    "class MarginalSeparableCritic(nn.Module):\n",
    "    def __init__(self, feature_size, num_atoms):\n",
    "        super(MarginalSeparableCritic, self).__init__()\n",
    "        self.feature_encoder = nn.Sequential(\n",
    "            nn.Linear(feature_size, 128),\n",
    "            nn.ReLU(),\n",
    "            nn.Linear(128, 64),\n",
    "            nn.ReLU(),\n",
    "            nn.Linear(64, 8),\n",
    "        )\n",
    "\n",
    "        self.atom_encoder = nn.Sequential(\n",
    "            nn.Linear(num_atoms+1, 512),\n",
    "            nn.ReLU(),\n",
    "            nn.Linear(512, 512),\n",
    "            nn.ReLU(),\n",
    "            nn.Linear(512, 256),\n",
    "            nn.ReLU(),\n",
    "            nn.Linear(256, 128),\n",
    "            nn.ReLU(),\n",
    "            nn.Linear(128, 8),\n",
    "        )\n",
    "\n",
    "    def forward(self, x0i, v1):\n",
    "        feature_encoded = self.feature_encoder(v1)\n",
    "        atom_encoded = self.atom_encoder(x0i)\n",
    "        scores = torch.matmul(atom_encoded, feature_encoded.t())\n",
    "\n",
    "        return scores\n",
    "\n",
    "\n",
    "\n"
   ]
  },
  {
   "cell_type": "code",
   "execution_count": 16,
   "metadata": {},
   "outputs": [],
   "source": [
    "config = {\n",
    "    \"batch_size\": 1000,\n",
    "    \"num_atoms\": 64,\n",
    "    \"feature_size\": 4,\n",
    "    \"epochs\": 20,\n",
    "    \"clip\": 5,\n",
    "}\n",
    "\n",
    "\n",
    "def _add_one_hot(X0):\n",
    "    batch_len, num_features = X0.size()\n",
    "    eye = torch.eye(num_features).to(device) # f * f\n",
    "    eye_repeated = repeat(eye, 'f1 f2 -> b f1 f2', b=batch_len)\n",
    "    X0_unsqueezed = rearrange(X0, 'b f -> b f 1')\n",
    "    return torch.cat((X0_unsqueezed, eye_repeated), dim=2)\n",
    "\n"
   ]
  },
  {
   "cell_type": "code",
   "execution_count": 17,
   "metadata": {},
   "outputs": [
    {
     "data": {
      "text/html": [
       "Finishing last run (ID:nkricqj3) before initializing another..."
      ],
      "text/plain": [
       "<IPython.core.display.HTML object>"
      ]
     },
     "metadata": {},
     "output_type": "display_data"
    },
    {
     "name": "stderr",
     "output_type": "stream",
     "text": [
      "wandb: WARNING Source type is set to 'repo' but some required information is missing from the environment. A job will not be created from this run. See https://docs.wandb.ai/guides/launch/create-job\n"
     ]
    },
    {
     "data": {
      "text/html": [
       " View run <strong style=\"color:#cdcd00\">valiant-music-11</strong> at: <a href='https://wandb.ai/dmcsharry/learning_features/runs/nkricqj3' target=\"_blank\">https://wandb.ai/dmcsharry/learning_features/runs/nkricqj3</a><br/>Synced 5 W&B file(s), 0 media file(s), 0 artifact file(s) and 0 other file(s)"
      ],
      "text/plain": [
       "<IPython.core.display.HTML object>"
      ]
     },
     "metadata": {},
     "output_type": "display_data"
    },
    {
     "data": {
      "text/html": [
       "Find logs at: <code>./wandb/run-20240407_142418-nkricqj3/logs</code>"
      ],
      "text/plain": [
       "<IPython.core.display.HTML object>"
      ]
     },
     "metadata": {},
     "output_type": "display_data"
    },
    {
     "data": {
      "text/html": [
       "Successfully finished last run (ID:nkricqj3). Initializing new run:<br/>"
      ],
      "text/plain": [
       "<IPython.core.display.HTML object>"
      ]
     },
     "metadata": {},
     "output_type": "display_data"
    },
    {
     "data": {
      "text/html": [
       "wandb version 0.16.6 is available!  To upgrade, please run:\n",
       " $ pip install wandb --upgrade"
      ],
      "text/plain": [
       "<IPython.core.display.HTML object>"
      ]
     },
     "metadata": {},
     "output_type": "display_data"
    },
    {
     "data": {
      "text/html": [
       "Tracking run with wandb version 0.16.4"
      ],
      "text/plain": [
       "<IPython.core.display.HTML object>"
      ]
     },
     "metadata": {},
     "output_type": "display_data"
    },
    {
     "data": {
      "text/html": [
       "Run data is saved locally in <code>/vol/bitbucket/dm2223/info-theory-experiments/wandb/run-20240407_144353-mvn2470r</code>"
      ],
      "text/plain": [
       "<IPython.core.display.HTML object>"
      ]
     },
     "metadata": {},
     "output_type": "display_data"
    },
    {
     "data": {
      "text/html": [
       "Syncing run <strong><a href='https://wandb.ai/dmcsharry/learning_features/runs/mvn2470r' target=\"_blank\">dry-music-12</a></strong> to <a href='https://wandb.ai/dmcsharry/learning_features' target=\"_blank\">Weights & Biases</a> (<a href='https://wandb.me/run' target=\"_blank\">docs</a>)<br/>"
      ],
      "text/plain": [
       "<IPython.core.display.HTML object>"
      ]
     },
     "metadata": {},
     "output_type": "display_data"
    },
    {
     "data": {
      "text/html": [
       " View project at <a href='https://wandb.ai/dmcsharry/learning_features' target=\"_blank\">https://wandb.ai/dmcsharry/learning_features</a>"
      ],
      "text/plain": [
       "<IPython.core.display.HTML object>"
      ]
     },
     "metadata": {},
     "output_type": "display_data"
    },
    {
     "data": {
      "text/html": [
       " View run at <a href='https://wandb.ai/dmcsharry/learning_features/runs/mvn2470r' target=\"_blank\">https://wandb.ai/dmcsharry/learning_features/runs/mvn2470r</a>"
      ],
      "text/plain": [
       "<IPython.core.display.HTML object>"
      ]
     },
     "metadata": {},
     "output_type": "display_data"
    },
    {
     "name": "stderr",
     "output_type": "stream",
     "text": [
      "100%|██████████| 349/349 [00:56<00:00,  6.12it/s]\n",
      "100%|██████████| 349/349 [00:56<00:00,  6.13it/s]\n",
      "100%|██████████| 349/349 [00:57<00:00,  6.02it/s]\n",
      "100%|██████████| 349/349 [00:56<00:00,  6.15it/s]\n",
      "100%|██████████| 349/349 [00:56<00:00,  6.16it/s]\n",
      "100%|██████████| 349/349 [00:56<00:00,  6.18it/s]\n",
      "100%|██████████| 349/349 [00:56<00:00,  6.14it/s]\n",
      "100%|██████████| 349/349 [00:56<00:00,  6.19it/s]\n",
      "100%|██████████| 349/349 [00:56<00:00,  6.14it/s]\n",
      "100%|██████████| 349/349 [00:56<00:00,  6.15it/s]\n",
      "100%|██████████| 349/349 [00:56<00:00,  6.15it/s]\n",
      "100%|██████████| 349/349 [00:56<00:00,  6.13it/s]\n",
      "100%|██████████| 349/349 [00:57<00:00,  6.11it/s]\n",
      "100%|██████████| 349/349 [00:56<00:00,  6.13it/s]\n",
      "100%|██████████| 349/349 [00:56<00:00,  6.15it/s]\n",
      "100%|██████████| 349/349 [00:43<00:00,  8.00it/s]\n",
      "100%|██████████| 349/349 [00:43<00:00,  8.00it/s]\n",
      "100%|██████████| 349/349 [00:43<00:00,  7.99it/s]\n",
      "100%|██████████| 349/349 [00:43<00:00,  8.00it/s]\n",
      "100%|██████████| 349/349 [00:43<00:00,  8.01it/s]\n"
     ]
    }
   ],
   "source": [
    "from smile_estimator import estimate_mutual_information\n",
    "from CLUB_estimation import CLUB, CLUBSample\n",
    "import tqdm\n",
    "dataset = torch.load(\"data/ecog_data.pth\")\n",
    "\n",
    "trainloader = torch.utils.data.DataLoader(dataset, batch_size=config['batch_size'], shuffle=False)\n",
    "\n",
    "\n",
    "wandb.init(project=\"learning_features\", config=config)\n",
    "\n",
    "\n",
    "feature_network = SupervenientFeatureNetwork(\n",
    "    config['num_atoms'],\n",
    "    config['feature_size']\n",
    ").to(device)\n",
    "\n",
    "decoupled_critic = PredSeparableCritic(\n",
    "    config['feature_size']\n",
    ").to(device)\n",
    "\n",
    "downward_critic = MarginalSeparableCritic(\n",
    "    config['feature_size'],\n",
    "    config['num_atoms']\n",
    ").to(device)\n",
    "\n",
    "feature_optimizer = torch.optim.Adam(feature_network.parameters(), lr=1e-5)\n",
    "decoupled_optimizer = torch.optim.Adam(decoupled_critic.parameters(), lr=1e-4)\n",
    "downward_optimizer = torch.optim.Adam(downward_critic.parameters(), lr=1e-4)\n",
    "\n",
    "for epoch in tqdm.tqdm(range(config['epochs']), desc='Training'):\n",
    "    for batch in trainloader:\n",
    "\n",
    "\n",
    "        prepared_batch = prepare_batch(batch)\n",
    "\n",
    "        x0 = prepared_batch[:, 0].to(device).float()\n",
    "        x1 = prepared_batch[:, 1].to(device).float()\n",
    "\n",
    "        x0_one_hot = _add_one_hot(x0)\n",
    "\n",
    "        # update critics\n",
    "        \n",
    "        v0 = feature_network(x0)\n",
    "        v1 = feature_network(x1) \n",
    "\n",
    "        decoupled_MI = estimate_mutual_information('smile', v0, v1, decoupled_critic, clip=config['clip'])\n",
    "        decoupled_loss = -decoupled_MI\n",
    "        decoupled_optimizer.zero_grad()\n",
    "        decoupled_loss.backward(retain_graph=True)\n",
    "        decoupled_optimizer.step()\n",
    "\n",
    "        downward_MI = 0\n",
    "\n",
    "        for i in range(config['num_atoms']):\n",
    "            x0i = x0_one_hot[:, i]\n",
    "            downward_MI += estimate_mutual_information('smile', x0i, v1, downward_critic, clip=config['clip'])\n",
    "        \n",
    "        downward_loss = -downward_MI\n",
    "        downward_optimizer.zero_grad()\n",
    "        downward_loss.backward(retain_graph=True)\n",
    "        downward_optimizer.step()\n",
    "\n",
    "        # update feature network   \n",
    "\n",
    "        downward_MI1 = 0\n",
    "\n",
    "        for i in range(config['num_atoms']):\n",
    "            x0i = x0_one_hot[:, i]\n",
    "            downward_MI1 += estimate_mutual_information('smile', x0i, v1, downward_critic, clip=config['clip'])\n",
    "\n",
    "        decoupled_MI1 = estimate_mutual_information('smile', v0, v1, decoupled_critic, clip=config['clip'])\n",
    "\n",
    "        Psi = decoupled_MI1 - downward_MI1\n",
    "        feature_loss = -Psi\n",
    "\n",
    "        if epoch < 15:\n",
    "            feature_optimizer.zero_grad()\n",
    "            feature_loss.backward()\n",
    "            feature_optimizer.step()\n",
    "\n",
    "\n",
    "        wandb.log({\n",
    "            \"decoupled_MI\": decoupled_MI,\n",
    "            \"downward_MI\": downward_MI,\n",
    "            \"Psi\": Psi,\n",
    "        })\n",
    "\n",
    "\n",
    "        "
   ]
  },
  {
   "cell_type": "code",
   "execution_count": 18,
   "metadata": {},
   "outputs": [
    {
     "data": {
      "text/html": [
       "Finishing last run (ID:mvn2470r) before initializing another..."
      ],
      "text/plain": [
       "<IPython.core.display.HTML object>"
      ]
     },
     "metadata": {},
     "output_type": "display_data"
    },
    {
     "name": "stderr",
     "output_type": "stream",
     "text": [
      "wandb: WARNING Source type is set to 'repo' but some required information is missing from the environment. A job will not be created from this run. See https://docs.wandb.ai/guides/launch/create-job\n"
     ]
    },
    {
     "data": {
      "text/html": [
       "<style>\n",
       "    table.wandb td:nth-child(1) { padding: 0 10px; text-align: left ; width: auto;} td:nth-child(2) {text-align: left ; width: 100%}\n",
       "    .wandb-row { display: flex; flex-direction: row; flex-wrap: wrap; justify-content: flex-start; width: 100% }\n",
       "    .wandb-col { display: flex; flex-direction: column; flex-basis: 100%; flex: 1; padding: 10px; }\n",
       "    </style>\n",
       "<div class=\"wandb-row\"><div class=\"wandb-col\"><h3>Run history:</h3><br/><table class=\"wandb\"><tr><td>Psi</td><td>▅▆▅▅▅▅▅▅▆▆▆▅▅▆▅▆▅▆▆▅▆▆▅▆▆▆▅▅▅▅▅▅▅█▇▄▅▃▃▁</td></tr><tr><td>decoupled_MI</td><td>▁▁▁▁▁▁▁▁▁▂▅▇▆▃▄▅▄▆▅▇██▇▇▆▅▇▆▄▂▅▃▃▅▄▅▄▆▅▆</td></tr><tr><td>downward_MI</td><td>▃▃▄▃▃▃▃▄▃▃▃▄▄▃▄▃▃▃▃▄▃▃▄▃▃▃▄▃▃▄▄▄▄▁▂▅▄▅▆█</td></tr></table><br/></div><div class=\"wandb-col\"><h3>Run summary:</h3><br/><table class=\"wandb\"><tr><td>Psi</td><td>-10.69216</td></tr><tr><td>decoupled_MI</td><td>0.15848</td></tr><tr><td>downward_MI</td><td>10.82579</td></tr></table><br/></div></div>"
      ],
      "text/plain": [
       "<IPython.core.display.HTML object>"
      ]
     },
     "metadata": {},
     "output_type": "display_data"
    },
    {
     "data": {
      "text/html": [
       " View run <strong style=\"color:#cdcd00\">dry-music-12</strong> at: <a href='https://wandb.ai/dmcsharry/learning_features/runs/mvn2470r' target=\"_blank\">https://wandb.ai/dmcsharry/learning_features/runs/mvn2470r</a><br/>Synced 5 W&B file(s), 0 media file(s), 0 artifact file(s) and 0 other file(s)"
      ],
      "text/plain": [
       "<IPython.core.display.HTML object>"
      ]
     },
     "metadata": {},
     "output_type": "display_data"
    },
    {
     "data": {
      "text/html": [
       "Find logs at: <code>./wandb/run-20240407_144353-mvn2470r/logs</code>"
      ],
      "text/plain": [
       "<IPython.core.display.HTML object>"
      ]
     },
     "metadata": {},
     "output_type": "display_data"
    },
    {
     "data": {
      "text/html": [
       "Successfully finished last run (ID:mvn2470r). Initializing new run:<br/>"
      ],
      "text/plain": [
       "<IPython.core.display.HTML object>"
      ]
     },
     "metadata": {},
     "output_type": "display_data"
    },
    {
     "data": {
      "text/html": [
       "wandb version 0.16.6 is available!  To upgrade, please run:\n",
       " $ pip install wandb --upgrade"
      ],
      "text/plain": [
       "<IPython.core.display.HTML object>"
      ]
     },
     "metadata": {},
     "output_type": "display_data"
    },
    {
     "data": {
      "text/html": [
       "Tracking run with wandb version 0.16.4"
      ],
      "text/plain": [
       "<IPython.core.display.HTML object>"
      ]
     },
     "metadata": {},
     "output_type": "display_data"
    },
    {
     "data": {
      "text/html": [
       "Run data is saved locally in <code>/vol/bitbucket/dm2223/info-theory-experiments/wandb/run-20240407_150349-jj3aewis</code>"
      ],
      "text/plain": [
       "<IPython.core.display.HTML object>"
      ]
     },
     "metadata": {},
     "output_type": "display_data"
    },
    {
     "data": {
      "text/html": [
       "Syncing run <strong><a href='https://wandb.ai/dmcsharry/learning_features/runs/jj3aewis' target=\"_blank\">absurd-jazz-13</a></strong> to <a href='https://wandb.ai/dmcsharry/learning_features' target=\"_blank\">Weights & Biases</a> (<a href='https://wandb.me/run' target=\"_blank\">docs</a>)<br/>"
      ],
      "text/plain": [
       "<IPython.core.display.HTML object>"
      ]
     },
     "metadata": {},
     "output_type": "display_data"
    },
    {
     "data": {
      "text/html": [
       " View project at <a href='https://wandb.ai/dmcsharry/learning_features' target=\"_blank\">https://wandb.ai/dmcsharry/learning_features</a>"
      ],
      "text/plain": [
       "<IPython.core.display.HTML object>"
      ]
     },
     "metadata": {},
     "output_type": "display_data"
    },
    {
     "data": {
      "text/html": [
       " View run at <a href='https://wandb.ai/dmcsharry/learning_features/runs/jj3aewis' target=\"_blank\">https://wandb.ai/dmcsharry/learning_features/runs/jj3aewis</a>"
      ],
      "text/plain": [
       "<IPython.core.display.HTML object>"
      ]
     },
     "metadata": {},
     "output_type": "display_data"
    },
    {
     "name": "stderr",
     "output_type": "stream",
     "text": [
      "Training: 100%|██████████| 20/20 [09:25<00:00, 28.28s/it]\n"
     ]
    }
   ],
   "source": [
    "from smile_estimator import estimate_mutual_information\n",
    "from CLUB_estimation import CLUB, CLUBSample\n",
    "import tqdm\n",
    "dataset = torch.load(\"data/ecog_data.pth\")\n",
    "\n",
    "trainloader = torch.utils.data.DataLoader(dataset, batch_size=config['batch_size'], shuffle=False)\n",
    "\n",
    "\n",
    "wandb.init(project=\"learning_features\", config=config)\n",
    "\n",
    "\n",
    "for epoch in tqdm.tqdm(range(config['epochs']), desc='Training'):\n",
    "    for batch in trainloader:\n",
    "\n",
    "\n",
    "        prepared_batch = prepare_batch(batch)\n",
    "\n",
    "        x0 = prepared_batch[:, 0].to(device).float()\n",
    "        x1 = prepared_batch[:, 1].to(device).float()\n",
    "\n",
    "        x0_one_hot = _add_one_hot(x0)\n",
    "\n",
    "        # update critics\n",
    "        \n",
    "        v0 = feature_network(x0)\n",
    "        v1 = feature_network(x1) \n",
    "\n",
    "        decoupled_MI = estimate_mutual_information('smile', v0, v1, decoupled_critic, clip=config['clip'])\n",
    "        decoupled_loss = -decoupled_MI\n",
    "        decoupled_optimizer.zero_grad()\n",
    "        decoupled_loss.backward(retain_graph=True)\n",
    "        decoupled_optimizer.step()\n",
    "\n",
    "        downward_MI = 0\n",
    "\n",
    "        for i in range(config['num_atoms']):\n",
    "            x0i = x0_one_hot[:, i]\n",
    "            downward_MI += estimate_mutual_information('smile', x0i, v1, downward_critic, clip=config['clip'])\n",
    "        \n",
    "        downward_loss = -downward_MI\n",
    "        downward_optimizer.zero_grad()\n",
    "        downward_loss.backward(retain_graph=True)\n",
    "        downward_optimizer.step()\n",
    "\n",
    "        Psi = decoupled_MI - downward_MI\n",
    "\n",
    "\n",
    "        wandb.log({\n",
    "            \"decoupled_MI\": decoupled_MI,\n",
    "            \"downward_MI\": downward_MI,\n",
    "            \"Psi\": Psi,\n",
    "        })\n",
    "\n",
    "\n",
    "        "
   ]
  },
  {
   "cell_type": "code",
   "execution_count": null,
   "metadata": {},
   "outputs": [],
   "source": [
    "from kraskov_mi import pyMIestimator\n",
    "import numpy as np\n",
    "\n",
    "\n",
    "dataset = torch.load(\"data/ecog_data.pth\")\n",
    "\n",
    "print(dataset)\n",
    "trainloader = torch.utils.data.DataLoader(dataset, batch_size=5000, shuffle=False)\n",
    "for k in range(1, 100, 10):\n",
    "    for batch in trainloader:\n",
    "        prepared_batch = prepare_batch(batch)\n",
    "        x0 = prepared_batch[:, 0].cpu().float()\n",
    "        x1 = prepared_batch[:, 1].cpu().float()\n",
    "\n",
    "        MI = pyMIestimator(x0,x1,k=k, base=np.exp(1))\n",
    "        MI1 = mi(x0, x1,k=k, base=np.exp(1))\n",
    "        print(k)\n",
    "        print(MI)\n",
    "        print(MI1)\n"
   ]
  },
  {
   "cell_type": "code",
   "execution_count": null,
   "metadata": {},
   "outputs": [],
   "source": [
    "dataset = torch.load(\"data/ecog_data.pth\")\n",
    "\n",
    "trainloader = torch.utils.data.DataLoader(dataset, batch_size=5000, shuffle=False)\n",
    "with torch.no_grad():\n",
    "    for batch in trainloader:\n",
    "        prepared_batch = prepare_batch(batch)\n",
    "        x0 = prepared_batch[:, 0].cpu().float()\n",
    "        x1 = prepared_batch[:, 1].cpu().float()\n",
    "\n",
    "        v0 = feature_network(x0.to(device))\n",
    "        v1 = feature_network(x1.to(device))\n",
    "\n",
    "        print(mi(x0.cpu().numpy(), x1.cpu().numpy(), k=10, base=np.exp(1)))\n",
    "        print(mi(v0.cpu().numpy(), v1.cpu().numpy(), k=10, base=np.exp(1)))\n",
    "\n",
    "        mi_cum = 0\n",
    "        for i in range(config['num_atoms']):\n",
    "            x0i = x0[:, i].unsqueeze(1)\n",
    "            mi_cum += mi(x0i.cpu().numpy(), v1.cpu().numpy(), k=10, base=np.exp(1))\n",
    "\n",
    "        print(mi_cum)\n",
    "        break"
   ]
  },
  {
   "cell_type": "code",
   "execution_count": null,
   "metadata": {},
   "outputs": [],
   "source": []
  }
 ],
 "metadata": {
  "kernelspec": {
   "display_name": ".venv",
   "language": "python",
   "name": "python3"
  },
  "language_info": {
   "codemirror_mode": {
    "name": "ipython",
    "version": 3
   },
   "file_extension": ".py",
   "mimetype": "text/x-python",
   "name": "python",
   "nbconvert_exporter": "python",
   "pygments_lexer": "ipython3",
   "version": "3.10.12"
  }
 },
 "nbformat": 4,
 "nbformat_minor": 2
}
