{
 "cells": [
  {
   "cell_type": "code",
   "execution_count": 4,
   "metadata": {},
   "outputs": [
    {
     "name": "stdout",
     "output_type": "stream",
     "text": [
      "cuda\n"
     ]
    }
   ],
   "source": [
    "import torch\n",
    "import torch.nn as nn\n",
    "import lovely_tensors as lt\n",
    "from einops import reduce, rearrange, repeat\n",
    "# from npeet.entropy_estimators import entropy, mi\n",
    "import matplotlib.pyplot as plt\n",
    "import wandb\n",
    "import utils\n",
    "import importlib\n",
    "import os\n",
    "from utils import prepare_ecog_dataset, prepare_batch, estimate_MI_smile\n",
    "from smile_estimator import estimate_mutual_information\n",
    "import tqdm\n",
    "# importlib.reload(utils)\n",
    "\n",
    "\n",
    "\n",
    "lt.monkey_patch()\n",
    "device = torch.device(\"cuda\" if torch.cuda.is_available() else \"cpu\")\n",
    "\n",
    "print(device)"
   ]
  },
  {
   "cell_type": "code",
   "execution_count": 5,
   "metadata": {},
   "outputs": [],
   "source": [
    "\n",
    "class SupervenientFeatureNetwork(nn.Module):\n",
    "    def __init__(\n",
    "            self,\n",
    "            num_atoms: int,\n",
    "            feature_size: int,\n",
    "            hidden_sizes: list,\n",
    "            include_bias: bool = True\n",
    "        ):\n",
    "        super(SupervenientFeatureNetwork, self).__init__()\n",
    "        layers = []\n",
    "        input_size = num_atoms\n",
    "        for hidden_size in hidden_sizes:\n",
    "            layers.append(nn.Linear(input_size, hidden_size, bias=include_bias))\n",
    "            layers.append(nn.ReLU())\n",
    "            input_size = hidden_size\n",
    "        layers.append(nn.Linear(input_size, feature_size, bias=include_bias))\n",
    "        self.f = nn.Sequential(*layers)\n",
    "\n",
    "    def forward(self, x):\n",
    "        return self.f(x)\n",
    "\n",
    "\n",
    "class DecoupledCritic(nn.Module):\n",
    "    def __init__(\n",
    "            self,\n",
    "            feature_size: int,\n",
    "            critic_output_size: int,\n",
    "            hidden_sizes: list,\n",
    "            include_bias: bool = True\n",
    "        ):\n",
    "        super(DecoupledCritic, self).__init__()\n",
    "        # self.v_encoder = nn.Sequential(\n",
    "        #     nn.Linear(feature_size, 128),\n",
    "        #     nn.ReLU(),\n",
    "        #     nn.Linear(128, 64),\n",
    "        #     nn.ReLU(),\n",
    "        #     nn.Linear(64, 8),\n",
    "        # )\n",
    "\n",
    "        layers = []\n",
    "        input_size = feature_size\n",
    "        for hidden_size in hidden_sizes:\n",
    "            layers.append(nn.Linear(input_size, hidden_size, bias=include_bias))\n",
    "            layers.append(nn.ReLU())\n",
    "            input_size = hidden_size\n",
    "        layers.append(nn.Linear(input_size, critic_output_size, bias=include_bias))\n",
    "\n",
    "        self.v_encoder = nn.Sequential(*layers)\n",
    "        self.W = nn.Linear(critic_output_size, critic_output_size, bias=False)\n",
    "\n",
    "    def forward(self, v0, v1):\n",
    "        v0_encoded = self.v_encoder(v0)\n",
    "        v1_encoded = self.v_encoder(v1)\n",
    "        v1_encoded_transformed = self.W(v1_encoded)\n",
    "\n",
    "        scores = torch.matmul(v0_encoded, v1_encoded_transformed.t())\n",
    "        return scores\n",
    "    \n",
    "\n",
    "class DownwardCritic(nn.Module):\n",
    "    def __init__(\n",
    "            self,\n",
    "            feature_size: int,\n",
    "            critic_output_size: int,\n",
    "            hidden_sizes_v_critic: list,\n",
    "            hidden_sizes_xi_critic: list,\n",
    "            include_bias: bool = True\n",
    "        ):\n",
    "        super(DownwardCritic, self).__init__()\n",
    "        # self.v_encoder = nn.Sequential(\n",
    "        #     nn.Linear(feature_size, 512),\n",
    "        #     nn.ReLU(),\n",
    "        #     nn.Linear(512, 512),\n",
    "        #     nn.ReLU(),\n",
    "        #     nn.Linear(512, 128),\n",
    "        #     nn.ReLU(),\n",
    "        #     nn.Linear(128, 8),\n",
    "        # )\n",
    "\n",
    "        # self.atom_encoder = nn.Sequential(\n",
    "        #     nn.Linear(1, 128),\n",
    "        #     nn.ReLU(),\n",
    "        #     nn.Linear(128, 64),\n",
    "        #     nn.ReLU(),\n",
    "        #     nn.Linear(64, 8),\n",
    "        # )\n",
    "\n",
    "        v_encoder_layers = []\n",
    "        input_size = feature_size\n",
    "        for hidden_size in hidden_sizes_v_critic:\n",
    "            v_encoder_layers.append(nn.Linear(input_size, hidden_size, bias=include_bias))\n",
    "            v_encoder_layers.append(nn.ReLU())\n",
    "            input_size = hidden_size\n",
    "        v_encoder_layers.append(nn.Linear(input_size, critic_output_size, bias=include_bias))\n",
    "        self.v_encoder = nn.Sequential(*v_encoder_layers)\n",
    "\n",
    "        atom_encoder_layers = []\n",
    "        input_size = 1\n",
    "        for hidden_size in hidden_sizes_xi_critic:\n",
    "            atom_encoder_layers.append(nn.Linear(input_size, hidden_size, bias=include_bias))\n",
    "            atom_encoder_layers.append(nn.ReLU())\n",
    "            input_size = hidden_size\n",
    "        atom_encoder_layers.append(nn.Linear(input_size, critic_output_size, bias=include_bias))\n",
    "        self.atom_encoder = nn.Sequential(*atom_encoder_layers)\n",
    "    \n",
    "    def forward(self, v1, x0i):\n",
    "        v1_encoded = self.v_encoder(v1)\n",
    "        x0i_encoded = self.atom_encoder(x0i)\n",
    "\n",
    "        scores = torch.matmul(v1_encoded, x0i_encoded.t())\n",
    "        return scores\n",
    "\n",
    "\n",
    "\n"
   ]
  },
  {
   "cell_type": "code",
   "execution_count": 10,
   "metadata": {},
   "outputs": [],
   "source": [
    "config = {\n",
    "    \"batch_size\": 1000,\n",
    "    \"num_atoms\": 64,\n",
    "    \"feature_size\": 4,\n",
    "    \"clip\": 5,\n",
    "    \"critic_output_size\": 1,\n",
    "    \"downward_hidden_sizes_v_critic\": [512, 512, 128],\n",
    "    \"downward_hidden_sizes_xi_critic\": [128, 128, 64],\n",
    "    \"feature_hidden_sizes\": [128, 128, 64],\n",
    "    \"decoupled_critis_hidden_sizes\": [128, 128, 64],\n",
    "    \"feature_lr\": 1e-4,\n",
    "    \"decoupled_critic_lr\": 1e-3,\n",
    "    \"downward_lr\": 1e-3,    \n",
    "    \"bias\": True,\n",
    "    \"update_f_every_N_steps\": 2,\n",
    "}\n"
   ]
  },
  {
   "cell_type": "markdown",
   "metadata": {},
   "source": [
    "## Init everything"
   ]
  },
  {
   "cell_type": "code",
   "execution_count": null,
   "metadata": {},
   "outputs": [],
   "source": []
  },
  {
   "cell_type": "markdown",
   "metadata": {},
   "source": [
    "## Train things"
   ]
  },
  {
   "cell_type": "code",
   "execution_count": 11,
   "metadata": {},
   "outputs": [
    {
     "data": {
      "text/html": [
       "Finishing last run (ID:hcz9omww) before initializing another..."
      ],
      "text/plain": [
       "<IPython.core.display.HTML object>"
      ]
     },
     "metadata": {},
     "output_type": "display_data"
    },
    {
     "data": {
      "text/html": [
       "<style>\n",
       "    table.wandb td:nth-child(1) { padding: 0 10px; text-align: left ; width: auto;} td:nth-child(2) {text-align: left ; width: 100%}\n",
       "    .wandb-row { display: flex; flex-direction: row; flex-wrap: wrap; justify-content: flex-start; width: 100% }\n",
       "    .wandb-col { display: flex; flex-direction: column; flex-basis: 100%; flex: 1; padding: 10px; }\n",
       "    </style>\n",
       "<div class=\"wandb-row\"><div class=\"wandb-col\"><h3>Run history:</h3><br/><table class=\"wandb\"><tr><td>Psi</td><td>▁▁▁▁▁▁▁▁▁▁▁▁▁▁▁▁▁▁▁▁▁▁▂▂▂▂▂▃▃▃▄▄▄▄▅▅▅▆▇█</td></tr><tr><td>decoupled_MI</td><td>▁▁▁▁▁▁▁▁▁▁▁▁▁▁▁▁▂▁▁▁▁▁▁▁▂▃▂▃▂▃▄▃▂▃▅▃▃▃▄█</td></tr><tr><td>sum_downward_MI</td><td>██████████████████████▇▇▇▇▇▆▆▆▅▅▅▅▄▄▃▃▂▁</td></tr></table><br/></div><div class=\"wandb-col\"><h3>Run summary:</h3><br/><table class=\"wandb\"><tr><td>Psi</td><td>365.43436</td></tr><tr><td>decoupled_MI</td><td>11.60631</td></tr><tr><td>sum_downward_MI</td><td>-353.82803</td></tr></table><br/></div></div>"
      ],
      "text/plain": [
       "<IPython.core.display.HTML object>"
      ]
     },
     "metadata": {},
     "output_type": "display_data"
    },
    {
     "data": {
      "text/html": [
       " View run <strong style=\"color:#cdcd00\">super-firebrand-53</strong> at: <a href='https://wandb.ai/dmcsharry/getting-figures/runs/hcz9omww' target=\"_blank\">https://wandb.ai/dmcsharry/getting-figures/runs/hcz9omww</a><br/> View project at: <a href='https://wandb.ai/dmcsharry/getting-figures' target=\"_blank\">https://wandb.ai/dmcsharry/getting-figures</a><br/>Synced 5 W&B file(s), 0 media file(s), 0 artifact file(s) and 0 other file(s)"
      ],
      "text/plain": [
       "<IPython.core.display.HTML object>"
      ]
     },
     "metadata": {},
     "output_type": "display_data"
    },
    {
     "data": {
      "text/html": [
       "Find logs at: <code>./wandb/run-20240413_220746-hcz9omww/logs</code>"
      ],
      "text/plain": [
       "<IPython.core.display.HTML object>"
      ]
     },
     "metadata": {},
     "output_type": "display_data"
    },
    {
     "data": {
      "text/html": [
       "Successfully finished last run (ID:hcz9omww). Initializing new run:<br/>"
      ],
      "text/plain": [
       "<IPython.core.display.HTML object>"
      ]
     },
     "metadata": {},
     "output_type": "display_data"
    },
    {
     "data": {
      "text/html": [
       "Tracking run with wandb version 0.16.6"
      ],
      "text/plain": [
       "<IPython.core.display.HTML object>"
      ]
     },
     "metadata": {},
     "output_type": "display_data"
    },
    {
     "data": {
      "text/html": [
       "Run data is saved locally in <code>/vol/bitbucket/dm2223/info-theory-experiments/wandb/run-20240413_224438-ob64hkuy</code>"
      ],
      "text/plain": [
       "<IPython.core.display.HTML object>"
      ]
     },
     "metadata": {},
     "output_type": "display_data"
    },
    {
     "data": {
      "text/html": [
       "Syncing run <strong><a href='https://wandb.ai/dmcsharry/getting-figures/runs/ob64hkuy' target=\"_blank\">lucky-field-54</a></strong> to <a href='https://wandb.ai/dmcsharry/getting-figures' target=\"_blank\">Weights & Biases</a> (<a href='https://wandb.me/run' target=\"_blank\">docs</a>)<br/>"
      ],
      "text/plain": [
       "<IPython.core.display.HTML object>"
      ]
     },
     "metadata": {},
     "output_type": "display_data"
    },
    {
     "data": {
      "text/html": [
       " View project at <a href='https://wandb.ai/dmcsharry/getting-figures' target=\"_blank\">https://wandb.ai/dmcsharry/getting-figures</a>"
      ],
      "text/plain": [
       "<IPython.core.display.HTML object>"
      ]
     },
     "metadata": {},
     "output_type": "display_data"
    },
    {
     "data": {
      "text/html": [
       " View run at <a href='https://wandb.ai/dmcsharry/getting-figures/runs/ob64hkuy' target=\"_blank\">https://wandb.ai/dmcsharry/getting-figures/runs/ob64hkuy</a>"
      ],
      "text/plain": [
       "<IPython.core.display.HTML object>"
      ]
     },
     "metadata": {},
     "output_type": "display_data"
    },
    {
     "name": "stderr",
     "output_type": "stream",
     "text": [
      "Training:  40%|████      | 4/10 [05:14<07:52, 78.82s/it]"
     ]
    }
   ],
   "source": [
    "##\n",
    "## INIT\n",
    "##\n",
    "\n",
    "dataset = torch.load(\"data/ecog_data_pairs.pth\")\n",
    "trainloader = torch.utils.data.DataLoader(dataset, batch_size=config['batch_size'], shuffle=True)\n",
    "\n",
    "wandb.init(project=\"getting-figures\", config=config)\n",
    "\n",
    "feature_network = SupervenientFeatureNetwork(\n",
    "    num_atoms=config['num_atoms'],\n",
    "    feature_size=config['feature_size'],\n",
    "    hidden_sizes=config['feature_hidden_sizes'],\n",
    "    include_bias=config['bias']\n",
    "    ).to(device)\n",
    "\n",
    "decoupled_critic = DecoupledCritic(\n",
    "    feature_size=config['feature_size'],\n",
    "    critic_output_size=config['critic_output_size'],\n",
    "    hidden_sizes=config['decoupled_critis_hidden_sizes'],\n",
    "    include_bias=config['bias']\n",
    "    ).to(device)\n",
    "\n",
    "downward_critics = [\n",
    "    DownwardCritic(\n",
    "        feature_size=config['feature_size'],\n",
    "        critic_output_size=config['critic_output_size'],\n",
    "        hidden_sizes_v_critic=config['downward_hidden_sizes_v_critic'],\n",
    "        hidden_sizes_xi_critic=config['downward_hidden_sizes_xi_critic'],\n",
    "        include_bias=config['bias']\n",
    "        ).to(device) \n",
    "    for _ in range(config['num_atoms'])\n",
    "]\n",
    "\n",
    "downward_optims = [torch.optim.Adam(dc.parameters(), lr=config[\"downward_lr\"]) for dc in downward_critics]\n",
    "feature_optimizer = torch.optim.Adam(feature_network.parameters(), lr=config[\"feature_lr\"])\n",
    "decoupled_optimizer = torch.optim.Adam(decoupled_critic.parameters(), lr=config[\"decoupled_critic_lr\"])\n",
    "\n",
    "\n",
    "# TODO: figure out why only f network is being watched, I would like to keep a closer eye on the grad n params.\n",
    "# TODO: Look at how GANs are trained with pytorch and make sure I'm not doing anything unreasonable.\n",
    "# Eg, https://github.com/eriklindernoren/PyTorch-GAN/blob/master/implementations/gan/gan.py \n",
    "# ^ this does not require retain_graph=True, so maybe this can be optomized somehow\n",
    "wandb.watch(feature_network, log='all')\n",
    "wandb.watch(decoupled_critic, log=\"all\")\n",
    "for dc in downward_critics:\n",
    "    wandb.watch(dc, log='all')\n",
    "\n",
    "##\n",
    "## TRAIN\n",
    "##\n",
    "\n",
    "epochs = 10\n",
    "\n",
    "for _ in tqdm.tqdm(range(epochs), desc='Training'):\n",
    "    for batch_num, batch in enumerate(trainloader):\n",
    "        x0 = batch[:, 0].to(device).float()\n",
    "        x1 = batch[:, 1].to(device).float()\n",
    "\n",
    "        # update decoupled critic\n",
    "\n",
    "        v0 = feature_network(x0)\n",
    "        v1 = feature_network(x1) \n",
    "\n",
    "        decoupled_optimizer.zero_grad()\n",
    "        decoupled_scores = decoupled_critic(v0, v1)\n",
    "        decoupled_MI = estimate_mutual_information('smile', decoupled_scores, clip=config['clip'])\n",
    "        decoupled_loss = -decoupled_MI\n",
    "        decoupled_loss.backward(retain_graph=True)\n",
    "        decoupled_optimizer.step()\n",
    "\n",
    "\n",
    "        # update each downward critic\n",
    "\n",
    "        for i in range(config['num_atoms']):\n",
    "            downward_optims[i].zero_grad()\n",
    "            channel_i = x0[:, i].unsqueeze(1)\n",
    "            downward_scores = downward_critics[i](v1, channel_i)\n",
    "            downward_MI_i = estimate_mutual_information('smile', downward_scores, clip=config['clip'])\n",
    "            downward_loss = -downward_MI_i\n",
    "            downward_loss.backward(retain_graph=True)\n",
    "            downward_optims[i].step()\n",
    "            wandb.log({\n",
    "                f\"downward_MI_{i}\": downward_MI_i   \n",
    "            })\n",
    "\n",
    "        # update feature network   \n",
    "\n",
    "        feature_optimizer.zero_grad()\n",
    "        sum_downward_MI = 0\n",
    "\n",
    "        for i in range(config['num_atoms']):\n",
    "            channel_i = x0[:, i].unsqueeze(1)\n",
    "            downward_scores1 = downward_critics[i](v1, channel_i)\n",
    "            sum_downward_MI += estimate_mutual_information('smile', downward_scores1, clip=config['clip'])\n",
    "\n",
    "        decoupled_scores1 = decoupled_critic(v0, v1)\n",
    "        decoupled_MI1 = estimate_mutual_information('smile', decoupled_scores1, clip=config['clip'])\n",
    "\n",
    "        Psi = decoupled_MI1 - sum_downward_MI\n",
    "        feature_loss = -Psi\n",
    "\n",
    "        if batch_num % config['update_f_every_N_steps'] == 0:\n",
    "            feature_loss.backward()\n",
    "            feature_optimizer.step()\n",
    "\n",
    "        wandb.log({\n",
    "            \"decoupled_MI\": decoupled_MI1,\n",
    "            \"sum_downward_MI\": sum_downward_MI,\n",
    "            \"Psi\": Psi,\n",
    "        })\n",
    "\n"
   ]
  },
  {
   "cell_type": "code",
   "execution_count": null,
   "metadata": {},
   "outputs": [],
   "source": [
    "# Train critics only:\n",
    "\n",
    "epochs = 10\n",
    "\n",
    "for _ in tqdm.tqdm(range(epochs), desc='Training'):\n",
    "    for batch_num, batch in enumerate(trainloader):\n",
    "        x0 = batch[:, 0].to(device).float()\n",
    "        x1 = batch[:, 1].to(device).float()\n",
    "\n",
    "        # update decoupled critic\n",
    "\n",
    "        v0 = feature_network(x0)\n",
    "        v1 = feature_network(x1) \n",
    "\n",
    "        decoupled_optimizer.zero_grad()\n",
    "        decoupled_scores = decoupled_critic(v0, v1)\n",
    "        decoupled_MI = estimate_mutual_information('smile', decoupled_scores, clip=config['clip'])\n",
    "        decoupled_loss = -decoupled_MI\n",
    "        decoupled_loss.backward(retain_graph=True)\n",
    "        decoupled_optimizer.step()\n",
    "\n",
    "\n",
    "        # update each downward critic\n",
    "\n",
    "        for i in range(config['num_atoms']):\n",
    "            downward_optims[i].zero_grad()\n",
    "            channel_i = x0[:, i].unsqueeze(1)\n",
    "            downward_scores = downward_critics[i](v1, channel_i)\n",
    "            downward_MI_i = estimate_mutual_information('smile', downward_scores, clip=config['clip'])\n",
    "            downward_loss = -downward_MI_i\n",
    "            downward_loss.backward(retain_graph=True)\n",
    "            downward_optims[i].step()\n",
    "            wandb.log({\n",
    "                f\"downward_MI_{i}\": downward_MI_i   \n",
    "            })\n",
    "\n",
    "        # update feature network   \n",
    "\n",
    "        feature_optimizer.zero_grad()\n",
    "        sum_downward_MI = 0\n",
    "\n",
    "        for i in range(config['num_atoms']):\n",
    "            channel_i = x0[:, i].unsqueeze(1)\n",
    "            downward_scores1 = downward_critics[i](v1, channel_i)\n",
    "            sum_downward_MI += estimate_mutual_information('smile', downward_scores1, clip=config['clip'])\n",
    "\n",
    "        decoupled_scores1 = decoupled_critic(v0, v1)\n",
    "        decoupled_MI1 = estimate_mutual_information('smile', decoupled_scores1, clip=config['clip'])\n",
    "\n",
    "        Psi = decoupled_MI1 - sum_downward_MI\n",
    "        feature_loss = -Psi\n",
    "\n",
    "        wandb.log({\n",
    "            \"decoupled_MI\": decoupled_MI1,\n",
    "            \"sum_downward_MI\": sum_downward_MI,\n",
    "            \"Psi\": Psi,\n",
    "        })\n"
   ]
  }
 ],
 "metadata": {
  "kernelspec": {
   "display_name": ".venv",
   "language": "python",
   "name": "python3"
  },
  "language_info": {
   "codemirror_mode": {
    "name": "ipython",
    "version": 3
   },
   "file_extension": ".py",
   "mimetype": "text/x-python",
   "name": "python",
   "nbconvert_exporter": "python",
   "pygments_lexer": "ipython3",
   "version": "3.10.12"
  }
 },
 "nbformat": 4,
 "nbformat_minor": 2
}
