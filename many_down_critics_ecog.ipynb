{
 "cells": [
  {
   "cell_type": "code",
   "execution_count": 1,
   "metadata": {},
   "outputs": [
    {
     "name": "stdout",
     "output_type": "stream",
     "text": [
      "cuda\n"
     ]
    }
   ],
   "source": [
    "import torch\n",
    "import torch.nn as nn\n",
    "import lovely_tensors as lt\n",
    "from einops import reduce, rearrange, repeat\n",
    "# from npeet.entropy_estimators import entropy, mi\n",
    "import matplotlib.pyplot as plt\n",
    "import wandb\n",
    "import utils\n",
    "import importlib\n",
    "import os\n",
    "from utils import prepare_ecog_dataset, prepare_batch, estimate_MI_smile\n",
    "from smile_estimator import estimate_mutual_information\n",
    "import tqdm\n",
    "from torch.nn.utils import spectral_norm\n",
    "# importlib.reload(utils)\n",
    "\n",
    "\n",
    "\n",
    "lt.monkey_patch()\n",
    "device = torch.device(\"cuda\" if torch.cuda.is_available() else \"cpu\")\n",
    "\n",
    "print(device)"
   ]
  },
  {
   "cell_type": "code",
   "execution_count": 2,
   "metadata": {},
   "outputs": [],
   "source": [
    "\n",
    "class SupervenientFeatureNetwork(nn.Module):\n",
    "    def __init__(\n",
    "            self,\n",
    "            num_atoms: int,\n",
    "            feature_size: int,\n",
    "            hidden_sizes: list,\n",
    "            include_bias: bool = True\n",
    "        ):\n",
    "        super(SupervenientFeatureNetwork, self).__init__()\n",
    "        layers = []\n",
    "        input_size = num_atoms\n",
    "        for hidden_size in hidden_sizes:\n",
    "            layers.append(nn.Linear(input_size, hidden_size, bias=include_bias))\n",
    "            layers.append(nn.ReLU())\n",
    "            input_size = hidden_size\n",
    "        layers.append(nn.Linear(input_size, feature_size, bias=include_bias))\n",
    "        self.f = nn.Sequential(*layers)\n",
    "\n",
    "    def forward(self, x):\n",
    "        return self.f(x)\n",
    "\n",
    "\n",
    "class DecoupledCritic(nn.Module):\n",
    "    def __init__(\n",
    "            self,\n",
    "            feature_size: int,\n",
    "            critic_output_size: int,\n",
    "            hidden_sizes: list,\n",
    "            include_bias: bool = True\n",
    "        ):\n",
    "        super(DecoupledCritic, self).__init__()\n",
    "\n",
    "        layers = []\n",
    "        input_size = feature_size\n",
    "        for hidden_size in hidden_sizes:\n",
    "            layers.append(nn.Linear(input_size, hidden_size, bias=include_bias))\n",
    "            layers.append(nn.ReLU())\n",
    "            input_size = hidden_size\n",
    "        layers.append(nn.Linear(input_size, critic_output_size, bias=include_bias))\n",
    "\n",
    "        self.v_encoder = nn.Sequential(*layers)\n",
    "        self.W = nn.Linear(critic_output_size, critic_output_size, bias=False)\n",
    "\n",
    "    def forward(self, v0, v1):\n",
    "        v0_encoded = self.v_encoder(v0)\n",
    "        v1_encoded = self.v_encoder(v1)\n",
    "        v1_encoded_transformed = self.W(v1_encoded)\n",
    "\n",
    "        scores = torch.matmul(v0_encoded, v1_encoded_transformed.t())\n",
    "        return scores\n",
    "    \n",
    "\n",
    "class DownwardCritic(nn.Module):\n",
    "    def __init__(\n",
    "            self,\n",
    "            feature_size: int,\n",
    "            critic_output_size: int,\n",
    "            hidden_sizes_v_critic: list,\n",
    "            hidden_sizes_xi_critic: list,\n",
    "            include_bias: bool = True\n",
    "        ):\n",
    "        super(DownwardCritic, self).__init__()\n",
    "\n",
    "        v_encoder_layers = []\n",
    "        input_size = feature_size\n",
    "        for hidden_size in hidden_sizes_v_critic:\n",
    "            # TODO: Understand what the fuck spectral norm actually is\n",
    "            v_encoder_layers.append(spectral_norm(nn.Linear(input_size, hidden_size, bias=include_bias)))\n",
    "            v_encoder_layers.append(nn.ReLU())\n",
    "            input_size = hidden_size\n",
    "        v_encoder_layers.append(spectral_norm(nn.Linear(input_size, critic_output_size, bias=include_bias)))\n",
    "        self.v_encoder = nn.Sequential(*v_encoder_layers)\n",
    "\n",
    "        atom_encoder_layers = []\n",
    "        input_size = 1\n",
    "        for hidden_size in hidden_sizes_xi_critic:\n",
    "            atom_encoder_layers.append(spectral_norm(nn.Linear(input_size, hidden_size, bias=include_bias)))\n",
    "            atom_encoder_layers.append(nn.ReLU())\n",
    "            input_size = hidden_size\n",
    "        atom_encoder_layers.append(spectral_norm(nn.Linear(input_size, critic_output_size, bias=include_bias)))\n",
    "        self.atom_encoder = nn.Sequential(*atom_encoder_layers)\n",
    "    \n",
    "    def forward(self, v1, x0i):\n",
    "        v1_encoded = self.v_encoder(v1)\n",
    "        x0i_encoded = self.atom_encoder(x0i)\n",
    "\n",
    "        scores = torch.matmul(v1_encoded, x0i_encoded.t())\n",
    "        return scores\n",
    "    \n",
    "\n",
    "\n",
    "class NoSpectralDownwardCritic(nn.Module):\n",
    "    def __init__(\n",
    "            self,\n",
    "            feature_size: int,\n",
    "            critic_output_size: int,\n",
    "            hidden_sizes_v_critic: list,\n",
    "            hidden_sizes_xi_critic: list,\n",
    "            include_bias: bool = True\n",
    "        ):\n",
    "        super(NoSpectralDownwardCritic, self).__init__()\n",
    "\n",
    "        v_encoder_layers = []\n",
    "        input_size = feature_size\n",
    "        for hidden_size in hidden_sizes_v_critic:\n",
    "            v_encoder_layers.append(nn.Linear(input_size, hidden_size, bias=include_bias))\n",
    "            v_encoder_layers.append(nn.ReLU())\n",
    "            input_size = hidden_size\n",
    "        v_encoder_layers.append(nn.Linear(input_size, critic_output_size, bias=include_bias))\n",
    "        self.v_encoder = nn.Sequential(*v_encoder_layers)\n",
    "\n",
    "        atom_encoder_layers = []\n",
    "        input_size = 1\n",
    "        for hidden_size in hidden_sizes_xi_critic:\n",
    "            atom_encoder_layers.append(nn.Linear(input_size, hidden_size, bias=include_bias))\n",
    "            atom_encoder_layers.append(nn.ReLU())\n",
    "            input_size = hidden_size\n",
    "        atom_encoder_layers.append(nn.Linear(input_size, critic_output_size, bias=include_bias)) \n",
    "        self.atom_encoder = nn.Sequential(*atom_encoder_layers)\n",
    "    \n",
    "    def forward(self, v1, x0i):\n",
    "        v1_encoded = self.v_encoder(v1)\n",
    "        x0i_encoded = self.atom_encoder(x0i)\n",
    "\n",
    "        scores = torch.matmul(v1_encoded, x0i_encoded.t())\n",
    "        return scores\n",
    "    \n"
   ]
  },
  {
   "cell_type": "code",
   "execution_count": 9,
   "metadata": {},
   "outputs": [],
   "source": [
    "config = {\n",
    "    \"batch_size\": 5000,\n",
    "    \"num_atoms\": 64,\n",
    "    \"feature_size\": 1,\n",
    "    \"clip\": 5,\n",
    "    \"critic_output_size\": 16,\n",
    "    \"downward_hidden_sizes_v_critic\": [1028, 1028, 512, 64],\n",
    "    \"downward_hidden_sizes_xi_critic\": [512, 512, 512, 64],\n",
    "    \"feature_hidden_sizes\": [1028, 1028, 256],\n",
    "    \"decoupled_critis_hidden_sizes\": [512, 512, 128],\n",
    "    \"feature_lr\": 1e-5,\n",
    "    \"decoupled_critic_lr\": 1e-4,\n",
    "    \"downward_lr\": 1e-4,    \n",
    "    \"bias\": True,\n",
    "    \"update_f_every_N_steps\": 2,\n",
    "}\n"
   ]
  },
  {
   "cell_type": "markdown",
   "metadata": {},
   "source": [
    "## Train things"
   ]
  },
  {
   "cell_type": "code",
   "execution_count": 4,
   "metadata": {},
   "outputs": [
    {
     "name": "stderr",
     "output_type": "stream",
     "text": [
      "Failed to detect the name of this notebook, you can set it manually with the WANDB_NOTEBOOK_NAME environment variable to enable code saving.\n",
      "\u001b[34m\u001b[1mwandb\u001b[0m: Currently logged in as: \u001b[33mdmcsharry\u001b[0m. Use \u001b[1m`wandb login --relogin`\u001b[0m to force relogin\n"
     ]
    },
    {
     "data": {
      "text/html": [
       "Tracking run with wandb version 0.16.6"
      ],
      "text/plain": [
       "<IPython.core.display.HTML object>"
      ]
     },
     "metadata": {},
     "output_type": "display_data"
    },
    {
     "data": {
      "text/html": [
       "Run data is saved locally in <code>/vol/bitbucket/dm2223/info-theory-experiments/wandb/run-20240414_203734-7i6rbswa</code>"
      ],
      "text/plain": [
       "<IPython.core.display.HTML object>"
      ]
     },
     "metadata": {},
     "output_type": "display_data"
    },
    {
     "data": {
      "text/html": [
       "Syncing run <strong><a href='https://wandb.ai/dmcsharry/getting-figures/runs/7i6rbswa' target=\"_blank\">cosmic-pine-67</a></strong> to <a href='https://wandb.ai/dmcsharry/getting-figures' target=\"_blank\">Weights & Biases</a> (<a href='https://wandb.me/run' target=\"_blank\">docs</a>)<br/>"
      ],
      "text/plain": [
       "<IPython.core.display.HTML object>"
      ]
     },
     "metadata": {},
     "output_type": "display_data"
    },
    {
     "data": {
      "text/html": [
       " View project at <a href='https://wandb.ai/dmcsharry/getting-figures' target=\"_blank\">https://wandb.ai/dmcsharry/getting-figures</a>"
      ],
      "text/plain": [
       "<IPython.core.display.HTML object>"
      ]
     },
     "metadata": {},
     "output_type": "display_data"
    },
    {
     "data": {
      "text/html": [
       " View run at <a href='https://wandb.ai/dmcsharry/getting-figures/runs/7i6rbswa' target=\"_blank\">https://wandb.ai/dmcsharry/getting-figures/runs/7i6rbswa</a>"
      ],
      "text/plain": [
       "<IPython.core.display.HTML object>"
      ]
     },
     "metadata": {},
     "output_type": "display_data"
    },
    {
     "name": "stderr",
     "output_type": "stream",
     "text": [
      "Training: 100%|██████████| 5/5 [18:13<00:00, 218.79s/it]\n"
     ]
    }
   ],
   "source": [
    "\n",
    "##\n",
    "## INIT\n",
    "##\n",
    "\n",
    "dataset = torch.load(\"data/ecog_data_pairs.pth\")\n",
    "trainloader = torch.utils.data.DataLoader(dataset, batch_size=config['batch_size'], shuffle=True)\n",
    "\n",
    "wandb.init(project=\"getting-figures\", config=config)\n",
    "\n",
    "feature_network = SupervenientFeatureNetwork(\n",
    "    num_atoms=config['num_atoms'],\n",
    "    feature_size=config['feature_size'],\n",
    "    hidden_sizes=config['feature_hidden_sizes'],\n",
    "    include_bias=config['bias']\n",
    "    ).to(device)\n",
    "\n",
    "decoupled_critic = DecoupledCritic(\n",
    "    feature_size=config['feature_size'],\n",
    "    critic_output_size=config['critic_output_size'],\n",
    "    hidden_sizes=config['decoupled_critis_hidden_sizes'],\n",
    "    include_bias=config['bias']\n",
    "    ).to(device)\n",
    "\n",
    "downward_critics = [\n",
    "    DownwardCritic(\n",
    "        feature_size=config['feature_size'],\n",
    "        critic_output_size=config['critic_output_size'],\n",
    "        hidden_sizes_v_critic=config['downward_hidden_sizes_v_critic'],\n",
    "        hidden_sizes_xi_critic=config['downward_hidden_sizes_xi_critic'],\n",
    "        include_bias=config['bias']\n",
    "        ).to(device) \n",
    "    for _ in range(config['num_atoms'])\n",
    "]\n",
    "\n",
    "downward_optims = [torch.optim.Adam(dc.parameters(), lr=config[\"downward_lr\"]) for dc in downward_critics]\n",
    "feature_optimizer = torch.optim.Adam(feature_network.parameters(), lr=config[\"feature_lr\"])\n",
    "decoupled_optimizer = torch.optim.Adam(decoupled_critic.parameters(), lr=config[\"decoupled_critic_lr\"])\n",
    "\n",
    "\n",
    "# TODO: figure out why only f network is being watched, I would like to keep a closer eye on the grad n params.\n",
    "# TODO: Look at how GANs are trained with pytorch and make sure I'm not doing anything unreasonable.\n",
    "# Eg, https://github.com/eriklindernoren/PyTorch-GAN/blob/master/implementations/gan/gan.py \n",
    "# ^ this does not require retain_graph=True, so maybe this can be optomized somehow\n",
    "wandb.watch(feature_network, log='all')\n",
    "wandb.watch(decoupled_critic, log=\"all\")\n",
    "for dc in downward_critics:\n",
    "    wandb.watch(dc, log='all')\n",
    "\n",
    "##\n",
    "## TRAIN FEATURE NETWORK\n",
    "##\n",
    "\n",
    "epochs = 5\n",
    "\n",
    "for _ in tqdm.tqdm(range(epochs), desc='Training'):\n",
    "    for batch_num, batch in enumerate(trainloader):\n",
    "        x0 = batch[:, 0].to(device).float()\n",
    "        x1 = batch[:, 1].to(device).float()\n",
    "\n",
    "        # update decoupled critic\n",
    "\n",
    "        v0 = feature_network(x0)\n",
    "        v1 = feature_network(x1) \n",
    "\n",
    "        decoupled_optimizer.zero_grad()\n",
    "        decoupled_scores = decoupled_critic(v0, v1)\n",
    "        decoupled_MI = estimate_mutual_information('smile', decoupled_scores, clip=config['clip'])\n",
    "        decoupled_loss = -decoupled_MI\n",
    "        decoupled_loss.backward(retain_graph=True)\n",
    "        decoupled_optimizer.step()\n",
    "\n",
    "\n",
    "        # update each downward critic \n",
    "\n",
    "        for i in range(config['num_atoms']):\n",
    "            downward_optims[i].zero_grad()\n",
    "            channel_i = x0[:, i].unsqueeze(1)\n",
    "            downward_scores = downward_critics[i](v1, channel_i)\n",
    "            downward_MI_i = estimate_mutual_information('smile', downward_scores, clip=config['clip'])\n",
    "            # add spectral norm to the loss\n",
    "            downward_loss = - downward_MI_i\n",
    "            downward_loss.backward(retain_graph=True)\n",
    "            downward_optims[i].step()\n",
    "            wandb.log({\n",
    "                f\"downward_MI_{i}\": downward_MI_i   \n",
    "            })\n",
    "\n",
    "        # update feature network   \n",
    "\n",
    "        feature_optimizer.zero_grad()\n",
    "        sum_downward_MI = 0\n",
    "\n",
    "        for i in range(config['num_atoms']):\n",
    "            channel_i = x0[:, i].unsqueeze(1)\n",
    "            downward_scores1 = downward_critics[i](v1, channel_i)\n",
    "            sum_downward_MI += estimate_mutual_information('smile', downward_scores1, clip=config['clip'])\n",
    "\n",
    "        decoupled_scores1 = decoupled_critic(v0, v1)\n",
    "        decoupled_MI1 = estimate_mutual_information('smile', decoupled_scores1, clip=config['clip'])\n",
    "\n",
    "        Psi = decoupled_MI1 - sum_downward_MI\n",
    "        feature_loss = -Psi\n",
    "\n",
    "        if batch_num % config['update_f_every_N_steps'] == 0:\n",
    "            feature_loss.backward()\n",
    "            feature_optimizer.step()\n",
    "\n",
    "        wandb.log({\n",
    "            \"decoupled_MI\": decoupled_MI1,\n",
    "            \"sum_downward_MI\": sum_downward_MI,\n",
    "            \"Psi\": Psi,\n",
    "        })\n",
    "\n"
   ]
  },
  {
   "cell_type": "code",
   "execution_count": 14,
   "metadata": {},
   "outputs": [
    {
     "data": {
      "text/html": [
       "Finishing last run (ID:2zf15mrm) before initializing another..."
      ],
      "text/plain": [
       "<IPython.core.display.HTML object>"
      ]
     },
     "metadata": {},
     "output_type": "display_data"
    },
    {
     "data": {
      "text/html": [
       "<style>\n",
       "    table.wandb td:nth-child(1) { padding: 0 10px; text-align: left ; width: auto;} td:nth-child(2) {text-align: left ; width: 100%}\n",
       "    .wandb-row { display: flex; flex-direction: row; flex-wrap: wrap; justify-content: flex-start; width: 100% }\n",
       "    .wandb-col { display: flex; flex-direction: column; flex-basis: 100%; flex: 1; padding: 10px; }\n",
       "    </style>\n",
       "<div class=\"wandb-row\"><div class=\"wandb-col\"><h3>Run history:</h3><br/><table class=\"wandb\"><tr><td>Inter-channel MI</td><td>▇▆▆▇█▆▆▁▆▆▆▇█▆▆▆▆▆▆▆▆▆▆▆▆▆▆▆▆▆▆▆▆▆▆▆▆▆▆▆</td></tr></table><br/></div><div class=\"wandb-col\"><h3>Run summary:</h3><br/><table class=\"wandb\"><tr><td>Inter-channel MI</td><td>0.0</td></tr></table><br/></div></div>"
      ],
      "text/plain": [
       "<IPython.core.display.HTML object>"
      ]
     },
     "metadata": {},
     "output_type": "display_data"
    },
    {
     "data": {
      "text/html": [
       " View run <strong style=\"color:#cdcd00\">super-jazz-7</strong> at: <a href='https://wandb.ai/dmcsharry/Interchannel%20MI/runs/2zf15mrm' target=\"_blank\">https://wandb.ai/dmcsharry/Interchannel%20MI/runs/2zf15mrm</a><br/> View project at: <a href='https://wandb.ai/dmcsharry/Interchannel%20MI' target=\"_blank\">https://wandb.ai/dmcsharry/Interchannel%20MI</a><br/>Synced 5 W&B file(s), 0 media file(s), 0 artifact file(s) and 0 other file(s)"
      ],
      "text/plain": [
       "<IPython.core.display.HTML object>"
      ]
     },
     "metadata": {},
     "output_type": "display_data"
    },
    {
     "data": {
      "text/html": [
       "Find logs at: <code>./wandb/run-20240415_005222-2zf15mrm/logs</code>"
      ],
      "text/plain": [
       "<IPython.core.display.HTML object>"
      ]
     },
     "metadata": {},
     "output_type": "display_data"
    },
    {
     "data": {
      "text/html": [
       "Successfully finished last run (ID:2zf15mrm). Initializing new run:<br/>"
      ],
      "text/plain": [
       "<IPython.core.display.HTML object>"
      ]
     },
     "metadata": {},
     "output_type": "display_data"
    },
    {
     "data": {
      "text/html": [
       "Tracking run with wandb version 0.16.6"
      ],
      "text/plain": [
       "<IPython.core.display.HTML object>"
      ]
     },
     "metadata": {},
     "output_type": "display_data"
    },
    {
     "data": {
      "text/html": [
       "Run data is saved locally in <code>/vol/bitbucket/dm2223/info-theory-experiments/wandb/run-20240415_005330-nvh785k7</code>"
      ],
      "text/plain": [
       "<IPython.core.display.HTML object>"
      ]
     },
     "metadata": {},
     "output_type": "display_data"
    },
    {
     "data": {
      "text/html": [
       "Syncing run <strong><a href='https://wandb.ai/dmcsharry/Interchannel%20MI/runs/nvh785k7' target=\"_blank\">lyric-snowball-8</a></strong> to <a href='https://wandb.ai/dmcsharry/Interchannel%20MI' target=\"_blank\">Weights & Biases</a> (<a href='https://wandb.me/run' target=\"_blank\">docs</a>)<br/>"
      ],
      "text/plain": [
       "<IPython.core.display.HTML object>"
      ]
     },
     "metadata": {},
     "output_type": "display_data"
    },
    {
     "data": {
      "text/html": [
       " View project at <a href='https://wandb.ai/dmcsharry/Interchannel%20MI' target=\"_blank\">https://wandb.ai/dmcsharry/Interchannel%20MI</a>"
      ],
      "text/plain": [
       "<IPython.core.display.HTML object>"
      ]
     },
     "metadata": {},
     "output_type": "display_data"
    },
    {
     "data": {
      "text/html": [
       " View run at <a href='https://wandb.ai/dmcsharry/Interchannel%20MI/runs/nvh785k7' target=\"_blank\">https://wandb.ai/dmcsharry/Interchannel%20MI/runs/nvh785k7</a>"
      ],
      "text/plain": [
       "<IPython.core.display.HTML object>"
      ]
     },
     "metadata": {},
     "output_type": "display_data"
    },
    {
     "name": "stderr",
     "output_type": "stream",
     "text": [
      "Training a SMILE estimator for interchannel MI: 100%|██████████| 20/20 [00:21<00:00,  1.08s/it]\n"
     ]
    }
   ],
   "source": [
    "\n",
    "##\n",
    "## Finding the MI between different channels\n",
    "##\n",
    "\n",
    "dataset = torch.load(\"data/ecog_data_pairs.pth\")\n",
    "trainloader = torch.utils.data.DataLoader(dataset, batch_size=2000, shuffle=False)\n",
    "\n",
    "wandb.init(project=\"Interchannel MI\")\n",
    "\n",
    "channel_critic = NoSpectralDownwardCritic(\n",
    "    feature_size=1, # replacing the feature with a channel which is dim 1\n",
    "    critic_output_size=8,\n",
    "    hidden_sizes_v_critic=[64, 512, 1028, 512],\n",
    "    hidden_sizes_xi_critic=[64, 512, 1028, 512],\n",
    "    include_bias=True\n",
    ").to(device) \n",
    "\n",
    "channel_critic_optim = torch.optim.Adam(channel_critic.parameters(), lr=1e-5, weight_decay=1e-6)\n",
    "\n",
    "epochs = 20\n",
    "\n",
    "channels = (1,2)\n",
    "\n",
    "for _ in tqdm.tqdm(range(epochs), desc='Training a SMILE estimator for interchannel MI'):\n",
    "    for batch_num, batch in enumerate(trainloader):\n",
    "        x0 = batch[:, 0].to(device).float()\n",
    "        x1 = batch[:, 1].to(device).float()\n",
    "\n",
    "        channel_i = x0[:, channels[0]].unsqueeze(1)\n",
    "        channel_j = x0[:, channels[1]].unsqueeze(1)\n",
    "\n",
    "        scores = channel_critic(channel_j, channel_i)\n",
    "        MI = estimate_mutual_information('smile', scores, clip=1)\n",
    "        loss = -MI \n",
    "        loss.backward()\n",
    "        channel_critic_optim.step()\n",
    "        wandb.log({\n",
    "            \"Inter-channel MI\": MI\n",
    "        })\n"
   ]
  },
  {
   "cell_type": "code",
   "execution_count": 5,
   "metadata": {},
   "outputs": [
    {
     "name": "stderr",
     "output_type": "stream",
     "text": [
      "Failed to detect the name of this notebook, you can set it manually with the WANDB_NOTEBOOK_NAME environment variable to enable code saving.\n",
      "\u001b[34m\u001b[1mwandb\u001b[0m: Currently logged in as: \u001b[33mdmcsharry\u001b[0m. Use \u001b[1m`wandb login --relogin`\u001b[0m to force relogin\n"
     ]
    },
    {
     "data": {
      "text/html": [
       "Tracking run with wandb version 0.16.6"
      ],
      "text/plain": [
       "<IPython.core.display.HTML object>"
      ]
     },
     "metadata": {},
     "output_type": "display_data"
    },
    {
     "data": {
      "text/html": [
       "Run data is saved locally in <code>/vol/bitbucket/dm2223/info-theory-experiments/wandb/run-20240414_202244-u0p9n1q3</code>"
      ],
      "text/plain": [
       "<IPython.core.display.HTML object>"
      ]
     },
     "metadata": {},
     "output_type": "display_data"
    },
    {
     "data": {
      "text/html": [
       "Syncing run <strong><a href='https://wandb.ai/dmcsharry/getting-figures/runs/u0p9n1q3' target=\"_blank\">woven-cosmos-66</a></strong> to <a href='https://wandb.ai/dmcsharry/getting-figures' target=\"_blank\">Weights & Biases</a> (<a href='https://wandb.me/run' target=\"_blank\">docs</a>)<br/>"
      ],
      "text/plain": [
       "<IPython.core.display.HTML object>"
      ]
     },
     "metadata": {},
     "output_type": "display_data"
    },
    {
     "data": {
      "text/html": [
       " View project at <a href='https://wandb.ai/dmcsharry/getting-figures' target=\"_blank\">https://wandb.ai/dmcsharry/getting-figures</a>"
      ],
      "text/plain": [
       "<IPython.core.display.HTML object>"
      ]
     },
     "metadata": {},
     "output_type": "display_data"
    },
    {
     "data": {
      "text/html": [
       " View run at <a href='https://wandb.ai/dmcsharry/getting-figures/runs/u0p9n1q3' target=\"_blank\">https://wandb.ai/dmcsharry/getting-figures/runs/u0p9n1q3</a>"
      ],
      "text/plain": [
       "<IPython.core.display.HTML object>"
      ]
     },
     "metadata": {},
     "output_type": "display_data"
    },
    {
     "name": "stderr",
     "output_type": "stream",
     "text": [
      "Training:  17%|█▋        | 2/12 [08:15<41:18, 247.80s/it]\n"
     ]
    },
    {
     "ename": "KeyboardInterrupt",
     "evalue": "",
     "output_type": "error",
     "traceback": [
      "\u001b[0;31m---------------------------------------------------------------------------\u001b[0m",
      "\u001b[0;31mKeyboardInterrupt\u001b[0m                         Traceback (most recent call last)",
      "Cell \u001b[0;32mIn[5], line 275\u001b[0m\n\u001b[1;32m    264\u001b[0m             wandb\u001b[38;5;241m.\u001b[39mlog({\n\u001b[1;32m    265\u001b[0m                 \u001b[38;5;124m\"\u001b[39m\u001b[38;5;124mdecoupled_MI\u001b[39m\u001b[38;5;124m\"\u001b[39m: decoupled_MI1,\n\u001b[1;32m    266\u001b[0m                 \u001b[38;5;124m\"\u001b[39m\u001b[38;5;124msum_downward_MI\u001b[39m\u001b[38;5;124m\"\u001b[39m: sum_downward_MI,\n\u001b[1;32m    267\u001b[0m                 \u001b[38;5;124m\"\u001b[39m\u001b[38;5;124mPsi\u001b[39m\u001b[38;5;124m\"\u001b[39m: Psi,\n\u001b[1;32m    268\u001b[0m             })\n\u001b[1;32m    274\u001b[0m \u001b[38;5;28;01mfor\u001b[39;00m config \u001b[38;5;129;01min\u001b[39;00m configs:\n\u001b[0;32m--> 275\u001b[0m     \u001b[43mtrain\u001b[49m\u001b[43m(\u001b[49m\u001b[43mconfig\u001b[49m\u001b[43m)\u001b[49m\n\u001b[1;32m    276\u001b[0m     run_id \u001b[38;5;241m=\u001b[39m wandb\u001b[38;5;241m.\u001b[39mrun\u001b[38;5;241m.\u001b[39mid\n\u001b[1;32m    277\u001b[0m     torch\u001b[38;5;241m.\u001b[39msave(feature_network\u001b[38;5;241m.\u001b[39mstate_dict(), \u001b[38;5;124mf\u001b[39m\u001b[38;5;124m\"\u001b[39m\u001b[38;5;124mpromising_hmmm_f_\u001b[39m\u001b[38;5;132;01m{\u001b[39;00mrun_id\u001b[38;5;132;01m}\u001b[39;00m\u001b[38;5;124m.pth\u001b[39m\u001b[38;5;124m\"\u001b[39m)\n",
      "Cell \u001b[0;32mIn[5], line 234\u001b[0m, in \u001b[0;36mtrain\u001b[0;34m(config)\u001b[0m\n\u001b[1;32m    232\u001b[0m downward_optims[i]\u001b[38;5;241m.\u001b[39mzero_grad()\n\u001b[1;32m    233\u001b[0m channel_i \u001b[38;5;241m=\u001b[39m x0[:, i]\u001b[38;5;241m.\u001b[39munsqueeze(\u001b[38;5;241m1\u001b[39m)\n\u001b[0;32m--> 234\u001b[0m downward_scores \u001b[38;5;241m=\u001b[39m \u001b[43mdownward_critics\u001b[49m\u001b[43m[\u001b[49m\u001b[43mi\u001b[49m\u001b[43m]\u001b[49m\u001b[43m(\u001b[49m\u001b[43mv1\u001b[49m\u001b[43m,\u001b[49m\u001b[43m \u001b[49m\u001b[43mchannel_i\u001b[49m\u001b[43m)\u001b[49m\n\u001b[1;32m    235\u001b[0m downward_MI_i \u001b[38;5;241m=\u001b[39m estimate_mutual_information(\u001b[38;5;124m'\u001b[39m\u001b[38;5;124msmile\u001b[39m\u001b[38;5;124m'\u001b[39m, downward_scores, clip\u001b[38;5;241m=\u001b[39mconfig[\u001b[38;5;124m'\u001b[39m\u001b[38;5;124mclip\u001b[39m\u001b[38;5;124m'\u001b[39m])\n\u001b[1;32m    236\u001b[0m downward_loss \u001b[38;5;241m=\u001b[39m \u001b[38;5;241m-\u001b[39mdownward_MI_i\n",
      "File \u001b[0;32m/vol/bitbucket/dm2223/info-theory-experiments/.venv/lib/python3.10/site-packages/torch/nn/modules/module.py:1511\u001b[0m, in \u001b[0;36mModule._wrapped_call_impl\u001b[0;34m(self, *args, **kwargs)\u001b[0m\n\u001b[1;32m   1509\u001b[0m     \u001b[38;5;28;01mreturn\u001b[39;00m \u001b[38;5;28mself\u001b[39m\u001b[38;5;241m.\u001b[39m_compiled_call_impl(\u001b[38;5;241m*\u001b[39margs, \u001b[38;5;241m*\u001b[39m\u001b[38;5;241m*\u001b[39mkwargs)  \u001b[38;5;66;03m# type: ignore[misc]\u001b[39;00m\n\u001b[1;32m   1510\u001b[0m \u001b[38;5;28;01melse\u001b[39;00m:\n\u001b[0;32m-> 1511\u001b[0m     \u001b[38;5;28;01mreturn\u001b[39;00m \u001b[38;5;28;43mself\u001b[39;49m\u001b[38;5;241;43m.\u001b[39;49m\u001b[43m_call_impl\u001b[49m\u001b[43m(\u001b[49m\u001b[38;5;241;43m*\u001b[39;49m\u001b[43margs\u001b[49m\u001b[43m,\u001b[49m\u001b[43m \u001b[49m\u001b[38;5;241;43m*\u001b[39;49m\u001b[38;5;241;43m*\u001b[39;49m\u001b[43mkwargs\u001b[49m\u001b[43m)\u001b[49m\n",
      "File \u001b[0;32m/vol/bitbucket/dm2223/info-theory-experiments/.venv/lib/python3.10/site-packages/torch/nn/modules/module.py:1561\u001b[0m, in \u001b[0;36mModule._call_impl\u001b[0;34m(self, *args, **kwargs)\u001b[0m\n\u001b[1;32m   1558\u001b[0m     bw_hook \u001b[38;5;241m=\u001b[39m hooks\u001b[38;5;241m.\u001b[39mBackwardHook(\u001b[38;5;28mself\u001b[39m, full_backward_hooks, backward_pre_hooks)\n\u001b[1;32m   1559\u001b[0m     args \u001b[38;5;241m=\u001b[39m bw_hook\u001b[38;5;241m.\u001b[39msetup_input_hook(args)\n\u001b[0;32m-> 1561\u001b[0m result \u001b[38;5;241m=\u001b[39m \u001b[43mforward_call\u001b[49m\u001b[43m(\u001b[49m\u001b[38;5;241;43m*\u001b[39;49m\u001b[43margs\u001b[49m\u001b[43m,\u001b[49m\u001b[43m \u001b[49m\u001b[38;5;241;43m*\u001b[39;49m\u001b[38;5;241;43m*\u001b[39;49m\u001b[43mkwargs\u001b[49m\u001b[43m)\u001b[49m\n\u001b[1;32m   1562\u001b[0m \u001b[38;5;28;01mif\u001b[39;00m _global_forward_hooks \u001b[38;5;129;01mor\u001b[39;00m \u001b[38;5;28mself\u001b[39m\u001b[38;5;241m.\u001b[39m_forward_hooks:\n\u001b[1;32m   1563\u001b[0m     \u001b[38;5;28;01mfor\u001b[39;00m hook_id, hook \u001b[38;5;129;01min\u001b[39;00m (\n\u001b[1;32m   1564\u001b[0m         \u001b[38;5;241m*\u001b[39m_global_forward_hooks\u001b[38;5;241m.\u001b[39mitems(),\n\u001b[1;32m   1565\u001b[0m         \u001b[38;5;241m*\u001b[39m\u001b[38;5;28mself\u001b[39m\u001b[38;5;241m.\u001b[39m_forward_hooks\u001b[38;5;241m.\u001b[39mitems(),\n\u001b[1;32m   1566\u001b[0m     ):\n\u001b[1;32m   1567\u001b[0m         \u001b[38;5;66;03m# mark that always called hook is run\u001b[39;00m\n",
      "Cell \u001b[0;32mIn[4], line 85\u001b[0m, in \u001b[0;36mDownwardCritic.forward\u001b[0;34m(self, v1, x0i)\u001b[0m\n\u001b[1;32m     83\u001b[0m \u001b[38;5;28;01mdef\u001b[39;00m \u001b[38;5;21mforward\u001b[39m(\u001b[38;5;28mself\u001b[39m, v1, x0i):\n\u001b[1;32m     84\u001b[0m     v1_encoded \u001b[38;5;241m=\u001b[39m \u001b[38;5;28mself\u001b[39m\u001b[38;5;241m.\u001b[39mv_encoder(v1)\n\u001b[0;32m---> 85\u001b[0m     x0i_encoded \u001b[38;5;241m=\u001b[39m \u001b[38;5;28;43mself\u001b[39;49m\u001b[38;5;241;43m.\u001b[39;49m\u001b[43matom_encoder\u001b[49m\u001b[43m(\u001b[49m\u001b[43mx0i\u001b[49m\u001b[43m)\u001b[49m\n\u001b[1;32m     87\u001b[0m     scores \u001b[38;5;241m=\u001b[39m torch\u001b[38;5;241m.\u001b[39mmatmul(v1_encoded, x0i_encoded\u001b[38;5;241m.\u001b[39mt())\n\u001b[1;32m     88\u001b[0m     \u001b[38;5;28;01mreturn\u001b[39;00m scores\n",
      "File \u001b[0;32m/vol/bitbucket/dm2223/info-theory-experiments/.venv/lib/python3.10/site-packages/torch/nn/modules/module.py:1511\u001b[0m, in \u001b[0;36mModule._wrapped_call_impl\u001b[0;34m(self, *args, **kwargs)\u001b[0m\n\u001b[1;32m   1509\u001b[0m     \u001b[38;5;28;01mreturn\u001b[39;00m \u001b[38;5;28mself\u001b[39m\u001b[38;5;241m.\u001b[39m_compiled_call_impl(\u001b[38;5;241m*\u001b[39margs, \u001b[38;5;241m*\u001b[39m\u001b[38;5;241m*\u001b[39mkwargs)  \u001b[38;5;66;03m# type: ignore[misc]\u001b[39;00m\n\u001b[1;32m   1510\u001b[0m \u001b[38;5;28;01melse\u001b[39;00m:\n\u001b[0;32m-> 1511\u001b[0m     \u001b[38;5;28;01mreturn\u001b[39;00m \u001b[38;5;28;43mself\u001b[39;49m\u001b[38;5;241;43m.\u001b[39;49m\u001b[43m_call_impl\u001b[49m\u001b[43m(\u001b[49m\u001b[38;5;241;43m*\u001b[39;49m\u001b[43margs\u001b[49m\u001b[43m,\u001b[49m\u001b[43m \u001b[49m\u001b[38;5;241;43m*\u001b[39;49m\u001b[38;5;241;43m*\u001b[39;49m\u001b[43mkwargs\u001b[49m\u001b[43m)\u001b[49m\n",
      "File \u001b[0;32m/vol/bitbucket/dm2223/info-theory-experiments/.venv/lib/python3.10/site-packages/torch/nn/modules/module.py:1520\u001b[0m, in \u001b[0;36mModule._call_impl\u001b[0;34m(self, *args, **kwargs)\u001b[0m\n\u001b[1;32m   1515\u001b[0m \u001b[38;5;66;03m# If we don't have any hooks, we want to skip the rest of the logic in\u001b[39;00m\n\u001b[1;32m   1516\u001b[0m \u001b[38;5;66;03m# this function, and just call forward.\u001b[39;00m\n\u001b[1;32m   1517\u001b[0m \u001b[38;5;28;01mif\u001b[39;00m \u001b[38;5;129;01mnot\u001b[39;00m (\u001b[38;5;28mself\u001b[39m\u001b[38;5;241m.\u001b[39m_backward_hooks \u001b[38;5;129;01mor\u001b[39;00m \u001b[38;5;28mself\u001b[39m\u001b[38;5;241m.\u001b[39m_backward_pre_hooks \u001b[38;5;129;01mor\u001b[39;00m \u001b[38;5;28mself\u001b[39m\u001b[38;5;241m.\u001b[39m_forward_hooks \u001b[38;5;129;01mor\u001b[39;00m \u001b[38;5;28mself\u001b[39m\u001b[38;5;241m.\u001b[39m_forward_pre_hooks\n\u001b[1;32m   1518\u001b[0m         \u001b[38;5;129;01mor\u001b[39;00m _global_backward_pre_hooks \u001b[38;5;129;01mor\u001b[39;00m _global_backward_hooks\n\u001b[1;32m   1519\u001b[0m         \u001b[38;5;129;01mor\u001b[39;00m _global_forward_hooks \u001b[38;5;129;01mor\u001b[39;00m _global_forward_pre_hooks):\n\u001b[0;32m-> 1520\u001b[0m     \u001b[38;5;28;01mreturn\u001b[39;00m \u001b[43mforward_call\u001b[49m\u001b[43m(\u001b[49m\u001b[38;5;241;43m*\u001b[39;49m\u001b[43margs\u001b[49m\u001b[43m,\u001b[49m\u001b[43m \u001b[49m\u001b[38;5;241;43m*\u001b[39;49m\u001b[38;5;241;43m*\u001b[39;49m\u001b[43mkwargs\u001b[49m\u001b[43m)\u001b[49m\n\u001b[1;32m   1522\u001b[0m \u001b[38;5;28;01mtry\u001b[39;00m:\n\u001b[1;32m   1523\u001b[0m     result \u001b[38;5;241m=\u001b[39m \u001b[38;5;28;01mNone\u001b[39;00m\n",
      "File \u001b[0;32m/vol/bitbucket/dm2223/info-theory-experiments/.venv/lib/python3.10/site-packages/torch/nn/modules/container.py:217\u001b[0m, in \u001b[0;36mSequential.forward\u001b[0;34m(self, input)\u001b[0m\n\u001b[1;32m    215\u001b[0m \u001b[38;5;28;01mdef\u001b[39;00m \u001b[38;5;21mforward\u001b[39m(\u001b[38;5;28mself\u001b[39m, \u001b[38;5;28minput\u001b[39m):\n\u001b[1;32m    216\u001b[0m     \u001b[38;5;28;01mfor\u001b[39;00m module \u001b[38;5;129;01min\u001b[39;00m \u001b[38;5;28mself\u001b[39m:\n\u001b[0;32m--> 217\u001b[0m         \u001b[38;5;28minput\u001b[39m \u001b[38;5;241m=\u001b[39m \u001b[43mmodule\u001b[49m\u001b[43m(\u001b[49m\u001b[38;5;28;43minput\u001b[39;49m\u001b[43m)\u001b[49m\n\u001b[1;32m    218\u001b[0m     \u001b[38;5;28;01mreturn\u001b[39;00m \u001b[38;5;28minput\u001b[39m\n",
      "File \u001b[0;32m/vol/bitbucket/dm2223/info-theory-experiments/.venv/lib/python3.10/site-packages/torch/nn/modules/module.py:1511\u001b[0m, in \u001b[0;36mModule._wrapped_call_impl\u001b[0;34m(self, *args, **kwargs)\u001b[0m\n\u001b[1;32m   1509\u001b[0m     \u001b[38;5;28;01mreturn\u001b[39;00m \u001b[38;5;28mself\u001b[39m\u001b[38;5;241m.\u001b[39m_compiled_call_impl(\u001b[38;5;241m*\u001b[39margs, \u001b[38;5;241m*\u001b[39m\u001b[38;5;241m*\u001b[39mkwargs)  \u001b[38;5;66;03m# type: ignore[misc]\u001b[39;00m\n\u001b[1;32m   1510\u001b[0m \u001b[38;5;28;01melse\u001b[39;00m:\n\u001b[0;32m-> 1511\u001b[0m     \u001b[38;5;28;01mreturn\u001b[39;00m \u001b[38;5;28;43mself\u001b[39;49m\u001b[38;5;241;43m.\u001b[39;49m\u001b[43m_call_impl\u001b[49m\u001b[43m(\u001b[49m\u001b[38;5;241;43m*\u001b[39;49m\u001b[43margs\u001b[49m\u001b[43m,\u001b[49m\u001b[43m \u001b[49m\u001b[38;5;241;43m*\u001b[39;49m\u001b[38;5;241;43m*\u001b[39;49m\u001b[43mkwargs\u001b[49m\u001b[43m)\u001b[49m\n",
      "File \u001b[0;32m/vol/bitbucket/dm2223/info-theory-experiments/.venv/lib/python3.10/site-packages/torch/nn/modules/module.py:1550\u001b[0m, in \u001b[0;36mModule._call_impl\u001b[0;34m(self, *args, **kwargs)\u001b[0m\n\u001b[1;32m   1545\u001b[0m             \u001b[38;5;28;01mraise\u001b[39;00m \u001b[38;5;167;01mRuntimeError\u001b[39;00m(\n\u001b[1;32m   1546\u001b[0m                 \u001b[38;5;124m\"\u001b[39m\u001b[38;5;124mforward pre-hook must return None or a tuple \u001b[39m\u001b[38;5;124m\"\u001b[39m\n\u001b[1;32m   1547\u001b[0m                 \u001b[38;5;124mf\u001b[39m\u001b[38;5;124m\"\u001b[39m\u001b[38;5;124mof (new_args, new_kwargs), but got \u001b[39m\u001b[38;5;132;01m{\u001b[39;00margs_kwargs_result\u001b[38;5;132;01m}\u001b[39;00m\u001b[38;5;124m.\u001b[39m\u001b[38;5;124m\"\u001b[39m\n\u001b[1;32m   1548\u001b[0m             )\n\u001b[1;32m   1549\u001b[0m \u001b[38;5;28;01melse\u001b[39;00m:\n\u001b[0;32m-> 1550\u001b[0m     args_result \u001b[38;5;241m=\u001b[39m \u001b[43mhook\u001b[49m\u001b[43m(\u001b[49m\u001b[38;5;28;43mself\u001b[39;49m\u001b[43m,\u001b[49m\u001b[43m \u001b[49m\u001b[43margs\u001b[49m\u001b[43m)\u001b[49m\n\u001b[1;32m   1551\u001b[0m     \u001b[38;5;28;01mif\u001b[39;00m args_result \u001b[38;5;129;01mis\u001b[39;00m \u001b[38;5;129;01mnot\u001b[39;00m \u001b[38;5;28;01mNone\u001b[39;00m:\n\u001b[1;32m   1552\u001b[0m         \u001b[38;5;28;01mif\u001b[39;00m \u001b[38;5;129;01mnot\u001b[39;00m \u001b[38;5;28misinstance\u001b[39m(args_result, \u001b[38;5;28mtuple\u001b[39m):\n",
      "File \u001b[0;32m/vol/bitbucket/dm2223/info-theory-experiments/.venv/lib/python3.10/site-packages/torch/nn/utils/spectral_norm.py:105\u001b[0m, in \u001b[0;36mSpectralNorm.__call__\u001b[0;34m(self, module, inputs)\u001b[0m\n\u001b[1;32m    104\u001b[0m \u001b[38;5;28;01mdef\u001b[39;00m \u001b[38;5;21m__call__\u001b[39m(\u001b[38;5;28mself\u001b[39m, module: Module, inputs: Any) \u001b[38;5;241m-\u001b[39m\u001b[38;5;241m>\u001b[39m \u001b[38;5;28;01mNone\u001b[39;00m:\n\u001b[0;32m--> 105\u001b[0m     \u001b[38;5;28msetattr\u001b[39m(module, \u001b[38;5;28mself\u001b[39m\u001b[38;5;241m.\u001b[39mname, \u001b[38;5;28;43mself\u001b[39;49m\u001b[38;5;241;43m.\u001b[39;49m\u001b[43mcompute_weight\u001b[49m\u001b[43m(\u001b[49m\u001b[43mmodule\u001b[49m\u001b[43m,\u001b[49m\u001b[43m \u001b[49m\u001b[43mdo_power_iteration\u001b[49m\u001b[38;5;241;43m=\u001b[39;49m\u001b[43mmodule\u001b[49m\u001b[38;5;241;43m.\u001b[39;49m\u001b[43mtraining\u001b[49m\u001b[43m)\u001b[49m)\n",
      "File \u001b[0;32m/vol/bitbucket/dm2223/info-theory-experiments/.venv/lib/python3.10/site-packages/torch/nn/utils/spectral_norm.py:88\u001b[0m, in \u001b[0;36mSpectralNorm.compute_weight\u001b[0;34m(self, module, do_power_iteration)\u001b[0m\n\u001b[1;32m     85\u001b[0m             u \u001b[38;5;241m=\u001b[39m normalize(torch\u001b[38;5;241m.\u001b[39mmv(weight_mat, v), dim\u001b[38;5;241m=\u001b[39m\u001b[38;5;241m0\u001b[39m, eps\u001b[38;5;241m=\u001b[39m\u001b[38;5;28mself\u001b[39m\u001b[38;5;241m.\u001b[39meps, out\u001b[38;5;241m=\u001b[39mu)\n\u001b[1;32m     86\u001b[0m         \u001b[38;5;28;01mif\u001b[39;00m \u001b[38;5;28mself\u001b[39m\u001b[38;5;241m.\u001b[39mn_power_iterations \u001b[38;5;241m>\u001b[39m \u001b[38;5;241m0\u001b[39m:\n\u001b[1;32m     87\u001b[0m             \u001b[38;5;66;03m# See above on why we need to clone\u001b[39;00m\n\u001b[0;32m---> 88\u001b[0m             u \u001b[38;5;241m=\u001b[39m \u001b[43mu\u001b[49m\u001b[38;5;241;43m.\u001b[39;49m\u001b[43mclone\u001b[49m\u001b[43m(\u001b[49m\u001b[43mmemory_format\u001b[49m\u001b[38;5;241;43m=\u001b[39;49m\u001b[43mtorch\u001b[49m\u001b[38;5;241;43m.\u001b[39;49m\u001b[43mcontiguous_format\u001b[49m\u001b[43m)\u001b[49m\n\u001b[1;32m     89\u001b[0m             v \u001b[38;5;241m=\u001b[39m v\u001b[38;5;241m.\u001b[39mclone(memory_format\u001b[38;5;241m=\u001b[39mtorch\u001b[38;5;241m.\u001b[39mcontiguous_format)\n\u001b[1;32m     91\u001b[0m sigma \u001b[38;5;241m=\u001b[39m torch\u001b[38;5;241m.\u001b[39mdot(u, torch\u001b[38;5;241m.\u001b[39mmv(weight_mat, v))\n",
      "\u001b[0;31mKeyboardInterrupt\u001b[0m: "
     ]
    }
   ],
   "source": [
    "\n",
    "##\n",
    "## Hyperparameter search\n",
    "##\n",
    "\n",
    "\n",
    "configs = [\n",
    "# {\n",
    "#     \"batch_size\": 1000,\n",
    "#     \"num_atoms\": 64,\n",
    "#     \"feature_size\": 8,\n",
    "#     \"clip\": 5,\n",
    "#     \"critic_output_size\": 16,\n",
    "#     \"downward_hidden_sizes_v_critic\": [512, 512, 256],\n",
    "#     \"downward_hidden_sizes_xi_critic\": [256, 256, 64],\n",
    "#     \"feature_hidden_sizes\": [1028, 1028, 1028, 256],\n",
    "#     \"decoupled_critis_hidden_sizes\": [512, 512, 128],\n",
    "#     \"feature_lr\": 1e-5,\n",
    "#     \"decoupled_critic_lr\": 1e-4,\n",
    "#     \"downward_lr\": 1e-4,\n",
    "#     \"bias\": True,\n",
    "#     \"update_f_every_N_steps\": 4,\n",
    "# },\n",
    "# {\n",
    "#     \"batch_size\": 2000,\n",
    "#     \"num_atoms\": 64,\n",
    "#     \"feature_size\": 1,\n",
    "#     \"clip\": 5,\n",
    "#     \"critic_output_size\": 16,\n",
    "#     \"downward_hidden_sizes_v_critic\": [1028, 1028, 512, 64],\n",
    "#     \"downward_hidden_sizes_xi_critic\": [512, 1028, 512, 64],\n",
    "#     \"feature_hidden_sizes\": [1028, 1028, 256],\n",
    "#     \"decoupled_critis_hidden_sizes\": [512, 512, 128],\n",
    "#     \"feature_lr\": 1e-5,\n",
    "#     \"decoupled_critic_lr\": 1e-4,\n",
    "#     \"downward_lr\": 1e-4,\n",
    "#     \"bias\": True,\n",
    "#     \"update_f_every_N_steps\": 1,\n",
    "# },\n",
    "# {\n",
    "#     \"batch_size\": 1000,\n",
    "#     \"num_atoms\": 64,\n",
    "#     \"feature_size\": 1,\n",
    "#     \"clip\": 5,\n",
    "#     \"critic_output_size\": 32,\n",
    "#     \"downward_hidden_sizes_v_critic\": [1028, 1028, 512, 64],\n",
    "#     \"downward_hidden_sizes_xi_critic\": [512, 1028, 512, 64],\n",
    "#     \"feature_hidden_sizes\": [1028, 1028, 256],\n",
    "#     \"decoupled_critis_hidden_sizes\": [512, 512, 128],\n",
    "#     \"feature_lr\": 1e-5,\n",
    "#     \"decoupled_critic_lr\": 1e-4,\n",
    "#     \"downward_lr\": 1e-4,\n",
    "#     \"bias\": True,\n",
    "#     \"update_f_every_N_steps\": 10,\n",
    "# },\n",
    "# {\n",
    "#     \"batch_size\": 1000,\n",
    "#     \"num_atoms\": 64,\n",
    "#     \"feature_size\": 4,\n",
    "#     \"clip\": 2,\n",
    "#     \"critic_output_size\": 6,\n",
    "#     \"downward_hidden_sizes_v_critic\": [1028, 1028, 512, 64],\n",
    "#     \"downward_hidden_sizes_xi_critic\": [512, 1028, 512, 64],\n",
    "#     \"feature_hidden_sizes\": [256, 256, 256],\n",
    "#     \"decoupled_critis_hidden_sizes\": [512, 512, 128],\n",
    "#     \"feature_lr\": 1e-5,\n",
    "#     \"decoupled_critic_lr\": 1e-4,\n",
    "#     \"downward_lr\": 1e-4,\n",
    "#     \"bias\": True,\n",
    "#     \"update_f_every_N_steps\": 10,\n",
    "# },\n",
    "{\n",
    "    \"batch_size\": 1000,\n",
    "    \"num_atoms\": 64,\n",
    "    \"feature_size\": 1,\n",
    "    \"clip\": 5,\n",
    "    \"critic_output_size\": 12,\n",
    "    \"downward_hidden_sizes_v_critic\": [1028, 1028, 512, 64],\n",
    "    \"downward_hidden_sizes_xi_critic\": [512, 1028, 512, 64],\n",
    "    \"feature_hidden_sizes\": [1028, 1028, 256],\n",
    "    \"decoupled_critis_hidden_sizes\": [512, 512, 128],\n",
    "    \"feature_lr\": 1e-5,\n",
    "    \"decoupled_critic_lr\": 1e-3,\n",
    "    \"downward_lr\": 1e-3,\n",
    "    \"bias\": False,\n",
    "    \"update_f_every_N_steps\": 1,\n",
    "},\n",
    "{\n",
    "    \"batch_size\": 1000,\n",
    "    \"num_atoms\": 64,\n",
    "    \"feature_size\": 1,\n",
    "    \"clip\": 1,\n",
    "    \"critic_output_size\": 8,\n",
    "    \"downward_hidden_sizes_v_critic\": [256, 256, 64],\n",
    "    \"downward_hidden_sizes_xi_critic\": [256, 256, 64],\n",
    "    \"feature_hidden_sizes\": [256, 256, 64],\n",
    "    \"decoupled_critis_hidden_sizes\": [512, 512, 128],\n",
    "    \"feature_lr\": 1e-5,\n",
    "    \"decoupled_critic_lr\": 1e-5,\n",
    "    \"downward_lr\": 1e-5,\n",
    "    \"bias\": True,\n",
    "    \"update_f_every_N_steps\": 10,\n",
    "},\n",
    "{\n",
    "    \"batch_size\": 1000,\n",
    "    \"num_atoms\": 64,\n",
    "    \"feature_size\": 1,\n",
    "    \"clip\": 1,\n",
    "    \"critic_output_size\": 8,\n",
    "    \"downward_hidden_sizes_v_critic\": [1028, 1028, 512, 64],\n",
    "    \"downward_hidden_sizes_xi_critic\": [1028, 1028, 512, 64],\n",
    "    \"feature_hidden_sizes\": [256, 256, 64],\n",
    "    \"decoupled_critis_hidden_sizes\": [512, 512, 128],\n",
    "    \"feature_lr\": 1e-5,\n",
    "    \"decoupled_critic_lr\": 1e-4,\n",
    "    \"downward_lr\": 1e-3,\n",
    "    \"bias\": True,\n",
    "    \"update_f_every_N_steps\": 2,\n",
    "},\n",
    "{\n",
    "    \"batch_size\": 1000,\n",
    "    \"num_atoms\": 64,\n",
    "    \"feature_size\": 16,\n",
    "    \"clip\": 4,\n",
    "    \"critic_output_size\": 8,\n",
    "    \"downward_hidden_sizes_v_critic\": [1028, 1028, 512, 64],\n",
    "    \"downward_hidden_sizes_xi_critic\": [1028, 1028, 512, 64],\n",
    "    \"feature_hidden_sizes\": [256, 256, 64],\n",
    "    \"decoupled_critis_hidden_sizes\": [512, 512, 128],\n",
    "    \"feature_lr\": 1e-5,\n",
    "    \"decoupled_critic_lr\": 1e-5,\n",
    "    \"downward_lr\": 1e-4,\n",
    "    \"bias\": True,\n",
    "    \"update_f_every_N_steps\": 10,\n",
    "},\n",
    "{\n",
    "    \"batch_size\": 1000,\n",
    "    \"num_atoms\": 64,\n",
    "    \"feature_size\": 4,\n",
    "    \"clip\": 5,\n",
    "    \"critic_output_size\": 16,\n",
    "    \"downward_hidden_sizes_v_critic\": [1028, 1028, 512, 64],\n",
    "    \"downward_hidden_sizes_xi_critic\": [1028, 1028, 512, 64],\n",
    "    \"feature_hidden_sizes\": [256, 256, 64],\n",
    "    \"decoupled_critis_hidden_sizes\": [512, 512, 128],\n",
    "    \"feature_lr\": 1e-5,\n",
    "    \"decoupled_critic_lr\": 1e-4,\n",
    "    \"downward_lr\": 1e-4,\n",
    "    \"bias\": True,\n",
    "    \"update_f_every_N_steps\": 1,\n",
    "}\n",
    "]\n",
    "\n",
    "\n",
    "\n",
    "\n",
    "def train(config):\n",
    "##\n",
    "## INIT\n",
    "##\n",
    "\n",
    "    dataset = torch.load(\"data/ecog_data_pairs.pth\")\n",
    "    trainloader = torch.utils.data.DataLoader(dataset, batch_size=config['batch_size'], shuffle=True)\n",
    "\n",
    "    wandb.init(project=\"getting-figures\", config=config)\n",
    "\n",
    "    feature_network = SupervenientFeatureNetwork(\n",
    "        num_atoms=config['num_atoms'],\n",
    "        feature_size=config['feature_size'],\n",
    "        hidden_sizes=config['feature_hidden_sizes'],\n",
    "        include_bias=config['bias']\n",
    "        ).to(device)\n",
    "\n",
    "    decoupled_critic = DecoupledCritic(\n",
    "        feature_size=config['feature_size'],\n",
    "        critic_output_size=config['critic_output_size'],\n",
    "        hidden_sizes=config['decoupled_critis_hidden_sizes'],\n",
    "        include_bias=config['bias']\n",
    "        ).to(device)\n",
    "\n",
    "    downward_critics = [\n",
    "        DownwardCritic(\n",
    "            feature_size=config['feature_size'],\n",
    "            critic_output_size=config['critic_output_size'],\n",
    "            hidden_sizes_v_critic=config['downward_hidden_sizes_v_critic'],\n",
    "            hidden_sizes_xi_critic=config['downward_hidden_sizes_xi_critic'],\n",
    "            include_bias=config['bias']\n",
    "            ).to(device) \n",
    "        for _ in range(config['num_atoms'])\n",
    "    ]\n",
    "\n",
    "    downward_optims = [torch.optim.Adam(dc.parameters(), lr=config[\"downward_lr\"]) for dc in downward_critics]\n",
    "    feature_optimizer = torch.optim.Adam(feature_network.parameters(), lr=config[\"feature_lr\"])\n",
    "    decoupled_optimizer = torch.optim.Adam(decoupled_critic.parameters(), lr=config[\"decoupled_critic_lr\"])\n",
    "\n",
    "\n",
    "    # TODO: figure out why only f network is being watched, I would like to keep a closer eye on the grad n params.\n",
    "    # TODO: Look at how GANs are trained with pytorch and make sure I'm not doing anything unreasonable.\n",
    "    # Eg, https://github.com/eriklindernoren/PyTorch-GAN/blob/master/implementations/gan/gan.py \n",
    "    # ^ this does not require retain_graph=True, so maybe this can be optomized somehow\n",
    "    wandb.watch(feature_network, log='all')\n",
    "    wandb.watch(decoupled_critic, log=\"all\")\n",
    "    for dc in downward_critics:\n",
    "        wandb.watch(dc, log='all')\n",
    "\n",
    "    ##\n",
    "    ## TRAIN FEATURE NETWORK\n",
    "    ##\n",
    "\n",
    "    epochs = 8\n",
    "    extra_epochs = 4\n",
    "    total_epochs = epochs + extra_epochs\n",
    "\n",
    "    for epoch in tqdm.tqdm(range(total_epochs), desc='Training'):\n",
    "        for batch_num, batch in enumerate(trainloader):\n",
    "            # TODO: maybe add some noise to these? This seems to help in GANs\n",
    "            x0 = batch[:, 0].to(device).float()\n",
    "            x1 = batch[:, 1].to(device).float()\n",
    "\n",
    "            # update decoupled critic\n",
    "\n",
    "            v0 = feature_network(x0)\n",
    "            v1 = feature_network(x1) \n",
    "\n",
    "            decoupled_optimizer.zero_grad()\n",
    "            decoupled_scores = decoupled_critic(v0, v1)\n",
    "            decoupled_MI = estimate_mutual_information('smile', decoupled_scores, clip=config['clip'])\n",
    "            decoupled_loss = -decoupled_MI\n",
    "            decoupled_loss.backward(retain_graph=True)\n",
    "            decoupled_optimizer.step()\n",
    "\n",
    "\n",
    "            # update each downward critic \n",
    "\n",
    "            for i in range(config['num_atoms']):\n",
    "                downward_optims[i].zero_grad()\n",
    "                channel_i = x0[:, i].unsqueeze(1)\n",
    "                downward_scores = downward_critics[i](v1, channel_i)\n",
    "                downward_MI_i = estimate_mutual_information('smile', downward_scores, clip=config['clip'])\n",
    "                downward_loss = -downward_MI_i\n",
    "                downward_loss.backward(retain_graph=True)\n",
    "                downward_optims[i].step()\n",
    "                wandb.log({\n",
    "                    f\"downward_MI_{i}\": downward_MI_i   \n",
    "                })\n",
    "\n",
    "            # update feature network   \n",
    "\n",
    "            feature_optimizer.zero_grad()\n",
    "            sum_downward_MI = 0\n",
    "\n",
    "            for i in range(config['num_atoms']):\n",
    "                channel_i = x0[:, i].unsqueeze(1)\n",
    "                downward_scores1 = downward_critics[i](v1, channel_i)\n",
    "                sum_downward_MI += estimate_mutual_information('smile', downward_scores1, clip=config['clip'])\n",
    "\n",
    "            decoupled_scores1 = decoupled_critic(v0, v1)\n",
    "            decoupled_MI1 = estimate_mutual_information('smile', decoupled_scores1, clip=config['clip'])\n",
    "\n",
    "            Psi = decoupled_MI1 - sum_downward_MI\n",
    "            feature_loss = -Psi\n",
    "            \n",
    "            if epoch > epochs:\n",
    "                if batch_num % config['update_f_every_N_steps'] == 0:\n",
    "                    feature_loss.backward()\n",
    "                    feature_optimizer.step()\n",
    "\n",
    "            wandb.log({\n",
    "                \"decoupled_MI\": decoupled_MI1,\n",
    "                \"sum_downward_MI\": sum_downward_MI,\n",
    "                \"Psi\": Psi,\n",
    "            })\n",
    "\n",
    "\n",
    "\n",
    "for config in configs:\n",
    "    train(config)\n",
    "    run_id = wandb.run.id\n",
    "    torch.save(feature_network.state_dict(), f\"promising_hmmm_f_{run_id}.pth\")\n",
    "    wandb.finish()"
   ]
  },
  {
   "cell_type": "code",
   "execution_count": null,
   "metadata": {},
   "outputs": [],
   "source": []
  }
 ],
 "metadata": {
  "kernelspec": {
   "display_name": ".venv",
   "language": "python",
   "name": "python3"
  },
  "language_info": {
   "codemirror_mode": {
    "name": "ipython",
    "version": 3
   },
   "file_extension": ".py",
   "mimetype": "text/x-python",
   "name": "python",
   "nbconvert_exporter": "python",
   "pygments_lexer": "ipython3",
   "version": "3.10.12"
  }
 },
 "nbformat": 4,
 "nbformat_minor": 2
}
