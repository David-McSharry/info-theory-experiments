{
 "cells": [
  {
   "cell_type": "code",
   "execution_count": 1,
   "metadata": {},
   "outputs": [
    {
     "name": "stdout",
     "output_type": "stream",
     "text": [
      "cpu\n"
     ]
    }
   ],
   "source": [
    "import torch\n",
    "import lovely_tensors as lt\n",
    "import wandb\n",
    "import tqdm\n",
    "from models import SupervenientFeatureNetwork, CLUB, DecoupledSmileMIEstimator, DownwardSmileMIEstimator\n",
    "lt.monkey_patch()\n",
    "device = torch.device(\"cuda\" if torch.cuda.is_available() else \"cpu\")\n",
    "torch.cuda.empty_cache()\n",
    "\n",
    "print(device)"
   ]
  },
  {
   "cell_type": "code",
   "execution_count": 2,
   "metadata": {},
   "outputs": [],
   "source": [
    "\n",
    "# config =  {'batch_size': 1000, 'feature_size': 8, 'clip': 1, 'critic_output_size': 20, 'downward_hidden_sizes_v_critic': [192,192,192,192], 'downward_hidden_sizes_xi_critic': [164,164,164,164], 'feature_hidden_sizes': [576,576,576,576], 'decoupled_critic_hidden_sizes': [113,113,113,113], 'feature_lr': 0.0008501232325785077, 'decoupled_critic_lr': 0.00016297738002821739, 'downward_lr': 7.91160518491613e-05, 'update_f_every_N_steps': 1, 'weight_decay': 1.4496890117592044e-05, 'bias': True, 'num_atoms': 64}"
   ]
  },
  {
   "cell_type": "markdown",
   "metadata": {},
   "source": [
    "# Train a feature network for a given config"
   ]
  },
  {
   "cell_type": "code",
   "execution_count": 3,
   "metadata": {},
   "outputs": [],
   "source": [
    "def train_feature_network(config):\n",
    "\n",
    "    dataset = torch.load(\"data/ecog_data_pairs.pth\")\n",
    "    trainloader = torch.utils.data.DataLoader(dataset, batch_size=config['batch_size'], shuffle=True)\n",
    "\n",
    "    print('starrting')\n",
    "\n",
    "    wandb.init(project=\"getting-figures\", config=config)\n",
    "\n",
    "    feature_network = SupervenientFeatureNetwork(\n",
    "        num_atoms=config['num_atoms'],\n",
    "        feature_size=config['feature_size'],\n",
    "        hidden_sizes=config['feature_hidden_sizes'],\n",
    "        include_bias=config['bias']\n",
    "        ).to(device)\n",
    "    decoupled_MI_estimator = DecoupledSmileMIEstimator(\n",
    "        feature_size=config['feature_size'],\n",
    "        critic_output_size=config['critic_output_size'],\n",
    "        hidden_sizes=config['decoupled_critic_hidden_sizes'],\n",
    "        clip=config['clip'],\n",
    "        include_bias=config['bias']\n",
    "        ).to(device)\n",
    "    downward_MI_estimators = [\n",
    "        DownwardSmileMIEstimator(\n",
    "            feature_size=config['feature_size'],\n",
    "            critic_output_size=config['critic_output_size'],\n",
    "            hidden_sizes_v_critic=config['downward_hidden_sizes_v_critic'],\n",
    "            hidden_sizes_xi_critic=config['downward_hidden_sizes_xi_critic'],\n",
    "            clip=config['clip'],\n",
    "            include_bias=config['bias']\n",
    "            ).to(device) \n",
    "        for _ in range(config['num_atoms'])\n",
    "    ]\n",
    "\n",
    "\n",
    "\n",
    "    feature_optimizer = torch.optim.Adam(\n",
    "        feature_network.parameters(),\n",
    "        lr=config[\"feature_lr\"],\n",
    "        weight_decay=config[\"weight_decay\"]\n",
    "    )\n",
    "    decoupled_optimizer = torch.optim.Adam(\n",
    "        decoupled_MI_estimator.parameters(),\n",
    "        lr=config[\"decoupled_critic_lr\"],\n",
    "        weight_decay=config[\"weight_decay\"]\n",
    "    )\n",
    "    downward_optims = [\n",
    "        torch.optim.Adam(\n",
    "            dc.parameters(),\n",
    "            lr=config[\"downward_lr\"],\n",
    "            weight_decay=config[\"weight_decay\"]\n",
    "        ) \n",
    "        for dc in downward_MI_estimators\n",
    "    ]\n",
    "\n",
    "\n",
    "    # TODO: figure out why only f network is being watched, I would like to keep a closer eye on the grad n params.\n",
    "    # TODO: Look at how GANs are trained with pytorch and make sure I'm not doing anything unreasonable.\n",
    "    # Eg, https://github.com/eriklindernoren/PyTorch-GAN/blob/master/implementations/gan/gan.py \n",
    "    # ^ this does not require retain_graph=True, so maybe this can be optomized somehow\n",
    "    wandb.watch(feature_network, log='all')\n",
    "    wandb.watch(decoupled_MI_estimator, log=\"all\")\n",
    "    for dc in downward_MI_estimators:\n",
    "        wandb.watch(dc, log='all')\n",
    "\n",
    "    ##\n",
    "    ## TRAIN FEATURE NETWORK\n",
    "    ##\n",
    "\n",
    "    epochs = 3\n",
    "\n",
    "    for _ in tqdm.tqdm(range(epochs), desc='Training'):\n",
    "        for batch_num, batch in enumerate(trainloader):\n",
    "            x0 = batch[:, 0].to(device).float()\n",
    "            x1 = batch[:, 1].to(device).float()\n",
    "            v0 = feature_network(x0)\n",
    "            v1 = feature_network(x1) \n",
    "\n",
    "            # update decoupled critic\n",
    "            feature_network.eval()\n",
    "            decoupled_MI_estimator.train()\n",
    "            downward_MI_estimators = [dc.train() for dc in downward_MI_estimators]\n",
    "\n",
    "            decoupled_optimizer.zero_grad()\n",
    "            decoupled_MI = decoupled_MI_estimator(v0, v1)\n",
    "            decoupled_loss = -decoupled_MI\n",
    "            decoupled_loss.backward(retain_graph=True)\n",
    "            decoupled_optimizer.step()\n",
    "\n",
    "            # update each downward critic \n",
    "            for i in range(config['num_atoms']):\n",
    "                downward_optims[i].zero_grad()\n",
    "                channel_i = x0[:, i].unsqueeze(1)\n",
    "                downward_MI_i = downward_MI_estimators[i](v1, channel_i)\n",
    "                downward_loss = - downward_MI_i\n",
    "                downward_loss.backward(retain_graph=True)\n",
    "                downward_optims[i].step()\n",
    "                # wandb.log({\n",
    "                #     f\"downward_MI_{i}\": downward_MI_i   \n",
    "                # })\n",
    "\n",
    "            # update feature network   \n",
    "            feature_network.train()\n",
    "            decoupled_MI_estimator.eval()\n",
    "            downward_MI_estimators = [dc.eval() for dc in downward_MI_estimators]\n",
    "\n",
    "            feature_optimizer.zero_grad()\n",
    "            sum_downward_MI = 0\n",
    "\n",
    "            # MIs = []\n",
    "            for i in range(config['num_atoms']):\n",
    "                channel_i = x0[:, i].unsqueeze(1)\n",
    "                channel_i_MI = downward_MI_estimators[i](v1, channel_i)\n",
    "                sum_downward_MI += channel_i_MI\n",
    "                # MIs.append(channel_i_MI)\n",
    "\n",
    "            decoupled_MI1 = decoupled_MI_estimator(v0, v1)\n",
    "\n",
    "            #clipped_min_MIs = max(0, min(MIs))\n",
    "\n",
    "            Psi = decoupled_MI1 - sum_downward_MI #+ (config['num_atoms'] - 1) * clipped_min_MIs\n",
    "            feature_loss = -Psi\n",
    "\n",
    "            if batch_num % config['update_f_every_N_steps'] == 0:\n",
    "                feature_loss.backward()\n",
    "                feature_optimizer.step()\n",
    "\n",
    "            wandb.log({\n",
    "                \"decoupled_MI\": decoupled_MI1,\n",
    "                \"sum_downward_MI\": sum_downward_MI,\n",
    "                \"Psi\": Psi,\n",
    "            })\n",
    "\n",
    "    # free the memory associated with anything that is not the feature network\n",
    "    for dc in downward_MI_estimators:\n",
    "        del dc\n",
    "    del decoupled_MI_estimator\n",
    "    del decoupled_optimizer\n",
    "    del downward_optims\n",
    "    del trainloader\n",
    "    del dataset\n",
    "        \n",
    "    return feature_network\n",
    "\n"
   ]
  },
  {
   "cell_type": "code",
   "execution_count": 2,
   "metadata": {},
   "outputs": [],
   "source": [
    "config = {\n",
    "    \"batch_size\": 1000,\n",
    "    \"num_atoms\": 64,\n",
    "    \"feature_size\": 3,\n",
    "    \"clip\": 5,\n",
    "    \"critic_output_size\": 32,\n",
    "    \"downward_hidden_sizes_v_critic\": [512, 512, 512],\n",
    "    \"downward_hidden_sizes_xi_critic\": [512, 512, 512],\n",
    "    \"feature_hidden_sizes\": [256, 256, 256],\n",
    "    \"decoupled_critic_hidden_sizes\": [512, 512, 512],\n",
    "    \"feature_lr\": 1e-5,\n",
    "    \"decoupled_critic_lr\": 1e-4,\n",
    "    \"downward_lr\": 1e-4,    \n",
    "    \"bias\": True,\n",
    "    \"update_f_every_N_steps\": 5,\n",
    "    \"weight_decay\": 1e-4,\n",
    "}\n"
   ]
  },
  {
   "cell_type": "code",
   "execution_count": 4,
   "metadata": {},
   "outputs": [
    {
     "name": "stdout",
     "output_type": "stream",
     "text": [
      "starrting\n"
     ]
    },
    {
     "name": "stderr",
     "output_type": "stream",
     "text": [
      "Failed to detect the name of this notebook, you can set it manually with the WANDB_NOTEBOOK_NAME environment variable to enable code saving.\n",
      "\u001b[34m\u001b[1mwandb\u001b[0m: Currently logged in as: \u001b[33mdmcsharry\u001b[0m. Use \u001b[1m`wandb login --relogin`\u001b[0m to force relogin\n"
     ]
    },
    {
     "data": {
      "text/html": [
       "Tracking run with wandb version 0.16.6"
      ],
      "text/plain": [
       "<IPython.core.display.HTML object>"
      ]
     },
     "metadata": {},
     "output_type": "display_data"
    },
    {
     "data": {
      "text/html": [
       "Run data is saved locally in <code>/vol/bitbucket/dm2223/info-theory-experiments/wandb/run-20240423_160553-q0yhih2b</code>"
      ],
      "text/plain": [
       "<IPython.core.display.HTML object>"
      ]
     },
     "metadata": {},
     "output_type": "display_data"
    },
    {
     "data": {
      "text/html": [
       "Syncing run <strong><a href='https://wandb.ai/dmcsharry/getting-figures/runs/q0yhih2b' target=\"_blank\">swept-forest-137</a></strong> to <a href='https://wandb.ai/dmcsharry/getting-figures' target=\"_blank\">Weights & Biases</a> (<a href='https://wandb.me/run' target=\"_blank\">docs</a>)<br/>"
      ],
      "text/plain": [
       "<IPython.core.display.HTML object>"
      ]
     },
     "metadata": {},
     "output_type": "display_data"
    },
    {
     "data": {
      "text/html": [
       " View project at <a href='https://wandb.ai/dmcsharry/getting-figures' target=\"_blank\">https://wandb.ai/dmcsharry/getting-figures</a>"
      ],
      "text/plain": [
       "<IPython.core.display.HTML object>"
      ]
     },
     "metadata": {},
     "output_type": "display_data"
    },
    {
     "data": {
      "text/html": [
       " View run at <a href='https://wandb.ai/dmcsharry/getting-figures/runs/q0yhih2b' target=\"_blank\">https://wandb.ai/dmcsharry/getting-figures/runs/q0yhih2b</a>"
      ],
      "text/plain": [
       "<IPython.core.display.HTML object>"
      ]
     },
     "metadata": {},
     "output_type": "display_data"
    },
    {
     "name": "stderr",
     "output_type": "stream",
     "text": [
      "Training: 100%|██████████| 3/3 [07:05<00:00, 141.98s/it]\n"
     ]
    }
   ],
   "source": [
    "\n",
    "\n",
    "\n",
    "feature_network = train_feature_network(config)\n",
    "\n"
   ]
  },
  {
   "cell_type": "markdown",
   "metadata": {},
   "source": [
    "# Finding the MI between different channels\n",
    "\n",
    "I( xt_i ; xt_j)"
   ]
  },
  {
   "cell_type": "code",
   "execution_count": null,
   "metadata": {},
   "outputs": [],
   "source": [
    "\n",
    "dataset = torch.load(\"data/ecog_data_pairs.pth\")\n",
    "trainloader = torch.utils.data.DataLoader(dataset, batch_size=2000, shuffle=False)\n",
    "\n",
    "wandb.init(project=\"Interchannel MI\")\n",
    "\n",
    "channel_MI_estimator = DownwardSmileMIEstimator(\n",
    "    feature_size=1, # replacing the feature with a channel which is dim 1\n",
    "    critic_output_size=8,\n",
    "    hidden_sizes_v_critic=[64, 512, 1028, 512],\n",
    "    hidden_sizes_xi_critic=[64, 512, 1028, 512],\n",
    "    clip=5,\n",
    "    include_bias=True\n",
    ").to(device) \n",
    "\n",
    "channel_MI_optim = torch.optim.Adam(channel_MI_estimator.parameters(), lr=1e-5, weight_decay=1e-6)\n",
    "\n",
    "epochs = 20\n",
    "\n",
    "channels = (1,2)\n",
    "\n",
    "for _ in tqdm.tqdm(range(epochs), desc='Training a SMILE estimator for interchannel MI'):\n",
    "    for batch_num, batch in enumerate(trainloader):\n",
    "        x0 = batch[:, 0].to(device).float()\n",
    "        x1 = batch[:, 1].to(device).float()\n",
    "\n",
    "        channel_i = x0[:, channels[0]].unsqueeze(1)\n",
    "        channel_j = x0[:, channels[1]].unsqueeze(1)\n",
    "\n",
    "        MI = channel_MI_estimator(channel_j, channel_i)\n",
    "        loss = -MI \n",
    "        loss.backward()\n",
    "        channel_MI_optim.step()\n",
    "        wandb.log({\n",
    "            \"Inter-channel MI\": MI\n",
    "        })\n"
   ]
  },
  {
   "cell_type": "markdown",
   "metadata": {},
   "source": [
    "# Estimating Psi given a frozen feature network"
   ]
  },
  {
   "cell_type": "code",
   "execution_count": 3,
   "metadata": {},
   "outputs": [],
   "source": [
    "\n",
    "# model_path = \"/vol/bitbucket/dm2223/info-theory-experiments/promising_hmmm_f.pth\"\n",
    "\n",
    "# feature_network = SupervenientFeatureNetwork(\n",
    "#     num_atoms=config['num_atoms'],\n",
    "#     feature_size=config['feature_size'],\n",
    "#     hidden_sizes=config['feature_hidden_sizes'],\n",
    "#     include_bias=config['bias']\n",
    "#     ).to(device)\n",
    "# feature_network.load_state_dict(torch.load(model_path))\n",
    "# feature_network.eval()\n",
    "\n",
    "\n",
    "\n",
    "def find_true_Psi(feature_network, run_id, feature_config):\n",
    "\n",
    "    config = {\n",
    "        \"batch_size\": 600,\n",
    "        \"num_atoms\": 64,\n",
    "        \"feature_size\": feature_config['feature_size'],\n",
    "        \"clip\": 5,\n",
    "        \"critic_output_size\": 16,\n",
    "        \"downward_hidden_sizes_v_critic\": [1028, 1028, 512, 64],\n",
    "        \"downward_hidden_sizes_xi_critic\": [512, 512, 512, 64],\n",
    "        \"feature_hidden_sizes\": [1028, 1028, 256],\n",
    "        \"decoupled_critis_hidden_sizes\": [512, 512, 128],\n",
    "        \"decoupled_critic_lr\": 1e-4,\n",
    "        \"downward_lr\": 1e-4,\n",
    "        \"bias\": True,\n",
    "        \"weight_decay\": 1e-6,\n",
    "        \"original_run_id\": run_id\n",
    "    }\n",
    "\n",
    "    dataset = torch.load(\"data/ecog_data_pairs.pth\")\n",
    "    trainloader = torch.utils.data.DataLoader(dataset, batch_size=config['batch_size'], shuffle=True)\n",
    "\n",
    "    wandb.init(project=\"Finding-true-Psi-for-f\", config=config, id=run_id)\n",
    "\n",
    "    decoupled_critic = DecoupledSmileMIEstimator(\n",
    "        feature_size=config['feature_size'],\n",
    "        critic_output_size=config['critic_output_size'],\n",
    "        hidden_sizes=config['decoupled_critis_hidden_sizes'],\n",
    "        clip=config['clip'],\n",
    "        include_bias=config['bias']\n",
    "        ).to(device)\n",
    "\n",
    "    downward_critics = [\n",
    "        DownwardSmileMIEstimator(\n",
    "            feature_size=config['feature_size'],\n",
    "            critic_output_size=config['critic_output_size'],\n",
    "            hidden_sizes_v_critic=config['downward_hidden_sizes_v_critic'],\n",
    "            hidden_sizes_xi_critic=config['downward_hidden_sizes_xi_critic'],\n",
    "            clip=config['clip'],\n",
    "            include_bias=config['bias']\n",
    "            ).to(device) \n",
    "        for _ in range(config['num_atoms'])\n",
    "    ]\n",
    "\n",
    "    downward_optims = [\n",
    "        torch.optim.Adam(\n",
    "            dc.parameters(),\n",
    "            lr=config[\"downward_lr\"],\n",
    "            weight_decay=config[\"weight_decay\"]\n",
    "        ) \n",
    "        for dc in downward_critics\n",
    "    ]\n",
    "\n",
    "    decoupled_optimizer = torch.optim.Adam(\n",
    "        decoupled_critic.parameters(),\n",
    "        lr=config[\"decoupled_critic_lr\"],\n",
    "        weight_decay=config[\"weight_decay\"]\n",
    "    )\n",
    "\n",
    "    # TODO: figure out why only f network is being watched, I would like to keep a closer eye on the grad n params.\n",
    "    # TODO: Look at how GANs are trained with pytorch and make sure I'm not doing anything unreasonable.\n",
    "    # Eg, https://github.com/eriklindernoren/PyTorch-GAN/blob/master/implementations/gan/gan.py \n",
    "    # ^ this does not require retain_graph=True, so maybe this can be optomized somehow\n",
    "    wandb.watch(decoupled_critic, log=\"all\")\n",
    "    for dc in downward_critics:\n",
    "        wandb.watch(dc, log='all')\n",
    "\n",
    "    epochs = 5\n",
    "\n",
    "    for _ in tqdm.tqdm(range(epochs), desc='Training'):\n",
    "        for _, batch in enumerate(trainloader):\n",
    "            x0 = batch[:, 0].to(device).float()\n",
    "            x1 = batch[:, 1].to(device).float()\n",
    "\n",
    "            # update decoupled critic\n",
    "\n",
    "            v0 = feature_network(x0)\n",
    "            v1 = feature_network(x1) \n",
    "\n",
    "            decoupled_optimizer.zero_grad()\n",
    "            decoupled_MI = decoupled_critic(v0, v1)\n",
    "            decoupled_loss = -decoupled_MI\n",
    "            decoupled_loss.backward(retain_graph=True)\n",
    "            decoupled_optimizer.step()\n",
    "\n",
    "\n",
    "            # update each downward critic \n",
    "\n",
    "            MIs = []\n",
    "\n",
    "            for i in range(config['num_atoms']):\n",
    "                downward_optims[i].zero_grad()\n",
    "                channel_i = x0[:, i].unsqueeze(1)\n",
    "                downward_MI_i = downward_critics[i](v1, channel_i)\n",
    "                # add spectral norm to the loss\n",
    "                downward_loss = - downward_MI_i\n",
    "                downward_loss.backward(retain_graph=True)\n",
    "                downward_optims[i].step()\n",
    "                wandb.log({\n",
    "                    f\"downward_MI_{i}\": downward_MI_i   \n",
    "                })\n",
    "                MIs.append(downward_MI_i)\n",
    "\n",
    "            # update feature network   \n",
    "\n",
    "            min_MI = min(MIs)\n",
    "            clipped_min_MIs = max(0, min_MI)\n",
    "\n",
    "            sum_downward_MI = 0\n",
    "\n",
    "            for i in range(config['num_atoms']):\n",
    "                channel_i = x0[:, i].unsqueeze(1)\n",
    "                sum_downward_MI += downward_critics[i](v1, channel_i)\n",
    "\n",
    "            decoupled_MI1 = decoupled_critic(v0, v1)\n",
    "\n",
    "            Psi = decoupled_MI1 - sum_downward_MI + (config['num_atoms'] - 1) * clipped_min_MIs\n",
    "\n",
    "            wandb.log({\n",
    "                \"decoupled_MI\": decoupled_MI1,\n",
    "                \"sum_downward_MI\": sum_downward_MI,\n",
    "                \"Psi\": Psi,\n",
    "            })\n",
    "        \n",
    "    return Psi\n",
    "\n"
   ]
  },
  {
   "cell_type": "code",
   "execution_count": 6,
   "metadata": {},
   "outputs": [],
   "source": [
    "# save feature network\n",
    "torch.save(feature_network.state_dict(), f\"/vol/bitbucket/dm2223/info-theory-experiments/another_model.pth\")"
   ]
  },
  {
   "cell_type": "code",
   "execution_count": 6,
   "metadata": {},
   "outputs": [
    {
     "ename": "FileNotFoundError",
     "evalue": "[Errno 2] No such file or directory: 'data/ecog_data_pairs.pth'",
     "output_type": "error",
     "traceback": [
      "\u001b[0;31m---------------------------------------------------------------------------\u001b[0m",
      "\u001b[0;31mFileNotFoundError\u001b[0m                         Traceback (most recent call last)",
      "Cell \u001b[0;32mIn[6], line 11\u001b[0m\n\u001b[1;32m      9\u001b[0m feature_network\u001b[38;5;241m.\u001b[39mload_state_dict(torch\u001b[38;5;241m.\u001b[39mload(\u001b[38;5;124m\"\u001b[39m\u001b[38;5;124m/Users/davidmcsharry/dev/imperial/info-theory-experiments/emergent_feature_network_omg.pth\u001b[39m\u001b[38;5;124m\"\u001b[39m, map_location\u001b[38;5;241m=\u001b[39mtorch\u001b[38;5;241m.\u001b[39mdevice(\u001b[38;5;124m'\u001b[39m\u001b[38;5;124mcpu\u001b[39m\u001b[38;5;124m'\u001b[39m) ))\n\u001b[1;32m     10\u001b[0m \u001b[38;5;66;03m# find true Psi\u001b[39;00m\n\u001b[0;32m---> 11\u001b[0m Psi \u001b[38;5;241m=\u001b[39m \u001b[43mfind_true_Psi\u001b[49m\u001b[43m(\u001b[49m\u001b[43mfeature_network\u001b[49m\u001b[43m,\u001b[49m\u001b[43m \u001b[49m\u001b[43mrun_id\u001b[49m\u001b[38;5;241;43m=\u001b[39;49m\u001b[38;5;124;43m\"\u001b[39;49m\u001b[38;5;124;43memerg\u001b[39;49m\u001b[38;5;124;43m\"\u001b[39;49m\u001b[43m,\u001b[49m\u001b[43m \u001b[49m\u001b[43mfeature_config\u001b[49m\u001b[38;5;241;43m=\u001b[39;49m\u001b[43mconfig\u001b[49m\u001b[43m)\u001b[49m\n",
      "Cell \u001b[0;32mIn[3], line 33\u001b[0m, in \u001b[0;36mfind_true_Psi\u001b[0;34m(feature_network, run_id, feature_config)\u001b[0m\n\u001b[1;32m     14\u001b[0m \u001b[38;5;28;01mdef\u001b[39;00m \u001b[38;5;21mfind_true_Psi\u001b[39m(feature_network, run_id, feature_config):\n\u001b[1;32m     16\u001b[0m     config \u001b[38;5;241m=\u001b[39m {\n\u001b[1;32m     17\u001b[0m         \u001b[38;5;124m\"\u001b[39m\u001b[38;5;124mbatch_size\u001b[39m\u001b[38;5;124m\"\u001b[39m: \u001b[38;5;241m600\u001b[39m,\n\u001b[1;32m     18\u001b[0m         \u001b[38;5;124m\"\u001b[39m\u001b[38;5;124mnum_atoms\u001b[39m\u001b[38;5;124m\"\u001b[39m: \u001b[38;5;241m64\u001b[39m,\n\u001b[0;32m   (...)\u001b[0m\n\u001b[1;32m     30\u001b[0m         \u001b[38;5;124m\"\u001b[39m\u001b[38;5;124moriginal_run_id\u001b[39m\u001b[38;5;124m\"\u001b[39m: run_id\n\u001b[1;32m     31\u001b[0m     }\n\u001b[0;32m---> 33\u001b[0m     dataset \u001b[38;5;241m=\u001b[39m \u001b[43mtorch\u001b[49m\u001b[38;5;241;43m.\u001b[39;49m\u001b[43mload\u001b[49m\u001b[43m(\u001b[49m\u001b[38;5;124;43m\"\u001b[39;49m\u001b[38;5;124;43mdata/ecog_data_pairs.pth\u001b[39;49m\u001b[38;5;124;43m\"\u001b[39;49m\u001b[43m)\u001b[49m\n\u001b[1;32m     34\u001b[0m     trainloader \u001b[38;5;241m=\u001b[39m torch\u001b[38;5;241m.\u001b[39mutils\u001b[38;5;241m.\u001b[39mdata\u001b[38;5;241m.\u001b[39mDataLoader(dataset, batch_size\u001b[38;5;241m=\u001b[39mconfig[\u001b[38;5;124m'\u001b[39m\u001b[38;5;124mbatch_size\u001b[39m\u001b[38;5;124m'\u001b[39m], shuffle\u001b[38;5;241m=\u001b[39m\u001b[38;5;28;01mTrue\u001b[39;00m)\n\u001b[1;32m     36\u001b[0m     wandb\u001b[38;5;241m.\u001b[39minit(project\u001b[38;5;241m=\u001b[39m\u001b[38;5;124m\"\u001b[39m\u001b[38;5;124mFinding-true-Psi-for-f\u001b[39m\u001b[38;5;124m\"\u001b[39m, config\u001b[38;5;241m=\u001b[39mconfig, \u001b[38;5;28mid\u001b[39m\u001b[38;5;241m=\u001b[39mrun_id)\n",
      "File \u001b[0;32m~/dev/imperial/info-theory-experiments/venv/lib/python3.10/site-packages/torch/serialization.py:997\u001b[0m, in \u001b[0;36mload\u001b[0;34m(f, map_location, pickle_module, weights_only, mmap, **pickle_load_args)\u001b[0m\n\u001b[1;32m    994\u001b[0m \u001b[38;5;28;01mif\u001b[39;00m \u001b[38;5;124m'\u001b[39m\u001b[38;5;124mencoding\u001b[39m\u001b[38;5;124m'\u001b[39m \u001b[38;5;129;01mnot\u001b[39;00m \u001b[38;5;129;01min\u001b[39;00m pickle_load_args\u001b[38;5;241m.\u001b[39mkeys():\n\u001b[1;32m    995\u001b[0m     pickle_load_args[\u001b[38;5;124m'\u001b[39m\u001b[38;5;124mencoding\u001b[39m\u001b[38;5;124m'\u001b[39m] \u001b[38;5;241m=\u001b[39m \u001b[38;5;124m'\u001b[39m\u001b[38;5;124mutf-8\u001b[39m\u001b[38;5;124m'\u001b[39m\n\u001b[0;32m--> 997\u001b[0m \u001b[38;5;28;01mwith\u001b[39;00m \u001b[43m_open_file_like\u001b[49m\u001b[43m(\u001b[49m\u001b[43mf\u001b[49m\u001b[43m,\u001b[49m\u001b[43m \u001b[49m\u001b[38;5;124;43m'\u001b[39;49m\u001b[38;5;124;43mrb\u001b[39;49m\u001b[38;5;124;43m'\u001b[39;49m\u001b[43m)\u001b[49m \u001b[38;5;28;01mas\u001b[39;00m opened_file:\n\u001b[1;32m    998\u001b[0m     \u001b[38;5;28;01mif\u001b[39;00m _is_zipfile(opened_file):\n\u001b[1;32m    999\u001b[0m         \u001b[38;5;66;03m# The zipfile reader is going to advance the current file position.\u001b[39;00m\n\u001b[1;32m   1000\u001b[0m         \u001b[38;5;66;03m# If we want to actually tail call to torch.jit.load, we need to\u001b[39;00m\n\u001b[1;32m   1001\u001b[0m         \u001b[38;5;66;03m# reset back to the original position.\u001b[39;00m\n\u001b[1;32m   1002\u001b[0m         orig_position \u001b[38;5;241m=\u001b[39m opened_file\u001b[38;5;241m.\u001b[39mtell()\n",
      "File \u001b[0;32m~/dev/imperial/info-theory-experiments/venv/lib/python3.10/site-packages/torch/serialization.py:444\u001b[0m, in \u001b[0;36m_open_file_like\u001b[0;34m(name_or_buffer, mode)\u001b[0m\n\u001b[1;32m    442\u001b[0m \u001b[38;5;28;01mdef\u001b[39;00m \u001b[38;5;21m_open_file_like\u001b[39m(name_or_buffer, mode):\n\u001b[1;32m    443\u001b[0m     \u001b[38;5;28;01mif\u001b[39;00m _is_path(name_or_buffer):\n\u001b[0;32m--> 444\u001b[0m         \u001b[38;5;28;01mreturn\u001b[39;00m \u001b[43m_open_file\u001b[49m\u001b[43m(\u001b[49m\u001b[43mname_or_buffer\u001b[49m\u001b[43m,\u001b[49m\u001b[43m \u001b[49m\u001b[43mmode\u001b[49m\u001b[43m)\u001b[49m\n\u001b[1;32m    445\u001b[0m     \u001b[38;5;28;01melse\u001b[39;00m:\n\u001b[1;32m    446\u001b[0m         \u001b[38;5;28;01mif\u001b[39;00m \u001b[38;5;124m'\u001b[39m\u001b[38;5;124mw\u001b[39m\u001b[38;5;124m'\u001b[39m \u001b[38;5;129;01min\u001b[39;00m mode:\n",
      "File \u001b[0;32m~/dev/imperial/info-theory-experiments/venv/lib/python3.10/site-packages/torch/serialization.py:425\u001b[0m, in \u001b[0;36m_open_file.__init__\u001b[0;34m(self, name, mode)\u001b[0m\n\u001b[1;32m    424\u001b[0m \u001b[38;5;28;01mdef\u001b[39;00m \u001b[38;5;21m__init__\u001b[39m(\u001b[38;5;28mself\u001b[39m, name, mode):\n\u001b[0;32m--> 425\u001b[0m     \u001b[38;5;28msuper\u001b[39m()\u001b[38;5;241m.\u001b[39m\u001b[38;5;21m__init__\u001b[39m(\u001b[38;5;28;43mopen\u001b[39;49m\u001b[43m(\u001b[49m\u001b[43mname\u001b[49m\u001b[43m,\u001b[49m\u001b[43m \u001b[49m\u001b[43mmode\u001b[49m\u001b[43m)\u001b[49m)\n",
      "\u001b[0;31mFileNotFoundError\u001b[0m: [Errno 2] No such file or directory: 'data/ecog_data_pairs.pth'"
     ]
    }
   ],
   "source": [
    "# load feature network\n",
    "feature_network = SupervenientFeatureNetwork(\n",
    "    num_atoms=config['num_atoms'],\n",
    "    feature_size=config['feature_size'],\n",
    "    hidden_sizes=config['feature_hidden_sizes'],\n",
    "    include_bias=config['bias']\n",
    "    ).to(device)\n",
    "# feature_network.load_state_dict(torch.load(\"/vol/bitbucket/dm2223/info-theory-experiments/latest_model.pth\"))\n",
    "feature_network.load_state_dict(torch.load(\"/Users/davidmcsharry/dev/imperial/info-theory-experiments/emergent_feature_network_omg.pth\", map_location=torch.device('cpu') ))\n",
    "# find true Psi\n",
    "Psi = find_true_Psi(feature_network, run_id=\"emerg\", feature_config=config)"
   ]
  },
  {
   "cell_type": "code",
   "execution_count": 17,
   "metadata": {},
   "outputs": [
    {
     "name": "stderr",
     "output_type": "stream",
     "text": [
      "[I 2024-04-15 02:40:40,595] A new study created in memory with name: no-name-09a86fe3-ffd4-45df-8ceb-77f5b43d8ebc\n"
     ]
    },
    {
     "data": {
      "text/html": [
       "Finishing last run (ID:hco69wgo) before initializing another..."
      ],
      "text/plain": [
       "<IPython.core.display.HTML object>"
      ]
     },
     "metadata": {},
     "output_type": "display_data"
    },
    {
     "data": {
      "text/html": [
       "<style>\n",
       "    table.wandb td:nth-child(1) { padding: 0 10px; text-align: left ; width: auto;} td:nth-child(2) {text-align: left ; width: 100%}\n",
       "    .wandb-row { display: flex; flex-direction: row; flex-wrap: wrap; justify-content: flex-start; width: 100% }\n",
       "    .wandb-col { display: flex; flex-direction: column; flex-basis: 100%; flex: 1; padding: 10px; }\n",
       "    </style>\n",
       "<div class=\"wandb-row\"><div class=\"wandb-col\"><h3>Run history:</h3><br/><table class=\"wandb\"><tr><td>Psi</td><td>▁</td></tr><tr><td>decoupled_MI</td><td>▁</td></tr><tr><td>downward_MI_0</td><td>▁</td></tr><tr><td>downward_MI_1</td><td>▁</td></tr><tr><td>downward_MI_10</td><td>▁</td></tr><tr><td>downward_MI_11</td><td>▁</td></tr><tr><td>downward_MI_12</td><td>▁</td></tr><tr><td>downward_MI_13</td><td>▁</td></tr><tr><td>downward_MI_14</td><td>▁</td></tr><tr><td>downward_MI_15</td><td>▁</td></tr><tr><td>downward_MI_16</td><td>▁</td></tr><tr><td>downward_MI_17</td><td>▁</td></tr><tr><td>downward_MI_18</td><td>▁</td></tr><tr><td>downward_MI_19</td><td>▁</td></tr><tr><td>downward_MI_2</td><td>▁</td></tr><tr><td>downward_MI_20</td><td>▁</td></tr><tr><td>downward_MI_21</td><td>▁</td></tr><tr><td>downward_MI_22</td><td>▁</td></tr><tr><td>downward_MI_23</td><td>▁</td></tr><tr><td>downward_MI_24</td><td>▁</td></tr><tr><td>downward_MI_25</td><td>▁</td></tr><tr><td>downward_MI_26</td><td>▁</td></tr><tr><td>downward_MI_27</td><td>▁</td></tr><tr><td>downward_MI_28</td><td>▁</td></tr><tr><td>downward_MI_29</td><td>▁</td></tr><tr><td>downward_MI_3</td><td>▁</td></tr><tr><td>downward_MI_30</td><td>▁</td></tr><tr><td>downward_MI_31</td><td>▁</td></tr><tr><td>downward_MI_32</td><td>▁</td></tr><tr><td>downward_MI_33</td><td>▁</td></tr><tr><td>downward_MI_34</td><td>▁</td></tr><tr><td>downward_MI_35</td><td>▁</td></tr><tr><td>downward_MI_36</td><td>▁</td></tr><tr><td>downward_MI_37</td><td>▁</td></tr><tr><td>downward_MI_38</td><td>▁</td></tr><tr><td>downward_MI_39</td><td>▁</td></tr><tr><td>downward_MI_4</td><td>▁</td></tr><tr><td>downward_MI_40</td><td>▁</td></tr><tr><td>downward_MI_41</td><td>▁</td></tr><tr><td>downward_MI_42</td><td>▁</td></tr><tr><td>downward_MI_43</td><td>▁</td></tr><tr><td>downward_MI_44</td><td>▁</td></tr><tr><td>downward_MI_45</td><td>▁</td></tr><tr><td>downward_MI_46</td><td>▁</td></tr><tr><td>downward_MI_47</td><td>▁</td></tr><tr><td>downward_MI_48</td><td>▁</td></tr><tr><td>downward_MI_49</td><td>▁</td></tr><tr><td>downward_MI_5</td><td>▁</td></tr><tr><td>downward_MI_50</td><td>▁</td></tr><tr><td>downward_MI_51</td><td>▁</td></tr><tr><td>downward_MI_52</td><td>▁</td></tr><tr><td>downward_MI_53</td><td>▁</td></tr><tr><td>downward_MI_54</td><td>▁</td></tr><tr><td>downward_MI_55</td><td>▁</td></tr><tr><td>downward_MI_56</td><td>▁</td></tr><tr><td>downward_MI_57</td><td>▁</td></tr><tr><td>downward_MI_58</td><td>▁</td></tr><tr><td>downward_MI_59</td><td>▁</td></tr><tr><td>downward_MI_6</td><td>▁</td></tr><tr><td>downward_MI_60</td><td>▁</td></tr><tr><td>downward_MI_61</td><td>▁</td></tr><tr><td>downward_MI_62</td><td>▁</td></tr><tr><td>downward_MI_63</td><td>▁</td></tr><tr><td>downward_MI_7</td><td>▁</td></tr><tr><td>downward_MI_8</td><td>▁</td></tr><tr><td>downward_MI_9</td><td>▁</td></tr><tr><td>sum_downward_MI</td><td>▁</td></tr></table><br/></div><div class=\"wandb-col\"><h3>Run summary:</h3><br/><table class=\"wandb\"><tr><td>Psi</td><td>-0.0016</td></tr><tr><td>decoupled_MI</td><td>0.0</td></tr><tr><td>downward_MI_0</td><td>-1e-05</td></tr><tr><td>downward_MI_1</td><td>-2e-05</td></tr><tr><td>downward_MI_10</td><td>-1e-05</td></tr><tr><td>downward_MI_11</td><td>-0.0</td></tr><tr><td>downward_MI_12</td><td>-1e-05</td></tr><tr><td>downward_MI_13</td><td>-1e-05</td></tr><tr><td>downward_MI_14</td><td>0.0</td></tr><tr><td>downward_MI_15</td><td>1e-05</td></tr><tr><td>downward_MI_16</td><td>0.0</td></tr><tr><td>downward_MI_17</td><td>0.0</td></tr><tr><td>downward_MI_18</td><td>-0.0</td></tr><tr><td>downward_MI_19</td><td>1e-05</td></tr><tr><td>downward_MI_2</td><td>-1e-05</td></tr><tr><td>downward_MI_20</td><td>-1e-05</td></tr><tr><td>downward_MI_21</td><td>1e-05</td></tr><tr><td>downward_MI_22</td><td>-5e-05</td></tr><tr><td>downward_MI_23</td><td>0.0</td></tr><tr><td>downward_MI_24</td><td>-1e-05</td></tr><tr><td>downward_MI_25</td><td>-1e-05</td></tr><tr><td>downward_MI_26</td><td>-0.0</td></tr><tr><td>downward_MI_27</td><td>1e-05</td></tr><tr><td>downward_MI_28</td><td>-2e-05</td></tr><tr><td>downward_MI_29</td><td>-0.0</td></tr><tr><td>downward_MI_3</td><td>-0.0</td></tr><tr><td>downward_MI_30</td><td>-2e-05</td></tr><tr><td>downward_MI_31</td><td>0.0</td></tr><tr><td>downward_MI_32</td><td>-2e-05</td></tr><tr><td>downward_MI_33</td><td>-0.0</td></tr><tr><td>downward_MI_34</td><td>1e-05</td></tr><tr><td>downward_MI_35</td><td>-0.0</td></tr><tr><td>downward_MI_36</td><td>-0.0</td></tr><tr><td>downward_MI_37</td><td>-0.0</td></tr><tr><td>downward_MI_38</td><td>-2e-05</td></tr><tr><td>downward_MI_39</td><td>1e-05</td></tr><tr><td>downward_MI_4</td><td>-3e-05</td></tr><tr><td>downward_MI_40</td><td>-5e-05</td></tr><tr><td>downward_MI_41</td><td>0.0</td></tr><tr><td>downward_MI_42</td><td>-1e-05</td></tr><tr><td>downward_MI_43</td><td>-0.0</td></tr><tr><td>downward_MI_44</td><td>0.0</td></tr><tr><td>downward_MI_45</td><td>-1e-05</td></tr><tr><td>downward_MI_46</td><td>-1e-05</td></tr><tr><td>downward_MI_47</td><td>-1e-05</td></tr><tr><td>downward_MI_48</td><td>-2e-05</td></tr><tr><td>downward_MI_49</td><td>-0.0</td></tr><tr><td>downward_MI_5</td><td>-1e-05</td></tr><tr><td>downward_MI_50</td><td>-2e-05</td></tr><tr><td>downward_MI_51</td><td>-1e-05</td></tr><tr><td>downward_MI_52</td><td>-3e-05</td></tr><tr><td>downward_MI_53</td><td>0.0</td></tr><tr><td>downward_MI_54</td><td>-1e-05</td></tr><tr><td>downward_MI_55</td><td>-2e-05</td></tr><tr><td>downward_MI_56</td><td>-2e-05</td></tr><tr><td>downward_MI_57</td><td>-0.0</td></tr><tr><td>downward_MI_58</td><td>-2e-05</td></tr><tr><td>downward_MI_59</td><td>1e-05</td></tr><tr><td>downward_MI_6</td><td>0.0</td></tr><tr><td>downward_MI_60</td><td>1e-05</td></tr><tr><td>downward_MI_61</td><td>1e-05</td></tr><tr><td>downward_MI_62</td><td>-0.0</td></tr><tr><td>downward_MI_63</td><td>-0.0</td></tr><tr><td>downward_MI_7</td><td>-2e-05</td></tr><tr><td>downward_MI_8</td><td>-0.0</td></tr><tr><td>downward_MI_9</td><td>-1e-05</td></tr><tr><td>sum_downward_MI</td><td>0.0016</td></tr></table><br/></div></div>"
      ],
      "text/plain": [
       "<IPython.core.display.HTML object>"
      ]
     },
     "metadata": {},
     "output_type": "display_data"
    },
    {
     "data": {
      "text/html": [
       " View run <strong style=\"color:#cdcd00\">still-terrain-8</strong> at: <a href='https://wandb.ai/dmcsharry/Finding-true-Psi-for-f/runs/hco69wgo' target=\"_blank\">https://wandb.ai/dmcsharry/Finding-true-Psi-for-f/runs/hco69wgo</a><br/> View project at: <a href='https://wandb.ai/dmcsharry/Finding-true-Psi-for-f' target=\"_blank\">https://wandb.ai/dmcsharry/Finding-true-Psi-for-f</a><br/>Synced 5 W&B file(s), 0 media file(s), 0 artifact file(s) and 0 other file(s)"
      ],
      "text/plain": [
       "<IPython.core.display.HTML object>"
      ]
     },
     "metadata": {},
     "output_type": "display_data"
    },
    {
     "data": {
      "text/html": [
       "Find logs at: <code>./wandb/run-20240415_023844-hco69wgo/logs</code>"
      ],
      "text/plain": [
       "<IPython.core.display.HTML object>"
      ]
     },
     "metadata": {},
     "output_type": "display_data"
    },
    {
     "data": {
      "text/html": [
       "Successfully finished last run (ID:hco69wgo). Initializing new run:<br/>"
      ],
      "text/plain": [
       "<IPython.core.display.HTML object>"
      ]
     },
     "metadata": {},
     "output_type": "display_data"
    },
    {
     "data": {
      "text/html": [
       "Tracking run with wandb version 0.16.6"
      ],
      "text/plain": [
       "<IPython.core.display.HTML object>"
      ]
     },
     "metadata": {},
     "output_type": "display_data"
    },
    {
     "data": {
      "text/html": [
       "Run data is saved locally in <code>/vol/bitbucket/dm2223/info-theory-experiments/wandb/run-20240415_024040-dxb7gqo0</code>"
      ],
      "text/plain": [
       "<IPython.core.display.HTML object>"
      ]
     },
     "metadata": {},
     "output_type": "display_data"
    },
    {
     "data": {
      "text/html": [
       "Syncing run <strong><a href='https://wandb.ai/dmcsharry/getting-figures/runs/dxb7gqo0' target=\"_blank\">peachy-oath-97</a></strong> to <a href='https://wandb.ai/dmcsharry/getting-figures' target=\"_blank\">Weights & Biases</a> (<a href='https://wandb.me/run' target=\"_blank\">docs</a>)<br/>"
      ],
      "text/plain": [
       "<IPython.core.display.HTML object>"
      ]
     },
     "metadata": {},
     "output_type": "display_data"
    },
    {
     "data": {
      "text/html": [
       " View project at <a href='https://wandb.ai/dmcsharry/getting-figures' target=\"_blank\">https://wandb.ai/dmcsharry/getting-figures</a>"
      ],
      "text/plain": [
       "<IPython.core.display.HTML object>"
      ]
     },
     "metadata": {},
     "output_type": "display_data"
    },
    {
     "data": {
      "text/html": [
       " View run at <a href='https://wandb.ai/dmcsharry/getting-figures/runs/dxb7gqo0' target=\"_blank\">https://wandb.ai/dmcsharry/getting-figures/runs/dxb7gqo0</a>"
      ],
      "text/plain": [
       "<IPython.core.display.HTML object>"
      ]
     },
     "metadata": {},
     "output_type": "display_data"
    },
    {
     "name": "stderr",
     "output_type": "stream",
     "text": [
      "Training:   0%|          | 0/1 [00:00<?, ?it/s]\n"
     ]
    },
    {
     "name": "stdout",
     "output_type": "stream",
     "text": [
      "<class '__main__.SupervenientFeatureNetwork'>\n"
     ]
    },
    {
     "data": {
      "text/html": [
       "Finishing last run (ID:dxb7gqo0) before initializing another..."
      ],
      "text/plain": [
       "<IPython.core.display.HTML object>"
      ]
     },
     "metadata": {},
     "output_type": "display_data"
    },
    {
     "data": {
      "text/html": [
       "<style>\n",
       "    table.wandb td:nth-child(1) { padding: 0 10px; text-align: left ; width: auto;} td:nth-child(2) {text-align: left ; width: 100%}\n",
       "    .wandb-row { display: flex; flex-direction: row; flex-wrap: wrap; justify-content: flex-start; width: 100% }\n",
       "    .wandb-col { display: flex; flex-direction: column; flex-basis: 100%; flex: 1; padding: 10px; }\n",
       "    </style>\n",
       "<div class=\"wandb-row\"><div class=\"wandb-col\"><h3>Run history:</h3><br/><table class=\"wandb\"><tr><td>Psi</td><td>▁</td></tr><tr><td>decoupled_MI</td><td>▁</td></tr><tr><td>downward_MI_0</td><td>▁</td></tr><tr><td>downward_MI_1</td><td>▁</td></tr><tr><td>downward_MI_10</td><td>▁</td></tr><tr><td>downward_MI_11</td><td>▁</td></tr><tr><td>downward_MI_12</td><td>▁</td></tr><tr><td>downward_MI_13</td><td>▁</td></tr><tr><td>downward_MI_14</td><td>▁</td></tr><tr><td>downward_MI_15</td><td>▁</td></tr><tr><td>downward_MI_16</td><td>▁</td></tr><tr><td>downward_MI_17</td><td>▁</td></tr><tr><td>downward_MI_18</td><td>▁</td></tr><tr><td>downward_MI_19</td><td>▁</td></tr><tr><td>downward_MI_2</td><td>▁</td></tr><tr><td>downward_MI_20</td><td>▁</td></tr><tr><td>downward_MI_21</td><td>▁</td></tr><tr><td>downward_MI_22</td><td>▁</td></tr><tr><td>downward_MI_23</td><td>▁</td></tr><tr><td>downward_MI_24</td><td>▁</td></tr><tr><td>downward_MI_25</td><td>▁</td></tr><tr><td>downward_MI_26</td><td>▁</td></tr><tr><td>downward_MI_27</td><td>▁</td></tr><tr><td>downward_MI_28</td><td>▁</td></tr><tr><td>downward_MI_29</td><td>▁</td></tr><tr><td>downward_MI_3</td><td>▁</td></tr><tr><td>downward_MI_30</td><td>▁</td></tr><tr><td>downward_MI_31</td><td>▁</td></tr><tr><td>downward_MI_32</td><td>▁</td></tr><tr><td>downward_MI_33</td><td>▁</td></tr><tr><td>downward_MI_34</td><td>▁</td></tr><tr><td>downward_MI_35</td><td>▁</td></tr><tr><td>downward_MI_36</td><td>▁</td></tr><tr><td>downward_MI_37</td><td>▁</td></tr><tr><td>downward_MI_38</td><td>▁</td></tr><tr><td>downward_MI_39</td><td>▁</td></tr><tr><td>downward_MI_4</td><td>▁</td></tr><tr><td>downward_MI_40</td><td>▁</td></tr><tr><td>downward_MI_41</td><td>▁</td></tr><tr><td>downward_MI_42</td><td>▁</td></tr><tr><td>downward_MI_43</td><td>▁</td></tr><tr><td>downward_MI_44</td><td>▁</td></tr><tr><td>downward_MI_45</td><td>▁</td></tr><tr><td>downward_MI_46</td><td>▁</td></tr><tr><td>downward_MI_47</td><td>▁</td></tr><tr><td>downward_MI_48</td><td>▁</td></tr><tr><td>downward_MI_49</td><td>▁</td></tr><tr><td>downward_MI_5</td><td>▁</td></tr><tr><td>downward_MI_50</td><td>▁</td></tr><tr><td>downward_MI_51</td><td>▁</td></tr><tr><td>downward_MI_52</td><td>▁</td></tr><tr><td>downward_MI_53</td><td>▁</td></tr><tr><td>downward_MI_54</td><td>▁</td></tr><tr><td>downward_MI_55</td><td>▁</td></tr><tr><td>downward_MI_56</td><td>▁</td></tr><tr><td>downward_MI_57</td><td>▁</td></tr><tr><td>downward_MI_58</td><td>▁</td></tr><tr><td>downward_MI_59</td><td>▁</td></tr><tr><td>downward_MI_6</td><td>▁</td></tr><tr><td>downward_MI_60</td><td>▁</td></tr><tr><td>downward_MI_61</td><td>▁</td></tr><tr><td>downward_MI_62</td><td>▁</td></tr><tr><td>downward_MI_63</td><td>▁</td></tr><tr><td>downward_MI_7</td><td>▁</td></tr><tr><td>downward_MI_8</td><td>▁</td></tr><tr><td>downward_MI_9</td><td>▁</td></tr><tr><td>sum_downward_MI</td><td>▁</td></tr></table><br/></div><div class=\"wandb-col\"><h3>Run summary:</h3><br/><table class=\"wandb\"><tr><td>Psi</td><td>0.00028</td></tr><tr><td>decoupled_MI</td><td>-0.0</td></tr><tr><td>downward_MI_0</td><td>-2e-05</td></tr><tr><td>downward_MI_1</td><td>-3e-05</td></tr><tr><td>downward_MI_10</td><td>-0.0</td></tr><tr><td>downward_MI_11</td><td>1e-05</td></tr><tr><td>downward_MI_12</td><td>1e-05</td></tr><tr><td>downward_MI_13</td><td>-3e-05</td></tr><tr><td>downward_MI_14</td><td>-7e-05</td></tr><tr><td>downward_MI_15</td><td>-5e-05</td></tr><tr><td>downward_MI_16</td><td>-0.00025</td></tr><tr><td>downward_MI_17</td><td>0.0001</td></tr><tr><td>downward_MI_18</td><td>-8e-05</td></tr><tr><td>downward_MI_19</td><td>-3e-05</td></tr><tr><td>downward_MI_2</td><td>-5e-05</td></tr><tr><td>downward_MI_20</td><td>1e-05</td></tr><tr><td>downward_MI_21</td><td>-2e-05</td></tr><tr><td>downward_MI_22</td><td>-4e-05</td></tr><tr><td>downward_MI_23</td><td>-3e-05</td></tr><tr><td>downward_MI_24</td><td>7e-05</td></tr><tr><td>downward_MI_25</td><td>1e-05</td></tr><tr><td>downward_MI_26</td><td>-1e-05</td></tr><tr><td>downward_MI_27</td><td>-0.00012</td></tr><tr><td>downward_MI_28</td><td>5e-05</td></tr><tr><td>downward_MI_29</td><td>-0.0001</td></tr><tr><td>downward_MI_3</td><td>-0.00013</td></tr><tr><td>downward_MI_30</td><td>1e-05</td></tr><tr><td>downward_MI_31</td><td>-2e-05</td></tr><tr><td>downward_MI_32</td><td>6e-05</td></tr><tr><td>downward_MI_33</td><td>-0.0</td></tr><tr><td>downward_MI_34</td><td>-3e-05</td></tr><tr><td>downward_MI_35</td><td>-4e-05</td></tr><tr><td>downward_MI_36</td><td>9e-05</td></tr><tr><td>downward_MI_37</td><td>3e-05</td></tr><tr><td>downward_MI_38</td><td>-2e-05</td></tr><tr><td>downward_MI_39</td><td>0.0</td></tr><tr><td>downward_MI_4</td><td>-1e-05</td></tr><tr><td>downward_MI_40</td><td>-8e-05</td></tr><tr><td>downward_MI_41</td><td>3e-05</td></tr><tr><td>downward_MI_42</td><td>-0.00014</td></tr><tr><td>downward_MI_43</td><td>-1e-05</td></tr><tr><td>downward_MI_44</td><td>-0.00012</td></tr><tr><td>downward_MI_45</td><td>-3e-05</td></tr><tr><td>downward_MI_46</td><td>-0.00013</td></tr><tr><td>downward_MI_47</td><td>7e-05</td></tr><tr><td>downward_MI_48</td><td>-5e-05</td></tr><tr><td>downward_MI_49</td><td>2e-05</td></tr><tr><td>downward_MI_5</td><td>2e-05</td></tr><tr><td>downward_MI_50</td><td>-0.0001</td></tr><tr><td>downward_MI_51</td><td>-0.00011</td></tr><tr><td>downward_MI_52</td><td>-1e-05</td></tr><tr><td>downward_MI_53</td><td>-1e-05</td></tr><tr><td>downward_MI_54</td><td>-6e-05</td></tr><tr><td>downward_MI_55</td><td>-7e-05</td></tr><tr><td>downward_MI_56</td><td>2e-05</td></tr><tr><td>downward_MI_57</td><td>-7e-05</td></tr><tr><td>downward_MI_58</td><td>2e-05</td></tr><tr><td>downward_MI_59</td><td>-6e-05</td></tr><tr><td>downward_MI_6</td><td>8e-05</td></tr><tr><td>downward_MI_60</td><td>-0.0</td></tr><tr><td>downward_MI_61</td><td>-4e-05</td></tr><tr><td>downward_MI_62</td><td>-0.0002</td></tr><tr><td>downward_MI_63</td><td>-1e-05</td></tr><tr><td>downward_MI_7</td><td>3e-05</td></tr><tr><td>downward_MI_8</td><td>5e-05</td></tr><tr><td>downward_MI_9</td><td>1e-05</td></tr><tr><td>sum_downward_MI</td><td>-0.00028</td></tr></table><br/></div></div>"
      ],
      "text/plain": [
       "<IPython.core.display.HTML object>"
      ]
     },
     "metadata": {},
     "output_type": "display_data"
    },
    {
     "data": {
      "text/html": [
       " View run <strong style=\"color:#cdcd00\">peachy-oath-97</strong> at: <a href='https://wandb.ai/dmcsharry/getting-figures/runs/dxb7gqo0' target=\"_blank\">https://wandb.ai/dmcsharry/getting-figures/runs/dxb7gqo0</a><br/> View project at: <a href='https://wandb.ai/dmcsharry/getting-figures' target=\"_blank\">https://wandb.ai/dmcsharry/getting-figures</a><br/>Synced 5 W&B file(s), 0 media file(s), 0 artifact file(s) and 0 other file(s)"
      ],
      "text/plain": [
       "<IPython.core.display.HTML object>"
      ]
     },
     "metadata": {},
     "output_type": "display_data"
    },
    {
     "data": {
      "text/html": [
       "Find logs at: <code>./wandb/run-20240415_024040-dxb7gqo0/logs</code>"
      ],
      "text/plain": [
       "<IPython.core.display.HTML object>"
      ]
     },
     "metadata": {},
     "output_type": "display_data"
    },
    {
     "data": {
      "text/html": [
       "Successfully finished last run (ID:dxb7gqo0). Initializing new run:<br/>"
      ],
      "text/plain": [
       "<IPython.core.display.HTML object>"
      ]
     },
     "metadata": {},
     "output_type": "display_data"
    },
    {
     "data": {
      "text/html": [
       "Tracking run with wandb version 0.16.6"
      ],
      "text/plain": [
       "<IPython.core.display.HTML object>"
      ]
     },
     "metadata": {},
     "output_type": "display_data"
    },
    {
     "data": {
      "text/html": [
       "Run data is saved locally in <code>/vol/bitbucket/dm2223/info-theory-experiments/wandb/run-20240415_024047-dxb7gqo0</code>"
      ],
      "text/plain": [
       "<IPython.core.display.HTML object>"
      ]
     },
     "metadata": {},
     "output_type": "display_data"
    },
    {
     "data": {
      "text/html": [
       "Syncing run <strong><a href='https://wandb.ai/dmcsharry/Finding-true-Psi-for-f/runs/dxb7gqo0' target=\"_blank\">logical-pyramid-9</a></strong> to <a href='https://wandb.ai/dmcsharry/Finding-true-Psi-for-f' target=\"_blank\">Weights & Biases</a> (<a href='https://wandb.me/run' target=\"_blank\">docs</a>)<br/>"
      ],
      "text/plain": [
       "<IPython.core.display.HTML object>"
      ]
     },
     "metadata": {},
     "output_type": "display_data"
    },
    {
     "data": {
      "text/html": [
       " View project at <a href='https://wandb.ai/dmcsharry/Finding-true-Psi-for-f' target=\"_blank\">https://wandb.ai/dmcsharry/Finding-true-Psi-for-f</a>"
      ],
      "text/plain": [
       "<IPython.core.display.HTML object>"
      ]
     },
     "metadata": {},
     "output_type": "display_data"
    },
    {
     "data": {
      "text/html": [
       " View run at <a href='https://wandb.ai/dmcsharry/Finding-true-Psi-for-f/runs/dxb7gqo0' target=\"_blank\">https://wandb.ai/dmcsharry/Finding-true-Psi-for-f/runs/dxb7gqo0</a>"
      ],
      "text/plain": [
       "<IPython.core.display.HTML object>"
      ]
     },
     "metadata": {},
     "output_type": "display_data"
    },
    {
     "name": "stderr",
     "output_type": "stream",
     "text": [
      "Training:   0%|          | 0/1 [00:00<?, ?it/s]\n",
      "[I 2024-04-15 02:40:54,699] Trial 0 finished with value: -0.002632617950439453 and parameters: {'batch_size': 2000, 'feature_size': 16, 'clip': 7, 'critic_output_size': 30, 'downward_hidden_size_v': 86, 'downward_hidden_size_xi': 32, 'feature_hidden_size': 373, 'decoupled_critic_hidden_size': 463, 'feature_lr': 6.150712661095301e-06, 'decoupled_critic_lr': 1.7664621484298773e-05, 'downward_lr': 9.03235645544033e-05, 'update_f_every_N_steps': 5, 'weight_decay': 2.2904444521284543e-06}. Best is trial 0 with value: -0.002632617950439453.\n"
     ]
    },
    {
     "data": {
      "text/html": [
       "Finishing last run (ID:dxb7gqo0) before initializing another..."
      ],
      "text/plain": [
       "<IPython.core.display.HTML object>"
      ]
     },
     "metadata": {},
     "output_type": "display_data"
    },
    {
     "data": {
      "text/html": [
       "<style>\n",
       "    table.wandb td:nth-child(1) { padding: 0 10px; text-align: left ; width: auto;} td:nth-child(2) {text-align: left ; width: 100%}\n",
       "    .wandb-row { display: flex; flex-direction: row; flex-wrap: wrap; justify-content: flex-start; width: 100% }\n",
       "    .wandb-col { display: flex; flex-direction: column; flex-basis: 100%; flex: 1; padding: 10px; }\n",
       "    </style>\n",
       "<div class=\"wandb-row\"><div class=\"wandb-col\"><h3>Run history:</h3><br/><table class=\"wandb\"><tr><td>Psi</td><td>▁</td></tr><tr><td>decoupled_MI</td><td>▁</td></tr><tr><td>downward_MI_0</td><td>▁</td></tr><tr><td>downward_MI_1</td><td>▁</td></tr><tr><td>downward_MI_10</td><td>▁</td></tr><tr><td>downward_MI_11</td><td>▁</td></tr><tr><td>downward_MI_12</td><td>▁</td></tr><tr><td>downward_MI_13</td><td>▁</td></tr><tr><td>downward_MI_14</td><td>▁</td></tr><tr><td>downward_MI_15</td><td>▁</td></tr><tr><td>downward_MI_16</td><td>▁</td></tr><tr><td>downward_MI_17</td><td>▁</td></tr><tr><td>downward_MI_18</td><td>▁</td></tr><tr><td>downward_MI_19</td><td>▁</td></tr><tr><td>downward_MI_2</td><td>▁</td></tr><tr><td>downward_MI_20</td><td>▁</td></tr><tr><td>downward_MI_21</td><td>▁</td></tr><tr><td>downward_MI_22</td><td>▁</td></tr><tr><td>downward_MI_23</td><td>▁</td></tr><tr><td>downward_MI_24</td><td>▁</td></tr><tr><td>downward_MI_25</td><td>▁</td></tr><tr><td>downward_MI_26</td><td>▁</td></tr><tr><td>downward_MI_27</td><td>▁</td></tr><tr><td>downward_MI_28</td><td>▁</td></tr><tr><td>downward_MI_29</td><td>▁</td></tr><tr><td>downward_MI_3</td><td>▁</td></tr><tr><td>downward_MI_30</td><td>▁</td></tr><tr><td>downward_MI_31</td><td>▁</td></tr><tr><td>downward_MI_32</td><td>▁</td></tr><tr><td>downward_MI_33</td><td>▁</td></tr><tr><td>downward_MI_34</td><td>▁</td></tr><tr><td>downward_MI_35</td><td>▁</td></tr><tr><td>downward_MI_36</td><td>▁</td></tr><tr><td>downward_MI_37</td><td>▁</td></tr><tr><td>downward_MI_38</td><td>▁</td></tr><tr><td>downward_MI_39</td><td>▁</td></tr><tr><td>downward_MI_4</td><td>▁</td></tr><tr><td>downward_MI_40</td><td>▁</td></tr><tr><td>downward_MI_41</td><td>▁</td></tr><tr><td>downward_MI_42</td><td>▁</td></tr><tr><td>downward_MI_43</td><td>▁</td></tr><tr><td>downward_MI_44</td><td>▁</td></tr><tr><td>downward_MI_45</td><td>▁</td></tr><tr><td>downward_MI_46</td><td>▁</td></tr><tr><td>downward_MI_47</td><td>▁</td></tr><tr><td>downward_MI_48</td><td>▁</td></tr><tr><td>downward_MI_49</td><td>▁</td></tr><tr><td>downward_MI_5</td><td>▁</td></tr><tr><td>downward_MI_50</td><td>▁</td></tr><tr><td>downward_MI_51</td><td>▁</td></tr><tr><td>downward_MI_52</td><td>▁</td></tr><tr><td>downward_MI_53</td><td>▁</td></tr><tr><td>downward_MI_54</td><td>▁</td></tr><tr><td>downward_MI_55</td><td>▁</td></tr><tr><td>downward_MI_56</td><td>▁</td></tr><tr><td>downward_MI_57</td><td>▁</td></tr><tr><td>downward_MI_58</td><td>▁</td></tr><tr><td>downward_MI_59</td><td>▁</td></tr><tr><td>downward_MI_6</td><td>▁</td></tr><tr><td>downward_MI_60</td><td>▁</td></tr><tr><td>downward_MI_61</td><td>▁</td></tr><tr><td>downward_MI_62</td><td>▁</td></tr><tr><td>downward_MI_63</td><td>▁</td></tr><tr><td>downward_MI_7</td><td>▁</td></tr><tr><td>downward_MI_8</td><td>▁</td></tr><tr><td>downward_MI_9</td><td>▁</td></tr><tr><td>sum_downward_MI</td><td>▁</td></tr></table><br/></div><div class=\"wandb-col\"><h3>Run summary:</h3><br/><table class=\"wandb\"><tr><td>Psi</td><td>-0.00263</td></tr><tr><td>decoupled_MI</td><td>0.0</td></tr><tr><td>downward_MI_0</td><td>3e-05</td></tr><tr><td>downward_MI_1</td><td>-2e-05</td></tr><tr><td>downward_MI_10</td><td>-1e-05</td></tr><tr><td>downward_MI_11</td><td>2e-05</td></tr><tr><td>downward_MI_12</td><td>-0.0</td></tr><tr><td>downward_MI_13</td><td>-2e-05</td></tr><tr><td>downward_MI_14</td><td>-0.0</td></tr><tr><td>downward_MI_15</td><td>-0.0</td></tr><tr><td>downward_MI_16</td><td>-1e-05</td></tr><tr><td>downward_MI_17</td><td>-1e-05</td></tr><tr><td>downward_MI_18</td><td>-1e-05</td></tr><tr><td>downward_MI_19</td><td>1e-05</td></tr><tr><td>downward_MI_2</td><td>-0.0</td></tr><tr><td>downward_MI_20</td><td>-3e-05</td></tr><tr><td>downward_MI_21</td><td>-1e-05</td></tr><tr><td>downward_MI_22</td><td>0.0</td></tr><tr><td>downward_MI_23</td><td>2e-05</td></tr><tr><td>downward_MI_24</td><td>-1e-05</td></tr><tr><td>downward_MI_25</td><td>-0.0</td></tr><tr><td>downward_MI_26</td><td>-1e-05</td></tr><tr><td>downward_MI_27</td><td>-2e-05</td></tr><tr><td>downward_MI_28</td><td>2e-05</td></tr><tr><td>downward_MI_29</td><td>-3e-05</td></tr><tr><td>downward_MI_3</td><td>-1e-05</td></tr><tr><td>downward_MI_30</td><td>-1e-05</td></tr><tr><td>downward_MI_31</td><td>-1e-05</td></tr><tr><td>downward_MI_32</td><td>2e-05</td></tr><tr><td>downward_MI_33</td><td>1e-05</td></tr><tr><td>downward_MI_34</td><td>-0.0</td></tr><tr><td>downward_MI_35</td><td>-1e-05</td></tr><tr><td>downward_MI_36</td><td>-1e-05</td></tr><tr><td>downward_MI_37</td><td>-1e-05</td></tr><tr><td>downward_MI_38</td><td>-1e-05</td></tr><tr><td>downward_MI_39</td><td>-2e-05</td></tr><tr><td>downward_MI_4</td><td>-1e-05</td></tr><tr><td>downward_MI_40</td><td>-1e-05</td></tr><tr><td>downward_MI_41</td><td>-3e-05</td></tr><tr><td>downward_MI_42</td><td>-4e-05</td></tr><tr><td>downward_MI_43</td><td>-2e-05</td></tr><tr><td>downward_MI_44</td><td>-3e-05</td></tr><tr><td>downward_MI_45</td><td>-3e-05</td></tr><tr><td>downward_MI_46</td><td>-3e-05</td></tr><tr><td>downward_MI_47</td><td>-0.0</td></tr><tr><td>downward_MI_48</td><td>-1e-05</td></tr><tr><td>downward_MI_49</td><td>-1e-05</td></tr><tr><td>downward_MI_5</td><td>-3e-05</td></tr><tr><td>downward_MI_50</td><td>-1e-05</td></tr><tr><td>downward_MI_51</td><td>-1e-05</td></tr><tr><td>downward_MI_52</td><td>-1e-05</td></tr><tr><td>downward_MI_53</td><td>-1e-05</td></tr><tr><td>downward_MI_54</td><td>1e-05</td></tr><tr><td>downward_MI_55</td><td>-2e-05</td></tr><tr><td>downward_MI_56</td><td>-1e-05</td></tr><tr><td>downward_MI_57</td><td>-1e-05</td></tr><tr><td>downward_MI_58</td><td>-2e-05</td></tr><tr><td>downward_MI_59</td><td>-2e-05</td></tr><tr><td>downward_MI_6</td><td>-4e-05</td></tr><tr><td>downward_MI_60</td><td>-2e-05</td></tr><tr><td>downward_MI_61</td><td>-2e-05</td></tr><tr><td>downward_MI_62</td><td>0.0</td></tr><tr><td>downward_MI_63</td><td>-1e-05</td></tr><tr><td>downward_MI_7</td><td>-1e-05</td></tr><tr><td>downward_MI_8</td><td>-9e-05</td></tr><tr><td>downward_MI_9</td><td>-3e-05</td></tr><tr><td>sum_downward_MI</td><td>0.00263</td></tr></table><br/></div></div>"
      ],
      "text/plain": [
       "<IPython.core.display.HTML object>"
      ]
     },
     "metadata": {},
     "output_type": "display_data"
    },
    {
     "data": {
      "text/html": [
       " View run <strong style=\"color:#cdcd00\">logical-pyramid-9</strong> at: <a href='https://wandb.ai/dmcsharry/Finding-true-Psi-for-f/runs/dxb7gqo0' target=\"_blank\">https://wandb.ai/dmcsharry/Finding-true-Psi-for-f/runs/dxb7gqo0</a><br/> View project at: <a href='https://wandb.ai/dmcsharry/Finding-true-Psi-for-f' target=\"_blank\">https://wandb.ai/dmcsharry/Finding-true-Psi-for-f</a><br/>Synced 5 W&B file(s), 0 media file(s), 0 artifact file(s) and 0 other file(s)"
      ],
      "text/plain": [
       "<IPython.core.display.HTML object>"
      ]
     },
     "metadata": {},
     "output_type": "display_data"
    },
    {
     "data": {
      "text/html": [
       "Find logs at: <code>./wandb/run-20240415_024047-dxb7gqo0/logs</code>"
      ],
      "text/plain": [
       "<IPython.core.display.HTML object>"
      ]
     },
     "metadata": {},
     "output_type": "display_data"
    },
    {
     "data": {
      "text/html": [
       "Successfully finished last run (ID:dxb7gqo0). Initializing new run:<br/>"
      ],
      "text/plain": [
       "<IPython.core.display.HTML object>"
      ]
     },
     "metadata": {},
     "output_type": "display_data"
    },
    {
     "data": {
      "text/html": [
       "Tracking run with wandb version 0.16.6"
      ],
      "text/plain": [
       "<IPython.core.display.HTML object>"
      ]
     },
     "metadata": {},
     "output_type": "display_data"
    },
    {
     "data": {
      "text/html": [
       "Run data is saved locally in <code>/vol/bitbucket/dm2223/info-theory-experiments/wandb/run-20240415_024054-98wtdn99</code>"
      ],
      "text/plain": [
       "<IPython.core.display.HTML object>"
      ]
     },
     "metadata": {},
     "output_type": "display_data"
    },
    {
     "data": {
      "text/html": [
       "Syncing run <strong><a href='https://wandb.ai/dmcsharry/getting-figures/runs/98wtdn99' target=\"_blank\">jolly-spaceship-98</a></strong> to <a href='https://wandb.ai/dmcsharry/getting-figures' target=\"_blank\">Weights & Biases</a> (<a href='https://wandb.me/run' target=\"_blank\">docs</a>)<br/>"
      ],
      "text/plain": [
       "<IPython.core.display.HTML object>"
      ]
     },
     "metadata": {},
     "output_type": "display_data"
    },
    {
     "data": {
      "text/html": [
       " View project at <a href='https://wandb.ai/dmcsharry/getting-figures' target=\"_blank\">https://wandb.ai/dmcsharry/getting-figures</a>"
      ],
      "text/plain": [
       "<IPython.core.display.HTML object>"
      ]
     },
     "metadata": {},
     "output_type": "display_data"
    },
    {
     "data": {
      "text/html": [
       " View run at <a href='https://wandb.ai/dmcsharry/getting-figures/runs/98wtdn99' target=\"_blank\">https://wandb.ai/dmcsharry/getting-figures/runs/98wtdn99</a>"
      ],
      "text/plain": [
       "<IPython.core.display.HTML object>"
      ]
     },
     "metadata": {},
     "output_type": "display_data"
    },
    {
     "name": "stderr",
     "output_type": "stream",
     "text": [
      "Training:   0%|          | 0/1 [00:00<?, ?it/s]\n"
     ]
    },
    {
     "name": "stdout",
     "output_type": "stream",
     "text": [
      "<class '__main__.SupervenientFeatureNetwork'>\n"
     ]
    },
    {
     "data": {
      "text/html": [
       "Finishing last run (ID:98wtdn99) before initializing another..."
      ],
      "text/plain": [
       "<IPython.core.display.HTML object>"
      ]
     },
     "metadata": {},
     "output_type": "display_data"
    },
    {
     "data": {
      "text/html": [
       "<style>\n",
       "    table.wandb td:nth-child(1) { padding: 0 10px; text-align: left ; width: auto;} td:nth-child(2) {text-align: left ; width: 100%}\n",
       "    .wandb-row { display: flex; flex-direction: row; flex-wrap: wrap; justify-content: flex-start; width: 100% }\n",
       "    .wandb-col { display: flex; flex-direction: column; flex-basis: 100%; flex: 1; padding: 10px; }\n",
       "    </style>\n",
       "<div class=\"wandb-row\"><div class=\"wandb-col\"><h3>Run history:</h3><br/><table class=\"wandb\"><tr><td>Psi</td><td>▁</td></tr><tr><td>decoupled_MI</td><td>▁</td></tr><tr><td>downward_MI_0</td><td>▁</td></tr><tr><td>downward_MI_1</td><td>▁</td></tr><tr><td>downward_MI_10</td><td>▁</td></tr><tr><td>downward_MI_11</td><td>▁</td></tr><tr><td>downward_MI_12</td><td>▁</td></tr><tr><td>downward_MI_13</td><td>▁</td></tr><tr><td>downward_MI_14</td><td>▁</td></tr><tr><td>downward_MI_15</td><td>▁</td></tr><tr><td>downward_MI_16</td><td>▁</td></tr><tr><td>downward_MI_17</td><td>▁</td></tr><tr><td>downward_MI_18</td><td>▁</td></tr><tr><td>downward_MI_19</td><td>▁</td></tr><tr><td>downward_MI_2</td><td>▁</td></tr><tr><td>downward_MI_20</td><td>▁</td></tr><tr><td>downward_MI_21</td><td>▁</td></tr><tr><td>downward_MI_22</td><td>▁</td></tr><tr><td>downward_MI_23</td><td>▁</td></tr><tr><td>downward_MI_24</td><td>▁</td></tr><tr><td>downward_MI_25</td><td>▁</td></tr><tr><td>downward_MI_26</td><td>▁</td></tr><tr><td>downward_MI_27</td><td>▁</td></tr><tr><td>downward_MI_28</td><td>▁</td></tr><tr><td>downward_MI_29</td><td>▁</td></tr><tr><td>downward_MI_3</td><td>▁</td></tr><tr><td>downward_MI_30</td><td>▁</td></tr><tr><td>downward_MI_31</td><td>▁</td></tr><tr><td>downward_MI_32</td><td>▁</td></tr><tr><td>downward_MI_33</td><td>▁</td></tr><tr><td>downward_MI_34</td><td>▁</td></tr><tr><td>downward_MI_35</td><td>▁</td></tr><tr><td>downward_MI_36</td><td>▁</td></tr><tr><td>downward_MI_37</td><td>▁</td></tr><tr><td>downward_MI_38</td><td>▁</td></tr><tr><td>downward_MI_39</td><td>▁</td></tr><tr><td>downward_MI_4</td><td>▁</td></tr><tr><td>downward_MI_40</td><td>▁</td></tr><tr><td>downward_MI_41</td><td>▁</td></tr><tr><td>downward_MI_42</td><td>▁</td></tr><tr><td>downward_MI_43</td><td>▁</td></tr><tr><td>downward_MI_44</td><td>▁</td></tr><tr><td>downward_MI_45</td><td>▁</td></tr><tr><td>downward_MI_46</td><td>▁</td></tr><tr><td>downward_MI_47</td><td>▁</td></tr><tr><td>downward_MI_48</td><td>▁</td></tr><tr><td>downward_MI_49</td><td>▁</td></tr><tr><td>downward_MI_5</td><td>▁</td></tr><tr><td>downward_MI_50</td><td>▁</td></tr><tr><td>downward_MI_51</td><td>▁</td></tr><tr><td>downward_MI_52</td><td>▁</td></tr><tr><td>downward_MI_53</td><td>▁</td></tr><tr><td>downward_MI_54</td><td>▁</td></tr><tr><td>downward_MI_55</td><td>▁</td></tr><tr><td>downward_MI_56</td><td>▁</td></tr><tr><td>downward_MI_57</td><td>▁</td></tr><tr><td>downward_MI_58</td><td>▁</td></tr><tr><td>downward_MI_59</td><td>▁</td></tr><tr><td>downward_MI_6</td><td>▁</td></tr><tr><td>downward_MI_60</td><td>▁</td></tr><tr><td>downward_MI_61</td><td>▁</td></tr><tr><td>downward_MI_62</td><td>▁</td></tr><tr><td>downward_MI_63</td><td>▁</td></tr><tr><td>downward_MI_7</td><td>▁</td></tr><tr><td>downward_MI_8</td><td>▁</td></tr><tr><td>downward_MI_9</td><td>▁</td></tr><tr><td>sum_downward_MI</td><td>▁</td></tr></table><br/></div><div class=\"wandb-col\"><h3>Run summary:</h3><br/><table class=\"wandb\"><tr><td>Psi</td><td>-0.00046</td></tr><tr><td>decoupled_MI</td><td>-0.0</td></tr><tr><td>downward_MI_0</td><td>-0.0</td></tr><tr><td>downward_MI_1</td><td>0.0</td></tr><tr><td>downward_MI_10</td><td>-2e-05</td></tr><tr><td>downward_MI_11</td><td>1e-05</td></tr><tr><td>downward_MI_12</td><td>-1e-05</td></tr><tr><td>downward_MI_13</td><td>-2e-05</td></tr><tr><td>downward_MI_14</td><td>0.0</td></tr><tr><td>downward_MI_15</td><td>0.0</td></tr><tr><td>downward_MI_16</td><td>2e-05</td></tr><tr><td>downward_MI_17</td><td>-5e-05</td></tr><tr><td>downward_MI_18</td><td>-4e-05</td></tr><tr><td>downward_MI_19</td><td>-1e-05</td></tr><tr><td>downward_MI_2</td><td>-6e-05</td></tr><tr><td>downward_MI_20</td><td>-5e-05</td></tr><tr><td>downward_MI_21</td><td>-1e-05</td></tr><tr><td>downward_MI_22</td><td>1e-05</td></tr><tr><td>downward_MI_23</td><td>2e-05</td></tr><tr><td>downward_MI_24</td><td>-2e-05</td></tr><tr><td>downward_MI_25</td><td>-2e-05</td></tr><tr><td>downward_MI_26</td><td>1e-05</td></tr><tr><td>downward_MI_27</td><td>-2e-05</td></tr><tr><td>downward_MI_28</td><td>1e-05</td></tr><tr><td>downward_MI_29</td><td>9e-05</td></tr><tr><td>downward_MI_3</td><td>-1e-05</td></tr><tr><td>downward_MI_30</td><td>2e-05</td></tr><tr><td>downward_MI_31</td><td>7e-05</td></tr><tr><td>downward_MI_32</td><td>-1e-05</td></tr><tr><td>downward_MI_33</td><td>-4e-05</td></tr><tr><td>downward_MI_34</td><td>-0.0</td></tr><tr><td>downward_MI_35</td><td>-1e-05</td></tr><tr><td>downward_MI_36</td><td>-0.0</td></tr><tr><td>downward_MI_37</td><td>-3e-05</td></tr><tr><td>downward_MI_38</td><td>-0.0</td></tr><tr><td>downward_MI_39</td><td>-3e-05</td></tr><tr><td>downward_MI_4</td><td>-2e-05</td></tr><tr><td>downward_MI_40</td><td>-2e-05</td></tr><tr><td>downward_MI_41</td><td>1e-05</td></tr><tr><td>downward_MI_42</td><td>1e-05</td></tr><tr><td>downward_MI_43</td><td>-2e-05</td></tr><tr><td>downward_MI_44</td><td>-2e-05</td></tr><tr><td>downward_MI_45</td><td>-1e-05</td></tr><tr><td>downward_MI_46</td><td>3e-05</td></tr><tr><td>downward_MI_47</td><td>5e-05</td></tr><tr><td>downward_MI_48</td><td>-1e-05</td></tr><tr><td>downward_MI_49</td><td>0.0</td></tr><tr><td>downward_MI_5</td><td>-2e-05</td></tr><tr><td>downward_MI_50</td><td>0.0</td></tr><tr><td>downward_MI_51</td><td>1e-05</td></tr><tr><td>downward_MI_52</td><td>0.0</td></tr><tr><td>downward_MI_53</td><td>2e-05</td></tr><tr><td>downward_MI_54</td><td>1e-05</td></tr><tr><td>downward_MI_55</td><td>2e-05</td></tr><tr><td>downward_MI_56</td><td>1e-05</td></tr><tr><td>downward_MI_57</td><td>-0.0</td></tr><tr><td>downward_MI_58</td><td>-2e-05</td></tr><tr><td>downward_MI_59</td><td>5e-05</td></tr><tr><td>downward_MI_6</td><td>-3e-05</td></tr><tr><td>downward_MI_60</td><td>-4e-05</td></tr><tr><td>downward_MI_61</td><td>-0.0</td></tr><tr><td>downward_MI_62</td><td>-3e-05</td></tr><tr><td>downward_MI_63</td><td>2e-05</td></tr><tr><td>downward_MI_7</td><td>0.0</td></tr><tr><td>downward_MI_8</td><td>0.0</td></tr><tr><td>downward_MI_9</td><td>-8e-05</td></tr><tr><td>sum_downward_MI</td><td>0.00046</td></tr></table><br/></div></div>"
      ],
      "text/plain": [
       "<IPython.core.display.HTML object>"
      ]
     },
     "metadata": {},
     "output_type": "display_data"
    },
    {
     "data": {
      "text/html": [
       " View run <strong style=\"color:#cdcd00\">jolly-spaceship-98</strong> at: <a href='https://wandb.ai/dmcsharry/getting-figures/runs/98wtdn99' target=\"_blank\">https://wandb.ai/dmcsharry/getting-figures/runs/98wtdn99</a><br/> View project at: <a href='https://wandb.ai/dmcsharry/getting-figures' target=\"_blank\">https://wandb.ai/dmcsharry/getting-figures</a><br/>Synced 5 W&B file(s), 0 media file(s), 0 artifact file(s) and 0 other file(s)"
      ],
      "text/plain": [
       "<IPython.core.display.HTML object>"
      ]
     },
     "metadata": {},
     "output_type": "display_data"
    },
    {
     "data": {
      "text/html": [
       "Find logs at: <code>./wandb/run-20240415_024054-98wtdn99/logs</code>"
      ],
      "text/plain": [
       "<IPython.core.display.HTML object>"
      ]
     },
     "metadata": {},
     "output_type": "display_data"
    },
    {
     "data": {
      "text/html": [
       "Successfully finished last run (ID:98wtdn99). Initializing new run:<br/>"
      ],
      "text/plain": [
       "<IPython.core.display.HTML object>"
      ]
     },
     "metadata": {},
     "output_type": "display_data"
    },
    {
     "data": {
      "text/html": [
       "Tracking run with wandb version 0.16.6"
      ],
      "text/plain": [
       "<IPython.core.display.HTML object>"
      ]
     },
     "metadata": {},
     "output_type": "display_data"
    },
    {
     "data": {
      "text/html": [
       "Run data is saved locally in <code>/vol/bitbucket/dm2223/info-theory-experiments/wandb/run-20240415_024101-98wtdn99</code>"
      ],
      "text/plain": [
       "<IPython.core.display.HTML object>"
      ]
     },
     "metadata": {},
     "output_type": "display_data"
    },
    {
     "data": {
      "text/html": [
       "Syncing run <strong><a href='https://wandb.ai/dmcsharry/Finding-true-Psi-for-f/runs/98wtdn99' target=\"_blank\">clean-eon-10</a></strong> to <a href='https://wandb.ai/dmcsharry/Finding-true-Psi-for-f' target=\"_blank\">Weights & Biases</a> (<a href='https://wandb.me/run' target=\"_blank\">docs</a>)<br/>"
      ],
      "text/plain": [
       "<IPython.core.display.HTML object>"
      ]
     },
     "metadata": {},
     "output_type": "display_data"
    },
    {
     "data": {
      "text/html": [
       " View project at <a href='https://wandb.ai/dmcsharry/Finding-true-Psi-for-f' target=\"_blank\">https://wandb.ai/dmcsharry/Finding-true-Psi-for-f</a>"
      ],
      "text/plain": [
       "<IPython.core.display.HTML object>"
      ]
     },
     "metadata": {},
     "output_type": "display_data"
    },
    {
     "data": {
      "text/html": [
       " View run at <a href='https://wandb.ai/dmcsharry/Finding-true-Psi-for-f/runs/98wtdn99' target=\"_blank\">https://wandb.ai/dmcsharry/Finding-true-Psi-for-f/runs/98wtdn99</a>"
      ],
      "text/plain": [
       "<IPython.core.display.HTML object>"
      ]
     },
     "metadata": {},
     "output_type": "display_data"
    },
    {
     "name": "stderr",
     "output_type": "stream",
     "text": [
      "Training:   0%|          | 0/1 [00:00<?, ?it/s]\n",
      "[I 2024-04-15 02:41:08,486] Trial 1 finished with value: -0.0007123947143554688 and parameters: {'batch_size': 2000, 'feature_size': 16, 'clip': 2, 'critic_output_size': 10, 'downward_hidden_size_v': 476, 'downward_hidden_size_xi': 75, 'feature_hidden_size': 958, 'decoupled_critic_hidden_size': 175, 'feature_lr': 1.723749852560971e-05, 'decoupled_critic_lr': 1.6145668368018935e-05, 'downward_lr': 6.425805952319134e-05, 'update_f_every_N_steps': 5, 'weight_decay': 1.5989586833270346e-06}. Best is trial 1 with value: -0.0007123947143554688.\n"
     ]
    }
   ],
   "source": [
    "\n",
    "import optuna\n",
    "def objective(trial):\n",
    "\n",
    "    config = {\n",
    "        \"batch_size\": trial.suggest_categorical(\"batch_size\", [500, 1000, 2000]),\n",
    "        \"num_atoms\": 64,\n",
    "        \"feature_size\": trial.suggest_categorical(\"feature_size\", [2, 4, 8, 16]),\n",
    "        \"clip\": trial.suggest_int(\"clip\", 1, 10),\n",
    "        \"critic_output_size\": trial.suggest_int(\"critic_output_size\", 8, 64, log=True),\n",
    "        \"downward_hidden_sizes_v_critic\": [trial.suggest_int(\"downward_hidden_size_v\", 64, 512, log=True) for _ in range(3)],\n",
    "        \"downward_hidden_sizes_xi_critic\": [trial.suggest_int(\"downward_hidden_size_xi\", 32, 256, log=True) for _ in range(3)],\n",
    "        \"feature_hidden_sizes\": [trial.suggest_int(\"feature_hidden_size\", 256, 1024, log=True) for _ in range(4)],\n",
    "        \"decoupled_critis_hidden_sizes\": [trial.suggest_int(\"decoupled_critic_hidden_size\", 64, 512, log=True) for _ in range(3)],\n",
    "        \"feature_lr\": trial.suggest_float(\"feature_lr\", 1e-6, 1e-3, log=True),\n",
    "        \"decoupled_critic_lr\": trial.suggest_float(\"decoupled_critic_lr\", 1e-5, 1e-3, log=True),\n",
    "        \"downward_lr\": trial.suggest_float(\"downward_lr\", 1e-5, 1e-3, log=True),\n",
    "        \"bias\": True,\n",
    "        \"update_f_every_N_steps\": trial.suggest_int(\"update_f_every_N_steps\", 1, 20, log=True),\n",
    "        \"weight_decay\": trial.suggest_float(\"weight_decay\", 1e-9, 1e-4, log=True),\n",
    "    }\n",
    "\n",
    "    feature_network = train_feature_network(config)\n",
    "    Psi = find_true_Psi(feature_network, wandb.run.id, feature_config=config)\n",
    "\n",
    "    return Psi\n",
    "\n",
    "study = optuna.create_study(direction=\"maximize\")\n",
    "study.optimize(objective, n_trials=20)  # Adjust the number of trials as needed\n",
    "\n",
    "# add the Psi value the params of the top 5 runs, then save\n",
    "\n",
    "import json\n",
    "\n",
    "# save best params\n",
    "with open(\"optuna_results/best_params.json\", \"w\") as f:\n",
    "    json.dump(study.best_params, f)\n",
    "\n",
    "# save second best params\n",
    "with open(\"optuna_results/second_best_params.json\", \"w\") as f:\n",
    "    json.dump(study.best_trials[1].params, f)\n",
    "\n",
    "# save third best params\n",
    "with open(\"optuna_results/third_best_params.json\", \"w\") as f:\n",
    "    json.dump(study.best_trials[2].params, f)\n",
    "\n",
    "# save fourth best params\n",
    "with open(\"optuna_results/fourth_best_params.json\", \"w\") as f:\n",
    "    json.dump(study.best_trials[3].params, f)\n",
    "\n",
    "# save fifth best params\n",
    "with open(\"optuna_results/fifth_best_params.json\", \"w\") as f:\n",
    "    json.dump(study.best_trials[4].params, f)\n",
    "\n",
    "\n",
    "top_5 = study.best_trials[:5]\n",
    "\n",
    "for i, trial in enumerate(top_5):\n",
    "    trial.params['Psi'] = trial.value\n",
    "    with open(f\"optuna_results/trial_{i}.json\", \"w\") as f:\n",
    "        json.dump(trial.params, f)\n"
   ]
  },
  {
   "cell_type": "markdown",
   "metadata": {},
   "source": [
    "# Hacky hyperparam search"
   ]
  },
  {
   "cell_type": "code",
   "execution_count": null,
   "metadata": {},
   "outputs": [],
   "source": []
  },
  {
   "cell_type": "code",
   "execution_count": null,
   "metadata": {},
   "outputs": [],
   "source": []
  }
 ],
 "metadata": {
  "kernelspec": {
   "display_name": ".venv",
   "language": "python",
   "name": "python3"
  },
  "language_info": {
   "codemirror_mode": {
    "name": "ipython",
    "version": 3
   },
   "file_extension": ".py",
   "mimetype": "text/x-python",
   "name": "python",
   "nbconvert_exporter": "python",
   "pygments_lexer": "ipython3",
   "version": "3.10.13"
  }
 },
 "nbformat": 4,
 "nbformat_minor": 2
}
