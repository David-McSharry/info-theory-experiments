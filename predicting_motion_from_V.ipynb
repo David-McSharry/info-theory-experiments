{
 "cells": [
  {
   "cell_type": "code",
   "execution_count": 1,
   "metadata": {},
   "outputs": [],
   "source": [
    "import torch\n",
    "import scipy\n",
    "import numpy as np"
   ]
  },
  {
   "cell_type": "code",
   "execution_count": 2,
   "metadata": {},
   "outputs": [
    {
     "name": "stdout",
     "output_type": "stream",
     "text": [
      "torch.Size([125373])\n"
     ]
    }
   ],
   "source": [
    "# load /vol/bitbucket/dm2223/info-theory-experiments/data/ecog_data_raw/Motion.mat\n",
    "\n",
    "file_path = '/vol/bitbucket/dm2223/info-theory-experiments/data/ecog_data_raw/Motion.mat'\n",
    "\n",
    "# Load the MATLAB file\n",
    "mat_data = scipy.io.loadmat(file_path)\n",
    "\n",
    "motion_time = torch.from_numpy(np.asarray(mat_data['MotionTime'])).squeeze()[1:]\n",
    "\n",
    "print(motion_time.size())\n"
   ]
  },
  {
   "cell_type": "code",
   "execution_count": 3,
   "metadata": {},
   "outputs": [],
   "source": [
    "ecog_time_path = \"/vol/bitbucket/dm2223/info-theory-experiments/data/ecog_data_raw/ECoG_time.mat\"\n",
    "\n",
    "# Load the MATLAB file with ECoGTime key\n",
    "mat_data = scipy.io.loadmat(ecog_time_path)\n",
    "ecog_time_1000 = torch.from_numpy(np.asarray(mat_data['ECoGTime'])).squeeze()\n",
    "\n",
    "# downsmaple\n",
    "\n",
    "ecog_time_300 = ecog_time_1000[::3]\n"
   ]
  },
  {
   "cell_type": "code",
   "execution_count": 4,
   "metadata": {},
   "outputs": [
    {
     "name": "stdout",
     "output_type": "stream",
     "text": [
      "tensor([1045.8190, 1045.8200, 1045.8210, 1045.8220, 1045.8230, 1045.8240,\n",
      "        1045.8250, 1045.8260, 1045.8270, 1045.8280], dtype=torch.float64)\n",
      "tensor([1045.8010, 1045.8040, 1045.8070, 1045.8100, 1045.8130, 1045.8160,\n",
      "        1045.8190, 1045.8220, 1045.8250, 1045.8280], dtype=torch.float64)\n"
     ]
    }
   ],
   "source": [
    "print(ecog_time_1000[-10:])\n",
    "print(ecog_time_300[-10:])"
   ]
  },
  {
   "cell_type": "code",
   "execution_count": 6,
   "metadata": {},
   "outputs": [
    {
     "name": "stdout",
     "output_type": "stream",
     "text": [
      "125373\n"
     ]
    }
   ],
   "source": [
    "num_motion_timesteps = motion_time.size(0)\n",
    "\n",
    "print(num_motion_timesteps)\n",
    "\n",
    "indices = []\n",
    "for t in motion_time:\n",
    "    differences = torch.abs((ecog_time_300 - t) + 0.5)\n",
    "    index = torch.argmin(differences)\n",
    "    indices.append(index.item())\n"
   ]
  },
  {
   "cell_type": "code",
   "execution_count": 7,
   "metadata": {},
   "outputs": [
    {
     "name": "stdout",
     "output_type": "stream",
     "text": [
      "125373\n",
      "125373\n",
      "125373\n"
     ]
    }
   ],
   "source": [
    "\n",
    "print(len(motion_time))\n",
    "\n",
    "print(len(indices))\n",
    "\n",
    "print(len(ecog_time_300[indices]))"
   ]
  },
  {
   "cell_type": "code",
   "execution_count": 8,
   "metadata": {},
   "outputs": [
    {
     "data": {
      "text/plain": [
       "<All keys matched successfully>"
      ]
     },
     "execution_count": 8,
     "metadata": {},
     "output_type": "execute_result"
    }
   ],
   "source": [
    "from models import SkipConnectionSupervenientFeatureNetwork\n",
    "\n",
    "seed = 1\n",
    "\n",
    "torch.manual_seed(seed)\n",
    "\n",
    "device = torch.device(\"cuda\" if torch.cuda.is_available() else \"cpu\")\n",
    "\n",
    "config = {\n",
    "    \"torch_seed\": seed,\n",
    "    \"dataset_type\": \"ecog\",\n",
    "    \"num_atoms\": 64,\n",
    "    \"batch_size\": 1000,\n",
    "    \"train_mode\": True,\n",
    "    \"train_model_B\": False,\n",
    "    \"adjust_Psi\": False,\n",
    "    \"clip\": 5,\n",
    "    \"feature_size\": 3,\n",
    "    \"epochs\": 70,\n",
    "    \"start_updating_f_after\": 500,\n",
    "    \"update_f_every_N_steps\": 5,\n",
    "    \"minimize_neg_terms_until\": 9999999999,\n",
    "    \"downward_critics_config\": {\n",
    "        \"hidden_sizes_v_critic\": [512, 1024, 1024, 512],\n",
    "        \"hidden_sizes_xi_critic\": [512, 512, 512],\n",
    "        \"critic_output_size\": 32,\n",
    "        \"lr\": 1e-3,\n",
    "        \"bias\": True,\n",
    "        \"weight_decay\": 0,\n",
    "    },\n",
    "    \"decoupled_critic_config\": {\n",
    "        \"hidden_sizes_encoder_1\": [512, 512, 512],\n",
    "        \"hidden_sizes_encoder_2\": [512, 512, 512],\n",
    "        \"critic_output_size\": 32,\n",
    "        \"lr\": 1e-3,\n",
    "        \"bias\": True,\n",
    "        \"weight_decay\": 0,\n",
    "    },\n",
    "    \"feature_network_config\": {\n",
    "        \"hidden_sizes\": [256, 256, 256, 256, 256],\n",
    "        \"lr\": 1e-4,\n",
    "        \"bias\": True,\n",
    "        \"weight_decay\": 1e-3,\n",
    "    }\n",
    "}\n",
    "\n",
    "model_path = \"/vol/bitbucket/dm2223/info-theory-experiments/models/ECOG_feature_network_devout-leaf-5.pth\"\n",
    "\n",
    "\n",
    "skip_model = SkipConnectionSupervenientFeatureNetwork(\n",
    "    num_atoms=config['num_atoms'],\n",
    "    feature_size=config['feature_size'],\n",
    "    hidden_sizes=config['feature_network_config']['hidden_sizes'],\n",
    "    include_bias=config['feature_network_config']['bias'],\n",
    ").to(device)\n",
    "\n",
    "\n",
    "skip_model.load_state_dict(torch.load(model_path))\n"
   ]
  },
  {
   "cell_type": "code",
   "execution_count": 9,
   "metadata": {},
   "outputs": [],
   "source": [
    "\n",
    "from datasets import ECoGDataset\n",
    "\n",
    "dataset = ECoGDataset(prepare_pairs=False)"
   ]
  },
  {
   "cell_type": "code",
   "execution_count": 10,
   "metadata": {},
   "outputs": [
    {
     "name": "stdout",
     "output_type": "stream",
     "text": [
      "(125374, 3)\n",
      "(125374, 3)\n",
      "(125374, 3)\n",
      "(125374, 3)\n",
      "(125374, 3)\n",
      "(125374, 3)\n"
     ]
    }
   ],
   "source": [
    "file_path = '/vol/bitbucket/dm2223/info-theory-experiments/data/ecog_data_raw/Motion.mat'\n",
    "\n",
    "# Load the MATLAB file\n",
    "mat_data = scipy.io.loadmat(file_path)\n",
    "\n",
    "print(mat_data['MotionData'][0][0].shape)\n",
    "print(mat_data['MotionData'][1][0].shape)\n",
    "print(mat_data['MotionData'][2][0].shape)\n",
    "print(mat_data['MotionData'][3][0].shape)\n",
    "print(mat_data['MotionData'][4][0].shape)\n",
    "print(mat_data['MotionData'][5][0].shape)\n"
   ]
  },
  {
   "cell_type": "code",
   "execution_count": 11,
   "metadata": {},
   "outputs": [],
   "source": [
    "# clear cache\n",
    "import torch\n",
    "torch.cuda.empty_cache()"
   ]
  },
  {
   "cell_type": "code",
   "execution_count": 43,
   "metadata": {},
   "outputs": [],
   "source": [
    "device = 'cuda'\n",
    "\n",
    "downsampled_dataset = dataset[indices].to(device).float()\n",
    "\n",
    "j = 0\n",
    "\n",
    "left_wrist = torch.tensor(mat_data['MotionData'][j][0])[1:]\n",
    "\n",
    "\n",
    "\n",
    "model_path = \"/vol/bitbucket/dm2223/info-theory-experiments/models/feature_network_earthy-sun-6.pth\"\n",
    "\n",
    "\n",
    "skip_model = SkipConnectionSupervenientFeatureNetwork(\n",
    "    num_atoms=config['num_atoms'],\n",
    "    feature_size=config['feature_size'],\n",
    "    hidden_sizes=config['feature_network_config']['hidden_sizes'],\n",
    "    include_bias=config['feature_network_config']['bias'],\n",
    ").to(device)\n",
    "\n",
    "\n",
    "skip_model.load_state_dict(torch.load(model_path))\n",
    "\n",
    "untrained_skip_model = SkipConnectionSupervenientFeatureNetwork(\n",
    "    num_atoms=config['num_atoms'],\n",
    "    feature_size=config['feature_size'],\n",
    "    hidden_sizes=config['feature_network_config']['hidden_sizes'],\n",
    "    include_bias=config['feature_network_config']['bias'],\n",
    ").to(device)\n",
    "\n",
    "V = skip_model(downsampled_dataset)\n",
    "\n",
    "V_untrained = untrained_skip_model(downsampled_dataset)\n",
    "\n"
   ]
  },
  {
   "cell_type": "code",
   "execution_count": 44,
   "metadata": {},
   "outputs": [],
   "source": [
    "# make a dataset clas with V as the x and left_wrist as the y\n",
    "\n",
    "import torch\n",
    "from torch.utils.data import Dataset, DataLoader\n",
    "\n",
    "class MotionDataset(Dataset):\n",
    "    def __init__(self, x_data, y_data):\n",
    "        \"\"\"\n",
    "        Args:\n",
    "            x_data (torch.Tensor): The input features - V\n",
    "            y_data (torch.Tensor): The target labels - left_wrist\n",
    "        \"\"\"\n",
    "        self.x_data = x_data.detach()\n",
    "        self.y_data = y_data.detach()\n",
    "\n",
    "    def __len__(self):\n",
    "        return len(self.x_data)\n",
    "\n",
    "    def __getitem__(self, idx):\n",
    "        x = self.x_data[idx]\n",
    "        y = self.y_data[idx]\n",
    "        return x, y\n",
    "\n"
   ]
  },
  {
   "cell_type": "code",
   "execution_count": 45,
   "metadata": {},
   "outputs": [
    {
     "data": {
      "image/png": "[encoded data removed]",
      "text/plain": [
       "<Figure size 640x480 with 1 Axes>"
      ]
     },
     "metadata": {},
     "output_type": "display_data"
    }
   ],
   "source": [
    "\n",
    "motion_dataset = MotionDataset(V, left_wrist)\n",
    "\n",
    "\n",
    "dataloader = DataLoader(motion_dataset, batch_size=100, shuffle=True)\n",
    "\n",
    "\n",
    "class MLP(torch.nn.Module):\n",
    "    def __init__(self):\n",
    "        super(MLP, self).__init__()\n",
    "        self.fc1 = torch.nn.Linear(3, 1024)\n",
    "        self.fc2 = torch.nn.Linear(1024, 1024)\n",
    "        self.fc3 = torch.nn.Linear(1024, 1024)\n",
    "        self.fc4 = torch.nn.Linear(1024, 2048)\n",
    "        self.fc5 = torch.nn.Linear(2048, 2048)\n",
    "        self.fc6 = torch.nn.Linear(2048, 3)\n",
    "        \n",
    "    \n",
    "    def forward(self, x):\n",
    "        x = torch.relu(self.fc1(x))\n",
    "        x = torch.relu(self.fc2(x))\n",
    "        x = torch.relu(self.fc3(x))\n",
    "        x = torch.relu(self.fc4(x))\n",
    "        x = torch.relu(self.fc5(x))\n",
    "        x = self.fc6(x)\n",
    "        return x\n",
    "\n",
    "mlp = MLP().to(device)\n",
    "\n",
    "optimizer = torch.optim.Adam(mlp.parameters(), lr=1e-3)\n",
    "\n",
    "criterion = torch.nn.MSELoss()\n",
    "\n",
    "\n",
    "num_epochs = 3\n",
    "device = torch.device('cuda' if torch.cuda.is_available() else 'cpu')\n",
    "losses = []\n",
    "for epoch in range(num_epochs):\n",
    "    for batch in dataloader:\n",
    "        x, y = batch\n",
    "        x = x.to(device).float()\n",
    "        y = y.to(device).float()\n",
    "\n",
    "        # Zero the parameter gradients\n",
    "        optimizer.zero_grad()\n",
    "\n",
    "        # Forward pass\n",
    "        outputs = mlp(x).to(device)\n",
    "\n",
    "        \n",
    "        # Compute loss\n",
    "        loss = criterion(outputs, y)\n",
    "        \n",
    "        # Backward pass and optimize\n",
    "        loss.backward()\n",
    "        optimizer.step()\n",
    "\n",
    "        losses.append(loss.item())\n",
    "\n",
    "\n",
    "import matplotlib.pyplot as plt\n",
    "\n",
    "plt.plot(losses)\n",
    "plt.yscale('log')\n",
    "plt.show()    "
   ]
  },
  {
   "cell_type": "code",
   "execution_count": null,
   "metadata": {},
   "outputs": [],
   "source": []
  },
  {
   "cell_type": "code",
   "execution_count": null,
   "metadata": {},
   "outputs": [],
   "source": []
  },
  {
   "cell_type": "code",
   "execution_count": null,
   "metadata": {},
   "outputs": [],
   "source": []
  }
 ],
 "metadata": {
  "kernelspec": {
   "display_name": "venv",
   "language": "python",
   "name": "python3"
  },
  "language_info": {
   "codemirror_mode": {
    "name": "ipython",
    "version": 3
   },
   "file_extension": ".py",
   "mimetype": "text/x-python",
   "name": "python",
   "nbconvert_exporter": "python",
   "pygments_lexer": "ipython3",
   "version": "3.10.12"
  }
 },
 "nbformat": 4,
 "nbformat_minor": 2
}
