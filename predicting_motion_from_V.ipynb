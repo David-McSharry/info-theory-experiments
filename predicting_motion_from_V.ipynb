{
 "cells": [
  {
   "cell_type": "code",
   "execution_count": 1,
   "metadata": {},
   "outputs": [],
   "source": [
    "import torch\n",
    "import scipy\n",
    "import numpy as np"
   ]
  },
  {
   "cell_type": "code",
   "execution_count": 2,
   "metadata": {},
   "outputs": [
    {
     "name": "stdout",
     "output_type": "stream",
     "text": [
      "torch.Size([125373])\n"
     ]
    }
   ],
   "source": [
    "# load /vol/bitbucket/dm2223/info-theory-experiments/data/ecog_data_raw/Motion.mat\n",
    "\n",
    "file_path = '/vol/bitbucket/dm2223/info-theory-experiments/data/ecog_data_raw/Motion.mat'\n",
    "\n",
    "# Load the MATLAB file\n",
    "mat_data = scipy.io.loadmat(file_path)\n",
    "\n",
    "motion_time = torch.from_numpy(np.asarray(mat_data['MotionTime'])).squeeze()[1:]\n",
    "\n",
    "print(motion_time.size())"
   ]
  },
  {
   "cell_type": "code",
   "execution_count": 3,
   "metadata": {},
   "outputs": [],
   "source": [
    "ecog_time_path = \"/vol/bitbucket/dm2223/info-theory-experiments/data/ecog_data_raw/ECoG_time.mat\"\n",
    "\n",
    "# Load the MATLAB file with ECoGTime key\n",
    "mat_data = scipy.io.loadmat(ecog_time_path)\n",
    "ecog_time_1000 = torch.from_numpy(np.asarray(mat_data['ECoGTime'])).squeeze()\n",
    "\n",
    "# downsmaple\n",
    "\n",
    "ecog_time_300 = ecog_time_1000[::3]\n"
   ]
  },
  {
   "cell_type": "code",
   "execution_count": 4,
   "metadata": {},
   "outputs": [
    {
     "name": "stdout",
     "output_type": "stream",
     "text": [
      "tensor([1045.8190, 1045.8200, 1045.8210, 1045.8220, 1045.8230, 1045.8240,\n",
      "        1045.8250, 1045.8260, 1045.8270, 1045.8280], dtype=torch.float64)\n",
      "tensor([1045.8010, 1045.8040, 1045.8070, 1045.8100, 1045.8130, 1045.8160,\n",
      "        1045.8190, 1045.8220, 1045.8250, 1045.8280], dtype=torch.float64)\n"
     ]
    }
   ],
   "source": [
    "print(ecog_time_1000[-10:])\n",
    "print(ecog_time_300[-10:])"
   ]
  },
  {
   "cell_type": "code",
   "execution_count": 5,
   "metadata": {},
   "outputs": [
    {
     "name": "stdout",
     "output_type": "stream",
     "text": [
      "125373\n"
     ]
    }
   ],
   "source": [
    "num_motion_timesteps = motion_time.size(0)\n",
    "\n",
    "print(num_motion_timesteps)\n",
    "\n",
    "indices = []\n",
    "for t in motion_time:\n",
    "    differences = torch.abs((ecog_time_300 - t))\n",
    "    index = torch.argmin(differences)\n",
    "    indices.append(index.item())\n"
   ]
  },
  {
   "cell_type": "code",
   "execution_count": 6,
   "metadata": {},
   "outputs": [
    {
     "name": "stdout",
     "output_type": "stream",
     "text": [
      "125373\n",
      "125373\n",
      "125373\n"
     ]
    }
   ],
   "source": [
    "\n",
    "print(len(motion_time))\n",
    "\n",
    "print(len(indices))\n",
    "\n",
    "print(len(ecog_time_300[indices]))"
   ]
  },
  {
   "cell_type": "code",
   "execution_count": 7,
   "metadata": {},
   "outputs": [
    {
     "data": {
      "text/plain": [
       "<All keys matched successfully>"
      ]
     },
     "execution_count": 7,
     "metadata": {},
     "output_type": "execute_result"
    }
   ],
   "source": [
    "from models import SkipConnectionSupervenientFeatureNetwork\n",
    "\n",
    "seed = 1\n",
    "\n",
    "torch.manual_seed(seed)\n",
    "\n",
    "device = \"cuda\"\n",
    "\n",
    "config = {\n",
    "    \"torch_seed\": seed,\n",
    "    \"dataset_type\": \"ecog\",\n",
    "    \"num_atoms\": 64,\n",
    "    \"batch_size\": 1000,\n",
    "    \"train_mode\": True,\n",
    "    \"train_model_B\": False,\n",
    "    \"adjust_Psi\": False,\n",
    "    \"clip\": 5,\n",
    "    \"feature_size\": 3,\n",
    "    \"epochs\": 70,\n",
    "    \"start_updating_f_after\": 500,\n",
    "    \"update_f_every_N_steps\": 5,\n",
    "    \"minimize_neg_terms_until\": 9999999999,\n",
    "    \"downward_critics_config\": {\n",
    "        \"hidden_sizes_v_critic\": [512, 1024, 1024, 512],\n",
    "        \"hidden_sizes_xi_critic\": [512, 512, 512],\n",
    "        \"critic_output_size\": 32,\n",
    "        \"lr\": 1e-3,\n",
    "        \"bias\": True,\n",
    "        \"weight_decay\": 0,\n",
    "    },\n",
    "    \"decoupled_critic_config\": {\n",
    "        \"hidden_sizes_encoder_1\": [512, 512, 512],\n",
    "        \"hidden_sizes_encoder_2\": [512, 512, 512],\n",
    "        \"critic_output_size\": 32,\n",
    "        \"lr\": 1e-3,\n",
    "        \"bias\": True,\n",
    "        \"weight_decay\": 0,\n",
    "    },\n",
    "    \"feature_network_config\": {\n",
    "        \"hidden_sizes\": [256, 256, 256, 256, 256],\n",
    "        \"lr\": 1e-4,\n",
    "        \"bias\": True,\n",
    "        \"weight_decay\": 1e-3,\n",
    "    }\n",
    "}\n",
    "\n",
    "model_path = \"/vol/bitbucket/dm2223/info-theory-experiments/models/ECOG_feature_network_devout-leaf-5.pth\"\n",
    "\n",
    "\n",
    "skip_model = SkipConnectionSupervenientFeatureNetwork(\n",
    "    num_atoms=config['num_atoms'],\n",
    "    feature_size=config['feature_size'],\n",
    "    hidden_sizes=config['feature_network_config']['hidden_sizes'],\n",
    "    include_bias=config['feature_network_config']['bias'],\n",
    ").to(device)\n",
    "\n",
    "\n",
    "skip_model.load_state_dict(torch.load(model_path))\n"
   ]
  },
  {
   "cell_type": "code",
   "execution_count": 8,
   "metadata": {},
   "outputs": [],
   "source": [
    "\n",
    "from datasets import ECoGDataset\n",
    "\n",
    "dataset = ECoGDataset(prepare_pairs=False)"
   ]
  },
  {
   "cell_type": "code",
   "execution_count": 9,
   "metadata": {},
   "outputs": [
    {
     "name": "stdout",
     "output_type": "stream",
     "text": [
      "(125374, 3)\n",
      "(125374, 3)\n",
      "(125374, 3)\n",
      "(125374, 3)\n",
      "(125374, 3)\n",
      "(125374, 3)\n"
     ]
    }
   ],
   "source": [
    "file_path = '/vol/bitbucket/dm2223/info-theory-experiments/data/ecog_data_raw/Motion.mat'\n",
    "\n",
    "# Load the MATLAB file\n",
    "mat_data = scipy.io.loadmat(file_path)\n",
    "\n",
    "print(mat_data['MotionData'][0][0].shape)\n",
    "print(mat_data['MotionData'][1][0].shape)\n",
    "print(mat_data['MotionData'][2][0].shape)\n",
    "print(mat_data['MotionData'][3][0].shape)\n",
    "print(mat_data['MotionData'][4][0].shape)\n",
    "print(mat_data['MotionData'][5][0].shape)\n"
   ]
  },
  {
   "cell_type": "code",
   "execution_count": 10,
   "metadata": {},
   "outputs": [],
   "source": [
    "# clear cache\n",
    "import torch\n",
    "torch.cuda.empty_cache()"
   ]
  },
  {
   "cell_type": "code",
   "execution_count": 15,
   "metadata": {},
   "outputs": [
    {
     "ename": "OutOfMemoryError",
     "evalue": "CUDA out of memory. Tried to allocate 124.00 MiB. GPU ",
     "output_type": "error",
     "traceback": [
      "\u001b[0;31m---------------------------------------------------------------------------\u001b[0m",
      "\u001b[0;31mOutOfMemoryError\u001b[0m                          Traceback (most recent call last)",
      "Cell \u001b[0;32mIn[15], line 25\u001b[0m\n\u001b[1;32m     14\u001b[0m skip_model \u001b[38;5;241m=\u001b[39m SkipConnectionSupervenientFeatureNetwork(\n\u001b[1;32m     15\u001b[0m     num_atoms\u001b[38;5;241m=\u001b[39mconfig[\u001b[38;5;124m'\u001b[39m\u001b[38;5;124mnum_atoms\u001b[39m\u001b[38;5;124m'\u001b[39m],\n\u001b[1;32m     16\u001b[0m     feature_size\u001b[38;5;241m=\u001b[39mconfig[\u001b[38;5;124m'\u001b[39m\u001b[38;5;124mfeature_size\u001b[39m\u001b[38;5;124m'\u001b[39m],\n\u001b[1;32m     17\u001b[0m     hidden_sizes\u001b[38;5;241m=\u001b[39mconfig[\u001b[38;5;124m'\u001b[39m\u001b[38;5;124mfeature_network_config\u001b[39m\u001b[38;5;124m'\u001b[39m][\u001b[38;5;124m'\u001b[39m\u001b[38;5;124mhidden_sizes\u001b[39m\u001b[38;5;124m'\u001b[39m],\n\u001b[1;32m     18\u001b[0m     include_bias\u001b[38;5;241m=\u001b[39mconfig[\u001b[38;5;124m'\u001b[39m\u001b[38;5;124mfeature_network_config\u001b[39m\u001b[38;5;124m'\u001b[39m][\u001b[38;5;124m'\u001b[39m\u001b[38;5;124mbias\u001b[39m\u001b[38;5;124m'\u001b[39m],\n\u001b[1;32m     19\u001b[0m )\u001b[38;5;241m.\u001b[39mto(device)\n\u001b[1;32m     22\u001b[0m skip_model\u001b[38;5;241m.\u001b[39mload_state_dict(torch\u001b[38;5;241m.\u001b[39mload(model_path))\n\u001b[0;32m---> 25\u001b[0m V \u001b[38;5;241m=\u001b[39m \u001b[43mskip_model\u001b[49m\u001b[43m(\u001b[49m\u001b[43mdownsampled_dataset\u001b[49m\u001b[43m)\u001b[49m\n",
      "File \u001b[0;32m/vol/bitbucket/dm2223/info-theory-experiments/venv/lib/python3.10/site-packages/torch/nn/modules/module.py:1532\u001b[0m, in \u001b[0;36mModule._wrapped_call_impl\u001b[0;34m(self, *args, **kwargs)\u001b[0m\n\u001b[1;32m   1530\u001b[0m     \u001b[38;5;28;01mreturn\u001b[39;00m \u001b[38;5;28mself\u001b[39m\u001b[38;5;241m.\u001b[39m_compiled_call_impl(\u001b[38;5;241m*\u001b[39margs, \u001b[38;5;241m*\u001b[39m\u001b[38;5;241m*\u001b[39mkwargs)  \u001b[38;5;66;03m# type: ignore[misc]\u001b[39;00m\n\u001b[1;32m   1531\u001b[0m \u001b[38;5;28;01melse\u001b[39;00m:\n\u001b[0;32m-> 1532\u001b[0m     \u001b[38;5;28;01mreturn\u001b[39;00m \u001b[38;5;28;43mself\u001b[39;49m\u001b[38;5;241;43m.\u001b[39;49m\u001b[43m_call_impl\u001b[49m\u001b[43m(\u001b[49m\u001b[38;5;241;43m*\u001b[39;49m\u001b[43margs\u001b[49m\u001b[43m,\u001b[49m\u001b[43m \u001b[49m\u001b[38;5;241;43m*\u001b[39;49m\u001b[38;5;241;43m*\u001b[39;49m\u001b[43mkwargs\u001b[49m\u001b[43m)\u001b[49m\n",
      "File \u001b[0;32m/vol/bitbucket/dm2223/info-theory-experiments/venv/lib/python3.10/site-packages/torch/nn/modules/module.py:1541\u001b[0m, in \u001b[0;36mModule._call_impl\u001b[0;34m(self, *args, **kwargs)\u001b[0m\n\u001b[1;32m   1536\u001b[0m \u001b[38;5;66;03m# If we don't have any hooks, we want to skip the rest of the logic in\u001b[39;00m\n\u001b[1;32m   1537\u001b[0m \u001b[38;5;66;03m# this function, and just call forward.\u001b[39;00m\n\u001b[1;32m   1538\u001b[0m \u001b[38;5;28;01mif\u001b[39;00m \u001b[38;5;129;01mnot\u001b[39;00m (\u001b[38;5;28mself\u001b[39m\u001b[38;5;241m.\u001b[39m_backward_hooks \u001b[38;5;129;01mor\u001b[39;00m \u001b[38;5;28mself\u001b[39m\u001b[38;5;241m.\u001b[39m_backward_pre_hooks \u001b[38;5;129;01mor\u001b[39;00m \u001b[38;5;28mself\u001b[39m\u001b[38;5;241m.\u001b[39m_forward_hooks \u001b[38;5;129;01mor\u001b[39;00m \u001b[38;5;28mself\u001b[39m\u001b[38;5;241m.\u001b[39m_forward_pre_hooks\n\u001b[1;32m   1539\u001b[0m         \u001b[38;5;129;01mor\u001b[39;00m _global_backward_pre_hooks \u001b[38;5;129;01mor\u001b[39;00m _global_backward_hooks\n\u001b[1;32m   1540\u001b[0m         \u001b[38;5;129;01mor\u001b[39;00m _global_forward_hooks \u001b[38;5;129;01mor\u001b[39;00m _global_forward_pre_hooks):\n\u001b[0;32m-> 1541\u001b[0m     \u001b[38;5;28;01mreturn\u001b[39;00m \u001b[43mforward_call\u001b[49m\u001b[43m(\u001b[49m\u001b[38;5;241;43m*\u001b[39;49m\u001b[43margs\u001b[49m\u001b[43m,\u001b[49m\u001b[43m \u001b[49m\u001b[38;5;241;43m*\u001b[39;49m\u001b[38;5;241;43m*\u001b[39;49m\u001b[43mkwargs\u001b[49m\u001b[43m)\u001b[49m\n\u001b[1;32m   1543\u001b[0m \u001b[38;5;28;01mtry\u001b[39;00m:\n\u001b[1;32m   1544\u001b[0m     result \u001b[38;5;241m=\u001b[39m \u001b[38;5;28;01mNone\u001b[39;00m\n",
      "File \u001b[0;32m/vol/bitbucket/dm2223/info-theory-experiments/models.py:68\u001b[0m, in \u001b[0;36mSkipConnectionSupervenientFeatureNetwork.forward\u001b[0;34m(self, x)\u001b[0m\n\u001b[1;32m     66\u001b[0m     identity \u001b[38;5;241m=\u001b[39m x\n\u001b[1;32m     67\u001b[0m     x \u001b[38;5;241m=\u001b[39m layer(x)\n\u001b[0;32m---> 68\u001b[0m     x \u001b[38;5;241m=\u001b[39m \u001b[43mF\u001b[49m\u001b[38;5;241;43m.\u001b[39;49m\u001b[43mrelu\u001b[49m\u001b[43m(\u001b[49m\u001b[43mx\u001b[49m\u001b[43m)\u001b[49m\n\u001b[1;32m     69\u001b[0m     x \u001b[38;5;241m=\u001b[39m torch\u001b[38;5;241m.\u001b[39madd(x, identity)\n\u001b[1;32m     71\u001b[0m \u001b[38;5;66;03m# Final projection without non-linearity\u001b[39;00m\n",
      "File \u001b[0;32m/vol/bitbucket/dm2223/info-theory-experiments/venv/lib/python3.10/site-packages/torch/nn/functional.py:1500\u001b[0m, in \u001b[0;36mrelu\u001b[0;34m(input, inplace)\u001b[0m\n\u001b[1;32m   1498\u001b[0m     result \u001b[38;5;241m=\u001b[39m torch\u001b[38;5;241m.\u001b[39mrelu_(\u001b[38;5;28minput\u001b[39m)\n\u001b[1;32m   1499\u001b[0m \u001b[38;5;28;01melse\u001b[39;00m:\n\u001b[0;32m-> 1500\u001b[0m     result \u001b[38;5;241m=\u001b[39m \u001b[43mtorch\u001b[49m\u001b[38;5;241;43m.\u001b[39;49m\u001b[43mrelu\u001b[49m\u001b[43m(\u001b[49m\u001b[38;5;28;43minput\u001b[39;49m\u001b[43m)\u001b[49m\n\u001b[1;32m   1501\u001b[0m \u001b[38;5;28;01mreturn\u001b[39;00m result\n",
      "\u001b[0;31mOutOfMemoryError\u001b[0m: CUDA out of memory. Tried to allocate 124.00 MiB. GPU "
     ]
    }
   ],
   "source": [
    "device = 'cuda'\n",
    "\n",
    "downsampled_dataset = dataset[indices].to(device).float()\n",
    "\n",
    "j = 5\n",
    "\n",
    "body_part = torch.tensor(mat_data['MotionData'][j][0])[1:]\n",
    "\n",
    "\n",
    "\n",
    "model_path = \"/vol/bitbucket/dm2223/info-theory-experiments/models/feature_network_earthy-sun-6.pth\"\n",
    "\n",
    "\n",
    "skip_model = SkipConnectionSupervenientFeatureNetwork(\n",
    "    num_atoms=config['num_atoms'],\n",
    "    feature_size=config['feature_size'],\n",
    "    hidden_sizes=config['feature_network_config']['hidden_sizes'],\n",
    "    include_bias=config['feature_network_config']['bias'],\n",
    ").to(device)\n",
    "\n",
    "\n",
    "skip_model.load_state_dict(torch.load(model_path))\n",
    "\n",
    "\n",
    "V = skip_model(downsampled_dataset)\n"
   ]
  },
  {
   "cell_type": "code",
   "execution_count": 12,
   "metadata": {},
   "outputs": [],
   "source": [
    "# make a dataset clas with V as the x and left_wrist as the y\n",
    "\n",
    "import torch\n",
    "from torch.utils.data import Dataset, DataLoader\n",
    "\n",
    "class MotionDataset(Dataset):\n",
    "    def __init__(self, x_data, y_data):\n",
    "        \"\"\"\n",
    "        Args:\n",
    "            x_data (torch.Tensor): The input features - V\n",
    "            y_data (torch.Tensor): The target labels - left_wrist\n",
    "        \"\"\"\n",
    "        self.x_data = x_data.detach()\n",
    "        self.y_data = y_data.detach()\n",
    "\n",
    "    def __len__(self):\n",
    "        return len(self.x_data)\n",
    "\n",
    "    def __getitem__(self, idx):\n",
    "        x = self.x_data[idx]\n",
    "        y = self.y_data[idx]\n",
    "        return x, y\n",
    "\n"
   ]
  },
  {
   "cell_type": "code",
   "execution_count": 13,
   "metadata": {},
   "outputs": [
    {
     "name": "stdout",
     "output_type": "stream",
     "text": [
      "Epoch [1/50], Step [100], Loss: 2684.763671875\n",
      "Epoch [2/50], Step [200], Loss: 2589.587158203125\n",
      "Epoch [3/50], Step [300], Loss: 2727.927001953125\n",
      "Epoch [4/50], Step [400], Loss: 2849.98388671875\n",
      "Epoch [4/50], Step [500], Loss: 2575.15771484375\n",
      "Epoch [5/50], Step [600], Loss: 2636.1025390625\n",
      "Epoch [6/50], Step [700], Loss: 2743.47119140625\n",
      "Epoch [7/50], Step [800], Loss: 2554.658203125\n",
      "Epoch [8/50], Step [900], Loss: 2550.374267578125\n",
      "Epoch [8/50], Step [1000], Loss: 2501.752197265625\n",
      "Epoch [9/50], Step [1100], Loss: 3055.841552734375\n",
      "Epoch [10/50], Step [1200], Loss: 2381.890625\n",
      "Epoch [11/50], Step [1300], Loss: 2397.886962890625\n",
      "Epoch [12/50], Step [1400], Loss: 2444.318359375\n",
      "Epoch [12/50], Step [1500], Loss: 2521.951416015625\n",
      "Epoch [13/50], Step [1600], Loss: 2362.15625\n",
      "Epoch [14/50], Step [1700], Loss: 2210.107666015625\n",
      "Epoch [15/50], Step [1800], Loss: 2523.06494140625\n",
      "Epoch [16/50], Step [1900], Loss: 2283.369384765625\n",
      "Epoch [16/50], Step [2000], Loss: 2410.35791015625\n",
      "Epoch [17/50], Step [2100], Loss: 2362.532958984375\n",
      "Epoch [18/50], Step [2200], Loss: 2475.87841796875\n",
      "Epoch [19/50], Step [2300], Loss: 2178.053955078125\n",
      "Epoch [20/50], Step [2400], Loss: 2574.036376953125\n",
      "Epoch [20/50], Step [2500], Loss: 2305.143310546875\n",
      "Epoch [21/50], Step [2600], Loss: 2287.0849609375\n",
      "Epoch [22/50], Step [2700], Loss: 2313.484375\n",
      "Epoch [23/50], Step [2800], Loss: 2318.89306640625\n",
      "Epoch [24/50], Step [2900], Loss: 2398.390380859375\n",
      "Epoch [24/50], Step [3000], Loss: 2328.02392578125\n",
      "Epoch [25/50], Step [3100], Loss: 2186.334716796875\n",
      "Epoch [26/50], Step [3200], Loss: 2219.388671875\n",
      "Epoch [27/50], Step [3300], Loss: 2142.127197265625\n",
      "Epoch [27/50], Step [3400], Loss: 2124.554931640625\n",
      "Epoch [28/50], Step [3500], Loss: 2040.025634765625\n",
      "Epoch [29/50], Step [3600], Loss: 2211.872314453125\n",
      "Epoch [30/50], Step [3700], Loss: 2107.87841796875\n",
      "Epoch [31/50], Step [3800], Loss: 2064.84521484375\n",
      "Epoch [31/50], Step [3900], Loss: 2259.24951171875\n",
      "Epoch [32/50], Step [4000], Loss: 2150.90771484375\n",
      "Epoch [33/50], Step [4100], Loss: 2178.69189453125\n",
      "Epoch [34/50], Step [4200], Loss: 2185.98388671875\n",
      "Epoch [35/50], Step [4300], Loss: 2063.205078125\n",
      "Epoch [35/50], Step [4400], Loss: 2087.48095703125\n",
      "Epoch [36/50], Step [4500], Loss: 2079.5302734375\n",
      "Epoch [37/50], Step [4600], Loss: 2113.24072265625\n",
      "Epoch [38/50], Step [4700], Loss: 2122.825927734375\n",
      "Epoch [39/50], Step [4800], Loss: 2022.113525390625\n",
      "Epoch [39/50], Step [4900], Loss: 2091.62890625\n",
      "Epoch [40/50], Step [5000], Loss: 2011.6287841796875\n",
      "Epoch [41/50], Step [5100], Loss: 1960.3070068359375\n",
      "Epoch [42/50], Step [5200], Loss: 1997.367431640625\n",
      "Epoch [43/50], Step [5300], Loss: 1944.03759765625\n",
      "Epoch [43/50], Step [5400], Loss: 2051.299560546875\n",
      "Epoch [44/50], Step [5500], Loss: 2023.8892822265625\n",
      "Epoch [45/50], Step [5600], Loss: 1942.1199951171875\n",
      "Epoch [46/50], Step [5700], Loss: 1866.2225341796875\n",
      "Epoch [47/50], Step [5800], Loss: 2099.367431640625\n",
      "Epoch [47/50], Step [5900], Loss: 1882.5118408203125\n",
      "Epoch [48/50], Step [6000], Loss: 1992.5186767578125\n",
      "Epoch [49/50], Step [6100], Loss: 1930.564697265625\n",
      "Epoch [50/50], Step [6200], Loss: 2008.1702880859375\n",
      "Epoch [50/50], Step [6300], Loss: 1770.78955078125\n",
      "1715.0726318359375\n"
     ]
    },
    {
     "data": {
      "image/png": "[encoded data removed]",
      "text/plain": [
       "<Figure size 640x480 with 1 Axes>"
      ]
     },
     "metadata": {},
     "output_type": "display_data"
    }
   ],
   "source": [
    "\n",
    "motion_dataset = MotionDataset(V, body_part)\n",
    "\n",
    "\n",
    "dataloader = DataLoader(motion_dataset, batch_size=1000, shuffle=True)\n",
    "\n",
    "\n",
    "class MLP(torch.nn.Module):\n",
    "    def __init__(self):\n",
    "        super(MLP, self).__init__()\n",
    "        self.fc1 = torch.nn.Linear(64, 1024)\n",
    "        self.fc2 = torch.nn.Linear(1024, 1024)\n",
    "        self.fc3 = torch.nn.Linear(1024, 1024)\n",
    "        self.fc4 = torch.nn.Linear(1024, 2048)\n",
    "        self.fc5 = torch.nn.Linear(2048, 2048)\n",
    "        self.fc6 = torch.nn.Linear(2048, 3)\n",
    "        \n",
    "    \n",
    "    def forward(self, x):\n",
    "        x = torch.relu(self.fc1(x))\n",
    "        x = torch.relu(self.fc2(x))\n",
    "        x = torch.relu(self.fc3(x))\n",
    "        x = torch.relu(self.fc4(x))\n",
    "        x = torch.relu(self.fc5(x))\n",
    "        x = self.fc6(x)\n",
    "        return x\n",
    "\n",
    "mlp = MLP().to(device)\n",
    "\n",
    "optimizer = torch.optim.Adam(mlp.parameters(), lr=1e-3)\n",
    "\n",
    "criterion = torch.nn.MSELoss()\n",
    "\n",
    "num_epochs = 50\n",
    "device = torch.device('cuda' if torch.cuda.is_available() else 'cpu')\n",
    "losses = []\n",
    "for epoch in range(num_epochs):\n",
    "    for batch in dataloader:\n",
    "        x, y = batch\n",
    "        x = x.to(device).float()\n",
    "        y = y.to(device).float()\n",
    "\n",
    "        # Zero the parameter gradients\n",
    "        optimizer.zero_grad()\n",
    "\n",
    "        # Forward pass\n",
    "        outputs = mlp(x).to(device)\n",
    "\n",
    "        \n",
    "        # Compute loss\n",
    "        loss = criterion(outputs, y)\n",
    "        \n",
    "        # Backward pass and optimize\n",
    "        loss.backward()\n",
    "        optimizer.step()\n",
    "\n",
    "        losses.append(loss.item())\n",
    "\n",
    "        # print loss every 100 steps\n",
    "        if len(losses) % 100 == 0:\n",
    "            print(f'Epoch [{epoch+1}/{num_epochs}], Step [{len(losses)}], Loss: {loss.item()}')\n",
    "\n",
    "\n",
    "import matplotlib.pyplot as plt\n",
    "print(min(losses))\n",
    "plt.plot(losses)\n",
    "plt.yscale('log')\n",
    "\n",
    "plt.show()    "
   ]
  },
  {
   "cell_type": "code",
   "execution_count": 14,
   "metadata": {},
   "outputs": [
    {
     "name": "stdout",
     "output_type": "stream",
     "text": [
      "1633.7039794921875\n"
     ]
    },
    {
     "data": {
      "image/png": "[encoded data removed]",
      "text/plain": [
       "<Figure size 640x480 with 1 Axes>"
      ]
     },
     "metadata": {},
     "output_type": "display_data"
    }
   ],
   "source": [
    "\n",
    "\n",
    "# shuffle left wrist\n",
    "random_indices = torch.randperm(body_part.size(0))\n",
    "\n",
    "left_wrist_shuffled = body_part[random_indices]\n",
    "\n",
    "# assert different\n",
    "\n",
    "motion_dataset = MotionDataset(downsampled_dataset, left_wrist_shuffled)\n",
    "\n",
    "\n",
    "dataloader = DataLoader(motion_dataset, batch_size=100, shuffle=True)\n",
    "\n",
    "\n",
    "class MLP(torch.nn.Module):\n",
    "    def __init__(self):\n",
    "        super(MLP, self).__init__()\n",
    "        self.fc1 = torch.nn.Linear(64, 1024)\n",
    "        self.fc2 = torch.nn.Linear(1024, 1024)\n",
    "        self.fc3 = torch.nn.Linear(1024, 1024)\n",
    "        self.fc4 = torch.nn.Linear(1024, 2048)\n",
    "        self.fc5 = torch.nn.Linear(2048, 2048)\n",
    "        self.fc6 = torch.nn.Linear(2048, 3)\n",
    "        \n",
    "    \n",
    "    def forward(self, x):\n",
    "        x = torch.relu(self.fc1(x))\n",
    "        x = torch.relu(self.fc2(x))\n",
    "        x = torch.relu(self.fc3(x))\n",
    "        x = torch.relu(self.fc4(x))\n",
    "        x = torch.relu(self.fc5(x))\n",
    "        x = self.fc6(x)\n",
    "        return x\n",
    "\n",
    "mlp = MLP().to(device)\n",
    "\n",
    "optimizer = torch.optim.Adam(mlp.parameters(), lr=1e-3)\n",
    "\n",
    "criterion = torch.nn.MSELoss()\n",
    "\n",
    "num_epochs = 50\n",
    "device = torch.device('cuda' if torch.cuda.is_available() else 'cpu')\n",
    "losses = []\n",
    "for epoch in range(num_epochs):\n",
    "    for batch in dataloader:\n",
    "        x, y = batch\n",
    "        x = x.to(device).float()\n",
    "        y = y.to(device).float()\n",
    "\n",
    "        # Zero the parameter gradients\n",
    "        optimizer.zero_grad()\n",
    "\n",
    "        # Forward pass\n",
    "        outputs = mlp(x).to(device)\n",
    "\n",
    "        \n",
    "        # Compute loss\n",
    "        loss = criterion(outputs, y)\n",
    "        \n",
    "        # Backward pass and optimize\n",
    "        loss.backward()\n",
    "        optimizer.step()\n",
    "\n",
    "        losses.append(loss.item())\n",
    "\n",
    "\n",
    "import matplotlib.pyplot as plt\n",
    "\n",
    "print(min(losses))\n",
    "plt.plot(losses)\n",
    "plt.yscale('log')\n",
    "\n",
    "plt.show()    "
   ]
  },
  {
   "cell_type": "code",
   "execution_count": null,
   "metadata": {},
   "outputs": [],
   "source": []
  },
  {
   "cell_type": "code",
   "execution_count": null,
   "metadata": {},
   "outputs": [],
   "source": []
  },
  {
   "cell_type": "code",
   "execution_count": null,
   "metadata": {},
   "outputs": [],
   "source": []
  }
 ],
 "metadata": {
  "kernelspec": {
   "display_name": "venv",
   "language": "python",
   "name": "python3"
  },
  "language_info": {
   "codemirror_mode": {
    "name": "ipython",
    "version": 3
   },
   "file_extension": ".py",
   "mimetype": "text/x-python",
   "name": "python",
   "nbconvert_exporter": "python",
   "pygments_lexer": "ipython3",
   "version": "3.10.12"
  }
 },
 "nbformat": 4,
 "nbformat_minor": 2
}
