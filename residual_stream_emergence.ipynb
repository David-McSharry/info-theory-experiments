{
 "cells": [
  {
   "cell_type": "code",
   "execution_count": 1,
   "metadata": {},
   "outputs": [
    {
     "name": "stderr",
     "output_type": "stream",
     "text": [
      "/home/ubuntu/info-theory-experiments/venv/lib/python3.10/site-packages/tqdm/auto.py:21: TqdmWarning: IProgress not found. Please update jupyter and ipywidgets. See https://ipywidgets.readthedocs.io/en/stable/user_install.html\n",
      "  from .autonotebook import tqdm as notebook_tqdm\n"
     ]
    },
    {
     "name": "stdout",
     "output_type": "stream",
     "text": [
      "Loaded pretrained model pythia-14m into HookedTransformer\n"
     ]
    }
   ],
   "source": [
    "import transformer_lens\n",
    "\n",
    "\n",
    "model = transformer_lens.HookedTransformer.from_pretrained(\"pythia-14m\")\n",
    "\n",
    "MAX_TOKENS = model.cfg.n_ctx"
   ]
  },
  {
   "cell_type": "markdown",
   "metadata": {},
   "source": [
    "Idea: we generate two datasets, one of the resid stream of text produced my model and another of resid streams on fixed text."
   ]
  },
  {
   "cell_type": "code",
   "execution_count": 2,
   "metadata": {},
   "outputs": [
    {
     "name": "stderr",
     "output_type": "stream",
     "text": [
      "100%|██████████| 2043/2043 [00:28<00:00, 72.90it/s]\n"
     ]
    }
   ],
   "source": [
    "input_str = \"Once upon a time\"\n",
    "\n",
    "input_tokens = model.to_tokens(input_str)[0]\n",
    "\n",
    "REMANING_TOKENS = MAX_TOKENS - len(input_tokens)\n",
    "\n",
    "output_str = model.generate(input_str, max_new_tokens=REMANING_TOKENS, stop_at_eos=False)\n",
    "\n",
    "\n",
    "\n"
   ]
  },
  {
   "cell_type": "code",
   "execution_count": 3,
   "metadata": {},
   "outputs": [
    {
     "name": "stdout",
     "output_type": "stream",
     "text": [
      " man\n",
      "torch.Size([1, 2040])\n"
     ]
    }
   ],
   "source": [
    "print(model.to_string(model.to_tokens(output_str)[0, -1]))\n",
    "\n",
    "print(model.to_tokens(output_str).size())"
   ]
  },
  {
   "cell_type": "code",
   "execution_count": 4,
   "metadata": {},
   "outputs": [
    {
     "name": "stdout",
     "output_type": "stream",
     "text": [
      "8\n"
     ]
    },
    {
     "name": "stderr",
     "output_type": "stream",
     "text": [
      "  0%|          | 0/8 [00:00<?, ?it/s]"
     ]
    },
    {
     "name": "stderr",
     "output_type": "stream",
     "text": [
      "100%|██████████| 8/8 [00:00<00:00, 68.29it/s]\n"
     ]
    }
   ],
   "source": [
    "REMANING_TOKENS = MAX_TOKENS - model.to_tokens(output_str).size()[-1]\n",
    "\n",
    "print(REMANING_TOKENS)\n",
    "\n",
    "out2 = model.generate(output_str, max_new_tokens=REMANING_TOKENS, stop_at_eos=False)"
   ]
  },
  {
   "cell_type": "code",
   "execution_count": 38,
   "metadata": {},
   "outputs": [
    {
     "name": "stdout",
     "output_type": "stream",
     "text": [
      "torch.Size([2048, 128])\n"
     ]
    }
   ],
   "source": [
    "\n",
    "out2_tokens = model.to_tokens(out2)\n",
    "\n",
    "_, act_cache = model.run_with_cache(out2_tokens)\n",
    "\n",
    "print(act_cache[\"blocks.0.hook_resid_pre\"][0].size())"
   ]
  },
  {
   "cell_type": "markdown",
   "metadata": {},
   "source": [
    "Saving generated data"
   ]
  },
  {
   "cell_type": "code",
   "execution_count": 27,
   "metadata": {},
   "outputs": [],
   "source": [
    "import torch\n",
    "for i in range(6):\n",
    "    acts = act_cache[\"blocks.0.hook_resid_pre\"][0]\n",
    "    # save tensor to a file called f\"resid_actications_layer_{i}.pt\" in activations folder\n",
    "    torch.save(acts, f\"activations/resid_actications_layer_{i}.pt\")\n",
    "\n",
    "\n",
    "                \n"
   ]
  },
  {
   "cell_type": "markdown",
   "metadata": {},
   "source": [
    "saving non-gen data"
   ]
  },
  {
   "cell_type": "code",
   "execution_count": 34,
   "metadata": {},
   "outputs": [],
   "source": [
    "econ_text = \"\"\"What Is Economics?\n",
    "Economics is a social science that focuses on the production, distribution, and consumption of goods and services. The study of economics is primarily concerned with analyzing the choices that individuals, businesses, governments, and nations make to allocate limited resources. Economics has ramifications on a wide range of other fields, including politics, psychology, business, and law.\n",
    "\n",
    "KEY TAKEAWAYS\n",
    "Economics is the study of how people allocate scarce resources for production, distribution, and consumption, both individually and collectively.\n",
    "The field of economics is connected with and has ramifications on many others, such as politics, government, law, and business.\n",
    "The two branches of economics are microeconomics and macroeconomics.\n",
    "Economics focuses on efficiency in production and exchange.\n",
    "Gross Domestic Product (GDP) and the Consumer Price Index (CPI) are two of the most widely used economic indicators.\n",
    "Economics\n",
    "Zoe Hansen / Investopedia\n",
    "\n",
    "Understanding Economics\n",
    "Assuming humans have unlimited wants within a world of limited means, economists analyze how resources are allocated for production, distribution, and consumption.\n",
    "\n",
    "The study of microeconomics focuses on the choices of individuals and businesses, and macroeconomics concentrates on the behavior of the economy on an aggregate level.\n",
    "\n",
    "One of the earliest recorded economists was the 8th-century B.C. Greek farmer and poet Hesiod who wrote that labor, materials, and time needed to be allocated efficiently to overcome scarcity. The publication of Adam Smith's 1776 book An Inquiry Into the Nature and Causes of the Wealth of Nations sparked the beginning of the current Western contemporary economic theories.\n",
    "1\n",
    "\n",
    "Microeconomics\n",
    "Microeconomics studies how individual consumers and firms make decisions to allocate resources. Whether a single person, a household, or a business, economists may analyze how these entities respond to changes in price and why they demand what they do at particular price levels.\n",
    "\n",
    "Microeconomics analyzes how and why goods are valued differently, how individuals make financial decisions, and how they trade, coordinate, and cooperate.\n",
    "\n",
    "Within the dynamics of supply and demand, the costs of producing goods and services, and how labor is divided and allocated, microeconomics studies how businesses are organized and how individuals approach uncertainty and risk in their decision-making.\n",
    "\n",
    "Macroeconomics\n",
    "Macroeconomics is the branch of economics that studies the behavior and performance of an economy as a whole. Its primary focus is recurrent economic cycles and broad economic growth and development.\n",
    "\n",
    "It focuses on foreign trade, government fiscal and monetary policy, unemployment rates, the level of inflation, interest rates, the growth of total production output, and business cycles that result in expansions, booms, recessions, and depressions. \n",
    "\n",
    "Using aggregate indicators, economists use macroeconomic models to help formulate economic policies and strategies.\n",
    "What Is the Role of an Economist?\n",
    "An economist studies the relationship between a society's resources and its production or output, and their opinions help shape economic policies related to interest rates, tax laws, employment programs, international trade agreements, and corporate strategies.\n",
    "\n",
    "Economists analyze economic indicators such as gross domestic product and the consumer price index to identify potential trends or make economic forecasts.\n",
    "\n",
    "According to the Bureau of Labor Statistics (BLS), 38% of all economists in the United States work for a federal or state agency. Economists are also employed as consultants, professors, by corporations, or as part of economic think tanks.\n",
    "2\n",
    "U.S. Bureau of Labor Statistics. \"Economists.\"\n",
    "\n",
    "\n",
    "What Are Economic Indicators?\n",
    "Economic indicators detail a country's economic performance. Published periodically by governmental agencies or private organizations, economic indicators often have a considerable effect on stocks, employment, and international markets. They may predict future economic conditions that will move markets and guide investment decisions.\n",
    "\n",
    "Gross domestic product (GDP)\n",
    "The gross domestic product (GDP) is considered the broadest measure of a country's economic performance. It calculates the total market value of all finished goods and services produced in a country in a given year. In the U.S., the Bureau of Economic Analysis (BEA) also issues a regular report during the latter part of each month.\n",
    "3\n",
    " Many investors, analysts, and traders focus on the advance GDP report and the preliminary report, both issued before the final GDP figures because the GDP is considered a lagging indicator, meaning it can confirm a trend but can't predict a trend.\n",
    "\n",
    "GDPNow\n",
    "The GDPNow forecasting model, used by the Federal Reserve, provides a \"nowcast\" of the official estimate before its release by estimating GDP growth using a methodology similar to the one used by the U.S. Bureau of Economic Analysis.\n",
    "4\n",
    "\n",
    "Retail sales\n",
    "Reported by the U.S. Department of Commerce (DOC) during the middle of each month, the retail sales report measures the total receipts, or dollar value, of all merchandise sold in stores.\n",
    "5\n",
    " Sampling retailers across the country acts as a proxy of consumer spending levels. Consumer spending represents more than two-thirds of GDP, proving useful to gauge the economy's general direction.\n",
    "6\n",
    "\n",
    "Industrial production\n",
    "The industrial production report, released monthly by the Federal Reserve, reports changes in the production of factories, mines, and utilities in the U.S. One measure included in this report is the capacity utilization rate, which estimates the portion of productive capacity that is being used rather than standing idle in the economy. Capacity utilization in the range of 82% to 85% is considered \"tight\" and can increase the likelihood of price increases or supply shortages in the near term. Levels below 80% are interpreted as showing \"slack\" in the economy, which may increase the likelihood of a recession.\n",
    "7\n",
    "\n",
    "Employment Data\n",
    "The Bureau of Labor Statistics releases employment data in a report called the nonfarm payrolls on the first Friday of each month.\n",
    "8\n",
    " Sharp increases in employment indicate prosperous economic growth and potential contractions may be imminent if significant decreases occur. These are generalizations, however, and it is important to consider the current position of the economy.\n",
    "\n",
    "Consumer Price Index (CPI)\n",
    "The Consumer Price Index (CPI), also issued by the BLS, measures the level of retail price changes, and the costs that consumers pay, and is the benchmark for measuring inflation. Using a basket that is representative of the goods and services in the economy, the CPI compares the price changes month after month and year after year.\n",
    "9\n",
    " This report is an important economic indicator and its release can increase volatility in equity, fixed income, and forex markets. Greater-than-expected price increases are considered a sign of inflation, which will likely cause the underlying currency to depreciate.\n",
    "\n",
    "Economic Systems\n",
    "Five economic systems illustrate historical practices used to allocate resources to meet the needs of the individual and society.\n",
    "\n",
    "Primitivism\n",
    "In primitive agrarian societies, individuals produced necessities from building dwellings, growing crops, and hunting game at the household or tribal level.\n",
    "\n",
    "Feudalism\n",
    "A political and economic system of Europe from the 9th to 15th century, feudalism was defined by the lords who held land and leased it to peasants for production, who received a promise of safety and security from the lord.\n",
    "Capitalism\n",
    "With the advent of the industrial revolution, capitalism emerged and is defined as a system of production where business owners organize resources including tools, workers, and raw materials to produce goods for market consumption and earn profits. Supply and demand set prices in markets in a way that can serve the best interests of society. \n",
    "\n",
    "Socialism\n",
    "Socialism is a form of a cooperative production economy. Economic socialism is a system of production in which there is limited or hybrid private ownership of the means of production. Prices, profits, and losses are not the determining factors used to establish who engages in the production, what to produce and how to produce it.\n",
    "Communism\n",
    "Communism holds that all economic activity is centralized through the coordination of state-sponsored central planners with common ownership of production and distribution.\n",
    "\n",
    "Schools of Economic Theory\n",
    "Many economic theories have evolved as societies and markets have grown and changed. However, three disciplines of economics, neoclassical, Keynesian, and Marxian, have influenced modern society.\n",
    "\n",
    "The principles of neoclassical economics are often used as a framework to illustrate the virtues of capitalism, including the tendency of market prices to reach equilibrium as the volume of supply and demand changes. The optimal valuation of resources emerges from the forces of individual desire and scarcity.\n",
    "\n",
    "John Maynard Keynes developed the theory of Keynesian economics during the Great Depression. Arguing against neoclassical theory, Keynes showed that restrained markets and government intervention in markets create a stable and equitable economic system. He advocated for a monetary policy designed to boost demand and investor confidence during economic downturns.\n",
    "\n",
    "Marxian economics is defined in Karl Marx's work Das Kapital. Marxian economics is a rejection of the classical view of economics, arguing against the idea that the free market, an economic system determined by supply and demand with little or no government control, benefits society. He espoused that capitalism only benefits a select few and that the ruling class becomes richer by extracting value out of cheap labor provided by the working class.\n",
    "10\n",
    "\n",
    "What Is a Command Economy?\n",
    "A command economy is an economy in which production, investment, prices, and incomes are determined centrally by a government. A communist society has a command economy.\n",
    "\n",
    "What Is Behavioral Economics?\n",
    "Behavioral economics combines psychology, judgment, decision-making, and economics to understand human behavior. Branches of economic thought continue to grow and change. One such example is the progressive branch of bioeconomics that models economic decisions in terms of managing resources.\n",
    "\n",
    "Who Has Influenced the Study of Economics in the 21st Century?\n",
    "Since 2000, several economists have won the Nobel Prize in economics, including David Card for his contributions to labor economics, Angus Deaton for his study of consumption, poverty, and welfare, and Paul Krugman for his analysis of trade patterns.\n",
    "\n",
    "The Bottom Line\n",
    "Economics is a branch of the social sciences focused on the production, distribution, and consumption of goods and services. Microeconomics is a type of economics that is concerned with the behavior of individual people and businesses, while macroeconomics considers broader trends affecting nations and larger economies. In the U.S., a number of key economic indicators, including GDP and CPI, are important tools for economists to measure trends and make forecasts.\n",
    "\n",
    "ARTICLE SOURCES\n",
    "Part of the Series\n",
    "Guide to Economics\n",
    "Introduction to Economics\n",
    "  Economics Defined with Types, Indicators, and Systems\n",
    "CURRENT ARTICLE\n",
    "  Economy Definition\n",
    "  History of Economics\n",
    "  Is Economics a Science?\n",
    "  Understanding Finance vs. Economics\n",
    "  Macroeconomics\n",
    "  Microeconomics\n",
    "Economic Concepts and Theories\n",
    "Economic Indicators\n",
    "Real World Economies\n",
    "Related Terms\n",
    "Economy: What It Is, Types of Economies, Economic Indicators\n",
    "An economy is a system of production and consumption activities that determine how resources are allocated among all of its participants. Learn how it works. more\n",
    "Microeconomics Definition, Uses, and Concepts\n",
    "Microeconomics is a branch of economics that analyzes the market behavior of individuals and businesses to understand their decision-making processes. more\n",
    "Political Economy Definition, History, and Applications\n",
    "Political economy is a branch of the social sciences that focuses on the interrelationships among individuals, governments, and public policy. more\n",
    "Social Science: What It Is and the 5 Major Branches\n",
    "Social science is the study of individuals' behavior in society. Its academic disciplines are anthropology, economics, political science, psychology, and sociology. more\n",
    "What Is the GDP Price Deflator and Its Formula?\n",
    "The GDP price deflator measures the reduction in the value of all of the goods and services produced in an economy when inflation is taken into account. more\n",
    "Business Economics: Definitions and Types\n",
    "Business economics applies economic theory and quantitative \n",
    "\n",
    "\"\"\"\n",
    "\n",
    "econ_tokens = model.to_tokens(econ_text)[0][:-1]\n",
    "\n",
    "_, cache = model.run_with_cache(econ_tokens)\n",
    "\n",
    "for i in range(6):\n",
    "    acts = cache[\"blocks.0.hook_resid_pre\"][0]\n",
    "    # save tensor to a file called f\"resid_actications_layer_{i}.pt\" in activations folder\n",
    "    torch.save(acts, f\"activations/econ_resid_actications_layer_{i}.pt\")\n"
   ]
  },
  {
   "cell_type": "markdown",
   "metadata": {},
   "source": [
    "# now for finding emergent features"
   ]
  },
  {
   "cell_type": "code",
   "execution_count": 1,
   "metadata": {},
   "outputs": [],
   "source": [
    "import torch\n",
    "from models import (\n",
    "    SkipConnectionSupervenientFeatureNetwork\n",
    ")\n",
    "from custom_datasets import ResidualStreamDataset\n",
    "import lovely_tensors as lt\n",
    "\n",
    "import wandb\n",
    "import tqdm\n",
    "from trainers import train_feature_network\n",
    "\n",
    "device = torch.device(\"cuda\" if torch.cuda.is_available() else \"cpu\")\n",
    "\n",
    "\n"
   ]
  },
  {
   "cell_type": "code",
   "execution_count": 9,
   "metadata": {},
   "outputs": [
    {
     "name": "stderr",
     "output_type": "stream",
     "text": [
      "/home/ubuntu/info-theory-experiments/custom_datasets.py:124: FutureWarning: You are using `torch.load` with `weights_only=False` (the current default value), which uses the default pickle module implicitly. It is possible to construct malicious pickle data which will execute arbitrary code during unpickling (See https://github.com/pytorch/pytorch/blob/main/SECURITY.md#untrusted-models for more details). In a future release, the default value for `weights_only` will be flipped to `True`. This limits the functions that could be executed during unpickling. Arbitrary objects will no longer be allowed to be loaded via this mode unless they are explicitly allowlisted by the user via `torch.serialization.add_safe_globals`. We recommend you start setting `weights_only=True` for any use case where you don't have full control of the loaded file. Please open an issue on GitHub for any issues related to this experimental feature.\n",
      "  data = torch.load(data_path)\n"
     ]
    },
    {
     "data": {
      "text/html": [
       "Finishing last run (ID:dx2yowns) before initializing another..."
      ],
      "text/plain": [
       "<IPython.core.display.HTML object>"
      ]
     },
     "metadata": {},
     "output_type": "display_data"
    },
    {
     "data": {
      "text/html": [
       "<style>\n",
       "    table.wandb td:nth-child(1) { padding: 0 10px; text-align: left ; width: auto;} td:nth-child(2) {text-align: left ; width: 100%}\n",
       "    .wandb-row { display: flex; flex-direction: row; flex-wrap: wrap; justify-content: flex-start; width: 100% }\n",
       "    .wandb-col { display: flex; flex-direction: column; flex-basis: 100%; flex: 1; padding: 10px; }\n",
       "    </style>\n",
       "<div class=\"wandb-row\"><div class=\"wandb-col\"><h3>Run history:</h3><br/><table class=\"wandb\"><tr><td>Psi</td><td>▁███████████████████████████████████████</td></tr><tr><td>decoupled_MI</td><td>▁███████████████████████████████████████</td></tr><tr><td>downward_MI_0</td><td>▁███████████████████████████████████████</td></tr><tr><td>downward_MI_1</td><td>▁███████████████████████████████████████</td></tr><tr><td>downward_MI_10</td><td>▁███████████████████████████████████████</td></tr><tr><td>downward_MI_100</td><td>▁███████████████████████████████████████</td></tr><tr><td>downward_MI_101</td><td>█▁▁▁▁▁▁▁▁▁▁▁▁▁▁▁▁▁▁▁▁▁▁▁▁▁▁▁▁▁▁▁▁▁▁▁▁▁▁▁</td></tr><tr><td>downward_MI_102</td><td>▁███████████████████████████████████████</td></tr><tr><td>downward_MI_103</td><td>█▁▁▁▁▁▁▁▁▁▁▁▁▁▁▁▁▁▁▁▁▁▁▁▁▁▁▁▁▁▁▁▁▁▁▁▁▁▁▁</td></tr><tr><td>downward_MI_104</td><td>█▁▁▁▁▁▁▁▁▁▁▁▁▁▁▁▁▁▁▁▁▁▁▁▁▁▁▁▁▁▁▁▁▁▁▁▁▁▁▁</td></tr><tr><td>downward_MI_105</td><td>█▁▁▁▁▁▁▁▁▁▁▁▁▁▁▁▁▁▁▁▁▁▁▁▁▁▁▁▁▁▁▁▁▁▁▁▁▁▁▁</td></tr><tr><td>downward_MI_106</td><td>▁███████████████████████████████████████</td></tr><tr><td>downward_MI_107</td><td>▁███████████████████████████████████████</td></tr><tr><td>downward_MI_108</td><td>█▁▁▁▁▁▁▁▁▁▁▁▁▁▁▁▁▁▁▁▁▁▁▁▁▁▁▁▁▁▁▁▁▁▁▁▁▁▁▁</td></tr><tr><td>downward_MI_109</td><td>█▁▁▁▁▁▁▁▁▁▁▁▁▁▁▁▁▁▁▁▁▁▁▁▁▁▁▁▁▁▁▁▁▁▁▁▁▁▁▁</td></tr><tr><td>downward_MI_11</td><td>█▁▁▁▁▁▁▁▁▁▁▁▁▁▁▁▁▁▁▁▁▁▁▁▁▁▁▁▁▁▁▁▁▁▁▁▁▁▁▁</td></tr><tr><td>downward_MI_110</td><td>▁███████████████████████████████████████</td></tr><tr><td>downward_MI_111</td><td>█▁▁▁▁▁▁▁▁▁▁▁▁▁▁▁▁▁▁▁▁▁▁▁▁▁▁▁▁▁▁▁▁▁▁▁▁▁▁▁</td></tr><tr><td>downward_MI_112</td><td>▁███████████████████████████████████████</td></tr><tr><td>downward_MI_113</td><td>▁███████████████████████████████████████</td></tr><tr><td>downward_MI_114</td><td>▁███████████████████████████████████████</td></tr><tr><td>downward_MI_115</td><td>█▁▁▁▁▁▁▁▁▁▁▁▁▁▁▁▁▁▁▁▁▁▁▁▁▁▁▁▁▁▁▁▁▁▁▁▁▁▁▁</td></tr><tr><td>downward_MI_116</td><td>▁███████████████████████████████████████</td></tr><tr><td>downward_MI_117</td><td>█▁▁▁▁▁▁▁▁▁▁▁▁▁▁▁▁▁▁▁▁▁▁▁▁▁▁▁▁▁▁▁▁▁▁▁▁▁▁▁</td></tr><tr><td>downward_MI_118</td><td>█▁▁▁▁▁▁▁▁▁▁▁▁▁▁▁▁▁▁▁▁▁▁▁▁▁▁▁▁▁▁▁▁▁▁▁▁▁▁▁</td></tr><tr><td>downward_MI_119</td><td>▁███████████████████████████████████████</td></tr><tr><td>downward_MI_12</td><td>▁███████████████████████████████████████</td></tr><tr><td>downward_MI_120</td><td>█▁▁▁▁▁▁▁▁▁▁▁▁▁▁▁▁▁▁▁▁▁▁▁▁▁▁▁▁▁▁▁▁▁▁▁▁▁▁▁</td></tr><tr><td>downward_MI_121</td><td>▁███████████████████████████████████████</td></tr><tr><td>downward_MI_122</td><td>▁███████████████████████████████████████</td></tr><tr><td>downward_MI_123</td><td>█▁▁▁▁▁▁▁▁▁▁▁▁▁▁▁▁▁▁▁▁▁▁▁▁▁▁▁▁▁▁▁▁▁▁▁▁▁▁▁</td></tr><tr><td>downward_MI_124</td><td>█▁▁▁▁▁▁▁▁▁▁▁▁▁▁▁▁▁▁▁▁▁▁▁▁▁▁▁▁▁▁▁▁▁▁▁▁▁▁▁</td></tr><tr><td>downward_MI_125</td><td>▁███████████████████████████████████████</td></tr><tr><td>downward_MI_126</td><td>█▁▁▁▁▁▁▁▁▁▁▁▁▁▁▁▁▁▁▁▁▁▁▁▁▁▁▁▁▁▁▁▁▁▁▁▁▁▁▁</td></tr><tr><td>downward_MI_127</td><td>▁███████████████████████████████████████</td></tr><tr><td>downward_MI_13</td><td>█▁▁▁▁▁▁▁▁▁▁▁▁▁▁▁▁▁▁▁▁▁▁▁▁▁▁▁▁▁▁▁▁▁▁▁▁▁▁▁</td></tr><tr><td>downward_MI_14</td><td>▁███████████████████████████████████████</td></tr><tr><td>downward_MI_15</td><td>▁███████████████████████████████████████</td></tr><tr><td>downward_MI_16</td><td>▁███████████████████████████████████████</td></tr><tr><td>downward_MI_17</td><td>█▁▁▁▁▁▁▁▁▁▁▁▁▁▁▁▁▁▁▁▁▁▁▁▁▁▁▁▁▁▁▁▁▁▁▁▁▁▁▁</td></tr><tr><td>downward_MI_18</td><td>▁███████████████████████████████████████</td></tr><tr><td>downward_MI_19</td><td>█▁▁▁▁▁▁▁▁▁▁▁▁▁▁▁▁▁▁▁▁▁▁▁▁▁▁▁▁▁▁▁▁▁▁▁▁▁▁▁</td></tr><tr><td>downward_MI_2</td><td>▁███████████████████████████████████████</td></tr><tr><td>downward_MI_20</td><td>█▁▁▁▁▁▁▁▁▁▁▁▁▁▁▁▁▁▁▁▁▁▁▁▁▁▁▁▁▁▁▁▁▁▁▁▁▁▁▁</td></tr><tr><td>downward_MI_21</td><td>▁███████████████████████████████████████</td></tr><tr><td>downward_MI_22</td><td>█▁▁▁▁▁▁▁▁▁▁▁▁▁▁▁▁▁▁▁▁▁▁▁▁▁▁▁▁▁▁▁▁▁▁▁▁▁▁▁</td></tr><tr><td>downward_MI_23</td><td>█▁▁▁▁▁▁▁▁▁▁▁▁▁▁▁▁▁▁▁▁▁▁▁▁▁▁▁▁▁▁▁▁▁▁▁▁▁▁▁</td></tr><tr><td>downward_MI_24</td><td>█▁▁▁▁▁▁▁▁▁▁▁▁▁▁▁▁▁▁▁▁▁▁▁▁▁▁▁▁▁▁▁▁▁▁▁▁▁▁▁</td></tr><tr><td>downward_MI_25</td><td>▁███████████████████████████████████████</td></tr><tr><td>downward_MI_26</td><td>█▁▁▁▁▁▁▁▁▁▁▁▁▁▁▁▁▁▁▁▁▁▁▁▁▁▁▁▁▁▁▁▁▁▁▁▁▁▁▁</td></tr><tr><td>downward_MI_27</td><td>▁▂▄▅▅▃▄▃▂▆▄▄▇▃▃▇▆▆▆▇▆▆▆▆▆▇▅▅▄▆▇▇▇▇▆▇▇▆█▄</td></tr><tr><td>downward_MI_28</td><td>█▁▁▁▁▁▁▁▁▁▁▁▁▁▁▁▁▁▁▁▁▁▁▁▁▁▁▁▁▁▁▁▁▁▁▁▁▁▁▁</td></tr><tr><td>downward_MI_29</td><td>█▁▁▁▁▁▁▁▁▁▁▁▁▁▁▁▁▁▁▁▁▁▁▁▁▁▁▁▁▁▁▁▁▁▁▁▁▁▁▁</td></tr><tr><td>downward_MI_3</td><td>█▁▁▁▁▁▁▁▁▁▁▁▁▁▁▁▁▁▁▁▁▁▁▁▁▁▁▁▁▁▁▁▁▁▁▁▁▁▁▁</td></tr><tr><td>downward_MI_30</td><td>█▁▁▁▁▁▁▁▁▁▁▁▁▁▁▁▁▁▁▁▁▁▁▁▁▁▁▁▁▁▁▁▁▁▁▁▁▁▁▁</td></tr><tr><td>downward_MI_31</td><td>█▁▁▁▁▁▁▁▁▁▁▁▁▁▁▁▁▁▁▁▁▁▁▁▁▁▁▁▁▁▁▁▁▁▁▁▁▁▁▁</td></tr><tr><td>downward_MI_32</td><td>▁███████████████████████████████████████</td></tr><tr><td>downward_MI_33</td><td>█▁▁▁▁▁▁▁▁▁▁▁▁▁▁▁▁▁▁▁▁▁▁▁▁▁▁▁▁▁▁▁▁▁▁▁▁▁▁▁</td></tr><tr><td>downward_MI_34</td><td>▁███████████████████████████████████████</td></tr><tr><td>downward_MI_35</td><td>█▁▁▁▁▁▁▁▁▁▁▁▁▁▁▁▁▁▁▁▁▁▁▁▁▁▁▁▁▁▁▁▁▁▁▁▁▁▁▁</td></tr><tr><td>downward_MI_36</td><td>█▁▁▁▁▁▁▁▁▁▁▁▁▁▁▁▁▁▁▁▁▁▁▁▁▁▁▁▁▁▁▁▁▁▁▁▁▁▁▁</td></tr><tr><td>downward_MI_37</td><td>▁███████████████████████████████████████</td></tr><tr><td>downward_MI_38</td><td>▁███████████████████████████████████████</td></tr><tr><td>downward_MI_39</td><td>█▁▁▁▁▁▁▁▁▁▁▁▁▁▁▁▁▁▁▁▁▁▁▁▁▁▁▁▁▁▁▁▁▁▁▁▁▁▁▁</td></tr><tr><td>downward_MI_4</td><td>█▁▁▁▁▁▁▁▁▁▁▁▁▁▁▁▁▁▁▁▁▁▁▁▁▁▁▁▁▁▁▁▁▁▁▁▁▁▁▁</td></tr><tr><td>downward_MI_40</td><td>▁███████████████████████████████████████</td></tr><tr><td>downward_MI_41</td><td>▁▆▇▇▆▆▇█▇▆▇▆▇▆▅▆▇▆▇▆▇▆▇▆█▇▇▆▇▇▆▇█▇█▇▆▆▆▆</td></tr><tr><td>downward_MI_42</td><td>█▁▁▁▁▁▁▁▁▁▁▁▁▁▁▁▁▁▁▁▁▁▁▁▁▁▁▁▁▁▁▁▁▁▁▁▁▁▁▁</td></tr><tr><td>downward_MI_43</td><td>▁███████████████████████████████████████</td></tr><tr><td>downward_MI_44</td><td>█▁▁▁▁▁▁▁▁▁▁▁▁▁▁▁▁▁▁▁▁▁▁▁▁▁▁▁▁▁▁▁▁▁▁▁▁▁▁▁</td></tr><tr><td>downward_MI_45</td><td>▁███████████████████████████████████████</td></tr><tr><td>downward_MI_46</td><td>▁███████████████████████████████████████</td></tr><tr><td>downward_MI_47</td><td>█▁▁▁▁▁▁▁▁▁▁▁▁▁▁▁▁▁▁▁▁▁▁▁▁▁▁▁▁▁▁▁▁▁▁▁▁▁▁▁</td></tr><tr><td>downward_MI_48</td><td>▁███████████████████████████████████████</td></tr><tr><td>downward_MI_49</td><td>▁███████████████████████████████████████</td></tr><tr><td>downward_MI_5</td><td>▁███████████████████████████████████████</td></tr><tr><td>downward_MI_50</td><td>█▁▁▁▁▁▁▁▁▁▁▁▁▁▁▁▁▁▁▁▁▁▁▁▁▁▁▁▁▁▁▁▁▁▁▁▁▁▁▁</td></tr><tr><td>downward_MI_51</td><td>█▁▁▁▁▁▁▁▁▁▁▁▁▁▁▁▁▁▁▁▁▁▁▁▁▁▁▁▁▁▁▁▁▁▁▁▁▁▁▁</td></tr><tr><td>downward_MI_52</td><td>█▁▁▁▁▁▁▁▁▁▁▁▁▁▁▁▁▁▁▁▁▁▁▁▁▁▁▁▁▁▁▁▁▁▁▁▁▁▁▁</td></tr><tr><td>downward_MI_53</td><td>█▁▁▁▁▁▁▁▁▁▁▁▁▁▁▁▁▁▁▁▁▁▁▁▁▁▁▁▁▁▁▁▁▁▁▁▁▁▁▁</td></tr><tr><td>downward_MI_54</td><td>▁███████████████████████████████████████</td></tr><tr><td>downward_MI_55</td><td>█▁▁▁▁▁▁▁▁▁▁▁▁▁▁▁▁▁▁▁▁▁▁▁▁▁▁▁▁▁▁▁▁▁▁▁▁▁▁▁</td></tr><tr><td>downward_MI_56</td><td>▁███████████████████████████████████████</td></tr><tr><td>downward_MI_57</td><td>█▁▁▁▁▁▁▁▁▁▁▁▁▁▁▁▁▁▁▁▁▁▁▁▁▁▁▁▁▁▁▁▁▁▁▁▁▁▁▁</td></tr><tr><td>downward_MI_58</td><td>▁███████████████████████████████████████</td></tr><tr><td>downward_MI_59</td><td>█▁▁▁▁▁▁▁▁▁▁▁▁▁▁▁▁▁▁▁▁▁▁▁▁▁▁▁▁▁▁▁▁▁▁▁▁▁▁▁</td></tr><tr><td>downward_MI_6</td><td>█▁▁▁▁▁▁▁▁▁▁▁▁▁▁▁▁▁▁▁▁▁▁▁▁▁▁▁▁▁▁▁▁▁▁▁▁▁▁▁</td></tr><tr><td>downward_MI_60</td><td>▁███████████████████████████████████████</td></tr><tr><td>downward_MI_61</td><td>▁███████████████████████████████████████</td></tr><tr><td>downward_MI_62</td><td>█▁▁▁▁▁▁▁▁▁▁▁▁▁▁▁▁▁▁▁▁▁▁▁▁▁▁▁▁▁▁▁▁▁▁▁▁▁▁▁</td></tr><tr><td>downward_MI_63</td><td>█▁▁▁▁▁▁▁▁▁▁▁▁▁▁▁▁▁▁▁▁▁▁▁▁▁▁▁▁▁▁▁▁▁▁▁▁▁▁▁</td></tr><tr><td>downward_MI_64</td><td>▁███████████████████████████████████████</td></tr><tr><td>downward_MI_65</td><td>█▁▁▁▁▁▁▁▁▁▁▁▁▁▁▁▁▁▁▁▁▁▁▁▁▁▁▁▁▁▁▁▁▁▁▁▁▁▁▁</td></tr><tr><td>downward_MI_66</td><td>▁███████████████████████████████████████</td></tr><tr><td>downward_MI_67</td><td>▁███████████████████████████████████████</td></tr><tr><td>downward_MI_68</td><td>▁███████████████████████████████████████</td></tr><tr><td>downward_MI_69</td><td>▁███████████████████████████████████████</td></tr><tr><td>downward_MI_7</td><td>█▁▁▁▁▁▁▁▁▁▁▁▁▁▁▁▁▁▁▁▁▁▁▁▁▁▁▁▁▁▁▁▁▁▁▁▁▁▁▁</td></tr><tr><td>downward_MI_70</td><td>█▁▁▁▁▁▁▁▁▁▁▁▁▁▁▁▁▁▁▁▁▁▁▁▁▁▁▁▁▁▁▁▁▁▁▁▁▁▁▁</td></tr><tr><td>downward_MI_71</td><td>█▁▁▁▁▁▁▁▁▁▁▁▁▁▁▁▁▁▁▁▁▁▁▁▁▁▁▁▁▁▁▁▁▁▁▁▁▁▁▁</td></tr><tr><td>downward_MI_72</td><td>█▁▁▁▁▁▁▁▁▁▁▁▁▁▁▁▁▁▁▁▁▁▁▁▁▁▁▁▁▁▁▁▁▁▁▁▁▁▁▁</td></tr><tr><td>downward_MI_73</td><td>▁███████████████████████████████████████</td></tr><tr><td>downward_MI_74</td><td>▁███████████████████████████████████████</td></tr><tr><td>downward_MI_75</td><td>█▁▁▁▁▁▁▁▁▁▁▁▁▁▁▁▁▁▁▁▁▁▁▁▁▁▁▁▁▁▁▁▁▁▁▁▁▁▁▁</td></tr><tr><td>downward_MI_76</td><td>▁███████████████████████████████████████</td></tr><tr><td>downward_MI_77</td><td>█▁▁▁▁▁▁▁▁▁▁▁▁▁▁▁▁▁▁▁▁▁▁▁▁▁▁▁▁▁▁▁▁▁▁▁▁▁▁▁</td></tr><tr><td>downward_MI_78</td><td>▁▇██████████████████████████████████████</td></tr><tr><td>downward_MI_79</td><td>█▁▁▁▁▁▁▁▁▁▁▁▁▁▁▁▁▁▁▁▁▁▁▁▁▁▁▁▁▁▁▁▁▁▁▁▁▁▁▁</td></tr><tr><td>downward_MI_8</td><td>▁███████████████████████████████████████</td></tr><tr><td>downward_MI_80</td><td>█▁▁▁▁▁▁▁▁▁▁▁▁▁▁▁▁▁▁▁▁▁▁▁▁▁▁▁▁▁▁▁▁▁▁▁▁▁▁▁</td></tr><tr><td>downward_MI_81</td><td>█▁▁▁▁▁▁▁▁▁▁▁▁▁▁▁▁▁▁▁▁▁▁▁▁▁▁▁▁▁▁▁▁▁▁▁▁▁▁▁</td></tr><tr><td>downward_MI_82</td><td>█▁▁▁▁▁▁▁▁▁▁▁▁▁▁▁▁▁▁▁▁▁▁▁▁▁▁▁▁▁▁▁▁▁▁▁▁▁▁▁</td></tr><tr><td>downward_MI_83</td><td>█▁▁▁▁▁▁▁▁▁▁▁▁▁▁▁▁▁▁▁▁▁▁▁▁▁▁▁▁▁▁▁▁▁▁▁▁▁▁▁</td></tr><tr><td>downward_MI_84</td><td>▁███████████████████████████████████████</td></tr><tr><td>downward_MI_85</td><td>█▁▁▁▁▁▁▁▁▁▁▁▁▁▁▁▁▁▁▁▁▁▁▁▁▁▁▁▁▁▁▁▁▁▁▁▁▁▁▁</td></tr><tr><td>downward_MI_86</td><td>█▁▁▁▁▁▁▁▁▁▁▁▁▁▁▁▁▁▁▁▁▁▁▁▁▁▁▁▁▁▁▁▁▁▁▁▁▁▁▁</td></tr><tr><td>downward_MI_87</td><td>█▁▁▁▁▁▁▁▁▁▁▁▁▁▁▁▁▁▁▁▁▁▁▁▁▁▁▁▁▁▁▁▁▁▁▁▁▁▁▁</td></tr><tr><td>downward_MI_88</td><td>▁███████████████████████████████████████</td></tr><tr><td>downward_MI_89</td><td>█▁▁▁▁▁▁▁▁▁▁▁▁▁▁▁▁▁▁▁▁▁▁▁▁▁▁▁▁▁▁▁▁▁▁▁▁▁▁▁</td></tr><tr><td>downward_MI_9</td><td>█▁▁▁▁▁▁▁▁▁▁▁▁▁▁▁▁▁▁▁▁▁▁▁▁▁▁▁▁▁▁▁▁▁▁▁▁▁▁▁</td></tr><tr><td>downward_MI_90</td><td>█▁▁▁▁▁▁▁▁▁▁▁▁▁▁▁▁▁▁▁▁▁▁▁▁▁▁▁▁▁▁▁▁▁▁▁▁▁▁▁</td></tr><tr><td>downward_MI_91</td><td>▁███████████████████████████████████████</td></tr><tr><td>downward_MI_92</td><td>▁███████████████████████████████████████</td></tr><tr><td>downward_MI_93</td><td>█▁▁▁▁▁▁▁▁▁▁▁▁▁▁▁▁▁▁▁▁▁▁▁▁▁▁▁▁▁▁▁▁▁▁▁▁▁▁▁</td></tr><tr><td>downward_MI_94</td><td>▁███████████████████████████████████████</td></tr><tr><td>downward_MI_95</td><td>█▁▁▁▁▁▁▁▁▁▁▁▁▁▁▁▁▁▁▁▁▁▁▁▁▁▁▁▁▁▁▁▁▁▁▁▁▁▁▁</td></tr><tr><td>downward_MI_96</td><td>▁███████████████████████████████████████</td></tr><tr><td>downward_MI_97</td><td>▁███████████████████████████████████████</td></tr><tr><td>downward_MI_98</td><td>█▁▁▁▁▁▁▁▁▁▁▁▁▁▁▁▁▁▁▁▁▁▁▁▁▁▁▁▁▁▁▁▁▁▁▁▁▁▁▁</td></tr><tr><td>downward_MI_99</td><td>█▁▁▁▁▁▁▁▁▁▁▁▁▁▁▁▁▁▁▁▁▁▁▁▁▁▁▁▁▁▁▁▁▁▁▁▁▁▁▁</td></tr><tr><td>sum_downward_MI</td><td>█▁▁▁▁▁▁▁▁▁▁▁▁▁▁▁▁▁▁▁▁▁▁▁▁▁▁▁▁▁▁▁▁▁▁▁▁▁▁▁</td></tr></table><br/></div><div class=\"wandb-col\"><h3>Run summary:</h3><br/><table class=\"wandb\"><tr><td>Psi</td><td>8e-05</td></tr><tr><td>decoupled_MI</td><td>-0.0</td></tr><tr><td>downward_MI_0</td><td>-0.0</td></tr><tr><td>downward_MI_1</td><td>-0.0</td></tr><tr><td>downward_MI_10</td><td>-0.0</td></tr><tr><td>downward_MI_100</td><td>-0.0</td></tr><tr><td>downward_MI_101</td><td>-0.0</td></tr><tr><td>downward_MI_102</td><td>-0.0</td></tr><tr><td>downward_MI_103</td><td>-0.0</td></tr><tr><td>downward_MI_104</td><td>-0.0</td></tr><tr><td>downward_MI_105</td><td>-0.0</td></tr><tr><td>downward_MI_106</td><td>0.0</td></tr><tr><td>downward_MI_107</td><td>-0.0</td></tr><tr><td>downward_MI_108</td><td>-0.0</td></tr><tr><td>downward_MI_109</td><td>-0.0</td></tr><tr><td>downward_MI_11</td><td>0.0</td></tr><tr><td>downward_MI_110</td><td>-0.0</td></tr><tr><td>downward_MI_111</td><td>-0.0</td></tr><tr><td>downward_MI_112</td><td>-0.0</td></tr><tr><td>downward_MI_113</td><td>-0.0</td></tr><tr><td>downward_MI_114</td><td>-0.0</td></tr><tr><td>downward_MI_115</td><td>-0.0</td></tr><tr><td>downward_MI_116</td><td>-0.0</td></tr><tr><td>downward_MI_117</td><td>-0.0</td></tr><tr><td>downward_MI_118</td><td>-0.0</td></tr><tr><td>downward_MI_119</td><td>-0.0</td></tr><tr><td>downward_MI_12</td><td>-0.0</td></tr><tr><td>downward_MI_120</td><td>0.0</td></tr><tr><td>downward_MI_121</td><td>-0.0</td></tr><tr><td>downward_MI_122</td><td>-0.0</td></tr><tr><td>downward_MI_123</td><td>0.0</td></tr><tr><td>downward_MI_124</td><td>-0.0</td></tr><tr><td>downward_MI_125</td><td>-0.0</td></tr><tr><td>downward_MI_126</td><td>-0.0</td></tr><tr><td>downward_MI_127</td><td>-0.0</td></tr><tr><td>downward_MI_13</td><td>-0.0</td></tr><tr><td>downward_MI_14</td><td>-0.0</td></tr><tr><td>downward_MI_15</td><td>0.0</td></tr><tr><td>downward_MI_16</td><td>0.0</td></tr><tr><td>downward_MI_17</td><td>-0.0</td></tr><tr><td>downward_MI_18</td><td>-0.0</td></tr><tr><td>downward_MI_19</td><td>0.0</td></tr><tr><td>downward_MI_2</td><td>0.0</td></tr><tr><td>downward_MI_20</td><td>-0.0</td></tr><tr><td>downward_MI_21</td><td>-0.0</td></tr><tr><td>downward_MI_22</td><td>-0.0</td></tr><tr><td>downward_MI_23</td><td>0.0</td></tr><tr><td>downward_MI_24</td><td>-0.0</td></tr><tr><td>downward_MI_25</td><td>-0.0</td></tr><tr><td>downward_MI_26</td><td>-0.0</td></tr><tr><td>downward_MI_27</td><td>-0.0</td></tr><tr><td>downward_MI_28</td><td>-0.0</td></tr><tr><td>downward_MI_29</td><td>-0.0</td></tr><tr><td>downward_MI_3</td><td>-0.0</td></tr><tr><td>downward_MI_30</td><td>-0.0</td></tr><tr><td>downward_MI_31</td><td>-0.0</td></tr><tr><td>downward_MI_32</td><td>-0.0</td></tr><tr><td>downward_MI_33</td><td>-0.0</td></tr><tr><td>downward_MI_34</td><td>-0.0</td></tr><tr><td>downward_MI_35</td><td>0.0</td></tr><tr><td>downward_MI_36</td><td>0.0</td></tr><tr><td>downward_MI_37</td><td>-0.0</td></tr><tr><td>downward_MI_38</td><td>-0.0</td></tr><tr><td>downward_MI_39</td><td>0.0</td></tr><tr><td>downward_MI_4</td><td>-0.0</td></tr><tr><td>downward_MI_40</td><td>0.0</td></tr><tr><td>downward_MI_41</td><td>-0.0</td></tr><tr><td>downward_MI_42</td><td>-0.0</td></tr><tr><td>downward_MI_43</td><td>-0.0</td></tr><tr><td>downward_MI_44</td><td>-0.0</td></tr><tr><td>downward_MI_45</td><td>-0.0</td></tr><tr><td>downward_MI_46</td><td>-0.0</td></tr><tr><td>downward_MI_47</td><td>-0.0</td></tr><tr><td>downward_MI_48</td><td>-0.0</td></tr><tr><td>downward_MI_49</td><td>-0.0</td></tr><tr><td>downward_MI_5</td><td>-0.0</td></tr><tr><td>downward_MI_50</td><td>-0.0</td></tr><tr><td>downward_MI_51</td><td>-0.0</td></tr><tr><td>downward_MI_52</td><td>0.0</td></tr><tr><td>downward_MI_53</td><td>-0.0</td></tr><tr><td>downward_MI_54</td><td>-0.0</td></tr><tr><td>downward_MI_55</td><td>-0.0</td></tr><tr><td>downward_MI_56</td><td>-0.0</td></tr><tr><td>downward_MI_57</td><td>-0.0</td></tr><tr><td>downward_MI_58</td><td>-0.0</td></tr><tr><td>downward_MI_59</td><td>-0.0</td></tr><tr><td>downward_MI_6</td><td>-0.0</td></tr><tr><td>downward_MI_60</td><td>-0.0</td></tr><tr><td>downward_MI_61</td><td>-0.0</td></tr><tr><td>downward_MI_62</td><td>-0.0</td></tr><tr><td>downward_MI_63</td><td>-0.0</td></tr><tr><td>downward_MI_64</td><td>-0.0</td></tr><tr><td>downward_MI_65</td><td>-0.0</td></tr><tr><td>downward_MI_66</td><td>-0.0</td></tr><tr><td>downward_MI_67</td><td>0.0</td></tr><tr><td>downward_MI_68</td><td>-0.0</td></tr><tr><td>downward_MI_69</td><td>0.0</td></tr><tr><td>downward_MI_7</td><td>-0.0</td></tr><tr><td>downward_MI_70</td><td>-0.0</td></tr><tr><td>downward_MI_71</td><td>-0.0</td></tr><tr><td>downward_MI_72</td><td>-0.0</td></tr><tr><td>downward_MI_73</td><td>-0.0</td></tr><tr><td>downward_MI_74</td><td>-0.0</td></tr><tr><td>downward_MI_75</td><td>-0.0</td></tr><tr><td>downward_MI_76</td><td>-0.0</td></tr><tr><td>downward_MI_77</td><td>-0.0</td></tr><tr><td>downward_MI_78</td><td>-0.0</td></tr><tr><td>downward_MI_79</td><td>-0.0</td></tr><tr><td>downward_MI_8</td><td>-0.0</td></tr><tr><td>downward_MI_80</td><td>-0.0</td></tr><tr><td>downward_MI_81</td><td>-0.0</td></tr><tr><td>downward_MI_82</td><td>-0.0</td></tr><tr><td>downward_MI_83</td><td>0.0</td></tr><tr><td>downward_MI_84</td><td>-0.0</td></tr><tr><td>downward_MI_85</td><td>0.0</td></tr><tr><td>downward_MI_86</td><td>-0.0</td></tr><tr><td>downward_MI_87</td><td>-0.0</td></tr><tr><td>downward_MI_88</td><td>-0.0</td></tr><tr><td>downward_MI_89</td><td>-0.0</td></tr><tr><td>downward_MI_9</td><td>-0.0</td></tr><tr><td>downward_MI_90</td><td>-0.0</td></tr><tr><td>downward_MI_91</td><td>0.0</td></tr><tr><td>downward_MI_92</td><td>-0.0</td></tr><tr><td>downward_MI_93</td><td>0.0</td></tr><tr><td>downward_MI_94</td><td>0.0</td></tr><tr><td>downward_MI_95</td><td>-0.0</td></tr><tr><td>downward_MI_96</td><td>-0.0</td></tr><tr><td>downward_MI_97</td><td>0.0</td></tr><tr><td>downward_MI_98</td><td>-0.0</td></tr><tr><td>downward_MI_99</td><td>0.0</td></tr><tr><td>sum_downward_MI</td><td>-8e-05</td></tr></table><br/></div></div>"
      ],
      "text/plain": [
       "<IPython.core.display.HTML object>"
      ]
     },
     "metadata": {},
     "output_type": "display_data"
    },
    {
     "data": {
      "text/html": [
       " View run <strong style=\"color:#cdcd00\">devoted-leaf-7</strong> at: <a href='https://wandb.ai/dmcsharry/resid_layer_3_AI_gen_True_emergent/runs/dx2yowns' target=\"_blank\">https://wandb.ai/dmcsharry/resid_layer_3_AI_gen_True_emergent/runs/dx2yowns</a><br/> View project at: <a href='https://wandb.ai/dmcsharry/resid_layer_3_AI_gen_True_emergent' target=\"_blank\">https://wandb.ai/dmcsharry/resid_layer_3_AI_gen_True_emergent</a><br/>Synced 5 W&B file(s), 0 media file(s), 0 artifact file(s) and 0 other file(s)"
      ],
      "text/plain": [
       "<IPython.core.display.HTML object>"
      ]
     },
     "metadata": {},
     "output_type": "display_data"
    },
    {
     "data": {
      "text/html": [
       "Find logs at: <code>./wandb/run-20240802_002902-dx2yowns/logs</code>"
      ],
      "text/plain": [
       "<IPython.core.display.HTML object>"
      ]
     },
     "metadata": {},
     "output_type": "display_data"
    },
    {
     "data": {
      "text/html": [
       "The new W&B backend becomes opt-out in version 0.18.0; try it out with `wandb.require(\"core\")`! See https://wandb.me/wandb-core for more information."
      ],
      "text/plain": [
       "<IPython.core.display.HTML object>"
      ]
     },
     "metadata": {},
     "output_type": "display_data"
    },
    {
     "data": {
      "text/html": [
       "Successfully finished last run (ID:dx2yowns). Initializing new run:<br/>"
      ],
      "text/plain": [
       "<IPython.core.display.HTML object>"
      ]
     },
     "metadata": {},
     "output_type": "display_data"
    },
    {
     "data": {
      "text/html": [
       "Tracking run with wandb version 0.17.5"
      ],
      "text/plain": [
       "<IPython.core.display.HTML object>"
      ]
     },
     "metadata": {},
     "output_type": "display_data"
    },
    {
     "data": {
      "text/html": [
       "Run data is saved locally in <code>/home/ubuntu/info-theory-experiments/wandb/run-20240802_003234-zw5cef0z</code>"
      ],
      "text/plain": [
       "<IPython.core.display.HTML object>"
      ]
     },
     "metadata": {},
     "output_type": "display_data"
    },
    {
     "data": {
      "text/html": [
       "Syncing run <strong><a href='https://wandb.ai/dmcsharry/resid_layer_3_AI_gen_True_emergent/runs/zw5cef0z' target=\"_blank\">apricot-flower-8</a></strong> to <a href='https://wandb.ai/dmcsharry/resid_layer_3_AI_gen_True_emergent' target=\"_blank\">Weights & Biases</a> (<a href='https://wandb.me/run' target=\"_blank\">docs</a>)<br/>"
      ],
      "text/plain": [
       "<IPython.core.display.HTML object>"
      ]
     },
     "metadata": {},
     "output_type": "display_data"
    },
    {
     "data": {
      "text/html": [
       " View project at <a href='https://wandb.ai/dmcsharry/resid_layer_3_AI_gen_True_emergent' target=\"_blank\">https://wandb.ai/dmcsharry/resid_layer_3_AI_gen_True_emergent</a>"
      ],
      "text/plain": [
       "<IPython.core.display.HTML object>"
      ]
     },
     "metadata": {},
     "output_type": "display_data"
    },
    {
     "data": {
      "text/html": [
       " View run at <a href='https://wandb.ai/dmcsharry/resid_layer_3_AI_gen_True_emergent/runs/zw5cef0z' target=\"_blank\">https://wandb.ai/dmcsharry/resid_layer_3_AI_gen_True_emergent/runs/zw5cef0z</a>"
      ],
      "text/plain": [
       "<IPython.core.display.HTML object>"
      ]
     },
     "metadata": {},
     "output_type": "display_data"
    }
   ],
   "source": [
    "seed = 42\n",
    "torch.manual_seed(seed)\n",
    "\n",
    "resid_config = {\n",
    "    \"torch_seed\": seed,\n",
    "    \"dataset_type\": \"resid\",\n",
    "    \"num_atoms\": 128,\n",
    "    \"batch_size\": 100,\n",
    "    \"train_mode\": False,\n",
    "    \"resid_layer_index\": 3,\n",
    "    \"use_AI_generated_tokens\": True, # if false, use resid streams for 2048 tokens of econ text, otherwise AI generated text\n",
    "    \"train_model_B\": False,\n",
    "    \"adjust_Psi\": False,\n",
    "    \"clip\": 5,\n",
    "    \"feature_size\": 1,\n",
    "    \"epochs\": 300,\n",
    "    \"start_updating_f_after\": 0,\n",
    "    \"update_f_every_N_steps\": 1,\n",
    "    \"minimize_neg_terms_until\": 0, # if zero I think full psi used, if 9999... then only neg terms\n",
    "    \"downward_critics_config\": {\n",
    "        \"hidden_sizes_v_critic\": [512, 1024, 1024, 512],\n",
    "        \"hidden_sizes_xi_critic\": [512, 1024, 1024, 512],\n",
    "        \"critic_output_size\": 32,\n",
    "        \"lr\": 1e-2,\n",
    "        \"bias\": True,\n",
    "        \"weight_decay\": 0,\n",
    "    },\n",
    "    \n",
    "    \"decoupled_critic_config\": {\n",
    "        \"hidden_sizes_encoder_1\": [1024, 1024, 1024],\n",
    "        \"hidden_sizes_encoder_2\": [1024, 1024, 1024],\n",
    "        \"critic_output_size\": 32,\n",
    "        \"lr\": 1e-2,\n",
    "        \"bias\": True,\n",
    "        \"weight_decay\": 0,\n",
    "    },\n",
    "    \"feature_network_config\": {\n",
    "        \"hidden_sizes\": [512, 512, 512, 512, 512],\n",
    "        \"lr\": 1e-4,\n",
    "        \"bias\": True,\n",
    "        \"weight_decay\": 1e-3,\n",
    "    }\n",
    "}\n",
    "\n",
    "dataset = ResidualStreamDataset(\n",
    "    AI_gen = resid_config[\"use_AI_generated_tokens\"],\n",
    "    index = resid_config[\"resid_layer_index\"],\n",
    ")\n",
    "\n",
    "dataloader = torch.utils.data.DataLoader(\n",
    "    dataset,\n",
    "    batch_size=resid_config[\"batch_size\"],\n",
    "    shuffle=False\n",
    ")\n",
    "\n",
    "feature_network = SkipConnectionSupervenientFeatureNetwork(\n",
    "    num_atoms=resid_config[\"num_atoms\"],\n",
    "    feature_size=resid_config[\"feature_size\"],\n",
    "    hidden_sizes=resid_config[\"feature_network_config\"][\"hidden_sizes\"],\n",
    "    include_bias=resid_config[\"feature_network_config\"][\"bias\"]\n",
    ").to(device)\n",
    "\n",
    "project_name = f\"resid_layer_{resid_config['resid_layer_index']}_AI_gen_{resid_config['use_AI_generated_tokens']}_emergent\"\n",
    "model_dir_prefix = f\"resid_layer_{resid_config['resid_layer_index']}_AI_gen_{resid_config['use_AI_generated_tokens']}_emergent\"\n",
    "\n",
    "skip_model = train_feature_network(\n",
    "    config=resid_config,\n",
    "    trainloader=dataloader,\n",
    "    feature_network_training=feature_network,\n",
    "    project_name=project_name,\n",
    "    model_dir_prefix=model_dir_prefix,\n",
    ")\n",
    "\n",
    "\n",
    "\n"
   ]
  },
  {
   "cell_type": "code",
   "execution_count": null,
   "metadata": {},
   "outputs": [],
   "source": []
  },
  {
   "cell_type": "code",
   "execution_count": null,
   "metadata": {},
   "outputs": [],
   "source": []
  },
  {
   "cell_type": "code",
   "execution_count": null,
   "metadata": {},
   "outputs": [],
   "source": []
  }
 ],
 "metadata": {
  "kernelspec": {
   "display_name": "venv",
   "language": "python",
   "name": "python3"
  },
  "language_info": {
   "codemirror_mode": {
    "name": "ipython",
    "version": 3
   },
   "file_extension": ".py",
   "mimetype": "text/x-python",
   "name": "python",
   "nbconvert_exporter": "python",
   "pygments_lexer": "ipython3",
   "version": "3.10.12"
  }
 },
 "nbformat": 4,
 "nbformat_minor": 2
}
