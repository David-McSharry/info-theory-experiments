{
 "cells": [
  {
   "cell_type": "code",
   "execution_count": 1,
   "metadata": {},
   "outputs": [
    {
     "name": "stdout",
     "output_type": "stream",
     "text": [
      "cuda\n"
     ]
    }
   ],
   "source": [
    "import torch\n",
    "import lovely_tensors as lt\n",
    "from einops import reduce, rearrange, repeat\n",
    "# from npeet.entropy_estimators import entropy, mi\n",
    "import matplotlib.pyplot as plt\n",
    "import wandb\n",
    "import utils\n",
    "import importlib\n",
    "importlib.reload(utils)\n",
    "import os\n",
    "from utils import prepare_ecog_dataset, prepare_batch, estimate_MI_smile\n",
    "from smile_estimator import estimate_mutual_information\n",
    "import tqdm\n",
    "\n",
    "\n",
    "\n",
    "lt.monkey_patch()\n",
    "device = torch.device(\"cuda\" if torch.cuda.is_available() else \"cpu\")\n",
    "\n",
    "print(device)"
   ]
  },
  {
   "cell_type": "code",
   "execution_count": 2,
   "metadata": {},
   "outputs": [],
   "source": [
    "import torch.nn as nn\n",
    "\n",
    "class SupervenientFeatureNetwork(nn.Module):\n",
    "    def __init__(self, num_atoms, feature_size, hidden_sizes):\n",
    "        super(SupervenientFeatureNetwork, self).__init__()\n",
    "        layers = []\n",
    "        input_size = num_atoms\n",
    "        for hidden_size in hidden_sizes:\n",
    "            layers.append(nn.Linear(input_size, hidden_size))\n",
    "            layers.append(nn.ReLU())\n",
    "            input_size = hidden_size\n",
    "        layers.append(nn.Linear(input_size, feature_size))\n",
    "        self.f = nn.Sequential(*layers)\n",
    "        print('Feature network:', self.f)\n",
    "\n",
    "    def forward(self, x):\n",
    "        return self.f(x)\n",
    "\n",
    "\n",
    "class DecoupledCritic(nn.Module):\n",
    "    def __init__(\n",
    "            self,\n",
    "            feature_size: int,\n",
    "            critic_output_size: int,\n",
    "            hidden_sizes: list\n",
    "        ):\n",
    "        super(DecoupledCritic, self).__init__()\n",
    "        # self.v_encoder = nn.Sequential(\n",
    "        #     nn.Linear(feature_size, 128),\n",
    "        #     nn.ReLU(),\n",
    "        #     nn.Linear(128, 64),\n",
    "        #     nn.ReLU(),\n",
    "        #     nn.Linear(64, 8),\n",
    "        # )\n",
    "\n",
    "        layers = []\n",
    "        input_size = feature_size\n",
    "        for hidden_size in hidden_sizes:\n",
    "            layers.append(nn.Linear(input_size, hidden_size))\n",
    "            layers.append(nn.ReLU())\n",
    "            input_size = hidden_size\n",
    "        layers.append(nn.Linear(input_size, critic_output_size))\n",
    "\n",
    "        self.v_encoder = nn.Sequential(*layers)\n",
    "        self.W = nn.Linear(critic_output_size, critic_output_size, bias=False)\n",
    "\n",
    "        print('v_encoder:', self.v_encoder)\n",
    "        print('W:', self.W)\n",
    "\n",
    "    def forward(self, v0, v1):\n",
    "        v0_encoded = self.v_encoder(v0)\n",
    "        v1_encoded = self.v_encoder(v1)\n",
    "        v1_encoded_transformed = self.W(v1_encoded)\n",
    "\n",
    "        scores = torch.matmul(v0_encoded, v1_encoded_transformed.t())\n",
    "        return scores\n",
    "    \n",
    "\n",
    "class DownwardCritic(nn.Module):\n",
    "    def __init__(self, feature_size, critic_output_size, hidden_sizes_v_critic, hidden_sizes_xi_critic):\n",
    "        super(DownwardCritic, self).__init__()\n",
    "        # self.v_encoder = nn.Sequential(\n",
    "        #     nn.Linear(feature_size, 512),\n",
    "        #     nn.ReLU(),\n",
    "        #     nn.Linear(512, 512),\n",
    "        #     nn.ReLU(),\n",
    "        #     nn.Linear(512, 128),\n",
    "        #     nn.ReLU(),\n",
    "        #     nn.Linear(128, 8),\n",
    "        # )\n",
    "\n",
    "        # self.atom_encoder = nn.Sequential(\n",
    "        #     nn.Linear(1, 128),\n",
    "        #     nn.ReLU(),\n",
    "        #     nn.Linear(128, 64),\n",
    "        #     nn.ReLU(),\n",
    "        #     nn.Linear(64, 8),\n",
    "        # )\n",
    "\n",
    "        v_encoder_layers = []\n",
    "        input_size = feature_size\n",
    "        for hidden_size in hidden_sizes_v_critic:\n",
    "            v_encoder_layers.append(nn.Linear(input_size, hidden_size))\n",
    "            v_encoder_layers.append(nn.ReLU())\n",
    "            input_size = hidden_size\n",
    "        v_encoder_layers.append(nn.Linear(input_size, critic_output_size))\n",
    "        self.v_encoder = nn.Sequential(*v_encoder_layers)\n",
    "\n",
    "        atom_encoder_layers = []\n",
    "        input_size = 1\n",
    "        for hidden_size in hidden_sizes_xi_critic:\n",
    "            atom_encoder_layers.append(nn.Linear(input_size, hidden_size))\n",
    "            atom_encoder_layers.append(nn.ReLU())\n",
    "            input_size = hidden_size\n",
    "        atom_encoder_layers.append(nn.Linear(input_size, critic_output_size))\n",
    "        self.atom_encoder = nn.Sequential(*atom_encoder_layers)\n",
    "\n",
    "        print('v_encoder:', self.v_encoder)\n",
    "        print('atom_encoder:', self.atom_encoder)\n",
    "    \n",
    "    def forward(self, v1, x0i):\n",
    "        v1_encoded = self.v_encoder(v1)\n",
    "        x0i_encoded = self.atom_encoder(x0i)\n",
    "\n",
    "        scores = torch.matmul(v1_encoded, x0i_encoded.t())\n",
    "        return scores\n",
    "\n",
    "\n",
    "\n",
    "\n"
   ]
  },
  {
   "cell_type": "code",
   "execution_count": 3,
   "metadata": {},
   "outputs": [],
   "source": [
    "config = {\n",
    "    \"batch_size\": 2000,\n",
    "    \"num_atoms\": 64,\n",
    "    \"feature_size\": 4,\n",
    "    \"clip\": 5,\n",
    "    \"critic_output_size\": 1,\n",
    "    \"downward_hidden_sizes_v_critic\": [512, 512, 128],\n",
    "    \"downward_hidden_sizes_xi_critic\": [128, 128, 64],\n",
    "    \"feature_hidden_sizes\": [128, 128, 64],\n",
    "    \"decoupled_critis_hidden_sizes\": [128, 128, 64],\n",
    "    \"downward_lr\": 1e-4,    \n",
    "    \"feature_lr\": 1e-5,\n",
    "    \"decoupled_critic_lr\": 1e-4,\n",
    "}\n"
   ]
  },
  {
   "cell_type": "markdown",
   "metadata": {},
   "source": [
    "## Init everything"
   ]
  },
  {
   "cell_type": "code",
   "execution_count": 4,
   "metadata": {},
   "outputs": [
    {
     "name": "stderr",
     "output_type": "stream",
     "text": [
      "Failed to detect the name of this notebook, you can set it manually with the WANDB_NOTEBOOK_NAME environment variable to enable code saving.\n",
      "\u001b[34m\u001b[1mwandb\u001b[0m: Currently logged in as: \u001b[33mdmcsharry\u001b[0m. Use \u001b[1m`wandb login --relogin`\u001b[0m to force relogin\n"
     ]
    },
    {
     "data": {
      "text/html": [
       "Tracking run with wandb version 0.16.6"
      ],
      "text/plain": [
       "<IPython.core.display.HTML object>"
      ]
     },
     "metadata": {},
     "output_type": "display_data"
    },
    {
     "data": {
      "text/html": [
       "Run data is saved locally in <code>/vol/bitbucket/dm2223/info-theory-experiments/wandb/run-20240410_203352-ntfnt5qt</code>"
      ],
      "text/plain": [
       "<IPython.core.display.HTML object>"
      ]
     },
     "metadata": {},
     "output_type": "display_data"
    },
    {
     "data": {
      "text/html": [
       "Syncing run <strong><a href='https://wandb.ai/dmcsharry/getting-figures/runs/ntfnt5qt' target=\"_blank\">devoted-donkey-1</a></strong> to <a href='https://wandb.ai/dmcsharry/getting-figures' target=\"_blank\">Weights & Biases</a> (<a href='https://wandb.me/run' target=\"_blank\">docs</a>)<br/>"
      ],
      "text/plain": [
       "<IPython.core.display.HTML object>"
      ]
     },
     "metadata": {},
     "output_type": "display_data"
    },
    {
     "data": {
      "text/html": [
       " View project at <a href='https://wandb.ai/dmcsharry/getting-figures' target=\"_blank\">https://wandb.ai/dmcsharry/getting-figures</a>"
      ],
      "text/plain": [
       "<IPython.core.display.HTML object>"
      ]
     },
     "metadata": {},
     "output_type": "display_data"
    },
    {
     "data": {
      "text/html": [
       " View run at <a href='https://wandb.ai/dmcsharry/getting-figures/runs/ntfnt5qt' target=\"_blank\">https://wandb.ai/dmcsharry/getting-figures/runs/ntfnt5qt</a>"
      ],
      "text/plain": [
       "<IPython.core.display.HTML object>"
      ]
     },
     "metadata": {},
     "output_type": "display_data"
    },
    {
     "ename": "TypeError",
     "evalue": "SupervenientFeatureNetwork.__init__() missing 1 required positional argument: 'hidden_sizes'",
     "output_type": "error",
     "traceback": [
      "\u001b[0;31m---------------------------------------------------------------------------\u001b[0m",
      "\u001b[0;31mTypeError\u001b[0m                                 Traceback (most recent call last)",
      "Cell \u001b[0;32mIn[4], line 7\u001b[0m\n\u001b[1;32m      2\u001b[0m trainloader \u001b[38;5;241m=\u001b[39m torch\u001b[38;5;241m.\u001b[39mutils\u001b[38;5;241m.\u001b[39mdata\u001b[38;5;241m.\u001b[39mDataLoader(dataset, batch_size\u001b[38;5;241m=\u001b[39mconfig[\u001b[38;5;124m'\u001b[39m\u001b[38;5;124mbatch_size\u001b[39m\u001b[38;5;124m'\u001b[39m], shuffle\u001b[38;5;241m=\u001b[39m\u001b[38;5;28;01mFalse\u001b[39;00m)\n\u001b[1;32m      4\u001b[0m wandb\u001b[38;5;241m.\u001b[39minit(project\u001b[38;5;241m=\u001b[39m\u001b[38;5;124m\"\u001b[39m\u001b[38;5;124mgetting-figures\u001b[39m\u001b[38;5;124m\"\u001b[39m, config\u001b[38;5;241m=\u001b[39mconfig)\n\u001b[0;32m----> 7\u001b[0m feature_network \u001b[38;5;241m=\u001b[39m \u001b[43mSupervenientFeatureNetwork\u001b[49m\u001b[43m(\u001b[49m\n\u001b[1;32m      8\u001b[0m \u001b[43m    \u001b[49m\u001b[43mconfig\u001b[49m\u001b[43m[\u001b[49m\u001b[38;5;124;43m'\u001b[39;49m\u001b[38;5;124;43mnum_atoms\u001b[39;49m\u001b[38;5;124;43m'\u001b[39;49m\u001b[43m]\u001b[49m\u001b[43m,\u001b[49m\n\u001b[1;32m      9\u001b[0m \u001b[43m    \u001b[49m\u001b[43mconfig\u001b[49m\u001b[43m[\u001b[49m\u001b[38;5;124;43m'\u001b[39;49m\u001b[38;5;124;43mfeature_size\u001b[39;49m\u001b[38;5;124;43m'\u001b[39;49m\u001b[43m]\u001b[49m\n\u001b[1;32m     10\u001b[0m \u001b[43m)\u001b[49m\u001b[38;5;241m.\u001b[39mto(device)\n\u001b[1;32m     12\u001b[0m decoupled_critic \u001b[38;5;241m=\u001b[39m DecoupledCritic(\n\u001b[1;32m     13\u001b[0m     config[\u001b[38;5;124m'\u001b[39m\u001b[38;5;124mfeature_size\u001b[39m\u001b[38;5;124m'\u001b[39m]\n\u001b[1;32m     14\u001b[0m )\u001b[38;5;241m.\u001b[39mto(device)\n\u001b[1;32m     16\u001b[0m downward_critics \u001b[38;5;241m=\u001b[39m [DownwardCritic(config[\u001b[38;5;124m'\u001b[39m\u001b[38;5;124mfeature_size\u001b[39m\u001b[38;5;124m'\u001b[39m])\u001b[38;5;241m.\u001b[39mto(device) \u001b[38;5;28;01mfor\u001b[39;00m _ \u001b[38;5;129;01min\u001b[39;00m \u001b[38;5;28mrange\u001b[39m(config[\u001b[38;5;124m'\u001b[39m\u001b[38;5;124mnum_atoms\u001b[39m\u001b[38;5;124m'\u001b[39m])]\n",
      "\u001b[0;31mTypeError\u001b[0m: SupervenientFeatureNetwork.__init__() missing 1 required positional argument: 'hidden_sizes'"
     ]
    }
   ],
   "source": [
    "\n",
    "dataset = torch.load(\"data/ecog_data.pth\")\n",
    "trainloader = torch.utils.data.DataLoader(dataset, batch_size=config['batch_size'], shuffle=False)\n",
    "\n",
    "wandb.init(project=\"getting-figures\", config=config)\n",
    "\n",
    "\n",
    "feature_network = SupervenientFeatureNetwork(\n",
    "    config['num_atoms'],\n",
    "    config['feature_size']\n",
    ").to(device)\n",
    "\n",
    "decoupled_critic = DecoupledCritic(\n",
    "    config['feature_size']\n",
    ").to(device)\n",
    "\n",
    "downward_critics = [DownwardCritic(config['feature_size']).to(device) for _ in range(config['num_atoms'])]\n",
    "downward_optims = [torch.optim.Adam(dc.parameters(), lr=config[\"downward_lr\"]) for dc in downward_critics]\n",
    "\n",
    "feature_optimizer = torch.optim.Adam(feature_network.parameters(), lr=config[\"feature_lr\"])\n",
    "decoupled_optimizer = torch.optim.Adam(decoupled_critic.parameters(), lr=config[\"decoupled_critic_lr\"])\n",
    "\n"
   ]
  },
  {
   "cell_type": "markdown",
   "metadata": {},
   "source": [
    "## Train things"
   ]
  },
  {
   "cell_type": "code",
   "execution_count": 5,
   "metadata": {},
   "outputs": [
    {
     "name": "stderr",
     "output_type": "stream",
     "text": [
      "Failed to detect the name of this notebook, you can set it manually with the WANDB_NOTEBOOK_NAME environment variable to enable code saving.\n"
     ]
    }
   ],
   "source": [
    "feature_epochs = 10\n",
    "critic_epochs = 4\n",
    "total_epochs = feature_epochs + critic_epochs\n",
    "\n",
    "\n",
    "\n",
    "for epoch in tqdm.tqdm(range(total_epochs), desc='Training'):\n",
    "    for batch in trainloader:\n",
    "\n",
    "        prepared_batch = prepare_batch(batch)\n",
    "\n",
    "        x0 = prepared_batch[:, 0].to(device).float()\n",
    "        x1 = prepared_batch[:, 1].to(device).float()\n",
    "\n",
    "        # update decoupled critic\n",
    "\n",
    "        v0 = feature_network(x0)\n",
    "        v1 = feature_network(x1) \n",
    "\n",
    "        decoupled_MI = estimate_mutual_information('smile', v0, v1, decoupled_critic, clip=config['clip'])\n",
    "        decoupled_loss = -decoupled_MI\n",
    "        decoupled_optimizer.zero_grad()\n",
    "        decoupled_loss.backward(retain_graph=True)\n",
    "        decoupled_optimizer.step()\n",
    "\n",
    "        # update each downward critic\n",
    "        for i in range(config['num_atoms']):\n",
    "            channel_i = x0[:, i].unsqueeze(1)\n",
    "            downward_MI_i = estimate_mutual_information('smile', v1, channel_i, downward_critics[i], clip=config['clip'])\n",
    "            downward_loss = -downward_MI_i\n",
    "            downward_optims[i].zero_grad()\n",
    "            downward_loss.backward(retain_graph=True)\n",
    "            downward_optims[i].step()\n",
    "            wandb.log({\n",
    "                f\"downward_MI_{i}\": downward_MI_i\n",
    "            })\n",
    "\n",
    "        # update feature network   \n",
    "\n",
    "        sum_downward_MI = 0\n",
    "\n",
    "        for i in range(config['num_atoms']):\n",
    "            channel_i = x0[:, i].unsqueeze(1)\n",
    "            sum_downward_MI += estimate_mutual_information('smile', v1, channel_i, downward_critics[i], clip=config['clip'])\n",
    "\n",
    "        decoupled_MI1 = estimate_mutual_information('smile', v0, v1, decoupled_critic, clip=config['clip'])\n",
    "\n",
    "        Psi = decoupled_MI1 - sum_downward_MI\n",
    "        feature_loss = -Psi\n",
    "\n",
    "        if epoch >= feature_epochs:\n",
    "            feature_optimizer.zero_grad()\n",
    "            feature_loss.backward()\n",
    "            feature_optimizer.step()\n",
    "\n",
    "        wandb.log({\n",
    "            \"decoupled_MI\": decoupled_MI1,\n",
    "            \"sum_downward_MI\": sum_downward_MI,\n",
    "            \"Psi\": Psi,\n",
    "        })\n",
    "\n",
    "\n",
    "\n",
    "        "
   ]
  },
  {
   "cell_type": "code",
   "execution_count": 13,
   "metadata": {},
   "outputs": [],
   "source": [
    "# def test(config):\n",
    "#     trainloader = torch.utils.data.DataLoader(dataset, batch_size=config['batch_size'], shuffle=False)\n",
    "\n",
    "\n",
    "#     wandb.init(project=\"lots-of-downward-critics-ecog\", config=config)\n",
    "\n",
    "\n",
    "#     feature_network = SupervenientFeatureNetwork(\n",
    "#         config['num_atoms'],\n",
    "#         config['feature_size']\n",
    "#     ).to(device)\n",
    "\n",
    "#     decoupled_critic = PredSeparableCritic(\n",
    "#         config['feature_size']\n",
    "#     ).to(device)\n",
    "\n",
    "#     downward_critics = [DownwardCritic(config['feature_size']).to(device) for _ in range(config['num_atoms'])]\n",
    "#     downward_optims = [torch.optim.Adam(dc.parameters(), lr=config['critic_lr']) for dc in downward_critics]\n",
    "\n",
    "#     feature_optimizer = torch.optim.Adam(feature_network.parameters(), lr=config['feature_lr'])\n",
    "#     decoupled_optimizer = torch.optim.Adam(decoupled_critic.parameters(), lr=config['critic_lr'])\n",
    "\n",
    "\n",
    "\n",
    "#     for epoch in tqdm.tqdm(range(config['epochs']), desc='Training'):\n",
    "#         for batch in trainloader:\n",
    "            \n",
    "#             prepared_batch = prepare_batch(batch)\n",
    "\n",
    "#             x0 = prepared_batch[:, 0].to(device).float()\n",
    "#             x1 = prepared_batch[:, 1].to(device).float()\n",
    "\n",
    "\n",
    "#             # update decoupled critic\n",
    "            \n",
    "#             v0 = feature_network(x0)\n",
    "#             v1 = feature_network(x1) \n",
    "\n",
    "#             decoupled_MI = estimate_mutual_information('smile', v0, v1, decoupled_critic, clip=config['clip'])\n",
    "#             decoupled_loss = -decoupled_MI\n",
    "#             decoupled_optimizer.zero_grad()\n",
    "#             decoupled_loss.backward(retain_graph=True)\n",
    "#             decoupled_optimizer.step()\n",
    "\n",
    "#             # update each downward critic\n",
    "\n",
    "#             for i in range(config['num_atoms']):\n",
    "#                 channel_i = x0[:, i].unsqueeze(1)\n",
    "#                 downward_MI_i = estimate_mutual_information('smile', v1, channel_i, downward_critics[i], clip=config['clip'])\n",
    "#                 downward_loss = -downward_MI_i\n",
    "#                 downward_optims[i].zero_grad()\n",
    "#                 downward_loss.backward(retain_graph=True)\n",
    "#                 downward_optims[i].step()\n",
    "#                 wandb.log({\n",
    "#                     f\"downward_MI_{i}\": downward_MI_i\n",
    "#                 })\n",
    "            \n",
    "#             # update feature network   \n",
    "\n",
    "#             sum_downward_MI = 0\n",
    "\n",
    "#             for i in range(config['num_atoms']):\n",
    "#                 channel_i = x0[:, i].unsqueeze(1)\n",
    "#                 sum_downward_MI += estimate_mutual_information('smile', v1, channel_i, downward_critics[i], clip=config['clip'])\n",
    "\n",
    "#             decoupled_MI1 = estimate_mutual_information('smile', v0, v1, decoupled_critic, clip=config['clip'])\n",
    "\n",
    "#             Psi = decoupled_MI1 - sum_downward_MI\n",
    "#             feature_loss = -Psi\n",
    "\n",
    "#             if epoch < config['epochs'] - 5:\n",
    "#                 feature_optimizer.zero_grad()\n",
    "#                 feature_loss.backward()\n",
    "#                 feature_optimizer.step()\n",
    "\n",
    "\n",
    "#             wandb.log({\n",
    "#                 \"decoupled_MI\": decoupled_MI1,\n",
    "#                 \"downward_MI\": sum_downward_MI,\n",
    "#                 \"Psi\": Psi,\n",
    "#             })\n",
    "\n",
    "\n",
    "        \n"
   ]
  },
  {
   "cell_type": "code",
   "execution_count": null,
   "metadata": {},
   "outputs": [],
   "source": [
    "\n"
   ]
  },
  {
   "cell_type": "code",
   "execution_count": null,
   "metadata": {},
   "outputs": [],
   "source": []
  }
 ],
 "metadata": {
  "kernelspec": {
   "display_name": ".venv",
   "language": "python",
   "name": "python3"
  },
  "language_info": {
   "codemirror_mode": {
    "name": "ipython",
    "version": 3
   },
   "file_extension": ".py",
   "mimetype": "text/x-python",
   "name": "python",
   "nbconvert_exporter": "python",
   "pygments_lexer": "ipython3",
   "version": "3.10.12"
  }
 },
 "nbformat": 4,
 "nbformat_minor": 2
}
