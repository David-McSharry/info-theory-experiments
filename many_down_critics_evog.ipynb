{
 "cells": [
  {
   "cell_type": "code",
   "execution_count": 1,
   "metadata": {},
   "outputs": [
    {
     "name": "stdout",
     "output_type": "stream",
     "text": [
      "cuda\n"
     ]
    }
   ],
   "source": [
    "import torch\n",
    "import lovely_tensors as lt\n",
    "from einops import reduce, rearrange, repeat\n",
    "from npeet.entropy_estimators import entropy, mi\n",
    "import matplotlib.pyplot as plt\n",
    "import wandb\n",
    "import utils\n",
    "import importlib\n",
    "importlib.reload(utils)\n",
    "import os\n",
    "from utils import prepare_ecog_dataset, prepare_batch, estimate_MI_smile\n",
    "\n",
    "\n",
    "lt.monkey_patch()\n",
    "device = torch.device(\"cuda\" if torch.cuda.is_available() else \"cpu\")\n",
    "\n",
    "print(device)"
   ]
  },
  {
   "cell_type": "code",
   "execution_count": 3,
   "metadata": {},
   "outputs": [],
   "source": [
    "import torch.nn as nn\n",
    "\n",
    "class SupervenientFeatureNetwork(nn.Module):\n",
    "    def __init__(self, num_atoms, feature_size):\n",
    "        super(SupervenientFeatureNetwork, self).__init__()\n",
    "        self.f = nn.Sequential(\n",
    "            nn.Linear(num_atoms, 128),\n",
    "            nn.ReLU(),\n",
    "            nn.Linear(128, 256),\n",
    "            nn.ReLU(),\n",
    "            nn.Linear(256, 256),\n",
    "            nn.ReLU(),\n",
    "            nn.Linear(256, feature_size),\n",
    "        )\n",
    "\n",
    "    def forward(self, x):\n",
    "        return self.f(x)\n",
    "\n",
    "\n",
    "class PredSeparableCritic(nn.Module):\n",
    "    def __init__(self, feature_size):\n",
    "        super(PredSeparableCritic, self).__init__()\n",
    "        self.v_encoder = nn.Sequential(\n",
    "            nn.Linear(feature_size, 128),\n",
    "            nn.ReLU(),\n",
    "            nn.Linear(128, 64),\n",
    "            nn.ReLU(),\n",
    "            nn.Linear(64, 8),\n",
    "        )\n",
    "\n",
    "        self.W = nn.Linear(8, 8, bias=False)\n",
    "\n",
    "    def forward(self, v0, v1):\n",
    "        v0_encoded = self.v_encoder(v0)\n",
    "        v1_encoded = self.v_encoder(v1)\n",
    "        v1_encoded_transformed = self.W(v1_encoded)\n",
    "\n",
    "        scores = torch.matmul(v0_encoded, v1_encoded_transformed.t())\n",
    "        return scores\n",
    "    \n",
    "\n",
    "class DownwardCritic(nn.Module):\n",
    "    def __init__(self, feature_size):\n",
    "        super(DownwardCritic, self).__init__()\n",
    "        self.v_encoder = nn.Sequential(\n",
    "            nn.Linear(feature_size, 512),\n",
    "            nn.ReLU(),\n",
    "            nn.Linear(512, 512),\n",
    "            nn.ReLU(),\n",
    "            nn.Linear(512, 128),\n",
    "            nn.ReLU(),\n",
    "            nn.Linear(128, 8),\n",
    "        )\n",
    "\n",
    "        self.atom_encoder = nn.Sequential(\n",
    "            nn.Linear(1, 128),\n",
    "            nn.ReLU(),\n",
    "            nn.Linear(128, 64),\n",
    "            nn.ReLU(),\n",
    "            nn.Linear(64, 8),\n",
    "        )\n",
    "    \n",
    "    def forward(self, v1, x0i):\n",
    "        v1_encoded = self.v_encoder(v1)\n",
    "        x0i_encoded = self.atom_encoder(x0i)\n",
    "\n",
    "        scores = torch.matmul(v1_encoded, x0i_encoded.t())\n",
    "        return scores\n",
    "\n"
   ]
  },
  {
   "cell_type": "code",
   "execution_count": 4,
   "metadata": {},
   "outputs": [],
   "source": [
    "config = {\n",
    "    \"batch_size\": 1000,\n",
    "    \"num_atoms\": 64,\n",
    "    \"feature_size\": 4,\n",
    "    \"clip\": 5,\n",
    "}\n"
   ]
  },
  {
   "cell_type": "markdown",
   "metadata": {},
   "source": [
    "## Init everything"
   ]
  },
  {
   "cell_type": "code",
   "execution_count": 5,
   "metadata": {},
   "outputs": [
    {
     "name": "stderr",
     "output_type": "stream",
     "text": [
      "Failed to detect the name of this notebook, you can set it manually with the WANDB_NOTEBOOK_NAME environment variable to enable code saving.\n",
      "\u001b[34m\u001b[1mwandb\u001b[0m: Currently logged in as: \u001b[33mdmcsharry\u001b[0m. Use \u001b[1m`wandb login --relogin`\u001b[0m to force relogin\n"
     ]
    },
    {
     "data": {
      "text/html": [
       "wandb version 0.16.6 is available!  To upgrade, please run:\n",
       " $ pip install wandb --upgrade"
      ],
      "text/plain": [
       "<IPython.core.display.HTML object>"
      ]
     },
     "metadata": {},
     "output_type": "display_data"
    },
    {
     "data": {
      "text/html": [
       "Tracking run with wandb version 0.16.4"
      ],
      "text/plain": [
       "<IPython.core.display.HTML object>"
      ]
     },
     "metadata": {},
     "output_type": "display_data"
    },
    {
     "data": {
      "text/html": [
       "Run data is saved locally in <code>/vol/bitbucket/dm2223/info-theory-experiments/wandb/run-20240409_142607-06dkj7gc</code>"
      ],
      "text/plain": [
       "<IPython.core.display.HTML object>"
      ]
     },
     "metadata": {},
     "output_type": "display_data"
    },
    {
     "data": {
      "text/html": [
       "Syncing run <strong><a href='https://wandb.ai/dmcsharry/lots-of-downward-critics-ecog/runs/06dkj7gc' target=\"_blank\">gentle-lion-14</a></strong> to <a href='https://wandb.ai/dmcsharry/lots-of-downward-critics-ecog' target=\"_blank\">Weights & Biases</a> (<a href='https://wandb.me/run' target=\"_blank\">docs</a>)<br/>"
      ],
      "text/plain": [
       "<IPython.core.display.HTML object>"
      ]
     },
     "metadata": {},
     "output_type": "display_data"
    },
    {
     "data": {
      "text/html": [
       " View project at <a href='https://wandb.ai/dmcsharry/lots-of-downward-critics-ecog' target=\"_blank\">https://wandb.ai/dmcsharry/lots-of-downward-critics-ecog</a>"
      ],
      "text/plain": [
       "<IPython.core.display.HTML object>"
      ]
     },
     "metadata": {},
     "output_type": "display_data"
    },
    {
     "data": {
      "text/html": [
       " View run at <a href='https://wandb.ai/dmcsharry/lots-of-downward-critics-ecog/runs/06dkj7gc' target=\"_blank\">https://wandb.ai/dmcsharry/lots-of-downward-critics-ecog/runs/06dkj7gc</a>"
      ],
      "text/plain": [
       "<IPython.core.display.HTML object>"
      ]
     },
     "metadata": {},
     "output_type": "display_data"
    }
   ],
   "source": [
    "from smile_estimator import estimate_mutual_information\n",
    "import tqdm\n",
    "dataset = torch.load(\"data/ecog_data.pth\")\n",
    "\n",
    "wandb.init(project=\"lots-of-downward-critics-ecog\", config=config)\n",
    "\n",
    "feature_network = SupervenientFeatureNetwork(\n",
    "    config['num_atoms'],\n",
    "    config['feature_size']\n",
    ").to(device)\n",
    "\n",
    "decoupled_critic = PredSeparableCritic(\n",
    "    config['feature_size']\n",
    ").to(device)\n",
    "\n",
    "downward_critics = [DownwardCritic(config['feature_size']).to(device) for _ in range(config['num_atoms'])]\n",
    "downward_optims = [torch.optim.Adam(dc.parameters(), lr=1e-5) for dc in downward_critics]\n",
    "\n",
    "feature_optimizer = torch.optim.Adam(feature_network.parameters(), lr=1e-5)\n",
    "decoupled_optimizer = torch.optim.Adam(decoupled_critic.parameters(), lr=1e-4)\n",
    "\n",
    "\n",
    "\n"
   ]
  },
  {
   "cell_type": "markdown",
   "metadata": {},
   "source": [
    "## Train things"
   ]
  },
  {
   "cell_type": "code",
   "execution_count": 6,
   "metadata": {},
   "outputs": [
    {
     "name": "stderr",
     "output_type": "stream",
     "text": [
      "Training: 100%|██████████| 14/14 [14:02<00:00, 60.15s/it]\n"
     ]
    }
   ],
   "source": [
    "feature_epochs = 10\n",
    "critic_epochs = 4\n",
    "total_epochs = feature_epochs + critic_epochs\n",
    "\n",
    "trainloader = torch.utils.data.DataLoader(dataset, batch_size=config['batch_size'], shuffle=False)\n",
    "\n",
    "for epoch in tqdm.tqdm(range(total_epochs), desc='Training'):\n",
    "    for batch in trainloader:\n",
    "\n",
    "        prepared_batch = prepare_batch(batch)\n",
    "\n",
    "        x0 = prepared_batch[:, 0].to(device).float()\n",
    "        x1 = prepared_batch[:, 1].to(device).float()\n",
    "\n",
    "        # update decoupled critic\n",
    "\n",
    "        v0 = feature_network(x0)\n",
    "        v1 = feature_network(x1) \n",
    "\n",
    "        decoupled_MI = estimate_mutual_information('smile', v0, v1, decoupled_critic, clip=config['clip'])\n",
    "        decoupled_loss = -decoupled_MI\n",
    "        decoupled_optimizer.zero_grad()\n",
    "        decoupled_loss.backward(retain_graph=True)\n",
    "        decoupled_optimizer.step()\n",
    "\n",
    "        # update each downward critic\n",
    "        for i in range(config['num_atoms']):\n",
    "            channel_i = x0[:, i].unsqueeze(1)\n",
    "            downward_MI_i = estimate_mutual_information('smile', v1, channel_i, downward_critics[i], clip=config['clip'])\n",
    "            downward_loss = -downward_MI_i\n",
    "            downward_optims[i].zero_grad()\n",
    "            downward_loss.backward(retain_graph=True)\n",
    "            downward_optims[i].step()\n",
    "            wandb.log({\n",
    "                f\"downward_MI_{i}\": downward_MI_i\n",
    "            })\n",
    "\n",
    "        # update feature network   \n",
    "\n",
    "        sum_downward_MI = 0\n",
    "\n",
    "        for i in range(config['num_atoms']):\n",
    "            channel_i = x0[:, i].unsqueeze(1)\n",
    "            sum_downward_MI += estimate_mutual_information('smile', v1, channel_i, downward_critics[i], clip=config['clip'])\n",
    "\n",
    "        decoupled_MI1 = estimate_mutual_information('smile', v0, v1, decoupled_critic, clip=config['clip'])\n",
    "\n",
    "        Psi = decoupled_MI1 - sum_downward_MI\n",
    "        feature_loss = -Psi\n",
    "\n",
    "        if epoch >= feature_epochs:\n",
    "            feature_optimizer.zero_grad()\n",
    "            feature_loss.backward()\n",
    "            feature_optimizer.step()\n",
    "\n",
    "        wandb.log({\n",
    "            \"decoupled_MI\": decoupled_MI1,\n",
    "            \"sum_downward_MI\": sum_downward_MI,\n",
    "            \"Psi\": Psi,\n",
    "        })\n",
    "\n",
    "\n",
    "\n",
    "        "
   ]
  },
  {
   "cell_type": "code",
   "execution_count": 13,
   "metadata": {},
   "outputs": [],
   "source": [
    "def test(config):\n",
    "    trainloader = torch.utils.data.DataLoader(dataset, batch_size=config['batch_size'], shuffle=False)\n",
    "\n",
    "\n",
    "    wandb.init(project=\"lots-of-downward-critics-ecog\", config=config)\n",
    "\n",
    "\n",
    "    feature_network = SupervenientFeatureNetwork(\n",
    "        config['num_atoms'],\n",
    "        config['feature_size']\n",
    "    ).to(device)\n",
    "\n",
    "    decoupled_critic = PredSeparableCritic(\n",
    "        config['feature_size']\n",
    "    ).to(device)\n",
    "\n",
    "    downward_critics = [DownwardCritic(config['feature_size']).to(device) for _ in range(config['num_atoms'])]\n",
    "    downward_optims = [torch.optim.Adam(dc.parameters(), lr=config['critic_lr']) for dc in downward_critics]\n",
    "\n",
    "    feature_optimizer = torch.optim.Adam(feature_network.parameters(), lr=config['feature_lr'])\n",
    "    decoupled_optimizer = torch.optim.Adam(decoupled_critic.parameters(), lr=config['critic_lr'])\n",
    "\n",
    "\n",
    "\n",
    "    for epoch in tqdm.tqdm(range(config['epochs']), desc='Training'):\n",
    "        for batch in trainloader:\n",
    "            \n",
    "            prepared_batch = prepare_batch(batch)\n",
    "\n",
    "            x0 = prepared_batch[:, 0].to(device).float()\n",
    "            x1 = prepared_batch[:, 1].to(device).float()\n",
    "\n",
    "\n",
    "            # update decoupled critic\n",
    "            \n",
    "            v0 = feature_network(x0)\n",
    "            v1 = feature_network(x1) \n",
    "\n",
    "            decoupled_MI = estimate_mutual_information('smile', v0, v1, decoupled_critic, clip=config['clip'])\n",
    "            decoupled_loss = -decoupled_MI\n",
    "            decoupled_optimizer.zero_grad()\n",
    "            decoupled_loss.backward(retain_graph=True)\n",
    "            decoupled_optimizer.step()\n",
    "\n",
    "            # update each downward critic\n",
    "\n",
    "            for i in range(config['num_atoms']):\n",
    "                channel_i = x0[:, i].unsqueeze(1)\n",
    "                downward_MI_i = estimate_mutual_information('smile', v1, channel_i, downward_critics[i], clip=config['clip'])\n",
    "                downward_loss = -downward_MI_i\n",
    "                downward_optims[i].zero_grad()\n",
    "                downward_loss.backward(retain_graph=True)\n",
    "                downward_optims[i].step()\n",
    "                wandb.log({\n",
    "                    f\"downward_MI_{i}\": downward_MI_i\n",
    "                })\n",
    "            \n",
    "            # update feature network   \n",
    "\n",
    "            sum_downward_MI = 0\n",
    "\n",
    "            for i in range(config['num_atoms']):\n",
    "                channel_i = x0[:, i].unsqueeze(1)\n",
    "                sum_downward_MI += estimate_mutual_information('smile', v1, channel_i, downward_critics[i], clip=config['clip'])\n",
    "\n",
    "            decoupled_MI1 = estimate_mutual_information('smile', v0, v1, decoupled_critic, clip=config['clip'])\n",
    "\n",
    "            Psi = decoupled_MI1 - sum_downward_MI\n",
    "            feature_loss = -Psi\n",
    "\n",
    "            if epoch < config['epochs'] - 5:\n",
    "                feature_optimizer.zero_grad()\n",
    "                feature_loss.backward()\n",
    "                feature_optimizer.step()\n",
    "\n",
    "\n",
    "            wandb.log({\n",
    "                \"decoupled_MI\": decoupled_MI1,\n",
    "                \"downward_MI\": sum_downward_MI,\n",
    "                \"Psi\": Psi,\n",
    "            })\n",
    "\n",
    "\n",
    "        \n"
   ]
  },
  {
   "cell_type": "code",
   "execution_count": 14,
   "metadata": {},
   "outputs": [
    {
     "data": {
      "text/html": [
       "Finishing last run (ID:khi95n32) before initializing another..."
      ],
      "text/plain": [
       "<IPython.core.display.HTML object>"
      ]
     },
     "metadata": {},
     "output_type": "display_data"
    },
    {
     "name": "stderr",
     "output_type": "stream",
     "text": [
      "wandb: WARNING Source type is set to 'repo' but some required information is missing from the environment. A job will not be created from this run. See https://docs.wandb.ai/guides/launch/create-job\n"
     ]
    },
    {
     "data": {
      "text/html": [
       "<style>\n",
       "    table.wandb td:nth-child(1) { padding: 0 10px; text-align: left ; width: auto;} td:nth-child(2) {text-align: left ; width: 100%}\n",
       "    .wandb-row { display: flex; flex-direction: row; flex-wrap: wrap; justify-content: flex-start; width: 100% }\n",
       "    .wandb-col { display: flex; flex-direction: column; flex-basis: 100%; flex: 1; padding: 10px; }\n",
       "    </style>\n",
       "<div class=\"wandb-row\"><div class=\"wandb-col\"><h3>Run history:</h3><br/><table class=\"wandb\"><tr><td>Psi</td><td>▅▅▅▅▅▅▅▅▅▅▅▅▅▅▁▅▅▅▅▅▅▅▅▅▆▆▆▆▇▆▆█▆▆▆▆▆▆▆▆</td></tr><tr><td>decoupled_MI</td><td>▁▁▁▁▁▁▁▁▁▁▁▁▂▁▄▁▁▁▁▁▁▁▁▁▁▁▁▁▂▁▁█▁▁▁▁▁▂▁▂</td></tr><tr><td>downward_MI</td><td>▄▄▄▄▄▄▄▄▄▄▄▄▄▄█▄▄▄▄▄▄▄▄▄▃▃▃▃▂▃▃▁▃▃▃▃▃▃▃▃</td></tr></table><br/></div><div class=\"wandb-col\"><h3>Run summary:</h3><br/><table class=\"wandb\"><tr><td>Psi</td><td>0.13671</td></tr><tr><td>decoupled_MI</td><td>0.0008</td></tr><tr><td>downward_MI</td><td>-0.13591</td></tr></table><br/></div></div>"
      ],
      "text/plain": [
       "<IPython.core.display.HTML object>"
      ]
     },
     "metadata": {},
     "output_type": "display_data"
    },
    {
     "data": {
      "text/html": [
       " View run <strong style=\"color:#cdcd00\">worthy-plasma-3</strong> at: <a href='https://wandb.ai/dmcsharry/lots-of-downward-critics-ecog/runs/khi95n32' target=\"_blank\">https://wandb.ai/dmcsharry/lots-of-downward-critics-ecog/runs/khi95n32</a><br/>Synced 5 W&B file(s), 0 media file(s), 0 artifact file(s) and 0 other file(s)"
      ],
      "text/plain": [
       "<IPython.core.display.HTML object>"
      ]
     },
     "metadata": {},
     "output_type": "display_data"
    },
    {
     "data": {
      "text/html": [
       "Find logs at: <code>./wandb/run-20240408_175348-khi95n32/logs</code>"
      ],
      "text/plain": [
       "<IPython.core.display.HTML object>"
      ]
     },
     "metadata": {},
     "output_type": "display_data"
    },
    {
     "data": {
      "text/html": [
       "Successfully finished last run (ID:khi95n32). Initializing new run:<br/>"
      ],
      "text/plain": [
       "<IPython.core.display.HTML object>"
      ]
     },
     "metadata": {},
     "output_type": "display_data"
    },
    {
     "data": {
      "text/html": [
       "wandb version 0.16.6 is available!  To upgrade, please run:\n",
       " $ pip install wandb --upgrade"
      ],
      "text/plain": [
       "<IPython.core.display.HTML object>"
      ]
     },
     "metadata": {},
     "output_type": "display_data"
    },
    {
     "data": {
      "text/html": [
       "Tracking run with wandb version 0.16.4"
      ],
      "text/plain": [
       "<IPython.core.display.HTML object>"
      ]
     },
     "metadata": {},
     "output_type": "display_data"
    },
    {
     "data": {
      "text/html": [
       "Run data is saved locally in <code>/vol/bitbucket/dm2223/info-theory-experiments/wandb/run-20240408_175545-bslnn0sh</code>"
      ],
      "text/plain": [
       "<IPython.core.display.HTML object>"
      ]
     },
     "metadata": {},
     "output_type": "display_data"
    },
    {
     "data": {
      "text/html": [
       "Syncing run <strong><a href='https://wandb.ai/dmcsharry/lots-of-downward-critics-ecog/runs/bslnn0sh' target=\"_blank\">playful-sun-4</a></strong> to <a href='https://wandb.ai/dmcsharry/lots-of-downward-critics-ecog' target=\"_blank\">Weights & Biases</a> (<a href='https://wandb.me/run' target=\"_blank\">docs</a>)<br/>"
      ],
      "text/plain": [
       "<IPython.core.display.HTML object>"
      ]
     },
     "metadata": {},
     "output_type": "display_data"
    },
    {
     "data": {
      "text/html": [
       " View project at <a href='https://wandb.ai/dmcsharry/lots-of-downward-critics-ecog' target=\"_blank\">https://wandb.ai/dmcsharry/lots-of-downward-critics-ecog</a>"
      ],
      "text/plain": [
       "<IPython.core.display.HTML object>"
      ]
     },
     "metadata": {},
     "output_type": "display_data"
    },
    {
     "data": {
      "text/html": [
       " View run at <a href='https://wandb.ai/dmcsharry/lots-of-downward-critics-ecog/runs/bslnn0sh' target=\"_blank\">https://wandb.ai/dmcsharry/lots-of-downward-critics-ecog/runs/bslnn0sh</a>"
      ],
      "text/plain": [
       "<IPython.core.display.HTML object>"
      ]
     },
     "metadata": {},
     "output_type": "display_data"
    },
    {
     "name": "stderr",
     "output_type": "stream",
     "text": [
      "Training: 100%|██████████| 20/20 [26:19<00:00, 78.96s/it]\n"
     ]
    },
    {
     "data": {
      "text/html": [
       "Finishing last run (ID:bslnn0sh) before initializing another..."
      ],
      "text/plain": [
       "<IPython.core.display.HTML object>"
      ]
     },
     "metadata": {},
     "output_type": "display_data"
    },
    {
     "name": "stderr",
     "output_type": "stream",
     "text": [
      "wandb: WARNING Source type is set to 'repo' but some required information is missing from the environment. A job will not be created from this run. See https://docs.wandb.ai/guides/launch/create-job\n"
     ]
    },
    {
     "data": {
      "text/html": [
       "<style>\n",
       "    table.wandb td:nth-child(1) { padding: 0 10px; text-align: left ; width: auto;} td:nth-child(2) {text-align: left ; width: 100%}\n",
       "    .wandb-row { display: flex; flex-direction: row; flex-wrap: wrap; justify-content: flex-start; width: 100% }\n",
       "    .wandb-col { display: flex; flex-direction: column; flex-basis: 100%; flex: 1; padding: 10px; }\n",
       "    </style>\n",
       "<div class=\"wandb-row\"><div class=\"wandb-col\"><h3>Run history:</h3><br/><table class=\"wandb\"><tr><td>Psi</td><td>██████████████████████████████▇▇▇▆▂▅▇▅▅▁</td></tr><tr><td>decoupled_MI</td><td>▁▁▁▂▂▃▂▄▃▃▂▃▅▄▃▄▃▄▃▄▄▄▅▃▄▄▄▄▅▃▆▄▄▂▁▅▄▅▆█</td></tr><tr><td>downward_MI</td><td>▁▁▁▁▁▁▁▁▁▁▁▁▁▁▁▁▁▁▁▁▁▁▁▁▁▁▁▁▁▁▂▂▂▃▆▄▂▄▄█</td></tr><tr><td>downward_MI_0</td><td>▁▁▁▁▁▁▁▁▁▁▁▁▁▁▂▁▁▁▁▁▁▁▂▁▁▁▁▁▂▁▁▁▁▃█▃▂▄▄█</td></tr><tr><td>downward_MI_1</td><td>▁▁▁▁▁▁▁▁▁▁▁▁▁▁▁▁▁▁▁▁▁▁▁▁▁▁▁▁▁▁▁▁▁▃▇▃▂▄▃█</td></tr><tr><td>downward_MI_10</td><td>▁▂▁▁▁▁▁▁▁▁▁▁▁▁▁▁▁▁▁▁▁▁▂▁▁▂▁▁▁▁▁▁▁▆█▃▂▄▃█</td></tr><tr><td>downward_MI_11</td><td>▁▂▁▁▁▁▁▁▁▁▁▁▁▁▁▁▁▁▁▁▁▁▁▁▁▁▁▁▁▁▁▁▁▄█▂▂▃▃▆</td></tr><tr><td>downward_MI_12</td><td>▁▂▁▁▁▁▁▁▁▁▁▁▁▁▂▁▁▁▁▁▁▁▁▁▁▁▁▁▁▁▁▁▂▁▆▂▂▃▃█</td></tr><tr><td>downward_MI_13</td><td>▁▁▁▁▁▁▁▁▁▁▁▁▁▁▁▁▁▁▁▁▁▁▁▁▁▁▁▁▁▁▁▁▁▇█▂▂▃▃█</td></tr><tr><td>downward_MI_14</td><td>▁▁▁▁▁▁▁▁▁▁▁▁▁▁▁▁▁▁▁▁▁▁▁▁▁▁▁▁▁▁▁▁▁▆▇▂▁▃▃█</td></tr><tr><td>downward_MI_15</td><td>▁▂▁▁▁▁▁▁▁▁▁▁▁▁▁▁▁▁▁▁▁▁▁▁▁▁▁▁▁▁▁▁▁▆▇▂▂▃▃█</td></tr><tr><td>downward_MI_16</td><td>▁▁▁▁▁▁▁▁▁▁▁▁▁▁▁▁▁▁▁▁▁▁▁▁▁▁▁▁▁▁▁▁▁▃▇▃▂▄▃█</td></tr><tr><td>downward_MI_17</td><td>▁▁▁▁▁▁▁▁▁▁▁▁▁▁▁▁▁▁▁▁▁▁▁▁▁▁▁▁▁▁▁▁▁▅▆▃▂▄▃█</td></tr><tr><td>downward_MI_18</td><td>▁▂▁▁▁▁▁▁▁▁▁▁▁▂▂▁▁▁▁▁▁▁▂▁▁▂▁▁▁▁▁▁▁▇▆▃▂▄▃█</td></tr><tr><td>downward_MI_19</td><td>▂▂▁▂▂▂▂▂▂▁▂▂▂▂▂▂▂▂▂▂▂▂▂▂▂▂▁▂▂▁▂▂▂▁▄▃▂▄▄█</td></tr><tr><td>downward_MI_2</td><td>▁▂▁▁▁▁▁▁▁▁▁▁▁▁▁▁▁▁▁▁▁▁▂▁▁▂▁▁▁▁▁▁▂▂▇▃▂▄▃█</td></tr><tr><td>downward_MI_20</td><td>▃▃▃▃▃▃▃▃▃▃▃▃▃▃▃▃▃▃▃▃▃▃▃▃▃▃▃▃▃▃▃▃▃▁▇▅▄▆▅█</td></tr><tr><td>downward_MI_21</td><td>▁▁▁▁▁▁▁▁▁▁▁▁▁▁▁▁▁▁▁▁▁▁▂▁▁▁▁▁▁▁▁▂▂▁▇▃▂▄▃█</td></tr><tr><td>downward_MI_22</td><td>▁▁▁▁▁▁▁▁▁▁▁▁▁▁▁▁▁▁▁▁▁▁▁▁▁▁▁▁▁▁▁▁▁▅▇▃▂▄▃█</td></tr><tr><td>downward_MI_23</td><td>▁▁▁▁▁▁▁▁▁▁▁▁▁▁▁▁▁▁▁▁▁▁▁▁▁▁▁▁▁▁▁▁▁▂▅▃▂▄▃█</td></tr><tr><td>downward_MI_24</td><td>▂▂▁▂▂▂▂▂▂▂▂▂▂▂▂▂▂▂▂▂▂▂▂▂▂▂▁▂▂▁▁▁▂▅▆▂▂▄▄█</td></tr><tr><td>downward_MI_25</td><td>▁▁▁▁▁▁▁▁▁▁▁▁▁▁▁▁▁▁▁▁▁▁▂▁▁▂▁▁▁▁▁▁▁▇▇▃▂▄▃█</td></tr><tr><td>downward_MI_26</td><td>▁▁▁▁▁▁▁▁▁▁▁▁▁▁▁▁▁▁▁▁▁▁▁▁▁▁▁▁▁▁▁▁▁▆▇▂▂▄▃█</td></tr><tr><td>downward_MI_27</td><td>▁▁▁▁▁▁▁▁▁▁▁▁▁▁▁▁▁▁▁▁▁▁▂▁▁▂▁▁▁▁▁▁▁▆▇▃▂▄▃█</td></tr><tr><td>downward_MI_28</td><td>▁▁▁▁▁▁▁▁▁▁▁▁▁▁▁▁▁▁▁▁▁▁▁▁▁▁▁▁▁▁▁▁▁▆▇▂▁▄▃█</td></tr><tr><td>downward_MI_29</td><td>▁▁▁▁▁▁▁▁▁▁▁▁▁▁▁▁▁▁▁▁▁▁▁▁▁▁▁▁▁▁▁▂▁▁▇▃▂▄▃█</td></tr><tr><td>downward_MI_3</td><td>▂▂▁▂▂▁▂▂▂▁▂▂▂▂▂▂▁▂▂▂▂▂▂▂▂▂▁▂▂▁▂▂▂▁█▃▂▅▄█</td></tr><tr><td>downward_MI_30</td><td>▁▁▁▁▁▁▁▁▁▁▁▁▁▁▁▁▁▁▁▁▁▁▁▁▁▁▁▁▁▁▁▁▁▅▆▃▂▄▃█</td></tr><tr><td>downward_MI_31</td><td>▂▂▁▂▂▂▂▂▂▂▂▂▂▂▂▂▂▂▂▂▂▂▂▂▂▂▂▂▂▁▂▂▂▁▇▃▂▄▄█</td></tr><tr><td>downward_MI_32</td><td>▁▁▁▁▁▁▁▁▁▁▁▁▁▁▁▁▁▁▁▁▁▁▁▁▁▁▁▁▁▁▁▁▁▃▇▄▂▅▄█</td></tr><tr><td>downward_MI_33</td><td>▁▁▁▁▁▁▁▁▁▁▁▁▁▁▁▁▁▁▁▁▁▁▁▁▁▁▁▁▁▁▁▁▁▃▇▄▂▄▄█</td></tr><tr><td>downward_MI_34</td><td>▂▂▂▂▂▂▂▂▂▂▂▂▂▂▂▂▂▂▂▂▂▂▂▂▂▂▂▂▂▂▂▂▂▁▆▅▃▅▅█</td></tr><tr><td>downward_MI_35</td><td>▁▁▁▁▁▁▁▁▁▁▁▁▁▁▁▁▁▁▁▁▁▁▁▁▁▁▁▁▁▁▁▁▂▂▇▄▃▅▄█</td></tr><tr><td>downward_MI_36</td><td>▁▂▁▁▁▁▁▁▂▁▁▁▂▂▂▁▁▁▂▁▁▂▂▂▁▂▁▁▂▁▂▂▂▁▆▃▂▄▄█</td></tr><tr><td>downward_MI_37</td><td>▃▃▂▃▃▃▃▃▃▃▃▃▂▃▃▃▃▃▃▃▃▃▃▃▃▃▃▃▃▃▃▃▃▁▆▄▃▅▅█</td></tr><tr><td>downward_MI_38</td><td>▃▃▃▃▃▃▃▃▃▃▃▃▃▃▃▃▃▃▃▃▃▃▃▃▃▃▃▃▃▃▃▃▃▁▅▅▄▆▅█</td></tr><tr><td>downward_MI_39</td><td>▁▁▁▁▁▁▁▁▁▁▁▁▁▁▁▁▁▁▁▁▁▁▁▁▁▁▁▁▁▁▁▂▂▂▇▄▂▅▄█</td></tr><tr><td>downward_MI_4</td><td>▁▂▁▁▁▁▁▁▁▁▁▁▁▁▁▁▁▁▁▁▁▁▂▁▁▂▁▁▁▁▁▁▁▅▇▃▂▄▃█</td></tr><tr><td>downward_MI_40</td><td>▁▂▁▁▁▁▁▁▁▁▁▁▁▂▂▁▁▂▂▂▁▂▂▂▁▂▁▁▂▁▁▂▂▃▆▃▂▄▄█</td></tr><tr><td>downward_MI_41</td><td>▁▁▁▁▁▁▁▁▁▁▁▁▁▁▁▁▁▁▁▁▁▁▁▁▁▁▁▁▁▁▁▁▁▆▇▄▂▅▄█</td></tr><tr><td>downward_MI_42</td><td>▁▁▁▁▁▁▁▁▁▁▁▁▁▁▁▁▁▁▁▁▁▁▁▁▁▁▁▁▁▁▁▁▁▆█▄▂▄▄▇</td></tr><tr><td>downward_MI_43</td><td>▁▁▁▁▁▁▁▁▁▁▁▁▁▁▁▁▁▁▁▁▁▁▁▁▁▁▁▁▁▁▁▁▁▅▅▃▂▄▃█</td></tr><tr><td>downward_MI_44</td><td>▁▁▁▁▁▁▁▁▁▁▁▁▁▁▁▁▁▁▁▁▁▁▁▁▁▁▁▁▁▁▁▁▁▃▆▃▂▄▃█</td></tr><tr><td>downward_MI_45</td><td>▁▁▁▁▁▁▁▁▁▁▁▁▁▁▂▁▁▁▁▁▁▁▁▁▁▁▁▁▁▁▁▁▁▄▆▃▂▄▃█</td></tr><tr><td>downward_MI_46</td><td>▁▁▁▁▁▁▁▁▁▁▁▁▁▁▁▁▁▁▁▁▁▁▁▁▁▁▁▁▁▁▂▂▂▁▇▃▂▄▄█</td></tr><tr><td>downward_MI_47</td><td>▁▁▁▁▁▁▁▁▁▁▁▁▁▁▁▁▁▁▁▁▁▁▁▁▁▁▁▁▁▁▁▁▁▁▇▃▂▄▄█</td></tr><tr><td>downward_MI_48</td><td>▁▁▂▁▁▂▁▁▁▁▁▂▁▁▁▁▁▁▁▁▁▁▁▁▂▁▁▂▁▂▄▃▃▅▅▅▄▅▅█</td></tr><tr><td>downward_MI_49</td><td>▁▁▁▁▁▁▁▁▁▁▁▁▁▁▁▁▁▁▁▁▁▁▁▁▁▁▁▁▁▁▂▃▃▇▇▆▄▆▆█</td></tr><tr><td>downward_MI_5</td><td>▁▁▁▁▁▁▁▁▁▁▁▁▁▁▁▁▁▁▁▁▁▁▂▁▁▂▁▁▁▁▁▁▁▅▇▃▂▄▃█</td></tr><tr><td>downward_MI_50</td><td>▄▄▄▄▄▄▄▄▄▄▄▄▄▄▄▄▄▄▄▄▄▄▄▄▅▄▄▅▄▅▆▆▆▁▄▇▆▇▇█</td></tr><tr><td>downward_MI_51</td><td>▁▁▂▁▁▂▁▂▁▁▁▂▁▁▁▁▁▁▁▁▂▁▁▁▂▁▁▂▁▃▆▄▄▁▄▆▄▆▆█</td></tr><tr><td>downward_MI_52</td><td>▂▂▂▂▂▂▂▂▂▂▂▂▂▂▂▂▂▂▂▂▂▂▂▂▂▂▂▂▂▂▃▃▃▁▅▅▄▅▅█</td></tr><tr><td>downward_MI_53</td><td>▁▁▂▁▁▁▁▁▁▁▁▂▁▁▁▁▁▁▁▁▁▁▁▁▁▁▁▂▁▁▂▃▃▅█▆▄▆▆█</td></tr><tr><td>downward_MI_54</td><td>▁▂▂▁▁▂▁▂▂▁▂▂▁▁▁▂▁▁▁▁▂▁▁▂▂▁▂▂▂▂▅▄▄▂▄▇▅▅▆█</td></tr><tr><td>downward_MI_55</td><td>▄▄▄▄▄▅▄▄▄▄▄▄▄▄▄▄▄▄▄▄▄▄▄▄▅▄▄▅▄▅▇▇▆▁▄█▆▆██</td></tr><tr><td>downward_MI_56</td><td>▁▁▁▁▁▁▁▁▁▁▁▁▁▁▁▁▁▁▁▁▁▁▁▁▁▁▁▁▁▁▂▂▂▅▇▄▃▅▄█</td></tr><tr><td>downward_MI_57</td><td>▁▁▁▁▁▁▁▁▁▁▁▁▁▁▁▁▁▁▁▁▁▁▁▁▁▁▁▁▁▁▁▂▂▆▇▄▃▅▄█</td></tr><tr><td>downward_MI_58</td><td>▁▁▁▁▁▁▁▁▁▁▁▁▁▁▁▁▁▁▁▁▁▁▁▁▁▁▁▁▁▁▂▂▂██▅▄▅▅▆</td></tr><tr><td>downward_MI_59</td><td>▃▄▄▃▃▄▃▃▃▃▄▄▃▃▃▄▃▃▃▃▄▃▃▃▄▃▄▄▃▄▅▅▅▁▅▇▅▆▇█</td></tr><tr><td>downward_MI_6</td><td>▁▂▁▁▁▁▁▁▂▁▁▁▁▁▂▁▁▂▂▂▁▂▂▂▁▂▁▁▂▁▁▁▁▄▅▂▂▄▃█</td></tr><tr><td>downward_MI_60</td><td>▁▁▁▁▁▁▁▁▁▁▁▁▁▁▁▁▁▁▁▁▁▁▁▁▁▁▁▁▁▁▁▁▁▂█▄▃▅▄▆</td></tr><tr><td>downward_MI_61</td><td>▁▁▁▁▁▁▁▁▁▁▁▁▁▁▁▁▁▁▁▁▁▁▁▁▁▁▁▁▁▁▁▁▂▄▆▄▃▅▄█</td></tr><tr><td>downward_MI_62</td><td>▁▁▁▁▁▁▁▁▁▁▁▁▁▁▁▁▁▁▁▁▁▁▁▁▁▁▁▁▁▁▂▂▂▇▇▅▃▄▅█</td></tr><tr><td>downward_MI_63</td><td>▅▅▅▅▅▅▅▅▅▅▅▅▅▅▅▅▅▅▅▅▅▅▅▅▅▅▅▅▅▅▆▆▆▁▄▆▆▇▆█</td></tr><tr><td>downward_MI_7</td><td>▁▁▁▁▁▁▁▁▁▁▁▁▁▁▁▁▁▁▁▁▁▁▂▁▁▂▁▁▁▁▂▂▂▃█▃▂▄▃█</td></tr><tr><td>downward_MI_8</td><td>▁▁▁▁▁▁▁▁▁▁▁▁▁▁▁▁▁▁▁▁▁▁▁▁▁▂▁▁▁▁▁▁▁▅▇▂▂▃▃█</td></tr><tr><td>downward_MI_9</td><td>▁▁▁▁▁▁▁▁▁▁▁▁▁▁▁▁▁▁▁▁▁▁▁▁▁▁▁▁▁▁▁▁▁▃█▂▂▄▃█</td></tr></table><br/></div><div class=\"wandb-col\"><h3>Run summary:</h3><br/><table class=\"wandb\"><tr><td>Psi</td><td>-6.0941</td></tr><tr><td>decoupled_MI</td><td>0.26766</td></tr><tr><td>downward_MI</td><td>6.36176</td></tr><tr><td>downward_MI_0</td><td>0.06868</td></tr><tr><td>downward_MI_1</td><td>0.06699</td></tr><tr><td>downward_MI_10</td><td>0.08066</td></tr><tr><td>downward_MI_11</td><td>0.07315</td></tr><tr><td>downward_MI_12</td><td>0.06568</td></tr><tr><td>downward_MI_13</td><td>0.07</td></tr><tr><td>downward_MI_14</td><td>0.0659</td></tr><tr><td>downward_MI_15</td><td>0.07003</td></tr><tr><td>downward_MI_16</td><td>0.0783</td></tr><tr><td>downward_MI_17</td><td>0.07536</td></tr><tr><td>downward_MI_18</td><td>0.08769</td></tr><tr><td>downward_MI_19</td><td>0.08289</td></tr><tr><td>downward_MI_2</td><td>0.07777</td></tr><tr><td>downward_MI_20</td><td>0.07458</td></tr><tr><td>downward_MI_21</td><td>0.07729</td></tr><tr><td>downward_MI_22</td><td>0.08413</td></tr><tr><td>downward_MI_23</td><td>0.07765</td></tr><tr><td>downward_MI_24</td><td>0.04696</td></tr><tr><td>downward_MI_25</td><td>0.07466</td></tr><tr><td>downward_MI_26</td><td>0.07361</td></tr><tr><td>downward_MI_27</td><td>0.08174</td></tr><tr><td>downward_MI_28</td><td>0.05774</td></tr><tr><td>downward_MI_29</td><td>0.07606</td></tr><tr><td>downward_MI_3</td><td>0.0777</td></tr><tr><td>downward_MI_30</td><td>0.06977</td></tr><tr><td>downward_MI_31</td><td>0.08841</td></tr><tr><td>downward_MI_32</td><td>0.09356</td></tr><tr><td>downward_MI_33</td><td>0.10646</td></tr><tr><td>downward_MI_34</td><td>0.11469</td></tr><tr><td>downward_MI_35</td><td>0.12411</td></tr><tr><td>downward_MI_36</td><td>0.10201</td></tr><tr><td>downward_MI_37</td><td>0.10275</td></tr><tr><td>downward_MI_38</td><td>0.09683</td></tr><tr><td>downward_MI_39</td><td>0.10589</td></tr><tr><td>downward_MI_4</td><td>0.07271</td></tr><tr><td>downward_MI_40</td><td>0.0919</td></tr><tr><td>downward_MI_41</td><td>0.08655</td></tr><tr><td>downward_MI_42</td><td>0.09567</td></tr><tr><td>downward_MI_43</td><td>0.09291</td></tr><tr><td>downward_MI_44</td><td>0.07541</td></tr><tr><td>downward_MI_45</td><td>0.09148</td></tr><tr><td>downward_MI_46</td><td>0.09473</td></tr><tr><td>downward_MI_47</td><td>0.09976</td></tr><tr><td>downward_MI_48</td><td>0.14529</td></tr><tr><td>downward_MI_49</td><td>0.14951</td></tr><tr><td>downward_MI_5</td><td>0.07561</td></tr><tr><td>downward_MI_50</td><td>0.18622</td></tr><tr><td>downward_MI_51</td><td>0.20888</td></tr><tr><td>downward_MI_52</td><td>0.13462</td></tr><tr><td>downward_MI_53</td><td>0.15382</td></tr><tr><td>downward_MI_54</td><td>0.18831</td></tr><tr><td>downward_MI_55</td><td>0.19037</td></tr><tr><td>downward_MI_56</td><td>0.11547</td></tr><tr><td>downward_MI_57</td><td>0.12928</td></tr><tr><td>downward_MI_58</td><td>0.1361</td></tr><tr><td>downward_MI_59</td><td>0.16941</td></tr><tr><td>downward_MI_6</td><td>0.07538</td></tr><tr><td>downward_MI_60</td><td>0.10542</td></tr><tr><td>downward_MI_61</td><td>0.12295</td></tr><tr><td>downward_MI_62</td><td>0.13621</td></tr><tr><td>downward_MI_63</td><td>0.12471</td></tr><tr><td>downward_MI_7</td><td>0.08524</td></tr><tr><td>downward_MI_8</td><td>0.07167</td></tr><tr><td>downward_MI_9</td><td>0.06956</td></tr></table><br/></div></div>"
      ],
      "text/plain": [
       "<IPython.core.display.HTML object>"
      ]
     },
     "metadata": {},
     "output_type": "display_data"
    },
    {
     "data": {
      "text/html": [
       " View run <strong style=\"color:#cdcd00\">playful-sun-4</strong> at: <a href='https://wandb.ai/dmcsharry/lots-of-downward-critics-ecog/runs/bslnn0sh' target=\"_blank\">https://wandb.ai/dmcsharry/lots-of-downward-critics-ecog/runs/bslnn0sh</a><br/>Synced 5 W&B file(s), 0 media file(s), 0 artifact file(s) and 0 other file(s)"
      ],
      "text/plain": [
       "<IPython.core.display.HTML object>"
      ]
     },
     "metadata": {},
     "output_type": "display_data"
    },
    {
     "data": {
      "text/html": [
       "Find logs at: <code>./wandb/run-20240408_175545-bslnn0sh/logs</code>"
      ],
      "text/plain": [
       "<IPython.core.display.HTML object>"
      ]
     },
     "metadata": {},
     "output_type": "display_data"
    },
    {
     "data": {
      "text/html": [
       "Successfully finished last run (ID:bslnn0sh). Initializing new run:<br/>"
      ],
      "text/plain": [
       "<IPython.core.display.HTML object>"
      ]
     },
     "metadata": {},
     "output_type": "display_data"
    },
    {
     "data": {
      "text/html": [
       "wandb version 0.16.6 is available!  To upgrade, please run:\n",
       " $ pip install wandb --upgrade"
      ],
      "text/plain": [
       "<IPython.core.display.HTML object>"
      ]
     },
     "metadata": {},
     "output_type": "display_data"
    },
    {
     "data": {
      "text/html": [
       "Tracking run with wandb version 0.16.4"
      ],
      "text/plain": [
       "<IPython.core.display.HTML object>"
      ]
     },
     "metadata": {},
     "output_type": "display_data"
    },
    {
     "data": {
      "text/html": [
       "Run data is saved locally in <code>/vol/bitbucket/dm2223/info-theory-experiments/wandb/run-20240408_182210-gk7rswhm</code>"
      ],
      "text/plain": [
       "<IPython.core.display.HTML object>"
      ]
     },
     "metadata": {},
     "output_type": "display_data"
    },
    {
     "data": {
      "text/html": [
       "Syncing run <strong><a href='https://wandb.ai/dmcsharry/lots-of-downward-critics-ecog/runs/gk7rswhm' target=\"_blank\">vibrant-flower-5</a></strong> to <a href='https://wandb.ai/dmcsharry/lots-of-downward-critics-ecog' target=\"_blank\">Weights & Biases</a> (<a href='https://wandb.me/run' target=\"_blank\">docs</a>)<br/>"
      ],
      "text/plain": [
       "<IPython.core.display.HTML object>"
      ]
     },
     "metadata": {},
     "output_type": "display_data"
    },
    {
     "data": {
      "text/html": [
       " View project at <a href='https://wandb.ai/dmcsharry/lots-of-downward-critics-ecog' target=\"_blank\">https://wandb.ai/dmcsharry/lots-of-downward-critics-ecog</a>"
      ],
      "text/plain": [
       "<IPython.core.display.HTML object>"
      ]
     },
     "metadata": {},
     "output_type": "display_data"
    },
    {
     "data": {
      "text/html": [
       " View run at <a href='https://wandb.ai/dmcsharry/lots-of-downward-critics-ecog/runs/gk7rswhm' target=\"_blank\">https://wandb.ai/dmcsharry/lots-of-downward-critics-ecog/runs/gk7rswhm</a>"
      ],
      "text/plain": [
       "<IPython.core.display.HTML object>"
      ]
     },
     "metadata": {},
     "output_type": "display_data"
    },
    {
     "name": "stderr",
     "output_type": "stream",
     "text": [
      "Training: 100%|██████████| 20/20 [26:22<00:00, 79.11s/it]\n"
     ]
    },
    {
     "data": {
      "text/html": [
       "Finishing last run (ID:gk7rswhm) before initializing another..."
      ],
      "text/plain": [
       "<IPython.core.display.HTML object>"
      ]
     },
     "metadata": {},
     "output_type": "display_data"
    },
    {
     "name": "stderr",
     "output_type": "stream",
     "text": [
      "wandb: WARNING Source type is set to 'repo' but some required information is missing from the environment. A job will not be created from this run. See https://docs.wandb.ai/guides/launch/create-job\n"
     ]
    },
    {
     "data": {
      "text/html": [
       "<style>\n",
       "    table.wandb td:nth-child(1) { padding: 0 10px; text-align: left ; width: auto;} td:nth-child(2) {text-align: left ; width: 100%}\n",
       "    .wandb-row { display: flex; flex-direction: row; flex-wrap: wrap; justify-content: flex-start; width: 100% }\n",
       "    .wandb-col { display: flex; flex-direction: column; flex-basis: 100%; flex: 1; padding: 10px; }\n",
       "    </style>\n",
       "<div class=\"wandb-row\"><div class=\"wandb-col\"><h3>Run history:</h3><br/><table class=\"wandb\"><tr><td>Psi</td><td>█▇▇███████████████████████▇██▇██▇▁▃▇▇█▇▂</td></tr><tr><td>decoupled_MI</td><td>▂▂▂▂▂▂▂▂▂▂▂▃▃▃▃▄▄▄▄▄▄▄▅▄▅▅▁▅▅▂▅▄▃▄█▅▅▅▅▅</td></tr><tr><td>downward_MI</td><td>▁▁▂▁▁▁▁▁▁▁▁▁▁▁▁▁▁▁▁▁▁▁▁▁▁▁▁▁▁▂▂▁▂█▆▂▂▁▂▇</td></tr><tr><td>downward_MI_0</td><td>▁▂▂▁▁▁▁▁▁▁▁▁▁▁▁▁▁▁▁▁▁▁▁▁▁▁▁▁▁▁▁▁▁▆▅▁▁▁▁█</td></tr><tr><td>downward_MI_1</td><td>▁▂▂▁▁▁▁▁▁▁▁▁▂▁▁▁▁▁▁▁▁▁▁▁▁▁▁▁▁▂▁▂▂█▅▂▃▁▃▇</td></tr><tr><td>downward_MI_10</td><td>▁▂▂▁▁▁▁▁▁▁▁▁▂▁▁▂▁▁▂▁▁▂▁▂▁▂▁▂▁▂▁▂▃▅▄▂▃▁▃█</td></tr><tr><td>downward_MI_11</td><td>▁▁▂▁▁▁▁▁▁▁▁▁▁▁▁▁▁▁▁▁▁▁▁▁▁▁▁▁▁▂▁▁▂█▆▂▂▁▂▅</td></tr><tr><td>downward_MI_12</td><td>▁▂▂▁▁▁▁▁▁▁▁▁▁▁▁▁▁▁▁▁▁▁▁▁▁▁▁▂▁▂▁▂▂▆▅▂▃▂▃█</td></tr><tr><td>downward_MI_13</td><td>▁▂▂▁▁▁▁▁▁▁▁▁▁▁▁▁▁▁▁▁▁▁▁▁▁▁▁▂▁▂▁▂▃█▆▂▃▂▃▇</td></tr><tr><td>downward_MI_14</td><td>▂▂▃▂▂▂▂▂▂▂▂▂▂▂▂▂▂▂▂▂▂▂▂▂▂▂▁▂▂▃▂▃▃▇▅▃▄▂▄█</td></tr><tr><td>downward_MI_15</td><td>▁▂▂▁▁▁▁▁▁▂▂▂▂▂▁▂▁▂▂▁▂▃▂▃▂▂▁▃▂▃▂▄▅█▆▄▆▁▆█</td></tr><tr><td>downward_MI_16</td><td>▁▁▂▁▁▁▁▁▁▁▁▁▁▁▁▁▁▁▁▁▁▁▁▁▁▁▁▁▁▁▁▁▁█▇▁▁▁▁▄</td></tr><tr><td>downward_MI_17</td><td>▁▁▂▁▁▁▁▁▁▁▁▁▁▁▁▁▁▁▁▁▁▁▁▁▁▁▁▁▁▁▁▁▁▇▆▁▁▁▁█</td></tr><tr><td>downward_MI_18</td><td>▁▁▁▁▁▁▁▁▁▁▁▁▁▁▁▁▁▁▁▁▁▁▁▁▁▁▁▁▁▁▁▁▁█▇▁▁▁▁▅</td></tr><tr><td>downward_MI_19</td><td>▁▁▂▁▁▁▁▁▁▁▁▁▁▁▁▁▁▁▁▁▁▁▁▁▁▁▁▁▁▁▁▁▁█▇▁▁▁▁█</td></tr><tr><td>downward_MI_2</td><td>▁▁▂▁▁▁▁▁▁▁▁▁▁▁▁▁▁▁▁▁▁▁▁▁▁▁▁▁▁▂▁▂▂█▆▂▂▁▂▆</td></tr><tr><td>downward_MI_20</td><td>▁▁▂▁▁▁▁▁▁▁▁▁▁▁▁▁▁▁▁▁▁▁▁▁▁▁▁▁▁▁▁▁▁█▇▁▁▁▁▇</td></tr><tr><td>downward_MI_21</td><td>▁▁▂▁▁▁▁▁▁▁▁▁▁▁▁▁▁▁▁▁▁▁▁▁▁▁▁▁▁▁▁▁▁▆▆▁▁▁▁█</td></tr><tr><td>downward_MI_22</td><td>▁▁▂▁▁▁▁▁▁▁▁▁▁▁▁▁▁▁▁▁▁▁▁▁▁▁▁▁▁▁▁▁▁█▆▁▁▁▁▅</td></tr><tr><td>downward_MI_23</td><td>▁▁▂▁▁▁▁▁▁▁▁▁▁▁▁▁▁▁▁▁▁▁▁▁▁▁▁▁▁▁▁▁▁▇▅▁▁▁▁█</td></tr><tr><td>downward_MI_24</td><td>▁▁▂▁▁▁▁▁▁▁▁▁▁▁▁▁▁▁▁▁▁▁▁▁▁▁▁▁▁▁▁▁▁█▇▁▁▁▁█</td></tr><tr><td>downward_MI_25</td><td>▁▁▁▁▁▁▁▁▁▁▁▁▁▁▁▁▁▁▁▁▁▁▁▁▁▁▁▁▁▁▁▁▁▆▅▁▁▁▁█</td></tr><tr><td>downward_MI_26</td><td>▁▁▂▁▁▁▁▁▁▁▁▁▁▁▁▁▁▁▁▁▁▁▁▁▁▁▁▁▁▂▁▁▁█▆▁▁▁▁▆</td></tr><tr><td>downward_MI_27</td><td>▁▂▂▁▁▁▁▁▁▁▁▁▁▁▁▁▁▁▁▁▁▁▁▁▁▁▁▁▁▂▁▁▁█▆▁▁▁▁▆</td></tr><tr><td>downward_MI_28</td><td>▁▂▂▁▁▁▁▁▁▁▁▁▁▁▁▁▁▁▁▁▁▁▁▁▁▁▁▁▁▁▁▁▁█▇▁▁▁▁▆</td></tr><tr><td>downward_MI_29</td><td>▁▁▂▁▁▁▁▁▁▁▁▁▁▁▁▁▁▁▁▁▁▁▁▁▁▁▁▁▁▁▁▁▁█▇▁▁▁▁█</td></tr><tr><td>downward_MI_3</td><td>▁▁▂▁▁▁▁▁▁▁▁▁▁▁▁▁▁▁▁▁▁▁▁▁▁▁▁▁▁▂▁▂▂█▆▁▂▁▂█</td></tr><tr><td>downward_MI_30</td><td>▁▁▂▁▁▁▁▁▁▁▁▁▁▁▁▁▁▁▁▁▁▁▁▁▁▁▁▁▁▂▁▁▁█▅▁▁▁▁▆</td></tr><tr><td>downward_MI_31</td><td>▁▂▂▁▁▁▁▁▁▁▁▁▁▁▁▁▁▁▁▁▁▁▁▁▁▁▁▁▁▂▁▂▂█▆▁▂▁▁▆</td></tr><tr><td>downward_MI_32</td><td>▁▁▂▁▁▁▁▁▁▁▁▁▁▁▁▁▁▁▁▁▁▁▁▁▁▁▂▁▂▁▂▁▁█▆▂▁▁▁█</td></tr><tr><td>downward_MI_33</td><td>▁▁▁▁▁▁▁▁▁▁▁▁▁▁▁▁▁▁▁▁▁▁▁▁▁▁▁▁▁▁▁▁▁█▆▁▁▁▁▇</td></tr><tr><td>downward_MI_34</td><td>▁▁▁▁▁▁▁▁▁▁▁▁▁▁▁▁▁▁▁▁▁▁▁▁▁▁▁▁▁▁▁▁▁█▇▁▁▁▁▅</td></tr><tr><td>downward_MI_35</td><td>▁▂▂▁▁▁▁▁▁▁▁▁▁▁▁▁▁▁▁▁▁▁▁▁▁▁▂▁▂▁▂▁▁█▆▂▁▁▁▇</td></tr><tr><td>downward_MI_36</td><td>▁▁▂▁▁▁▁▁▁▁▁▁▁▁▁▁▁▁▁▁▁▁▁▁▁▁▁▁▁▁▁▁▁█▇▁▁▁▁▅</td></tr><tr><td>downward_MI_37</td><td>▁▁▂▁▁▁▁▁▁▁▁▁▁▁▁▁▁▁▁▁▁▁▁▁▁▁▂▁▁▁▁▁▁▆▆▁▁▁▁█</td></tr><tr><td>downward_MI_38</td><td>▁▂▂▁▁▁▁▁▁▁▁▁▁▁▁▁▁▁▁▁▁▁▁▁▁▁▁▁▁▁▁▁▁█▇▁▁▁▁▇</td></tr><tr><td>downward_MI_39</td><td>▁▁▁▁▁▁▁▁▁▁▁▁▁▁▁▁▁▁▁▁▁▁▁▁▁▁▂▁▂▁▂▁▁▆▅▁▁▁▁█</td></tr><tr><td>downward_MI_4</td><td>▂▂▂▂▂▂▂▂▂▂▂▂▂▂▂▂▂▂▂▂▂▂▂▂▂▂▁▂▁▂▁▂▃▆▅▃▃▂▃█</td></tr><tr><td>downward_MI_40</td><td>▁▁▂▁▁▁▁▁▁▁▁▁▁▁▁▁▁▁▁▁▁▁▁▁▁▁▁▁▁▁▁▁▁█▇▁▁▁▁▅</td></tr><tr><td>downward_MI_41</td><td>▁▁▂▁▁▁▁▁▁▁▁▁▁▁▁▁▁▁▁▁▁▁▁▁▁▁▁▁▁▁▁▁▁█▇▁▁▁▁▆</td></tr><tr><td>downward_MI_42</td><td>▁▁▂▁▁▁▁▁▁▁▁▁▁▁▁▁▁▁▁▁▁▁▁▁▁▁▁▁▁▁▁▁▁█▇▁▁▁▁▅</td></tr><tr><td>downward_MI_43</td><td>▁▁▂▁▁▁▁▁▁▁▁▁▁▁▁▁▁▁▁▁▁▁▁▁▁▁▁▁▁▁▁▁▁█▇▁▁▁▁▅</td></tr><tr><td>downward_MI_44</td><td>▁▁▂▁▁▁▁▁▁▁▁▁▁▁▁▁▁▁▁▁▁▁▁▁▁▁▁▁▁▁▁▁▁█▆▁▁▁▁█</td></tr><tr><td>downward_MI_45</td><td>▁▂▂▁▁▁▁▁▁▁▁▁▁▁▁▁▁▁▁▁▁▁▁▁▁▁▁▁▁▁▁▁▁█▆▁▁▁▁█</td></tr><tr><td>downward_MI_46</td><td>▁▁▁▁▁▁▁▁▁▁▁▁▁▁▁▁▁▁▁▁▁▁▁▁▁▁▁▁▁▁▁▁▁█▇▁▁▁▁█</td></tr><tr><td>downward_MI_47</td><td>▁▁▂▁▁▁▁▁▁▁▁▁▁▁▁▁▁▁▁▁▁▁▁▁▁▁▁▁▁▁▁▁▁█▆▁▁▁▁█</td></tr><tr><td>downward_MI_48</td><td>▃▄▅▃▃▃▃▃▃▃▃▃▃▃▄▄▄▄▄▄▃▄▄▄▄▄▄▅▅▅▆▄▄▁█▅▅▅▄█</td></tr><tr><td>downward_MI_49</td><td>▁▃▄▁▁▁▁▁▁▁▁▁▁▁▂▁▂▂▁▃▂▁▃▂▅▄▆▅▅▅█▂▁▆▆▆▅▄▁▆</td></tr><tr><td>downward_MI_5</td><td>▂▂▂▂▂▂▂▂▂▂▂▂▂▂▂▂▁▂▂▂▂▂▂▂▂▂▁▂▁▂▁▂▂▅▅▂▃▂▃█</td></tr><tr><td>downward_MI_50</td><td>▁▂▃▁▁▁▁▁▁▁▁▁▁▁▁▁▂▂▁▄▁▂▃▂▄▃▇▆█▆█▂▃▅▃▅▄▄▂▅</td></tr><tr><td>downward_MI_51</td><td>▅▅▆▅▅▅▅▅▅▅▅▅▅▅▆▅▆▆▅▆▅▆▆▆▇▇▆▇█▇█▆▇▅▁▇▇█▆▄</td></tr><tr><td>downward_MI_52</td><td>▁▂▂▁▁▁▁▁▁▁▁▁▁▁▁▁▁▁▁▂▁▁▂▁▂▃▃▂▃▃▄▂▂█▆▃▃▂▂▅</td></tr><tr><td>downward_MI_53</td><td>▁▂▃▁▁▁▁▁▁▁▂▁▁▁▂▁▃▄▁▂▁▂▃▂▃▄▆▅▆▅█▃▃▅▄▇▆▄▃▁</td></tr><tr><td>downward_MI_54</td><td>▄▄▅▄▄▄▄▄▄▄▄▄▄▄▄▄▄▅▄▅▄▄▄▄▅▆█▇▇▇█▄▅▄▁▇▆▆▅▁</td></tr><tr><td>downward_MI_55</td><td>▄▅▅▄▄▄▄▄▄▄▄▄▄▄▅▅▅▆▄▆▅▅▅▅▆▆▆▆▆▆█▅▆▂▁▇▆▆▆▅</td></tr><tr><td>downward_MI_56</td><td>▁▁▂▁▁▁▁▁▁▁▁▁▁▁▁▁▂▂▁▁▁▁▂▁▂▂▂▂▂▁▃▂▁▆█▂▂▂▂▇</td></tr><tr><td>downward_MI_57</td><td>▁▁▂▁▁▁▁▁▁▁▁▁▁▁▁▁▁▁▁▁▁▁▁▁▁▁▂▁▂▂▂▁▁██▂▂▁▁▇</td></tr><tr><td>downward_MI_58</td><td>▁▁▁▁▁▁▁▁▁▁▁▁▁▁▁▁▁▁▁▁▁▁▁▁▁▁▁▁▁▁▁▁▁█▇▂▂▁▁▅</td></tr><tr><td>downward_MI_59</td><td>▁▂▂▁▁▁▁▁▁▁▁▁▁▁▁▁▁▁▁▁▁▁▁▁▁▁▂▁▂▁▂▁▂▃█▃▂▂▂▇</td></tr><tr><td>downward_MI_6</td><td>▁▁▂▁▁▁▁▁▁▁▁▁▁▁▁▁▁▁▁▁▁▁▁▁▁▁▁▁▁▂▁▂▂█▅▁▂▁▂▃</td></tr><tr><td>downward_MI_60</td><td>▁▂▂▁▁▁▁▁▁▁▁▁▁▁▁▁▂▁▁▁▁▁▂▁▁▁▂▂▁▁▃▁▁██▂▂▁▂▆</td></tr><tr><td>downward_MI_61</td><td>▁▁▁▁▁▁▁▁▁▁▁▁▁▁▁▁▁▁▁▁▁▁▁▁▁▁▁▁▁▁▁▁▁█▆▁▁▁▁▇</td></tr><tr><td>downward_MI_62</td><td>▁▁▂▁▁▁▁▁▁▁▁▁▁▁▁▁▁▁▁▂▁▁▁▁▂▁▂▂▂▂▃▁▁█▇▂▂▁▂▅</td></tr><tr><td>downward_MI_63</td><td>▃▃▇▃▃▃▃▄▃▄▅▄▃▄▅▆█▅▄▇▄▄▅▄▅▃█▅▆▆▅▄▄▁▂▅▅▆▄▆</td></tr><tr><td>downward_MI_7</td><td>▁▂▂▁▁▁▁▁▁▁▁▁▁▁▁▁▁▁▁▁▁▁▁▁▁▁▁▁▁▂▁▂▂█▄▂▂▁▂▆</td></tr><tr><td>downward_MI_8</td><td>▁▂▂▁▁▁▁▁▁▂▁▂▂▁▁▂▁▁▂▁▁▂▁▂▂▂▁▂▁▂▁▂▂▆▆▂▂▂▃█</td></tr><tr><td>downward_MI_9</td><td>▂▃▃▁▂▂▂▂▂▂▂▂▂▂▁▂▁▂▂▁▂▂▁▂▂▂▁▂▁▂▁▂▃▇▇▂▃▂▄█</td></tr></table><br/></div><div class=\"wandb-col\"><h3>Run summary:</h3><br/><table class=\"wandb\"><tr><td>Psi</td><td>-0.20353</td></tr><tr><td>decoupled_MI</td><td>0.26136</td></tr><tr><td>downward_MI</td><td>0.46489</td></tr><tr><td>downward_MI_0</td><td>0.00249</td></tr><tr><td>downward_MI_1</td><td>0.04153</td></tr><tr><td>downward_MI_10</td><td>0.04181</td></tr><tr><td>downward_MI_11</td><td>0.02698</td></tr><tr><td>downward_MI_12</td><td>0.02978</td></tr><tr><td>downward_MI_13</td><td>0.02809</td></tr><tr><td>downward_MI_14</td><td>0.05396</td></tr><tr><td>downward_MI_15</td><td>0.07236</td></tr><tr><td>downward_MI_16</td><td>0.00088</td></tr><tr><td>downward_MI_17</td><td>-0.00046</td></tr><tr><td>downward_MI_18</td><td>6e-05</td></tr><tr><td>downward_MI_19</td><td>-0.00102</td></tr><tr><td>downward_MI_2</td><td>0.0171</td></tr><tr><td>downward_MI_20</td><td>-0.00022</td></tr><tr><td>downward_MI_21</td><td>-0.00063</td></tr><tr><td>downward_MI_22</td><td>-4e-05</td></tr><tr><td>downward_MI_23</td><td>-0.00018</td></tr><tr><td>downward_MI_24</td><td>0.00031</td></tr><tr><td>downward_MI_25</td><td>0.00018</td></tr><tr><td>downward_MI_26</td><td>0.00494</td></tr><tr><td>downward_MI_27</td><td>0.00084</td></tr><tr><td>downward_MI_28</td><td>0.00526</td></tr><tr><td>downward_MI_29</td><td>0.00138</td></tr><tr><td>downward_MI_3</td><td>0.0211</td></tr><tr><td>downward_MI_30</td><td>0.01198</td></tr><tr><td>downward_MI_31</td><td>0.00524</td></tr><tr><td>downward_MI_32</td><td>-0.00426</td></tr><tr><td>downward_MI_33</td><td>0.0002</td></tr><tr><td>downward_MI_34</td><td>-0.00121</td></tr><tr><td>downward_MI_35</td><td>-0.00303</td></tr><tr><td>downward_MI_36</td><td>0.0</td></tr><tr><td>downward_MI_37</td><td>-0.00231</td></tr><tr><td>downward_MI_38</td><td>-0.00028</td></tr><tr><td>downward_MI_39</td><td>-0.00258</td></tr><tr><td>downward_MI_4</td><td>0.04165</td></tr><tr><td>downward_MI_40</td><td>0.00029</td></tr><tr><td>downward_MI_41</td><td>-0.00068</td></tr><tr><td>downward_MI_42</td><td>-0.0</td></tr><tr><td>downward_MI_43</td><td>0.00013</td></tr><tr><td>downward_MI_44</td><td>-0.00135</td></tr><tr><td>downward_MI_45</td><td>-0.00046</td></tr><tr><td>downward_MI_46</td><td>-3e-05</td></tr><tr><td>downward_MI_47</td><td>-0.00081</td></tr><tr><td>downward_MI_48</td><td>-0.00461</td></tr><tr><td>downward_MI_49</td><td>-0.00961</td></tr><tr><td>downward_MI_5</td><td>0.03384</td></tr><tr><td>downward_MI_50</td><td>-0.01386</td></tr><tr><td>downward_MI_51</td><td>-0.0139</td></tr><tr><td>downward_MI_52</td><td>0.00282</td></tr><tr><td>downward_MI_53</td><td>-0.00028</td></tr><tr><td>downward_MI_54</td><td>-0.00698</td></tr><tr><td>downward_MI_55</td><td>-0.00881</td></tr><tr><td>downward_MI_56</td><td>-0.0003</td></tr><tr><td>downward_MI_57</td><td>0.00422</td></tr><tr><td>downward_MI_58</td><td>-0.00184</td></tr><tr><td>downward_MI_59</td><td>-0.00095</td></tr><tr><td>downward_MI_6</td><td>0.01121</td></tr><tr><td>downward_MI_60</td><td>0.00165</td></tr><tr><td>downward_MI_61</td><td>-0.00159</td></tr><tr><td>downward_MI_62</td><td>-0.0008</td></tr><tr><td>downward_MI_63</td><td>-0.00989</td></tr><tr><td>downward_MI_7</td><td>0.0245</td></tr><tr><td>downward_MI_8</td><td>0.028</td></tr><tr><td>downward_MI_9</td><td>0.02506</td></tr></table><br/></div></div>"
      ],
      "text/plain": [
       "<IPython.core.display.HTML object>"
      ]
     },
     "metadata": {},
     "output_type": "display_data"
    },
    {
     "data": {
      "text/html": [
       " View run <strong style=\"color:#cdcd00\">vibrant-flower-5</strong> at: <a href='https://wandb.ai/dmcsharry/lots-of-downward-critics-ecog/runs/gk7rswhm' target=\"_blank\">https://wandb.ai/dmcsharry/lots-of-downward-critics-ecog/runs/gk7rswhm</a><br/>Synced 5 W&B file(s), 0 media file(s), 0 artifact file(s) and 0 other file(s)"
      ],
      "text/plain": [
       "<IPython.core.display.HTML object>"
      ]
     },
     "metadata": {},
     "output_type": "display_data"
    },
    {
     "data": {
      "text/html": [
       "Find logs at: <code>./wandb/run-20240408_182210-gk7rswhm/logs</code>"
      ],
      "text/plain": [
       "<IPython.core.display.HTML object>"
      ]
     },
     "metadata": {},
     "output_type": "display_data"
    },
    {
     "data": {
      "text/html": [
       "Successfully finished last run (ID:gk7rswhm). Initializing new run:<br/>"
      ],
      "text/plain": [
       "<IPython.core.display.HTML object>"
      ]
     },
     "metadata": {},
     "output_type": "display_data"
    },
    {
     "data": {
      "text/html": [
       "wandb version 0.16.6 is available!  To upgrade, please run:\n",
       " $ pip install wandb --upgrade"
      ],
      "text/plain": [
       "<IPython.core.display.HTML object>"
      ]
     },
     "metadata": {},
     "output_type": "display_data"
    },
    {
     "data": {
      "text/html": [
       "Tracking run with wandb version 0.16.4"
      ],
      "text/plain": [
       "<IPython.core.display.HTML object>"
      ]
     },
     "metadata": {},
     "output_type": "display_data"
    },
    {
     "data": {
      "text/html": [
       "Run data is saved locally in <code>/vol/bitbucket/dm2223/info-theory-experiments/wandb/run-20240408_184901-tjetehhz</code>"
      ],
      "text/plain": [
       "<IPython.core.display.HTML object>"
      ]
     },
     "metadata": {},
     "output_type": "display_data"
    },
    {
     "data": {
      "text/html": [
       "Syncing run <strong><a href='https://wandb.ai/dmcsharry/lots-of-downward-critics-ecog/runs/tjetehhz' target=\"_blank\">eager-grass-6</a></strong> to <a href='https://wandb.ai/dmcsharry/lots-of-downward-critics-ecog' target=\"_blank\">Weights & Biases</a> (<a href='https://wandb.me/run' target=\"_blank\">docs</a>)<br/>"
      ],
      "text/plain": [
       "<IPython.core.display.HTML object>"
      ]
     },
     "metadata": {},
     "output_type": "display_data"
    },
    {
     "data": {
      "text/html": [
       " View project at <a href='https://wandb.ai/dmcsharry/lots-of-downward-critics-ecog' target=\"_blank\">https://wandb.ai/dmcsharry/lots-of-downward-critics-ecog</a>"
      ],
      "text/plain": [
       "<IPython.core.display.HTML object>"
      ]
     },
     "metadata": {},
     "output_type": "display_data"
    },
    {
     "data": {
      "text/html": [
       " View run at <a href='https://wandb.ai/dmcsharry/lots-of-downward-critics-ecog/runs/tjetehhz' target=\"_blank\">https://wandb.ai/dmcsharry/lots-of-downward-critics-ecog/runs/tjetehhz</a>"
      ],
      "text/plain": [
       "<IPython.core.display.HTML object>"
      ]
     },
     "metadata": {},
     "output_type": "display_data"
    },
    {
     "name": "stderr",
     "output_type": "stream",
     "text": [
      "Training: 100%|██████████| 20/20 [26:21<00:00, 79.07s/it]\n"
     ]
    },
    {
     "data": {
      "text/html": [
       "Finishing last run (ID:tjetehhz) before initializing another..."
      ],
      "text/plain": [
       "<IPython.core.display.HTML object>"
      ]
     },
     "metadata": {},
     "output_type": "display_data"
    },
    {
     "name": "stderr",
     "output_type": "stream",
     "text": [
      "wandb: WARNING Source type is set to 'repo' but some required information is missing from the environment. A job will not be created from this run. See https://docs.wandb.ai/guides/launch/create-job\n"
     ]
    },
    {
     "data": {
      "text/html": [
       "<style>\n",
       "    table.wandb td:nth-child(1) { padding: 0 10px; text-align: left ; width: auto;} td:nth-child(2) {text-align: left ; width: 100%}\n",
       "    .wandb-row { display: flex; flex-direction: row; flex-wrap: wrap; justify-content: flex-start; width: 100% }\n",
       "    .wandb-col { display: flex; flex-direction: column; flex-basis: 100%; flex: 1; padding: 10px; }\n",
       "    </style>\n",
       "<div class=\"wandb-row\"><div class=\"wandb-col\"><h3>Run history:</h3><br/><table class=\"wandb\"><tr><td>Psi</td><td>█▇▇█████████████████████████████▇▆▅▆▇▅▄▁</td></tr><tr><td>decoupled_MI</td><td>▅▅▅▅▅▅▅▅▅▅▅▅▆▆▆█▇▇▇▇▇▇▇▇▇▇██▇▆▇▇▆▁▂▇▇██▅</td></tr><tr><td>downward_MI</td><td>▁▂▂▁▁▁▁▁▁▁▁▁▁▁▁▁▁▁▁▁▁▁▁▁▁▁▁▁▁▁▁▁▂▃▄▃▂▄▅█</td></tr><tr><td>downward_MI_0</td><td>▁▂▃▁▁▁▁▁▁▁▁▁▁▁▁▁▁▁▁▁▁▁▁▁▁▁▁▁▁▁▁▁▂▂▃▄▃▅▆█</td></tr><tr><td>downward_MI_1</td><td>▂▂▄▂▂▂▂▁▁▁▁▁▂▂▁▂▂▂▂▂▁▂▂▁▂▂▁▁▂▂▂▂▂▃▄▅▄▇█▇</td></tr><tr><td>downward_MI_10</td><td>▁▂▃▂▁▂▂▁▁▁▁▂▂▂▁▂▂▂▂▂▁▂▂▁▂▂▁▂▁▂▂▂▂▄▆▃▃▇▇█</td></tr><tr><td>downward_MI_11</td><td>▁▂▂▁▁▁▁▁▁▁▁▁▁▁▁▁▁▁▁▁▁▁▁▁▁▁▁▁▁▁▁▁▂▂▂▃▃▄▅█</td></tr><tr><td>downward_MI_12</td><td>▂▂▃▂▂▂▂▂▂▂▂▂▂▂▂▃▂▂▂▃▂▂▃▂▂▃▁▂▂▂▂▃▃▂▁▅▅▇█▇</td></tr><tr><td>downward_MI_13</td><td>▂▂▃▂▂▂▂▂▂▁▂▂▂▂▂▂▂▂▂▃▁▂▂▁▂▂▁▁▂▂▃▃▃▄▃▅▄▆▇█</td></tr><tr><td>downward_MI_14</td><td>▄▅▅▄▄▄▄▄▄▄▄▄▄▄▄▄▄▄▄▄▃▄▄▃▄▄▃▄▄▄▄▄▄▂▁▆▆▇█▇</td></tr><tr><td>downward_MI_15</td><td>▃▃▄▃▃▃▃▃▃▃▃▃▃▃▃▃▃▃▃▃▂▃▃▂▃▄▂▃▃▃▃▃▃▁▁▅▅▇█▁</td></tr><tr><td>downward_MI_16</td><td>▁▂▃▁▁▁▁▁▁▁▁▁▁▁▁▁▁▁▁▁▁▁▁▁▁▁▁▁▁▁▁▁▁▁▃▃▂▅▅█</td></tr><tr><td>downward_MI_17</td><td>▁▂▂▁▁▁▁▁▁▁▁▁▁▁▁▁▁▁▁▁▁▁▁▁▁▁▁▁▁▁▁▁▁▂▃▃▂▄▅█</td></tr><tr><td>downward_MI_18</td><td>▁▂▂▁▁▁▁▁▁▁▁▁▁▁▁▁▁▁▁▁▁▁▁▁▁▁▁▁▁▁▁▁▁▁▂▃▂▄▄█</td></tr><tr><td>downward_MI_19</td><td>▁▁▂▁▁▁▁▁▁▁▁▁▁▁▁▁▁▁▁▁▁▁▁▁▁▁▁▁▁▁▁▁▁▂▃▂▂▃▃█</td></tr><tr><td>downward_MI_2</td><td>▂▃▄▂▂▂▂▂▂▂▂▂▂▂▂▂▂▂▂▂▂▂▂▂▂▂▂▂▂▂▂▂▃▃▄▅▄██▁</td></tr><tr><td>downward_MI_20</td><td>▁▂▃▁▁▁▁▁▁▁▁▁▁▁▁▁▁▁▁▁▁▁▁▁▁▁▁▁▁▁▁▁▁▃▄▃▃▆▆█</td></tr><tr><td>downward_MI_21</td><td>▁▂▂▁▁▁▁▁▁▁▁▁▁▁▁▁▁▁▁▁▁▁▁▁▁▁▁▁▁▁▁▁▁▂▃▂▂▄▄█</td></tr><tr><td>downward_MI_22</td><td>▁▂▂▁▁▁▁▁▁▁▁▁▁▁▁▁▁▁▁▁▁▁▁▁▁▁▁▁▁▁▁▁▁▃▄▂▂▄▄█</td></tr><tr><td>downward_MI_23</td><td>▁▂▂▁▁▁▁▁▁▁▁▁▁▁▁▁▁▁▁▁▁▁▁▁▁▁▁▁▁▁▁▁▁▁▃▃▂▄▄█</td></tr><tr><td>downward_MI_24</td><td>▁▂▃▁▁▁▁▁▁▁▁▁▁▁▁▁▁▁▁▁▁▁▁▁▁▁▁▁▁▁▁▁▂▂▅▄▃▇██</td></tr><tr><td>downward_MI_25</td><td>▁▁▂▁▁▁▁▁▁▁▁▁▁▁▁▁▁▁▁▁▁▁▁▁▁▁▁▁▁▁▁▁▁▂▃▂▂▄▅█</td></tr><tr><td>downward_MI_26</td><td>▂▂▃▂▂▂▂▂▂▂▂▂▂▂▂▂▂▂▂▂▂▂▂▂▂▂▂▂▂▂▂▂▃▁▄▄▃▅▅█</td></tr><tr><td>downward_MI_27</td><td>▁▂▂▁▁▁▁▁▁▁▁▁▁▁▁▁▁▁▁▁▁▁▁▁▁▁▁▁▁▁▁▁▁▂▃▃▃▅▅█</td></tr><tr><td>downward_MI_28</td><td>▁▂▂▁▁▁▁▁▁▁▁▁▁▁▁▁▁▁▁▁▁▁▁▁▁▂▁▁▁▂▂▂▂▁▃▃▃▅▅█</td></tr><tr><td>downward_MI_29</td><td>▁▁▂▁▁▁▁▁▁▁▁▁▁▁▁▁▁▁▁▁▁▁▁▁▁▁▁▁▁▁▁▁▁▂▃▃▃▅▅█</td></tr><tr><td>downward_MI_3</td><td>▁▂▄▂▁▁▁▁▁▁▁▁▁▁▁▂▁▁▂▂▁▁▂▁▁▂▁▁▁▂▂▂▂▄▇▅▄▇█▄</td></tr><tr><td>downward_MI_30</td><td>▁▂▂▁▁▁▁▁▁▁▁▁▁▁▁▁▁▁▁▁▁▁▂▁▁▂▁▁▁▁▁▂▂▃▄▃▃▄▅█</td></tr><tr><td>downward_MI_31</td><td>▁▂▃▂▁▂▂▁▁▁▁▁▁▁▁▂▂▂▂▂▁▂▂▁▂▂▁▁▁▂▂▂▂▅▇▆▄██▇</td></tr><tr><td>downward_MI_32</td><td>▁▂▄▁▁▁▁▁▁▁▁▁▁▁▁▁▁▁▁▁▁▁▁▁▁▁▁▁▁▁▁▁▁█▇▂▁▃▃█</td></tr><tr><td>downward_MI_33</td><td>▁▁▂▁▁▁▁▁▁▁▁▁▁▁▁▁▁▁▁▁▁▁▁▁▁▁▁▁▁▁▁▁▁▂▃▁▁▃▃█</td></tr><tr><td>downward_MI_34</td><td>▁▂▃▁▁▁▁▁▁▁▁▁▁▁▁▁▁▁▁▁▂▂▁▁▂▁▁▂▁▁▁▁▁▂▃▂▂▃▃█</td></tr><tr><td>downward_MI_35</td><td>▁▂▂▁▁▁▁▁▁▁▁▁▁▁▁▁▁▁▁▁▁▁▁▁▁▁▁▁▁▁▁▁▂▅▄▃▂▄▄█</td></tr><tr><td>downward_MI_36</td><td>▁▂▂▁▁▁▁▁▁▁▁▁▁▁▁▁▁▁▁▁▁▁▁▁▁▁▁▁▁▁▁▁▁▂▃▂▂▄▄█</td></tr><tr><td>downward_MI_37</td><td>▁▂▂▁▁▁▁▁▁▁▁▁▁▁▁▁▁▁▁▁▁▁▁▁▁▁▁▁▁▁▁▁▁▃▃▂▂▃▄█</td></tr><tr><td>downward_MI_38</td><td>▁▁▂▁▁▁▁▁▁▁▁▁▁▁▁▁▁▁▁▁▁▁▁▁▁▁▁▁▁▁▁▁▁▃▃▃▂▄▄█</td></tr><tr><td>downward_MI_39</td><td>▁▁▂▁▁▁▁▁▁▁▁▁▁▁▁▁▁▁▁▁▁▁▁▁▁▁▁▁▁▁▁▁▁▃▃▁▁▂▃█</td></tr><tr><td>downward_MI_4</td><td>▂▃▄▂▂▂▂▂▂▁▂▂▂▂▂▂▂▂▂▂▁▂▂▁▂▂▁▂▂▂▂▂▂▃▄▄▄▇█▆</td></tr><tr><td>downward_MI_40</td><td>▁▂▂▁▁▁▁▁▁▁▁▁▁▁▁▁▁▁▁▁▁▁▁▁▁▁▁▁▁▁▁▁▁▂▄▂▂▄▄█</td></tr><tr><td>downward_MI_41</td><td>▁▁▂▁▁▁▁▁▁▁▁▁▁▁▁▁▁▁▁▁▁▁▁▁▁▁▁▁▁▁▁▂▂▄▃▃▂▄▄█</td></tr><tr><td>downward_MI_42</td><td>▁▂▂▁▁▁▁▁▁▁▁▁▁▁▁▁▁▁▁▁▁▁▁▁▁▁▁▁▁▁▁▁▁▂▂▂▂▄▄█</td></tr><tr><td>downward_MI_43</td><td>▂▂▂▂▂▂▂▂▂▂▂▂▂▂▂▂▂▂▂▂▂▂▂▂▂▂▂▂▁▂▂▂▂▁▂▂▂▄▄█</td></tr><tr><td>downward_MI_44</td><td>▁▂▂▁▁▁▁▁▁▁▁▁▁▁▁▁▁▁▁▁▁▁▁▁▁▁▁▁▁▁▁▁▁▂▄▂▂▄▄█</td></tr><tr><td>downward_MI_45</td><td>▁▂▂▁▁▁▁▁▁▁▁▁▁▁▁▁▁▁▁▁▁▁▂▁▁▂▁▂▁▂▂▂▂▆▄▃▂▄▄█</td></tr><tr><td>downward_MI_46</td><td>▁▁▂▁▁▁▁▁▁▁▁▁▁▁▁▁▁▁▁▁▁▁▁▁▁▁▁▁▁▁▁▁▁▃▃▂▂▃▄█</td></tr><tr><td>downward_MI_47</td><td>▁▂▂▁▁▁▁▁▁▁▁▁▁▁▁▁▁▁▁▁▁▁▁▁▁▂▁▁▁▁▂▂▂▅▅▃▂▄▄█</td></tr><tr><td>downward_MI_48</td><td>▁▂▂▁▁▁▁▁▁▁▁▁▁▁▁▁▁▁▁▁▁▁▁▁▁▁▁▂▁▁▁▁▁▃▃▁▁▂▂█</td></tr><tr><td>downward_MI_49</td><td>▁▃▄▂▁▁▁▁▁▁▁▂▂▁▂▁▁▂▁▁▂▂▁▂▂▁▂▂▁▁▁▁▁▃▄▂▁▂▂█</td></tr><tr><td>downward_MI_5</td><td>▁▂▄▁▁▁▁▁▁▁▁▁▁▁▁▂▁▁▂▂▁▁▂▁▁▂▁▁▁▂▂▂▂▄▇▅▄██▆</td></tr><tr><td>downward_MI_50</td><td>▁▂▃▁▁▁▁▁▁▁▁▂▂▁▂▁▁▁▁▁▂▂▁▂▂▁▂▂▁▁▁▁▁▂▃▂▂▄▄█</td></tr><tr><td>downward_MI_51</td><td>▁▂▂▁▁▁▁▁▁▁▁▂▂▁▂▁▁▂▁▁▁▁▁▁▂▁▁▂▁▂▂▂▃▅▆▅▃▆▆█</td></tr><tr><td>downward_MI_52</td><td>▂▃▄▂▂▂▂▂▂▂▂▂▂▂▂▁▂▂▂▂▂▂▂▂▃▁▂▂▁▁▂▂▂▅▅▂▂▂▂█</td></tr><tr><td>downward_MI_53</td><td>▃▄▅▃▃▃▃▃▃▃▃▄▄▃▄▂▃▄▃▃▄▄▃▃▄▂▃▄▂▃▃▃▃██▃▃▇█▁</td></tr><tr><td>downward_MI_54</td><td>▁▂▂▁▁▁▁▁▁▁▁▂▂▁▂▁▁▂▁▁▂▁▁▁▂▁▂▂▁▁▁▂▂▆▆▅▃▆▆█</td></tr><tr><td>downward_MI_55</td><td>▁▂▂▁▁▁▁▁▁▁▁▂▂▂▂▁▂▂▂▂▁▂▁▂▂▁▁▂▁▂▂▂▃██▅▃▆▆█</td></tr><tr><td>downward_MI_56</td><td>▁▂▄▂▁▂▂▁▁▂▂▂▂▂▂▁▁▁▁▂▂▂▂▂▂▁▂▂▁▁▁▁▁▄▃▂▂▃▃█</td></tr><tr><td>downward_MI_57</td><td>▂▂▃▂▂▂▂▁▂▂▂▂▂▂▂▁▂▂▂▂▂▂▁▂▂▁▂▂▁▂▂▂▂▆▇▄▃▅▅█</td></tr><tr><td>downward_MI_58</td><td>▁▂▂▁▁▁▁▁▁▁▁▁▁▁▁▁▁▁▁▁▁▁▁▁▁▁▁▂▁▁▁▁▁▂▃▂▂▃▃█</td></tr><tr><td>downward_MI_59</td><td>▁▁▂▁▁▁▁▁▁▁▁▁▁▁▁▁▁▁▁▁▂▂▁▁▂▁▁▂▁▁▁▁▁▄▄▂▂▄▄█</td></tr><tr><td>downward_MI_6</td><td>▁▃▃▂▁▁▂▁▁▁▁▁▁▁▁▂▂▂▂▂▁▂▃▁▁▂▁▁▁▂▂▂▂▄▅▅▄▆▇█</td></tr><tr><td>downward_MI_60</td><td>▁▂▃▁▁▁▁▁▁▁▁▁▁▁▁▁▁▁▁▁▁▁▁▁▁▁▁▂▁▁▁▁▁▁▃▂▂▄▄█</td></tr><tr><td>downward_MI_61</td><td>▁▂▂▁▁▁▁▁▁▁▁▁▁▁▁▁▁▁▁▁▁▂▁▁▂▁▁▂▁▁▁▁▁▃▃▁▁▃▃█</td></tr><tr><td>downward_MI_62</td><td>▁▂▂▁▁▁▁▁▁▁▁▁▁▁▁▁▁▁▁▁▁▂▁▁▁▁▁▁▁▁▁▁▁▃▃▂▂▄▄█</td></tr><tr><td>downward_MI_63</td><td>▁▁▃▁▁▁▁▁▁▁▁▁▁▁▁▁▁▁▁▁▁▁▁▁▁▂▁▂▁▂▄▃▂▄▂▄▃▄▄█</td></tr><tr><td>downward_MI_7</td><td>▁▂▂▁▁▁▁▁▁▁▁▁▁▁▁▁▁▁▁▁▁▁▁▁▁▁▁▁▁▁▁▂▂▂▃▄▃▅▆█</td></tr><tr><td>downward_MI_8</td><td>▁▂▃▂▂▂▂▁▁▁▁▂▂▂▂▂▂▂▂▂▁▂▂▁▂▂▁▁▂▂▂▃▃▂▁▅▃▅▆█</td></tr><tr><td>downward_MI_9</td><td>▁▂▂▂▁▁▂▁▁▁▁▁▁▁▁▂▂▂▂▂▁▂▂▁▂▂▁▁▂▂▂▃▃▃▃▅▃▅▆█</td></tr></table><br/></div><div class=\"wandb-col\"><h3>Run summary:</h3><br/><table class=\"wandb\"><tr><td>Psi</td><td>-9.67424</td></tr><tr><td>decoupled_MI</td><td>0.19662</td></tr><tr><td>downward_MI</td><td>9.87086</td></tr><tr><td>downward_MI_0</td><td>0.18054</td></tr><tr><td>downward_MI_1</td><td>0.17981</td></tr><tr><td>downward_MI_10</td><td>0.18182</td></tr><tr><td>downward_MI_11</td><td>0.18222</td></tr><tr><td>downward_MI_12</td><td>0.17968</td></tr><tr><td>downward_MI_13</td><td>0.1914</td></tr><tr><td>downward_MI_14</td><td>0.18497</td></tr><tr><td>downward_MI_15</td><td>0.2167</td></tr><tr><td>downward_MI_16</td><td>0.17287</td></tr><tr><td>downward_MI_17</td><td>0.16406</td></tr><tr><td>downward_MI_18</td><td>0.15804</td></tr><tr><td>downward_MI_19</td><td>0.144</td></tr><tr><td>downward_MI_2</td><td>0.1808</td></tr><tr><td>downward_MI_20</td><td>0.18219</td></tr><tr><td>downward_MI_21</td><td>0.16747</td></tr><tr><td>downward_MI_22</td><td>0.13882</td></tr><tr><td>downward_MI_23</td><td>0.14435</td></tr><tr><td>downward_MI_24</td><td>0.17695</td></tr><tr><td>downward_MI_25</td><td>0.17263</td></tr><tr><td>downward_MI_26</td><td>0.17859</td></tr><tr><td>downward_MI_27</td><td>0.16241</td></tr><tr><td>downward_MI_28</td><td>0.17192</td></tr><tr><td>downward_MI_29</td><td>0.1827</td></tr><tr><td>downward_MI_3</td><td>0.17415</td></tr><tr><td>downward_MI_30</td><td>0.17613</td></tr><tr><td>downward_MI_31</td><td>0.17542</td></tr><tr><td>downward_MI_32</td><td>0.05102</td></tr><tr><td>downward_MI_33</td><td>0.11701</td></tr><tr><td>downward_MI_34</td><td>0.1255</td></tr><tr><td>downward_MI_35</td><td>0.14419</td></tr><tr><td>downward_MI_36</td><td>0.16234</td></tr><tr><td>downward_MI_37</td><td>0.14628</td></tr><tr><td>downward_MI_38</td><td>0.15262</td></tr><tr><td>downward_MI_39</td><td>0.11497</td></tr><tr><td>downward_MI_4</td><td>0.17744</td></tr><tr><td>downward_MI_40</td><td>0.14726</td></tr><tr><td>downward_MI_41</td><td>0.15094</td></tr><tr><td>downward_MI_42</td><td>0.13836</td></tr><tr><td>downward_MI_43</td><td>0.12497</td></tr><tr><td>downward_MI_44</td><td>0.15782</td></tr><tr><td>downward_MI_45</td><td>0.16857</td></tr><tr><td>downward_MI_46</td><td>0.15285</td></tr><tr><td>downward_MI_47</td><td>0.15462</td></tr><tr><td>downward_MI_48</td><td>0.08473</td></tr><tr><td>downward_MI_49</td><td>0.04228</td></tr><tr><td>downward_MI_5</td><td>0.17791</td></tr><tr><td>downward_MI_50</td><td>0.13229</td></tr><tr><td>downward_MI_51</td><td>0.15648</td></tr><tr><td>downward_MI_52</td><td>0.01333</td></tr><tr><td>downward_MI_53</td><td>0.12244</td></tr><tr><td>downward_MI_54</td><td>0.16557</td></tr><tr><td>downward_MI_55</td><td>0.14826</td></tr><tr><td>downward_MI_56</td><td>0.11121</td></tr><tr><td>downward_MI_57</td><td>0.1593</td></tr><tr><td>downward_MI_58</td><td>0.13821</td></tr><tr><td>downward_MI_59</td><td>0.14223</td></tr><tr><td>downward_MI_6</td><td>0.17969</td></tr><tr><td>downward_MI_60</td><td>0.12028</td></tr><tr><td>downward_MI_61</td><td>0.12646</td></tr><tr><td>downward_MI_62</td><td>0.15396</td></tr><tr><td>downward_MI_63</td><td>0.14601</td></tr><tr><td>downward_MI_7</td><td>0.18826</td></tr><tr><td>downward_MI_8</td><td>0.1894</td></tr><tr><td>downward_MI_9</td><td>0.18715</td></tr></table><br/></div></div>"
      ],
      "text/plain": [
       "<IPython.core.display.HTML object>"
      ]
     },
     "metadata": {},
     "output_type": "display_data"
    },
    {
     "data": {
      "text/html": [
       " View run <strong style=\"color:#cdcd00\">eager-grass-6</strong> at: <a href='https://wandb.ai/dmcsharry/lots-of-downward-critics-ecog/runs/tjetehhz' target=\"_blank\">https://wandb.ai/dmcsharry/lots-of-downward-critics-ecog/runs/tjetehhz</a><br/>Synced 5 W&B file(s), 0 media file(s), 0 artifact file(s) and 0 other file(s)"
      ],
      "text/plain": [
       "<IPython.core.display.HTML object>"
      ]
     },
     "metadata": {},
     "output_type": "display_data"
    },
    {
     "data": {
      "text/html": [
       "Find logs at: <code>./wandb/run-20240408_184901-tjetehhz/logs</code>"
      ],
      "text/plain": [
       "<IPython.core.display.HTML object>"
      ]
     },
     "metadata": {},
     "output_type": "display_data"
    },
    {
     "data": {
      "text/html": [
       "Successfully finished last run (ID:tjetehhz). Initializing new run:<br/>"
      ],
      "text/plain": [
       "<IPython.core.display.HTML object>"
      ]
     },
     "metadata": {},
     "output_type": "display_data"
    },
    {
     "data": {
      "text/html": [
       "wandb version 0.16.6 is available!  To upgrade, please run:\n",
       " $ pip install wandb --upgrade"
      ],
      "text/plain": [
       "<IPython.core.display.HTML object>"
      ]
     },
     "metadata": {},
     "output_type": "display_data"
    },
    {
     "data": {
      "text/html": [
       "Tracking run with wandb version 0.16.4"
      ],
      "text/plain": [
       "<IPython.core.display.HTML object>"
      ]
     },
     "metadata": {},
     "output_type": "display_data"
    },
    {
     "data": {
      "text/html": [
       "Run data is saved locally in <code>/vol/bitbucket/dm2223/info-theory-experiments/wandb/run-20240408_192510-6t4n233w</code>"
      ],
      "text/plain": [
       "<IPython.core.display.HTML object>"
      ]
     },
     "metadata": {},
     "output_type": "display_data"
    },
    {
     "data": {
      "text/html": [
       "Syncing run <strong><a href='https://wandb.ai/dmcsharry/lots-of-downward-critics-ecog/runs/6t4n233w' target=\"_blank\">fresh-sea-7</a></strong> to <a href='https://wandb.ai/dmcsharry/lots-of-downward-critics-ecog' target=\"_blank\">Weights & Biases</a> (<a href='https://wandb.me/run' target=\"_blank\">docs</a>)<br/>"
      ],
      "text/plain": [
       "<IPython.core.display.HTML object>"
      ]
     },
     "metadata": {},
     "output_type": "display_data"
    },
    {
     "data": {
      "text/html": [
       " View project at <a href='https://wandb.ai/dmcsharry/lots-of-downward-critics-ecog' target=\"_blank\">https://wandb.ai/dmcsharry/lots-of-downward-critics-ecog</a>"
      ],
      "text/plain": [
       "<IPython.core.display.HTML object>"
      ]
     },
     "metadata": {},
     "output_type": "display_data"
    },
    {
     "data": {
      "text/html": [
       " View run at <a href='https://wandb.ai/dmcsharry/lots-of-downward-critics-ecog/runs/6t4n233w' target=\"_blank\">https://wandb.ai/dmcsharry/lots-of-downward-critics-ecog/runs/6t4n233w</a>"
      ],
      "text/plain": [
       "<IPython.core.display.HTML object>"
      ]
     },
     "metadata": {},
     "output_type": "display_data"
    },
    {
     "name": "stderr",
     "output_type": "stream",
     "text": [
      "Training: 100%|██████████| 20/20 [24:26<00:00, 73.34s/it]\n"
     ]
    },
    {
     "data": {
      "text/html": [
       "Finishing last run (ID:6t4n233w) before initializing another..."
      ],
      "text/plain": [
       "<IPython.core.display.HTML object>"
      ]
     },
     "metadata": {},
     "output_type": "display_data"
    },
    {
     "name": "stderr",
     "output_type": "stream",
     "text": [
      "wandb: WARNING Source type is set to 'repo' but some required information is missing from the environment. A job will not be created from this run. See https://docs.wandb.ai/guides/launch/create-job\n"
     ]
    },
    {
     "data": {
      "text/html": [
       "<style>\n",
       "    table.wandb td:nth-child(1) { padding: 0 10px; text-align: left ; width: auto;} td:nth-child(2) {text-align: left ; width: 100%}\n",
       "    .wandb-row { display: flex; flex-direction: row; flex-wrap: wrap; justify-content: flex-start; width: 100% }\n",
       "    .wandb-col { display: flex; flex-direction: column; flex-basis: 100%; flex: 1; padding: 10px; }\n",
       "    </style>\n",
       "<div class=\"wandb-row\"><div class=\"wandb-col\"><h3>Run history:</h3><br/><table class=\"wandb\"><tr><td>Psi</td><td>█▇▇██████████████████████████████▂▁▇▇▅▅▂</td></tr><tr><td>decoupled_MI</td><td>▄▄▄▄▄▄▄▅▄▆▅▆▆▅▆▇▇▇▆▇▆▇▇▆▇▆▆▇█▆█▇▇▂▁▇█▇▇█</td></tr><tr><td>downward_MI</td><td>▁▂▂▁▁▁▁▁▁▁▁▁▁▁▁▁▁▁▁▁▁▁▁▁▁▁▁▁▁▁▁▁▁▇█▂▂▄▄█</td></tr><tr><td>downward_MI_0</td><td>▁▁▂▁▁▁▁▁▁▁▁▁▁▁▁▁▁▁▁▁▁▁▁▁▁▁▁▁▁▁▁▁▁█▇▁▁▂▂▂</td></tr><tr><td>downward_MI_1</td><td>▁▂▃▁▁▁▁▁▁▁▁▁▁▁▁▁▁▁▁▁▂▁▁▁▁▁▁▁▁▁▁▁▁█▇▁▁▂▂▄</td></tr><tr><td>downward_MI_10</td><td>▄▄▄▄▄▄▄▄▄▄▄▄▄▄▄▄▃▄▄▄▄▃▄▄▄▄▄▄▄▄▄▄▄▆█▅▄▆▇▁</td></tr><tr><td>downward_MI_11</td><td>▁▁▂▁▁▁▁▁▁▁▁▁▁▁▁▁▁▁▁▁▁▁▁▁▁▁▁▁▁▁▁▁▁▆▅▂▁▃▃█</td></tr><tr><td>downward_MI_12</td><td>▁▂▂▁▁▁▁▁▁▁▁▁▁▁▁▁▁▁▁▁▁▁▁▁▁▁▁▁▁▁▁▁▁▆▅▁▁▂▂█</td></tr><tr><td>downward_MI_13</td><td>▁▁▂▁▁▁▁▁▁▁▁▁▁▁▁▁▁▁▁▁▁▁▁▁▁▁▁▁▁▁▁▁▁▆▅▁▁▂▂█</td></tr><tr><td>downward_MI_14</td><td>▁▁▂▁▁▁▁▁▁▁▁▁▁▁▁▁▁▁▁▁▁▁▁▁▁▁▁▁▁▁▁▁▁██▂▂▄▅▆</td></tr><tr><td>downward_MI_15</td><td>▁▁▂▁▁▁▁▁▁▁▁▁▁▁▁▁▁▁▁▁▁▁▁▁▁▁▁▁▁▁▁▁▁▆▅▁▁▂▃█</td></tr><tr><td>downward_MI_16</td><td>▁▁▂▁▁▁▁▁▁▂▁▁▁▁▁▂▁▁▁▁▂▁▁▁▁▁▁▁▁▁▁▁▁▅▇▂▂▃▃█</td></tr><tr><td>downward_MI_17</td><td>▁▁▂▁▁▁▁▁▁▁▁▁▁▁▁▁▁▁▁▁▁▁▁▁▁▁▁▁▁▁▁▁▁▅▅▁▁▂▂█</td></tr><tr><td>downward_MI_18</td><td>▁▁▂▁▁▁▁▁▁▁▁▁▁▁▁▁▁▁▁▁▁▁▁▁▁▁▁▁▁▁▁▁▁▆▅▁▁▁▁█</td></tr><tr><td>downward_MI_19</td><td>▁▂▃▂▁▁▁▁▁▂▂▁▁▁▁▂▁▂▁▂▂▁▁▁▂▂▁▁▂▂▁▁▂█▇▂▂▂▂▆</td></tr><tr><td>downward_MI_2</td><td>▁▂▃▂▁▁▁▁▁▁▂▂▁▂▂▁▁▂▂▁▂▁▂▂▁▂▁▁▁▁▁▁▁▇▆▂▂▃▃█</td></tr><tr><td>downward_MI_20</td><td>▂▂▂▂▂▂▂▂▂▂▂▂▂▂▂▂▂▂▂▂▂▁▁▂▂▂▂▂▂▂▂▂▂█▇▂▂▂▂█</td></tr><tr><td>downward_MI_21</td><td>▁▁▂▁▁▁▁▁▁▁▁▁▁▁▁▁▁▁▁▁▁▁▁▁▁▁▁▁▁▁▁▁▁█▇▂▁▃▃▃</td></tr><tr><td>downward_MI_22</td><td>▂▂▃▂▂▂▂▂▂▂▂▃▂▂▂▂▂▂▂▂▂▂▂▂▂▂▂▂▂▂▂▂▂█▇▃▂▄▄▁</td></tr><tr><td>downward_MI_23</td><td>▁▂▂▁▁▁▁▁▁▁▁▁▁▁▁▁▁▁▁▁▁▁▁▁▁▂▁▁▁▁▁▁▁▄█▃▂▆▆▃</td></tr><tr><td>downward_MI_24</td><td>▁▁▂▁▁▁▁▁▁▁▁▁▁▁▁▁▁▁▁▁▁▁▁▁▁▁▁▁▁▁▁▁▁█▇▁▁▂▃█</td></tr><tr><td>downward_MI_25</td><td>▁▁▂▁▁▁▁▁▁▁▁▁▁▁▁▁▁▁▁▁▁▁▁▁▁▁▁▁▁▁▁▁▁▇▆▁▁▂▂█</td></tr><tr><td>downward_MI_26</td><td>▁▁▂▁▁▁▁▁▁▁▁▁▁▁▁▁▁▁▁▁▁▁▁▁▁▁▁▁▁▁▁▁▁▅▅▁▁▁▁█</td></tr><tr><td>downward_MI_27</td><td>▁▁▂▁▁▁▁▁▁▁▁▁▁▁▁▁▁▁▁▁▁▁▁▁▁▁▁▁▁▁▁▁▁▅▅▁▁▂▂█</td></tr><tr><td>downward_MI_28</td><td>▁▂▂▁▁▁▁▁▁▁▁▁▁▁▁▁▁▁▁▁▁▁▁▁▁▁▁▁▁▁▁▁▁▇█▂▁▃▃▅</td></tr><tr><td>downward_MI_29</td><td>▁▂▂▁▁▁▁▁▁▁▁▁▁▁▁▁▁▁▁▁▁▁▁▁▁▁▁▁▁▁▁▁▁▆▆▁▁▁▂█</td></tr><tr><td>downward_MI_3</td><td>▂▂▂▂▂▂▂▂▂▂▂▂▂▂▂▂▂▂▂▂▂▁▂▂▂▂▂▂▂▂▂▂▂▇▇▂▂▂▂█</td></tr><tr><td>downward_MI_30</td><td>▁▁▂▁▁▁▁▁▁▁▁▁▁▁▁▁▁▁▁▁▁▁▁▁▁▁▁▁▁▁▁▁▁▆▅▁▁▂▁█</td></tr><tr><td>downward_MI_31</td><td>▁▁▂▁▁▁▁▁▁▁▁▁▁▁▁▁▁▂▁▁▂▁▁▁▁▁▁▁▁▂▁▂▂▆▇▂▂▄▄█</td></tr><tr><td>downward_MI_32</td><td>▁▁▂▁▁▁▁▁▁▁▁▁▁▁▁▁▁▁▁▁▁▁▁▁▁▁▁▁▁▁▁▁▁▅█▂▂▃▄▇</td></tr><tr><td>downward_MI_33</td><td>▂▃▃▂▂▂▂▂▂▂▂▂▂▂▂▂▂▂▂▂▂▂▂▂▂▂▂▂▂▂▃▃▃▁▅▄▃▅▅█</td></tr><tr><td>downward_MI_34</td><td>▂▂▂▂▂▂▂▁▂▂▂▂▂▂▂▂▂▃▂▂▂▁▁▂▂▂▁▂▂▂▂▂▂▅▆▃▂▃▄█</td></tr><tr><td>downward_MI_35</td><td>▁▁▂▁▁▁▁▁▁▁▁▁▁▁▁▁▁▁▁▁▁▁▁▁▁▁▁▁▁▁▁▁▁▃▆▂▁▃▃█</td></tr><tr><td>downward_MI_36</td><td>▁▂▃▁▁▁▁▁▁▁▁▁▁▁▁▁▁▁▁▁▁▁▁▁▁▁▁▁▁▁▁▁▁██▂▂▄▄▂</td></tr><tr><td>downward_MI_37</td><td>▁▁▂▁▁▁▁▁▁▁▁▁▁▁▁▁▁▁▁▁▁▁▁▁▁▁▁▁▁▁▁▁▁▇█▂▁▃▂█</td></tr><tr><td>downward_MI_38</td><td>▁▂▂▁▁▁▁▁▁▁▁▁▁▁▁▁▁▁▁▁▁▁▁▁▁▁▁▁▁▁▂▁▁▆▇▃▂▄▅█</td></tr><tr><td>downward_MI_39</td><td>▁▂▃▂▁▁▁▁▁▂▁▁▁▁▁▁▁▁▁▁▁▁▁▁▁▁▁▁▁▁▁▁▁▆█▃▂▄▄▂</td></tr><tr><td>downward_MI_4</td><td>▁▁▂▁▁▁▁▁▁▁▁▁▁▁▁▁▁▁▁▁▁▁▁▁▁▁▁▁▁▁▁▁▂▅█▃▃▅▆▄</td></tr><tr><td>downward_MI_40</td><td>▁▁▂▁▁▁▁▁▁▁▁▁▁▁▁▁▁▁▁▁▁▁▁▁▁▁▁▁▁▁▁▁▁▆█▂▂▄▅▇</td></tr><tr><td>downward_MI_41</td><td>▂▂▂▂▂▂▂▁▂▂▂▃▁▁▂▁▁▂▂▂▂▂▂▂▂▂▁▂▂▂▂▂▂▄▆▃▂▅▆█</td></tr><tr><td>downward_MI_42</td><td>▁▁▃▁▁▁▁▁▁▁▁▁▁▁▁▁▁▁▁▁▁▁▁▁▁▁▁▁▁▁▁▁▁█▇▁▁▂▂▂</td></tr><tr><td>downward_MI_43</td><td>▂▂▃▂▂▂▂▁▂▂▂▂▂▂▂▂▂▂▂▁▂▂▂▂▂▂▁▂▂▂▂▂▂▇█▂▂▅▆▅</td></tr><tr><td>downward_MI_44</td><td>▄▅▅▄▄▄▄▄▄▅▄▅▄▄▄▄▄▄▄▄▄▄▅▅▄▅▄▄▄▄▄▄▄██▅▅▆▆▁</td></tr><tr><td>downward_MI_45</td><td>▁▁▂▁▁▁▁▁▁▁▁▁▁▁▁▁▁▁▁▁▁▁▁▁▁▁▁▁▁▁▁▁▁▂▇▃▂▄▅█</td></tr><tr><td>downward_MI_46</td><td>▁▂▃▁▁▁▁▁▁▁▁▁▁▁▁▁▁▁▁▁▁▁▁▁▁▁▁▁▁▁▁▁▁█▇▁▁▂▂▂</td></tr><tr><td>downward_MI_47</td><td>▁▁▂▁▁▁▁▁▁▁▁▁▁▁▁▁▁▂▂▁▁▁▁▁▁▁▁▁▁▁▁▁▁▆▅▂▂▃▃█</td></tr><tr><td>downward_MI_48</td><td>▁▂▂▁▁▁▁▁▁▁▁▁▁▁▁▁▂▆▅▁▁▂▂▃▂▁▂▄▂▃▅▄▃▆▅▇▆▇██</td></tr><tr><td>downward_MI_49</td><td>▂▂▃▂▂▂▂▂▂▂▂▂▂▂▂▁▂▂▂▁▂▂▂▂▂▂▂▂▂▂▂▂▂▆█▄▃▅▅▁</td></tr><tr><td>downward_MI_5</td><td>▁▁▂▁▁▁▁▁▁▁▁▁▁▁▁▁▁▁▁▁▁▁▁▁▁▁▁▁▁▁▁▁▁▆▆▂▁▂▂█</td></tr><tr><td>downward_MI_50</td><td>▁▂▃▁▁▁▁▁▁▁▁▁▁▁▂▁▂▃▃▁▁▁▂▂▂▁▂▃▂▂▂▂▃▅▆▆▄▇▇█</td></tr><tr><td>downward_MI_51</td><td>▁▂▃▁▁▁▁▁▁▂▁▂▁▁▁▁▁▂▂▁▂▂▄▄▃▂▃▃▂▂▂▂▂█▆▃▂▅▄▇</td></tr><tr><td>downward_MI_52</td><td>▁▂▃▁▁▁▁▁▁▁▁▁▁▁▁▁▁▁▁▁▁▁▁▁▁▁▂▃▁▂▃▃▃▂▅▆▅██▂</td></tr><tr><td>downward_MI_53</td><td>▁▂▂▁▁▁▁▁▁▁▁▁▁▁▁▂▁▃▂▁▁▁▁▂▁▁▁▂▁▂▂▂▂▄▇▄▃▅▅█</td></tr><tr><td>downward_MI_54</td><td>▁▁▂▁▁▁▁▁▁▂▁▁▁▁▁▂▁▂▂▁▁▁▁▁▁▁▁▁▁▁▁▁▁▆▇▃▂▄▃█</td></tr><tr><td>downward_MI_55</td><td>▁▁▂▁▁▁▁▁▁▁▁▁▁▁▁▁▁▁▁▁▁▁▁▂▁▁▂▂▁▁▂▂▂▄█▄▂▅▅▅</td></tr><tr><td>downward_MI_56</td><td>▃▃▃▃▃▃▃▂▃▃▃▃▃▃▃▂▂▃▃▃▃▃▃▃▃▃▃▃▃▃▃▃▃▅▇▅▅▇█▁</td></tr><tr><td>downward_MI_57</td><td>▁▁▂▁▁▁▁▁▁▁▁▁▁▁▁▁▁▁▁▁▁▁▁▂▁▁▁▁▁▁▂▂▁▂▅▃▂▃▃█</td></tr><tr><td>downward_MI_58</td><td>▃▃▄▃▃▃▃▃▃▃▃▃▃▃▃▃▃▃▃▃▃▃▃▃▃▃▃▃▃▃▃▃▃▄█▄▄▆▆▁</td></tr><tr><td>downward_MI_59</td><td>▁▁▂▁▁▁▁▁▁▁▁▁▁▁▁▁▁▁▁▁▁▁▁▁▁▁▁▁▁▁▁▁▁██▂▁▃▂█</td></tr><tr><td>downward_MI_6</td><td>▁▁▂▁▁▁▁▁▁▁▁▁▁▁▁▁▁▁▁▁▁▁▁▁▁▁▁▁▁▁▁▁▁▆▆▁▁▁▁█</td></tr><tr><td>downward_MI_60</td><td>▁▂▂▁▁▁▁▁▁▂▁▁▁▁▁▂▁▂▁▁▁▁▁▁▁▁▁▁▁▁▁▁▁██▂▂▃▃▄</td></tr><tr><td>downward_MI_61</td><td>▁▁▂▁▁▁▁▁▁▁▁▁▁▁▁▁▁▁▁▁▁▁▁▁▁▁▁▁▁▁▁▁▁▇█▂▂▄▄▃</td></tr><tr><td>downward_MI_62</td><td>▁▂▂▁▁▁▁▁▁▂▁▂▁▁▁▁▁▁▁▁▁▁▁▂▁▁▁▂▁▁▂▂▂▆█▄▂▅▅▂</td></tr><tr><td>downward_MI_63</td><td>▁▁▂▁▁▁▁▁▁▂▁▁▁▁▂▂▁▂▂▁▂▁▂▂▁▂▁▂▁▂▁▂▂▅█▂▂▃▂▄</td></tr><tr><td>downward_MI_7</td><td>▁▂▂▁▁▁▁▁▁▁▁▁▁▁▂▁▁▂▁▁▁▁▁▁▁▂▁▁▂▂▁▁▂█▆▂▂▄▅▆</td></tr><tr><td>downward_MI_8</td><td>▁▁▂▁▁▁▁▁▁▁▁▁▁▁▁▁▁▁▁▁▁▁▁▁▁▁▁▁▁▁▁▁▁█▇▂▂▄▅▇</td></tr><tr><td>downward_MI_9</td><td>▁▁▂▁▁▁▁▁▁▁▁▁▁▁▁▁▁▁▁▁▁▁▁▁▁▁▁▁▁▁▁▁▁▆▆▁▁▁▁█</td></tr></table><br/></div><div class=\"wandb-col\"><h3>Run summary:</h3><br/><table class=\"wandb\"><tr><td>Psi</td><td>-3.91715</td></tr><tr><td>decoupled_MI</td><td>0.17174</td></tr><tr><td>downward_MI</td><td>4.08889</td></tr><tr><td>downward_MI_0</td><td>0.03997</td></tr><tr><td>downward_MI_1</td><td>0.0143</td></tr><tr><td>downward_MI_10</td><td>0.09741</td></tr><tr><td>downward_MI_11</td><td>0.12134</td></tr><tr><td>downward_MI_12</td><td>0.06343</td></tr><tr><td>downward_MI_13</td><td>0.05069</td></tr><tr><td>downward_MI_14</td><td>0.1781</td></tr><tr><td>downward_MI_15</td><td>0.1151</td></tr><tr><td>downward_MI_16</td><td>0.07795</td></tr><tr><td>downward_MI_17</td><td>0.02581</td></tr><tr><td>downward_MI_18</td><td>0.00372</td></tr><tr><td>downward_MI_19</td><td>0.02536</td></tr><tr><td>downward_MI_2</td><td>0.03117</td></tr><tr><td>downward_MI_20</td><td>0.00071</td></tr><tr><td>downward_MI_21</td><td>0.02492</td></tr><tr><td>downward_MI_22</td><td>0.06649</td></tr><tr><td>downward_MI_23</td><td>0.09507</td></tr><tr><td>downward_MI_24</td><td>0.06392</td></tr><tr><td>downward_MI_25</td><td>0.01479</td></tr><tr><td>downward_MI_26</td><td>0.00025</td></tr><tr><td>downward_MI_27</td><td>0.01808</td></tr><tr><td>downward_MI_28</td><td>0.1029</td></tr><tr><td>downward_MI_29</td><td>0.00093</td></tr><tr><td>downward_MI_3</td><td>0.04731</td></tr><tr><td>downward_MI_30</td><td>0.00155</td></tr><tr><td>downward_MI_31</td><td>0.10008</td></tr><tr><td>downward_MI_32</td><td>0.08468</td></tr><tr><td>downward_MI_33</td><td>0.13346</td></tr><tr><td>downward_MI_34</td><td>0.06095</td></tr><tr><td>downward_MI_35</td><td>0.05002</td></tr><tr><td>downward_MI_36</td><td>0.0546</td></tr><tr><td>downward_MI_37</td><td>0.03017</td></tr><tr><td>downward_MI_38</td><td>0.09854</td></tr><tr><td>downward_MI_39</td><td>0.05543</td></tr><tr><td>downward_MI_4</td><td>0.1988</td></tr><tr><td>downward_MI_40</td><td>0.11519</td></tr><tr><td>downward_MI_41</td><td>0.1289</td></tr><tr><td>downward_MI_42</td><td>0.01265</td></tr><tr><td>downward_MI_43</td><td>0.07419</td></tr><tr><td>downward_MI_44</td><td>0.01961</td></tr><tr><td>downward_MI_45</td><td>0.12578</td></tr><tr><td>downward_MI_46</td><td>0.03321</td></tr><tr><td>downward_MI_47</td><td>0.06009</td></tr><tr><td>downward_MI_48</td><td>0.11811</td></tr><tr><td>downward_MI_49</td><td>0.06137</td></tr><tr><td>downward_MI_5</td><td>0.02708</td></tr><tr><td>downward_MI_50</td><td>0.07252</td></tr><tr><td>downward_MI_51</td><td>0.01356</td></tr><tr><td>downward_MI_52</td><td>0.10678</td></tr><tr><td>downward_MI_53</td><td>0.09487</td></tr><tr><td>downward_MI_54</td><td>0.04087</td></tr><tr><td>downward_MI_55</td><td>0.04794</td></tr><tr><td>downward_MI_56</td><td>0.12252</td></tr><tr><td>downward_MI_57</td><td>0.0689</td></tr><tr><td>downward_MI_58</td><td>0.05687</td></tr><tr><td>downward_MI_59</td><td>0.01431</td></tr><tr><td>downward_MI_6</td><td>-0.00154</td></tr><tr><td>downward_MI_60</td><td>0.04968</td></tr><tr><td>downward_MI_61</td><td>0.04904</td></tr><tr><td>downward_MI_62</td><td>0.05219</td></tr><tr><td>downward_MI_63</td><td>0.03972</td></tr><tr><td>downward_MI_7</td><td>0.1381</td></tr><tr><td>downward_MI_8</td><td>0.09832</td></tr><tr><td>downward_MI_9</td><td>-0.00055</td></tr></table><br/></div></div>"
      ],
      "text/plain": [
       "<IPython.core.display.HTML object>"
      ]
     },
     "metadata": {},
     "output_type": "display_data"
    },
    {
     "data": {
      "text/html": [
       " View run <strong style=\"color:#cdcd00\">fresh-sea-7</strong> at: <a href='https://wandb.ai/dmcsharry/lots-of-downward-critics-ecog/runs/6t4n233w' target=\"_blank\">https://wandb.ai/dmcsharry/lots-of-downward-critics-ecog/runs/6t4n233w</a><br/>Synced 5 W&B file(s), 0 media file(s), 0 artifact file(s) and 0 other file(s)"
      ],
      "text/plain": [
       "<IPython.core.display.HTML object>"
      ]
     },
     "metadata": {},
     "output_type": "display_data"
    },
    {
     "data": {
      "text/html": [
       "Find logs at: <code>./wandb/run-20240408_192510-6t4n233w/logs</code>"
      ],
      "text/plain": [
       "<IPython.core.display.HTML object>"
      ]
     },
     "metadata": {},
     "output_type": "display_data"
    },
    {
     "data": {
      "text/html": [
       "Successfully finished last run (ID:6t4n233w). Initializing new run:<br/>"
      ],
      "text/plain": [
       "<IPython.core.display.HTML object>"
      ]
     },
     "metadata": {},
     "output_type": "display_data"
    },
    {
     "data": {
      "text/html": [
       "wandb version 0.16.6 is available!  To upgrade, please run:\n",
       " $ pip install wandb --upgrade"
      ],
      "text/plain": [
       "<IPython.core.display.HTML object>"
      ]
     },
     "metadata": {},
     "output_type": "display_data"
    },
    {
     "data": {
      "text/html": [
       "Tracking run with wandb version 0.16.4"
      ],
      "text/plain": [
       "<IPython.core.display.HTML object>"
      ]
     },
     "metadata": {},
     "output_type": "display_data"
    },
    {
     "data": {
      "text/html": [
       "Run data is saved locally in <code>/vol/bitbucket/dm2223/info-theory-experiments/wandb/run-20240408_195003-5vulotbb</code>"
      ],
      "text/plain": [
       "<IPython.core.display.HTML object>"
      ]
     },
     "metadata": {},
     "output_type": "display_data"
    },
    {
     "data": {
      "text/html": [
       "Syncing run <strong><a href='https://wandb.ai/dmcsharry/lots-of-downward-critics-ecog/runs/5vulotbb' target=\"_blank\">flowing-grass-8</a></strong> to <a href='https://wandb.ai/dmcsharry/lots-of-downward-critics-ecog' target=\"_blank\">Weights & Biases</a> (<a href='https://wandb.me/run' target=\"_blank\">docs</a>)<br/>"
      ],
      "text/plain": [
       "<IPython.core.display.HTML object>"
      ]
     },
     "metadata": {},
     "output_type": "display_data"
    },
    {
     "data": {
      "text/html": [
       " View project at <a href='https://wandb.ai/dmcsharry/lots-of-downward-critics-ecog' target=\"_blank\">https://wandb.ai/dmcsharry/lots-of-downward-critics-ecog</a>"
      ],
      "text/plain": [
       "<IPython.core.display.HTML object>"
      ]
     },
     "metadata": {},
     "output_type": "display_data"
    },
    {
     "data": {
      "text/html": [
       " View run at <a href='https://wandb.ai/dmcsharry/lots-of-downward-critics-ecog/runs/5vulotbb' target=\"_blank\">https://wandb.ai/dmcsharry/lots-of-downward-critics-ecog/runs/5vulotbb</a>"
      ],
      "text/plain": [
       "<IPython.core.display.HTML object>"
      ]
     },
     "metadata": {},
     "output_type": "display_data"
    },
    {
     "name": "stderr",
     "output_type": "stream",
     "text": [
      "Training: 100%|██████████| 20/20 [20:37<00:00, 61.90s/it]\n"
     ]
    },
    {
     "data": {
      "text/html": [
       "Finishing last run (ID:5vulotbb) before initializing another..."
      ],
      "text/plain": [
       "<IPython.core.display.HTML object>"
      ]
     },
     "metadata": {},
     "output_type": "display_data"
    },
    {
     "name": "stderr",
     "output_type": "stream",
     "text": [
      "wandb: WARNING Source type is set to 'repo' but some required information is missing from the environment. A job will not be created from this run. See https://docs.wandb.ai/guides/launch/create-job\n"
     ]
    },
    {
     "data": {
      "text/html": [
       "<style>\n",
       "    table.wandb td:nth-child(1) { padding: 0 10px; text-align: left ; width: auto;} td:nth-child(2) {text-align: left ; width: 100%}\n",
       "    .wandb-row { display: flex; flex-direction: row; flex-wrap: wrap; justify-content: flex-start; width: 100% }\n",
       "    .wandb-col { display: flex; flex-direction: column; flex-basis: 100%; flex: 1; padding: 10px; }\n",
       "    </style>\n",
       "<div class=\"wandb-row\"><div class=\"wandb-col\"><h3>Run history:</h3><br/><table class=\"wandb\"><tr><td>Psi</td><td>█▇▇█████████████████████████████▇▂▁▆▆▄▃▅</td></tr><tr><td>decoupled_MI</td><td>▁▁▁▁▁▁▂▄▃▅▅▅▆▅▆▆▆▇▆▇▇▆▇▆▅▇▇▇▇▅▇▆▆▁▄▇█▇▇█</td></tr><tr><td>downward_MI</td><td>▁▂▂▁▁▁▁▁▁▁▁▁▁▁▁▁▁▁▁▁▁▁▁▁▁▁▁▁▁▁▁▁▂▇█▃▃▅▆▄</td></tr><tr><td>downward_MI_0</td><td>▃▄▄▃▃▃▃▃▃▄▄▃▃▃▃▃▄▄▄▄▄▃▄▄▄▄▄▄▃▄▄▄▄▆█▅▄▆▆▁</td></tr><tr><td>downward_MI_1</td><td>▁▁▂▁▁▁▁▁▁▁▁▁▁▁▁▁▁▁▁▁▁▁▁▁▁▁▁▁▁▁▁▁▁▆█▂▂▄▄█</td></tr><tr><td>downward_MI_10</td><td>▁▁▂▁▁▁▁▁▁▁▁▁▁▁▁▁▁▁▁▁▁▁▁▁▁▁▁▁▁▁▁▁▂▇█▂▃▄▅▆</td></tr><tr><td>downward_MI_11</td><td>▁▂▁▁▁▁▁▁▁▁▁▁▁▁▁▁▁▁▁▁▁▁▁▁▁▁▁▁▁▁▁▁▁▆█▂▂▄▄▄</td></tr><tr><td>downward_MI_12</td><td>▃▃▃▃▃▃▃▃▃▃▃▃▃▃▃▃▃▃▃▃▃▃▃▃▃▃▃▃▃▃▃▃▄██▄▄▆▆▁</td></tr><tr><td>downward_MI_13</td><td>▁▂▂▁▁▁▁▁▁▂▂▂▁▁▁▁▁▁▂▁▁▁▁▁▁▁▂▂▂▂▂▂▃▁▁▅▅▆▇█</td></tr><tr><td>downward_MI_14</td><td>▆▆▆▆▆▆▆▆▆▆▆▆▆▆▆▆▆▆▆▆▆▆▆▆▆▆▆▆▆▆▆▆▆█▆▇▇██▁</td></tr><tr><td>downward_MI_15</td><td>▃▄▃▃▃▃▃▃▃▃▃▃▃▃▃▃▃▃▃▃▃▃▃▃▃▃▃▃▃▃▃▃▄▆█▅▅▇█▁</td></tr><tr><td>downward_MI_16</td><td>▁▂▂▁▁▁▁▁▁▁▁▁▁▁▁▁▁▁▁▁▁▁▁▁▁▁▁▁▁▁▁▁▁▅█▃▂▅▅▃</td></tr><tr><td>downward_MI_17</td><td>▁▁▂▁▁▁▁▁▁▁▁▁▁▁▁▁▁▁▁▁▁▁▁▁▁▁▁▁▁▁▁▁▁▅█▂▂▃▃▁</td></tr><tr><td>downward_MI_18</td><td>▅▅▅▅▅▅▅▅▅▅▅▅▅▅▅▅▅▅▅▅▅▅▅▅▅▅▅▅▅▅▅▅▆██▆▆██▁</td></tr><tr><td>downward_MI_19</td><td>▁▁▂▁▁▁▁▁▁▁▁▁▁▁▁▁▁▁▁▁▁▁▁▁▁▁▁▁▁▁▁▁▂█▅▃▃▅▅▄</td></tr><tr><td>downward_MI_2</td><td>▄▅▅▄▄▄▄▄▄▄▄▄▄▄▄▄▄▄▄▄▄▄▄▄▄▄▅▄▄▄▄▅▅██▅▆▇▇▁</td></tr><tr><td>downward_MI_20</td><td>▁▁▁▁▁▁▁▁▁▁▁▁▁▁▁▁▁▁▁▁▁▁▁▁▁▁▁▁▁▁▁▁▁▅▆▂▃▄▅█</td></tr><tr><td>downward_MI_21</td><td>▁▁▁▁▁▁▁▁▁▁▁▁▁▁▁▁▁▁▁▁▁▁▁▁▁▁▁▁▁▁▁▁▁▃▄▁▁▂▃█</td></tr><tr><td>downward_MI_22</td><td>▁▁▂▁▁▁▁▁▁▁▁▁▁▁▁▁▁▁▁▁▁▁▁▁▁▁▁▁▁▁▁▁▂█▇▂▃▄▅▅</td></tr><tr><td>downward_MI_23</td><td>▁▂▂▁▁▁▁▁▁▁▁▁▁▁▁▁▁▁▁▁▁▁▁▁▁▁▁▁▁▂▂▂▃▃▄▄▄▆▇█</td></tr><tr><td>downward_MI_24</td><td>▁▃▃▂▁▁▁▂▁▂▂▁▁▁▁▁▁▁▁▁▂▁▁▁▁▁▁▁▁▁▁▁▁▆█▂▂▆▇▃</td></tr><tr><td>downward_MI_25</td><td>▆▆▆▆▆▆▆▆▆▆▆▆▆▆▆▆▆▆▆▆▆▆▆▆▆▆▆▆▆▆▆▆▆▄▄▇▇██▁</td></tr><tr><td>downward_MI_26</td><td>▁▂▂▁▁▁▁▁▁▁▁▁▁▁▁▁▁▁▁▁▁▁▁▁▁▁▁▁▁▁▁▁▁▇█▂▂▄▅▆</td></tr><tr><td>downward_MI_27</td><td>▁▂▁▁▁▁▁▁▁▁▁▁▁▁▁▁▁▁▁▁▁▁▁▁▁▁▁▁▁▁▁▁▁▇▇▂▂▄▄█</td></tr><tr><td>downward_MI_28</td><td>▁▂▂▁▁▁▁▁▁▁▁▁▁▁▁▁▁▁▁▁▁▁▁▁▁▁▁▁▁▁▁▁▁▇▇▂▂▄▅█</td></tr><tr><td>downward_MI_29</td><td>▅▅▅▅▅▅▅▅▅▅▅▅▅▅▅▅▅▅▅▅▅▅▅▅▅▅▅▅▅▅▅▅▅██▆▆██▁</td></tr><tr><td>downward_MI_3</td><td>▁▁▁▁▁▁▁▁▁▁▁▁▁▁▁▁▁▁▁▁▁▁▁▁▁▁▁▁▁▁▁▁▁▇▇▃▃▄▅█</td></tr><tr><td>downward_MI_30</td><td>▁▁▂▁▁▁▁▁▁▁▁▁▁▁▁▁▁▁▁▁▁▁▁▁▁▁▁▁▁▁▁▁▁▆█▂▃▄▄▄</td></tr><tr><td>downward_MI_31</td><td>▁▂▂▁▁▁▁▁▁▁▁▁▁▁▁▁▁▁▁▁▁▁▁▁▁▁▁▁▁▂▁▂▃██▃▄▆▆▃</td></tr><tr><td>downward_MI_32</td><td>▁▂▂▁▁▁▁▁▁▁▁▁▁▁▁▁▁▁▁▁▁▁▁▁▁▁▁▁▁▁▁▁▁██▂▂▄▄▅</td></tr><tr><td>downward_MI_33</td><td>▁▁▁▁▁▁▁▁▁▁▁▁▁▁▁▁▁▁▁▁▁▁▁▁▁▁▁▁▁▁▁▁▁▅▅▁▁▃▃█</td></tr><tr><td>downward_MI_34</td><td>▁▁▂▁▁▁▁▁▁▁▁▁▁▁▁▁▁▁▁▁▁▁▁▁▁▁▁▁▁▁▁▁▂▇█▂▂▅▅▅</td></tr><tr><td>downward_MI_35</td><td>▁▂▂▁▁▁▁▁▁▁▁▁▁▁▁▁▁▁▁▁▁▁▁▁▁▁▁▁▁▁▁▁▁▆█▂▂▄▄█</td></tr><tr><td>downward_MI_36</td><td>▁▁▁▁▁▁▁▁▁▁▁▁▁▁▁▁▁▁▁▁▁▁▁▁▁▁▁▁▁▁▁▁▁▆█▂▂▃▃▃</td></tr><tr><td>downward_MI_37</td><td>▁▁▁▁▁▁▁▁▁▁▁▁▁▁▁▁▁▁▁▁▁▁▁▁▁▁▁▁▁▁▁▁▁▄▅▂▂▃▃█</td></tr><tr><td>downward_MI_38</td><td>▁▂▂▁▁▁▁▁▁▁▁▁▁▁▁▁▁▁▁▁▁▁▁▁▁▁▁▁▁▁▁▁▁▆█▂▂▄▃▄</td></tr><tr><td>downward_MI_39</td><td>▁▁▁▁▁▁▁▁▁▁▁▁▁▁▁▁▁▁▁▁▁▁▁▁▁▁▁▁▁▁▁▁▁▄▄▁▁▂▂█</td></tr><tr><td>downward_MI_4</td><td>▁▁▁▁▁▁▁▁▁▁▁▁▁▁▁▁▁▁▁▁▁▁▁▁▁▁▁▁▁▁▁▁▁▅█▂▂▄▄▅</td></tr><tr><td>downward_MI_40</td><td>▁▁▁▁▁▁▁▁▁▁▁▁▁▁▁▁▁▁▁▁▁▁▁▁▁▁▁▁▁▁▁▁▁▆█▂▂▄▄▂</td></tr><tr><td>downward_MI_41</td><td>▁▁▁▁▁▁▁▁▁▁▁▁▁▁▁▁▁▁▁▁▁▁▁▁▁▁▁▁▁▁▁▁▁▂█▃▂▅▅▆</td></tr><tr><td>downward_MI_42</td><td>▄▅▅▅▄▄▄▅▄▅▅▄▄▄▄▅▅▅▅▄▅▄▄▄▄▄▅▄▄▅▄▅▅██▅▅▇▇▁</td></tr><tr><td>downward_MI_43</td><td>▁▁▂▁▁▁▁▁▁▁▁▁▁▁▁▁▁▁▁▁▁▁▁▁▁▁▁▁▁▁▁▁▁██▂▂▄▄█</td></tr><tr><td>downward_MI_44</td><td>▁▁▁▁▁▁▁▁▁▁▁▁▁▁▁▁▁▁▁▁▁▁▁▁▁▁▁▁▁▁▁▁▁▆█▂▂▃▃▆</td></tr><tr><td>downward_MI_45</td><td>▂▂▂▂▂▂▂▂▂▂▂▂▂▂▂▂▂▂▂▂▂▂▂▂▂▂▂▂▂▂▂▂▂▆█▂▂▄▄▁</td></tr><tr><td>downward_MI_46</td><td>▁▂▃▁▁▁▁▁▁▁▁▁▁▁▁▁▁▁▁▁▁▁▁▁▁▁▁▁▁▁▁▂▂█▇▃▃▆▆▇</td></tr><tr><td>downward_MI_47</td><td>▅▅▅▅▅▅▅▅▅▅▅▅▅▅▅▅▅▅▅▅▅▅▅▅▅▅▅▅▅▅▅▅▅██▅▅▆▆▁</td></tr><tr><td>downward_MI_48</td><td>▄▅▅▄▄▄▄▅▅▄▄▄▅▅▅▄▄▄▄▄▅▄▄▅▅▅▄▅▅▅▅▅▅▂▄▇▆▇█▁</td></tr><tr><td>downward_MI_49</td><td>▃▃▃▃▃▃▃▃▃▃▃▃▃▄▅▄▃▃▂▃▃▃▃▃▃▃▃▃▃▃▃▃▃▆█▅▄▇▇▁</td></tr><tr><td>downward_MI_5</td><td>▃▄▄▃▃▃▃▃▃▃▃▃▃▃▃▃▃▃▃▃▃▃▃▃▃▃▄▄▃▃▃▄▄▇█▄▅▇▇▁</td></tr><tr><td>downward_MI_50</td><td>▂▃▃▂▂▂▃▅▂▂▂▂▃▃▃▂▂▂▃▄▄▂▂▂▃▄▂▃▅▃▄▂▃▁▅▅▄▇█▄</td></tr><tr><td>downward_MI_51</td><td>▄▅▅▅▄▄▅▆▅▄▄▄▅▅▅▄▄▅▄▅▆▄▄▅▅▅▅▅▆▅▅▅▅▆▁▇▅▇█▁</td></tr><tr><td>downward_MI_52</td><td>▁▁▁▁▁▁▁▁▁▁▁▁▁▁▁▁▁▁▁▁▁▁▂▁▂▂▂▂▂▂▂▁▂▅▇▃▃▆▆█</td></tr><tr><td>downward_MI_53</td><td>▂▂▃▂▂▂▂▄▂▂▂▂▃▃▃▂▂▂▂▂▃▂▂▂▂▃▂▂▃▃▃▂▃▆▁▆▄▆█▅</td></tr><tr><td>downward_MI_54</td><td>▅▅▅▅▅▅▅▅▅▅▅▅▅▅▅▅▅▅▅▅▅▅▅▅▅▅▅▅▆▅▅▅▅▆▅▆▆▇█▁</td></tr><tr><td>downward_MI_55</td><td>▁▂▂▂▁▁▁▂▂▂▁▁▂▂▃▁▁▂▁▂▂▂▂▂▂▂▁▂▃▂▃▂▂▆█▄▃▆▇▃</td></tr><tr><td>downward_MI_56</td><td>▁▂▂▁▁▁▁▁▁▁▁▁▁▁▂▃▂▁▁▁▂▁▂▂▁▁▂▁▂▂▂▂▂▅▅▅▃▇█▁</td></tr><tr><td>downward_MI_57</td><td>▁▂▂▁▁▁▁▁▁▁▁▁▁▁▁▁▁▁▁▁▁▁▁▁▁▁▁▁▁▁▁▁▁▃▄▁▁▃▃█</td></tr><tr><td>downward_MI_58</td><td>▃▃▄▃▃▃▃▃▃▃▃▃▃▃▃▃▃▃▃▃▃▃▃▃▃▃▃▃▄▃▃▃▃▁▃▆▄██▇</td></tr><tr><td>downward_MI_59</td><td>▁▂▂▂▁▁▁▃▁▁▁▁▂▂▂▁▁▁▁▂▂▁▁▁▁▁▁▂▂▁▂▁▁▅█▄▃▆▇▃</td></tr><tr><td>downward_MI_6</td><td>▁▁▂▁▁▁▁▁▁▁▁▁▁▁▁▁▁▁▁▁▁▁▁▁▁▁▁▁▁▁▁▁▂▇█▃▃▅▅▅</td></tr><tr><td>downward_MI_60</td><td>▁▁▁▁▁▁▁▁▁▁▁▁▁▁▁▁▁▁▁▁▁▁▁▁▁▁▁▁▁▁▁▁▁▆█▂▁▃▃▇</td></tr><tr><td>downward_MI_61</td><td>▁▁▁▁▁▁▁▁▁▁▁▁▁▁▁▁▁▁▁▁▁▁▁▁▁▁▁▁▁▁▁▁▁▆█▂▁▃▃▅</td></tr><tr><td>downward_MI_62</td><td>▄▄▄▄▄▄▄▅▄▄▄▄▄▄▄▄▄▄▄▄▄▄▄▄▄▄▄▄▄▄▄▄▄█▇▅▅▇█▁</td></tr><tr><td>downward_MI_63</td><td>▃▃▄▄▃▃▄▅▃▃▃▃▄▄▃▃▃▄▄▅▄▃▃▃▄▃▄▄▅▄▄▄▄▁▂▆▅▇▆█</td></tr><tr><td>downward_MI_7</td><td>▂▃▃▂▂▂▂▂▂▂▃▂▂▂▂▂▂▂▃▂▂▂▂▂▂▂▃▂▂▂▂▃▃▇█▃▄▅▅▁</td></tr><tr><td>downward_MI_8</td><td>▁▁▂▁▁▁▁▁▁▁▁▁▁▁▁▁▁▁▁▁▁▁▁▁▁▁▁▁▁▁▁▁▁▇█▂▂▄▄▄</td></tr><tr><td>downward_MI_9</td><td>▁▂▂▁▁▁▁▁▁▁▁▁▁▁▁▁▁▁▁▁▁▁▁▁▁▁▁▁▁▁▁▁▁▆█▂▂▄▄▆</td></tr></table><br/></div><div class=\"wandb-col\"><h3>Run summary:</h3><br/><table class=\"wandb\"><tr><td>Psi</td><td>-10.15739</td></tr><tr><td>decoupled_MI</td><td>0.1956</td></tr><tr><td>downward_MI</td><td>10.35299</td></tr><tr><td>downward_MI_0</td><td>0.22229</td></tr><tr><td>downward_MI_1</td><td>0.1756</td></tr><tr><td>downward_MI_10</td><td>0.20224</td></tr><tr><td>downward_MI_11</td><td>0.20757</td></tr><tr><td>downward_MI_12</td><td>0.21206</td></tr><tr><td>downward_MI_13</td><td>0.23667</td></tr><tr><td>downward_MI_14</td><td>0.21526</td></tr><tr><td>downward_MI_15</td><td>0.24686</td></tr><tr><td>downward_MI_16</td><td>0.20268</td></tr><tr><td>downward_MI_17</td><td>0.15317</td></tr><tr><td>downward_MI_18</td><td>0.17142</td></tr><tr><td>downward_MI_19</td><td>0.16271</td></tr><tr><td>downward_MI_2</td><td>0.21646</td></tr><tr><td>downward_MI_20</td><td>0.21702</td></tr><tr><td>downward_MI_21</td><td>0.11562</td></tr><tr><td>downward_MI_22</td><td>0.17611</td></tr><tr><td>downward_MI_23</td><td>0.1729</td></tr><tr><td>downward_MI_24</td><td>0.1797</td></tr><tr><td>downward_MI_25</td><td>0.20441</td></tr><tr><td>downward_MI_26</td><td>0.17274</td></tr><tr><td>downward_MI_27</td><td>0.13487</td></tr><tr><td>downward_MI_28</td><td>0.14879</td></tr><tr><td>downward_MI_29</td><td>0.21131</td></tr><tr><td>downward_MI_3</td><td>0.22689</td></tr><tr><td>downward_MI_30</td><td>0.19855</td></tr><tr><td>downward_MI_31</td><td>0.19852</td></tr><tr><td>downward_MI_32</td><td>0.11739</td></tr><tr><td>downward_MI_33</td><td>0.13001</td></tr><tr><td>downward_MI_34</td><td>0.12268</td></tr><tr><td>downward_MI_35</td><td>0.09609</td></tr><tr><td>downward_MI_36</td><td>0.16107</td></tr><tr><td>downward_MI_37</td><td>0.13812</td></tr><tr><td>downward_MI_38</td><td>0.10474</td></tr><tr><td>downward_MI_39</td><td>0.10888</td></tr><tr><td>downward_MI_4</td><td>0.2044</td></tr><tr><td>downward_MI_40</td><td>0.16708</td></tr><tr><td>downward_MI_41</td><td>0.13904</td></tr><tr><td>downward_MI_42</td><td>0.15806</td></tr><tr><td>downward_MI_43</td><td>0.13902</td></tr><tr><td>downward_MI_44</td><td>0.14601</td></tr><tr><td>downward_MI_45</td><td>0.12773</td></tr><tr><td>downward_MI_46</td><td>0.14909</td></tr><tr><td>downward_MI_47</td><td>0.1484</td></tr><tr><td>downward_MI_48</td><td>0.16086</td></tr><tr><td>downward_MI_49</td><td>0.14172</td></tr><tr><td>downward_MI_5</td><td>0.20098</td></tr><tr><td>downward_MI_50</td><td>0.14047</td></tr><tr><td>downward_MI_51</td><td>0.12345</td></tr><tr><td>downward_MI_52</td><td>0.1309</td></tr><tr><td>downward_MI_53</td><td>0.13292</td></tr><tr><td>downward_MI_54</td><td>0.12387</td></tr><tr><td>downward_MI_55</td><td>0.09151</td></tr><tr><td>downward_MI_56</td><td>0.15582</td></tr><tr><td>downward_MI_57</td><td>0.09145</td></tr><tr><td>downward_MI_58</td><td>0.12839</td></tr><tr><td>downward_MI_59</td><td>0.12101</td></tr><tr><td>downward_MI_6</td><td>0.21417</td></tr><tr><td>downward_MI_60</td><td>0.10608</td></tr><tr><td>downward_MI_61</td><td>0.10909</td></tr><tr><td>downward_MI_62</td><td>0.11944</td></tr><tr><td>downward_MI_63</td><td>0.15191</td></tr><tr><td>downward_MI_7</td><td>0.17616</td></tr><tr><td>downward_MI_8</td><td>0.19004</td></tr><tr><td>downward_MI_9</td><td>0.20677</td></tr></table><br/></div></div>"
      ],
      "text/plain": [
       "<IPython.core.display.HTML object>"
      ]
     },
     "metadata": {},
     "output_type": "display_data"
    },
    {
     "data": {
      "text/html": [
       " View run <strong style=\"color:#cdcd00\">flowing-grass-8</strong> at: <a href='https://wandb.ai/dmcsharry/lots-of-downward-critics-ecog/runs/5vulotbb' target=\"_blank\">https://wandb.ai/dmcsharry/lots-of-downward-critics-ecog/runs/5vulotbb</a><br/>Synced 5 W&B file(s), 0 media file(s), 0 artifact file(s) and 0 other file(s)"
      ],
      "text/plain": [
       "<IPython.core.display.HTML object>"
      ]
     },
     "metadata": {},
     "output_type": "display_data"
    },
    {
     "data": {
      "text/html": [
       "Find logs at: <code>./wandb/run-20240408_195003-5vulotbb/logs</code>"
      ],
      "text/plain": [
       "<IPython.core.display.HTML object>"
      ]
     },
     "metadata": {},
     "output_type": "display_data"
    },
    {
     "data": {
      "text/html": [
       "Successfully finished last run (ID:5vulotbb). Initializing new run:<br/>"
      ],
      "text/plain": [
       "<IPython.core.display.HTML object>"
      ]
     },
     "metadata": {},
     "output_type": "display_data"
    },
    {
     "data": {
      "text/html": [
       "wandb version 0.16.6 is available!  To upgrade, please run:\n",
       " $ pip install wandb --upgrade"
      ],
      "text/plain": [
       "<IPython.core.display.HTML object>"
      ]
     },
     "metadata": {},
     "output_type": "display_data"
    },
    {
     "data": {
      "text/html": [
       "Tracking run with wandb version 0.16.4"
      ],
      "text/plain": [
       "<IPython.core.display.HTML object>"
      ]
     },
     "metadata": {},
     "output_type": "display_data"
    },
    {
     "data": {
      "text/html": [
       "Run data is saved locally in <code>/vol/bitbucket/dm2223/info-theory-experiments/wandb/run-20240408_201243-kj7y6m52</code>"
      ],
      "text/plain": [
       "<IPython.core.display.HTML object>"
      ]
     },
     "metadata": {},
     "output_type": "display_data"
    },
    {
     "data": {
      "text/html": [
       "Syncing run <strong><a href='https://wandb.ai/dmcsharry/lots-of-downward-critics-ecog/runs/kj7y6m52' target=\"_blank\">icy-pyramid-9</a></strong> to <a href='https://wandb.ai/dmcsharry/lots-of-downward-critics-ecog' target=\"_blank\">Weights & Biases</a> (<a href='https://wandb.me/run' target=\"_blank\">docs</a>)<br/>"
      ],
      "text/plain": [
       "<IPython.core.display.HTML object>"
      ]
     },
     "metadata": {},
     "output_type": "display_data"
    },
    {
     "data": {
      "text/html": [
       " View project at <a href='https://wandb.ai/dmcsharry/lots-of-downward-critics-ecog' target=\"_blank\">https://wandb.ai/dmcsharry/lots-of-downward-critics-ecog</a>"
      ],
      "text/plain": [
       "<IPython.core.display.HTML object>"
      ]
     },
     "metadata": {},
     "output_type": "display_data"
    },
    {
     "data": {
      "text/html": [
       " View run at <a href='https://wandb.ai/dmcsharry/lots-of-downward-critics-ecog/runs/kj7y6m52' target=\"_blank\">https://wandb.ai/dmcsharry/lots-of-downward-critics-ecog/runs/kj7y6m52</a>"
      ],
      "text/plain": [
       "<IPython.core.display.HTML object>"
      ]
     },
     "metadata": {},
     "output_type": "display_data"
    },
    {
     "name": "stderr",
     "output_type": "stream",
     "text": [
      "Training: 100%|██████████| 20/20 [20:37<00:00, 61.89s/it]\n"
     ]
    },
    {
     "data": {
      "text/html": [
       "Finishing last run (ID:kj7y6m52) before initializing another..."
      ],
      "text/plain": [
       "<IPython.core.display.HTML object>"
      ]
     },
     "metadata": {},
     "output_type": "display_data"
    },
    {
     "name": "stderr",
     "output_type": "stream",
     "text": [
      "wandb: WARNING Source type is set to 'repo' but some required information is missing from the environment. A job will not be created from this run. See https://docs.wandb.ai/guides/launch/create-job\n"
     ]
    },
    {
     "data": {
      "text/html": [
       "<style>\n",
       "    table.wandb td:nth-child(1) { padding: 0 10px; text-align: left ; width: auto;} td:nth-child(2) {text-align: left ; width: 100%}\n",
       "    .wandb-row { display: flex; flex-direction: row; flex-wrap: wrap; justify-content: flex-start; width: 100% }\n",
       "    .wandb-col { display: flex; flex-direction: column; flex-basis: 100%; flex: 1; padding: 10px; }\n",
       "    </style>\n",
       "<div class=\"wandb-row\"><div class=\"wandb-col\"><h3>Run history:</h3><br/><table class=\"wandb\"><tr><td>Psi</td><td>▆█▃▅▆▆▆▆▆▆▆▇▅▇▅▆▅▅▆▆▅▆▆▆▆▆▆▇▆▆▅▆▆▂▂▄▅▄▄▁</td></tr><tr><td>decoupled_MI</td><td>▁▂▅▃▃▃▂▃▂▂▃▃▅▃▅▄▃▅▃▄▇▄▃▃▄▄▅▅▅▆▆▃▄█▇▅▄▅▅█</td></tr><tr><td>downward_MI</td><td>▃▁▆▄▃▃▃▃▃▃▃▂▄▂▄▃▄▄▃▃▄▃▃▃▃▃▃▃▃▃▄▃▃▇▇▅▄▅▅█</td></tr><tr><td>downward_MI_0</td><td>▅▁▆▅▅▅▅▅▅▅▆▄▅▅▅▅▅▅▅▅▅▅▅▅▅▅▅▅▅▅▅▅▅▇▆▆▅▆▆█</td></tr><tr><td>downward_MI_1</td><td>▂▂▄▃▂▃▂▂▂▃▃▁▄▂▃▂▃▃▂▃▃▃▂▂▂▂▃▂▂▃▃▃▃▆▄▄▃▄▄█</td></tr><tr><td>downward_MI_10</td><td>▃▁▄▄▃▃▃▃▃▃▃▂▅▃▄▄▄▃▃▃▃▃▄▃▃▃▃▃▃▃▄▃▃▆█▄▃▅▅█</td></tr><tr><td>downward_MI_11</td><td>▂▁▅▃▂▃▂▂▂▃▃▂▂▂▃▃▃▃▂▂▄▂▂▂▂▂▃▂▂▂▃▃▃▆▅▃▃▄▄█</td></tr><tr><td>downward_MI_12</td><td>▃▁▇▄▃▄▃▃▃▃▃▃▄▂▃▃▄▃▃▃▅▃▃▃▃▃▃▃▃▃▄▃▃▅█▄▃▅▅█</td></tr><tr><td>downward_MI_13</td><td>▄▁▆▄▄▄▄▄▄▄▄▃▄▄▄▄▄▄▄▄▅▄▄▄▄▄▄▄▄▄▄▄▄▇▅▄▄▅▅█</td></tr><tr><td>downward_MI_14</td><td>▂▂▅▃▂▃▂▂▂▃▃▁▃▂▂▂▂▂▂▂▂▂▂▂▂▂▂▂▂▃▃▂▂▅▅▃▃▄▄█</td></tr><tr><td>downward_MI_15</td><td>▂▂▅▂▂▂▂▂▂▃▃▁▄▂▃▂▃▃▂▃▄▃▃▃▂▂▃▂▂▂▂▂▂▆█▃▃▄▄█</td></tr><tr><td>downward_MI_16</td><td>▃▁▆▄▃▄▃▃▃▄▃▃▃▂▄▄▄▄▃▃▅▃▃▃▃▃▃▃▄▃▄▄▃█▇▄▄▅▅█</td></tr><tr><td>downward_MI_17</td><td>▃▁▇▄▃▄▃▃▃▄▄▃▅▃▅▄▄▄▂▃▄▃▃▃▄▃▄▃▄▄▅▄▄▆█▅▄▆▆█</td></tr><tr><td>downward_MI_18</td><td>▃▁▆▄▃▄▃▄▃▄▄▃▅▂▅▃▄▃▃▄▅▄▃▃▃▃▃▂▃▃▄▄▃▆█▅▄▆▅█</td></tr><tr><td>downward_MI_19</td><td>▂▁▆▃▂▂▂▂▂▃▂▂▄▂▄▄▄▄▃▄▄▃▂▂▃▂▃▂▂▃▃▃▃▆▅▄▃▅▅█</td></tr><tr><td>downward_MI_2</td><td>▂▂▆▃▂▃▂▂▂▃▂▁▅▂▄▂▃▃▁▃▄▃▃▂▂▂▃▂▃▃▃▃▃██▅▃▆▅█</td></tr><tr><td>downward_MI_20</td><td>▄▁▆▄▄▅▄▄▄▄▄▄▆▃▄▄▅▅▄▄▅▄▄▄▄▄▄▄▄▄▅▅▄▇▆▅▄▆▆█</td></tr><tr><td>downward_MI_21</td><td>▂▁▆▃▂▃▂▃▂▃▃▂▃▂▄▃▄▄▃▄▄▃▂▂▂▂▂▂▂▃▂▃▃▁▂▄▃▅▅█</td></tr><tr><td>downward_MI_22</td><td>▁▁▄▂▂▃▂▂▁▂▂▂▃▁▃▁▃▃▂▃▄▂▁▁▁▁▁▁▁▁▂▂▂▆█▃▂▄▄▇</td></tr><tr><td>downward_MI_23</td><td>▅▁▇▅▅▅▅▅▅▅▅▅▅▅▅▅▅▅▅▆▆▅▅▅▅▅▆▅▆▅▅▅▅██▆▆▇▆█</td></tr><tr><td>downward_MI_24</td><td>▃▁▆▄▃▄▄▄▃▄▅▃▆▃▅▄▄▅▃▄▆▄▄▄▃▃▄▃▄▃▅▄▄█▇▅▄▆▆█</td></tr><tr><td>downward_MI_25</td><td>▃▁▆▄▃▄▃▃▃▃▄▂▅▂▄▄▄▄▃▄▄▃▃▃▃▃▄▃▄▃▃▃▃▇█▄▄▅▅▇</td></tr><tr><td>downward_MI_26</td><td>▃▁▅▃▃▃▃▃▃▃▄▂▅▂▄▃▄▄▂▃▅▃▃▃▃▂▃▂▃▂▄▃▃▇█▄▃▅▅█</td></tr><tr><td>downward_MI_27</td><td>▃▁▆▄▃▄▃▃▃▄▄▃▆▂▅▅▅▅▄▄▆▄▃▃▂▃▃▃▃▂▅▄▄▇▆▅▄▆▅█</td></tr><tr><td>downward_MI_28</td><td>▅▁▇▅▅▅▅▅▅▅▅▅▆▅▅▅▅▅▅▆▆▅▅▅▅▅▅▅▅▅▅▅▅▄▅▆▅▆▆█</td></tr><tr><td>downward_MI_29</td><td>▁▁▂▂▁▂▁▁▁▂▂▁▃▁▂▂▃▂▂▃▃▂▁▂▂▁▂▁▂▁▁▂▂▅▃▃▂▄▃█</td></tr><tr><td>downward_MI_3</td><td>▃▁▅▃▃▃▃▃▃▃▃▂▄▂▃▃▃▃▃▃▄▃▃▃▃▃▃▂▃▃▃▃▃▇▇▄▃▅▅█</td></tr><tr><td>downward_MI_30</td><td>▄▁▆▅▄▄▄▄▄▄▅▃▆▃▅▄▅▄▄▅▅▄▄▄▄▄▄▃▄▄▄▄▄▅▆▅▄▆▅█</td></tr><tr><td>downward_MI_31</td><td>▄▁▆▅▄▅▄▅▄▅▅▂▆▄▅▄▅▄▄▅▅▄▄▄▄▄▄▄▄▅▅▅▅██▅▅▆▆▇</td></tr><tr><td>downward_MI_32</td><td>▂▁▅▂▂▂▂▂▂▂▂▂▂▂▂▁▂▂▂▂▂▂▂▂▂▂▂▁▂▂▂▂▂█▇▄▃▄▄█</td></tr><tr><td>downward_MI_33</td><td>▂▁▆▄▂▃▂▂▂▂▃▂▄▁▄▁▃▃▂▂▃▂▃▂▂▂▃▂▃▂▄▃▃██▄▃▅▅▆</td></tr><tr><td>downward_MI_34</td><td>▂▁▅▂▂▃▂▂▂▂▃▁▄▂▄▃▃▄▁▂▃▂▂▂▂▂▃▂▂▂▄▃▃██▄▃▅▅█</td></tr><tr><td>downward_MI_35</td><td>▂▁▅▃▂▂▂▂▂▃▂▂▃▁▃▂▂▂▂▂▃▂▂▂▂▂▂▁▂▂▃▂▂▇█▄▃▄▄▇</td></tr><tr><td>downward_MI_36</td><td>▂▁▄▂▂▂▂▂▂▃▂▂▃▁▃▃▃▃▂▃▄▂▂▃▃▂▂▂▃▂▃▂▂▇▇▄▃▅▅█</td></tr><tr><td>downward_MI_37</td><td>▆▁▇▆▆▆▆▆▆▆▆▆▇▅▇▅▆▆▆▆▇▆▆▆▆▆▆▆▆▆▇▆▆█▇▇▆▇▇▇</td></tr><tr><td>downward_MI_38</td><td>▂▁▆▄▂▂▂▂▂▂▃▂▅▂▃▂▄▄▂▄▆▃▂▃▃▂▃▂▂▃▄▃▃▇▅▅▃▅▅█</td></tr><tr><td>downward_MI_39</td><td>▂▁▆▃▂▂▂▂▂▃▃▁▄▁▃▁▂▂▂▂▂▂▂▂▂▂▂▁▃▁▃▂▂▆▅▄▃▄▄█</td></tr><tr><td>downward_MI_4</td><td>▃▁▆▄▃▃▃▃▃▄▄▃▅▂▄▃▄▄▃▃▅▃▃▃▃▃▃▃▃▃▃▃▃█▇▄▃▅▅█</td></tr><tr><td>downward_MI_40</td><td>▃▁▆▄▃▃▃▃▃▃▃▃▅▂▅▂▃▃▃▄▄▃▂▃▃▃▃▃▄▃▄▃▃▅▆▅▄▅▅█</td></tr><tr><td>downward_MI_41</td><td>▂▂▄▃▂▂▂▂▂▂▃▂▄▂▃▂▃▄▁▂▃▂▂▂▂▂▃▁▂▂▄▃▃▇▇▄▃▅▄█</td></tr><tr><td>downward_MI_42</td><td>▃▁▆▄▃▃▃▃▃▃▃▃▄▃▅▃▄▄▃▃▅▃▃▃▃▃▃▃▃▂▄▄▄▂█▅▄▆▆▆</td></tr><tr><td>downward_MI_43</td><td>▂▂▆▄▂▃▂▂▂▂▃▁▅▂▄▁▄▄▁▃▃▂▃▃▃▂▃▂▃▂▃▃▃▇▆▄▃▅▅█</td></tr><tr><td>downward_MI_44</td><td>▂▁▄▂▂▂▂▂▂▂▂▁▃▁▂▂▂▂▂▂▂▂▂▂▂▁▂▁▂▂▃▂▂▆█▃▂▄▃▅</td></tr><tr><td>downward_MI_45</td><td>▂▁▅▃▂▃▂▂▂▂▃▂▅▂▄▂▃▃▂▃▄▃▂▂▂▂▂▂▂▂▂▂▃▆▂▄▃▅▅█</td></tr><tr><td>downward_MI_46</td><td>▂▁▆▄▃▄▃▃▃▃▄▁▅▁▄▄▄▄▂▂▂▂▃▂▂▂▃▂▂▂▃▃▃▇█▄▃▅▅▇</td></tr><tr><td>downward_MI_47</td><td>▃▁▆▄▃▃▃▃▃▃▄▃▄▂▄▄▄▄▃▃▃▃▃▃▃▃▃▃▃▃▃▃▃▇█▄▄▅▅█</td></tr><tr><td>downward_MI_48</td><td>▄▁▆▄▄▄▄▄▄▄▄▄▄▄▄▄▄▄▄▄▄▄▄▄▄▄▅▄▄▄▅▅▅▇█▆▅▆▆█</td></tr><tr><td>downward_MI_49</td><td>▃▁▇▄▃▃▃▃▃▃▃▂▃▃▃▂▃▄▂▃▃▃▃▃▃▃▃▃▃▃▄▃▃▅▆▅▄▅▅█</td></tr><tr><td>downward_MI_5</td><td>▂▁▆▂▂▃▂▂▂▃▃▁▅▁▃▃▃▃▁▂▄▂▂▂▁▂▁▁▂▂▂▂▃▆█▄▃▅▅▃</td></tr><tr><td>downward_MI_50</td><td>▃▁▆▄▃▄▃▄▃▄▄▃▅▃▄▃▄▅▃▄▄▄▄▄▄▄▄▃▄▄▆▄▄██▆▅▆▆▇</td></tr><tr><td>downward_MI_51</td><td>▂▂▆▂▂▂▂▂▂▂▂▁▃▁▂▁▂▃▁▂▃▂▂▂▂▂▃▁▂▂▅▃▃▆█▅▃▆▅▁</td></tr><tr><td>downward_MI_52</td><td>▂▂▇▃▂▂▂▃▂▂▃▁▄▁▃▂▂▄▂▂▂▂▂▂▂▂▂▂▂▂▂▂▂▆▃▅▃▅▅█</td></tr><tr><td>downward_MI_53</td><td>▃▁▅▃▃▃▃▄▃▃▄▂▄▂▃▃▄▅▂▄▆▄▂▃▃▃▄▂▃▃▅▄▄▆▆▅▄▅▆█</td></tr><tr><td>downward_MI_54</td><td>▄▁▇▄▄▄▄▄▄▄▄▃▄▃▄▄▄▄▄▄▄▄▄▄▄▄▄▄▄▄▅▄▄▇█▅▅▆▆█</td></tr><tr><td>downward_MI_55</td><td>▃▁▅▃▃▃▃▃▃▃▃▃▃▃▃▃▃▃▃▃▄▃▃▃▃▃▃▃▃▃▄▄▄█▇▅▄▅▅▆</td></tr><tr><td>downward_MI_56</td><td>▁▁▆▃▁▂▁▂▁▂▁▁▁▁▁▁▂▁▁▁▁▁▁▁▂▁▂▁▁▂▃▃▂█▆▄▃▅▅▅</td></tr><tr><td>downward_MI_57</td><td>▂▂▅▃▂▂▂▂▂▂▃▁▃▁▃▂▂▂▂▂▂▂▂▂▂▂▂▁▂▂▄▃▂█▄▄▃▄▄▆</td></tr><tr><td>downward_MI_58</td><td>▃▁▅▄▃▃▃▃▃▄▄▂▄▃▃▃▃▃▃▄▄▄▃▃▄▃▄▃▃▃▄▄▄▅█▅▄▅▅▆</td></tr><tr><td>downward_MI_59</td><td>▂▁▅▃▂▃▂▂▂▂▂▁▄▂▄▂▂▂▂▂▃▂▂▂▂▂▂▂▂▂▃▃▃▇█▄▃▅▅█</td></tr><tr><td>downward_MI_6</td><td>▅▁█▆▅▆▅▅▅▆▅▄▅▅▅▅▅▅▅▅▅▅▅▅▅▅▅▅▅▆▅▅▆▆▇▆▆▇▇█</td></tr><tr><td>downward_MI_60</td><td>▃▁▅▄▃▃▃▃▂▃▃▂▄▂▄▂▃▃▃▄▅▃▃▃▃▃▃▂▃▃▄▃▃█▄▄▃▅▅▇</td></tr><tr><td>downward_MI_61</td><td>▃▁▅▄▃▃▃▃▃▃▄▂▅▂▅▃▃▅▂▃▆▃▃▃▃▃▃▃▃▃▄▃▃▇█▅▄▆▆▃</td></tr><tr><td>downward_MI_62</td><td>▂▁▆▃▂▃▂▃▂▃▃▁▃▂▂▂▂▂▂▂▄▂▃▂▂▂▂▂▂▂▃▃▃▇▇▄▃▅▅█</td></tr><tr><td>downward_MI_63</td><td>▃▁█▄▃▃▄▄▃▃▄▂▅▂▅▃▄▅▂▃▃▃▃▃▃▃▃▃▃▄▅▄▄▆▅▅▄▅▅▇</td></tr><tr><td>downward_MI_7</td><td>▂▁▄▃▂▂▂▂▂▃▂▁▄▁▄▃▃▃▁▂▃▂▃▂▂▂▂▁▃▁▂▂▃▃▆▄▃▄▄█</td></tr><tr><td>downward_MI_8</td><td>▃▁▆▄▄▄▃▃▃▄▄▂▄▃▄▃▄▃▃▄▄▃▃▃▃▃▃▃▃▄▄▃▃▅█▄▄▅▅▆</td></tr><tr><td>downward_MI_9</td><td>▂▂▅▃▂▂▂▂▂▃▃▁▃▂▃▁▂▂▂▃▃▂▂▂▂▂▂▂▂▂▂▂▃▆▄▃▂▄▄█</td></tr></table><br/></div><div class=\"wandb-col\"><h3>Run summary:</h3><br/><table class=\"wandb\"><tr><td>Psi</td><td>-13.83851</td></tr><tr><td>decoupled_MI</td><td>0.3724</td></tr><tr><td>downward_MI</td><td>14.21091</td></tr><tr><td>downward_MI_0</td><td>0.14782</td></tr><tr><td>downward_MI_1</td><td>0.19881</td></tr><tr><td>downward_MI_10</td><td>0.16701</td></tr><tr><td>downward_MI_11</td><td>0.199</td></tr><tr><td>downward_MI_12</td><td>0.15471</td></tr><tr><td>downward_MI_13</td><td>0.17229</td></tr><tr><td>downward_MI_14</td><td>0.18529</td></tr><tr><td>downward_MI_15</td><td>0.23037</td></tr><tr><td>downward_MI_16</td><td>0.20024</td></tr><tr><td>downward_MI_17</td><td>0.21325</td></tr><tr><td>downward_MI_18</td><td>0.25036</td></tr><tr><td>downward_MI_19</td><td>0.202</td></tr><tr><td>downward_MI_2</td><td>0.22643</td></tr><tr><td>downward_MI_20</td><td>0.1911</td></tr><tr><td>downward_MI_21</td><td>0.17727</td></tr><tr><td>downward_MI_22</td><td>0.26193</td></tr><tr><td>downward_MI_23</td><td>0.21599</td></tr><tr><td>downward_MI_24</td><td>0.19499</td></tr><tr><td>downward_MI_25</td><td>0.21794</td></tr><tr><td>downward_MI_26</td><td>0.23231</td></tr><tr><td>downward_MI_27</td><td>0.22554</td></tr><tr><td>downward_MI_28</td><td>0.16769</td></tr><tr><td>downward_MI_29</td><td>0.19984</td></tr><tr><td>downward_MI_3</td><td>0.21692</td></tr><tr><td>downward_MI_30</td><td>0.22974</td></tr><tr><td>downward_MI_31</td><td>0.25734</td></tr><tr><td>downward_MI_32</td><td>0.18795</td></tr><tr><td>downward_MI_33</td><td>0.21749</td></tr><tr><td>downward_MI_34</td><td>0.24518</td></tr><tr><td>downward_MI_35</td><td>0.26186</td></tr><tr><td>downward_MI_36</td><td>0.18135</td></tr><tr><td>downward_MI_37</td><td>0.22195</td></tr><tr><td>downward_MI_38</td><td>0.21853</td></tr><tr><td>downward_MI_39</td><td>0.2432</td></tr><tr><td>downward_MI_4</td><td>0.18966</td></tr><tr><td>downward_MI_40</td><td>0.18896</td></tr><tr><td>downward_MI_41</td><td>0.26321</td></tr><tr><td>downward_MI_42</td><td>0.27999</td></tr><tr><td>downward_MI_43</td><td>0.18158</td></tr><tr><td>downward_MI_44</td><td>0.18785</td></tr><tr><td>downward_MI_45</td><td>0.22603</td></tr><tr><td>downward_MI_46</td><td>0.12021</td></tr><tr><td>downward_MI_47</td><td>0.17507</td></tr><tr><td>downward_MI_48</td><td>0.20109</td></tr><tr><td>downward_MI_49</td><td>0.20918</td></tr><tr><td>downward_MI_5</td><td>0.21655</td></tr><tr><td>downward_MI_50</td><td>0.23267</td></tr><tr><td>downward_MI_51</td><td>0.18335</td></tr><tr><td>downward_MI_52</td><td>0.23116</td></tr><tr><td>downward_MI_53</td><td>0.28175</td></tr><tr><td>downward_MI_54</td><td>0.23777</td></tr><tr><td>downward_MI_55</td><td>0.25994</td></tr><tr><td>downward_MI_56</td><td>0.19741</td></tr><tr><td>downward_MI_57</td><td>0.19394</td></tr><tr><td>downward_MI_58</td><td>0.262</td></tr><tr><td>downward_MI_59</td><td>0.26004</td></tr><tr><td>downward_MI_6</td><td>0.22375</td></tr><tr><td>downward_MI_60</td><td>0.24203</td></tr><tr><td>downward_MI_61</td><td>0.22596</td></tr><tr><td>downward_MI_62</td><td>0.25217</td></tr><tr><td>downward_MI_63</td><td>0.18539</td></tr><tr><td>downward_MI_7</td><td>0.18837</td></tr><tr><td>downward_MI_8</td><td>0.21311</td></tr><tr><td>downward_MI_9</td><td>0.17889</td></tr></table><br/></div></div>"
      ],
      "text/plain": [
       "<IPython.core.display.HTML object>"
      ]
     },
     "metadata": {},
     "output_type": "display_data"
    },
    {
     "data": {
      "text/html": [
       " View run <strong style=\"color:#cdcd00\">icy-pyramid-9</strong> at: <a href='https://wandb.ai/dmcsharry/lots-of-downward-critics-ecog/runs/kj7y6m52' target=\"_blank\">https://wandb.ai/dmcsharry/lots-of-downward-critics-ecog/runs/kj7y6m52</a><br/>Synced 5 W&B file(s), 0 media file(s), 0 artifact file(s) and 0 other file(s)"
      ],
      "text/plain": [
       "<IPython.core.display.HTML object>"
      ]
     },
     "metadata": {},
     "output_type": "display_data"
    },
    {
     "data": {
      "text/html": [
       "Find logs at: <code>./wandb/run-20240408_201243-kj7y6m52/logs</code>"
      ],
      "text/plain": [
       "<IPython.core.display.HTML object>"
      ]
     },
     "metadata": {},
     "output_type": "display_data"
    },
    {
     "data": {
      "text/html": [
       "Successfully finished last run (ID:kj7y6m52). Initializing new run:<br/>"
      ],
      "text/plain": [
       "<IPython.core.display.HTML object>"
      ]
     },
     "metadata": {},
     "output_type": "display_data"
    },
    {
     "data": {
      "text/html": [
       "wandb version 0.16.6 is available!  To upgrade, please run:\n",
       " $ pip install wandb --upgrade"
      ],
      "text/plain": [
       "<IPython.core.display.HTML object>"
      ]
     },
     "metadata": {},
     "output_type": "display_data"
    },
    {
     "data": {
      "text/html": [
       "Tracking run with wandb version 0.16.4"
      ],
      "text/plain": [
       "<IPython.core.display.HTML object>"
      ]
     },
     "metadata": {},
     "output_type": "display_data"
    },
    {
     "data": {
      "text/html": [
       "Run data is saved locally in <code>/vol/bitbucket/dm2223/info-theory-experiments/wandb/run-20240408_203657-0a5bcce1</code>"
      ],
      "text/plain": [
       "<IPython.core.display.HTML object>"
      ]
     },
     "metadata": {},
     "output_type": "display_data"
    },
    {
     "data": {
      "text/html": [
       "Syncing run <strong><a href='https://wandb.ai/dmcsharry/lots-of-downward-critics-ecog/runs/0a5bcce1' target=\"_blank\">confused-darkness-10</a></strong> to <a href='https://wandb.ai/dmcsharry/lots-of-downward-critics-ecog' target=\"_blank\">Weights & Biases</a> (<a href='https://wandb.me/run' target=\"_blank\">docs</a>)<br/>"
      ],
      "text/plain": [
       "<IPython.core.display.HTML object>"
      ]
     },
     "metadata": {},
     "output_type": "display_data"
    },
    {
     "data": {
      "text/html": [
       " View project at <a href='https://wandb.ai/dmcsharry/lots-of-downward-critics-ecog' target=\"_blank\">https://wandb.ai/dmcsharry/lots-of-downward-critics-ecog</a>"
      ],
      "text/plain": [
       "<IPython.core.display.HTML object>"
      ]
     },
     "metadata": {},
     "output_type": "display_data"
    },
    {
     "data": {
      "text/html": [
       " View run at <a href='https://wandb.ai/dmcsharry/lots-of-downward-critics-ecog/runs/0a5bcce1' target=\"_blank\">https://wandb.ai/dmcsharry/lots-of-downward-critics-ecog/runs/0a5bcce1</a>"
      ],
      "text/plain": [
       "<IPython.core.display.HTML object>"
      ]
     },
     "metadata": {},
     "output_type": "display_data"
    },
    {
     "name": "stderr",
     "output_type": "stream",
     "text": [
      "Training: 100%|██████████| 20/20 [20:31<00:00, 61.57s/it]\n"
     ]
    }
   ],
   "source": [
    "configs = [\n",
    "    {\n",
    "        \"batch_size\": 1000,\n",
    "        \"num_atoms\": 64,\n",
    "        \"feature_size\": 1,\n",
    "        \"epochs\": 20,\n",
    "        \"clip\": 5,\n",
    "        \"critic_lr\": 1e-4,\n",
    "        \"feature_lr\": 1e-5,\n",
    "    },\n",
    "    {\n",
    "        \"batch_size\": 1000,\n",
    "        \"num_atoms\": 64,\n",
    "        \"feature_size\": 2,\n",
    "        \"epochs\": 20,\n",
    "        \"clip\": 5,\n",
    "        \"critic_lr\": 1e-4,\n",
    "        \"feature_lr\": 1e-5,\n",
    "    },\n",
    "    {\n",
    "        \"batch_size\": 1000,\n",
    "        \"num_atoms\": 64,\n",
    "        \"feature_size\": 4,\n",
    "        \"epochs\": 20,\n",
    "        \"clip\": 5,\n",
    "        \"critic_lr\": 1e-4,\n",
    "        \"feature_lr\": 1e-5,\n",
    "    },\n",
    "    {\n",
    "        \"batch_size\": 1000,\n",
    "        \"num_atoms\": 64,\n",
    "        \"feature_size\": 8,\n",
    "        \"epochs\": 20,\n",
    "        \"clip\": 5,\n",
    "        \"critic_lr\": 1e-4,\n",
    "        \"feature_lr\": 1e-5,\n",
    "    },\n",
    "    {\n",
    "        \"batch_size\": 1000,\n",
    "        \"num_atoms\": 64,\n",
    "        \"feature_size\": 16,\n",
    "        \"epochs\": 20,\n",
    "        \"clip\": 5,\n",
    "        \"critic_lr\": 1e-4,\n",
    "        \"feature_lr\": 1e-5,\n",
    "    },\n",
    "    {\n",
    "        \"batch_size\": 1000,\n",
    "        \"num_atoms\": 64,\n",
    "        \"feature_size\": 4,\n",
    "        \"epochs\": 20,\n",
    "        \"clip\": 5,\n",
    "        \"critic_lr\": 1e-3,\n",
    "        \"feature_lr\": 1e-4,\n",
    "    },\n",
    "    {\n",
    "        \"batch_size\": 1000,\n",
    "        \"num_atoms\": 64,\n",
    "        \"feature_size\": 8,\n",
    "        \"epochs\": 20,\n",
    "        \"clip\": 5,\n",
    "        \"critic_lr\": 1e-3,\n",
    "        \"feature_lr\": 1e-4,\n",
    "    }\n",
    "]\n",
    "\n",
    "for config in configs:\n",
    "    test(config)\n"
   ]
  },
  {
   "cell_type": "code",
   "execution_count": null,
   "metadata": {},
   "outputs": [],
   "source": []
  }
 ],
 "metadata": {
  "kernelspec": {
   "display_name": ".venv",
   "language": "python",
   "name": "python3"
  },
  "language_info": {
   "codemirror_mode": {
    "name": "ipython",
    "version": 3
   },
   "file_extension": ".py",
   "mimetype": "text/x-python",
   "name": "python",
   "nbconvert_exporter": "python",
   "pygments_lexer": "ipython3",
   "version": "3.10.12"
  }
 },
 "nbformat": 4,
 "nbformat_minor": 2
}
