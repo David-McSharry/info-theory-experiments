{
 "cells": [
  {
   "cell_type": "code",
   "execution_count": 14,
   "metadata": {},
   "outputs": [
    {
     "data": {
      "text/plain": [
       "<torch._C.Generator at 0x74f53c5aedd0>"
      ]
     },
     "execution_count": 14,
     "metadata": {},
     "output_type": "execute_result"
    }
   ],
   "source": [
    "import torch\n",
    "from bit_dataset import BitStringDataset\n",
    "import lovely_tensors as lt\n",
    "import wandb\n",
    "import tqdm\n",
    "from einops import rearrange, reduce, repeat\n",
    "from models import (SupervenientFeatureNetwork,\n",
    "                    CLUB,\n",
    "                    DecoupledSmileMIEstimator,\n",
    "                    DownwardSmileMIEstimator,\n",
    "                    GeneralSmileMIEstimator,\n",
    "                    SkipConnectionSupervenientFeatureNetwork\n",
    "                    )\n",
    "from trainers import train_feature_network\n",
    "\n",
    "lt.monkey_patch()\n",
    "device = torch.device(\"cuda\" if torch.cuda.is_available() else \"cpu\")\n",
    "torch.cuda.empty_cache()\n",
    "\n",
    "torch.manual_seed(42)\n",
    "\n"
   ]
  },
  {
   "cell_type": "code",
   "execution_count": null,
   "metadata": {},
   "outputs": [],
   "source": [
    "config = {\n",
    "    \"epochs\": 20,\n",
    "    \"batch_size\": 1000,\n",
    "    \"num_atoms\": 6,\n",
    "    \"feature_size\": 1,\n",
    "    \"clip\": 5,\n",
    "    \"critic_output_size\": 32,\n",
    "    \"downward_hidden_sizes_v_critic\": [512, 512, 512, 256],\n",
    "    \"downward_hidden_sizes_xi_critic\": [512, 512, 512, 256],\n",
    "    \"feature_hidden_sizes\": [256],\n",
    "    \"decoupled_critic_hidden_sizes_1\": [512, 512, 512],\n",
    "    \"decoupled_critic_hidden_sizes_2\": [512, 512, 512],\n",
    "    \"feature_lr\": 1e-5,\n",
    "    \"decoupled_critic_lr\": 1e-4,\n",
    "    \"downward_lr\": 1e-4,    \n",
    "    \"bias\": True,\n",
    "    \"update_f_every_N_steps\": 10,\n",
    "    \"weight_decay\": 0,\n",
    "    \"start_updating_f_after\": 1000,\n",
    "}\n",
    "\n",
    "\n",
    "\n"
   ]
  },
  {
   "cell_type": "code",
   "execution_count": 15,
   "metadata": {},
   "outputs": [],
   "source": [
    "bits_dataset_config = {\n",
    "    \"num_data_points\": int(1e6),\n",
    "    \"extra_bit_correlation\": 0.99,\n",
    "    \"parity_bit_correlation\": 0.99,\n",
    "}\n",
    "\n",
    "\n",
    "config = {\n",
    "    \"dataset_type\": \"bits\",\n",
    "    \"batch_size\": 1000,\n",
    "    \"training_mode\": True,\n",
    "    \"train_model_B\": False,\n",
    "    \"adjust_Psi\": False,\n",
    "    \"clip\": 5,\n",
    "    \"epochs\": 20,\n",
    "    \"downward_critics_config\": {\n",
    "        \"hidden_sizes_v_critic\": [512, 512, 512, 256],\n",
    "        \"hidden_sizes_xi_critic\": [512, 512, 512, 256],\n",
    "        \"critic_output_size\": 32,\n",
    "        \"lr\": 1e-4,\n",
    "        \"include_bias\": True,\n",
    "        \"weight_decay\": 0,\n",
    "    },\n",
    "    \"decoupled_critic_config\": {\n",
    "        \"hidden_sizes_encoder_1\": [512, 512, 512],\n",
    "        \"hidden_sizes_encoder_2\": [512, 512, 512],\n",
    "        \"critic_output_size\": 32,\n",
    "        \"lr\": 1e-4,\n",
    "        \"include_bias\": True,\n",
    "        \"weight_decay\": 0,\n",
    "    },\n",
    "    \"feature_network_config\": {\n",
    "        \"num_atoms\": 6,\n",
    "        \"feature_size\": 1,\n",
    "        \"hidden_sizes\": [256, 256],\n",
    "        \"lr\": 1e-5,\n",
    "        \"include_bias\": True,\n",
    "        \"weight_decay\": 0,\n",
    "        \"update_f_every_N_steps\": 5,\n",
    "        \"start_updating_f_after\": 1000,\n",
    "    }\n",
    "}\n",
    "\n"
   ]
  },
  {
   "cell_type": "code",
   "execution_count": 16,
   "metadata": {},
   "outputs": [],
   "source": [
    "\n",
    "\n",
    "dataset = BitStringDataset(\n",
    "    gamma_parity=bits_dataset_config['parity_bit_correlation'],\n",
    "    gamma_extra=bits_dataset_config['extra_bit_correlation'],\n",
    "    length=bits_dataset_config['num_data_points'],\n",
    ")\n",
    "\n",
    "trainloader = torch.utils.data.DataLoader(\n",
    "    dataset,\n",
    "    batch_size=config['batch_size'],\n",
    "    shuffle=True,\n",
    ")"
   ]
  },
  {
   "cell_type": "code",
   "execution_count": null,
   "metadata": {},
   "outputs": [],
   "source": [
    "\n",
    "\n",
    "SkipConnectionSupervenientFeatureNetwork(\n",
    "    num_atoms=config['feature_netork_config']['num_atoms'],\n",
    "    feature_size=config['feature_netork_config']['feature_size'],\n",
    "    hidden_sizes=config['feature_netork_config']['hidden_sizes'],\n",
    "    include_bias=config["
   ]
  }
 ],
 "metadata": {
  "kernelspec": {
   "display_name": ".venv",
   "language": "python",
   "name": "python3"
  },
  "language_info": {
   "codemirror_mode": {
    "name": "ipython",
    "version": 3
   },
   "file_extension": ".py",
   "mimetype": "text/x-python",
   "name": "python",
   "nbconvert_exporter": "python",
   "pygments_lexer": "ipython3",
   "version": "3.10.12"
  }
 },
 "nbformat": 4,
 "nbformat_minor": 2
}
