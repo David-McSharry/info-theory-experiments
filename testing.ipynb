{
 "cells": [
  {
   "cell_type": "code",
   "execution_count": 5,
   "metadata": {},
   "outputs": [
    {
     "data": {
      "text/plain": [
       "<torch._C.Generator at 0x7dae241ce8b0>"
      ]
     },
     "execution_count": 5,
     "metadata": {},
     "output_type": "execute_result"
    }
   ],
   "source": [
    "import torch\n",
    "from datasets import BitStringDataset, ECoGDataset\n",
    "import lovely_tensors as lt\n",
    "import wandb\n",
    "import tqdm\n",
    "from models import SkipConnectionSupervenientFeatureNetwork\n",
    "from trainers import train_feature_network\n",
    "\n",
    "lt.monkey_patch()\n",
    "device = torch.device(\"cuda\" if torch.cuda.is_available() else \"cpu\")\n",
    "torch.cuda.empty_cache()\n",
    "\n",
    "seed = 43\n",
    "torch.manual_seed(seed)\n",
    "\n"
   ]
  },
  {
   "cell_type": "code",
   "execution_count": 18,
   "metadata": {},
   "outputs": [],
   "source": [
    "# dataset = ECoGDataset()\n",
    "\n",
    "# trainloader = torch.utils.data.DataLoader(dataset, batch_size=config[\"batch_size\"], shuffle=True)"
   ]
  },
  {
   "cell_type": "code",
   "execution_count": 17,
   "metadata": {},
   "outputs": [
    {
     "name": "stdout",
     "output_type": "stream",
     "text": [
      "Dataset loaded\n"
     ]
    }
   ],
   "source": [
    "bits_dataset_config = {\n",
    "    \"num_data_points\": int(1e6),\n",
    "    \"extra_bit_correlation\": 0.99,\n",
    "    \"parity_bit_correlation\": 0.99,\n",
    "}\n",
    "\n",
    "\n",
    "dataset = BitStringDataset(\n",
    "    gamma_parity=bits_dataset_config['parity_bit_correlation'],\n",
    "    gamma_extra=bits_dataset_config['extra_bit_correlation'],\n",
    "    length=bits_dataset_config['num_data_points'],\n",
    ")\n",
    "\n",
    "trainloader = torch.utils.data.DataLoader(\n",
    "    dataset,\n",
    "    batch_size=config['batch_size'],\n",
    "    shuffle=True,\n",
    ")\n",
    "\n",
    "print(\"Dataset loaded\")"
   ]
  },
  {
   "cell_type": "code",
   "execution_count": 22,
   "metadata": {},
   "outputs": [
    {
     "data": {
      "text/html": [
       "Finishing last run (ID:lga5hefe) before initializing another..."
      ],
      "text/plain": [
       "<IPython.core.display.HTML object>"
      ]
     },
     "metadata": {},
     "output_type": "display_data"
    },
    {
     "data": {
      "text/html": [
       "<style>\n",
       "    table.wandb td:nth-child(1) { padding: 0 10px; text-align: left ; width: auto;} td:nth-child(2) {text-align: left ; width: 100%}\n",
       "    .wandb-row { display: flex; flex-direction: row; flex-wrap: wrap; justify-content: flex-start; width: 100% }\n",
       "    .wandb-col { display: flex; flex-direction: column; flex-basis: 100%; flex: 1; padding: 10px; }\n",
       "    </style>\n",
       "<div class=\"wandb-row\"><div class=\"wandb-col\"><h3>Run history:</h3><br/><table class=\"wandb\"><tr><td>Psi</td><td>▂▂▁▄▇█▇▇▇▇▇▇▇▇▇▇▇▇▇█▇▇█▇▇▇█▇█▇▇▇▇▇█▇▇███</td></tr><tr><td>bonus_bit_MI</td><td>▆███▅▅▃▄▃▂▁▅▃▃▁▃▅▅▂▁▂▅▂▃▃▅▄▇▄█▂▇▄▃▇▇▆▄▅▂</td></tr><tr><td>decoupled_MI</td><td>▁▁▁▃████▇██▇███████████▇█▇████▇████▇▇███</td></tr><tr><td>extra_bit_MI</td><td>▃▅▅▅▄▃▃▅▄▃▂▅▄▅▃▁▅▅▃▃▃▅▁▄▅▄▄█▆▆▄▄▄▅▆▅▆▇█▆</td></tr><tr><td>feature_loss</td><td>▇▇█▅▂▁▂▂▂▂▂▂▂▂▂▂▂▂▂▁▂▂▁▂▂▂▁▂▁▂▂▂▂▂▁▂▂▁▁▁</td></tr><tr><td>sum_downward_MI</td><td>▁▁▆▄▅▃▄▅▅▄▄█▃▅▇▅▆█▅▃▅▆▂▄▄▄▂▄▃█▆██▄▂▃▂▂▂▂</td></tr><tr><td>xor_MI</td><td>▁▂▂▃▇▇██████████████████████████████████</td></tr></table><br/></div><div class=\"wandb-col\"><h3>Run summary:</h3><br/><table class=\"wandb\"><tr><td>Psi</td><td>0.6389</td></tr><tr><td>bonus_bit_MI</td><td>0.09463</td></tr><tr><td>decoupled_MI</td><td>0.64996</td></tr><tr><td>extra_bit_MI</td><td>0.11521</td></tr><tr><td>feature_loss</td><td>-0.6389</td></tr><tr><td>sum_downward_MI</td><td>0.01105</td></tr><tr><td>xor_MI</td><td>0.68931</td></tr></table><br/></div></div>"
      ],
      "text/plain": [
       "<IPython.core.display.HTML object>"
      ]
     },
     "metadata": {},
     "output_type": "display_data"
    },
    {
     "data": {
      "text/html": [
       " View run <strong style=\"color:#cdcd00\">rare-field-22</strong> at: <a href='https://wandb.ai/dmcsharry/bits-Train%3DTrue-model_B%3DFalse-dataset-neurips/runs/lga5hefe' target=\"_blank\">https://wandb.ai/dmcsharry/bits-Train%3DTrue-model_B%3DFalse-dataset-neurips/runs/lga5hefe</a><br/> View project at: <a href='https://wandb.ai/dmcsharry/bits-Train%3DTrue-model_B%3DFalse-dataset-neurips' target=\"_blank\">https://wandb.ai/dmcsharry/bits-Train%3DTrue-model_B%3DFalse-dataset-neurips</a><br/>Synced 5 W&B file(s), 0 media file(s), 0 artifact file(s) and 0 other file(s)"
      ],
      "text/plain": [
       "<IPython.core.display.HTML object>"
      ]
     },
     "metadata": {},
     "output_type": "display_data"
    },
    {
     "data": {
      "text/html": [
       "Find logs at: <code>./wandb/run-20240508_032245-lga5hefe/logs</code>"
      ],
      "text/plain": [
       "<IPython.core.display.HTML object>"
      ]
     },
     "metadata": {},
     "output_type": "display_data"
    },
    {
     "data": {
      "text/html": [
       "Successfully finished last run (ID:lga5hefe). Initializing new run:<br/>"
      ],
      "text/plain": [
       "<IPython.core.display.HTML object>"
      ]
     },
     "metadata": {},
     "output_type": "display_data"
    }
   ],
   "source": [
    "\n",
    "config = {\n",
    "    \"torch_seed\": seed,\n",
    "    \"dataset_type\": \"bits\",\n",
    "    \"num_atoms\": 6,\n",
    "    \"batch_size\": 1000,\n",
    "    \"train_mode\": True,\n",
    "    \"train_model_B\": False,\n",
    "    \"adjust_Psi\": False,\n",
    "    \"clip\": 5,\n",
    "    \"feature_size\": 1,\n",
    "    \"epochs\": 20,\n",
    "    \"start_updating_f_after\": 1000,\n",
    "    \"update_f_every_N_steps\": 10,\n",
    "    \"minimize_neg_terms_until\": 100000,\n",
    "    \"downward_critics_config\": {\n",
    "        \"hidden_sizes_v_critic\": [512, 512, 512, 256],\n",
    "        \"hidden_sizes_xi_critic\": [512, 512, 512, 256],\n",
    "        \"critic_output_size\": 32,\n",
    "        \"lr\": 1e-3,\n",
    "        \"bias\": True,\n",
    "        \"weight_decay\": 0,\n",
    "    },\n",
    "    \"decoupled_critic_config\": {\n",
    "        \"hidden_sizes_encoder_1\": [512, 1024, 512, 256],\n",
    "        \"hidden_sizes_encoder_2\": [512, 1024, 512, 256],\n",
    "        \"critic_output_size\": 32,\n",
    "        \"lr\": 1e-3,\n",
    "        \"bias\": True,\n",
    "        \"weight_decay\": 0,\n",
    "    },\n",
    "    \"feature_network_config\": {\n",
    "        \"hidden_sizes\": [256, 256, 256],\n",
    "        \"lr\": 1e-5,\n",
    "        \"bias\": True,\n",
    "        \"weight_decay\": 0,\n",
    "    }\n",
    "}\n",
    "\n",
    "\n",
    "\n",
    "import importlib\n",
    "import trainers\n",
    "importlib.reload(trainers)\n",
    "from trainers import train_feature_network\n",
    "\n",
    "feature_network = SkipConnectionSupervenientFeatureNetwork(\n",
    "    num_atoms=config['num_atoms'],\n",
    "    feature_size=config['feature_size'],\n",
    "    hidden_sizes=config['feature_network_config']['hidden_sizes'],\n",
    "    include_bias=config['feature_network_config']['bias'],\n",
    ").to(device)\n",
    "\n",
    "feature_network = train_feature_network(config, trainloader, feature_network)\n"
   ]
  },
  {
   "cell_type": "code",
   "execution_count": 5,
   "metadata": {},
   "outputs": [
    {
     "name": "stderr",
     "output_type": "stream",
     "text": [
      "Failed to detect the name of this notebook, you can set it manually with the WANDB_NOTEBOOK_NAME environment variable to enable code saving.\n"
     ]
    },
    {
     "name": "stdout",
     "output_type": "stream",
     "text": [
      "<<Training model B>>\n"
     ]
    },
    {
     "name": "stderr",
     "output_type": "stream",
     "text": [
      "\u001b[34m\u001b[1mwandb\u001b[0m: Currently logged in as: \u001b[33mdmcsharry\u001b[0m. Use \u001b[1m`wandb login --relogin`\u001b[0m to force relogin\n"
     ]
    },
    {
     "data": {
      "text/html": [
       "wandb version 0.17.0 is available!  To upgrade, please run:\n",
       " $ pip install wandb --upgrade"
      ],
      "text/plain": [
       "<IPython.core.display.HTML object>"
      ]
     },
     "metadata": {},
     "output_type": "display_data"
    },
    {
     "data": {
      "text/html": [
       "Tracking run with wandb version 0.16.6"
      ],
      "text/plain": [
       "<IPython.core.display.HTML object>"
      ]
     },
     "metadata": {},
     "output_type": "display_data"
    },
    {
     "data": {
      "text/html": [
       "Run data is saved locally in <code>/vol/bitbucket/dm2223/info-theory-experiments/wandb/run-20240508_021538-yjssl4gk</code>"
      ],
      "text/plain": [
       "<IPython.core.display.HTML object>"
      ]
     },
     "metadata": {},
     "output_type": "display_data"
    },
    {
     "data": {
      "text/html": [
       "Syncing run <strong><a href='https://wandb.ai/dmcsharry/bits-Train%3DTrue-model_B%3DTrue-dataset-neurips/runs/yjssl4gk' target=\"_blank\">morning-flower-28</a></strong> to <a href='https://wandb.ai/dmcsharry/bits-Train%3DTrue-model_B%3DTrue-dataset-neurips' target=\"_blank\">Weights & Biases</a> (<a href='https://wandb.me/run' target=\"_blank\">docs</a>)<br/>"
      ],
      "text/plain": [
       "<IPython.core.display.HTML object>"
      ]
     },
     "metadata": {},
     "output_type": "display_data"
    },
    {
     "data": {
      "text/html": [
       " View project at <a href='https://wandb.ai/dmcsharry/bits-Train%3DTrue-model_B%3DTrue-dataset-neurips' target=\"_blank\">https://wandb.ai/dmcsharry/bits-Train%3DTrue-model_B%3DTrue-dataset-neurips</a>"
      ],
      "text/plain": [
       "<IPython.core.display.HTML object>"
      ]
     },
     "metadata": {},
     "output_type": "display_data"
    },
    {
     "data": {
      "text/html": [
       " View run at <a href='https://wandb.ai/dmcsharry/bits-Train%3DTrue-model_B%3DTrue-dataset-neurips/runs/yjssl4gk' target=\"_blank\">https://wandb.ai/dmcsharry/bits-Train%3DTrue-model_B%3DTrue-dataset-neurips/runs/yjssl4gk</a>"
      ],
      "text/plain": [
       "<IPython.core.display.HTML object>"
      ]
     },
     "metadata": {},
     "output_type": "display_data"
    },
    {
     "name": "stderr",
     "output_type": "stream",
     "text": [
      "Training: 100%|██████████| 20/20 [09:38<00:00, 28.93s/it]\n"
     ]
    }
   ],
   "source": [
    "import importlib\n",
    "import trainers\n",
    "importlib.reload(trainers)\n",
    "from trainers import train_feature_network\n",
    "\n",
    "feature_network_A = SkipConnectionSupervenientFeatureNetwork(\n",
    "    num_atoms=config['num_atoms'],\n",
    "    feature_size=config['feature_size'],\n",
    "    hidden_sizes=config['feature_network_config']['hidden_sizes'],\n",
    "    include_bias=config['feature_network_config']['bias'],\n",
    "    ).to(device)\n",
    "\n",
    "model_A_path = '/vol/bitbucket/dm2223/info-theory-experiments/models/feature_network_apricot-pond-70.pth'\n",
    "feature_network_A.load_state_dict(torch.load(model_A_path))\n",
    "\n",
    "feature_network_B = SkipConnectionSupervenientFeatureNetwork(\n",
    "    num_atoms=config['num_atoms'],\n",
    "    feature_size=config['feature_size'],\n",
    "    hidden_sizes=config['feature_network_config']['hidden_sizes'],\n",
    "    include_bias=config['feature_network_config']['bias'],\n",
    ").to(device)\n",
    "\n",
    "feature_network_B = train_feature_network(config, trainloader, feature_network_B, feature_network_A)\n"
   ]
  },
  {
   "cell_type": "code",
   "execution_count": 7,
   "metadata": {},
   "outputs": [
    {
     "data": {
      "image/png": "[encoded data removed]",
      "text/plain": [
       "<Figure size 640x480 with 1 Axes>"
      ]
     },
     "metadata": {},
     "output_type": "display_data"
    },
    {
     "data": {
      "image/png": "[encoded data removed]",
      "text/plain": [
       "<Figure size 640x480 with 1 Axes>"
      ]
     },
     "metadata": {},
     "output_type": "display_data"
    },
    {
     "data": {
      "image/png": "[encoded data removed]",
      "text/plain": [
       "<Figure size 640x480 with 1 Axes>"
      ]
     },
     "metadata": {},
     "output_type": "display_data"
    }
   ],
   "source": [
    "from einops import reduce\n",
    "import numpy as np\n",
    "\n",
    "feature_network = feature_network_B\n",
    "\n",
    "# plot the various values of V to visually inspect if they contain information about the different bits\n",
    "\n",
    "\n",
    "binary_numbers = torch.tensor([[int(bit) for bit in f\"{i:06b}\"] for i in range(2**6)])\n",
    "\n",
    "v = feature_network(binary_numbers.float().to(device))\n",
    "\n",
    "xor_bits = (reduce(binary_numbers[:, :5], 'b n -> b', 'sum') % 2).unsqueeze(1)\n",
    "\n",
    "# plot the different values of v on a histogram, with different colors for the two different xor bits\n",
    "\n",
    "import matplotlib.pyplot as plt\n",
    "import numpy as np\n",
    "\n",
    "v_np = v.detach().cpu().numpy()\n",
    "xor_bits_np = xor_bits.cpu().numpy()\n",
    "\n",
    "plt.hist(v_np[xor_bits_np == 0], bins=100, alpha=0.5, label='xor_bit=0')\n",
    "plt.hist(v_np[xor_bits_np == 1], bins=100, alpha=0.5, label='xor_bit=1')\n",
    "plt.legend()\n",
    "plt.show()\n",
    "\n",
    "\n",
    "extra_bits = binary_numbers[:, -1].unsqueeze(1)\n",
    "\n",
    "# plot the different values of v on a histogram, with different colors for the two different extra bits\n",
    "\n",
    "\n",
    "plt.hist(v_np[extra_bits == 0], bins=100, alpha=0.5, label='extra_bit=0')\n",
    "plt.hist(v_np[extra_bits == 1], bins=100, alpha=0.5, label='extra_bit=1')\n",
    "plt.legend()\n",
    "plt.show()\n",
    "\n",
    "\n",
    "bonus_bits = ( xor_bits + extra_bits ) % 2\n",
    "\n",
    "# plot the different values of v on a histogram, with different colors for the two different bonus bits\n",
    "\n",
    "\n",
    "plt.hist(v_np[bonus_bits == 0], bins=100, alpha=0.5, label='bonus_bit=0')\n",
    "plt.hist(v_np[bonus_bits == 1], bins=100, alpha=0.5, label='bonus_bit=1')\n",
    "plt.legend()\n",
    "plt.show()\n",
    "\n"
   ]
  },
  {
   "cell_type": "code",
   "execution_count": 15,
   "metadata": {},
   "outputs": [
    {
     "name": "stdout",
     "output_type": "stream",
     "text": [
      "tensor[1] cuda:0 [0.104]\n",
      "0.10377240180969238\n",
      "<class 'float'>\n",
      "tensor[1] f16 cuda:0 [0.104]\n",
      "0.103759765625\n",
      "<class 'float'>\n",
      "tensor[1] cuda:0 [0.104]\n",
      "0.103759765625\n",
      "<class 'float'>\n"
     ]
    }
   ],
   "source": [
    "# random float tensor\n",
    "\n",
    "t = torch.rand(1).to(device)\n",
    "print(t)\n",
    "print(t.item())\n",
    "print(type(t.item()))\n",
    "\n",
    "\n",
    "# convert to half precision\n",
    "\n",
    "t_half = t.half()\n",
    "print(t_half)\n",
    "print(t_half.item())\n",
    "print(type(t_half.item()))\n",
    "\n",
    "# convert to float\n",
    "\n",
    "t_float = t_half.float()\n",
    "print(t_float)\n",
    "print(t_float.item())\n",
    "print(type(t_float.item()))\n",
    "\n",
    "\n"
   ]
  },
  {
   "cell_type": "code",
   "execution_count": null,
   "metadata": {},
   "outputs": [],
   "source": []
  },
  {
   "cell_type": "code",
   "execution_count": null,
   "metadata": {},
   "outputs": [],
   "source": []
  },
  {
   "cell_type": "code",
   "execution_count": null,
   "metadata": {},
   "outputs": [],
   "source": []
  }
 ],
 "metadata": {
  "kernelspec": {
   "display_name": ".venv",
   "language": "python",
   "name": "python3"
  },
  "language_info": {
   "codemirror_mode": {
    "name": "ipython",
    "version": 3
   },
   "file_extension": ".py",
   "mimetype": "text/x-python",
   "name": "python",
   "nbconvert_exporter": "python",
   "pygments_lexer": "ipython3",
   "version": "3.10.12"
  }
 },
 "nbformat": 4,
 "nbformat_minor": 2
}
