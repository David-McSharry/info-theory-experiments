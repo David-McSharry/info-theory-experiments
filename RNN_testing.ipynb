{
 "cells": [
  {
   "cell_type": "code",
   "execution_count": 13,
   "metadata": {},
   "outputs": [],
   "source": [
    "import os\n",
    "import torch\n",
    "import torch.nn as nn\n",
    "import torch.optim as optim\n",
    "import wandb\n",
    "from custom_datasets import BitStringDataset\n",
    "from torch.utils.data import DataLoader\n",
    "\n",
    "# Define the RNN model\n",
    "class SimpleRNN(nn.Module):\n",
    "    def __init__(self, input_size, hidden_size, output_size):\n",
    "        super(SimpleRNN, self).__init__()\n",
    "        self.hidden_size = hidden_size\n",
    "        self.rnn = nn.RNN(input_size, hidden_size, batch_first=True)\n",
    "        self.fc = nn.Linear(hidden_size, output_size)\n",
    "\n",
    "    def forward(self, x, hidden):\n",
    "        out, hidden = self.rnn(x, hidden)\n",
    "        out = self.fc(out[:, -1, :])  # Use the last time step's output\n",
    "        return out, hidden\n",
    "\n",
    "    def init_hidden(self, batch_size):\n",
    "        return torch.zeros(1, batch_size, self.hidden_size)\n",
    "\n",
    "# Training function\n",
    "def train_rnn(config, trainloader, model, criterion, optimizer, device):\n",
    "    model.train()\n",
    "    for epoch in range(config['epochs']):\n",
    "        for batch in trainloader:\n",
    "            inputs = batch[:, :-1, :].to(device)\n",
    "            targets = batch[:, -1, :].to(device)\n",
    "\n",
    "            hidden = model.init_hidden(inputs.size(0)).to(device)\n",
    "            optimizer.zero_grad()\n",
    "            outputs, hidden = model(inputs, hidden)\n",
    "            loss = criterion(outputs, targets)\n",
    "            loss.backward()\n",
    "            optimizer.step()\n",
    "\n",
    "            wandb.log({\"loss\": loss.item()})\n",
    "\n"
   ]
  },
  {
   "cell_type": "code",
   "execution_count": 14,
   "metadata": {},
   "outputs": [
    {
     "name": "stderr",
     "output_type": "stream",
     "text": [
      "Failed to detect the name of this notebook, you can set it manually with the WANDB_NOTEBOOK_NAME environment variable to enable code saving.\n"
     ]
    },
    {
     "name": "stderr",
     "output_type": "stream",
     "text": [
      "\u001b[34m\u001b[1mwandb\u001b[0m: Currently logged in as: \u001b[33mdmcsharry\u001b[0m. Use \u001b[1m`wandb login --relogin`\u001b[0m to force relogin\n"
     ]
    },
    {
     "data": {
      "text/html": [
       "Tracking run with wandb version 0.17.5"
      ],
      "text/plain": [
       "<IPython.core.display.HTML object>"
      ]
     },
     "metadata": {},
     "output_type": "display_data"
    },
    {
     "data": {
      "text/html": [
       "Run data is saved locally in <code>/home/ubuntu/info-theory-experiments/wandb/run-20240806_221903-ocs0ltjq</code>"
      ],
      "text/plain": [
       "<IPython.core.display.HTML object>"
      ]
     },
     "metadata": {},
     "output_type": "display_data"
    },
    {
     "data": {
      "text/html": [
       "Syncing run <strong><a href='https://wandb.ai/dmcsharry/RNN_BitStringDataset/runs/ocs0ltjq' target=\"_blank\">run_1</a></strong> to <a href='https://wandb.ai/dmcsharry/RNN_BitStringDataset' target=\"_blank\">Weights & Biases</a> (<a href='https://wandb.me/run' target=\"_blank\">docs</a>)<br/>"
      ],
      "text/plain": [
       "<IPython.core.display.HTML object>"
      ]
     },
     "metadata": {},
     "output_type": "display_data"
    },
    {
     "data": {
      "text/html": [
       " View project at <a href='https://wandb.ai/dmcsharry/RNN_BitStringDataset' target=\"_blank\">https://wandb.ai/dmcsharry/RNN_BitStringDataset</a>"
      ],
      "text/plain": [
       "<IPython.core.display.HTML object>"
      ]
     },
     "metadata": {},
     "output_type": "display_data"
    },
    {
     "data": {
      "text/html": [
       " View run at <a href='https://wandb.ai/dmcsharry/RNN_BitStringDataset/runs/ocs0ltjq' target=\"_blank\">https://wandb.ai/dmcsharry/RNN_BitStringDataset/runs/ocs0ltjq</a>"
      ],
      "text/plain": [
       "<IPython.core.display.HTML object>"
      ]
     },
     "metadata": {},
     "output_type": "display_data"
    },
    {
     "data": {
      "text/html": [
       "<style>\n",
       "    table.wandb td:nth-child(1) { padding: 0 10px; text-align: left ; width: auto;} td:nth-child(2) {text-align: left ; width: 100%}\n",
       "    .wandb-row { display: flex; flex-direction: row; flex-wrap: wrap; justify-content: flex-start; width: 100% }\n",
       "    .wandb-col { display: flex; flex-direction: column; flex-basis: 100%; flex: 1; padding: 10px; }\n",
       "    </style>\n",
       "<div class=\"wandb-row\"><div class=\"wandb-col\"><h3>Run history:</h3><br/><table class=\"wandb\"><tr><td>loss</td><td>█▂▃▂▂▁▁▂▁▂▁▁▁▁▁▁▁▂▂▁▂▁▁▁▂▁▁▁▁▂▂▁▁▂▂▁▁▂▁▁</td></tr></table><br/></div><div class=\"wandb-col\"><h3>Run summary:</h3><br/><table class=\"wandb\"><tr><td>loss</td><td>0.23123</td></tr></table><br/></div></div>"
      ],
      "text/plain": [
       "<IPython.core.display.HTML object>"
      ]
     },
     "metadata": {},
     "output_type": "display_data"
    },
    {
     "data": {
      "text/html": [
       " View run <strong style=\"color:#cdcd00\">run_1</strong> at: <a href='https://wandb.ai/dmcsharry/RNN_BitStringDataset/runs/ocs0ltjq' target=\"_blank\">https://wandb.ai/dmcsharry/RNN_BitStringDataset/runs/ocs0ltjq</a><br/> View project at: <a href='https://wandb.ai/dmcsharry/RNN_BitStringDataset' target=\"_blank\">https://wandb.ai/dmcsharry/RNN_BitStringDataset</a><br/>Synced 4 W&B file(s), 0 media file(s), 0 artifact file(s) and 0 other file(s)"
      ],
      "text/plain": [
       "<IPython.core.display.HTML object>"
      ]
     },
     "metadata": {},
     "output_type": "display_data"
    },
    {
     "data": {
      "text/html": [
       "Find logs at: <code>./wandb/run-20240806_221903-ocs0ltjq/logs</code>"
      ],
      "text/plain": [
       "<IPython.core.display.HTML object>"
      ]
     },
     "metadata": {},
     "output_type": "display_data"
    },
    {
     "data": {
      "text/html": [
       "The new W&B backend becomes opt-out in version 0.18.0; try it out with `wandb.require(\"core\")`! See https://wandb.me/wandb-core for more information."
      ],
      "text/plain": [
       "<IPython.core.display.HTML object>"
      ]
     },
     "metadata": {},
     "output_type": "display_data"
    },
    {
     "data": {
      "text/html": [
       "Tracking run with wandb version 0.17.5"
      ],
      "text/plain": [
       "<IPython.core.display.HTML object>"
      ]
     },
     "metadata": {},
     "output_type": "display_data"
    },
    {
     "data": {
      "text/html": [
       "Run data is saved locally in <code>/home/ubuntu/info-theory-experiments/wandb/run-20240806_221951-8x92ny2s</code>"
      ],
      "text/plain": [
       "<IPython.core.display.HTML object>"
      ]
     },
     "metadata": {},
     "output_type": "display_data"
    },
    {
     "data": {
      "text/html": [
       "Syncing run <strong><a href='https://wandb.ai/dmcsharry/RNN_BitStringDataset/runs/8x92ny2s' target=\"_blank\">run_2</a></strong> to <a href='https://wandb.ai/dmcsharry/RNN_BitStringDataset' target=\"_blank\">Weights & Biases</a> (<a href='https://wandb.me/run' target=\"_blank\">docs</a>)<br/>"
      ],
      "text/plain": [
       "<IPython.core.display.HTML object>"
      ]
     },
     "metadata": {},
     "output_type": "display_data"
    },
    {
     "data": {
      "text/html": [
       " View project at <a href='https://wandb.ai/dmcsharry/RNN_BitStringDataset' target=\"_blank\">https://wandb.ai/dmcsharry/RNN_BitStringDataset</a>"
      ],
      "text/plain": [
       "<IPython.core.display.HTML object>"
      ]
     },
     "metadata": {},
     "output_type": "display_data"
    },
    {
     "data": {
      "text/html": [
       " View run at <a href='https://wandb.ai/dmcsharry/RNN_BitStringDataset/runs/8x92ny2s' target=\"_blank\">https://wandb.ai/dmcsharry/RNN_BitStringDataset/runs/8x92ny2s</a>"
      ],
      "text/plain": [
       "<IPython.core.display.HTML object>"
      ]
     },
     "metadata": {},
     "output_type": "display_data"
    },
    {
     "data": {
      "text/html": [
       "<style>\n",
       "    table.wandb td:nth-child(1) { padding: 0 10px; text-align: left ; width: auto;} td:nth-child(2) {text-align: left ; width: 100%}\n",
       "    .wandb-row { display: flex; flex-direction: row; flex-wrap: wrap; justify-content: flex-start; width: 100% }\n",
       "    .wandb-col { display: flex; flex-direction: column; flex-basis: 100%; flex: 1; padding: 10px; }\n",
       "    </style>\n",
       "<div class=\"wandb-row\"><div class=\"wandb-col\"><h3>Run history:</h3><br/><table class=\"wandb\"><tr><td>loss</td><td>█▃▃▂▂▂▂▂▂▂▂▂▁▂▂▂▂▁▂▁▁▂▂▂▁▁▂▂▁▂▁▂▁▂▁▁▁▂▂▁</td></tr></table><br/></div><div class=\"wandb-col\"><h3>Run summary:</h3><br/><table class=\"wandb\"><tr><td>loss</td><td>0.21508</td></tr></table><br/></div></div>"
      ],
      "text/plain": [
       "<IPython.core.display.HTML object>"
      ]
     },
     "metadata": {},
     "output_type": "display_data"
    },
    {
     "data": {
      "text/html": [
       " View run <strong style=\"color:#cdcd00\">run_2</strong> at: <a href='https://wandb.ai/dmcsharry/RNN_BitStringDataset/runs/8x92ny2s' target=\"_blank\">https://wandb.ai/dmcsharry/RNN_BitStringDataset/runs/8x92ny2s</a><br/> View project at: <a href='https://wandb.ai/dmcsharry/RNN_BitStringDataset' target=\"_blank\">https://wandb.ai/dmcsharry/RNN_BitStringDataset</a><br/>Synced 4 W&B file(s), 0 media file(s), 0 artifact file(s) and 0 other file(s)"
      ],
      "text/plain": [
       "<IPython.core.display.HTML object>"
      ]
     },
     "metadata": {},
     "output_type": "display_data"
    },
    {
     "data": {
      "text/html": [
       "Find logs at: <code>./wandb/run-20240806_221951-8x92ny2s/logs</code>"
      ],
      "text/plain": [
       "<IPython.core.display.HTML object>"
      ]
     },
     "metadata": {},
     "output_type": "display_data"
    },
    {
     "data": {
      "text/html": [
       "The new W&B backend becomes opt-out in version 0.18.0; try it out with `wandb.require(\"core\")`! See https://wandb.me/wandb-core for more information."
      ],
      "text/plain": [
       "<IPython.core.display.HTML object>"
      ]
     },
     "metadata": {},
     "output_type": "display_data"
    },
    {
     "data": {
      "text/html": [
       "Tracking run with wandb version 0.17.5"
      ],
      "text/plain": [
       "<IPython.core.display.HTML object>"
      ]
     },
     "metadata": {},
     "output_type": "display_data"
    },
    {
     "data": {
      "text/html": [
       "Run data is saved locally in <code>/home/ubuntu/info-theory-experiments/wandb/run-20240806_222039-qe89n4n4</code>"
      ],
      "text/plain": [
       "<IPython.core.display.HTML object>"
      ]
     },
     "metadata": {},
     "output_type": "display_data"
    },
    {
     "data": {
      "text/html": [
       "Syncing run <strong><a href='https://wandb.ai/dmcsharry/RNN_BitStringDataset/runs/qe89n4n4' target=\"_blank\">run_3</a></strong> to <a href='https://wandb.ai/dmcsharry/RNN_BitStringDataset' target=\"_blank\">Weights & Biases</a> (<a href='https://wandb.me/run' target=\"_blank\">docs</a>)<br/>"
      ],
      "text/plain": [
       "<IPython.core.display.HTML object>"
      ]
     },
     "metadata": {},
     "output_type": "display_data"
    },
    {
     "data": {
      "text/html": [
       " View project at <a href='https://wandb.ai/dmcsharry/RNN_BitStringDataset' target=\"_blank\">https://wandb.ai/dmcsharry/RNN_BitStringDataset</a>"
      ],
      "text/plain": [
       "<IPython.core.display.HTML object>"
      ]
     },
     "metadata": {},
     "output_type": "display_data"
    },
    {
     "data": {
      "text/html": [
       " View run at <a href='https://wandb.ai/dmcsharry/RNN_BitStringDataset/runs/qe89n4n4' target=\"_blank\">https://wandb.ai/dmcsharry/RNN_BitStringDataset/runs/qe89n4n4</a>"
      ],
      "text/plain": [
       "<IPython.core.display.HTML object>"
      ]
     },
     "metadata": {},
     "output_type": "display_data"
    },
    {
     "ename": "KeyboardInterrupt",
     "evalue": "",
     "output_type": "error",
     "traceback": [
      "\u001b[0;31m---------------------------------------------------------------------------\u001b[0m",
      "\u001b[0;31mKeyboardInterrupt\u001b[0m                         Traceback (most recent call last)",
      "Cell \u001b[0;32mIn[14], line 46\u001b[0m\n\u001b[1;32m     40\u001b[0m         wandb\u001b[38;5;241m.\u001b[39mfinish()\n\u001b[1;32m     44\u001b[0m \u001b[38;5;66;03m###\u001b[39;00m\n\u001b[0;32m---> 46\u001b[0m \u001b[43mmain\u001b[49m\u001b[43m(\u001b[49m\u001b[43m)\u001b[49m\n",
      "Cell \u001b[0;32mIn[14], line 35\u001b[0m, in \u001b[0;36mmain\u001b[0;34m()\u001b[0m\n\u001b[1;32m     32\u001b[0m optimizer \u001b[38;5;241m=\u001b[39m optim\u001b[38;5;241m.\u001b[39mAdam(model\u001b[38;5;241m.\u001b[39mparameters(), lr\u001b[38;5;241m=\u001b[39mconfig[\u001b[38;5;124m'\u001b[39m\u001b[38;5;124mlearning_rate\u001b[39m\u001b[38;5;124m'\u001b[39m])\n\u001b[1;32m     34\u001b[0m \u001b[38;5;66;03m# Train the model\u001b[39;00m\n\u001b[0;32m---> 35\u001b[0m \u001b[43mtrain_rnn\u001b[49m\u001b[43m(\u001b[49m\u001b[43mconfig\u001b[49m\u001b[43m,\u001b[49m\u001b[43m \u001b[49m\u001b[43mtrainloader\u001b[49m\u001b[43m,\u001b[49m\u001b[43m \u001b[49m\u001b[43mmodel\u001b[49m\u001b[43m,\u001b[49m\u001b[43m \u001b[49m\u001b[43mcriterion\u001b[49m\u001b[43m,\u001b[49m\u001b[43m \u001b[49m\u001b[43moptimizer\u001b[49m\u001b[43m,\u001b[49m\u001b[43m \u001b[49m\u001b[43mdevice\u001b[49m\u001b[43m)\u001b[49m\n\u001b[1;32m     37\u001b[0m \u001b[38;5;66;03m# Save the model\u001b[39;00m\n\u001b[1;32m     38\u001b[0m torch\u001b[38;5;241m.\u001b[39msave(model\u001b[38;5;241m.\u001b[39mstate_dict(), \u001b[38;5;124mf\u001b[39m\u001b[38;5;124m\"\u001b[39m\u001b[38;5;124mRNNs/rnn_model_run_\u001b[39m\u001b[38;5;132;01m{\u001b[39;00mrun\u001b[38;5;241m+\u001b[39m\u001b[38;5;241m1\u001b[39m\u001b[38;5;132;01m}\u001b[39;00m\u001b[38;5;124m.pth\u001b[39m\u001b[38;5;124m\"\u001b[39m)\n",
      "Cell \u001b[0;32mIn[13], line 35\u001b[0m, in \u001b[0;36mtrain_rnn\u001b[0;34m(config, trainloader, model, criterion, optimizer, device)\u001b[0m\n\u001b[1;32m     33\u001b[0m hidden \u001b[38;5;241m=\u001b[39m model\u001b[38;5;241m.\u001b[39minit_hidden(inputs\u001b[38;5;241m.\u001b[39msize(\u001b[38;5;241m0\u001b[39m))\u001b[38;5;241m.\u001b[39mto(device)\n\u001b[1;32m     34\u001b[0m optimizer\u001b[38;5;241m.\u001b[39mzero_grad()\n\u001b[0;32m---> 35\u001b[0m outputs, hidden \u001b[38;5;241m=\u001b[39m \u001b[43mmodel\u001b[49m\u001b[43m(\u001b[49m\u001b[43minputs\u001b[49m\u001b[43m,\u001b[49m\u001b[43m \u001b[49m\u001b[43mhidden\u001b[49m\u001b[43m)\u001b[49m\n\u001b[1;32m     36\u001b[0m loss \u001b[38;5;241m=\u001b[39m criterion(outputs, targets)\n\u001b[1;32m     37\u001b[0m loss\u001b[38;5;241m.\u001b[39mbackward()\n",
      "File \u001b[0;32m~/info-theory-experiments/venv/lib/python3.8/site-packages/torch/nn/modules/module.py:1553\u001b[0m, in \u001b[0;36mModule._wrapped_call_impl\u001b[0;34m(self, *args, **kwargs)\u001b[0m\n\u001b[1;32m   1551\u001b[0m     \u001b[38;5;28;01mreturn\u001b[39;00m \u001b[38;5;28mself\u001b[39m\u001b[38;5;241m.\u001b[39m_compiled_call_impl(\u001b[38;5;241m*\u001b[39margs, \u001b[38;5;241m*\u001b[39m\u001b[38;5;241m*\u001b[39mkwargs)  \u001b[38;5;66;03m# type: ignore[misc]\u001b[39;00m\n\u001b[1;32m   1552\u001b[0m \u001b[38;5;28;01melse\u001b[39;00m:\n\u001b[0;32m-> 1553\u001b[0m     \u001b[38;5;28;01mreturn\u001b[39;00m \u001b[38;5;28;43mself\u001b[39;49m\u001b[38;5;241;43m.\u001b[39;49m\u001b[43m_call_impl\u001b[49m\u001b[43m(\u001b[49m\u001b[38;5;241;43m*\u001b[39;49m\u001b[43margs\u001b[49m\u001b[43m,\u001b[49m\u001b[43m \u001b[49m\u001b[38;5;241;43m*\u001b[39;49m\u001b[38;5;241;43m*\u001b[39;49m\u001b[43mkwargs\u001b[49m\u001b[43m)\u001b[49m\n",
      "File \u001b[0;32m~/info-theory-experiments/venv/lib/python3.8/site-packages/torch/nn/modules/module.py:1562\u001b[0m, in \u001b[0;36mModule._call_impl\u001b[0;34m(self, *args, **kwargs)\u001b[0m\n\u001b[1;32m   1557\u001b[0m \u001b[38;5;66;03m# If we don't have any hooks, we want to skip the rest of the logic in\u001b[39;00m\n\u001b[1;32m   1558\u001b[0m \u001b[38;5;66;03m# this function, and just call forward.\u001b[39;00m\n\u001b[1;32m   1559\u001b[0m \u001b[38;5;28;01mif\u001b[39;00m \u001b[38;5;129;01mnot\u001b[39;00m (\u001b[38;5;28mself\u001b[39m\u001b[38;5;241m.\u001b[39m_backward_hooks \u001b[38;5;129;01mor\u001b[39;00m \u001b[38;5;28mself\u001b[39m\u001b[38;5;241m.\u001b[39m_backward_pre_hooks \u001b[38;5;129;01mor\u001b[39;00m \u001b[38;5;28mself\u001b[39m\u001b[38;5;241m.\u001b[39m_forward_hooks \u001b[38;5;129;01mor\u001b[39;00m \u001b[38;5;28mself\u001b[39m\u001b[38;5;241m.\u001b[39m_forward_pre_hooks\n\u001b[1;32m   1560\u001b[0m         \u001b[38;5;129;01mor\u001b[39;00m _global_backward_pre_hooks \u001b[38;5;129;01mor\u001b[39;00m _global_backward_hooks\n\u001b[1;32m   1561\u001b[0m         \u001b[38;5;129;01mor\u001b[39;00m _global_forward_hooks \u001b[38;5;129;01mor\u001b[39;00m _global_forward_pre_hooks):\n\u001b[0;32m-> 1562\u001b[0m     \u001b[38;5;28;01mreturn\u001b[39;00m \u001b[43mforward_call\u001b[49m\u001b[43m(\u001b[49m\u001b[38;5;241;43m*\u001b[39;49m\u001b[43margs\u001b[49m\u001b[43m,\u001b[49m\u001b[43m \u001b[49m\u001b[38;5;241;43m*\u001b[39;49m\u001b[38;5;241;43m*\u001b[39;49m\u001b[43mkwargs\u001b[49m\u001b[43m)\u001b[49m\n\u001b[1;32m   1564\u001b[0m \u001b[38;5;28;01mtry\u001b[39;00m:\n\u001b[1;32m   1565\u001b[0m     result \u001b[38;5;241m=\u001b[39m \u001b[38;5;28;01mNone\u001b[39;00m\n",
      "Cell \u001b[0;32mIn[13], line 18\u001b[0m, in \u001b[0;36mSimpleRNN.forward\u001b[0;34m(self, x, hidden)\u001b[0m\n\u001b[1;32m     17\u001b[0m \u001b[38;5;28;01mdef\u001b[39;00m \u001b[38;5;21mforward\u001b[39m(\u001b[38;5;28mself\u001b[39m, x, hidden):\n\u001b[0;32m---> 18\u001b[0m     out, hidden \u001b[38;5;241m=\u001b[39m \u001b[38;5;28;43mself\u001b[39;49m\u001b[38;5;241;43m.\u001b[39;49m\u001b[43mrnn\u001b[49m\u001b[43m(\u001b[49m\u001b[43mx\u001b[49m\u001b[43m,\u001b[49m\u001b[43m \u001b[49m\u001b[43mhidden\u001b[49m\u001b[43m)\u001b[49m\n\u001b[1;32m     19\u001b[0m     out \u001b[38;5;241m=\u001b[39m \u001b[38;5;28mself\u001b[39m\u001b[38;5;241m.\u001b[39mfc(out[:, \u001b[38;5;241m-\u001b[39m\u001b[38;5;241m1\u001b[39m, :])  \u001b[38;5;66;03m# Use the last time step's output\u001b[39;00m\n\u001b[1;32m     20\u001b[0m     \u001b[38;5;28;01mreturn\u001b[39;00m out, hidden\n",
      "File \u001b[0;32m~/info-theory-experiments/venv/lib/python3.8/site-packages/torch/nn/modules/module.py:1553\u001b[0m, in \u001b[0;36mModule._wrapped_call_impl\u001b[0;34m(self, *args, **kwargs)\u001b[0m\n\u001b[1;32m   1551\u001b[0m     \u001b[38;5;28;01mreturn\u001b[39;00m \u001b[38;5;28mself\u001b[39m\u001b[38;5;241m.\u001b[39m_compiled_call_impl(\u001b[38;5;241m*\u001b[39margs, \u001b[38;5;241m*\u001b[39m\u001b[38;5;241m*\u001b[39mkwargs)  \u001b[38;5;66;03m# type: ignore[misc]\u001b[39;00m\n\u001b[1;32m   1552\u001b[0m \u001b[38;5;28;01melse\u001b[39;00m:\n\u001b[0;32m-> 1553\u001b[0m     \u001b[38;5;28;01mreturn\u001b[39;00m \u001b[38;5;28;43mself\u001b[39;49m\u001b[38;5;241;43m.\u001b[39;49m\u001b[43m_call_impl\u001b[49m\u001b[43m(\u001b[49m\u001b[38;5;241;43m*\u001b[39;49m\u001b[43margs\u001b[49m\u001b[43m,\u001b[49m\u001b[43m \u001b[49m\u001b[38;5;241;43m*\u001b[39;49m\u001b[38;5;241;43m*\u001b[39;49m\u001b[43mkwargs\u001b[49m\u001b[43m)\u001b[49m\n",
      "File \u001b[0;32m~/info-theory-experiments/venv/lib/python3.8/site-packages/torch/nn/modules/module.py:1562\u001b[0m, in \u001b[0;36mModule._call_impl\u001b[0;34m(self, *args, **kwargs)\u001b[0m\n\u001b[1;32m   1557\u001b[0m \u001b[38;5;66;03m# If we don't have any hooks, we want to skip the rest of the logic in\u001b[39;00m\n\u001b[1;32m   1558\u001b[0m \u001b[38;5;66;03m# this function, and just call forward.\u001b[39;00m\n\u001b[1;32m   1559\u001b[0m \u001b[38;5;28;01mif\u001b[39;00m \u001b[38;5;129;01mnot\u001b[39;00m (\u001b[38;5;28mself\u001b[39m\u001b[38;5;241m.\u001b[39m_backward_hooks \u001b[38;5;129;01mor\u001b[39;00m \u001b[38;5;28mself\u001b[39m\u001b[38;5;241m.\u001b[39m_backward_pre_hooks \u001b[38;5;129;01mor\u001b[39;00m \u001b[38;5;28mself\u001b[39m\u001b[38;5;241m.\u001b[39m_forward_hooks \u001b[38;5;129;01mor\u001b[39;00m \u001b[38;5;28mself\u001b[39m\u001b[38;5;241m.\u001b[39m_forward_pre_hooks\n\u001b[1;32m   1560\u001b[0m         \u001b[38;5;129;01mor\u001b[39;00m _global_backward_pre_hooks \u001b[38;5;129;01mor\u001b[39;00m _global_backward_hooks\n\u001b[1;32m   1561\u001b[0m         \u001b[38;5;129;01mor\u001b[39;00m _global_forward_hooks \u001b[38;5;129;01mor\u001b[39;00m _global_forward_pre_hooks):\n\u001b[0;32m-> 1562\u001b[0m     \u001b[38;5;28;01mreturn\u001b[39;00m \u001b[43mforward_call\u001b[49m\u001b[43m(\u001b[49m\u001b[38;5;241;43m*\u001b[39;49m\u001b[43margs\u001b[49m\u001b[43m,\u001b[49m\u001b[43m \u001b[49m\u001b[38;5;241;43m*\u001b[39;49m\u001b[38;5;241;43m*\u001b[39;49m\u001b[43mkwargs\u001b[49m\u001b[43m)\u001b[49m\n\u001b[1;32m   1564\u001b[0m \u001b[38;5;28;01mtry\u001b[39;00m:\n\u001b[1;32m   1565\u001b[0m     result \u001b[38;5;241m=\u001b[39m \u001b[38;5;28;01mNone\u001b[39;00m\n",
      "File \u001b[0;32m~/info-theory-experiments/venv/lib/python3.8/site-packages/torch/nn/modules/rnn.py:592\u001b[0m, in \u001b[0;36mRNN.forward\u001b[0;34m(self, input, hx)\u001b[0m\n\u001b[1;32m    590\u001b[0m \u001b[38;5;28;01mif\u001b[39;00m batch_sizes \u001b[38;5;129;01mis\u001b[39;00m \u001b[38;5;28;01mNone\u001b[39;00m:\n\u001b[1;32m    591\u001b[0m     \u001b[38;5;28;01mif\u001b[39;00m \u001b[38;5;28mself\u001b[39m\u001b[38;5;241m.\u001b[39mmode \u001b[38;5;241m==\u001b[39m \u001b[38;5;124m'\u001b[39m\u001b[38;5;124mRNN_TANH\u001b[39m\u001b[38;5;124m'\u001b[39m:\n\u001b[0;32m--> 592\u001b[0m         result \u001b[38;5;241m=\u001b[39m \u001b[43m_VF\u001b[49m\u001b[38;5;241;43m.\u001b[39;49m\u001b[43mrnn_tanh\u001b[49m\u001b[43m(\u001b[49m\u001b[38;5;28;43minput\u001b[39;49m\u001b[43m,\u001b[49m\u001b[43m \u001b[49m\u001b[43mhx\u001b[49m\u001b[43m,\u001b[49m\u001b[43m \u001b[49m\u001b[38;5;28;43mself\u001b[39;49m\u001b[38;5;241;43m.\u001b[39;49m\u001b[43m_flat_weights\u001b[49m\u001b[43m,\u001b[49m\u001b[43m \u001b[49m\u001b[38;5;28;43mself\u001b[39;49m\u001b[38;5;241;43m.\u001b[39;49m\u001b[43mbias\u001b[49m\u001b[43m,\u001b[49m\u001b[43m \u001b[49m\u001b[38;5;28;43mself\u001b[39;49m\u001b[38;5;241;43m.\u001b[39;49m\u001b[43mnum_layers\u001b[49m\u001b[43m,\u001b[49m\n\u001b[1;32m    593\u001b[0m \u001b[43m                              \u001b[49m\u001b[38;5;28;43mself\u001b[39;49m\u001b[38;5;241;43m.\u001b[39;49m\u001b[43mdropout\u001b[49m\u001b[43m,\u001b[49m\u001b[43m \u001b[49m\u001b[38;5;28;43mself\u001b[39;49m\u001b[38;5;241;43m.\u001b[39;49m\u001b[43mtraining\u001b[49m\u001b[43m,\u001b[49m\u001b[43m \u001b[49m\u001b[38;5;28;43mself\u001b[39;49m\u001b[38;5;241;43m.\u001b[39;49m\u001b[43mbidirectional\u001b[49m\u001b[43m,\u001b[49m\n\u001b[1;32m    594\u001b[0m \u001b[43m                              \u001b[49m\u001b[38;5;28;43mself\u001b[39;49m\u001b[38;5;241;43m.\u001b[39;49m\u001b[43mbatch_first\u001b[49m\u001b[43m)\u001b[49m\n\u001b[1;32m    595\u001b[0m     \u001b[38;5;28;01melse\u001b[39;00m:\n\u001b[1;32m    596\u001b[0m         result \u001b[38;5;241m=\u001b[39m _VF\u001b[38;5;241m.\u001b[39mrnn_relu(\u001b[38;5;28minput\u001b[39m, hx, \u001b[38;5;28mself\u001b[39m\u001b[38;5;241m.\u001b[39m_flat_weights, \u001b[38;5;28mself\u001b[39m\u001b[38;5;241m.\u001b[39mbias, \u001b[38;5;28mself\u001b[39m\u001b[38;5;241m.\u001b[39mnum_layers,\n\u001b[1;32m    597\u001b[0m                               \u001b[38;5;28mself\u001b[39m\u001b[38;5;241m.\u001b[39mdropout, \u001b[38;5;28mself\u001b[39m\u001b[38;5;241m.\u001b[39mtraining, \u001b[38;5;28mself\u001b[39m\u001b[38;5;241m.\u001b[39mbidirectional,\n\u001b[1;32m    598\u001b[0m                               \u001b[38;5;28mself\u001b[39m\u001b[38;5;241m.\u001b[39mbatch_first)\n",
      "\u001b[0;31mKeyboardInterrupt\u001b[0m: "
     ]
    }
   ],
   "source": [
    "# Main script\n",
    "def main():\n",
    "    # Configuration\n",
    "    config = {\n",
    "        'epochs': 5,\n",
    "        'batch_size': 32,\n",
    "        'learning_rate': 0.001,\n",
    "        'input_size': 6,\n",
    "        'hidden_size': 2,\n",
    "        'output_size': 6,\n",
    "        'gamma_parity': 0.9,\n",
    "        'gamma_extra': 0.9,\n",
    "        'length': 100000,\n",
    "        'num_runs': 5\n",
    "    }\n",
    "\n",
    "    device = torch.device(\"cuda\" if torch.cuda.is_available() else \"cpu\")\n",
    "\n",
    "    # Create directory for saving models\n",
    "    os.makedirs('RNNs', exist_ok=True)\n",
    "\n",
    "    for run in range(config['num_runs']):\n",
    "        wandb.init(project=\"RNN_BitStringDataset\", config=config, name=f\"run_{run+1}\")\n",
    "\n",
    "        # Dataset and DataLoader\n",
    "        dataset = BitStringDataset(config['gamma_parity'], config['gamma_extra'], config['length'])\n",
    "        trainloader = DataLoader(dataset, batch_size=config['batch_size'], shuffle=True)\n",
    "\n",
    "        # Model, criterion, and optimizer\n",
    "        model = SimpleRNN(config['input_size'], config['hidden_size'], config['output_size']).to(device)\n",
    "        criterion = nn.MSELoss()\n",
    "        optimizer = optim.Adam(model.parameters(), lr=config['learning_rate'])\n",
    "\n",
    "        # Train the model\n",
    "        train_rnn(config, trainloader, model, criterion, optimizer, device)\n",
    "\n",
    "        # Save the model\n",
    "        torch.save(model.state_dict(), f\"RNNs/rnn_model_run_{run+1}.pth\")\n",
    "\n",
    "        wandb.finish()\n",
    "\n",
    "\n",
    "\n",
    "###\n",
    "\n",
    "main()\n"
   ]
  },
  {
   "cell_type": "code",
   "execution_count": 15,
   "metadata": {},
   "outputs": [],
   "source": [
    "import torch\n",
    "\n",
    "def get_RNN_hiden_state_rep(input_batch):\n",
    "    # Load the model\n",
    "    model_path = 'RNNs/rnn_model_run_2.pth'\n",
    "    input_size = 6\n",
    "    hidden_size = 1\n",
    "    output_size = 6\n",
    "    model = SimpleRNN(input_size, hidden_size, output_size).to('cuda')\n",
    "    model.load_state_dict(torch.load(model_path, map_location='cuda'))\n",
    "    model.eval()\n",
    "\n",
    "    # Initialize hidden state\n",
    "    batch_size = input_batch.size(0)\n",
    "    hidden = torch.zeros(1, batch_size, hidden_size).to('cuda')\n",
    "\n",
    "    # Convert input batch to tensor if not already\n",
    "    input_batch = torch.tensor(input_batch, dtype=torch.float32).to('cuda')\n",
    "\n",
    "    # Forward pass through the model\n",
    "    with torch.no_grad():\n",
    "        _, hidden = model(input_batch.unsqueeze(1), hidden)\n",
    "\n",
    "    output = hidden.squeeze(0).to('cuda')\n",
    "\n",
    "    assert output.size() == (batch_size, hidden_size), output.size()\n",
    "\n",
    "    return hidden.to('cuda')\n"
   ]
  },
  {
   "cell_type": "code",
   "execution_count": null,
   "metadata": {},
   "outputs": [],
   "source": []
  },
  {
   "cell_type": "code",
   "execution_count": 4,
   "metadata": {},
   "outputs": [],
   "source": [
    "# for batch in dataloader:\n",
    "#     print(batch[:, 0, :].size())\n",
    "#     print(get_RNN_hiden_state_rep(batch[:, 0, :]).squeeze(0).detach().size())\n",
    "#     break"
   ]
  },
  {
   "cell_type": "code",
   "execution_count": 18,
   "metadata": {},
   "outputs": [
    {
     "data": {
      "text/html": [
       "Finishing last run (ID:o38dsvky) before initializing another..."
      ],
      "text/plain": [
       "<IPython.core.display.HTML object>"
      ]
     },
     "metadata": {},
     "output_type": "display_data"
    },
    {
     "data": {
      "text/html": [
       " View run <strong style=\"color:#cdcd00\">super-spaceship-21</strong> at: <a href='https://wandb.ai/dmcsharry/NEURIPS-what-bits-do-hidden-state-encode-RNN/runs/o38dsvky' target=\"_blank\">https://wandb.ai/dmcsharry/NEURIPS-what-bits-do-hidden-state-encode-RNN/runs/o38dsvky</a><br/> View project at: <a href='https://wandb.ai/dmcsharry/NEURIPS-what-bits-do-hidden-state-encode-RNN' target=\"_blank\">https://wandb.ai/dmcsharry/NEURIPS-what-bits-do-hidden-state-encode-RNN</a><br/>Synced 5 W&B file(s), 0 media file(s), 0 artifact file(s) and 0 other file(s)"
      ],
      "text/plain": [
       "<IPython.core.display.HTML object>"
      ]
     },
     "metadata": {},
     "output_type": "display_data"
    },
    {
     "data": {
      "text/html": [
       "Find logs at: <code>./wandb/run-20240806_222306-o38dsvky/logs</code>"
      ],
      "text/plain": [
       "<IPython.core.display.HTML object>"
      ]
     },
     "metadata": {},
     "output_type": "display_data"
    },
    {
     "data": {
      "text/html": [
       "The new W&B backend becomes opt-out in version 0.18.0; try it out with `wandb.require(\"core\")`! See https://wandb.me/wandb-core for more information."
      ],
      "text/plain": [
       "<IPython.core.display.HTML object>"
      ]
     },
     "metadata": {},
     "output_type": "display_data"
    },
    {
     "data": {
      "text/html": [
       "Successfully finished last run (ID:o38dsvky). Initializing new run:<br/>"
      ],
      "text/plain": [
       "<IPython.core.display.HTML object>"
      ]
     },
     "metadata": {},
     "output_type": "display_data"
    },
    {
     "data": {
      "text/html": [
       "Tracking run with wandb version 0.17.5"
      ],
      "text/plain": [
       "<IPython.core.display.HTML object>"
      ]
     },
     "metadata": {},
     "output_type": "display_data"
    },
    {
     "data": {
      "text/html": [
       "Run data is saved locally in <code>/home/ubuntu/info-theory-experiments/wandb/run-20240806_222531-kah8se4u</code>"
      ],
      "text/plain": [
       "<IPython.core.display.HTML object>"
      ]
     },
     "metadata": {},
     "output_type": "display_data"
    },
    {
     "data": {
      "text/html": [
       "Syncing run <strong><a href='https://wandb.ai/dmcsharry/NEURIPS-what-bits-do-hidden-state-encode-RNN/runs/kah8se4u' target=\"_blank\">whole-breeze-22</a></strong> to <a href='https://wandb.ai/dmcsharry/NEURIPS-what-bits-do-hidden-state-encode-RNN' target=\"_blank\">Weights & Biases</a> (<a href='https://wandb.me/run' target=\"_blank\">docs</a>)<br/>"
      ],
      "text/plain": [
       "<IPython.core.display.HTML object>"
      ]
     },
     "metadata": {},
     "output_type": "display_data"
    },
    {
     "data": {
      "text/html": [
       " View project at <a href='https://wandb.ai/dmcsharry/NEURIPS-what-bits-do-hidden-state-encode-RNN' target=\"_blank\">https://wandb.ai/dmcsharry/NEURIPS-what-bits-do-hidden-state-encode-RNN</a>"
      ],
      "text/plain": [
       "<IPython.core.display.HTML object>"
      ]
     },
     "metadata": {},
     "output_type": "display_data"
    },
    {
     "data": {
      "text/html": [
       " View run at <a href='https://wandb.ai/dmcsharry/NEURIPS-what-bits-do-hidden-state-encode-RNN/runs/kah8se4u' target=\"_blank\">https://wandb.ai/dmcsharry/NEURIPS-what-bits-do-hidden-state-encode-RNN/runs/kah8se4u</a>"
      ],
      "text/plain": [
       "<IPython.core.display.HTML object>"
      ]
     },
     "metadata": {},
     "output_type": "display_data"
    },
    {
     "name": "stderr",
     "output_type": "stream",
     "text": [
      "Training:   0%|          | 0/2 [00:00<?, ?it/s]/tmp/ipykernel_249498/2680323358.py:10: FutureWarning: You are using `torch.load` with `weights_only=False` (the current default value), which uses the default pickle module implicitly. It is possible to construct malicious pickle data which will execute arbitrary code during unpickling (See https://github.com/pytorch/pytorch/blob/main/SECURITY.md#untrusted-models for more details). In a future release, the default value for `weights_only` will be flipped to `True`. This limits the functions that could be executed during unpickling. Arbitrary objects will no longer be allowed to be loaded via this mode unless they are explicitly allowlisted by the user via `torch.serialization.add_safe_globals`. We recommend you start setting `weights_only=True` for any use case where you don't have full control of the loaded file. Please open an issue on GitHub for any issues related to this experimental feature.\n",
      "  model.load_state_dict(torch.load(model_path, map_location='cuda'))\n",
      "Training:   0%|          | 0/2 [00:00<?, ?it/s]\n"
     ]
    },
    {
     "ename": "RuntimeError",
     "evalue": "Error(s) in loading state_dict for SimpleRNN:\n\tsize mismatch for rnn.weight_ih_l0: copying a param with shape torch.Size([2, 6]) from checkpoint, the shape in current model is torch.Size([1, 6]).\n\tsize mismatch for rnn.weight_hh_l0: copying a param with shape torch.Size([2, 2]) from checkpoint, the shape in current model is torch.Size([1, 1]).\n\tsize mismatch for rnn.bias_ih_l0: copying a param with shape torch.Size([2]) from checkpoint, the shape in current model is torch.Size([1]).\n\tsize mismatch for rnn.bias_hh_l0: copying a param with shape torch.Size([2]) from checkpoint, the shape in current model is torch.Size([1]).\n\tsize mismatch for fc.weight: copying a param with shape torch.Size([6, 2]) from checkpoint, the shape in current model is torch.Size([6, 1]).",
     "output_type": "error",
     "traceback": [
      "\u001b[0;31m---------------------------------------------------------------------------\u001b[0m",
      "\u001b[0;31mRuntimeError\u001b[0m                              Traceback (most recent call last)",
      "Cell \u001b[0;32mIn[18], line 60\u001b[0m\n\u001b[1;32m     56\u001b[0m project_name_test \u001b[38;5;241m=\u001b[39m \u001b[38;5;124m\"\u001b[39m\u001b[38;5;124mNEURIPS-what-bits-do-hidden-state-encode-RNN\u001b[39m\u001b[38;5;124m\"\u001b[39m\n\u001b[1;32m     58\u001b[0m \u001b[38;5;28;01mfrom\u001b[39;00m \u001b[38;5;21;01mtrainer_for_RNN_rep_network\u001b[39;00m \u001b[38;5;28;01mimport\u001b[39;00m train_feature_network\n\u001b[0;32m---> 60\u001b[0m out \u001b[38;5;241m=\u001b[39m \u001b[43mtrain_feature_network\u001b[49m\u001b[43m(\u001b[49m\n\u001b[1;32m     61\u001b[0m \u001b[43m    \u001b[49m\u001b[43mconfig\u001b[49m\u001b[38;5;241;43m=\u001b[39;49m\u001b[43mbits_config_test\u001b[49m\u001b[43m,\u001b[49m\n\u001b[1;32m     62\u001b[0m \u001b[43m    \u001b[49m\u001b[43mtrainloader\u001b[49m\u001b[38;5;241;43m=\u001b[39;49m\u001b[43mdataloader\u001b[49m\u001b[43m,\u001b[49m\n\u001b[1;32m     63\u001b[0m \u001b[43m    \u001b[49m\u001b[43mfeature_network_training\u001b[49m\u001b[38;5;241;43m=\u001b[39;49m\u001b[43mget_RNN_hiden_state_rep\u001b[49m\u001b[43m,\u001b[49m\n\u001b[1;32m     64\u001b[0m \u001b[43m    \u001b[49m\u001b[43mproject_name\u001b[49m\u001b[38;5;241;43m=\u001b[39;49m\u001b[43mproject_name_test\u001b[49m\n\u001b[1;32m     65\u001b[0m \u001b[43m)\u001b[49m\n",
      "File \u001b[0;32m~/info-theory-experiments/trainer_for_RNN_rep_network.py:177\u001b[0m, in \u001b[0;36mtrain_feature_network\u001b[0;34m(config, trainloader, feature_network_training, project_name, feature_network_A, model_dir_prefix)\u001b[0m\n\u001b[1;32m    175\u001b[0m x0 \u001b[38;5;241m=\u001b[39m batch[:, \u001b[38;5;241m0\u001b[39m]\u001b[38;5;241m.\u001b[39mto(device)\u001b[38;5;241m.\u001b[39mfloat()\n\u001b[1;32m    176\u001b[0m x1 \u001b[38;5;241m=\u001b[39m batch[:, \u001b[38;5;241m1\u001b[39m]\u001b[38;5;241m.\u001b[39mto(device)\u001b[38;5;241m.\u001b[39mfloat()\n\u001b[0;32m--> 177\u001b[0m v0_B \u001b[38;5;241m=\u001b[39m \u001b[43mfeature_network_training\u001b[49m\u001b[43m(\u001b[49m\u001b[43mx0\u001b[49m\u001b[43m)\u001b[49m\u001b[38;5;241m.\u001b[39mdetach()\u001b[38;5;241m.\u001b[39msqueeze(\u001b[38;5;241m0\u001b[39m)\n\u001b[1;32m    178\u001b[0m v1_B \u001b[38;5;241m=\u001b[39m feature_network_training(x1)\u001b[38;5;241m.\u001b[39mdetach()\u001b[38;5;241m.\u001b[39msqueeze(\u001b[38;5;241m0\u001b[39m)\n\u001b[1;32m    179\u001b[0m \u001b[38;5;28;01mif\u001b[39;00m config[\u001b[38;5;124m'\u001b[39m\u001b[38;5;124mtrain_model_B\u001b[39m\u001b[38;5;124m'\u001b[39m]:\n",
      "Cell \u001b[0;32mIn[15], line 10\u001b[0m, in \u001b[0;36mget_RNN_hiden_state_rep\u001b[0;34m(input_batch)\u001b[0m\n\u001b[1;32m      8\u001b[0m output_size \u001b[38;5;241m=\u001b[39m \u001b[38;5;241m6\u001b[39m\n\u001b[1;32m      9\u001b[0m model \u001b[38;5;241m=\u001b[39m SimpleRNN(input_size, hidden_size, output_size)\u001b[38;5;241m.\u001b[39mto(\u001b[38;5;124m'\u001b[39m\u001b[38;5;124mcuda\u001b[39m\u001b[38;5;124m'\u001b[39m)\n\u001b[0;32m---> 10\u001b[0m \u001b[43mmodel\u001b[49m\u001b[38;5;241;43m.\u001b[39;49m\u001b[43mload_state_dict\u001b[49m\u001b[43m(\u001b[49m\u001b[43mtorch\u001b[49m\u001b[38;5;241;43m.\u001b[39;49m\u001b[43mload\u001b[49m\u001b[43m(\u001b[49m\u001b[43mmodel_path\u001b[49m\u001b[43m,\u001b[49m\u001b[43m \u001b[49m\u001b[43mmap_location\u001b[49m\u001b[38;5;241;43m=\u001b[39;49m\u001b[38;5;124;43m'\u001b[39;49m\u001b[38;5;124;43mcuda\u001b[39;49m\u001b[38;5;124;43m'\u001b[39;49m\u001b[43m)\u001b[49m\u001b[43m)\u001b[49m\n\u001b[1;32m     11\u001b[0m model\u001b[38;5;241m.\u001b[39meval()\n\u001b[1;32m     13\u001b[0m \u001b[38;5;66;03m# Initialize hidden state\u001b[39;00m\n",
      "File \u001b[0;32m~/info-theory-experiments/venv/lib/python3.8/site-packages/torch/nn/modules/module.py:2215\u001b[0m, in \u001b[0;36mModule.load_state_dict\u001b[0;34m(self, state_dict, strict, assign)\u001b[0m\n\u001b[1;32m   2210\u001b[0m         error_msgs\u001b[38;5;241m.\u001b[39minsert(\n\u001b[1;32m   2211\u001b[0m             \u001b[38;5;241m0\u001b[39m, \u001b[38;5;124m'\u001b[39m\u001b[38;5;124mMissing key(s) in state_dict: \u001b[39m\u001b[38;5;132;01m{}\u001b[39;00m\u001b[38;5;124m. \u001b[39m\u001b[38;5;124m'\u001b[39m\u001b[38;5;241m.\u001b[39mformat(\n\u001b[1;32m   2212\u001b[0m                 \u001b[38;5;124m'\u001b[39m\u001b[38;5;124m, \u001b[39m\u001b[38;5;124m'\u001b[39m\u001b[38;5;241m.\u001b[39mjoin(\u001b[38;5;124mf\u001b[39m\u001b[38;5;124m'\u001b[39m\u001b[38;5;124m\"\u001b[39m\u001b[38;5;132;01m{\u001b[39;00mk\u001b[38;5;132;01m}\u001b[39;00m\u001b[38;5;124m\"\u001b[39m\u001b[38;5;124m'\u001b[39m \u001b[38;5;28;01mfor\u001b[39;00m k \u001b[38;5;129;01min\u001b[39;00m missing_keys)))\n\u001b[1;32m   2214\u001b[0m \u001b[38;5;28;01mif\u001b[39;00m \u001b[38;5;28mlen\u001b[39m(error_msgs) \u001b[38;5;241m>\u001b[39m \u001b[38;5;241m0\u001b[39m:\n\u001b[0;32m-> 2215\u001b[0m     \u001b[38;5;28;01mraise\u001b[39;00m \u001b[38;5;167;01mRuntimeError\u001b[39;00m(\u001b[38;5;124m'\u001b[39m\u001b[38;5;124mError(s) in loading state_dict for \u001b[39m\u001b[38;5;132;01m{}\u001b[39;00m\u001b[38;5;124m:\u001b[39m\u001b[38;5;130;01m\\n\u001b[39;00m\u001b[38;5;130;01m\\t\u001b[39;00m\u001b[38;5;132;01m{}\u001b[39;00m\u001b[38;5;124m'\u001b[39m\u001b[38;5;241m.\u001b[39mformat(\n\u001b[1;32m   2216\u001b[0m                        \u001b[38;5;28mself\u001b[39m\u001b[38;5;241m.\u001b[39m\u001b[38;5;18m__class__\u001b[39m\u001b[38;5;241m.\u001b[39m\u001b[38;5;18m__name__\u001b[39m, \u001b[38;5;124m\"\u001b[39m\u001b[38;5;130;01m\\n\u001b[39;00m\u001b[38;5;130;01m\\t\u001b[39;00m\u001b[38;5;124m\"\u001b[39m\u001b[38;5;241m.\u001b[39mjoin(error_msgs)))\n\u001b[1;32m   2217\u001b[0m \u001b[38;5;28;01mreturn\u001b[39;00m _IncompatibleKeys(missing_keys, unexpected_keys)\n",
      "\u001b[0;31mRuntimeError\u001b[0m: Error(s) in loading state_dict for SimpleRNN:\n\tsize mismatch for rnn.weight_ih_l0: copying a param with shape torch.Size([2, 6]) from checkpoint, the shape in current model is torch.Size([1, 6]).\n\tsize mismatch for rnn.weight_hh_l0: copying a param with shape torch.Size([2, 2]) from checkpoint, the shape in current model is torch.Size([1, 1]).\n\tsize mismatch for rnn.bias_ih_l0: copying a param with shape torch.Size([2]) from checkpoint, the shape in current model is torch.Size([1]).\n\tsize mismatch for rnn.bias_hh_l0: copying a param with shape torch.Size([2]) from checkpoint, the shape in current model is torch.Size([1]).\n\tsize mismatch for fc.weight: copying a param with shape torch.Size([6, 2]) from checkpoint, the shape in current model is torch.Size([6, 1])."
     ]
    }
   ],
   "source": [
    "seed = 4\n",
    "\n",
    "bits_config_test = {\n",
    "    \"gamma_parity\": 0.99,\n",
    "    \"gamma_extra\": 0.99,\n",
    "    \"dataset_length\": 1000000,\n",
    "    \"torch_seed\": seed,\n",
    "    \"dataset_type\": \"bits\",\n",
    "    \"num_atoms\": 6,\n",
    "    \"batch_size\": 1000,\n",
    "    \"train_mode\": False,\n",
    "    \"train_model_B\": False,\n",
    "    \"adjust_Psi\": False,\n",
    "    \"clip\": 5,\n",
    "    \"feature_size\": 2,\n",
    "    \"epochs\": 2,\n",
    "    \"start_updating_f_after\": 1000,\n",
    "    \"update_f_every_N_steps\": 5,\n",
    "    \"minimize_neg_terms_until\": 0,\n",
    "    \"downward_critics_config\": {\n",
    "        \"hidden_sizes_v_critic\": [256, 256, 256],\n",
    "        \"hidden_sizes_xi_critic\": [256, 256, 256],\n",
    "        \"critic_output_size\": 32,\n",
    "        \"lr\": 1e-3,\n",
    "        \"bias\": True,\n",
    "        \"weight_decay\": 0,\n",
    "    },\n",
    "    \n",
    "    \"decoupled_critic_config\": {\n",
    "        \"hidden_sizes_encoder_1\": [256, 256],\n",
    "        \"hidden_sizes_encoder_2\": [256, 256],\n",
    "        \"critic_output_size\": 32,\n",
    "        \"lr\": 1e-3,\n",
    "        \"bias\": True,\n",
    "        \"weight_decay\": 0,\n",
    "    },\n",
    "    \"feature_network_config\": {\n",
    "        \"hidden_sizes\": [256, 256],\n",
    "        \"lr\": 1e-4,\n",
    "        \"bias\": True,\n",
    "        \"weight_decay\": 0.00001,\n",
    "    }\n",
    "}\n",
    "\n",
    "from custom_datasets import BitStringDataset\n",
    "\n",
    "# Create a dataset\n",
    "dataset = BitStringDataset(\n",
    "    gamma_parity=bits_config_test[\"gamma_parity\"],\n",
    "    gamma_extra=bits_config_test[\"gamma_extra\"],\n",
    "    length=bits_config_test[\"dataset_length\"]\n",
    ")\n",
    "\n",
    "dataloader = DataLoader(dataset, batch_size=bits_config_test[\"batch_size\"], shuffle=False)\n",
    "\n",
    "project_name_test = \"NEURIPS-what-bits-do-hidden-state-encode-RNN\"\n",
    "\n",
    "from trainer_for_RNN_rep_network import train_feature_network\n",
    "\n",
    "out = train_feature_network(\n",
    "    config=bits_config_test,\n",
    "    trainloader=dataloader,\n",
    "    feature_network_training=get_RNN_hiden_state_rep,\n",
    "    project_name=project_name_test\n",
    ")"
   ]
  },
  {
   "cell_type": "markdown",
   "metadata": {},
   "source": [
    "# testing reps predictive power\n",
    "\n",
    "to switch between which rep you are using change the two comments at wanbdb.inti and hidden state\n",
    "\n",
    "you can choose which rep model to use from models folder\n",
    "\n",
    "you can choose what RNN to use by editing abot get_hidden_... function"
   ]
  },
  {
   "cell_type": "code",
   "execution_count": 18,
   "metadata": {},
   "outputs": [
    {
     "data": {
      "text/html": [
       "Tracking run with wandb version 0.17.5"
      ],
      "text/plain": [
       "<IPython.core.display.HTML object>"
      ]
     },
     "metadata": {},
     "output_type": "display_data"
    },
    {
     "data": {
      "text/html": [
       "Run data is saved locally in <code>/home/ubuntu/info-theory-experiments/wandb/run-20240803_033006-w4h6hkn9</code>"
      ],
      "text/plain": [
       "<IPython.core.display.HTML object>"
      ]
     },
     "metadata": {},
     "output_type": "display_data"
    },
    {
     "data": {
      "text/html": [
       "Syncing run <strong><a href='https://wandb.ai/dmcsharry/NEURIPS-predicting-next-time-step-from-emergent-rep/runs/w4h6hkn9' target=\"_blank\">stellar-resonance-7</a></strong> to <a href='https://wandb.ai/dmcsharry/NEURIPS-predicting-next-time-step-from-emergent-rep' target=\"_blank\">Weights & Biases</a> (<a href='https://wandb.me/run' target=\"_blank\">docs</a>)<br/>"
      ],
      "text/plain": [
       "<IPython.core.display.HTML object>"
      ]
     },
     "metadata": {},
     "output_type": "display_data"
    },
    {
     "data": {
      "text/html": [
       " View project at <a href='https://wandb.ai/dmcsharry/NEURIPS-predicting-next-time-step-from-emergent-rep' target=\"_blank\">https://wandb.ai/dmcsharry/NEURIPS-predicting-next-time-step-from-emergent-rep</a>"
      ],
      "text/plain": [
       "<IPython.core.display.HTML object>"
      ]
     },
     "metadata": {},
     "output_type": "display_data"
    },
    {
     "data": {
      "text/html": [
       " View run at <a href='https://wandb.ai/dmcsharry/NEURIPS-predicting-next-time-step-from-emergent-rep/runs/w4h6hkn9' target=\"_blank\">https://wandb.ai/dmcsharry/NEURIPS-predicting-next-time-step-from-emergent-rep/runs/w4h6hkn9</a>"
      ],
      "text/plain": [
       "<IPython.core.display.HTML object>"
      ]
     },
     "metadata": {},
     "output_type": "display_data"
    },
    {
     "name": "stderr",
     "output_type": "stream",
     "text": [
      "/tmp/ipykernel_306028/1222756982.py:29: FutureWarning: You are using `torch.load` with `weights_only=False` (the current default value), which uses the default pickle module implicitly. It is possible to construct malicious pickle data which will execute arbitrary code during unpickling (See https://github.com/pytorch/pytorch/blob/main/SECURITY.md#untrusted-models for more details). In a future release, the default value for `weights_only` will be flipped to `True`. This limits the functions that could be executed during unpickling. Arbitrary objects will no longer be allowed to be loaded via this mode unless they are explicitly allowlisted by the user via `torch.serialization.add_safe_globals`. We recommend you start setting `weights_only=True` for any use case where you don't have full control of the loaded file. Please open an issue on GitHub for any issues related to this experimental feature.\n",
      "  representation_netork.load_state_dict(torch.load(\"models/emergent_feature_network-dark-frog-14.pth\"))\n"
     ]
    },
    {
     "name": "stdout",
     "output_type": "stream",
     "text": [
      "Epoch 1/10, Loss: 0.2518981397151947\n",
      "Epoch 2/10, Loss: 0.25208085775375366\n",
      "Epoch 3/10, Loss: 0.25221505761146545\n",
      "Epoch 4/10, Loss: 0.2522874176502228\n",
      "Epoch 5/10, Loss: 0.2521645426750183\n",
      "Epoch 6/10, Loss: 0.25196224451065063\n",
      "Epoch 7/10, Loss: 0.25141844153404236\n",
      "Epoch 8/10, Loss: 0.2503499686717987\n",
      "Epoch 9/10, Loss: 0.24888698756694794\n",
      "Epoch 10/10, Loss: 0.2483784258365631\n"
     ]
    },
    {
     "data": {
      "text/html": [
       "<style>\n",
       "    table.wandb td:nth-child(1) { padding: 0 10px; text-align: left ; width: auto;} td:nth-child(2) {text-align: left ; width: 100%}\n",
       "    .wandb-row { display: flex; flex-direction: row; flex-wrap: wrap; justify-content: flex-start; width: 100% }\n",
       "    .wandb-col { display: flex; flex-direction: column; flex-basis: 100%; flex: 1; padding: 10px; }\n",
       "    </style>\n",
       "<div class=\"wandb-row\"><div class=\"wandb-col\"><h3>Run history:</h3><br/><table class=\"wandb\"><tr><td>mlp_loss</td><td>▆▂▅▄▃▄█▄▄▃▆▄▅▇▃▅▅▄▄▃▃▅▃▄▃▄▃▃▂▃▁▁▃▂▃▁▃▃▂▃</td></tr></table><br/></div><div class=\"wandb-col\"><h3>Run summary:</h3><br/><table class=\"wandb\"><tr><td>mlp_loss</td><td>0.24838</td></tr></table><br/></div></div>"
      ],
      "text/plain": [
       "<IPython.core.display.HTML object>"
      ]
     },
     "metadata": {},
     "output_type": "display_data"
    },
    {
     "data": {
      "text/html": [
       " View run <strong style=\"color:#cdcd00\">stellar-resonance-7</strong> at: <a href='https://wandb.ai/dmcsharry/NEURIPS-predicting-next-time-step-from-emergent-rep/runs/w4h6hkn9' target=\"_blank\">https://wandb.ai/dmcsharry/NEURIPS-predicting-next-time-step-from-emergent-rep/runs/w4h6hkn9</a><br/> View project at: <a href='https://wandb.ai/dmcsharry/NEURIPS-predicting-next-time-step-from-emergent-rep' target=\"_blank\">https://wandb.ai/dmcsharry/NEURIPS-predicting-next-time-step-from-emergent-rep</a><br/>Synced 5 W&B file(s), 0 media file(s), 0 artifact file(s) and 0 other file(s)"
      ],
      "text/plain": [
       "<IPython.core.display.HTML object>"
      ]
     },
     "metadata": {},
     "output_type": "display_data"
    },
    {
     "data": {
      "text/html": [
       "Find logs at: <code>./wandb/run-20240803_033006-w4h6hkn9/logs</code>"
      ],
      "text/plain": [
       "<IPython.core.display.HTML object>"
      ]
     },
     "metadata": {},
     "output_type": "display_data"
    },
    {
     "data": {
      "text/html": [
       "The new W&B backend becomes opt-out in version 0.18.0; try it out with `wandb.require(\"core\")`! See https://wandb.me/wandb-core for more information."
      ],
      "text/plain": [
       "<IPython.core.display.HTML object>"
      ]
     },
     "metadata": {},
     "output_type": "display_data"
    }
   ],
   "source": [
    "\n",
    "device = 'cuda'\n",
    "import wandb\n",
    "\n",
    "# Initialize wandb client\n",
    "wandb.init(project='NEURIPS-predicting-next-time-step-from-emergent-rep')  #\"NEURIPS-predicting-next-time-step-from-hidden-state-RNN\")\n",
    "\n",
    "import torch\n",
    "from torch.utils.data import DataLoader\n",
    "from custom_datasets import BitStringDataset\n",
    "\n",
    "# Load bits dataset\n",
    "dataset_test = BitStringDataset(\n",
    "    gamma_parity=0.99,\n",
    "    gamma_extra=0.99,\n",
    "    length=1000000\n",
    ")\n",
    "\n",
    "dataloader = DataLoader(dataset_test, batch_size=1000, shuffle=False)\n",
    "\n",
    "\n",
    "from models import SkipConnectionSupervenientFeatureNetwork\n",
    "\n",
    "representation_netork = SkipConnectionSupervenientFeatureNetwork(\n",
    "    num_atoms=6,\n",
    "    feature_size=1,\n",
    "    hidden_sizes=[256, 256]\n",
    ").to(device)\n",
    "\n",
    "representation_netork.load_state_dict(torch.load(\"models/emergent_feature_network-dark-frog-14.pth\"))\n",
    "\n",
    "\n",
    "# Define a simple MLP for prediction\n",
    "class MLP(nn.Module):\n",
    "    def __init__(self, input_size, hidden_sizes, output_size):\n",
    "        super(MLP, self).__init__()\n",
    "        layers = []\n",
    "        current_size = input_size\n",
    "        for hidden_size in hidden_sizes:\n",
    "            layers.append(nn.Linear(current_size, hidden_size))\n",
    "            layers.append(nn.ReLU())\n",
    "            current_size = hidden_size\n",
    "        layers.append(nn.Linear(current_size, output_size))\n",
    "        self.network = nn.Sequential(*layers)\n",
    "\n",
    "    def forward(self, x):\n",
    "        return self.network(x)\n",
    "\n",
    "# Initialize the MLP\n",
    "input_size = 1\n",
    "hidden_sizes = [256, 512, 1024, 1024, 512, 256]\n",
    "output_size = 6\n",
    "mlp = MLP(input_size, hidden_sizes, output_size).to(device)\n",
    "\n",
    "# Define optimizer and loss function\n",
    "mlp_optimizer = torch.optim.Adam(\n",
    "    mlp.parameters(),\n",
    "    lr=1e-4,\n",
    "    weight_decay=0.00001\n",
    ")\n",
    "loss_fn = nn.MSELoss()\n",
    "\n",
    "# Training loop for the MLP\n",
    "epochs = 10\n",
    "for epoch in range(epochs):\n",
    "    for batch_num, batch in enumerate(dataloader):\n",
    "        x_t = batch[:, 0].to(device).float()\n",
    "        x_t_plus_1 = batch[:, 1].to(device).float()\n",
    "        \n",
    "        # Get hidden state representation\n",
    "        hidden_state =  representation_netork(x_t).detach() # get_RNN_hiden_state_rep(x_t).detach()\n",
    "        \n",
    "        # Predict x_t+1 using the MLP\n",
    "        mlp_optimizer.zero_grad()\n",
    "        x_t_plus_1_pred = mlp(hidden_state)\n",
    "        \n",
    "        # Compute loss and backpropagate\n",
    "        loss = loss_fn(x_t_plus_1_pred, x_t_plus_1)\n",
    "        loss.backward()\n",
    "        mlp_optimizer.step()\n",
    "        \n",
    "        # Log the loss\n",
    "        wandb.log({\"mlp_loss\": loss.item()}, step=epoch * len(dataloader) + batch_num)\n",
    "\n",
    "    print(f\"Epoch {epoch + 1}/{epochs}, Loss: {loss.item()}\")\n",
    "\n",
    "wandb.finish()\n"
   ]
  },
  {
   "cell_type": "markdown",
   "metadata": {},
   "source": [
    "The below cell shows the hidden state and the output of the MLP found in above cell for visual inspection (not super important)"
   ]
  },
  {
   "cell_type": "code",
   "execution_count": 17,
   "metadata": {},
   "outputs": [
    {
     "name": "stdout",
     "output_type": "stream",
     "text": [
      "Original x_t: tensor([[0., 0., 1., 1., 0., 1.],\n",
      "        [1., 1., 0., 0., 0., 1.],\n",
      "        [0., 1., 0., 0., 1., 1.]], device='cuda:0')\n",
      "Original x_t_plus_1: tensor([[1., 1., 0., 0., 0., 1.],\n",
      "        [0., 1., 0., 0., 1., 1.],\n",
      "        [0., 0., 1., 0., 1., 1.]], device='cuda:0')\n",
      "Hidden state representation: tensor([[ 0.6725],\n",
      "        [-0.3880],\n",
      "        [-0.4227]], device='cuda:0')\n",
      "MLP output (predicted x_t_plus_1): tensor([[ 0.4797,  0.5010,  0.4824,  0.4996,  0.5017,  0.2511],\n",
      "        [ 0.4673,  0.4508,  0.4954,  0.4315,  0.4772, -0.4513],\n",
      "        [ 0.4679,  0.4503,  0.4964,  0.4313,  0.4777, -0.4601]],\n",
      "       device='cuda:0', grad_fn=<AddmmBackward0>)\n",
      "\n",
      "--------------------------------------------------\n",
      "\n",
      "Original x_t: tensor([[1., 0., 0., 0., 0., 0.],\n",
      "        [1., 1., 0., 1., 0., 0.],\n",
      "        [0., 1., 1., 0., 1., 0.]], device='cuda:0')\n",
      "Original x_t_plus_1: tensor([[1., 1., 0., 1., 0., 0.],\n",
      "        [0., 1., 1., 0., 1., 0.],\n",
      "        [0., 1., 0., 1., 1., 1.]], device='cuda:0')\n",
      "Hidden state representation: tensor([[ 0.1166],\n",
      "        [-0.8809],\n",
      "        [ 0.0988]], device='cuda:0')\n",
      "MLP output (predicted x_t_plus_1): tensor([[ 0.4716,  0.4705,  0.4898,  0.4469,  0.4788, -0.2887],\n",
      "        [ 0.4939,  0.4546,  0.5227,  0.4374,  0.4940, -0.5574],\n",
      "        [ 0.4711,  0.4696,  0.4899,  0.4457,  0.4786, -0.2965]],\n",
      "       device='cuda:0', grad_fn=<AddmmBackward0>)\n",
      "\n",
      "--------------------------------------------------\n",
      "\n",
      "Original x_t: tensor([[0., 1., 1., 1., 1., 1.],\n",
      "        [1., 0., 1., 0., 0., 1.],\n",
      "        [0., 0., 1., 0., 1., 1.]], device='cuda:0')\n",
      "Original x_t_plus_1: tensor([[1., 0., 1., 0., 0., 1.],\n",
      "        [0., 0., 1., 0., 1., 1.],\n",
      "        [0., 0., 1., 1., 0., 1.]], device='cuda:0')\n",
      "Hidden state representation: tensor([[-0.3907],\n",
      "        [ 0.6559],\n",
      "        [ 0.6146]], device='cuda:0')\n",
      "MLP output (predicted x_t_plus_1): tensor([[ 0.4673,  0.4507,  0.4955,  0.4315,  0.4773, -0.4520],\n",
      "        [ 0.4801,  0.5013,  0.4831,  0.4997,  0.5023,  0.2099],\n",
      "        [ 0.4819,  0.5022,  0.4854,  0.4992,  0.5032,  0.1092]],\n",
      "       device='cuda:0', grad_fn=<AddmmBackward0>)\n",
      "\n",
      "--------------------------------------------------\n",
      "\n"
     ]
    },
    {
     "name": "stderr",
     "output_type": "stream",
     "text": [
      "/tmp/ipykernel_306028/3986259092.py:11: FutureWarning: You are using `torch.load` with `weights_only=False` (the current default value), which uses the default pickle module implicitly. It is possible to construct malicious pickle data which will execute arbitrary code during unpickling (See https://github.com/pytorch/pytorch/blob/main/SECURITY.md#untrusted-models for more details). In a future release, the default value for `weights_only` will be flipped to `True`. This limits the functions that could be executed during unpickling. Arbitrary objects will no longer be allowed to be loaded via this mode unless they are explicitly allowlisted by the user via `torch.serialization.add_safe_globals`. We recommend you start setting `weights_only=True` for any use case where you don't have full control of the loaded file. Please open an issue on GitHub for any issues related to this experimental feature.\n",
      "  representation_netork.load_state_dict(torch.load(\"models/emergent_feature_network-dark-frog-14.pth\"))\n"
     ]
    }
   ],
   "source": [
    "from models import SkipConnectionSupervenientFeatureNetwork\n",
    "\n",
    "representation_netork = SkipConnectionSupervenientFeatureNetwork(\n",
    "    num_atoms=6,\n",
    "    feature_size=1,\n",
    "    hidden_sizes=[256, 256]\n",
    ").to(device)\n",
    "\n",
    "# load models/emergent_feature_network-scarlet-plant-12.pth\n",
    "\n",
    "representation_netork.load_state_dict(torch.load(\"models/emergent_feature_network-dark-frog-14.pth\"))\n",
    "\n",
    "\n",
    "\n",
    "# Get 3 datapoints from the dataloader\n",
    "data_iter = iter(dataloader)\n",
    "points = []\n",
    "for _ in range(3):\n",
    "    batch = next(data_iter)\n",
    "    x_t = batch[:3, 0].to(device).float()\n",
    "    x_t_plus_1 = batch[:3, 1].to(device).float()\n",
    "    points.append((x_t, x_t_plus_1))\n",
    "\n",
    "# Print the original datapoints and their predictions\n",
    "for x_t, x_t_plus_1 in points:\n",
    "    print(\"Original x_t:\", x_t)\n",
    "    print(\"Original x_t_plus_1:\", x_t_plus_1)\n",
    "    \n",
    "    # Get hidden state representation using the representation network\n",
    "    hidden_state = representation_netork(x_t).detach()\n",
    "    print(\"Hidden state representation:\", hidden_state)\n",
    "    \n",
    "    # Predict x_t+1 using the MLP\n",
    "    x_t_plus_1_pred = mlp(hidden_state)\n",
    "    print(\"MLP output (predicted x_t_plus_1):\", x_t_plus_1_pred)\n",
    "    print(\"\\n\" + \"-\"*50 + \"\\n\")\n"
   ]
  },
  {
   "cell_type": "code",
   "execution_count": 6,
   "metadata": {},
   "outputs": [
    {
     "name": "stderr",
     "output_type": "stream",
     "text": [
      "/tmp/ipykernel_249498/140010242.py:60: FutureWarning: You are using `torch.load` with `weights_only=False` (the current default value), which uses the default pickle module implicitly. It is possible to construct malicious pickle data which will execute arbitrary code during unpickling (See https://github.com/pytorch/pytorch/blob/main/SECURITY.md#untrusted-models for more details). In a future release, the default value for `weights_only` will be flipped to `True`. This limits the functions that could be executed during unpickling. Arbitrary objects will no longer be allowed to be loaded via this mode unless they are explicitly allowlisted by the user via `torch.serialization.add_safe_globals`. We recommend you start setting `weights_only=True` for any use case where you don't have full control of the loaded file. Please open an issue on GitHub for any issues related to this experimental feature.\n",
      "  model.load_state_dict(torch.load(\"models/emergent_feature_network-jolly-sea-16.pth\"))\n"
     ]
    },
    {
     "name": "stdout",
     "output_type": "stream",
     "text": [
      "torch.Size([99999, 2, 6])\n",
      "MI: 0.8779662847518921\n",
      "MI: 1.8352651596069336\n",
      "MI: 1.8177181482315063\n",
      "MI: 1.846044898033142\n",
      "MI: 1.7928447723388672\n"
     ]
    }
   ],
   "source": [
    "from models import GeneralSmileMIEstimator\n",
    "from custom_datasets import BitStringDataset\n",
    "from torch.utils.data import DataLoader\n",
    "import torch\n",
    "import torch.nn as nn\n",
    "from models import SkipConnectionSupervenientFeatureNetwork\n",
    "\n",
    "class SimpleRNN(nn.Module):\n",
    "    def __init__(self, input_size, hidden_size, output_size):\n",
    "        super(SimpleRNN, self).__init__()\n",
    "        self.hidden_size = hidden_size\n",
    "        self.rnn = nn.RNN(input_size, hidden_size, batch_first=True)\n",
    "        self.fc = nn.Linear(hidden_size, output_size)\n",
    "\n",
    "    def forward(self, x, hidden):\n",
    "        out, hidden = self.rnn(x, hidden)\n",
    "        out = self.fc(out[:, -1, :])  # Use the last time step's output\n",
    "        return out, hidden\n",
    "\n",
    "    def init_hidden(self, batch_size):\n",
    "        return torch.zeros(1, batch_size, self.hidden_size).to('cuda')\n",
    "\n",
    "device = 'cuda'\n",
    "\n",
    "def get_RNN_hiden_state_rep(input_batch):\n",
    "    # Load the model\n",
    "    model_path = 'RNNs/rnn_model_run_4.pth'\n",
    "    input_size = 6\n",
    "    hidden_size = 1\n",
    "    output_size = 6\n",
    "    model = SimpleRNN(input_size, hidden_size, output_size).to('cuda')\n",
    "    model.load_state_dict(torch.load(model_path, map_location='cuda'))\n",
    "    model.eval()\n",
    "\n",
    "    # Initialize hidden state\n",
    "    batch_size = input_batch.size(0)\n",
    "    hidden = torch.zeros(1, batch_size, hidden_size).to('cuda')\n",
    "\n",
    "    # Convert input batch to tensor if not already\n",
    "    input_batch = torch.tensor(input_batch, dtype=torch.float32).to('cuda')\n",
    "\n",
    "    # Forward pass through the model\n",
    "    with torch.no_grad():\n",
    "        _, hidden = model(input_batch.unsqueeze(1).to('cuda'), hidden)\n",
    "\n",
    "    output = hidden.squeeze(0).to('cuda')\n",
    "\n",
    "    assert output.size() == (batch_size, hidden_size), output.size()\n",
    "\n",
    "    return hidden.to('cuda')\n",
    "\n",
    "\n",
    "model = SkipConnectionSupervenientFeatureNetwork(\n",
    "    num_atoms=6,\n",
    "    feature_size=1,\n",
    "    hidden_sizes=[256, 256],\n",
    "    include_bias=True\n",
    ").to(device)\n",
    "\n",
    "model.load_state_dict(torch.load(\"models/emergent_feature_network-jolly-sea-16.pth\"))\n",
    "\n",
    "\n",
    "bits_dataset = BitStringDataset(\n",
    "    gamma_parity=0.99,\n",
    "    gamma_extra=0.99,\n",
    "    length=100000\n",
    ")\n",
    "\n",
    "dataloader = DataLoader(bits_dataset, batch_size=1000, shuffle=True)\n",
    "\n",
    "print(bits_dataset.data.size())\n",
    "\n",
    "mi_estimator = GeneralSmileMIEstimator(\n",
    "    x_dim=2,\n",
    "    y_dim=6,\n",
    "    critic_output_size=8,\n",
    "    x_critics_hidden_sizes=[256,512, 512, 256],\n",
    "    y_critics_hidden_sizes=[256,512, 512, 256],\n",
    "    clip=5,\n",
    "    include_bias=True,\n",
    ").to('cuda')\n",
    "\n",
    "optim = torch.optim.Adam(mi_estimator.parameters(), lr=1e-3)\n",
    "\n",
    "\n"
   ]
  },
  {
   "cell_type": "code",
   "execution_count": 11,
   "metadata": {},
   "outputs": [
    {
     "name": "stderr",
     "output_type": "stream",
     "text": [
      "/tmp/ipykernel_249498/140010242.py:32: FutureWarning: You are using `torch.load` with `weights_only=False` (the current default value), which uses the default pickle module implicitly. It is possible to construct malicious pickle data which will execute arbitrary code during unpickling (See https://github.com/pytorch/pytorch/blob/main/SECURITY.md#untrusted-models for more details). In a future release, the default value for `weights_only` will be flipped to `True`. This limits the functions that could be executed during unpickling. Arbitrary objects will no longer be allowed to be loaded via this mode unless they are explicitly allowlisted by the user via `torch.serialization.add_safe_globals`. We recommend you start setting `weights_only=True` for any use case where you don't have full control of the loaded file. Please open an issue on GitHub for any issues related to this experimental feature.\n",
      "  model.load_state_dict(torch.load(model_path, map_location='cuda'))\n",
      "/tmp/ipykernel_249498/140010242.py:40: UserWarning: To copy construct from a tensor, it is recommended to use sourceTensor.clone().detach() or sourceTensor.clone().detach().requires_grad_(True), rather than torch.tensor(sourceTensor).\n",
      "  input_batch = torch.tensor(input_batch, dtype=torch.float32).to('cuda')\n"
     ]
    },
    {
     "name": "stdout",
     "output_type": "stream",
     "text": [
      "MI: 1.802267074584961\n",
      "MI: 1.8062381744384766\n",
      "MI: 1.8205976486206055\n",
      "MI: 1.8456114530563354\n",
      "MI: 1.8380610942840576\n"
     ]
    }
   ],
   "source": [
    "for seed in range(7,12):\n",
    "    for epoch in range(6):\n",
    "        for batch in dataloader:\n",
    "            torch.manual_seed(seed)\n",
    "            x_t = batch[:, 0].to(device).float()\n",
    "            x_t_plus_1 = batch[:, 1].to(device).float()\n",
    "\n",
    "            x_t_rep1 = get_RNN_hiden_state_rep(x_t).detach().to('cuda').squeeze(0)\n",
    "            x_t_rep2 = model(x_t).detach().to('cuda').squeeze(0)\n",
    "\n",
    "            # x_t_rep1 = x_t[:, :5].sum(dim=1) % 2\n",
    "            # x_t_rep2 = x_t[:, -1]\n",
    "\n",
    "            rep = torch.cat([x_t_rep1.unsqueeze(1), x_t_rep2.unsqueeze(1)], dim=1).squeeze(-1)\n",
    "            optim.zero_grad()\n",
    "\n",
    "            MI = mi_estimator(rep, x_t_plus_1).to('cuda')\n",
    "\n",
    "            loss = - MI\n",
    "\n",
    "            loss.backward()\n",
    "            optim.step()\n",
    "\n",
    "    print(\"MI:\", MI.item())\n"
   ]
  },
  {
   "cell_type": "code",
   "execution_count": null,
   "metadata": {},
   "outputs": [],
   "source": []
  },
  {
   "cell_type": "code",
   "execution_count": null,
   "metadata": {},
   "outputs": [],
   "source": []
  },
  {
   "cell_type": "code",
   "execution_count": null,
   "metadata": {},
   "outputs": [],
   "source": []
  }
 ],
 "metadata": {
  "kernelspec": {
   "display_name": "venv",
   "language": "python",
   "name": "python3"
  },
  "language_info": {
   "codemirror_mode": {
    "name": "ipython",
    "version": 3
   },
   "file_extension": ".py",
   "mimetype": "text/x-python",
   "name": "python",
   "nbconvert_exporter": "python",
   "pygments_lexer": "ipython3",
   "version": "3.8.10"
  }
 },
 "nbformat": 4,
 "nbformat_minor": 2
}
