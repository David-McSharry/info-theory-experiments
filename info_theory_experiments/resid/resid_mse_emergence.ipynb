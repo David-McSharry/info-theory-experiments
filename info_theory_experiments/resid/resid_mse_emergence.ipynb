{
 "cells": [
  {
   "cell_type": "code",
   "execution_count": 4,
   "metadata": {},
   "outputs": [
    {
     "name": "stdout",
     "output_type": "stream",
     "text": [
      "Current working directory set to: /vol/bitbucket/dm2223/info-theory-experiments\n"
     ]
    }
   ],
   "source": [
    "import os\n",
    "import sys\n",
    "\n",
    "\n",
    "def setup_project_root(start_path='.'):\n",
    "    \"\"\"Find the project root, set it as the current working directory, and add it to sys.path.\"\"\"\n",
    "    current_path = os.path.abspath(start_path)\n",
    "    while True:\n",
    "        if '.git' in os.listdir(current_path):\n",
    "            project_root = current_path\n",
    "            break\n",
    "        parent_path = os.path.dirname(current_path)\n",
    "        if parent_path == current_path:  # We've reached the root directory\n",
    "            raise Exception(\"Could not find project root (.git directory not found)\")\n",
    "        current_path = parent_path\n",
    "    \n",
    "    # Change the current working directory to the project root\n",
    "    os.chdir(project_root)\n",
    "    print(f\"Current working directory set to: {os.getcwd()}\")\n",
    "\n",
    "    # Add project root to sys.path if it's not already there\n",
    "    if project_root not in sys.path:\n",
    "        sys.path.insert(0, project_root)\n",
    "        print(f\"Added {project_root} to sys.path\")\n",
    "\n",
    "# sets the current working directory to the project root\n",
    "setup_project_root()\n",
    "\n",
    "# Don't cache imports\n",
    "%load_ext autoreload\n",
    "%autoreload 2\n"
   ]
  },
  {
   "cell_type": "code",
   "execution_count": 18,
   "metadata": {},
   "outputs": [
    {
     "name": "stderr",
     "output_type": "stream",
     "text": [
      "/vol/bitbucket/dm2223/info-theory-experiments/info_theory_experiments/custom_datasets.py:190: FutureWarning: You are using `torch.load` with `weights_only=False` (the current default value), which uses the default pickle module implicitly. It is possible to construct malicious pickle data which will execute arbitrary code during unpickling (See https://github.com/pytorch/pytorch/blob/main/SECURITY.md#untrusted-models for more details). In a future release, the default value for `weights_only` will be flipped to `True`. This limits the functions that could be executed during unpickling. Arbitrary objects will no longer be allowed to be loaded via this mode unless they are explicitly allowlisted by the user via `torch.serialization.add_safe_globals`. We recommend you start setting `weights_only=True` for any use case where you don't have full control of the loaded file. Please open an issue on GitHub for any issues related to this experimental feature.\n",
      "  data = torch.load(f\"activations2/downstrea_between_1_2/econ_resid_actications_text{i}.pt\")\n"
     ]
    },
    {
     "name": "stdout",
     "output_type": "stream",
     "text": [
      "Epoch [1/50], Decoder Loss: 0.9999, Encoder Loss: -0.9997, MI: 0.0000\n",
      "Epoch [2/50], Decoder Loss: 1.0000, Encoder Loss: -0.9999, MI: -0.0000\n",
      "Epoch [3/50], Decoder Loss: 1.0004, Encoder Loss: -1.0022, MI: 0.1083\n",
      "Epoch [4/50], Decoder Loss: 0.9834, Encoder Loss: -1.0404, MI: 0.8565\n",
      "Epoch [5/50], Decoder Loss: 0.9872, Encoder Loss: -1.0832, MI: 0.0790\n",
      "Epoch [6/50], Decoder Loss: 0.9855, Encoder Loss: -1.1210, MI: 1.8183\n",
      "Epoch [7/50], Decoder Loss: 0.9840, Encoder Loss: -1.1792, MI: 1.9174\n",
      "Epoch [8/50], Decoder Loss: 0.9801, Encoder Loss: -1.1968, MI: 1.2285\n",
      "Epoch [9/50], Decoder Loss: 0.9834, Encoder Loss: -1.1715, MI: 2.1319\n",
      "Epoch [10/50], Decoder Loss: 0.9860, Encoder Loss: -1.1917, MI: 2.0588\n",
      "Epoch [11/50], Decoder Loss: 0.9843, Encoder Loss: -1.2232, MI: 2.4428\n",
      "Epoch [12/50], Decoder Loss: 0.9853, Encoder Loss: -1.2322, MI: 2.8083\n",
      "Epoch [13/50], Decoder Loss: 0.9870, Encoder Loss: -1.2295, MI: 2.7699\n",
      "Epoch [14/50], Decoder Loss: 0.9848, Encoder Loss: -1.2491, MI: 4.8115\n",
      "Epoch [15/50], Decoder Loss: 0.9872, Encoder Loss: -1.2329, MI: 2.6298\n",
      "Epoch [16/50], Decoder Loss: 0.9860, Encoder Loss: -1.2480, MI: 2.8464\n",
      "Epoch [17/50], Decoder Loss: 0.9844, Encoder Loss: -1.2709, MI: 2.6744\n",
      "Epoch [18/50], Decoder Loss: 0.9896, Encoder Loss: -1.2625, MI: 2.5385\n",
      "Epoch [19/50], Decoder Loss: 0.9878, Encoder Loss: -1.2882, MI: 1.3917\n",
      "Epoch [20/50], Decoder Loss: 0.9907, Encoder Loss: -1.2034, MI: 2.5654\n",
      "Epoch [21/50], Decoder Loss: 0.9890, Encoder Loss: -1.2573, MI: 3.2676\n",
      "Epoch [22/50], Decoder Loss: 0.9877, Encoder Loss: -1.2674, MI: 2.0712\n",
      "Epoch [23/50], Decoder Loss: 0.9896, Encoder Loss: -1.2487, MI: 2.7118\n",
      "Epoch [24/50], Decoder Loss: 0.9890, Encoder Loss: -1.2745, MI: 2.7979\n",
      "Epoch [25/50], Decoder Loss: 0.9881, Encoder Loss: -1.2680, MI: 2.9596\n",
      "Epoch [26/50], Decoder Loss: 0.9913, Encoder Loss: -1.2792, MI: 2.4960\n",
      "Epoch [27/50], Decoder Loss: 0.9908, Encoder Loss: -1.2686, MI: 2.6374\n",
      "Epoch [28/50], Decoder Loss: 0.9908, Encoder Loss: -1.2884, MI: 2.6585\n",
      "Epoch [29/50], Decoder Loss: 0.9881, Encoder Loss: -1.2875, MI: 3.2917\n",
      "Epoch [30/50], Decoder Loss: 0.9882, Encoder Loss: -1.2873, MI: 3.4874\n",
      "Epoch [31/50], Decoder Loss: 0.9866, Encoder Loss: -1.2952, MI: 3.0732\n",
      "Epoch [32/50], Decoder Loss: 0.9886, Encoder Loss: -1.2963, MI: 2.5874\n",
      "Epoch [33/50], Decoder Loss: 0.9880, Encoder Loss: -1.3185, MI: 2.4109\n",
      "Epoch [34/50], Decoder Loss: 0.9902, Encoder Loss: -1.3111, MI: 1.6305\n",
      "Epoch [35/50], Decoder Loss: 0.9901, Encoder Loss: -1.2985, MI: 3.3438\n",
      "Epoch [36/50], Decoder Loss: 0.9911, Encoder Loss: -1.3115, MI: 2.6246\n",
      "Epoch [37/50], Decoder Loss: 0.9915, Encoder Loss: -1.3241, MI: 3.6092\n",
      "Epoch [38/50], Decoder Loss: 0.9914, Encoder Loss: -1.3198, MI: 3.7779\n",
      "Epoch [39/50], Decoder Loss: 0.9910, Encoder Loss: -1.3202, MI: 3.7023\n",
      "Epoch [40/50], Decoder Loss: 0.9912, Encoder Loss: -1.3309, MI: 5.3608\n",
      "Epoch [41/50], Decoder Loss: 0.9929, Encoder Loss: -1.2988, MI: 3.0535\n",
      "Epoch [42/50], Decoder Loss: 0.9929, Encoder Loss: -1.3161, MI: 3.0248\n",
      "Epoch [43/50], Decoder Loss: 0.9914, Encoder Loss: -1.3375, MI: 3.2287\n",
      "Epoch [44/50], Decoder Loss: 0.9910, Encoder Loss: -1.3375, MI: 3.2059\n",
      "Epoch [45/50], Decoder Loss: 0.9918, Encoder Loss: -1.3373, MI: 3.6154\n",
      "Epoch [46/50], Decoder Loss: 0.9917, Encoder Loss: -1.3290, MI: 3.7276\n",
      "Epoch [47/50], Decoder Loss: 0.9913, Encoder Loss: -1.3458, MI: 2.6072\n",
      "Epoch [48/50], Decoder Loss: 0.9913, Encoder Loss: -1.3340, MI: 3.2681\n",
      "Epoch [49/50], Decoder Loss: 0.9928, Encoder Loss: -1.3553, MI: 3.7962\n",
      "Epoch [50/50], Decoder Loss: 0.9930, Encoder Loss: -1.3453, MI: 3.3925\n"
     ]
    }
   ],
   "source": [
    "import torch\n",
    "import torch.nn as nn\n",
    "import torch.optim as optim\n",
    "import matplotlib.pyplot as plt\n",
    "from info_theory_experiments.custom_datasets import ResidualStreamDatasetAlongResidStremDirection_1_to_2\n",
    "from info_theory_experiments.models import GeneralSmileMIEstimator\n",
    "\n",
    "class MLPEncoder(nn.Module):\n",
    "    def __init__(self, input_dim=128, latent_dim=1):\n",
    "        super(MLPEncoder, self).__init__()\n",
    "        self.latent_dim = latent_dim\n",
    "        self.encoder = nn.Sequential(\n",
    "            nn.Linear(input_dim, 512),\n",
    "            nn.ReLU(),\n",
    "            nn.Linear(512, 1024),\n",
    "            nn.ReLU(),\n",
    "            nn.Linear(1024, 2048),\n",
    "            nn.ReLU(),\n",
    "            nn.Linear(2048, 1024),\n",
    "            nn.ReLU(),\n",
    "            nn.Linear(1024, 512),\n",
    "            nn.ReLU(),\n",
    "            nn.Linear(512, 256),\n",
    "            nn.ReLU(),\n",
    "            nn.Linear(256, latent_dim)\n",
    "        )\n",
    "\n",
    "    def forward(self, x):\n",
    "        return self.encoder(x)\n",
    "\n",
    "class MLPDecoder(nn.Module):\n",
    "    def __init__(self, latent_dim=1, output_dim=128):\n",
    "        super(MLPDecoder, self).__init__()\n",
    "        self.latent_dim = latent_dim\n",
    "        self.decoder = nn.Sequential(\n",
    "            nn.Linear(latent_dim, 256),\n",
    "            nn.ReLU(),\n",
    "            nn.Linear(256, 512),\n",
    "            nn.ReLU(),\n",
    "            nn.Linear(512, 1024),\n",
    "            nn.ReLU(),\n",
    "            nn.Linear(1024, 2048),\n",
    "            nn.ReLU(),\n",
    "            nn.Linear(2048, 1024),\n",
    "            nn.ReLU(),\n",
    "            nn.Linear(1024, 512),\n",
    "            nn.ReLU(),\n",
    "            nn.Linear(512, output_dim)\n",
    "        )\n",
    "\n",
    "    def forward(self, x):\n",
    "        return self.decoder(x)\n",
    "\n",
    "# Set device\n",
    "device = torch.device(\"cuda\" if torch.cuda.is_available() else \"cpu\")\n",
    "\n",
    "train_dataset = ResidualStreamDatasetAlongResidStremDirection_1_to_2()\n",
    "\n",
    "train_loader = torch.utils.data.DataLoader(train_dataset, batch_size=128, shuffle=True)\n",
    "\n",
    "# Initialize the models, loss function, and optimizers\n",
    "encoder = MLPEncoder().to(device)\n",
    "decoder = MLPDecoder().to(device)\n",
    "mse_loss = nn.MSELoss()\n",
    "optimizer_encoder = optim.Adam(encoder.parameters(), lr=1e-4)\n",
    "optimizer_decoder = optim.Adam(decoder.parameters(), lr=1e-3)\n",
    "\n",
    "decoupled_estimator = GeneralSmileMIEstimator(\n",
    "    x_dim=1,\n",
    "    y_dim=1,\n",
    "    critic_output_size=32,\n",
    "    x_critics_hidden_sizes=[256, 256],\n",
    "    y_critics_hidden_sizes=[256, 256],\n",
    "    clip=5,\n",
    "    include_bias=True,\n",
    ").to(device)\n",
    "\n",
    "decoupled_optimizer = optim.Adam(decoupled_estimator.parameters(), lr=1e-3)\n",
    "\n",
    "# Training loop\n",
    "num_epochs = 50\n",
    "for epoch in range(num_epochs):\n",
    "    total_decoder_loss = 0\n",
    "    total_encoder_loss = 0\n",
    "    for batch_idx, data in enumerate(train_loader):\n",
    "        data0 = data[:, 0].to(device)\n",
    "        data1 = data[:, 1].to(device)\n",
    "\n",
    "        # Forward pass\n",
    "        data1_pred = decoder(encoder(data0))\n",
    "\n",
    "        # Decoder loss (minimize MSE)\n",
    "        decoder_loss = mse_loss(data1_pred, data1)\n",
    "\n",
    "        # Update decoder\n",
    "        if batch_idx % 1 == 0:\n",
    "            optimizer_decoder.zero_grad()\n",
    "            decoder_loss.backward()\n",
    "            optimizer_decoder.step()\n",
    "\n",
    "        # update decoupled estimator\n",
    "        decoupled_optimizer.zero_grad()\n",
    "        v0 = encoder(data0)\n",
    "        v1 = encoder(data1)\n",
    "        mi = decoupled_estimator(v0, v1)\n",
    "        decoupled_loss = -mi # maximize MI\n",
    "        decoupled_loss.backward()\n",
    "        decoupled_optimizer.step()\n",
    "\n",
    "        # Recompute the forward pass for encoder loss\n",
    "        if batch_idx % 1 == 0:\n",
    "            optimizer_encoder.zero_grad()\n",
    "            data1_pred = decoder(encoder(data0))\n",
    "            v0 = encoder(data0)\n",
    "            v1 = encoder(data1)\n",
    "            mi = decoupled_estimator(v0, v1)\n",
    "            encoder_loss = - 0.1 * mi - mse_loss(data1_pred, data1)\n",
    "            # Update encoder\n",
    "            optimizer_encoder.zero_grad()\n",
    "            encoder_loss.backward()\n",
    "            optimizer_encoder.step()\n",
    "        \n",
    "        total_decoder_loss += decoder_loss.item()\n",
    "        total_encoder_loss += encoder_loss.item()\n",
    "    \n",
    "    # Print epoch statistics\n",
    "    avg_decoder_loss = total_decoder_loss / len(train_loader)\n",
    "    avg_encoder_loss = total_encoder_loss / len(train_loader)\n",
    "    print(f'Epoch [{epoch+1}/{num_epochs}], Decoder Loss: {avg_decoder_loss:.4f}, Encoder Loss: {avg_encoder_loss:.4f}, MI: {mi.item():.4f}')"
   ]
  },
  {
   "cell_type": "code",
   "execution_count": 16,
   "metadata": {},
   "outputs": [
    {
     "name": "stdout",
     "output_type": "stream",
     "text": [
      "Epoch [1/10], Average Loss: 0.9968\n",
      "Epoch [2/10], Average Loss: 0.9937\n",
      "Epoch [3/10], Average Loss: 0.9926\n",
      "Epoch [4/10], Average Loss: 0.9901\n",
      "Epoch [5/10], Average Loss: 0.9882\n",
      "Epoch [6/10], Average Loss: 0.9854\n",
      "Epoch [7/10], Average Loss: 0.9834\n",
      "Epoch [8/10], Average Loss: 0.9820\n",
      "Epoch [9/10], Average Loss: 0.9824\n",
      "Epoch [10/10], Average Loss: 0.9806\n",
      "Decoder training completed.\n",
      "Test Loss: 0.9836\n"
     ]
    }
   ],
   "source": [
    "# Train decoder with MSE loss using the trained encoder\n",
    "\n",
    "# Freeze encoder parameters\n",
    "for param in encoder.parameters():\n",
    "    param.requires_grad = False\n",
    "\n",
    "# Initialize decoder (using the MLPDecoder class from the notebook)\n",
    "decoder = MLPDecoder(latent_dim=encoder.latent_dim, output_dim=128).to(device)\n",
    "\n",
    "# Define optimizer for decoder\n",
    "optimizer_decoder = optim.Adam(decoder.parameters(), lr=1e-3)\n",
    "\n",
    "# Define loss function\n",
    "mse_loss = nn.MSELoss()\n",
    "\n",
    "num_epochs = 10  # Adjust as needed\n",
    "for epoch in range(num_epochs):\n",
    "    total_loss = 0\n",
    "    for batch_idx, data in enumerate(train_loader):\n",
    "        data0 = data[:, 0].to(device)\n",
    "        data1 = data[:, 1].to(device)\n",
    "\n",
    "        # Forward pass\n",
    "        with torch.no_grad():\n",
    "            encoded = encoder(data0)\n",
    "        decoded = decoder(encoded)\n",
    "\n",
    "        # Compute loss\n",
    "        loss = mse_loss(decoded, data1)\n",
    "\n",
    "        # Backward pass and optimize\n",
    "        optimizer_decoder.zero_grad()\n",
    "        loss.backward()\n",
    "        optimizer_decoder.step()\n",
    "\n",
    "        total_loss += loss.item()\n",
    "\n",
    "    # Print epoch statistics\n",
    "    avg_loss = total_loss / len(train_loader)\n",
    "    print(f'Epoch [{epoch+1}/{num_epochs}], Average Loss: {avg_loss:.4f}')\n",
    "\n",
    "# Unfreeze encoder parameters (if needed for future use)\n",
    "for param in encoder.parameters():\n",
    "    param.requires_grad = True\n",
    "\n",
    "print(\"Decoder training completed.\")\n",
    "\n",
    "# Optionally, you can evaluate the model here\n",
    "# For example:\n",
    "encoder.eval()\n",
    "decoder.eval()\n",
    "with torch.no_grad():\n",
    "    test_data = next(iter(train_loader))\n",
    "    test_input = test_data[:, 0].to(device)\n",
    "    test_target = test_data[:, 1].to(device)\n",
    "    encoded = encoder(test_input)\n",
    "    reconstructed = decoder(encoded)\n",
    "    test_loss = mse_loss(reconstructed, test_target)\n",
    "    print(f\"Test Loss: {test_loss.item():.4f}\")\n",
    "\n"
   ]
  },
  {
   "cell_type": "code",
   "execution_count": null,
   "metadata": {},
   "outputs": [],
   "source": []
  },
  {
   "cell_type": "code",
   "execution_count": null,
   "metadata": {},
   "outputs": [],
   "source": []
  },
  {
   "cell_type": "code",
   "execution_count": 20,
   "metadata": {},
   "outputs": [
    {
     "data": {
      "text/html": [
       "Finishing last run (ID:y9j3h0rl) before initializing another..."
      ],
      "text/plain": [
       "<IPython.core.display.HTML object>"
      ]
     },
     "metadata": {},
     "output_type": "display_data"
    },
    {
     "data": {
      "text/html": [
       " View run <strong style=\"color:#cdcd00\">breezy-bee-2</strong> at: <a href='https://wandb.ai/dmcsharry/resid_directoin_1_2-min-mse-max-mi-verification/runs/y9j3h0rl' target=\"_blank\">https://wandb.ai/dmcsharry/resid_directoin_1_2-min-mse-max-mi-verification/runs/y9j3h0rl</a><br/> View project at: <a href='https://wandb.ai/dmcsharry/resid_directoin_1_2-min-mse-max-mi-verification' target=\"_blank\">https://wandb.ai/dmcsharry/resid_directoin_1_2-min-mse-max-mi-verification</a><br/>Synced 3 W&B file(s), 0 media file(s), 0 artifact file(s) and 0 other file(s)"
      ],
      "text/plain": [
       "<IPython.core.display.HTML object>"
      ]
     },
     "metadata": {},
     "output_type": "display_data"
    },
    {
     "data": {
      "text/html": [
       "Find logs at: <code>./wandb/run-20240827_000014-y9j3h0rl/logs</code>"
      ],
      "text/plain": [
       "<IPython.core.display.HTML object>"
      ]
     },
     "metadata": {},
     "output_type": "display_data"
    },
    {
     "data": {
      "text/html": [
       "The new W&B backend becomes opt-out in version 0.18.0; try it out with `wandb.require(\"core\")`! See https://wandb.me/wandb-core for more information."
      ],
      "text/plain": [
       "<IPython.core.display.HTML object>"
      ]
     },
     "metadata": {},
     "output_type": "display_data"
    },
    {
     "data": {
      "text/html": [
       "Successfully finished last run (ID:y9j3h0rl). Initializing new run:<br/>"
      ],
      "text/plain": [
       "<IPython.core.display.HTML object>"
      ]
     },
     "metadata": {},
     "output_type": "display_data"
    },
    {
     "data": {
      "text/html": [
       "wandb version 0.17.7 is available!  To upgrade, please run:\n",
       " $ pip install wandb --upgrade"
      ],
      "text/plain": [
       "<IPython.core.display.HTML object>"
      ]
     },
     "metadata": {},
     "output_type": "display_data"
    },
    {
     "data": {
      "text/html": [
       "Tracking run with wandb version 0.17.5"
      ],
      "text/plain": [
       "<IPython.core.display.HTML object>"
      ]
     },
     "metadata": {},
     "output_type": "display_data"
    },
    {
     "data": {
      "text/html": [
       "Run data is saved locally in <code>/vol/bitbucket/dm2223/info-theory-experiments/wandb/run-20240827_000042-3wtg32zl</code>"
      ],
      "text/plain": [
       "<IPython.core.display.HTML object>"
      ]
     },
     "metadata": {},
     "output_type": "display_data"
    },
    {
     "data": {
      "text/html": [
       "Syncing run <strong><a href='https://wandb.ai/dmcsharry/resid_directoin_1_2-min-mse-max-mi-verification/runs/3wtg32zl' target=\"_blank\">super-wind-3</a></strong> to <a href='https://wandb.ai/dmcsharry/resid_directoin_1_2-min-mse-max-mi-verification' target=\"_blank\">Weights & Biases</a> (<a href='https://wandb.me/run' target=\"_blank\">docs</a>)<br/>"
      ],
      "text/plain": [
       "<IPython.core.display.HTML object>"
      ]
     },
     "metadata": {},
     "output_type": "display_data"
    },
    {
     "data": {
      "text/html": [
       " View project at <a href='https://wandb.ai/dmcsharry/resid_directoin_1_2-min-mse-max-mi-verification' target=\"_blank\">https://wandb.ai/dmcsharry/resid_directoin_1_2-min-mse-max-mi-verification</a>"
      ],
      "text/plain": [
       "<IPython.core.display.HTML object>"
      ]
     },
     "metadata": {},
     "output_type": "display_data"
    },
    {
     "data": {
      "text/html": [
       " View run at <a href='https://wandb.ai/dmcsharry/resid_directoin_1_2-min-mse-max-mi-verification/runs/3wtg32zl' target=\"_blank\">https://wandb.ai/dmcsharry/resid_directoin_1_2-min-mse-max-mi-verification/runs/3wtg32zl</a>"
      ],
      "text/plain": [
       "<IPython.core.display.HTML object>"
      ]
     },
     "metadata": {},
     "output_type": "display_data"
    },
    {
     "name": "stderr",
     "output_type": "stream",
     "text": [
      "Training: 100%|██████████| 2/2 [01:04<00:00, 32.08s/it]\n"
     ]
    },
    {
     "data": {
      "text/html": [
       "<style>\n",
       "    table.wandb td:nth-child(1) { padding: 0 10px; text-align: left ; width: auto;} td:nth-child(2) {text-align: left ; width: 100%}\n",
       "    .wandb-row { display: flex; flex-direction: row; flex-wrap: wrap; justify-content: flex-start; width: 100% }\n",
       "    .wandb-col { display: flex; flex-direction: column; flex-basis: 100%; flex: 1; padding: 10px; }\n",
       "    </style>\n",
       "<div class=\"wandb-row\"><div class=\"wandb-col\"><h3>Run history:</h3><br/><table class=\"wandb\"><tr><td>Psi</td><td>█▇▇▇▆▆▆▆▇▆▇▇▇▇▇▇▇▅▇▆▆▆▄▇▄▅▆▆█▅▆▇▇▆▅▅▁▃▅▄</td></tr><tr><td>decoupled_MI</td><td>▁▂▂▃▃▃▂▃▄▄▄▅▅▆▅▅▅▅▆▆▇▆▃▅▄▄▆▆▆▆▆▇▇▇█▆▃▅▅▆</td></tr><tr><td>downward_MI_0</td><td>▆▅▅▅▇▇▇▄▆▇▆▆▁▅▅▅▅▅▅▆▆▆▆▅█▅▆▇▅▆▆█▆▆▇▇▇▆▆▆</td></tr><tr><td>downward_MI_1</td><td>▄▄▄▄▄▄▄▄▄▄▄▄▄▄▄▄▅▄▄▄▄▅▃▃▁▄▅█▃▅▆▃▇▆▆▆▅▅▅▄</td></tr><tr><td>downward_MI_10</td><td>▄▄▅▅▄▄▄▄▄▄▄▄▅▄▅▇▅▅▄▅▄▅▅▆▅▅▆▄▄▇▄▄▆▁▆▆▆▆▅█</td></tr><tr><td>downward_MI_100</td><td>▅▄▄▄▅▅▄▃▄▄▅▅▄▄▄▄▄▅▅▃▅▅▆▅█▆▅▆▃▇▅▄█▆▆█▄▅▆▁</td></tr><tr><td>downward_MI_101</td><td>▃▃▃▃▅▂▅▆▅▄▄▃▃▄▂▅▄▅▄▆▂▃▇▃▄▄▁▃▄▃▇▃▄▂▆▄█▆▂▄</td></tr><tr><td>downward_MI_102</td><td>▄▄▄▄▄▇▆▄▄▅▂▅▄▅▃▄▄▄▆▃▅▅▅▂▄▄▆▅▄▆▅▇▁█▆▅▆▆▅▆</td></tr><tr><td>downward_MI_103</td><td>▃▃▄▆▃▄▄▅█▄▄▃▃▂▄▄▅▄▅▃▄▄▄▇▄▆▄▄▆▃▄▂▃▄▅█▅▅▅▁</td></tr><tr><td>downward_MI_104</td><td>▃▃▄▃▅▅▃▃▄▄▅▅▃▅▄▅▅▁▂▅▆▃▄▂▄▄█▅▃▅▄▄▃▃▇▅▅▅▆▆</td></tr><tr><td>downward_MI_105</td><td>▄▄▅▁▄▄▄▄▅▄▄▄▄▄▄▄▄█▅▅▆▃▅▄▄▅▄▄▄▅▅▄▃▆▃▄▆▃▅█</td></tr><tr><td>downward_MI_106</td><td>▃▄▃▄▃▂▅▄▆▁▄▃▅▄▃▄▄▆▄▅█▃▃▃▄▆▅▃▂▅▅▃▄▅▄▅▂▆▃▅</td></tr><tr><td>downward_MI_107</td><td>▇▆▇▇▇▇▇▆▇▆▆▇▇▇▇▇▇▇▇▇▁▇▇▇███▇▇▇▇██▇▇▇█▇█▇</td></tr><tr><td>downward_MI_108</td><td>▄▄▄▄▄▄▄▄▄▄▄▄▄▄▄▄▃▄▅▅▁▄▄▄▄▄▅▄▄▄▄▃▅▄▅▅▅▅▅█</td></tr><tr><td>downward_MI_109</td><td>▂▂▂▂▂▃▄▁▃▂▃▂▃▅▂▃▃▂▃▃▄▄▃▃▄▄▂▂▂▄▃▂▃▁▃▆▆█▃▃</td></tr><tr><td>downward_MI_11</td><td>▄▃▃▄▂▃▄▄▃▃▄▁▃▃▃▃▃▅▄▃▄▄▄▄▃▄▄█▄▆▃▄▃▄▆▆▄▅▇▃</td></tr><tr><td>downward_MI_110</td><td>▃▂▂▃▄▁▃▃▄▅▅▄▅▄▄▆▃▄▇▆▆█▄▄▇▇▁▅▂▅█▂▅▅▇▄▆▆▄▄</td></tr><tr><td>downward_MI_111</td><td>▂▃▂▂▂▃▄▃▃▂▃▂▅▂▃▆▄▄▅▄▅▆▃▂▄▁▃▅▁█▄▃▄▃▅▅▅▄▃▃</td></tr><tr><td>downward_MI_112</td><td>▅▅▅▅▅▄▅▆▅▁▅▅▅▅▄▆▆█▆▅▅▆▁▆▅▄▅█▁▅▄▅▅▆█▆▅▆▇▃</td></tr><tr><td>downward_MI_113</td><td>▅▅▅▆▆▅▆▆▆▆▅▄▆▆▇▇▆▆▂▇▅▆▅▅▂▆█▁▅▆▆█▇▄▆▇▇▇▆▇</td></tr><tr><td>downward_MI_114</td><td>▄▄▄▅▅▅▄▄▂▅▄▄▄▄▄▄▄▄▃▂▄▅▅▄▅▄▆▂▄▆▂▅▄▇▁▅▇█▅▆</td></tr><tr><td>downward_MI_115</td><td>▃▃▃▄▅▄▄▄▃▄▆▄▁▃▅▅▅▄▃▅█▇▄▅▆▄▄▄▅▅▄▄▄▄▅▅▅▆▆▂</td></tr><tr><td>downward_MI_116</td><td>▃▄▄▄▄▄▄▄▃▄▆▄▄▄▄▄▆▄▂▃▅▂▆▇▅▂▅▆▂▃▅▅▄▇█▄▄▇▆▁</td></tr><tr><td>downward_MI_117</td><td>▃▄▃▃▃▆▃▅▃▅▃▃▂▂▃▄█▇▄▃▃█▁▄▅█▂▃▃▂▄▄▇▃▆▃▃▃▃▄</td></tr><tr><td>downward_MI_118</td><td>▄▅▅▄▄▅▅▅▅█▆▅▅▆█▅▇▆▄▇█▁▇▆▇▆▆▅▆▇▆█▄▆█▇▅▆▇▅</td></tr><tr><td>downward_MI_119</td><td>▄▅▆▅▅▆▄▆▄▆▆▅▅█▁▆▅█▅▅▅▅▇▄▅▅▆▆▇▇▃▅▅▇▆▇▆▄▇▆</td></tr><tr><td>downward_MI_12</td><td>▃▃▃▅▄▅▃▃▅▃▆▄▄▂▄▅▄▅▃▃█▃▅▃▅▅▃▃▃▅▂▄▃▂▄▂▆█▅▁</td></tr><tr><td>downward_MI_120</td><td>▂▂▂▃▂▄▃▂▃▁▄▄▂▅▃▃▃▁▃▄▆▂▃▃▃▄▄▃▃▃▂▃▄▃▄▄▄█▁▂</td></tr><tr><td>downward_MI_121</td><td>▄▄▃▅▄▃▄▄▄▇▂▅▄▃▄▄▃▄▃▅▄▇▅▅▇█▅▅▅▆▇█▁▆▆▆▅▅▇▅</td></tr><tr><td>downward_MI_122</td><td>▅▁▅▅▅▅▄▅▆▆▃▅▅▆▆▃▅▇▇▃▆▅▇▇█▄▆▅▆▅▅▂▄█▇▆▇▇█▆</td></tr><tr><td>downward_MI_123</td><td>▅▅▅▅▅▁▅▅▅▅▅▅▅▅▆▅▆▅▅▆▅▅▅▅▅▅▅▅▅▅▅▆▅▅▅▆▅▆▆█</td></tr><tr><td>downward_MI_124</td><td>▃▃▄▂▄▃▄▂▄▄▄▂▄▅▅▃▂▄▆▆▂▅▆▄▅▁▃▂▄▇▄▃▇▅█▄▇▄▅▄</td></tr><tr><td>downward_MI_125</td><td>▃▅▃▅▄▅▅▅▄▄▁▃▄▅▄▄▄▅▅▁▅▄▆▆▆▇▄▂▄▃▅▄▄█▇▄▆▅▃▆</td></tr><tr><td>downward_MI_126</td><td>▆▆▆▆▆▆▆▇▇▇▆▇▆▆▆▆▇▇▆▆▆▆▇▇▆█▇▆▆▆▆▆▇▇▇▁▇▆▆▅</td></tr><tr><td>downward_MI_127</td><td>▄▄▄▄▄▄▆▅▂▄▄▆▆▅▅▆▅▅▇█▅█▆▆▇▆▇▆▅▃▅▁▃▄▅▇▆█▅▄</td></tr><tr><td>downward_MI_13</td><td>▄▃▃▃▃▄▅▅▄▆█▅▄▄▃▄▂▅▄▃▅▅▆▄▁▂▅▅▄▅▄▁▃▃▅▄▆▅▂▂</td></tr><tr><td>downward_MI_14</td><td>▂▂▂▂▂▂▂▃▃▁▃▂▂▁▂▂▂▃▃▁▂▂▂▃▂▂▃▄▁▂▂▄▃█▂▄▁▂▂▄</td></tr><tr><td>downward_MI_15</td><td>▄▅▄▄▅▃▄▄▄▅▅▆▄▆▂▅▄▅▄▅▆▇▄▆▅▅▄▅▅▅▅▁▄▄▅▆██▅▃</td></tr><tr><td>downward_MI_16</td><td>▃▃▃▃▃▅▄▅▃▄▃▆▆▄▅▅▅▇▃▄▅▂▄▄▃▄▄▆▄▁▄█▆▂▅▅▆▆▄▄</td></tr><tr><td>downward_MI_17</td><td>▄▂▄▄▄▄▅▆▇▁▆▇█▄▅▅▆▇▅▅▂▅▄▆▅▄▄▅▆▄▇▅▆▃▆▁▅▅▆▃</td></tr><tr><td>downward_MI_18</td><td>▄▄▃▅▇▅▅▅▆▅▂▄▅▄▆▆▄▆▁▆█▅▆▆▆▇▆▅▅▆▅▃▆▇▇▆▇█▆▄</td></tr><tr><td>downward_MI_19</td><td>▁▁▂▂▂▂▁▃▂▂▃▃▃▂▃▃▃▄▂▃▄▄▂▄▃▄▃▁▃▄▄▂▂▄▄▃▇█▂▁</td></tr><tr><td>downward_MI_2</td><td>▅▅▅▄▄▅▅▅▅▇▆▅▄▅▅▆▅▅▅▅▅▆▆▃▅▅▄█▄▅▅▅▅▅▅▆▅▆▅▁</td></tr><tr><td>downward_MI_20</td><td>▃▅▄▃▅▄▄▅▅▄▄▅▄▄▄▄▄▄▄▇▄▄▄▄▅▁▄▅▄▅▄▄▅▃▄▅▄▆▅█</td></tr><tr><td>downward_MI_21</td><td>▃▄▅▃▄▆▅▅█▇▆▇▅▄▅▁▆▃▃▁▅▅▆▅▅▇▅▇▅▅▄▄▆▄▆▇▇▅▅▃</td></tr><tr><td>downward_MI_22</td><td>▄▅▅▅▆▄▅▅▇▆▅▆▅▅▃▅▅▄▆▄▁▅▅▃▅▄▆▄▄▅▅▄▇▄▇▆▅▅▄█</td></tr><tr><td>downward_MI_23</td><td>▃▃▃▆▄▃▄▄▅▂▄▅▃▆▇▄▅▄▃▆▁▄▄▄█▃▅▅▃▅▄▇▅▃▆▅▅▄▅▆</td></tr><tr><td>downward_MI_24</td><td>▃▃▃▃▃▂▃▃▄▃▂▃▃▃▂▃▂▃▅▃▅▅▂▃▃▄▂▃▁▄▃▃▃▄▄▂█▄▄▃</td></tr><tr><td>downward_MI_25</td><td>▃▅▄▇▃▅█▅▅▃▄▄▃▃▃▂▅▇▄▅▇█▇█▂▅▅▁▅▄▄▃▅█▄▄▇█▄▅</td></tr><tr><td>downward_MI_26</td><td>▂▄▁▂▃▄▅▃▃▂▃▅▂▃▂▂▃▆▄▄▁▂▅▇▄▄▇▇▃▃▂▃▄█▇▄▄▃▅▁</td></tr><tr><td>downward_MI_27</td><td>▃▃▄▄▄▄▅▅▄▅▂▅▅▄▆▄▆▄▁▅▃▇▆▄▆█▆▇▅▄▆▇▅▅▅▆▇▅▆▇</td></tr><tr><td>downward_MI_28</td><td>▃▃▃▃▂▃▃▃▃▃▃▃▂▄▄▂▃▄▂▅▁▅▄▄▃▂▅▅▃▃▂█▃▆▃▅▂▅▃▃</td></tr><tr><td>downward_MI_29</td><td>▂▃▅▃▃▅▂▃▅▅▅▄▅▄▄▃▂▃▁▃▅▂▃▄▄▃▃▅▅▅▃▃▁█▅▄▄▅▄▂</td></tr><tr><td>downward_MI_3</td><td>▃▄▅▄▄▄▄▇█▇▃▄▅▅▅▅▄▄▆▅▄█▆▁▅▅▆▅▆▄▂▆▅▆▇█▁▂▅▆</td></tr><tr><td>downward_MI_30</td><td>▆▆▆▆▅▇▆▆▆▆▆▅█▇▆▇▆▇▇▆▆▆▅▇▅▆▆▆██▇▁▆▆▆▆▆█▆▅</td></tr><tr><td>downward_MI_31</td><td>▅▅▅▆█▅▅▅▆▅▅▆▄▅▄▅▅▅█▄▅▅▆▇▆▆▆▁▅▆▇▆▆█▆█▆▄▆▇</td></tr><tr><td>downward_MI_32</td><td>▄▄▄▄▄▃▄▄▄▄▄▄▂▄▄▄▄▄▄▅▄▄▅▁▄▄▄▄▃▄▅▄▅▅▃▅▄▃▅█</td></tr><tr><td>downward_MI_33</td><td>▃▅▅▅▅▅▂▆▄▇▅▆▄▅▅▆▇▄▅▅█▅▂▄▅▄▄▅▅▅▇█▇▄▇▁▆▄▆▄</td></tr><tr><td>downward_MI_34</td><td>▄▄▄▅▄▄▄▄▄▄▅▄▅▄▅▆▄▄▄▅▄▅▁▄▅▁▄▅▅▄▅▅▄▆▆▆▄▆▅█</td></tr><tr><td>downward_MI_35</td><td>▄▄▄▄▄▅▄▄▄▄▅▄▁▄▄▄▄▄▄▄▅▄▅▄▅▄▄▄▅▄▃▅▄▅▅▅█▅▅▇</td></tr><tr><td>downward_MI_36</td><td>▁▂▁▂▁▂▁▂▄▃▃▄▃▂▂▁▂▄▅▃▂▂▄▄▂▅▃█▆▂▂▅▁▄▃▃▅▅▅▆</td></tr><tr><td>downward_MI_37</td><td>▃▄▄▁▃▄▃▃▅▇▄▄▄▅▄▅▄▃▆▆▆▃▆▆▅▆▄▅▅▃▅▄▇▆▇█▅▅▄▅</td></tr><tr><td>downward_MI_38</td><td>▄▄▄▄▅▄▅▄▄▃▂▆▅▅▄▄▆▆▅▄▆▆▇▆▆▄▅▃▅█▄▄▅▇▄▅▇▁▅█</td></tr><tr><td>downward_MI_39</td><td>▃▄▄▃▃▅▆▄▄▇▄▆▁▃▄▃▁▅▅▅▂▇▄▂▂▂▃▃▂▅▅▅▄▄▆▄█▆▃▂</td></tr><tr><td>downward_MI_4</td><td>▂▂▂▂▂▂▂▂▂▁▂▃▃▂▂▃▃▄▄▄▃▂▂▁▁▄▃▂▂▃▃▂▄▄█▅▃▃▄▄</td></tr><tr><td>downward_MI_40</td><td>▂▂▂▃▂▂▂▂▂▂▃▂▂▃▃▅▂▁▂▂▂▁█▂▃▃▃▂▃▂▂▂▂▃▃▁▃▂▂▃</td></tr><tr><td>downward_MI_41</td><td>▄▄▄▅▆▄▄▃▄▄▄▃▆▇▂▄▄▅▃▅▆▁▆▅▅▃▅▅▄▄▇▇▅▆█▅▇▅▄▅</td></tr><tr><td>downward_MI_42</td><td>▄▃▃▄▆▄▄▅▁▄▃▄▃▄▃▃▄▄▄▆▄▅▆▅▇▆▂▃▃▃▄▄▅▄▃▅▇▇▄█</td></tr><tr><td>downward_MI_43</td><td>▂▂▂▃▁▅▃▂▃▄▂▃▃▃▄▅▄▅▃▄▅▃▂▂▃▄▃▄▃▃▃▃▂▄▃█▆▄▃▆</td></tr><tr><td>downward_MI_44</td><td>▁▁▁▂▂▂▄▂▄▃▃▅▃▂▃▃▅▃▂▃▃▁▄▆▄▁▂▄▄▃▃█▃▁▅▃▂▃▁▃</td></tr><tr><td>downward_MI_45</td><td>▄▄▄▄▅▅▅▆▇▅▂▆▅▆▅▅▆▅▅▆▆▆▇▆█▇▆▇▆▅▅▅▆▅▆▇▆▆▅▁</td></tr><tr><td>downward_MI_46</td><td>▆▄▄▄▆▅▄▄▄▄▅█▄▄▄▄▄▄▅▁▅█▄▄▄▅▃▄▃▅▂▃▁▄▄▄▄▅▄▃</td></tr><tr><td>downward_MI_47</td><td>▄▄▃▄▃▇▅▆▄▄▄▅▆▅▆▇▄█▃▆▅▄▄▆▄▇▆▃▅█▅▆▁▇▅▄▅▆▄▄</td></tr><tr><td>downward_MI_48</td><td>▂▃▃▃▄▄▂▄▃▄▃▄▃▄▂▃▃▅▅▄█▅▅▃▅▆▃▄▃▄▅▅█▄▅▁▄▄▄▅</td></tr><tr><td>downward_MI_49</td><td>▆▆▆▆▆▆▆▆▆▆▇▆▆▄▇▆▆▆▆▅▅▆▆▅▆▇▆▆▆▅▆▆▆██▇▅▇▇▁</td></tr><tr><td>downward_MI_5</td><td>▂▂▃▃▂▃▃▃▆▄▅▄▃▄▃▅▄▃▅▆▄▄▁▃▅▇▆▅▄▄▃▇▂▃▃▄█▄▃▃</td></tr><tr><td>downward_MI_50</td><td>▃▃▃▄▄▄▃▄▄▅▂▄▂▅▄▅▅▄▄▃▃▇▃▄▅▅▂▆▆▃▄▁██▅▆▇▆▆▁</td></tr><tr><td>downward_MI_51</td><td>▂▂▂▂▂▃▂▃▂▃▃▂▂▂▃▂▃▃▃▁▂▂▂▂▂▃▂▂▃▅▂▅▄▁█▂▂▄▃▇</td></tr><tr><td>downward_MI_52</td><td>▂▃▄▂▂▃▃▃▅▁▂▁▄▄▃▅▄▅▃▃▂▂▂▄▅▄▅▇▂▄▂▃▄▂▇█▃▆▂█</td></tr><tr><td>downward_MI_53</td><td>▅▆▆▆▆▆▆▆▆▆▆▆█▆▆▅▆▇▇▄▅▆▆▅▇▆▆▇▂▇▇▁▆▆▆▆▆█▅▆</td></tr><tr><td>downward_MI_54</td><td>▅▅▄▄▆▆▁▅▄▆▄▇▅▅▅▅▇▄▆▇▆▆▆▆▆▆▆█▁▆▇▇▃▇▄██▅▇▇</td></tr><tr><td>downward_MI_55</td><td>▁▁▁▁▂▄▂▁▁▁▁▂▂▂▂▃▂▃▂▂▂▂▂▃▂▂▂▄▃▆▂▇▂▂▅█▄▃▃▂</td></tr><tr><td>downward_MI_56</td><td>▃▁▃▄▃▃▄▃▃▄▃▃▃▄▄█▃▅▃▆▄▄▃▃▃▇▅▆▃▂▄▃▄▁▄▇▄▄▄▇</td></tr><tr><td>downward_MI_57</td><td>▃▃▃▂▁▃▃▄▇▄▃▃▄█▄▃▃▃▄█▂▄▃▄▃▁▅█▂▄▅▅▆▅▅▅▆▁▄▆</td></tr><tr><td>downward_MI_58</td><td>▃▃▁▄▄▄▅▃▅▇▆▂▃▃▇▄▄▄▄▅▆▄▄▅▅▃▃▆▃▄▄▄▂▆█▆▇▃▇▁</td></tr><tr><td>downward_MI_59</td><td>▅▅▅▅▅▃▅▅▅▅▅▅▅▅▇▁▅▅▅▅▅▅▄▅▆▆▃▅▅▅▆▆▃▄▅▅▅▇▇█</td></tr><tr><td>downward_MI_6</td><td>▄▄▄▆▅▃▄▅▇▆█▅▅▅▅▅▅▅▆▄▆▅▄▂▄▆▅▁▆▇▆▆▆▆▆▆█▅▄█</td></tr><tr><td>downward_MI_60</td><td>▃▃▂▃▃▁▃▃▃▃▃▃▃▃▄▃▄▃▄▃▅▄▃▃▁▄▃▅▅▇▂▅▂▄▂▅▅█▄▅</td></tr><tr><td>downward_MI_61</td><td>▃▃▄▅▄▃▄▃▄▄▄▄▄▄▄▁▄▄▄▄▅▄▄▃▄█▆▆▄▄▃▅▃▄▅▅▄▅▄▁</td></tr><tr><td>downward_MI_62</td><td>▂▂▂▃▂▂▆▁▂▂▂▂▂▄▄▂▃▂▄▅▃▃▂▂▃▃▂▄▄▂▃▁▁▂▃▄▆▄██</td></tr><tr><td>downward_MI_63</td><td>▆▆▇▆▆▅▆▆▆▇▇▇▇▆▇▄▇▇▅▇▅▆█▇▆█▇█▇█▆▆▆▇▁▆▇▆▅▇</td></tr><tr><td>downward_MI_64</td><td>▃▃▄▄▄▅▁▃▃▄▆▃▂▅▆▅█▄▅▄▄▂▄▄▅▃▁▆▄▃▄▇▃▄▄█▅▇▅▇</td></tr><tr><td>downward_MI_65</td><td>▄▃▃▃▃▄▃▃▃▃▃▃▄▂▂▃▃▄▄█▁▃▃▃▃▄▄▅▅▇▃▄▄▃▅▄▄▅▂▄</td></tr><tr><td>downward_MI_66</td><td>▅▅▄▅▅▅▅▅▄▄▅▅▃▆▅▆▅▅▅▅▆▅▆▆▆▅▅▅▄▅▆▆▆▆▁▅▆█▅▅</td></tr><tr><td>downward_MI_67</td><td>▂▂▂▂▂▃▅▅▅▆▅▄▅▃▇▇▅▆▄▅▇▅▅▃█▄▂▇▁█▅▅▂▄▇▄▂▅▆▅</td></tr><tr><td>downward_MI_68</td><td>▄▃▃▃▄▄▄▄▄█▅▃▃▅▅▅▃▅▃▄█▄▆▆█▆▂▅▅▃▅▁▂▅▅▆▃▃▄█</td></tr><tr><td>downward_MI_69</td><td>▄▅▄▄▅▆▅▅▄▅▄▄▄▅▅▅▅█▄▅▇▆▆▁▆▇▆▇▄▆▆▇▆▅█▆▅▅▇▇</td></tr><tr><td>downward_MI_7</td><td>▅▄▄▅▇▄▂▄▄▄▃▂▄▄▄▄▄▄▄▄▄▄▅▁▃▅▅▃▄▄▂▅▃▃▄█▅▅▂▄</td></tr><tr><td>downward_MI_70</td><td>▄▄▄▄▄▆▅▃▄▄▃▅▇▆▄▆▅▅▆▆▅▅▇▁▅▃▅▆▄▅▄█▃▅█▆▄█▆▅</td></tr><tr><td>downward_MI_71</td><td>▄▁▄▄▅▅▄▅▅▆▄▅▄▄▄▆▄█▄▄▅▄▅▅▄▄▄▄▄▅▅▄▅▅▆▂▆▄▅▂</td></tr><tr><td>downward_MI_72</td><td>▂▂▂▂▅▄▄▅▅▄▆▄▃▄▃▆▃▃▁▃▅▇▆▃▅▁▂▁▄▃█▄▆▄▇▁▆█▄▆</td></tr><tr><td>downward_MI_73</td><td>▂▃▃▃▃▃▁▃▄▃▄▃▇▂▄▃▃▄▅▆▄▄▄▁▂▄▄▃▅▅▃▄▅▅█▄▆▅▄▃</td></tr><tr><td>downward_MI_74</td><td>▄▄▃▄▄▄▄▅▅▃▃▄▄▄▄▅▅▅▄▅▄▅▆▁▅▄▄▄▆▆█▄▄▄▆▄▆▃▃▄</td></tr><tr><td>downward_MI_75</td><td>▄▄▄▄▄▄▄▅▅▄▄▄▄▄▄▄▃▇█▅▅▆▇▆▅▄▄▇▃▁▂▆▅▁▃▄▄▅▄▃</td></tr><tr><td>downward_MI_76</td><td>▅▄▄▄▃▄▄▅▅▇▄▅▅▃▆▅▅█▅▇█▇▄▇▆▇▃▆▅▃▆█▅█▆▁▅▅▆▃</td></tr><tr><td>downward_MI_77</td><td>▅▅▅▆▆▄▅▆▅▆▅▇▆▆▆▇█▆▅▆▆▆▆▂▅▅▅▆▆▅▆▆▆▅▁▆██▇▆</td></tr><tr><td>downward_MI_78</td><td>▄▄▄▄▆▅▅▄▄▄▄▅▄▄▄▅▅▄▆▅▁▄▅▅▄▆▆▅▅▄▄▅▅▅█▆▄▄▆▅</td></tr><tr><td>downward_MI_79</td><td>▂▂▂▂▃▄▄▁▂▄▅▃▃▇▄▄▃▃▅▄▅▅▇▃▇▆▅▆▄▄▆▁▄▄▃▆█▇▅▇</td></tr><tr><td>downward_MI_8</td><td>▃▃▃▆▇▂▄▃▄▅▄▄▃▃▂▁▅▆▃▄▅▇▄▃▄▅▃▄▄▅█▅▄▄▃▅█▄▃▆</td></tr><tr><td>downward_MI_80</td><td>▄▄▅▅▅▆▄▅▅▅▅▅▅▄▅▂▅▆▄▅▅▁▆▄▆▃▇▂▄▅▄▅▅▆▆▆▃▇▅█</td></tr><tr><td>downward_MI_81</td><td>▄▄▄▄▅▄▄▄▅▅▅▁▅▅▄▄▆▅▄▄▅▆▅▅▆▆▃▄▅▇▇▇██▆▆▇▅▆▆</td></tr><tr><td>downward_MI_82</td><td>▆▆▅▅▆▇▇▆▇█▆▇▆▅▆▇▇▆▆▆▆▆▆▆▆▆▇▆▅▆▆▆▆▆▆▆▆▆▆▁</td></tr><tr><td>downward_MI_83</td><td>▃▂▂▄▅▄▄▂▂▃▃▃▅▂▃▄▄▃▅▄▆▃▄▅▅▆▆▄▄▄▅▅▃▅▁▅▇▆▇█</td></tr><tr><td>downward_MI_84</td><td>▅▅▅▅▅▅▅▆▃▆▇█▄▅▆▆▆▅▆▅▅▅▅▆▄▄▅▄▅▆▆▅▁▇▄▇▇▄▅▇</td></tr><tr><td>downward_MI_85</td><td>▂▂▂▂▄▂▃▄▂▃▃▅▁▂▃▃▄▂▂▅▆▅▄▃▇▄▂▅▂▆█▅▂▄▆▇██▃▄</td></tr><tr><td>downward_MI_86</td><td>▁▃▃▃▅▄▃▃▃▇▅▄▄▃▄▃▂▃▄▄▃▅▅▄▅▅▁▆▅▆▅▆▅▅▄▄▆▃▄█</td></tr><tr><td>downward_MI_87</td><td>▂▂▂▂▆▇▅▃▅▃▆▄▃▅▄▆▄▅▅▄▇▆▄▆▆▆▅▅▃▆▅▆▄▄▅▆██▄▁</td></tr><tr><td>downward_MI_88</td><td>▂▂▂▂▂▄▂▃▁▅▂▄▅▅▄▃▃▅▄▂▅▅▅▂▄▄▃▆▄█▄▄▇▅▆▆▆▅▄▇</td></tr><tr><td>downward_MI_89</td><td>▄▄▄▄▄▄▄▃▁▃▄▄▄▅▄▄▅▄▅▃▄▅▆▅▆▅▅▄▅▄▆▄▅▃▇▄█▇▄▁</td></tr><tr><td>downward_MI_9</td><td>▄▆▂▄▃▄▄▅▅▄▅▅▄▃▄▄▃▆▆▆▂▅▄▃▇▂▆▂▄▅▅▄▄▄█▅▆▇█▁</td></tr><tr><td>downward_MI_90</td><td>▅▅▆▆▄▅▄▆▃▅▆▆▅▄▄▄▄▄▅▅▅▆▅▅▆▇▅▅█▆▅▁▅▅▅▆▃▅▅▄</td></tr><tr><td>downward_MI_91</td><td>▁▂▂▁▂▁▂▂▂▂▃▁▃▂▂▄▃▅▂▆▁▄▁▆█▄▄▃▃▃▅▄▃▂▄▃▂▂▄▄</td></tr><tr><td>downward_MI_92</td><td>▄▄▄▄▅▄▅▄▄▇██▃▅▅▄▄▄▃▆▁▄▄▄▄▄▄▄▄▆▄▅▅▄▇▆▄▂▄▇</td></tr><tr><td>downward_MI_93</td><td>▂▂▂▄▂▂▃▄▂▅▂▃▁▄▃▂▃█▂▂▂▃▂▂▂▅▃▄▃▃▅▄▁▆▃▄▄▄▇▇</td></tr><tr><td>downward_MI_94</td><td>▃▃▃▃▃▄▃▃▃▄▃▅▅▃▄▄▄▅▁▃▄▅▃▆▆▅▃▆▄▅▄▅▄▄█▅▅▆▅▇</td></tr><tr><td>downward_MI_95</td><td>▄▄▄▅▄▆▇▅▄▅▅▆▄▆▄▅▃▇▄▅▇▂▅▅▅▄▄▅▆▆▅▁▆█▆▅▇▇▆▇</td></tr><tr><td>downward_MI_96</td><td>▃▄▃▃▃▃▄▄▃▄▄▃▄▄▆▆▄▄▄▅▇▅▆▁▆▃▅▆▇▆▅▅▄▆▆▅▇▅▄█</td></tr><tr><td>downward_MI_97</td><td>▁▂▁▃▆▃▂▃▁▃▅▃▂▃▂▂▄▆▄▄█▃▄▆▅▆▃▃▃▇▄▄▃▂▅▄▇▅▃▄</td></tr><tr><td>downward_MI_98</td><td>▃▄▄▁▄▄▄▃▅▃▆▅▇▄▃▅▅▆▄▄▅▄▅█▆▁▆▅▃▆▆▄▆▆▇▄▆▄▆▃</td></tr><tr><td>downward_MI_99</td><td>▃▃▂▃▁▃▃▃▃▅▂▃▃▃▄▁▃▃▃▃▃▄▄▄▃▅▂█▆▅▂▅▄▄▇▂▇▄▄▂</td></tr><tr><td>sum_downward_MI</td><td>▁▂▂▃▄▄▄▄▄▄▄▄▄▄▄▅▄▅▄▅▆▅▅▅▆▆▅▆▄▆▅▅▅▆▇▇█▇▆▇</td></tr></table><br/></div><div class=\"wandb-col\"><h3>Run summary:</h3><br/><table class=\"wandb\"><tr><td>Psi</td><td>-2.06205</td></tr><tr><td>decoupled_MI</td><td>2.71925</td></tr><tr><td>downward_MI_0</td><td>0.00599</td></tr><tr><td>downward_MI_1</td><td>0.00574</td></tr><tr><td>downward_MI_10</td><td>0.12827</td></tr><tr><td>downward_MI_100</td><td>-0.06634</td></tr><tr><td>downward_MI_101</td><td>0.01741</td></tr><tr><td>downward_MI_102</td><td>0.02208</td></tr><tr><td>downward_MI_103</td><td>-0.02379</td></tr><tr><td>downward_MI_104</td><td>0.05921</td></tr><tr><td>downward_MI_105</td><td>0.09638</td></tr><tr><td>downward_MI_106</td><td>0.02543</td></tr><tr><td>downward_MI_107</td><td>0.07526</td></tr><tr><td>downward_MI_108</td><td>0.12374</td></tr><tr><td>downward_MI_109</td><td>0.0027</td></tr><tr><td>downward_MI_11</td><td>-0.00142</td></tr><tr><td>downward_MI_110</td><td>0.03608</td></tr><tr><td>downward_MI_111</td><td>0.01563</td></tr><tr><td>downward_MI_112</td><td>-0.0186</td></tr><tr><td>downward_MI_113</td><td>0.00975</td></tr><tr><td>downward_MI_114</td><td>0.02839</td></tr><tr><td>downward_MI_115</td><td>-0.02587</td></tr><tr><td>downward_MI_116</td><td>-0.01707</td></tr><tr><td>downward_MI_117</td><td>0.00646</td></tr><tr><td>downward_MI_118</td><td>0.00045</td></tr><tr><td>downward_MI_119</td><td>0.01828</td></tr><tr><td>downward_MI_12</td><td>-0.02768</td></tr><tr><td>downward_MI_120</td><td>0.01683</td></tr><tr><td>downward_MI_121</td><td>0.01422</td></tr><tr><td>downward_MI_122</td><td>0.02208</td></tr><tr><td>downward_MI_123</td><td>0.11188</td></tr><tr><td>downward_MI_124</td><td>0.02275</td></tr><tr><td>downward_MI_125</td><td>0.04469</td></tr><tr><td>downward_MI_126</td><td>-0.03227</td></tr><tr><td>downward_MI_127</td><td>0.0097</td></tr><tr><td>downward_MI_13</td><td>-0.00898</td></tr><tr><td>downward_MI_14</td><td>0.03179</td></tr><tr><td>downward_MI_15</td><td>-0.01343</td></tr><tr><td>downward_MI_16</td><td>0.02661</td></tr><tr><td>downward_MI_17</td><td>-0.00934</td></tr><tr><td>downward_MI_18</td><td>0.00168</td></tr><tr><td>downward_MI_19</td><td>-0.00626</td></tr><tr><td>downward_MI_2</td><td>-0.08754</td></tr><tr><td>downward_MI_20</td><td>0.14428</td></tr><tr><td>downward_MI_21</td><td>-0.00551</td></tr><tr><td>downward_MI_22</td><td>0.06658</td></tr><tr><td>downward_MI_23</td><td>0.05234</td></tr><tr><td>downward_MI_24</td><td>0.00675</td></tr><tr><td>downward_MI_25</td><td>0.0196</td></tr><tr><td>downward_MI_26</td><td>-0.00943</td></tr><tr><td>downward_MI_27</td><td>0.14262</td></tr><tr><td>downward_MI_28</td><td>-0.00158</td></tr><tr><td>downward_MI_29</td><td>0.00892</td></tr><tr><td>downward_MI_3</td><td>0.02553</td></tr><tr><td>downward_MI_30</td><td>-0.00833</td></tr><tr><td>downward_MI_31</td><td>0.03225</td></tr><tr><td>downward_MI_32</td><td>0.0556</td></tr><tr><td>downward_MI_33</td><td>-0.00381</td></tr><tr><td>downward_MI_34</td><td>0.06209</td></tr><tr><td>downward_MI_35</td><td>0.02342</td></tr><tr><td>downward_MI_36</td><td>0.05223</td></tr><tr><td>downward_MI_37</td><td>0.04513</td></tr><tr><td>downward_MI_38</td><td>0.15643</td></tr><tr><td>downward_MI_39</td><td>-0.01873</td></tr><tr><td>downward_MI_4</td><td>0.07347</td></tr><tr><td>downward_MI_40</td><td>0.00078</td></tr><tr><td>downward_MI_41</td><td>0.00158</td></tr><tr><td>downward_MI_42</td><td>0.07542</td></tr><tr><td>downward_MI_43</td><td>0.07112</td></tr><tr><td>downward_MI_44</td><td>0.02175</td></tr><tr><td>downward_MI_45</td><td>-0.06923</td></tr><tr><td>downward_MI_46</td><td>-0.00671</td></tr><tr><td>downward_MI_47</td><td>0.01761</td></tr><tr><td>downward_MI_48</td><td>0.02355</td></tr><tr><td>downward_MI_49</td><td>-0.0705</td></tr><tr><td>downward_MI_5</td><td>0.00639</td></tr><tr><td>downward_MI_50</td><td>-0.01528</td></tr><tr><td>downward_MI_51</td><td>0.04569</td></tr><tr><td>downward_MI_52</td><td>0.07102</td></tr><tr><td>downward_MI_53</td><td>0.00833</td></tr><tr><td>downward_MI_54</td><td>0.02488</td></tr><tr><td>downward_MI_55</td><td>0.02115</td></tr><tr><td>downward_MI_56</td><td>0.02832</td></tr><tr><td>downward_MI_57</td><td>0.01705</td></tr><tr><td>downward_MI_58</td><td>-0.02226</td></tr><tr><td>downward_MI_59</td><td>0.04789</td></tr><tr><td>downward_MI_6</td><td>0.09467</td></tr><tr><td>downward_MI_60</td><td>0.02713</td></tr><tr><td>downward_MI_61</td><td>-0.04962</td></tr><tr><td>downward_MI_62</td><td>0.07969</td></tr><tr><td>downward_MI_63</td><td>0.02123</td></tr><tr><td>downward_MI_64</td><td>0.03746</td></tr><tr><td>downward_MI_65</td><td>0.00209</td></tr><tr><td>downward_MI_66</td><td>0.02093</td></tr><tr><td>downward_MI_67</td><td>0.04171</td></tr><tr><td>downward_MI_68</td><td>0.06572</td></tr><tr><td>downward_MI_69</td><td>0.03766</td></tr><tr><td>downward_MI_7</td><td>-0.00018</td></tr><tr><td>downward_MI_70</td><td>0.0239</td></tr><tr><td>downward_MI_71</td><td>-0.04057</td></tr><tr><td>downward_MI_72</td><td>0.03739</td></tr><tr><td>downward_MI_73</td><td>0.00108</td></tr><tr><td>downward_MI_74</td><td>0.00538</td></tr><tr><td>downward_MI_75</td><td>-0.00541</td></tr><tr><td>downward_MI_76</td><td>-0.01796</td></tr><tr><td>downward_MI_77</td><td>0.01713</td></tr><tr><td>downward_MI_78</td><td>0.01477</td></tr><tr><td>downward_MI_79</td><td>0.10161</td></tr><tr><td>downward_MI_8</td><td>0.03252</td></tr><tr><td>downward_MI_80</td><td>0.02158</td></tr><tr><td>downward_MI_81</td><td>0.04894</td></tr><tr><td>downward_MI_82</td><td>-0.08959</td></tr><tr><td>downward_MI_83</td><td>0.14829</td></tr><tr><td>downward_MI_84</td><td>0.0327</td></tr><tr><td>downward_MI_85</td><td>0.03341</td></tr><tr><td>downward_MI_86</td><td>0.17206</td></tr><tr><td>downward_MI_87</td><td>-0.01971</td></tr><tr><td>downward_MI_88</td><td>0.08044</td></tr><tr><td>downward_MI_89</td><td>-0.02497</td></tr><tr><td>downward_MI_9</td><td>-0.02359</td></tr><tr><td>downward_MI_90</td><td>-0.00414</td></tr><tr><td>downward_MI_91</td><td>0.03261</td></tr><tr><td>downward_MI_92</td><td>0.02175</td></tr><tr><td>downward_MI_93</td><td>0.08816</td></tr><tr><td>downward_MI_94</td><td>0.06582</td></tr><tr><td>downward_MI_95</td><td>0.05455</td></tr><tr><td>downward_MI_96</td><td>0.06722</td></tr><tr><td>downward_MI_97</td><td>0.03699</td></tr><tr><td>downward_MI_98</td><td>-0.0097</td></tr><tr><td>downward_MI_99</td><td>-0.01009</td></tr><tr><td>sum_downward_MI</td><td>4.78131</td></tr></table><br/></div></div>"
      ],
      "text/plain": [
       "<IPython.core.display.HTML object>"
      ]
     },
     "metadata": {},
     "output_type": "display_data"
    },
    {
     "data": {
      "text/html": [
       " View run <strong style=\"color:#cdcd00\">super-wind-3</strong> at: <a href='https://wandb.ai/dmcsharry/resid_directoin_1_2-min-mse-max-mi-verification/runs/3wtg32zl' target=\"_blank\">https://wandb.ai/dmcsharry/resid_directoin_1_2-min-mse-max-mi-verification/runs/3wtg32zl</a><br/> View project at: <a href='https://wandb.ai/dmcsharry/resid_directoin_1_2-min-mse-max-mi-verification' target=\"_blank\">https://wandb.ai/dmcsharry/resid_directoin_1_2-min-mse-max-mi-verification</a><br/>Synced 5 W&B file(s), 0 media file(s), 0 artifact file(s) and 0 other file(s)"
      ],
      "text/plain": [
       "<IPython.core.display.HTML object>"
      ]
     },
     "metadata": {},
     "output_type": "display_data"
    },
    {
     "data": {
      "text/html": [
       "Find logs at: <code>./wandb/run-20240827_000042-3wtg32zl/logs</code>"
      ],
      "text/plain": [
       "<IPython.core.display.HTML object>"
      ]
     },
     "metadata": {},
     "output_type": "display_data"
    },
    {
     "data": {
      "text/html": [
       "The new W&B backend becomes opt-out in version 0.18.0; try it out with `wandb.require(\"core\")`! See https://wandb.me/wandb-core for more information."
      ],
      "text/plain": [
       "<IPython.core.display.HTML object>"
      ]
     },
     "metadata": {},
     "output_type": "display_data"
    }
   ],
   "source": [
    "from info_theory_experiments.trainers import train_feature_network\n",
    "seed = 3\n",
    "torch.manual_seed(seed)\n",
    "config = {\n",
    "    \"torch_seed\": seed,\n",
    "    \"dataset_type\": \"resid_resid_dir\",\n",
    "    \"num_atoms\": 128,\n",
    "    \"batch_size\": 1000,\n",
    "    \"train_mode\": False,\n",
    "    \"train_model_B\": False,\n",
    "    \"adjust_Psi\": True,\n",
    "    \"clip\": 5,\n",
    "    \"feature_size\": 1,\n",
    "    \"epochs\": 2,\n",
    "    \"downward_critics_config\": {\n",
    "        \"hidden_sizes_v_critic\": [512, 1024, 1024, 512],\n",
    "        \"hidden_sizes_xi_critic\": [512, 512, 512],\n",
    "        \"critic_output_size\": 32,\n",
    "        \"lr\": 1e-3,\n",
    "        \"bias\": True,\n",
    "        \"weight_decay\": 0,\n",
    "    },\n",
    "    \n",
    "    \"decoupled_critic_config\": {\n",
    "        \"hidden_sizes_encoder_1\": [512, 512, 512],\n",
    "        \"hidden_sizes_encoder_2\": [512, 512, 512],\n",
    "        \"critic_output_size\": 32,\n",
    "        \"lr\": 1e-3,\n",
    "        \"bias\": True,\n",
    "        \"weight_decay\": 0,\n",
    "    },\n",
    "}\n",
    "\n",
    "project_name = \"resid_directoin_1_2-min-mse-max-mi-verification\"\n",
    "\n",
    "_, _ = train_feature_network(\n",
    "    config=config,\n",
    "    trainloader=train_loader,\n",
    "    feature_network_training=encoder,\n",
    "    project_name=project_name,\n",
    ")"
   ]
  },
  {
   "cell_type": "code",
   "execution_count": null,
   "metadata": {},
   "outputs": [],
   "source": []
  }
 ],
 "metadata": {
  "kernelspec": {
   "display_name": "venv",
   "language": "python",
   "name": "python3"
  },
  "language_info": {
   "codemirror_mode": {
    "name": "ipython",
    "version": 3
   },
   "file_extension": ".py",
   "mimetype": "text/x-python",
   "name": "python",
   "nbconvert_exporter": "python",
   "pygments_lexer": "ipython3",
   "version": "3.10.12"
  }
 },
 "nbformat": 4,
 "nbformat_minor": 2
}
