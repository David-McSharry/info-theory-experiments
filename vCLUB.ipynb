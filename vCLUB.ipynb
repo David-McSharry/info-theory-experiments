{
 "cells": [
  {
   "cell_type": "code",
   "execution_count": 6,
   "metadata": {},
   "outputs": [
    {
     "name": "stdout",
     "output_type": "stream",
     "text": [
      "cuda\n"
     ]
    }
   ],
   "source": [
    "import torch\n",
    "import torch.nn as nn\n",
    "import lovely_tensors as lt\n",
    "import wandb\n",
    "from smile_estimator import estimate_mutual_information\n",
    "from models import SkipConnectionSupervenientFeatureNetwork, DecoupledSmileMIEstimator\n",
    "import tqdm\n",
    "import math\n",
    "from torch.utils.data import DataLoader\n",
    "from utils import ECoGDataset\n",
    "lt.monkey_patch()\n",
    "device = torch.device(\"cuda\" if torch.cuda.is_available() else \"cpu\")\n",
    "\n",
    "\n",
    "print(device)"
   ]
  },
  {
   "cell_type": "code",
   "execution_count": 7,
   "metadata": {},
   "outputs": [],
   "source": [
    "\n",
    "    \n",
    "\n",
    "class CLUB(nn.Module):  # CLUB: Mutual Information Contrastive Learning Upper Bound\n",
    "    '''\n",
    "        This class provides the CLUB estimation to I(X,Y)\n",
    "        Method:\n",
    "            forward() :      provides the estimation with input samples  \n",
    "            loglikeli() :   provides the log-likelihood of the approximation q(Y|X) with input samples\n",
    "        Arguments:\n",
    "            x_dim, y_dim :         the dimensions of samples from X, Y respectively\n",
    "            hidden_size :          the dimension of the hidden layer of the approximation network q(Y|X)\n",
    "            x_samples, y_samples : samples from X and Y, having shape [sample_size, x_dim/y_dim] \n",
    "    '''\n",
    "    def __init__(\n",
    "            self,\n",
    "            v_dim,\n",
    "            mu_hidden_sizes: list,\n",
    "            logvar_hidden_sizes: list\n",
    "        ):\n",
    "        super(CLUB, self).__init__()\n",
    "        # p_mu outputs mean of q(Y|X)\n",
    "        # p_logvar outputs log of variance of q(Y|X)\n",
    "\n",
    "        # NOTE: hard coding in 1 for output dim here (and below) so that we don't have to make assumptions about the covariance matrix between the different components of y\n",
    "        p_mu_layers = []\n",
    "        input_size = v_dim\n",
    "        for hidden_size in mu_hidden_sizes:\n",
    "            p_mu_layers.append(nn.Linear(input_size, hidden_size))\n",
    "            p_mu_layers.append(nn.ReLU())\n",
    "            input_size = hidden_size\n",
    "        p_mu_layers.append(nn.Linear(input_size, 1))\n",
    "        self.p_mu = nn.Sequential(*p_mu_layers)\n",
    "\n",
    "        p_logvar_layers = []\n",
    "        input_size = v_dim\n",
    "        for hidden_size in logvar_hidden_sizes:\n",
    "            p_logvar_layers.append(nn.Linear(input_size, hidden_size))\n",
    "            p_logvar_layers.append(nn.ReLU())\n",
    "            input_size = hidden_size\n",
    "        p_logvar_layers.append(nn.Linear(input_size, 1))\n",
    "        p_logvar_layers.append(nn.Tanh())\n",
    "        self.p_logvar = nn.Sequential(*p_logvar_layers)\n",
    "\n",
    "\n",
    "    def get_mu_logvar(self, x_samples):\n",
    "        mu = self.p_mu(x_samples)\n",
    "        logvar = self.p_logvar(x_samples)\n",
    "        return mu, logvar\n",
    "    \n",
    "    def forward(self, x_samples, y_samples): \n",
    "        mu, logvar = self.get_mu_logvar(x_samples)\n",
    "        \n",
    "        # log of conditional probability of positive sample pairs\n",
    "        positive = - (mu - y_samples)**2 /2./logvar.exp()  \n",
    "        \n",
    "        prediction_1 = mu.unsqueeze(1)          # shape [nsample,1,dim]\n",
    "        y_samples_1 = y_samples.unsqueeze(0)    # shape [1,nsample,dim]\n",
    "\n",
    "        # log of conditional probability of negative sample pairs\n",
    "        negative = - ((y_samples_1 - prediction_1)**2).mean(dim=1)/2./logvar.exp() \n",
    "\n",
    "        return (positive.sum(dim = -1) - negative.sum(dim = -1)).mean()\n",
    "\n",
    "    def loglikeli(self, x_samples, y_samples): # unnormalized loglikelihood \n",
    "        mu, logvar = self.get_mu_logvar(x_samples)\n",
    "        return 0.5 * (-(mu - y_samples)**2 /logvar.exp()-logvar - torch.log(torch.tensor(2 * math.pi))).sum(dim=1).mean(dim=0)\n",
    "    # NOTE: y should be dim 1\n",
    "    def learning_loss(self, x_samples, y_samples):\n",
    "        return - self.loglikeli(x_samples, y_samples)\n",
    "\n",
    "\n"
   ]
  },
  {
   "cell_type": "code",
   "execution_count": 18,
   "metadata": {},
   "outputs": [],
   "source": [
    "config = {\n",
    "    \"batch_size\": 1000,\n",
    "    \"num_atoms\": 64,\n",
    "    \"feature_size\": 3,\n",
    "    \"clip\": 5,\n",
    "    \"update_f_every_N_steps\": 5,\n",
    "    \"club_config\": {\n",
    "        \"mu_hidden_sizes\": [512, 512, 256, 64],\n",
    "        \"logvar_hidden_sizes\": [512, 512, 256, 64],\n",
    "        \"club_lr\": 1e-3,\n",
    "        \"bias\": True,\n",
    "        \"weight_decay\": 1e-4,\n",
    "    },\n",
    "    \"feature_network_config\": {\n",
    "        \"hidden_sizes\": [256, 256, 256, 256, 256],\n",
    "        \"include_bias\": True,\n",
    "        \"feature_lr\": 1e-4,\n",
    "        \"weight_decay\": 1e-5\n",
    "\n",
    "    },\n",
    "    \"decoupled_critic_config\": {\n",
    "        \"hidden_sizes\": [512, 512, 128],\n",
    "        \"include_bias\": True,\n",
    "        \"decoupled_critic_lr\": 1e-4,\n",
    "        \"critic_output_size\": 16,\n",
    "        \"weight_decay\": 1e-5\n",
    "    },\n",
    "}\n"
   ]
  },
  {
   "cell_type": "code",
   "execution_count": 21,
   "metadata": {},
   "outputs": [],
   "source": [
    "def train_feature_network(config, feature_network, trainloader):\n",
    "\n",
    "\n",
    "    wandb.init(project=\"getting emergence with club\", config=config)\n",
    "\n",
    "\n",
    "    decoupled_critic = DecoupledSmileMIEstimator(\n",
    "        feature_size=config['feature_size'],\n",
    "        critic_output_size=config['decoupled_critic_config']['critic_output_size'],\n",
    "        hidden_sizes_1=config['decoupled_critic_config']['hidden_sizes'],\n",
    "        hidden_sizes_2=config['decoupled_critic_config']['hidden_sizes'],\n",
    "        include_bias=config['decoupled_critic_config']['include_bias'],\n",
    "        clip=config['clip']\n",
    "        ).to(device)\n",
    "    downward_clubs = [\n",
    "        CLUB(\n",
    "            v_dim=config['feature_size'],\n",
    "            mu_hidden_sizes=config['club_config']['mu_hidden_sizes'],\n",
    "            logvar_hidden_sizes=config['club_config']['logvar_hidden_sizes']\n",
    "        ).to(device)\n",
    "        for _ in range(config['num_atoms'])\n",
    "    ]\n",
    "\n",
    "\n",
    "    downward_optims = [\n",
    "        torch.optim.Adam(\n",
    "            dc.parameters(),\n",
    "            lr=config['club_config']['club_lr'],\n",
    "            weight_decay=config['club_config']['weight_decay']\n",
    "        )\n",
    "        for dc in downward_clubs\n",
    "    ]\n",
    "    decoupled_optimizer = torch.optim.Adam(\n",
    "        decoupled_critic.parameters(),\n",
    "        lr=config[\"decoupled_critic_config\"][\"decoupled_critic_lr\"],\n",
    "        weight_decay=config[\"decoupled_critic_config\"][\"weight_decay\"]\n",
    "    )\n",
    "\n",
    "\n",
    "    # TODO: figure out why only f network is being watched, I would like to keep a closer eye on the grad n params.\n",
    "    # TODO: Look at how GANs are trained with pytorch and make sure I'm not doing anything unreasonable.\n",
    "    # Eg, https://github.com/eriklindernoren/PyTorch-GAN/blob/master/implementations/gan/gan.py \n",
    "    # ^ this does not require retain_graph=True, so maybe this can be optomized somehow\n",
    "    # wandb.watch(decoupled_critic, log=\"all\")\n",
    "    # for dc in downward_clubs:\n",
    "    #     wandb.watch(dc, log='all')\n",
    "\n",
    "    ##\n",
    "    ## TRAIN FEATURE NETWORK\n",
    "    ##\n",
    "\n",
    "    epochs = 20\n",
    "\n",
    "    for epoch in tqdm.tqdm(range(epochs), desc='Training'):\n",
    "        for batch_num, batch in enumerate(trainloader):\n",
    "            x0 = batch[:, 0].to(device).float()\n",
    "            x1 = batch[:, 1].to(device).float()\n",
    "            v0 = feature_network(x0)\n",
    "            v1 = feature_network(x1) \n",
    "\n",
    "            # ensure we are only training MI estimators first\n",
    "            # feature_network.eval()\n",
    "            # decoupled_critic.train()\n",
    "            # downward_clubs = [dc.train() for dc in downward_clubs]\n",
    "\n",
    "            # update decoupled critic\n",
    "            decoupled_optimizer.zero_grad()\n",
    "            decoupled_MI = decoupled_critic(v0, v1)\n",
    "            decoupled_loss = -decoupled_MI\n",
    "            decoupled_loss.backward(retain_graph=True)\n",
    "            decoupled_optimizer.step()\n",
    "\n",
    "\n",
    "            # update each downward club\n",
    "            for i in range(config['num_atoms']):\n",
    "                downward_optims[i].zero_grad()\n",
    "                channel_0i = x0[:, i].unsqueeze(1)\n",
    "                downward_loss = downward_clubs[i].learning_loss(v1, channel_0i)\n",
    "                downward_loss.backward(retain_graph=True)\n",
    "                downward_optims[i].step()\n",
    "                wandb.log({\n",
    "                    f\"club_downward_{i}_loss\": downward_loss\n",
    "                })\n",
    "                MI = downward_clubs[i](v1, channel_0i)\n",
    "                wandb.log({\n",
    "                    f\"club_downward_{i}_MI\": MI\n",
    "                })\n",
    "\n",
    "            # update feature network   \n",
    "            # feature_network.train()\n",
    "            # decoupled_critic.eval()\n",
    "            # downward_clubs = [dc.eval() for dc in downward_clubs]\n",
    "\n",
    "            sum_downward_MI = 0\n",
    "            MIs = []\n",
    "            for i in range(config['num_atoms']):\n",
    "                downward_MI = downward_clubs[i](v1, x0[:, i].unsqueeze(1))\n",
    "                MIs.append(downward_MI)\n",
    "                sum_downward_MI += downward_MI\n",
    "\n",
    "            min_MI = min(MIs)\n",
    "            wandb.log({\n",
    "                \"min_MI\": min_MI\n",
    "            })\n",
    "            decoupled_MI1 = decoupled_critic(v0, v1)\n",
    "\n",
    "            # add max\n",
    "            Psi = decoupled_MI1 - sum_downward_MI + (config['num_atoms'] - 1) * max(0, min_MI)\n",
    "            \n",
    "            wandb.log({\n",
    "                \"decoupled_MI\": decoupled_MI1,\n",
    "                \"sum_downward_MI\": sum_downward_MI,\n",
    "                \"Psi\": Psi,\n",
    "            })\n",
    "    return feature_network\n",
    "\n"
   ]
  },
  {
   "cell_type": "code",
   "execution_count": 10,
   "metadata": {},
   "outputs": [],
   "source": [
    "dataset = ECoGDataset()\n",
    "\n",
    "train_loader = torch.utils.data.DataLoader(dataset, batch_size=config['batch_size'], shuffle=True)"
   ]
  },
  {
   "cell_type": "code",
   "execution_count": 22,
   "metadata": {},
   "outputs": [
    {
     "data": {
      "text/html": [
       "Finishing last run (ID:imdop2jk) before initializing another..."
      ],
      "text/plain": [
       "<IPython.core.display.HTML object>"
      ]
     },
     "metadata": {},
     "output_type": "display_data"
    },
    {
     "data": {
      "text/html": [
       "<style>\n",
       "    table.wandb td:nth-child(1) { padding: 0 10px; text-align: left ; width: auto;} td:nth-child(2) {text-align: left ; width: 100%}\n",
       "    .wandb-row { display: flex; flex-direction: row; flex-wrap: wrap; justify-content: flex-start; width: 100% }\n",
       "    .wandb-col { display: flex; flex-direction: column; flex-basis: 100%; flex: 1; padding: 10px; }\n",
       "    </style>\n",
       "<div class=\"wandb-row\"><div class=\"wandb-col\"><h3>Run history:</h3><br/><table class=\"wandb\"><tr><td>Psi</td><td>█▃▃▃▃▃▃▃▂▂▃▃▂▃▃▂▂▃▃▂▃▃▃▃▃▃▃▃▂▃▁▁▃▃▃▃▃▂▃▃</td></tr><tr><td>club_downward_0_MI</td><td>▁▆▅▅▅▆▅▅▆▆▅▆▆▅▅▆▆▆▅▇▅▆▆▆▅▆▅█▆▅▇▇▆▅▅▆▇█▆▅</td></tr><tr><td>club_downward_0_loss</td><td>█▁▁▁▁▁▁▂▁▂▁▁▁▁▁▁▁▁▁▂▁▁▁▁▁▂▁▂▁▁▁▂▁▁▁▁▂▁▁▁</td></tr><tr><td>club_downward_10_MI</td><td>▁▆▅▅▅▆▅▅▆▇▅▆▆▅▅▆▇▆▅▇▆▆▆▆▅▆▅█▇▆▇▇▆▅▆▆█▇▆▅</td></tr><tr><td>club_downward_10_loss</td><td>█▁▁▁▁▁▁▂▁▁▁▂▁▁▁▁▁▁▁▂▁▁▁▁▁▂▁▂▁▁▁▂▁▁▁▁▂▂▁▁</td></tr><tr><td>club_downward_11_MI</td><td>▁▆▆▆▅▆▅▅▆▇▅▆▇▆▆▇▇▆▆▇▆▆▆▆▅▇▆█▇▆▇▇▆▆▆▆██▆▆</td></tr><tr><td>club_downward_11_loss</td><td>█▁▁▁▁▁▁▂▁▁▁▂▁▁▁▁▁▁▁▂▁▁▁▁▁▂▁▂▁▁▁▂▁▁▁▁▂▂▁▁</td></tr><tr><td>club_downward_12_MI</td><td>▁▆▆▅▅▆▅▅▆▇▅▆▆▅▅▆▇▆▅▇▆▆▆▆▅▆▅█▇▅▇▇▆▅▆▆██▆▅</td></tr><tr><td>club_downward_12_loss</td><td>█▁▁▁▁▁▁▂▁▂▁▂▁▁▁▁▁▁▁▂▁▁▁▁▁▂▁▂▁▁▂▂▁▁▁▁▂▂▁▁</td></tr><tr><td>club_downward_13_MI</td><td>▁▆▆▅▅▆▅▅▆▇▅▆▆▅▅▆▇▆▅▇▆▆▆▆▅▆▅█▇▆▇▇▆▅▆▆██▆▆</td></tr><tr><td>club_downward_13_loss</td><td>█▁▁▁▁▁▁▂▁▁▁▁▁▁▁▁▁▁▁▂▁▁▁▁▁▂▁▂▁▁▁▂▁▁▁▁▂▁▁▁</td></tr><tr><td>club_downward_14_MI</td><td>▁▆▅▅▅▆▅▅▆▆▅▅▆▅▅▆▇▅▅▇▅▆▅▅▅▆▅█▆▅▇▇▆▅▅▆██▆▅</td></tr><tr><td>club_downward_14_loss</td><td>█▁▁▁▁▁▁▂▁▂▁▂▁▁▁▁▁▁▁▂▁▁▁▁▁▂▁▂▁▁▂▂▁▁▁▁▂▂▁▁</td></tr><tr><td>club_downward_15_MI</td><td>▁▆▆▅▅▆▅▅▆▇▅▆▆▅▅▆▆▆▅▇▆▆▆▆▅▆▅█▆▆▇▇▆▅▆▆▇█▆▅</td></tr><tr><td>club_downward_15_loss</td><td>█▁▁▁▁▁▁▂▁▁▁▁▁▁▁▁▁▁▁▂▁▁▁▁▁▂▁▂▁▁▁▂▁▁▁▁▁▁▁▁</td></tr><tr><td>club_downward_16_MI</td><td>▁▆▆▅▅▆▅▅▆▇▅▆▆▅▅▇▇▆▅▆▆▆▆▆▅▆▅█▆▆▇▇▆▅▆▆██▆▆</td></tr><tr><td>club_downward_16_loss</td><td>█▁▁▁▁▁▁▂▁▁▁▁▁▁▁▁▁▁▁▂▁▁▁▁▁▂▁▂▁▁▁▂▁▁▁▁▂▁▁▁</td></tr><tr><td>club_downward_17_MI</td><td>▁▆▅▅▅▆▅▅▆▆▅▅▆▅▅▆▆▅▅▆▅▆▅▅▅▆▅█▆▅▇▇▆▅▅▆▇█▆▅</td></tr><tr><td>club_downward_17_loss</td><td>█▁▁▁▁▁▁▂▁▁▁▂▁▁▁▁▁▁▁▂▁▁▁▁▁▂▁▂▁▁▁▂▁▁▁▁▂▂▁▁</td></tr><tr><td>club_downward_18_MI</td><td>▁▆▆▅▅▆▅▅▆▇▅▆▆▅▅▆▇▆▅▇▆▆▆▆▅▇▅█▆▆▇▇▆▅▆▆██▆▆</td></tr><tr><td>club_downward_18_loss</td><td>█▁▁▁▁▁▁▂▁▂▁▁▁▁▁▁▁▁▁▂▁▁▁▁▁▂▁▂▁▁▁▂▁▁▁▁▂▂▁▁</td></tr><tr><td>club_downward_19_MI</td><td>▁▆▆▅▅▆▅▅▆▇▅▆▆▅▅▇▇▆▅▇▆▆▆▆▅▆▅█▇▆▇█▆▅▆▆██▆▆</td></tr><tr><td>club_downward_19_loss</td><td>█▁▁▁▁▁▁▂▁▂▁▂▁▁▁▁▁▁▁▂▁▁▁▁▁▂▁▂▁▁▁▂▁▁▁▁▂▂▁▁</td></tr><tr><td>club_downward_1_MI</td><td>▁▆▆▅▅▆▅▅▆▇▅▆▆▅▅▆▇▆▅▆▆▆▆▆▅▆▅█▆▆▇▇▆▅▆▆██▆▅</td></tr><tr><td>club_downward_1_loss</td><td>█▁▁▁▁▁▁▂▁▁▁▂▁▁▁▁▁▁▁▂▁▁▁▁▁▂▁▂▁▁▁▂▁▁▁▁▂▁▁▁</td></tr><tr><td>club_downward_20_MI</td><td>▁▆▆▆▅▆▅▅▆▇▅▆▆▅▅▇▇▆▅▇▆▆▆▆▅▇▅█▇▆▇▇▆▆▆▆██▆▆</td></tr><tr><td>club_downward_20_loss</td><td>█▁▁▁▁▁▁▂▁▁▁▂▁▁▁▁▁▁▁▂▁▁▁▁▁▂▁▂▁▁▁▂▁▁▁▁▂▁▁▁</td></tr><tr><td>club_downward_21_MI</td><td>▁▆▆▆▅▆▅▅▆▇▅▆▆▅▅▇▇▆▅▇▆▆▆▆▅▆▅█▇▆▇▇▆▅▆▆█▇▆▆</td></tr><tr><td>club_downward_21_loss</td><td>█▁▁▁▁▁▁▂▁▂▁▂▁▁▁▁▁▁▁▂▁▁▁▁▁▂▁▂▁▁▁▂▁▁▁▁▂▂▁▁</td></tr><tr><td>club_downward_22_MI</td><td>▁▆▆▅▅▆▅▅▆▇▅▆▆▅▅▇▇▆▅▇▆▆▆▆▅▆▅█▇▆▇▇▆▅▆▆██▆▆</td></tr><tr><td>club_downward_22_loss</td><td>█▁▁▁▁▁▁▂▁▂▁▂▁▁▁▁▁▁▁▂▁▁▁▁▁▂▁▂▁▁▁▂▁▁▁▁▂▂▁▁</td></tr><tr><td>club_downward_23_MI</td><td>▁▆▆▆▆▆▆▆▇▇▆▆▇▆▆▇▇▆▆▇▆▆▆▆▆▇▆█▇▆█▇▆▆▆▆██▆▆</td></tr><tr><td>club_downward_23_loss</td><td>█▁▁▁▁▁▁▂▁▂▁▂▁▁▁▁▁▁▁▂▁▁▁▁▁▂▁▂▁▁▁▂▁▁▁▁▂▂▁▁</td></tr><tr><td>club_downward_24_MI</td><td>▁▆▆▆▆▇▆▆▇▇▆▆▇▆▆▇▇▆▆▇▆▇▆▆▆▇▆█▇▆▇▇▆▆▆▆██▆▆</td></tr><tr><td>club_downward_24_loss</td><td>█▁▁▁▁▁▁▂▁▂▁▁▁▁▁▁▁▁▁▂▁▁▁▁▁▂▁▂▁▁▁▂▁▁▁▁▂▂▁▁</td></tr><tr><td>club_downward_25_MI</td><td>▁▆▆▅▅▆▅▅▆▇▅▆▆▅▅▇▇▆▅▇▆▆▆▆▅▆▅█▇▆▇▇▆▅▆▆██▆▆</td></tr><tr><td>club_downward_25_loss</td><td>█▁▁▁▁▁▁▂▁▂▁▂▁▁▁▁▁▁▁▂▁▁▁▁▁▂▁▂▁▁▁▂▁▁▁▁▂▂▁▁</td></tr><tr><td>club_downward_26_MI</td><td>▁▆▆▆▆▆▆▅▇▇▅▆▇▆▆▇▇▆▆▇▆▆▆▆▆▇▆█▇▆██▆▆▆▆██▆▆</td></tr><tr><td>club_downward_26_loss</td><td>█▁▁▁▁▁▁▂▁▂▁▂▁▁▁▁▁▁▁▂▁▁▁▁▁▂▁▂▁▁▁▂▁▁▁▁▂▂▁▁</td></tr><tr><td>club_downward_27_MI</td><td>▁▆▅▅▅▆▅▅▆▇▅▅▆▅▅▆▇▅▅▆▅▆▅▅▅▆▅█▆▅▇▇▆▅▆▆██▆▅</td></tr><tr><td>club_downward_27_loss</td><td>█▁▁▁▁▁▁▂▁▂▁▁▁▁▁▁▁▁▁▂▁▁▁▁▁▂▁▂▁▁▁▂▁▁▁▁▂▂▁▁</td></tr><tr><td>club_downward_28_MI</td><td>▁▆▆▅▅▆▅▅▆▇▅▆▆▅▅▇▇▆▅▇▆▆▆▆▅▆▅█▇▆▇▇▆▅▆▆█▇▆▆</td></tr><tr><td>club_downward_28_loss</td><td>█▂▁▁▁▁▁▂▁▂▁▂▁▁▁▁▁▁▁▂▁▁▁▁▁▂▁▂▁▁▁▂▁▁▁▁▂▂▁▁</td></tr><tr><td>club_downward_29_MI</td><td>▁▆▆▆▅▆▅▅▆▇▅▆▇▅▅▇▇▆▅▇▆▆▆▆▅▆▅█▇▆▇▇▆▅▆▆██▆▆</td></tr><tr><td>club_downward_29_loss</td><td>█▁▁▁▁▁▁▂▁▁▁▁▁▁▁▁▁▁▁▂▁▁▁▁▁▂▁▂▁▁▁▂▁▁▁▁▂▁▁▁</td></tr><tr><td>club_downward_2_MI</td><td>▁▆▆▅▅▆▅▅▆▇▅▆▆▅▅▆▇▆▅▇▆▆▆▆▅▆▅█▆▆▇▇▆▅▆▆██▆▆</td></tr><tr><td>club_downward_2_loss</td><td>█▁▁▁▁▁▁▂▁▁▁▁▁▁▁▁▁▁▁▂▁▁▁▁▁▂▁▂▁▁▁▂▁▁▁▁▁▁▁▁</td></tr><tr><td>club_downward_30_MI</td><td>▁▆▅▅▅▆▅▅▆▆▅▅▆▅▅▆▆▅▅▆▅▆▅▅▅▆▅█▆▅▇▇▆▅▅▆▇█▆▅</td></tr><tr><td>club_downward_30_loss</td><td>█▁▁▁▁▁▁▂▁▁▁▁▁▁▁▁▁▁▁▂▁▁▁▁▁▂▁▂▁▁▁▂▁▁▁▁▁▁▁▁</td></tr><tr><td>club_downward_31_MI</td><td>▁▆▆▆▅▆▅▅▆▇▅▆▆▅▅▆▇▆▅▇▆▆▆▆▅▆▅█▆▆▇▇▆▅▆▆██▆▆</td></tr><tr><td>club_downward_31_loss</td><td>█▁▁▁▁▁▁▂▁▁▁▁▁▁▁▁▁▁▁▂▁▁▁▁▁▂▁▂▁▁▁▂▁▁▁▁▂▁▁▁</td></tr><tr><td>club_downward_32_MI</td><td>▁▆▅▅▄▆▄▄▆▇▄▅▆▅▄▆▆▅▄▆▅▆▅▅▅▆▅█▆▅▇▇▅▅▅▅██▅▅</td></tr><tr><td>club_downward_32_loss</td><td>█▁▁▁▁▁▁▂▁▁▁▁▁▁▁▁▁▁▁▂▁▁▁▁▁▂▁▂▁▁▁▂▁▁▁▁▂▁▁▁</td></tr><tr><td>club_downward_33_MI</td><td>▁▆▆▆▅▆▅▅▇▇▅▆▇▆▆▇▇▆▆▇▆▆▆▆▆▆▆█▇▆▇▇▆▆▆▆█▇▆▆</td></tr><tr><td>club_downward_33_loss</td><td>█▁▁▁▁▁▁▂▁▁▁▂▁▁▁▁▁▁▁▂▁▁▁▁▁▂▁▂▁▁▁▂▁▁▁▁▁▂▁▁</td></tr><tr><td>club_downward_34_MI</td><td>▁▆▆▅▅▆▅▅▆▇▅▆▆▅▅▆▇▆▅▇▆▆▆▆▅▆▅█▆▆▇▇▆▅▆▆██▆▅</td></tr><tr><td>club_downward_34_loss</td><td>█▁▁▁▁▁▁▂▁▂▁▂▁▁▁▁▁▁▁▂▁▁▁▁▁▂▁▂▁▁▂▂▁▁▁▁▂▂▁▁</td></tr><tr><td>club_downward_35_MI</td><td>▁▆▆▅▅▆▅▅▆▇▅▆▆▅▅▇▇▆▅▇▆▆▆▆▅▆▅█▆▆▇▇▆▅▆▆██▆▆</td></tr><tr><td>club_downward_35_loss</td><td>█▁▁▁▁▁▁▂▁▁▁▁▁▁▁▁▁▁▁▂▁▁▁▁▁▂▁▂▁▁▁▂▁▁▁▁▂▂▁▁</td></tr><tr><td>club_downward_36_MI</td><td>▁▆▆▅▅▆▅▅▆▇▅▆▆▅▅▇▇▆▅▇▆▆▆▆▅▇▅█▇▆█▇▆▅▆▆██▆▆</td></tr><tr><td>club_downward_36_loss</td><td>█▁▁▁▁▁▁▂▁▂▁▂▁▁▁▁▂▁▁▂▁▁▁▁▁▂▁▂▁▁▁▂▁▁▁▁▂▂▁▁</td></tr><tr><td>club_downward_37_MI</td><td>▁▆▆▅▅▆▅▅▆▇▅▆▆▅▅▇▇▆▅▇▆▆▆▆▅▆▅█▇▆▇▇▆▅▆▆██▆▆</td></tr><tr><td>club_downward_37_loss</td><td>█▁▁▁▁▁▁▂▁▂▁▂▁▁▁▁▁▁▁▂▁▁▁▁▁▂▁▂▁▁▁▂▁▁▁▁▂▁▁▁</td></tr><tr><td>club_downward_38_MI</td><td>▁▆▆▆▅▆▅▅▆▇▅▆▆▅▅▆▇▆▅▇▆▆▆▆▅▆▅█▆▆▇▇▆▅▆▆█▇▆▆</td></tr><tr><td>club_downward_38_loss</td><td>█▁▁▁▁▁▁▂▁▂▁▁▁▁▁▁▁▁▁▂▁▁▁▁▁▂▁▂▁▁▁▂▁▁▁▁▂▂▁▁</td></tr><tr><td>club_downward_39_MI</td><td>▁▆▆▆▅▆▅▅▆▇▅▆▆▅▅▇▇▆▅▇▆▆▆▆▅▇▅█▇▆▇█▆▆▆▆██▆▆</td></tr><tr><td>club_downward_39_loss</td><td>█▁▁▁▁▁▁▂▁▂▁▁▁▁▁▁▁▁▁▂▁▁▁▁▁▂▁▂▁▁▁▂▁▁▁▁▂▁▁▁</td></tr><tr><td>club_downward_3_MI</td><td>▁▅▄▄▄▅▄▄▆▆▄▅▆▄▄▆▆▅▄▆▅▅▅▅▄▆▄█▆▅▇▇▅▄▅▅██▅▄</td></tr><tr><td>club_downward_3_loss</td><td>█▁▁▁▁▁▁▂▁▁▁▂▁▁▁▁▁▁▁▂▁▁▁▁▁▂▁▂▁▁▁▂▁▁▁▁▂▁▁▁</td></tr><tr><td>club_downward_40_MI</td><td>▁▆▆▆▅▆▅▅▆▇▅▆▆▅▅▇▇▆▅▇▆▆▆▆▅▆▅█▇▆▇▇▆▅▆▆█▇▆▆</td></tr><tr><td>club_downward_40_loss</td><td>█▁▁▁▁▁▁▂▁▂▁▂▁▁▁▁▁▁▁▂▁▁▁▁▁▂▁▂▁▁▁▂▁▁▁▁▂▂▁▁</td></tr><tr><td>club_downward_41_MI</td><td>▁▆▆▆▆▇▆▆▇▇▆▆▇▆▆▇▇▆▆▇▆▇▆▆▆▇▆█▇▆██▆▆▆▆██▆▆</td></tr><tr><td>club_downward_41_loss</td><td>█▁▁▁▁▁▁▂▁▂▁▂▁▁▁▁▁▁▁▂▁▁▁▁▁▂▁▂▁▁▁▂▁▁▁▁▂▂▁▁</td></tr><tr><td>club_downward_42_MI</td><td>▁▆▆▆▅▆▅▅▇▇▅▆▆▆▅▇▇▆▅▇▆▆▆▆▅▇▆█▇▆█▇▆▆▆▆██▆▆</td></tr><tr><td>club_downward_42_loss</td><td>█▁▁▁▁▁▁▂▁▂▁▁▁▁▁▁▁▁▁▂▁▁▁▁▁▂▁▂▁▁▁▂▁▁▁▁▂▂▁▁</td></tr><tr><td>club_downward_43_MI</td><td>▁▆▅▅▅▆▅▅▆▇▅▆▆▅▅▇▇▆▅▇▅▆▅▆▅▇▅█▆▆▇▇▆▅▆▆██▆▅</td></tr><tr><td>club_downward_43_loss</td><td>█▁▁▁▁▁▁▂▁▂▁▂▁▁▁▁▁▁▁▂▁▁▁▁▁▂▁▂▁▁▁▂▁▁▁▁▂▂▁▁</td></tr><tr><td>club_downward_44_MI</td><td>▁▆▆▅▅▆▅▅▆▇▅▆▆▅▅▇▇▆▅▇▆▆▆▆▅▆▅█▇▆▇▇▆▅▆▆██▆▆</td></tr><tr><td>club_downward_44_loss</td><td>█▂▁▂▁▁▁▂▁▂▁▂▁▁▁▁▂▁▁▂▁▁▁▁▁▂▁▂▁▁▂▂▁▁▁▁▂▂▁▁</td></tr><tr><td>club_downward_45_MI</td><td>▁▆▆▅▅▆▅▅▆▇▅▆▆▅▅▇▇▆▅▇▆▆▆▆▅▆▅█▇▆▇▇▆▅▆▆██▆▅</td></tr><tr><td>club_downward_45_loss</td><td>█▁▁▁▁▁▁▂▁▂▁▂▁▁▁▁▁▁▁▂▁▁▁▁▁▂▁▂▁▁▂▂▁▁▁▁▂▁▁▁</td></tr><tr><td>club_downward_46_MI</td><td>▁▆▆▆▅▆▅▅▇▇▅▆▆▆▆▇▇▆▆▇▆▆▆▆▆▆▆█▇▆▇▇▆▆▆▆██▆▆</td></tr><tr><td>club_downward_46_loss</td><td>█▁▁▁▁▁▁▂▁▂▁▁▁▁▁▁▁▁▁▂▁▁▁▁▁▂▁▂▁▁▁▂▁▁▁▁▂▁▁▁</td></tr><tr><td>club_downward_47_MI</td><td>▁▆▆▅▅▆▅▅▆▇▅▆▆▅▅▇▇▆▅▇▆▆▆▆▅▆▅█▆▆▇▇▆▅▆▆█▇▆▆</td></tr><tr><td>club_downward_47_loss</td><td>█▁▁▁▁▁▁▂▁▁▁▂▁▁▁▁▁▁▁▂▁▁▁▁▁▂▁▂▁▁▁▂▁▁▁▁▂▂▁▁</td></tr><tr><td>club_downward_48_MI</td><td>▁▄▃▃▂▄▂▂▅▆▂▃▅▃▂▅▅▃▂▅▃▄▃▃▂▄▃█▅▃▆▆▄▃▄▄▇█▄▃</td></tr><tr><td>club_downward_48_loss</td><td>█▁▁▁▁▁▁▂▁▂▁▂▁▁▁▁▁▁▁▂▁▁▁▁▁▂▁▂▁▁▁▂▁▁▁▁▂▁▁▁</td></tr><tr><td>club_downward_49_MI</td><td>▁▄▃▃▃▄▂▂▅▆▂▄▅▃▃▅▆▄▂▆▃▄▃▃▃▅▃█▅▃▇▇▄▃▄▄▇█▄▃</td></tr><tr><td>club_downward_49_loss</td><td>█▁▁▁▁▁▁▂▁▂▁▂▁▁▁▁▁▁▁▂▁▁▁▁▁▂▁▂▁▁▁▂▁▁▁▁▂▂▁▁</td></tr><tr><td>club_downward_4_MI</td><td>▁▆▆▆▅▆▅▅▆▇▅▆▆▆▅▇▇▆▅▇▆▆▆▆▅▇▅█▇▆▇▇▆▆▆▆██▆▆</td></tr><tr><td>club_downward_4_loss</td><td>█▁▁▁▁▁▁▂▁▂▁▂▁▁▁▁▁▁▁▂▁▁▁▁▁▂▁▂▁▁▁▂▁▁▁▁▂▂▁▁</td></tr><tr><td>club_downward_50_MI</td><td>▁▆▆▆▅▆▅▅▇▇▅▆▇▅▅▇▇▆▅▇▆▆▆▆▅▆▅█▇▆▇█▆▆▆▆██▆▆</td></tr><tr><td>club_downward_50_loss</td><td>█▁▁▁▁▁▁▂▁▂▁▂▁▁▁▁▂▁▁▂▁▁▁▁▁▂▁▂▁▁▁▂▁▁▁▁▂▂▁▁</td></tr><tr><td>club_downward_51_MI</td><td>▁▆▆▅▅▆▅▅▆▇▅▆▆▅▅▆▇▆▅▇▆▆▆▆▅▆▅█▆▆▇▇▆▅▆▆▇█▆▅</td></tr><tr><td>club_downward_51_loss</td><td>█▁▁▁▁▁▁▂▁▁▁▁▁▁▁▁▁▁▁▂▁▁▁▁▁▂▁▂▁▁▁▂▁▁▁▁▂▁▁▁</td></tr><tr><td>club_downward_52_MI</td><td>▁▅▄▄▄▅▄▄▅▆▄▅▅▄▄▆▆▅▄▆▄▅▄▄▄▅▄█▆▄▇▇▅▄▅▅▇█▅▄</td></tr><tr><td>club_downward_52_loss</td><td>█▁▁▁▁▁▁▂▁▂▁▂▁▁▁▁▁▁▁▂▁▁▁▁▁▂▁▂▁▁▁▂▁▁▁▁▂▁▁▁</td></tr><tr><td>club_downward_53_MI</td><td>▁▆▆▆▅▆▅▅▆▇▅▆▆▆▅▇▇▆▅▇▆▆▆▆▅▆▅█▇▆▇▇▆▆▆▆██▆▆</td></tr><tr><td>club_downward_53_loss</td><td>█▁▁▁▁▁▁▂▁▂▁▁▁▁▁▁▁▁▁▂▁▁▁▁▁▂▁▂▁▁▁▂▁▁▁▁▂▂▁▁</td></tr><tr><td>club_downward_54_MI</td><td>▁▆▆▆▅▆▅▅▆▇▅▆▆▅▅▆▇▆▅▇▆▆▆▆▅▆▅█▆▆▇▇▆▅▆▆██▆▆</td></tr><tr><td>club_downward_54_loss</td><td>█▁▁▁▁▁▁▂▁▁▁▂▁▁▁▁▁▁▁▂▁▁▁▁▁▂▁▂▁▁▁▂▁▁▁▁▂▁▁▁</td></tr><tr><td>club_downward_55_MI</td><td>▁▆▆▆▆▆▆▅▇▇▆▆▇▆▆▇▇▆▆▇▆▆▆▆▆▇▆█▇▆▇█▆▆▆▆██▆▆</td></tr><tr><td>club_downward_55_loss</td><td>█▁▁▁▁▁▁▂▁▂▁▂▁▁▁▁▁▁▁▂▁▁▁▁▁▂▁▂▁▁▁▂▁▁▁▁▂▂▁▁</td></tr><tr><td>club_downward_56_MI</td><td>▁▆▅▅▅▆▅▅▆▇▅▆▆▅▅▆▇▆▅▆▅▆▅▆▅▆▅█▆▅▇▇▆▅▆▆██▆▅</td></tr><tr><td>club_downward_56_loss</td><td>█▁▁▁▁▁▁▂▁▂▁▂▁▁▁▁▁▁▁▂▁▁▁▁▁▂▁▂▁▁▁▂▁▁▁▁▂▁▁▁</td></tr><tr><td>club_downward_57_MI</td><td>▁▆▆▆▆▆▅▅▇▇▅▆▇▆▆▇▇▆▆▇▆▆▆▆▆▆▆█▇▆▇▇▆▆▆▆██▆▆</td></tr><tr><td>club_downward_57_loss</td><td>█▁▁▁▁▁▁▂▁▂▁▂▁▁▁▁▁▁▁▂▁▁▁▁▁▂▁▂▁▁▁▂▁▁▁▁▂▁▁▁</td></tr><tr><td>club_downward_58_MI</td><td>▁▃▂▂▁▃▁▁▄▅▁▂▄▁▁▄▅▂▁▅▂▃▂▂▁▄▁█▄▂▆▆▃▁▂▃▇▇▃▂</td></tr><tr><td>club_downward_58_loss</td><td>█▁▁▁▁▁▁▂▁▂▁▂▁▁▁▁▁▁▁▂▁▁▁▁▁▂▁▂▁▁▁▂▁▁▁▁▂▂▁▁</td></tr><tr><td>club_downward_59_MI</td><td>▁▆▆▅▅▆▅▅▆▇▅▆▆▅▅▆▇▆▅▇▆▆▆▆▅▆▅█▆▆▇▇▆▅▆▆██▆▆</td></tr><tr><td>club_downward_59_loss</td><td>█▂▁▁▁▁▁▂▁▂▁▁▁▁▁▁▁▁▁▂▁▁▁▁▁▂▁▂▁▁▁▂▁▁▁▁▂▂▁▁</td></tr><tr><td>club_downward_5_MI</td><td>▁▆▆▆▆▆▆▅▇▇▆▆▇▆▆▇▇▆▆▇▆▆▆▆▆▇▆█▇▆▇▇▆▆▆▆█▇▆▆</td></tr><tr><td>club_downward_5_loss</td><td>█▁▁▁▁▁▁▂▁▂▁▂▁▁▁▁▁▁▁▂▁▁▁▁▁▂▁▂▁▁▁▂▁▁▁▁▂▂▁▁</td></tr><tr><td>club_downward_60_MI</td><td>▁▆▆▆▅▆▅▅▆▇▅▆▆▆▅▇▇▆▅▇▆▆▆▆▅▆▅█▇▆▇▇▆▆▆▆██▆▆</td></tr><tr><td>club_downward_60_loss</td><td>█▁▁▁▁▁▁▂▁▁▁▂▁▁▁▁▁▁▁▂▁▁▁▁▁▂▁▂▁▁▁▂▁▁▁▁▂▁▁▁</td></tr><tr><td>club_downward_61_MI</td><td>▁▆▅▅▅▆▅▅▆▇▅▅▆▅▅▆▆▅▅▇▅▆▅▅▅▆▅█▆▅▇▇▆▅▅▆█▇▆▅</td></tr><tr><td>club_downward_61_loss</td><td>█▁▁▁▁▁▁▂▁▂▁▂▁▁▁▁▁▁▁▂▁▁▁▁▁▂▁▂▁▁▂▂▁▁▁▁▂▂▁▁</td></tr><tr><td>club_downward_62_MI</td><td>▁▆▅▅▅▆▅▅▆▆▅▅▆▅▅▆▆▅▅▆▅▆▅▅▅▆▅█▆▅▇▇▆▅▅▆▇▇▆▅</td></tr><tr><td>club_downward_62_loss</td><td>█▁▁▁▁▁▁▂▁▁▁▁▁▁▁▁▁▁▁▂▁▁▁▁▁▂▁▂▁▁▁▂▁▁▁▁▂▂▁▁</td></tr><tr><td>club_downward_63_MI</td><td>█▁▁▁▁▁▁▁▁▁▁▁▁▁▁▁▁▁▁▁▁▁▁▁▁▁▁▂▁▁▁▁▁▁▁▁▂▂▁▁</td></tr><tr><td>club_downward_63_loss</td><td>█▂▁▁▁▁▁▁▁▁▁▂▁▁▁▁▁▁▁▁▁▁▁▁▁▂▁▂▁▁▁▂▁▁▁▁▂▂▁▁</td></tr><tr><td>club_downward_6_MI</td><td>▁▅▄▄▄▅▄▄▆▆▄▅▆▄▄▆▇▅▄▆▅▅▅▅▄▅▄█▆▅▇▇▅▄▅▅██▅▄</td></tr><tr><td>club_downward_6_loss</td><td>█▁▁▁▁▁▁▂▁▂▁▂▁▁▁▁▁▁▁▂▁▁▁▁▁▂▁▂▁▁▁▂▁▁▁▁▂▂▁▁</td></tr><tr><td>club_downward_7_MI</td><td>▁▆▆▆▅▆▅▅▆▇▅▆▆▅▅▇▇▆▅▇▆▆▆▆▅▆▅█▇▆▇▇▆▅▆▆██▆▆</td></tr><tr><td>club_downward_7_loss</td><td>█▂▁▁▁▁▁▂▁▂▁▂▁▁▁▁▁▁▁▂▁▁▁▁▁▂▁▂▁▁▁▂▁▁▁▁▂▂▁▁</td></tr><tr><td>club_downward_8_MI</td><td>▁▆▆▅▅▆▅▅▆▇▅▆▆▅▅▆▇▆▅▇▆▆▆▆▅▆▅█▇▆▇▇▆▅▆▆██▆▅</td></tr><tr><td>club_downward_8_loss</td><td>█▁▁▁▁▁▁▂▁▁▁▁▁▁▁▁▁▁▁▂▁▁▁▁▁▂▁▂▁▁▁▂▁▁▁▁▂▁▁▁</td></tr><tr><td>club_downward_9_MI</td><td>▁▆▆▅▅▆▅▅▆▇▅▆▆▅▅▇▇▆▅▇▆▆▆▆▅▆▅█▇▆▇▇▆▅▆▆██▆▆</td></tr><tr><td>club_downward_9_loss</td><td>█▁▁▁▁▁▁▂▁▂▁▂▁▁▁▁▁▁▁▂▁▁▁▁▁▂▁▂▁▁▁▂▁▁▁▁▂▁▁▁</td></tr><tr><td>decoupled_MI</td><td>▁▃▄▅▆▆▆▆▇▇▇▇▇▇▇▇█▇███▇█▇█▇█▇▇████▇██████</td></tr><tr><td>min_MI</td><td>▁▆▆▆▆▇▆▆▆▇▆▆▆▆▆▆▆▆▆▆▆▇▆▆▆▇▆█▆▆▆▇▇▆▆▆██▆▆</td></tr><tr><td>sum_downward_MI</td><td>▁▆▅▅▅▆▅▅▆▇▅▆▆▅▅▆▇▆▅▆▅▆▅▅▅▆▅█▆▅▇▇▆▅▅▆██▆▅</td></tr></table><br/></div><div class=\"wandb-col\"><h3>Run summary:</h3><br/><table class=\"wandb\"><tr><td>Psi</td><td>-12.52604</td></tr><tr><td>club_downward_0_MI</td><td>0.61427</td></tr><tr><td>club_downward_0_loss</td><td>1.03455</td></tr><tr><td>club_downward_10_MI</td><td>0.56278</td></tr><tr><td>club_downward_10_loss</td><td>1.0686</td></tr><tr><td>club_downward_11_MI</td><td>0.61457</td></tr><tr><td>club_downward_11_loss</td><td>1.0438</td></tr><tr><td>club_downward_12_MI</td><td>0.59395</td></tr><tr><td>club_downward_12_loss</td><td>1.0639</td></tr><tr><td>club_downward_13_MI</td><td>0.62041</td></tr><tr><td>club_downward_13_loss</td><td>1.04741</td></tr><tr><td>club_downward_14_MI</td><td>0.59294</td></tr><tr><td>club_downward_14_loss</td><td>1.07942</td></tr><tr><td>club_downward_15_MI</td><td>0.62916</td></tr><tr><td>club_downward_15_loss</td><td>1.03736</td></tr><tr><td>club_downward_16_MI</td><td>0.57692</td></tr><tr><td>club_downward_16_loss</td><td>1.06861</td></tr><tr><td>club_downward_17_MI</td><td>0.54066</td></tr><tr><td>club_downward_17_loss</td><td>1.08813</td></tr><tr><td>club_downward_18_MI</td><td>0.5538</td></tr><tr><td>club_downward_18_loss</td><td>1.07217</td></tr><tr><td>club_downward_19_MI</td><td>0.53661</td></tr><tr><td>club_downward_19_loss</td><td>1.09112</td></tr><tr><td>club_downward_1_MI</td><td>0.57555</td></tr><tr><td>club_downward_1_loss</td><td>1.07366</td></tr><tr><td>club_downward_20_MI</td><td>0.57069</td></tr><tr><td>club_downward_20_loss</td><td>1.0592</td></tr><tr><td>club_downward_21_MI</td><td>0.5193</td></tr><tr><td>club_downward_21_loss</td><td>1.08761</td></tr><tr><td>club_downward_22_MI</td><td>0.56716</td></tr><tr><td>club_downward_22_loss</td><td>1.07034</td></tr><tr><td>club_downward_23_MI</td><td>0.54366</td></tr><tr><td>club_downward_23_loss</td><td>1.08344</td></tr><tr><td>club_downward_24_MI</td><td>0.55423</td></tr><tr><td>club_downward_24_loss</td><td>1.09239</td></tr><tr><td>club_downward_25_MI</td><td>0.55734</td></tr><tr><td>club_downward_25_loss</td><td>1.07129</td></tr><tr><td>club_downward_26_MI</td><td>0.55142</td></tr><tr><td>club_downward_26_loss</td><td>1.0789</td></tr><tr><td>club_downward_27_MI</td><td>0.57159</td></tr><tr><td>club_downward_27_loss</td><td>1.07733</td></tr><tr><td>club_downward_28_MI</td><td>0.56225</td></tr><tr><td>club_downward_28_loss</td><td>1.06049</td></tr><tr><td>club_downward_29_MI</td><td>0.53887</td></tr><tr><td>club_downward_29_loss</td><td>1.0916</td></tr><tr><td>club_downward_2_MI</td><td>0.58923</td></tr><tr><td>club_downward_2_loss</td><td>1.06019</td></tr><tr><td>club_downward_30_MI</td><td>0.57502</td></tr><tr><td>club_downward_30_loss</td><td>1.02924</td></tr><tr><td>club_downward_31_MI</td><td>0.55304</td></tr><tr><td>club_downward_31_loss</td><td>1.06186</td></tr><tr><td>club_downward_32_MI</td><td>0.50667</td></tr><tr><td>club_downward_32_loss</td><td>1.12778</td></tr><tr><td>club_downward_33_MI</td><td>0.54112</td></tr><tr><td>club_downward_33_loss</td><td>1.08114</td></tr><tr><td>club_downward_34_MI</td><td>0.52503</td></tr><tr><td>club_downward_34_loss</td><td>1.10323</td></tr><tr><td>club_downward_35_MI</td><td>0.5465</td></tr><tr><td>club_downward_35_loss</td><td>1.08723</td></tr><tr><td>club_downward_36_MI</td><td>0.54204</td></tr><tr><td>club_downward_36_loss</td><td>1.07049</td></tr><tr><td>club_downward_37_MI</td><td>0.53955</td></tr><tr><td>club_downward_37_loss</td><td>1.08968</td></tr><tr><td>club_downward_38_MI</td><td>0.54526</td></tr><tr><td>club_downward_38_loss</td><td>1.0772</td></tr><tr><td>club_downward_39_MI</td><td>0.52035</td></tr><tr><td>club_downward_39_loss</td><td>1.08436</td></tr><tr><td>club_downward_3_MI</td><td>0.58393</td></tr><tr><td>club_downward_3_loss</td><td>1.07076</td></tr><tr><td>club_downward_40_MI</td><td>0.56577</td></tr><tr><td>club_downward_40_loss</td><td>1.07231</td></tr><tr><td>club_downward_41_MI</td><td>0.53198</td></tr><tr><td>club_downward_41_loss</td><td>1.09703</td></tr><tr><td>club_downward_42_MI</td><td>0.5337</td></tr><tr><td>club_downward_42_loss</td><td>1.09287</td></tr><tr><td>club_downward_43_MI</td><td>0.54878</td></tr><tr><td>club_downward_43_loss</td><td>1.07289</td></tr><tr><td>club_downward_44_MI</td><td>0.53119</td></tr><tr><td>club_downward_44_loss</td><td>1.10699</td></tr><tr><td>club_downward_45_MI</td><td>0.54749</td></tr><tr><td>club_downward_45_loss</td><td>1.05344</td></tr><tr><td>club_downward_46_MI</td><td>0.55628</td></tr><tr><td>club_downward_46_loss</td><td>1.07474</td></tr><tr><td>club_downward_47_MI</td><td>0.54395</td></tr><tr><td>club_downward_47_loss</td><td>1.07028</td></tr><tr><td>club_downward_48_MI</td><td>0.50002</td></tr><tr><td>club_downward_48_loss</td><td>1.11509</td></tr><tr><td>club_downward_49_MI</td><td>0.56412</td></tr><tr><td>club_downward_49_loss</td><td>1.0594</td></tr><tr><td>club_downward_4_MI</td><td>0.61942</td></tr><tr><td>club_downward_4_loss</td><td>1.02313</td></tr><tr><td>club_downward_50_MI</td><td>0.58599</td></tr><tr><td>club_downward_50_loss</td><td>1.0469</td></tr><tr><td>club_downward_51_MI</td><td>0.5288</td></tr><tr><td>club_downward_51_loss</td><td>1.10134</td></tr><tr><td>club_downward_52_MI</td><td>0.51348</td></tr><tr><td>club_downward_52_loss</td><td>1.08647</td></tr><tr><td>club_downward_53_MI</td><td>0.50549</td></tr><tr><td>club_downward_53_loss</td><td>1.11519</td></tr><tr><td>club_downward_54_MI</td><td>0.52271</td></tr><tr><td>club_downward_54_loss</td><td>1.1077</td></tr><tr><td>club_downward_55_MI</td><td>0.57082</td></tr><tr><td>club_downward_55_loss</td><td>1.05767</td></tr><tr><td>club_downward_56_MI</td><td>0.51848</td></tr><tr><td>club_downward_56_loss</td><td>1.08329</td></tr><tr><td>club_downward_57_MI</td><td>0.53341</td></tr><tr><td>club_downward_57_loss</td><td>1.09665</td></tr><tr><td>club_downward_58_MI</td><td>0.52579</td></tr><tr><td>club_downward_58_loss</td><td>1.10508</td></tr><tr><td>club_downward_59_MI</td><td>0.54097</td></tr><tr><td>club_downward_59_loss</td><td>1.09605</td></tr><tr><td>club_downward_5_MI</td><td>0.55529</td></tr><tr><td>club_downward_5_loss</td><td>1.07933</td></tr><tr><td>club_downward_60_MI</td><td>0.52787</td></tr><tr><td>club_downward_60_loss</td><td>1.10245</td></tr><tr><td>club_downward_61_MI</td><td>0.51838</td></tr><tr><td>club_downward_61_loss</td><td>1.10885</td></tr><tr><td>club_downward_62_MI</td><td>0.54222</td></tr><tr><td>club_downward_62_loss</td><td>1.09207</td></tr><tr><td>club_downward_63_MI</td><td>0.33405</td></tr><tr><td>club_downward_63_loss</td><td>0.96025</td></tr><tr><td>club_downward_6_MI</td><td>0.58571</td></tr><tr><td>club_downward_6_loss</td><td>1.06432</td></tr><tr><td>club_downward_7_MI</td><td>0.56923</td></tr><tr><td>club_downward_7_loss</td><td>1.07048</td></tr><tr><td>club_downward_8_MI</td><td>0.60074</td></tr><tr><td>club_downward_8_loss</td><td>1.06574</td></tr><tr><td>club_downward_9_MI</td><td>0.58148</td></tr><tr><td>club_downward_9_loss</td><td>1.06688</td></tr><tr><td>decoupled_MI</td><td>1.74853</td></tr><tr><td>min_MI</td><td>0.33405</td></tr><tr><td>sum_downward_MI</td><td>35.31949</td></tr></table><br/></div></div>"
      ],
      "text/plain": [
       "<IPython.core.display.HTML object>"
      ]
     },
     "metadata": {},
     "output_type": "display_data"
    },
    {
     "data": {
      "text/html": [
       " View run <strong style=\"color:#cdcd00\">eternal-lion-14</strong> at: <a href='https://wandb.ai/dmcsharry/getting%20emergence%20with%20club/runs/imdop2jk' target=\"_blank\">https://wandb.ai/dmcsharry/getting%20emergence%20with%20club/runs/imdop2jk</a><br/> View project at: <a href='https://wandb.ai/dmcsharry/getting%20emergence%20with%20club' target=\"_blank\">https://wandb.ai/dmcsharry/getting%20emergence%20with%20club</a><br/>Synced 5 W&B file(s), 0 media file(s), 0 artifact file(s) and 0 other file(s)"
      ],
      "text/plain": [
       "<IPython.core.display.HTML object>"
      ]
     },
     "metadata": {},
     "output_type": "display_data"
    },
    {
     "data": {
      "text/html": [
       "Find logs at: <code>./wandb/run-20240506_081009-imdop2jk/logs</code>"
      ],
      "text/plain": [
       "<IPython.core.display.HTML object>"
      ]
     },
     "metadata": {},
     "output_type": "display_data"
    },
    {
     "data": {
      "text/html": [
       "Successfully finished last run (ID:imdop2jk). Initializing new run:<br/>"
      ],
      "text/plain": [
       "<IPython.core.display.HTML object>"
      ]
     },
     "metadata": {},
     "output_type": "display_data"
    },
    {
     "data": {
      "text/html": [
       "Tracking run with wandb version 0.16.6"
      ],
      "text/plain": [
       "<IPython.core.display.HTML object>"
      ]
     },
     "metadata": {},
     "output_type": "display_data"
    },
    {
     "data": {
      "text/html": [
       "Run data is saved locally in <code>/vol/bitbucket/dm2223/info-theory-experiments/wandb/run-20240506_081727-lp7jap31</code>"
      ],
      "text/plain": [
       "<IPython.core.display.HTML object>"
      ]
     },
     "metadata": {},
     "output_type": "display_data"
    },
    {
     "data": {
      "text/html": [
       "Syncing run <strong><a href='https://wandb.ai/dmcsharry/getting%20emergence%20with%20club/runs/lp7jap31' target=\"_blank\">devoted-moon-15</a></strong> to <a href='https://wandb.ai/dmcsharry/getting%20emergence%20with%20club' target=\"_blank\">Weights & Biases</a> (<a href='https://wandb.me/run' target=\"_blank\">docs</a>)<br/>"
      ],
      "text/plain": [
       "<IPython.core.display.HTML object>"
      ]
     },
     "metadata": {},
     "output_type": "display_data"
    },
    {
     "data": {
      "text/html": [
       " View project at <a href='https://wandb.ai/dmcsharry/getting%20emergence%20with%20club' target=\"_blank\">https://wandb.ai/dmcsharry/getting%20emergence%20with%20club</a>"
      ],
      "text/plain": [
       "<IPython.core.display.HTML object>"
      ]
     },
     "metadata": {},
     "output_type": "display_data"
    },
    {
     "data": {
      "text/html": [
       " View run at <a href='https://wandb.ai/dmcsharry/getting%20emergence%20with%20club/runs/lp7jap31' target=\"_blank\">https://wandb.ai/dmcsharry/getting%20emergence%20with%20club/runs/lp7jap31</a>"
      ],
      "text/plain": [
       "<IPython.core.display.HTML object>"
      ]
     },
     "metadata": {},
     "output_type": "display_data"
    },
    {
     "name": "stderr",
     "output_type": "stream",
     "text": [
      "Training:  20%|██        | 4/20 [07:01<28:05, 105.33s/it]\n"
     ]
    },
    {
     "ename": "KeyboardInterrupt",
     "evalue": "",
     "output_type": "error",
     "traceback": [
      "\u001b[0;31m---------------------------------------------------------------------------\u001b[0m",
      "\u001b[0;31mKeyboardInterrupt\u001b[0m                         Traceback (most recent call last)",
      "Cell \u001b[0;32mIn[22], line 13\u001b[0m\n\u001b[1;32m      9\u001b[0m model_path \u001b[38;5;241m=\u001b[39m \u001b[38;5;124m\"\u001b[39m\u001b[38;5;124m/vol/bitbucket/dm2223/info-theory-experiments/models/ecog_feature_network_expert-snow-10.pth\u001b[39m\u001b[38;5;124m\"\u001b[39m\n\u001b[1;32m     10\u001b[0m feature_network\u001b[38;5;241m.\u001b[39mload_state_dict(torch\u001b[38;5;241m.\u001b[39mload(model_path))\n\u001b[0;32m---> 13\u001b[0m feature_network \u001b[38;5;241m=\u001b[39m \u001b[43mtrain_feature_network\u001b[49m\u001b[43m(\u001b[49m\u001b[43mconfig\u001b[49m\u001b[43m,\u001b[49m\u001b[43m \u001b[49m\u001b[43mfeature_network\u001b[49m\u001b[43m,\u001b[49m\u001b[43m \u001b[49m\u001b[43mtrain_loader\u001b[49m\u001b[43m)\u001b[49m\n",
      "Cell \u001b[0;32mIn[21], line 79\u001b[0m, in \u001b[0;36mtrain_feature_network\u001b[0;34m(config, feature_network, trainloader)\u001b[0m\n\u001b[1;32m     77\u001b[0m channel_0i \u001b[38;5;241m=\u001b[39m x0[:, i]\u001b[38;5;241m.\u001b[39munsqueeze(\u001b[38;5;241m1\u001b[39m)\n\u001b[1;32m     78\u001b[0m downward_loss \u001b[38;5;241m=\u001b[39m downward_clubs[i]\u001b[38;5;241m.\u001b[39mlearning_loss(v1, channel_0i)\n\u001b[0;32m---> 79\u001b[0m \u001b[43mdownward_loss\u001b[49m\u001b[38;5;241;43m.\u001b[39;49m\u001b[43mbackward\u001b[49m\u001b[43m(\u001b[49m\u001b[43mretain_graph\u001b[49m\u001b[38;5;241;43m=\u001b[39;49m\u001b[38;5;28;43;01mTrue\u001b[39;49;00m\u001b[43m)\u001b[49m\n\u001b[1;32m     80\u001b[0m downward_optims[i]\u001b[38;5;241m.\u001b[39mstep()\n\u001b[1;32m     81\u001b[0m wandb\u001b[38;5;241m.\u001b[39mlog({\n\u001b[1;32m     82\u001b[0m     \u001b[38;5;124mf\u001b[39m\u001b[38;5;124m\"\u001b[39m\u001b[38;5;124mclub_downward_\u001b[39m\u001b[38;5;132;01m{\u001b[39;00mi\u001b[38;5;132;01m}\u001b[39;00m\u001b[38;5;124m_loss\u001b[39m\u001b[38;5;124m\"\u001b[39m: downward_loss\n\u001b[1;32m     83\u001b[0m })\n",
      "File \u001b[0;32m/vol/bitbucket/dm2223/info-theory-experiments/.venv/lib/python3.10/site-packages/torch/_tensor.py:522\u001b[0m, in \u001b[0;36mTensor.backward\u001b[0;34m(self, gradient, retain_graph, create_graph, inputs)\u001b[0m\n\u001b[1;32m    512\u001b[0m \u001b[38;5;28;01mif\u001b[39;00m has_torch_function_unary(\u001b[38;5;28mself\u001b[39m):\n\u001b[1;32m    513\u001b[0m     \u001b[38;5;28;01mreturn\u001b[39;00m handle_torch_function(\n\u001b[1;32m    514\u001b[0m         Tensor\u001b[38;5;241m.\u001b[39mbackward,\n\u001b[1;32m    515\u001b[0m         (\u001b[38;5;28mself\u001b[39m,),\n\u001b[0;32m   (...)\u001b[0m\n\u001b[1;32m    520\u001b[0m         inputs\u001b[38;5;241m=\u001b[39minputs,\n\u001b[1;32m    521\u001b[0m     )\n\u001b[0;32m--> 522\u001b[0m \u001b[43mtorch\u001b[49m\u001b[38;5;241;43m.\u001b[39;49m\u001b[43mautograd\u001b[49m\u001b[38;5;241;43m.\u001b[39;49m\u001b[43mbackward\u001b[49m\u001b[43m(\u001b[49m\n\u001b[1;32m    523\u001b[0m \u001b[43m    \u001b[49m\u001b[38;5;28;43mself\u001b[39;49m\u001b[43m,\u001b[49m\u001b[43m \u001b[49m\u001b[43mgradient\u001b[49m\u001b[43m,\u001b[49m\u001b[43m \u001b[49m\u001b[43mretain_graph\u001b[49m\u001b[43m,\u001b[49m\u001b[43m \u001b[49m\u001b[43mcreate_graph\u001b[49m\u001b[43m,\u001b[49m\u001b[43m \u001b[49m\u001b[43minputs\u001b[49m\u001b[38;5;241;43m=\u001b[39;49m\u001b[43minputs\u001b[49m\n\u001b[1;32m    524\u001b[0m \u001b[43m\u001b[49m\u001b[43m)\u001b[49m\n",
      "File \u001b[0;32m/vol/bitbucket/dm2223/info-theory-experiments/.venv/lib/python3.10/site-packages/torch/autograd/__init__.py:266\u001b[0m, in \u001b[0;36mbackward\u001b[0;34m(tensors, grad_tensors, retain_graph, create_graph, grad_variables, inputs)\u001b[0m\n\u001b[1;32m    261\u001b[0m     retain_graph \u001b[38;5;241m=\u001b[39m create_graph\n\u001b[1;32m    263\u001b[0m \u001b[38;5;66;03m# The reason we repeat the same comment below is that\u001b[39;00m\n\u001b[1;32m    264\u001b[0m \u001b[38;5;66;03m# some Python versions print out the first line of a multi-line function\u001b[39;00m\n\u001b[1;32m    265\u001b[0m \u001b[38;5;66;03m# calls in the traceback and some print out the last line\u001b[39;00m\n\u001b[0;32m--> 266\u001b[0m \u001b[43mVariable\u001b[49m\u001b[38;5;241;43m.\u001b[39;49m\u001b[43m_execution_engine\u001b[49m\u001b[38;5;241;43m.\u001b[39;49m\u001b[43mrun_backward\u001b[49m\u001b[43m(\u001b[49m\u001b[43m  \u001b[49m\u001b[38;5;66;43;03m# Calls into the C++ engine to run the backward pass\u001b[39;49;00m\n\u001b[1;32m    267\u001b[0m \u001b[43m    \u001b[49m\u001b[43mtensors\u001b[49m\u001b[43m,\u001b[49m\n\u001b[1;32m    268\u001b[0m \u001b[43m    \u001b[49m\u001b[43mgrad_tensors_\u001b[49m\u001b[43m,\u001b[49m\n\u001b[1;32m    269\u001b[0m \u001b[43m    \u001b[49m\u001b[43mretain_graph\u001b[49m\u001b[43m,\u001b[49m\n\u001b[1;32m    270\u001b[0m \u001b[43m    \u001b[49m\u001b[43mcreate_graph\u001b[49m\u001b[43m,\u001b[49m\n\u001b[1;32m    271\u001b[0m \u001b[43m    \u001b[49m\u001b[43minputs\u001b[49m\u001b[43m,\u001b[49m\n\u001b[1;32m    272\u001b[0m \u001b[43m    \u001b[49m\u001b[43mallow_unreachable\u001b[49m\u001b[38;5;241;43m=\u001b[39;49m\u001b[38;5;28;43;01mTrue\u001b[39;49;00m\u001b[43m,\u001b[49m\n\u001b[1;32m    273\u001b[0m \u001b[43m    \u001b[49m\u001b[43maccumulate_grad\u001b[49m\u001b[38;5;241;43m=\u001b[39;49m\u001b[38;5;28;43;01mTrue\u001b[39;49;00m\u001b[43m,\u001b[49m\n\u001b[1;32m    274\u001b[0m \u001b[43m\u001b[49m\u001b[43m)\u001b[49m\n",
      "\u001b[0;31mKeyboardInterrupt\u001b[0m: "
     ]
    }
   ],
   "source": [
    "feature_network = SkipConnectionSupervenientFeatureNetwork(\n",
    "    num_atoms=config['num_atoms'],\n",
    "    feature_size=config['feature_size'],\n",
    "    hidden_sizes=config['feature_network_config']['hidden_sizes'],\n",
    "    include_bias=config['feature_network_config']['include_bias']\n",
    ").to(device)\n",
    "\n",
    "\n",
    "model_path = \"/vol/bitbucket/dm2223/info-theory-experiments/models/ecog_feature_network_expert-snow-10.pth\"\n",
    "feature_network.load_state_dict(torch.load(model_path))\n",
    "\n",
    "\n",
    "feature_network = train_feature_network(config, feature_network, train_loader)"
   ]
  },
  {
   "cell_type": "code",
   "execution_count": 5,
   "metadata": {},
   "outputs": [],
   "source": [
    "\n",
    "class NoSpectralDownwardCritic(nn.Module):\n",
    "    def __init__(\n",
    "            self,\n",
    "            feature_size: int,\n",
    "            critic_output_size: int,\n",
    "            hidden_sizes_v_critic: list,\n",
    "            hidden_sizes_xi_critic: list,\n",
    "            include_bias: bool = True\n",
    "        ):\n",
    "        super(NoSpectralDownwardCritic, self).__init__()\n",
    "\n",
    "        v_encoder_layers = []\n",
    "        input_size = feature_size\n",
    "        for hidden_size in hidden_sizes_v_critic:\n",
    "            v_encoder_layers.append(nn.Linear(input_size, hidden_size, bias=include_bias))\n",
    "            v_encoder_layers.append(nn.ReLU())\n",
    "            input_size = hidden_size\n",
    "        v_encoder_layers.append(nn.Linear(input_size, critic_output_size, bias=include_bias))\n",
    "        self.v_encoder = nn.Sequential(*v_encoder_layers)\n",
    "\n",
    "        atom_encoder_layers = []\n",
    "        input_size = 1\n",
    "        for hidden_size in hidden_sizes_xi_critic:\n",
    "            atom_encoder_layers.append(nn.Linear(input_size, hidden_size, bias=include_bias))\n",
    "            atom_encoder_layers.append(nn.ReLU())\n",
    "            input_size = hidden_size\n",
    "        atom_encoder_layers.append(nn.Linear(input_size, critic_output_size, bias=include_bias)) \n",
    "        self.atom_encoder = nn.Sequential(*atom_encoder_layers)\n",
    "    \n",
    "    def forward(self, v1, x0i):\n",
    "        v1_encoded = self.v_encoder(v1)\n",
    "        x0i_encoded = self.atom_encoder(x0i)\n",
    "\n",
    "        scores = torch.matmul(v1_encoded, x0i_encoded.t())\n",
    "        return scores\n",
    "\n",
    "\n",
    "\n",
    "\n",
    "def find_true_Psi(feature_network, run_id, feature_config):\n",
    "\n",
    "    print(type(feature_network))\n",
    "\n",
    "    config = {\n",
    "        \"batch_size\": 1000,\n",
    "        \"num_atoms\": 64,\n",
    "        \"feature_size\": feature_config['feature_size'],\n",
    "        \"clip\": 5,\n",
    "        \"critic_output_size\": 16,\n",
    "        \"downward_hidden_sizes_v_critic\": [1028, 1028, 512, 64],\n",
    "        \"downward_hidden_sizes_xi_critic\": [512, 512, 512, 64],\n",
    "        \"feature_hidden_sizes\": [1028, 1028, 256],\n",
    "        \"decoupled_critis_hidden_sizes\": [512, 512, 128],\n",
    "        \"decoupled_critic_lr\": 1e-4,\n",
    "        \"downward_lr\": 1e-4,\n",
    "        \"bias\": True,\n",
    "        \"weight_decay\": 1e-6,\n",
    "        \"original_run_id\": run_id\n",
    "    }\n",
    "\n",
    "    dataset = torch.load(\"data/ecog_data_pairs.pth\")\n",
    "    trainloader = torch.utils.data.DataLoader(dataset, batch_size=config['batch_size'], shuffle=True)\n",
    "\n",
    "    wandb.init(project=\"Finding-true-Psi-for-f\", config=config, id=run_id)\n",
    "\n",
    "    decoupled_critic = DecoupledCritic(\n",
    "        feature_size=config['feature_size'],\n",
    "        critic_output_size=config['critic_output_size'],\n",
    "        hidden_sizes=config['decoupled_critis_hidden_sizes'],\n",
    "        include_bias=config['bias']\n",
    "        ).to(device)\n",
    "\n",
    "    downward_critics = [\n",
    "        NoSpectralDownwardCritic(\n",
    "            feature_size=config['feature_size'],\n",
    "            critic_output_size=config['critic_output_size'],\n",
    "            hidden_sizes_v_critic=config['downward_hidden_sizes_v_critic'],\n",
    "            hidden_sizes_xi_critic=config['downward_hidden_sizes_xi_critic'],\n",
    "            include_bias=config['bias']\n",
    "            ).to(device) \n",
    "        for _ in range(config['num_atoms'])\n",
    "    ]\n",
    "\n",
    "    downward_optims = [\n",
    "        torch.optim.Adam(\n",
    "            dc.parameters(),\n",
    "            lr=config[\"downward_lr\"],\n",
    "            weight_decay=config[\"weight_decay\"]\n",
    "        ) \n",
    "        for dc in downward_critics\n",
    "    ]\n",
    "\n",
    "    decoupled_optimizer = torch.optim.Adam(\n",
    "        decoupled_critic.parameters(),\n",
    "        lr=config[\"decoupled_critic_lr\"],\n",
    "        weight_decay=config[\"weight_decay\"]\n",
    "    )\n",
    "\n",
    "    # TODO: figure out why only f network is being watched, I would like to keep a closer eye on the grad n params.\n",
    "    # TODO: Look at how GANs are trained with pytorch and make sure I'm not doing anything unreasonable.\n",
    "    # Eg, https://github.com/eriklindernoren/PyTorch-GAN/blob/master/implementations/gan/gan.py \n",
    "    # ^ this does not require retain_graph=True, so maybe this can be optomized somehow\n",
    "    wandb.watch(decoupled_critic, log=\"all\")\n",
    "    for dc in downward_critics:\n",
    "        wandb.watch(dc, log='all')\n",
    "\n",
    "    epochs = 5\n",
    "\n",
    "    for _ in tqdm.tqdm(range(epochs), desc='Training'):\n",
    "        for _, batch in enumerate(trainloader):\n",
    "            x0 = batch[:, 0].to(device).float()\n",
    "            x1 = batch[:, 1].to(device).float()\n",
    "\n",
    "            # update decoupled critic\n",
    "\n",
    "            v0 = feature_network(x0)\n",
    "            v1 = feature_network(x1) \n",
    "\n",
    "            decoupled_optimizer.zero_grad()\n",
    "            decoupled_scores = decoupled_critic(v0, v1)\n",
    "            decoupled_MI = estimate_mutual_information('smile', decoupled_scores, clip=config['clip'])\n",
    "            decoupled_loss = -decoupled_MI\n",
    "            decoupled_loss.backward(retain_graph=True)\n",
    "            decoupled_optimizer.step()\n",
    "\n",
    "\n",
    "            # update each downward critic \n",
    "\n",
    "            for i in range(config['num_atoms']):\n",
    "                downward_optims[i].zero_grad()\n",
    "                channel_i = x0[:, i].unsqueeze(1)\n",
    "                downward_scores = downward_critics[i](v1, channel_i)\n",
    "                downward_MI_i = estimate_mutual_information('smile', downward_scores, clip=config['clip'])\n",
    "                # add spectral norm to the loss\n",
    "                downward_loss = - downward_MI_i\n",
    "                downward_loss.backward(retain_graph=True)\n",
    "                downward_optims[i].step()\n",
    "                wandb.log({\n",
    "                    f\"downward_MI_{i}\": downward_MI_i   \n",
    "                })\n",
    "\n",
    "            # update feature network   \n",
    "\n",
    "            sum_downward_MI = 0\n",
    "\n",
    "            MIs = []\n",
    "            for i in range(config['num_atoms']):\n",
    "                channel_i = x0[:, i].unsqueeze(1)\n",
    "                downward_scores1 = downward_critics[i](v1, channel_i)\n",
    "                downward_MI = estimate_mutual_information('smile', downward_scores1, clip=config['clip'])\n",
    "                sum_downward_MI += downward_MI\n",
    "                MIs.append(downward_MI)\n",
    "            \n",
    "            min_MI_clipped = max(0, min(MIs))\n",
    "            \n",
    "            decoupled_scores1 = decoupled_critic(v0, v1)\n",
    "            decoupled_MI1 = estimate_mutual_information('smile', decoupled_scores1, clip=config['clip'])\n",
    "\n",
    "            Psi = decoupled_MI1 - sum_downward_MI + (config['num_atoms'] - 1) * min_MI_clipped\n",
    "\n",
    "            wandb.log({\n",
    "                \"decoupled_MI\": decoupled_MI1,\n",
    "                \"sum_downward_MI\": sum_downward_MI,\n",
    "                \"Psi\": Psi,\n",
    "            })\n",
    "        \n",
    "    return Psi\n",
    "\n"
   ]
  },
  {
   "cell_type": "code",
   "execution_count": 6,
   "metadata": {},
   "outputs": [
    {
     "name": "stderr",
     "output_type": "stream",
     "text": [
      "Failed to detect the name of this notebook, you can set it manually with the WANDB_NOTEBOOK_NAME environment variable to enable code saving.\n"
     ]
    },
    {
     "name": "stdout",
     "output_type": "stream",
     "text": [
      "<class '__main__.SupervenientFeatureNetwork'>\n"
     ]
    },
    {
     "name": "stderr",
     "output_type": "stream",
     "text": [
      "\u001b[34m\u001b[1mwandb\u001b[0m: Currently logged in as: \u001b[33mdmcsharry\u001b[0m. Use \u001b[1m`wandb login --relogin`\u001b[0m to force relogin\n"
     ]
    },
    {
     "data": {
      "text/html": [
       "Tracking run with wandb version 0.16.6"
      ],
      "text/plain": [
       "<IPython.core.display.HTML object>"
      ]
     },
     "metadata": {},
     "output_type": "display_data"
    },
    {
     "data": {
      "text/html": [
       "Run data is saved locally in <code>/vol/bitbucket/dm2223/info-theory-experiments/wandb/run-20240417_141131-club_first_candidate</code>"
      ],
      "text/plain": [
       "<IPython.core.display.HTML object>"
      ]
     },
     "metadata": {},
     "output_type": "display_data"
    },
    {
     "data": {
      "text/html": [
       "Syncing run <strong><a href='https://wandb.ai/dmcsharry/Finding-true-Psi-for-f/runs/club_first_candidate' target=\"_blank\">club_first_candidate</a></strong> to <a href='https://wandb.ai/dmcsharry/Finding-true-Psi-for-f' target=\"_blank\">Weights & Biases</a> (<a href='https://wandb.me/run' target=\"_blank\">docs</a>)<br/>"
      ],
      "text/plain": [
       "<IPython.core.display.HTML object>"
      ]
     },
     "metadata": {},
     "output_type": "display_data"
    },
    {
     "data": {
      "text/html": [
       " View project at <a href='https://wandb.ai/dmcsharry/Finding-true-Psi-for-f' target=\"_blank\">https://wandb.ai/dmcsharry/Finding-true-Psi-for-f</a>"
      ],
      "text/plain": [
       "<IPython.core.display.HTML object>"
      ]
     },
     "metadata": {},
     "output_type": "display_data"
    },
    {
     "data": {
      "text/html": [
       " View run at <a href='https://wandb.ai/dmcsharry/Finding-true-Psi-for-f/runs/club_first_candidate' target=\"_blank\">https://wandb.ai/dmcsharry/Finding-true-Psi-for-f/runs/club_first_candidate</a>"
      ],
      "text/plain": [
       "<IPython.core.display.HTML object>"
      ]
     },
     "metadata": {},
     "output_type": "display_data"
    },
    {
     "name": "stderr",
     "output_type": "stream",
     "text": [
      "Training:  20%|██        | 1/5 [01:20<05:20, 80.15s/it]"
     ]
    }
   ],
   "source": [
    "feature_network = SupervenientFeatureNetwork(\n",
    "    num_atoms=config['num_atoms'],\n",
    "    feature_size=config['feature_size'],\n",
    "    hidden_sizes=config['feature_network_config']['hidden_sizes'],\n",
    "    include_bias=config['feature_network_config']['include_bias']\n",
    "    ).to(device)\n",
    "\n",
    "feature_network.load_state_dict(torch.load(\"club_candidate_emergent_feature.pth\"))\n",
    "\n",
    "Psi = find_true_Psi(feature_network, \"club_first_candidate\", config)"
   ]
  },
  {
   "cell_type": "code",
   "execution_count": 12,
   "metadata": {},
   "outputs": [],
   "source": [
    "def interchannel_MI_CLUB(config):\n",
    "\n",
    "    dataset = torch.load(\"data/ecog_data_pairs.pth\")\n",
    "    trainloader = torch.utils.data.DataLoader(dataset, batch_size=config['batch_size'], shuffle=True)\n",
    "\n",
    "    wandb.init(project=\"testing-club\", config=config)\n",
    "\n",
    "\n",
    "    club = CLUB(\n",
    "        v_dim=1,\n",
    "        mu_hidden_sizes=config['club_config']['mu_hidden_sizes'],\n",
    "        logvar_hidden_sizes=config['club_config']['logvar_hidden_sizes']\n",
    "    ).to(device)\n",
    "\n",
    "\n",
    "    downward_optim = torch.optim.Adam(\n",
    "        club.parameters(),\n",
    "        lr=config['club_config']['club_lr'],\n",
    "        weight_decay=config['club_config']['weight_decay']\n",
    "    )\n",
    "\n",
    "    ##\n",
    "    ## TRAIN FEATURE NETWORK\n",
    "    ##\n",
    "\n",
    "    epochs = 10\n",
    "\n",
    "    for _ in tqdm.tqdm(range(epochs), desc='Training'):\n",
    "        for _, batch in enumerate(trainloader):\n",
    "            x0 = batch[:, 0].to(device).float()\n",
    "            x1 = batch[:, 1].to(device).float()\n",
    "\n",
    "            # each club responsible for a channel\n",
    "            i = 0\n",
    "            j = 1\n",
    "        \n",
    "            channel_i = x0[:, i].unsqueeze(1)\n",
    "            channel_j = x0[:, j].unsqueeze(1)\n",
    "            downward_optim.zero_grad()\n",
    "            club_loss = club.learning_loss(channel_j, channel_i)\n",
    "            club_loss.backward()\n",
    "            downward_optim.step()\n",
    "            wandb.log({\n",
    "                f\"club_loss\": club_loss\n",
    "            })\n",
    "            MI_channel = club(channel_j, channel_i)\n",
    "            wandb.log({\n",
    "                f\"MI_channel\": MI_channel\n",
    "            })\n",
    "\n",
    "\n"
   ]
  },
  {
   "cell_type": "code",
   "execution_count": 14,
   "metadata": {},
   "outputs": [
    {
     "data": {
      "text/html": [
       "Finishing last run (ID:w6vstp03) before initializing another..."
      ],
      "text/plain": [
       "<IPython.core.display.HTML object>"
      ]
     },
     "metadata": {},
     "output_type": "display_data"
    },
    {
     "data": {
      "text/html": [
       "<style>\n",
       "    table.wandb td:nth-child(1) { padding: 0 10px; text-align: left ; width: auto;} td:nth-child(2) {text-align: left ; width: 100%}\n",
       "    .wandb-row { display: flex; flex-direction: row; flex-wrap: wrap; justify-content: flex-start; width: 100% }\n",
       "    .wandb-col { display: flex; flex-direction: column; flex-basis: 100%; flex: 1; padding: 10px; }\n",
       "    </style>\n",
       "<div class=\"wandb-row\"><div class=\"wandb-col\"><h3>Run history:</h3><br/><table class=\"wandb\"><tr><td>MI_channel</td><td>▃▂▂▂▂▅▂▂▁▁▄▃▃▃▁▂▂▂▅▄▁▄▂█▃▂▅▆▂▂▅▁▄▃▇▂▂▄▄▂</td></tr><tr><td>club_loss</td><td>▄▂▁▁▁▁▂▂▁▂▂▂▁▂▂▂▁▂▁▁▂▁▂█▂▂▂▂▂▁▂▂▂▁▂▂▁▂▃▂</td></tr></table><br/></div><div class=\"wandb-col\"><h3>Run summary:</h3><br/><table class=\"wandb\"><tr><td>MI_channel</td><td>1.67335</td></tr><tr><td>club_loss</td><td>0.45907</td></tr></table><br/></div></div>"
      ],
      "text/plain": [
       "<IPython.core.display.HTML object>"
      ]
     },
     "metadata": {},
     "output_type": "display_data"
    },
    {
     "data": {
      "text/html": [
       " View run <strong style=\"color:#cdcd00\">misty-butterfly-10</strong> at: <a href='https://wandb.ai/dmcsharry/testing-club/runs/w6vstp03' target=\"_blank\">https://wandb.ai/dmcsharry/testing-club/runs/w6vstp03</a><br/> View project at: <a href='https://wandb.ai/dmcsharry/testing-club' target=\"_blank\">https://wandb.ai/dmcsharry/testing-club</a><br/>Synced 5 W&B file(s), 0 media file(s), 0 artifact file(s) and 0 other file(s)"
      ],
      "text/plain": [
       "<IPython.core.display.HTML object>"
      ]
     },
     "metadata": {},
     "output_type": "display_data"
    },
    {
     "data": {
      "text/html": [
       "Find logs at: <code>./wandb/run-20240416_220200-w6vstp03/logs</code>"
      ],
      "text/plain": [
       "<IPython.core.display.HTML object>"
      ]
     },
     "metadata": {},
     "output_type": "display_data"
    },
    {
     "data": {
      "text/html": [
       "Successfully finished last run (ID:w6vstp03). Initializing new run:<br/>"
      ],
      "text/plain": [
       "<IPython.core.display.HTML object>"
      ]
     },
     "metadata": {},
     "output_type": "display_data"
    },
    {
     "data": {
      "text/html": [
       "Tracking run with wandb version 0.16.6"
      ],
      "text/plain": [
       "<IPython.core.display.HTML object>"
      ]
     },
     "metadata": {},
     "output_type": "display_data"
    },
    {
     "data": {
      "text/html": [
       "Run data is saved locally in <code>/vol/bitbucket/dm2223/info-theory-experiments/wandb/run-20240416_220337-32rwz0nc</code>"
      ],
      "text/plain": [
       "<IPython.core.display.HTML object>"
      ]
     },
     "metadata": {},
     "output_type": "display_data"
    },
    {
     "data": {
      "text/html": [
       "Syncing run <strong><a href='https://wandb.ai/dmcsharry/testing-club/runs/32rwz0nc' target=\"_blank\">gentle-leaf-11</a></strong> to <a href='https://wandb.ai/dmcsharry/testing-club' target=\"_blank\">Weights & Biases</a> (<a href='https://wandb.me/run' target=\"_blank\">docs</a>)<br/>"
      ],
      "text/plain": [
       "<IPython.core.display.HTML object>"
      ]
     },
     "metadata": {},
     "output_type": "display_data"
    },
    {
     "data": {
      "text/html": [
       " View project at <a href='https://wandb.ai/dmcsharry/testing-club' target=\"_blank\">https://wandb.ai/dmcsharry/testing-club</a>"
      ],
      "text/plain": [
       "<IPython.core.display.HTML object>"
      ]
     },
     "metadata": {},
     "output_type": "display_data"
    },
    {
     "data": {
      "text/html": [
       " View run at <a href='https://wandb.ai/dmcsharry/testing-club/runs/32rwz0nc' target=\"_blank\">https://wandb.ai/dmcsharry/testing-club/runs/32rwz0nc</a>"
      ],
      "text/plain": [
       "<IPython.core.display.HTML object>"
      ]
     },
     "metadata": {},
     "output_type": "display_data"
    },
    {
     "name": "stderr",
     "output_type": "stream",
     "text": [
      "Training: 100%|██████████| 10/10 [00:14<00:00,  1.45s/it]\n"
     ]
    }
   ],
   "source": []
  },
  {
   "cell_type": "code",
   "execution_count": null,
   "metadata": {},
   "outputs": [],
   "source": []
  }
 ],
 "metadata": {
  "kernelspec": {
   "display_name": ".venv",
   "language": "python",
   "name": "python3"
  },
  "language_info": {
   "codemirror_mode": {
    "name": "ipython",
    "version": 3
   },
   "file_extension": ".py",
   "mimetype": "text/x-python",
   "name": "python",
   "nbconvert_exporter": "python",
   "pygments_lexer": "ipython3",
   "version": "3.10.12"
  }
 },
 "nbformat": 4,
 "nbformat_minor": 2
}
